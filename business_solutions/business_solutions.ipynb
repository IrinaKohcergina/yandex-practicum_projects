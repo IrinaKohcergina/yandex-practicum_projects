{
 "cells": [
  {
   "cell_type": "markdown",
   "metadata": {},
   "source": [
    "# Принятие решений в бизнесе на примере интернет-магазина"
   ]
  },
  {
   "cell_type": "markdown",
   "metadata": {},
   "source": [
    "Имеются данные о гипотезах по увеличению выручки интернет-магазина с указанными параметрами Reach, Impact, Confidence, Effort, а также файлы с результатами А/В теста."
   ]
  },
  {
   "cell_type": "markdown",
   "metadata": {},
   "source": [
    "**Задача:** приоритизировать гипотезы, запустить A/B-тест и проанализировать результаты для увеличения выручки крупного интернет-магазина. "
   ]
  },
  {
   "cell_type": "markdown",
   "metadata": {},
   "source": [
    "## Загрузка данных и подготовка их к анализу"
   ]
  },
  {
   "cell_type": "code",
   "execution_count": 5,
   "metadata": {},
   "outputs": [],
   "source": [
    "# Импортируем библиотеки\n",
    "import pandas as pd\n",
    "import numpy as np\n",
    "import datetime as dt\n",
    "import scipy.stats as stats\n",
    "import matplotlib.pyplot as plt\n",
    "from pandas.plotting import register_matplotlib_converters\n",
    "import warnings # помогает управлять нежелательными предупреждениями в программе\n",
    "# конвертеры, которые позволяют использовать типы pandas в matplotlib, обеспечивает корректное отображение данных времени на графиках  \n",
    "register_matplotlib_converters()"
   ]
  },
  {
   "cell_type": "code",
   "execution_count": 6,
   "metadata": {},
   "outputs": [],
   "source": [
    "# Загружаем данные о гипотезах, заказах и посетителях из CSV-файлов в переменные.\n",
    "try:\n",
    "    hypothesis = pd.read_csv('/datasets/hypothesis.csv') # гипотезы\n",
    "    orders = pd.read_csv('/datasets/orders.csv') # заказы\n",
    "    visitors = pd.read_csv('/datasets/visitors.csv') # посетители\n",
    "except:\n",
    "    hypothesis = pd.read_csv('https://code.s3.yandex.net/datasets/hypothesis.csv')\n",
    "    orders = pd.read_csv('https://code.s3.yandex.net/datasets/orders.csv')\n",
    "    visitors = pd.read_csv('https://code.s3.yandex.net/datasets/visitors.csv')"
   ]
  },
  {
   "cell_type": "code",
   "execution_count": 7,
   "metadata": {},
   "outputs": [
    {
     "data": {
      "text/html": [
       "<style type=\"text/css\">\n",
       "#T_d463f_row0_col0, #T_d463f_row1_col0, #T_d463f_row2_col0, #T_d463f_row3_col0, #T_d463f_row4_col0, #T_d463f_row5_col0, #T_d463f_row6_col0, #T_d463f_row7_col0, #T_d463f_row8_col0 {\n",
       "  text-align: left;\n",
       "}\n",
       "</style>\n",
       "<table id=\"T_d463f\">\n",
       "  <thead>\n",
       "    <tr>\n",
       "      <th class=\"blank level0\" >&nbsp;</th>\n",
       "      <th id=\"T_d463f_level0_col0\" class=\"col_heading level0 col0\" >Hypothesis</th>\n",
       "      <th id=\"T_d463f_level0_col1\" class=\"col_heading level0 col1\" >Reach</th>\n",
       "      <th id=\"T_d463f_level0_col2\" class=\"col_heading level0 col2\" >Impact</th>\n",
       "      <th id=\"T_d463f_level0_col3\" class=\"col_heading level0 col3\" >Confidence</th>\n",
       "      <th id=\"T_d463f_level0_col4\" class=\"col_heading level0 col4\" >Efforts</th>\n",
       "    </tr>\n",
       "  </thead>\n",
       "  <tbody>\n",
       "    <tr>\n",
       "      <th id=\"T_d463f_level0_row0\" class=\"row_heading level0 row0\" >0</th>\n",
       "      <td id=\"T_d463f_row0_col0\" class=\"data row0 col0\" >Добавить два новых канала привлечения трафика, что позволит привлекать на 30% больше пользователей</td>\n",
       "      <td id=\"T_d463f_row0_col1\" class=\"data row0 col1\" >3</td>\n",
       "      <td id=\"T_d463f_row0_col2\" class=\"data row0 col2\" >10</td>\n",
       "      <td id=\"T_d463f_row0_col3\" class=\"data row0 col3\" >8</td>\n",
       "      <td id=\"T_d463f_row0_col4\" class=\"data row0 col4\" >6</td>\n",
       "    </tr>\n",
       "    <tr>\n",
       "      <th id=\"T_d463f_level0_row1\" class=\"row_heading level0 row1\" >1</th>\n",
       "      <td id=\"T_d463f_row1_col0\" class=\"data row1 col0\" >Запустить собственную службу доставки, что сократит срок доставки заказов</td>\n",
       "      <td id=\"T_d463f_row1_col1\" class=\"data row1 col1\" >2</td>\n",
       "      <td id=\"T_d463f_row1_col2\" class=\"data row1 col2\" >5</td>\n",
       "      <td id=\"T_d463f_row1_col3\" class=\"data row1 col3\" >4</td>\n",
       "      <td id=\"T_d463f_row1_col4\" class=\"data row1 col4\" >10</td>\n",
       "    </tr>\n",
       "    <tr>\n",
       "      <th id=\"T_d463f_level0_row2\" class=\"row_heading level0 row2\" >2</th>\n",
       "      <td id=\"T_d463f_row2_col0\" class=\"data row2 col0\" >Добавить блоки рекомендаций товаров на сайт интернет магазина, чтобы повысить конверсию и средний чек заказа</td>\n",
       "      <td id=\"T_d463f_row2_col1\" class=\"data row2 col1\" >8</td>\n",
       "      <td id=\"T_d463f_row2_col2\" class=\"data row2 col2\" >3</td>\n",
       "      <td id=\"T_d463f_row2_col3\" class=\"data row2 col3\" >7</td>\n",
       "      <td id=\"T_d463f_row2_col4\" class=\"data row2 col4\" >3</td>\n",
       "    </tr>\n",
       "    <tr>\n",
       "      <th id=\"T_d463f_level0_row3\" class=\"row_heading level0 row3\" >3</th>\n",
       "      <td id=\"T_d463f_row3_col0\" class=\"data row3 col0\" >Изменить структура категорий, что увеличит конверсию, т.к. пользователи быстрее найдут нужный товар</td>\n",
       "      <td id=\"T_d463f_row3_col1\" class=\"data row3 col1\" >8</td>\n",
       "      <td id=\"T_d463f_row3_col2\" class=\"data row3 col2\" >3</td>\n",
       "      <td id=\"T_d463f_row3_col3\" class=\"data row3 col3\" >3</td>\n",
       "      <td id=\"T_d463f_row3_col4\" class=\"data row3 col4\" >8</td>\n",
       "    </tr>\n",
       "    <tr>\n",
       "      <th id=\"T_d463f_level0_row4\" class=\"row_heading level0 row4\" >4</th>\n",
       "      <td id=\"T_d463f_row4_col0\" class=\"data row4 col0\" >Изменить цвет фона главной страницы, чтобы увеличить вовлеченность пользователей</td>\n",
       "      <td id=\"T_d463f_row4_col1\" class=\"data row4 col1\" >3</td>\n",
       "      <td id=\"T_d463f_row4_col2\" class=\"data row4 col2\" >1</td>\n",
       "      <td id=\"T_d463f_row4_col3\" class=\"data row4 col3\" >1</td>\n",
       "      <td id=\"T_d463f_row4_col4\" class=\"data row4 col4\" >1</td>\n",
       "    </tr>\n",
       "    <tr>\n",
       "      <th id=\"T_d463f_level0_row5\" class=\"row_heading level0 row5\" >5</th>\n",
       "      <td id=\"T_d463f_row5_col0\" class=\"data row5 col0\" >Добавить страницу отзывов клиентов о магазине, что позволит увеличить количество заказов</td>\n",
       "      <td id=\"T_d463f_row5_col1\" class=\"data row5 col1\" >3</td>\n",
       "      <td id=\"T_d463f_row5_col2\" class=\"data row5 col2\" >2</td>\n",
       "      <td id=\"T_d463f_row5_col3\" class=\"data row5 col3\" >2</td>\n",
       "      <td id=\"T_d463f_row5_col4\" class=\"data row5 col4\" >3</td>\n",
       "    </tr>\n",
       "    <tr>\n",
       "      <th id=\"T_d463f_level0_row6\" class=\"row_heading level0 row6\" >6</th>\n",
       "      <td id=\"T_d463f_row6_col0\" class=\"data row6 col0\" >Показать на главной странице баннеры с актуальными акциями и распродажами, чтобы увеличить конверсию</td>\n",
       "      <td id=\"T_d463f_row6_col1\" class=\"data row6 col1\" >5</td>\n",
       "      <td id=\"T_d463f_row6_col2\" class=\"data row6 col2\" >3</td>\n",
       "      <td id=\"T_d463f_row6_col3\" class=\"data row6 col3\" >8</td>\n",
       "      <td id=\"T_d463f_row6_col4\" class=\"data row6 col4\" >3</td>\n",
       "    </tr>\n",
       "    <tr>\n",
       "      <th id=\"T_d463f_level0_row7\" class=\"row_heading level0 row7\" >7</th>\n",
       "      <td id=\"T_d463f_row7_col0\" class=\"data row7 col0\" >Добавить форму подписки на все основные страницы, чтобы собрать базу клиентов для email-рассылок</td>\n",
       "      <td id=\"T_d463f_row7_col1\" class=\"data row7 col1\" >10</td>\n",
       "      <td id=\"T_d463f_row7_col2\" class=\"data row7 col2\" >7</td>\n",
       "      <td id=\"T_d463f_row7_col3\" class=\"data row7 col3\" >8</td>\n",
       "      <td id=\"T_d463f_row7_col4\" class=\"data row7 col4\" >5</td>\n",
       "    </tr>\n",
       "    <tr>\n",
       "      <th id=\"T_d463f_level0_row8\" class=\"row_heading level0 row8\" >8</th>\n",
       "      <td id=\"T_d463f_row8_col0\" class=\"data row8 col0\" >Запустить акцию, дающую скидку на товар в день рождения</td>\n",
       "      <td id=\"T_d463f_row8_col1\" class=\"data row8 col1\" >1</td>\n",
       "      <td id=\"T_d463f_row8_col2\" class=\"data row8 col2\" >9</td>\n",
       "      <td id=\"T_d463f_row8_col3\" class=\"data row8 col3\" >9</td>\n",
       "      <td id=\"T_d463f_row8_col4\" class=\"data row8 col4\" >5</td>\n",
       "    </tr>\n",
       "  </tbody>\n",
       "</table>\n"
      ],
      "text/plain": [
       "<pandas.io.formats.style.Styler at 0x214a9fb6810>"
      ]
     },
     "metadata": {},
     "output_type": "display_data"
    },
    {
     "name": "stdout",
     "output_type": "stream",
     "text": [
      "<class 'pandas.core.frame.DataFrame'>\n",
      "RangeIndex: 9 entries, 0 to 8\n",
      "Data columns (total 5 columns):\n",
      " #   Column      Non-Null Count  Dtype \n",
      "---  ------      --------------  ----- \n",
      " 0   Hypothesis  9 non-null      object\n",
      " 1   Reach       9 non-null      int64 \n",
      " 2   Impact      9 non-null      int64 \n",
      " 3   Confidence  9 non-null      int64 \n",
      " 4   Efforts     9 non-null      int64 \n",
      "dtypes: int64(4), object(1)\n",
      "memory usage: 492.0+ bytes\n"
     ]
    }
   ],
   "source": [
    "pd.set_option('display.max_colwidth', None) # настройка отображения всего текста в столбцах\n",
    "\n",
    "# Применение стилей для выравнивания текста по левому краю в первом столбце\n",
    "display(hypothesis.style.set_properties(**{'text-align': 'left'}, subset=['Hypothesis']))\n",
    "\n",
    "hypothesis.info()"
   ]
  },
  {
   "cell_type": "code",
   "execution_count": 8,
   "metadata": {},
   "outputs": [
    {
     "data": {
      "text/html": [
       "<div>\n",
       "<style scoped>\n",
       "    .dataframe tbody tr th:only-of-type {\n",
       "        vertical-align: middle;\n",
       "    }\n",
       "\n",
       "    .dataframe tbody tr th {\n",
       "        vertical-align: top;\n",
       "    }\n",
       "\n",
       "    .dataframe thead th {\n",
       "        text-align: right;\n",
       "    }\n",
       "</style>\n",
       "<table border=\"1\" class=\"dataframe\">\n",
       "  <thead>\n",
       "    <tr style=\"text-align: right;\">\n",
       "      <th></th>\n",
       "      <th>transactionId</th>\n",
       "      <th>visitorId</th>\n",
       "      <th>date</th>\n",
       "      <th>revenue</th>\n",
       "      <th>group</th>\n",
       "    </tr>\n",
       "  </thead>\n",
       "  <tbody>\n",
       "    <tr>\n",
       "      <th>0</th>\n",
       "      <td>3667963787</td>\n",
       "      <td>3312258926</td>\n",
       "      <td>2019-08-15</td>\n",
       "      <td>1650</td>\n",
       "      <td>B</td>\n",
       "    </tr>\n",
       "    <tr>\n",
       "      <th>1</th>\n",
       "      <td>2804400009</td>\n",
       "      <td>3642806036</td>\n",
       "      <td>2019-08-15</td>\n",
       "      <td>730</td>\n",
       "      <td>B</td>\n",
       "    </tr>\n",
       "    <tr>\n",
       "      <th>2</th>\n",
       "      <td>2961555356</td>\n",
       "      <td>4069496402</td>\n",
       "      <td>2019-08-15</td>\n",
       "      <td>400</td>\n",
       "      <td>A</td>\n",
       "    </tr>\n",
       "    <tr>\n",
       "      <th>3</th>\n",
       "      <td>3797467345</td>\n",
       "      <td>1196621759</td>\n",
       "      <td>2019-08-15</td>\n",
       "      <td>9759</td>\n",
       "      <td>B</td>\n",
       "    </tr>\n",
       "    <tr>\n",
       "      <th>4</th>\n",
       "      <td>2282983706</td>\n",
       "      <td>2322279887</td>\n",
       "      <td>2019-08-15</td>\n",
       "      <td>2308</td>\n",
       "      <td>B</td>\n",
       "    </tr>\n",
       "  </tbody>\n",
       "</table>\n",
       "</div>"
      ],
      "text/plain": [
       "   transactionId   visitorId        date  revenue group\n",
       "0     3667963787  3312258926  2019-08-15     1650     B\n",
       "1     2804400009  3642806036  2019-08-15      730     B\n",
       "2     2961555356  4069496402  2019-08-15      400     A\n",
       "3     3797467345  1196621759  2019-08-15     9759     B\n",
       "4     2282983706  2322279887  2019-08-15     2308     B"
      ]
     },
     "metadata": {},
     "output_type": "display_data"
    },
    {
     "name": "stdout",
     "output_type": "stream",
     "text": [
      "<class 'pandas.core.frame.DataFrame'>\n",
      "RangeIndex: 1197 entries, 0 to 1196\n",
      "Data columns (total 5 columns):\n",
      " #   Column         Non-Null Count  Dtype \n",
      "---  ------         --------------  ----- \n",
      " 0   transactionId  1197 non-null   int64 \n",
      " 1   visitorId      1197 non-null   int64 \n",
      " 2   date           1197 non-null   object\n",
      " 3   revenue        1197 non-null   int64 \n",
      " 4   group          1197 non-null   object\n",
      "dtypes: int64(3), object(2)\n",
      "memory usage: 46.9+ KB\n"
     ]
    }
   ],
   "source": [
    "display(orders.head())\n",
    "orders.info()"
   ]
  },
  {
   "cell_type": "code",
   "execution_count": 9,
   "metadata": {},
   "outputs": [
    {
     "data": {
      "text/html": [
       "<div>\n",
       "<style scoped>\n",
       "    .dataframe tbody tr th:only-of-type {\n",
       "        vertical-align: middle;\n",
       "    }\n",
       "\n",
       "    .dataframe tbody tr th {\n",
       "        vertical-align: top;\n",
       "    }\n",
       "\n",
       "    .dataframe thead th {\n",
       "        text-align: right;\n",
       "    }\n",
       "</style>\n",
       "<table border=\"1\" class=\"dataframe\">\n",
       "  <thead>\n",
       "    <tr style=\"text-align: right;\">\n",
       "      <th></th>\n",
       "      <th>date</th>\n",
       "      <th>group</th>\n",
       "      <th>visitors</th>\n",
       "    </tr>\n",
       "  </thead>\n",
       "  <tbody>\n",
       "    <tr>\n",
       "      <th>0</th>\n",
       "      <td>2019-08-01</td>\n",
       "      <td>A</td>\n",
       "      <td>719</td>\n",
       "    </tr>\n",
       "    <tr>\n",
       "      <th>1</th>\n",
       "      <td>2019-08-02</td>\n",
       "      <td>A</td>\n",
       "      <td>619</td>\n",
       "    </tr>\n",
       "    <tr>\n",
       "      <th>2</th>\n",
       "      <td>2019-08-03</td>\n",
       "      <td>A</td>\n",
       "      <td>507</td>\n",
       "    </tr>\n",
       "    <tr>\n",
       "      <th>3</th>\n",
       "      <td>2019-08-04</td>\n",
       "      <td>A</td>\n",
       "      <td>717</td>\n",
       "    </tr>\n",
       "    <tr>\n",
       "      <th>4</th>\n",
       "      <td>2019-08-05</td>\n",
       "      <td>A</td>\n",
       "      <td>756</td>\n",
       "    </tr>\n",
       "  </tbody>\n",
       "</table>\n",
       "</div>"
      ],
      "text/plain": [
       "         date group  visitors\n",
       "0  2019-08-01     A       719\n",
       "1  2019-08-02     A       619\n",
       "2  2019-08-03     A       507\n",
       "3  2019-08-04     A       717\n",
       "4  2019-08-05     A       756"
      ]
     },
     "metadata": {},
     "output_type": "display_data"
    },
    {
     "name": "stdout",
     "output_type": "stream",
     "text": [
      "<class 'pandas.core.frame.DataFrame'>\n",
      "RangeIndex: 62 entries, 0 to 61\n",
      "Data columns (total 3 columns):\n",
      " #   Column    Non-Null Count  Dtype \n",
      "---  ------    --------------  ----- \n",
      " 0   date      62 non-null     object\n",
      " 1   group     62 non-null     object\n",
      " 2   visitors  62 non-null     int64 \n",
      "dtypes: int64(1), object(2)\n",
      "memory usage: 1.6+ KB\n"
     ]
    }
   ],
   "source": [
    "display(visitors.head())\n",
    "visitors.info()"
   ]
  },
  {
   "cell_type": "markdown",
   "metadata": {},
   "source": [
    "Пропусков в строках всех датафреймов не обнаружено.\n",
    "Названия столбцов датафреймов содержат заглавные буквы, приведем их к стандартному виду."
   ]
  },
  {
   "cell_type": "code",
   "execution_count": 11,
   "metadata": {},
   "outputs": [
    {
     "data": {
      "text/plain": [
       "Index(['hypothesis', 'reach', 'impact', 'confidence', 'efforts'], dtype='object')"
      ]
     },
     "metadata": {},
     "output_type": "display_data"
    },
    {
     "data": {
      "text/plain": [
       "Index(['transactionid', 'visitorid', 'date', 'revenue', 'group'], dtype='object')"
      ]
     },
     "metadata": {},
     "output_type": "display_data"
    }
   ],
   "source": [
    "#замена заглавных букв на строчные\n",
    "hypothesis.columns = hypothesis.columns.str.lower()\n",
    "orders.columns = orders.columns.str.lower()\n",
    "\n",
    "# проверка стиля написания в наименовании столбцов\n",
    "display(hypothesis.columns, orders.columns) "
   ]
  },
  {
   "cell_type": "markdown",
   "metadata": {},
   "source": [
    "Типы данных во всех колонках соответствуют сохранённым в них значениям, кроме столбцов с датой.\n",
    "Приведем их к формату datetime64 вместо object"
   ]
  },
  {
   "cell_type": "code",
   "execution_count": 13,
   "metadata": {},
   "outputs": [],
   "source": [
    "orders['date'] = pd.to_datetime(orders['date'])\n",
    "visitors['date'] = pd.to_datetime(visitors['date'])"
   ]
  },
  {
   "cell_type": "code",
   "execution_count": 14,
   "metadata": {},
   "outputs": [
    {
     "data": {
      "text/plain": [
       "transactionid             int64\n",
       "visitorid                 int64\n",
       "date             datetime64[ns]\n",
       "revenue                   int64\n",
       "group                    object\n",
       "dtype: object"
      ]
     },
     "metadata": {},
     "output_type": "display_data"
    },
    {
     "data": {
      "text/plain": [
       "date        datetime64[ns]\n",
       "group               object\n",
       "visitors             int64\n",
       "dtype: object"
      ]
     },
     "metadata": {},
     "output_type": "display_data"
    }
   ],
   "source": [
    "display(orders.dtypes, visitors.dtypes) # убедимся, что типы столбцов соответствут их значениям"
   ]
  },
  {
   "cell_type": "code",
   "execution_count": 15,
   "metadata": {},
   "outputs": [
    {
     "data": {
      "text/plain": [
       "0"
      ]
     },
     "metadata": {},
     "output_type": "display_data"
    },
    {
     "data": {
      "text/plain": [
       "0"
      ]
     },
     "metadata": {},
     "output_type": "display_data"
    }
   ],
   "source": [
    "# Проверим датафреймы orders и visitors на наличие дубликатов\n",
    "display(orders.duplicated().sum(), \n",
    "       visitors.duplicated().sum())"
   ]
  },
  {
   "cell_type": "markdown",
   "metadata": {},
   "source": [
    "Явных дубликатов не обнаружено."
   ]
  },
  {
   "cell_type": "markdown",
   "metadata": {},
   "source": [
    "Проверим, есть ли пользователи, оказавшиеся одновременно в двух группах."
   ]
  },
  {
   "cell_type": "code",
   "execution_count": 18,
   "metadata": {},
   "outputs": [
    {
     "name": "stdout",
     "output_type": "stream",
     "text": [
      "В группе \"А\" 503 уникальных пользователя, в группе \"В\" 586 уникальных пользователей.\n"
     ]
    }
   ],
   "source": [
    "# Разделим данные таблицы orders на группы А и В\n",
    "ordersA = orders[orders['group']=='A']\n",
    "ordersB = orders[orders['group']=='B']\n",
    "# Посчитаем количество уникальных пользователей по группам\n",
    "print('В группе \"А\"', ordersA['visitorid'].nunique(), \n",
    "      'уникальных пользователя, в группе \"В\"', ordersB['visitorid'].nunique(), 'уникальных пользователей.')"
   ]
  },
  {
   "cell_type": "code",
   "execution_count": 19,
   "metadata": {},
   "outputs": [
    {
     "data": {
      "text/plain": [
       "array([4069496402,  199603092, 3803269165, 2378935119,  237748145,\n",
       "       4256040402, 2038680547, 1738359350, 2458001652, 3891541246,\n",
       "       2716752286, 3656415546, 2686716486, 2954449915, 2927087541,\n",
       "       3234906277,  457167155, 2579882178, 3957174400, 1648269707,\n",
       "       2780786433,  818047933, 2044997962, 1959144690, 3202540741,\n",
       "       1333886533,  351125977, 3951559397,  393266494, 3984495233,\n",
       "       4120364173, 4266935830, 1230306981, 1294878855, 1614305549,\n",
       "          8300375,  477780734, 1668030113, 3717692402, 3766097110,\n",
       "       3941795274,  471551937, 1316129916, 1801183820, 1602967004,\n",
       "       2587333274, 2600415354,  232979603, 3972127743, 1404934699,\n",
       "        276558944, 3062433592, 2654030115, 3963646447, 4186807279,\n",
       "       2712142231, 2949041841,  963407295], dtype=int64)"
      ]
     },
     "metadata": {},
     "output_type": "display_data"
    },
    {
     "name": "stdout",
     "output_type": "stream",
     "text": [
      "Количество пользователей, попавших в обе группы: 58\n"
     ]
    }
   ],
   "source": [
    "# Выбираем пользователей, попавших в обе группы\n",
    "users_in_both_groups = pd.merge(ordersA, ordersB, on='visitorid', how='inner')['visitorid'].unique()\n",
    "display(users_in_both_groups)\n",
    "print('Количество пользователей, попавших в обе группы:', users_in_both_groups.shape[0]) "
   ]
  },
  {
   "cell_type": "markdown",
   "metadata": {},
   "source": [
    "Удалим этих пользователей из обеих групп, чтобы избежать повторной ошибки логирования"
   ]
  },
  {
   "cell_type": "code",
   "execution_count": 21,
   "metadata": {},
   "outputs": [],
   "source": [
    "orders = orders[~orders['visitorid'].isin(users_in_both_groups)]"
   ]
  },
  {
   "cell_type": "code",
   "execution_count": 22,
   "metadata": {
    "scrolled": true
   },
   "outputs": [
    {
     "name": "stdout",
     "output_type": "stream",
     "text": [
      "В группе \"А\" 445 уникальных пользователя, в группе \"В\" 528 уникальных пользователей.\n"
     ]
    }
   ],
   "source": [
    "# Посчитаем количество уникальных пользователей по группам, их должно быть на 58 меньше\n",
    "ordersA = orders[orders['group']=='A']\n",
    "ordersB = orders[orders['group']=='B']\n",
    "print('В группе \"А\"', ordersA['visitorid'].nunique(), \n",
    "      'уникальных пользователя, в группе \"В\"', ordersB['visitorid'].nunique(), 'уникальных пользователей.')"
   ]
  },
  {
   "cell_type": "markdown",
   "metadata": {},
   "source": [
    "***Датасеты подготовлены к работе: названия всех колонок записаны в едином стиле, пропуски и дубликаты отсутствуют, типы данных во всех колонках соответствуют сохранённым в них значениям, пересечений групп нет.***"
   ]
  },
  {
   "cell_type": "markdown",
   "metadata": {},
   "source": [
    "## Приоритизация гипотез."
   ]
  },
  {
   "cell_type": "code",
   "execution_count": 25,
   "metadata": {},
   "outputs": [
    {
     "data": {
      "text/html": [
       "<style type=\"text/css\">\n",
       "#T_57150_row0_col0, #T_57150_row1_col0, #T_57150_row2_col0, #T_57150_row3_col0, #T_57150_row4_col0, #T_57150_row5_col0, #T_57150_row6_col0, #T_57150_row7_col0, #T_57150_row8_col0 {\n",
       "  text-align: left;\n",
       "}\n",
       "</style>\n",
       "<table id=\"T_57150\">\n",
       "  <thead>\n",
       "    <tr>\n",
       "      <th class=\"blank level0\" >&nbsp;</th>\n",
       "      <th id=\"T_57150_level0_col0\" class=\"col_heading level0 col0\" >hypothesis</th>\n",
       "      <th id=\"T_57150_level0_col1\" class=\"col_heading level0 col1\" >reach</th>\n",
       "      <th id=\"T_57150_level0_col2\" class=\"col_heading level0 col2\" >impact</th>\n",
       "      <th id=\"T_57150_level0_col3\" class=\"col_heading level0 col3\" >confidence</th>\n",
       "      <th id=\"T_57150_level0_col4\" class=\"col_heading level0 col4\" >efforts</th>\n",
       "    </tr>\n",
       "  </thead>\n",
       "  <tbody>\n",
       "    <tr>\n",
       "      <th id=\"T_57150_level0_row0\" class=\"row_heading level0 row0\" >0</th>\n",
       "      <td id=\"T_57150_row0_col0\" class=\"data row0 col0\" >Добавить два новых канала привлечения трафика, что позволит привлекать на 30% больше пользователей</td>\n",
       "      <td id=\"T_57150_row0_col1\" class=\"data row0 col1\" >3</td>\n",
       "      <td id=\"T_57150_row0_col2\" class=\"data row0 col2\" >10</td>\n",
       "      <td id=\"T_57150_row0_col3\" class=\"data row0 col3\" >8</td>\n",
       "      <td id=\"T_57150_row0_col4\" class=\"data row0 col4\" >6</td>\n",
       "    </tr>\n",
       "    <tr>\n",
       "      <th id=\"T_57150_level0_row1\" class=\"row_heading level0 row1\" >1</th>\n",
       "      <td id=\"T_57150_row1_col0\" class=\"data row1 col0\" >Запустить собственную службу доставки, что сократит срок доставки заказов</td>\n",
       "      <td id=\"T_57150_row1_col1\" class=\"data row1 col1\" >2</td>\n",
       "      <td id=\"T_57150_row1_col2\" class=\"data row1 col2\" >5</td>\n",
       "      <td id=\"T_57150_row1_col3\" class=\"data row1 col3\" >4</td>\n",
       "      <td id=\"T_57150_row1_col4\" class=\"data row1 col4\" >10</td>\n",
       "    </tr>\n",
       "    <tr>\n",
       "      <th id=\"T_57150_level0_row2\" class=\"row_heading level0 row2\" >2</th>\n",
       "      <td id=\"T_57150_row2_col0\" class=\"data row2 col0\" >Добавить блоки рекомендаций товаров на сайт интернет магазина, чтобы повысить конверсию и средний чек заказа</td>\n",
       "      <td id=\"T_57150_row2_col1\" class=\"data row2 col1\" >8</td>\n",
       "      <td id=\"T_57150_row2_col2\" class=\"data row2 col2\" >3</td>\n",
       "      <td id=\"T_57150_row2_col3\" class=\"data row2 col3\" >7</td>\n",
       "      <td id=\"T_57150_row2_col4\" class=\"data row2 col4\" >3</td>\n",
       "    </tr>\n",
       "    <tr>\n",
       "      <th id=\"T_57150_level0_row3\" class=\"row_heading level0 row3\" >3</th>\n",
       "      <td id=\"T_57150_row3_col0\" class=\"data row3 col0\" >Изменить структура категорий, что увеличит конверсию, т.к. пользователи быстрее найдут нужный товар</td>\n",
       "      <td id=\"T_57150_row3_col1\" class=\"data row3 col1\" >8</td>\n",
       "      <td id=\"T_57150_row3_col2\" class=\"data row3 col2\" >3</td>\n",
       "      <td id=\"T_57150_row3_col3\" class=\"data row3 col3\" >3</td>\n",
       "      <td id=\"T_57150_row3_col4\" class=\"data row3 col4\" >8</td>\n",
       "    </tr>\n",
       "    <tr>\n",
       "      <th id=\"T_57150_level0_row4\" class=\"row_heading level0 row4\" >4</th>\n",
       "      <td id=\"T_57150_row4_col0\" class=\"data row4 col0\" >Изменить цвет фона главной страницы, чтобы увеличить вовлеченность пользователей</td>\n",
       "      <td id=\"T_57150_row4_col1\" class=\"data row4 col1\" >3</td>\n",
       "      <td id=\"T_57150_row4_col2\" class=\"data row4 col2\" >1</td>\n",
       "      <td id=\"T_57150_row4_col3\" class=\"data row4 col3\" >1</td>\n",
       "      <td id=\"T_57150_row4_col4\" class=\"data row4 col4\" >1</td>\n",
       "    </tr>\n",
       "    <tr>\n",
       "      <th id=\"T_57150_level0_row5\" class=\"row_heading level0 row5\" >5</th>\n",
       "      <td id=\"T_57150_row5_col0\" class=\"data row5 col0\" >Добавить страницу отзывов клиентов о магазине, что позволит увеличить количество заказов</td>\n",
       "      <td id=\"T_57150_row5_col1\" class=\"data row5 col1\" >3</td>\n",
       "      <td id=\"T_57150_row5_col2\" class=\"data row5 col2\" >2</td>\n",
       "      <td id=\"T_57150_row5_col3\" class=\"data row5 col3\" >2</td>\n",
       "      <td id=\"T_57150_row5_col4\" class=\"data row5 col4\" >3</td>\n",
       "    </tr>\n",
       "    <tr>\n",
       "      <th id=\"T_57150_level0_row6\" class=\"row_heading level0 row6\" >6</th>\n",
       "      <td id=\"T_57150_row6_col0\" class=\"data row6 col0\" >Показать на главной странице баннеры с актуальными акциями и распродажами, чтобы увеличить конверсию</td>\n",
       "      <td id=\"T_57150_row6_col1\" class=\"data row6 col1\" >5</td>\n",
       "      <td id=\"T_57150_row6_col2\" class=\"data row6 col2\" >3</td>\n",
       "      <td id=\"T_57150_row6_col3\" class=\"data row6 col3\" >8</td>\n",
       "      <td id=\"T_57150_row6_col4\" class=\"data row6 col4\" >3</td>\n",
       "    </tr>\n",
       "    <tr>\n",
       "      <th id=\"T_57150_level0_row7\" class=\"row_heading level0 row7\" >7</th>\n",
       "      <td id=\"T_57150_row7_col0\" class=\"data row7 col0\" >Добавить форму подписки на все основные страницы, чтобы собрать базу клиентов для email-рассылок</td>\n",
       "      <td id=\"T_57150_row7_col1\" class=\"data row7 col1\" >10</td>\n",
       "      <td id=\"T_57150_row7_col2\" class=\"data row7 col2\" >7</td>\n",
       "      <td id=\"T_57150_row7_col3\" class=\"data row7 col3\" >8</td>\n",
       "      <td id=\"T_57150_row7_col4\" class=\"data row7 col4\" >5</td>\n",
       "    </tr>\n",
       "    <tr>\n",
       "      <th id=\"T_57150_level0_row8\" class=\"row_heading level0 row8\" >8</th>\n",
       "      <td id=\"T_57150_row8_col0\" class=\"data row8 col0\" >Запустить акцию, дающую скидку на товар в день рождения</td>\n",
       "      <td id=\"T_57150_row8_col1\" class=\"data row8 col1\" >1</td>\n",
       "      <td id=\"T_57150_row8_col2\" class=\"data row8 col2\" >9</td>\n",
       "      <td id=\"T_57150_row8_col3\" class=\"data row8 col3\" >9</td>\n",
       "      <td id=\"T_57150_row8_col4\" class=\"data row8 col4\" >5</td>\n",
       "    </tr>\n",
       "  </tbody>\n",
       "</table>\n"
      ],
      "text/plain": [
       "<pandas.io.formats.style.Styler at 0x214abd5b550>"
      ]
     },
     "execution_count": 25,
     "metadata": {},
     "output_type": "execute_result"
    }
   ],
   "source": [
    "hypothesis.style.set_properties(**{'text-align': 'left'}, subset=['hypothesis'])"
   ]
  },
  {
   "cell_type": "markdown",
   "metadata": {},
   "source": [
    "Применим фреймворк ICE для приоритизации гипотез. "
   ]
  },
  {
   "cell_type": "code",
   "execution_count": 27,
   "metadata": {},
   "outputs": [
    {
     "data": {
      "text/html": [
       "<style type=\"text/css\">\n",
       "#T_c2108_row0_col0, #T_c2108_row1_col0, #T_c2108_row2_col0, #T_c2108_row3_col0, #T_c2108_row4_col0, #T_c2108_row5_col0, #T_c2108_row6_col0, #T_c2108_row7_col0, #T_c2108_row8_col0 {\n",
       "  text-align: left;\n",
       "}\n",
       "</style>\n",
       "<table id=\"T_c2108\">\n",
       "  <thead>\n",
       "    <tr>\n",
       "      <th class=\"blank level0\" >&nbsp;</th>\n",
       "      <th id=\"T_c2108_level0_col0\" class=\"col_heading level0 col0\" >hypothesis</th>\n",
       "      <th id=\"T_c2108_level0_col1\" class=\"col_heading level0 col1\" >ICE</th>\n",
       "    </tr>\n",
       "  </thead>\n",
       "  <tbody>\n",
       "    <tr>\n",
       "      <th id=\"T_c2108_level0_row0\" class=\"row_heading level0 row0\" >8</th>\n",
       "      <td id=\"T_c2108_row0_col0\" class=\"data row0 col0\" >Запустить акцию, дающую скидку на товар в день рождения</td>\n",
       "      <td id=\"T_c2108_row0_col1\" class=\"data row0 col1\" >16.200</td>\n",
       "    </tr>\n",
       "    <tr>\n",
       "      <th id=\"T_c2108_level0_row1\" class=\"row_heading level0 row1\" >0</th>\n",
       "      <td id=\"T_c2108_row1_col0\" class=\"data row1 col0\" >Добавить два новых канала привлечения трафика, что позволит привлекать на 30% больше пользователей</td>\n",
       "      <td id=\"T_c2108_row1_col1\" class=\"data row1 col1\" >13.333</td>\n",
       "    </tr>\n",
       "    <tr>\n",
       "      <th id=\"T_c2108_level0_row2\" class=\"row_heading level0 row2\" >7</th>\n",
       "      <td id=\"T_c2108_row2_col0\" class=\"data row2 col0\" >Добавить форму подписки на все основные страницы, чтобы собрать базу клиентов для email-рассылок</td>\n",
       "      <td id=\"T_c2108_row2_col1\" class=\"data row2 col1\" >11.200</td>\n",
       "    </tr>\n",
       "    <tr>\n",
       "      <th id=\"T_c2108_level0_row3\" class=\"row_heading level0 row3\" >6</th>\n",
       "      <td id=\"T_c2108_row3_col0\" class=\"data row3 col0\" >Показать на главной странице баннеры с актуальными акциями и распродажами, чтобы увеличить конверсию</td>\n",
       "      <td id=\"T_c2108_row3_col1\" class=\"data row3 col1\" >8.000</td>\n",
       "    </tr>\n",
       "    <tr>\n",
       "      <th id=\"T_c2108_level0_row4\" class=\"row_heading level0 row4\" >2</th>\n",
       "      <td id=\"T_c2108_row4_col0\" class=\"data row4 col0\" >Добавить блоки рекомендаций товаров на сайт интернет магазина, чтобы повысить конверсию и средний чек заказа</td>\n",
       "      <td id=\"T_c2108_row4_col1\" class=\"data row4 col1\" >7.000</td>\n",
       "    </tr>\n",
       "    <tr>\n",
       "      <th id=\"T_c2108_level0_row5\" class=\"row_heading level0 row5\" >1</th>\n",
       "      <td id=\"T_c2108_row5_col0\" class=\"data row5 col0\" >Запустить собственную службу доставки, что сократит срок доставки заказов</td>\n",
       "      <td id=\"T_c2108_row5_col1\" class=\"data row5 col1\" >2.000</td>\n",
       "    </tr>\n",
       "    <tr>\n",
       "      <th id=\"T_c2108_level0_row6\" class=\"row_heading level0 row6\" >5</th>\n",
       "      <td id=\"T_c2108_row6_col0\" class=\"data row6 col0\" >Добавить страницу отзывов клиентов о магазине, что позволит увеличить количество заказов</td>\n",
       "      <td id=\"T_c2108_row6_col1\" class=\"data row6 col1\" >1.333</td>\n",
       "    </tr>\n",
       "    <tr>\n",
       "      <th id=\"T_c2108_level0_row7\" class=\"row_heading level0 row7\" >3</th>\n",
       "      <td id=\"T_c2108_row7_col0\" class=\"data row7 col0\" >Изменить структура категорий, что увеличит конверсию, т.к. пользователи быстрее найдут нужный товар</td>\n",
       "      <td id=\"T_c2108_row7_col1\" class=\"data row7 col1\" >1.125</td>\n",
       "    </tr>\n",
       "    <tr>\n",
       "      <th id=\"T_c2108_level0_row8\" class=\"row_heading level0 row8\" >4</th>\n",
       "      <td id=\"T_c2108_row8_col0\" class=\"data row8 col0\" >Изменить цвет фона главной страницы, чтобы увеличить вовлеченность пользователей</td>\n",
       "      <td id=\"T_c2108_row8_col1\" class=\"data row8 col1\" >1.000</td>\n",
       "    </tr>\n",
       "  </tbody>\n",
       "</table>\n"
      ],
      "text/plain": [
       "<pandas.io.formats.style.Styler at 0x214abd691d0>"
      ]
     },
     "execution_count": 27,
     "metadata": {},
     "output_type": "execute_result"
    }
   ],
   "source": [
    "hypothesis['ICE'] = hypothesis['impact'] * hypothesis['confidence'] / hypothesis['efforts']\n",
    "\n",
    "# Cортируем гипотезы по убыванию приоритета\n",
    "sort_hypothesis = hypothesis[['hypothesis', 'ICE']].sort_values(by='ICE', ascending=False)\n",
    "\n",
    "# Применение стилей для выравнивания текста по левому краю и округление до 3х знаков после запятой\n",
    "sort_hypothesis.style.format({'ICE': '{:.3f}'}).set_properties(**{'text-align': 'left'}, subset=['hypothesis'])"
   ]
  },
  {
   "cell_type": "markdown",
   "metadata": {},
   "source": [
    "***Наиболее перспективные гипотезы по ICE:   \n",
    "    1. Запустить акцию, дающую скидку на товар в день рождения;  \n",
    "    2. Добавить два новых канала привлечения трафика, что позволит привлекать на 30% больше пользователей;  \n",
    "    3. Добавить форму подписки на все основные страницы, чтобы собрать базу клиентов для email-рассылок.***  \n",
    "  \n",
    "Средний приоритет у гипотез по ICE:  \n",
    "    4. Показать на главной странице баннеры с актуальными акциями и распродажами, чтобы увеличить конверсию;  \n",
    "    5. Добавить блоки рекомендаций товаров на сайт интернет магазина, чтобы повысить конверсию и средний чек заказа."
   ]
  },
  {
   "cell_type": "markdown",
   "metadata": {},
   "source": [
    "Применим фреймворк RICE для приоритизации гипотез. "
   ]
  },
  {
   "cell_type": "code",
   "execution_count": 30,
   "metadata": {},
   "outputs": [
    {
     "data": {
      "text/html": [
       "<style type=\"text/css\">\n",
       "#T_1829a_row0_col0, #T_1829a_row1_col0, #T_1829a_row2_col0, #T_1829a_row3_col0, #T_1829a_row4_col0, #T_1829a_row5_col0, #T_1829a_row6_col0, #T_1829a_row7_col0, #T_1829a_row8_col0 {\n",
       "  text-align: left;\n",
       "}\n",
       "</style>\n",
       "<table id=\"T_1829a\">\n",
       "  <thead>\n",
       "    <tr>\n",
       "      <th class=\"blank level0\" >&nbsp;</th>\n",
       "      <th id=\"T_1829a_level0_col0\" class=\"col_heading level0 col0\" >hypothesis</th>\n",
       "      <th id=\"T_1829a_level0_col1\" class=\"col_heading level0 col1\" >RICE</th>\n",
       "    </tr>\n",
       "  </thead>\n",
       "  <tbody>\n",
       "    <tr>\n",
       "      <th id=\"T_1829a_level0_row0\" class=\"row_heading level0 row0\" >7</th>\n",
       "      <td id=\"T_1829a_row0_col0\" class=\"data row0 col0\" >Добавить форму подписки на все основные страницы, чтобы собрать базу клиентов для email-рассылок</td>\n",
       "      <td id=\"T_1829a_row0_col1\" class=\"data row0 col1\" >112.000</td>\n",
       "    </tr>\n",
       "    <tr>\n",
       "      <th id=\"T_1829a_level0_row1\" class=\"row_heading level0 row1\" >2</th>\n",
       "      <td id=\"T_1829a_row1_col0\" class=\"data row1 col0\" >Добавить блоки рекомендаций товаров на сайт интернет магазина, чтобы повысить конверсию и средний чек заказа</td>\n",
       "      <td id=\"T_1829a_row1_col1\" class=\"data row1 col1\" >56.000</td>\n",
       "    </tr>\n",
       "    <tr>\n",
       "      <th id=\"T_1829a_level0_row2\" class=\"row_heading level0 row2\" >0</th>\n",
       "      <td id=\"T_1829a_row2_col0\" class=\"data row2 col0\" >Добавить два новых канала привлечения трафика, что позволит привлекать на 30% больше пользователей</td>\n",
       "      <td id=\"T_1829a_row2_col1\" class=\"data row2 col1\" >40.000</td>\n",
       "    </tr>\n",
       "    <tr>\n",
       "      <th id=\"T_1829a_level0_row3\" class=\"row_heading level0 row3\" >6</th>\n",
       "      <td id=\"T_1829a_row3_col0\" class=\"data row3 col0\" >Показать на главной странице баннеры с актуальными акциями и распродажами, чтобы увеличить конверсию</td>\n",
       "      <td id=\"T_1829a_row3_col1\" class=\"data row3 col1\" >40.000</td>\n",
       "    </tr>\n",
       "    <tr>\n",
       "      <th id=\"T_1829a_level0_row4\" class=\"row_heading level0 row4\" >8</th>\n",
       "      <td id=\"T_1829a_row4_col0\" class=\"data row4 col0\" >Запустить акцию, дающую скидку на товар в день рождения</td>\n",
       "      <td id=\"T_1829a_row4_col1\" class=\"data row4 col1\" >16.200</td>\n",
       "    </tr>\n",
       "    <tr>\n",
       "      <th id=\"T_1829a_level0_row5\" class=\"row_heading level0 row5\" >3</th>\n",
       "      <td id=\"T_1829a_row5_col0\" class=\"data row5 col0\" >Изменить структура категорий, что увеличит конверсию, т.к. пользователи быстрее найдут нужный товар</td>\n",
       "      <td id=\"T_1829a_row5_col1\" class=\"data row5 col1\" >9.000</td>\n",
       "    </tr>\n",
       "    <tr>\n",
       "      <th id=\"T_1829a_level0_row6\" class=\"row_heading level0 row6\" >1</th>\n",
       "      <td id=\"T_1829a_row6_col0\" class=\"data row6 col0\" >Запустить собственную службу доставки, что сократит срок доставки заказов</td>\n",
       "      <td id=\"T_1829a_row6_col1\" class=\"data row6 col1\" >4.000</td>\n",
       "    </tr>\n",
       "    <tr>\n",
       "      <th id=\"T_1829a_level0_row7\" class=\"row_heading level0 row7\" >5</th>\n",
       "      <td id=\"T_1829a_row7_col0\" class=\"data row7 col0\" >Добавить страницу отзывов клиентов о магазине, что позволит увеличить количество заказов</td>\n",
       "      <td id=\"T_1829a_row7_col1\" class=\"data row7 col1\" >4.000</td>\n",
       "    </tr>\n",
       "    <tr>\n",
       "      <th id=\"T_1829a_level0_row8\" class=\"row_heading level0 row8\" >4</th>\n",
       "      <td id=\"T_1829a_row8_col0\" class=\"data row8 col0\" >Изменить цвет фона главной страницы, чтобы увеличить вовлеченность пользователей</td>\n",
       "      <td id=\"T_1829a_row8_col1\" class=\"data row8 col1\" >3.000</td>\n",
       "    </tr>\n",
       "  </tbody>\n",
       "</table>\n"
      ],
      "text/plain": [
       "<pandas.io.formats.style.Styler at 0x214abd58c10>"
      ]
     },
     "execution_count": 30,
     "metadata": {},
     "output_type": "execute_result"
    }
   ],
   "source": [
    "hypothesis['RICE'] = hypothesis['reach'] * hypothesis['impact'] * hypothesis['confidence'] / hypothesis['efforts']\n",
    "\n",
    "# Cортируем гипотезы по убыванию приоритета\n",
    "sort_hypothesis = hypothesis[['hypothesis', 'RICE']].sort_values(by='RICE', ascending=False)\n",
    "\n",
    "# Применение стилей для выравнивания текста по левому краю и округление до 3х знаков после запятой\n",
    "sort_hypothesis.style.format({'RICE': '{:.3f}'}).set_properties(**{'text-align': 'left'}, subset=['hypothesis'])"
   ]
  },
  {
   "cell_type": "markdown",
   "metadata": {},
   "source": [
    "***Наиболее перспективные гипотезы по RICE:   \n",
    "        1. Добавить форму подписки на все основные страницы, чтобы собрать базу клиентов для email-рассылок.  \n",
    "        2. Добавить блоки рекомендаций товаров на сайт интернет магазина, чтобы повысить конверсию и средний чек заказа;  \n",
    "        3. Добавить два новых канала привлечения трафика, что позволит привлекать на 30% больше пользователей.***  \n",
    "  \n",
    "Средний приоритет у гипотез по RICE:  \n",
    "        4. Показать на главной странице баннеры с актуальными акциями и распродажами, чтобы увеличить конверсию;  \n",
    "        5. Запустить акцию, дающую скидку на товар в день рождения."
   ]
  },
  {
   "cell_type": "markdown",
   "metadata": {},
   "source": [
    "***В тройку наиболее приоритетных гипотез как по ICE, так и по RICE вошли две гипотезы:*** \n",
    "- ***Добавить два новых канала привлечения трафика, что позволит привлекать на 30% больше пользователей;***\n",
    "- ***Добавить форму подписки на все основные страницы, чтобы собрать базу клиентов для email-рассылок.***\n",
    "  \n",
    "На первое место в приоритете по RICE вышла гипотеза \"Добавить форму подписки на все основные страницы, чтобы собрать базу клиентов для email-рассылок\", которая была третьей по ICE. Она затронет большее количество пользователей, так как её параметр `reach` 10 - максимально возможный.    \n",
    "\n",
    "Лидирующая по ICE гипотеза \"Запустить акцию, дающую скидку на товар в день рождения\" оказалась лишь на 5-м месте в приоритете по RICE, т.к. затрагивает минимальное число клиентов (параметр `reach` равен 1).  \n",
    "\n",
    "Гипотеза \"Добавить два новых канала привлечения трафика, что позволит привлекать на 30% больше пользователей\" оказалась наиболее стабильной и по ICE (2 приоритет) и по RICE (3 приоритет). Её стоит обязательно протестировать."
   ]
  },
  {
   "cell_type": "markdown",
   "metadata": {},
   "source": [
    "## Анализ A/B-теста"
   ]
  },
  {
   "cell_type": "code",
   "execution_count": 34,
   "metadata": {},
   "outputs": [
    {
     "data": {
      "text/html": [
       "<div>\n",
       "<style scoped>\n",
       "    .dataframe tbody tr th:only-of-type {\n",
       "        vertical-align: middle;\n",
       "    }\n",
       "\n",
       "    .dataframe tbody tr th {\n",
       "        vertical-align: top;\n",
       "    }\n",
       "\n",
       "    .dataframe thead th {\n",
       "        text-align: right;\n",
       "    }\n",
       "</style>\n",
       "<table border=\"1\" class=\"dataframe\">\n",
       "  <thead>\n",
       "    <tr style=\"text-align: right;\">\n",
       "      <th></th>\n",
       "      <th>transactionid</th>\n",
       "      <th>visitorid</th>\n",
       "      <th>date</th>\n",
       "      <th>revenue</th>\n",
       "      <th>group</th>\n",
       "    </tr>\n",
       "  </thead>\n",
       "  <tbody>\n",
       "    <tr>\n",
       "      <th>0</th>\n",
       "      <td>3667963787</td>\n",
       "      <td>3312258926</td>\n",
       "      <td>2019-08-15</td>\n",
       "      <td>1650</td>\n",
       "      <td>B</td>\n",
       "    </tr>\n",
       "    <tr>\n",
       "      <th>1</th>\n",
       "      <td>2804400009</td>\n",
       "      <td>3642806036</td>\n",
       "      <td>2019-08-15</td>\n",
       "      <td>730</td>\n",
       "      <td>B</td>\n",
       "    </tr>\n",
       "    <tr>\n",
       "      <th>3</th>\n",
       "      <td>3797467345</td>\n",
       "      <td>1196621759</td>\n",
       "      <td>2019-08-15</td>\n",
       "      <td>9759</td>\n",
       "      <td>B</td>\n",
       "    </tr>\n",
       "    <tr>\n",
       "      <th>4</th>\n",
       "      <td>2282983706</td>\n",
       "      <td>2322279887</td>\n",
       "      <td>2019-08-15</td>\n",
       "      <td>2308</td>\n",
       "      <td>B</td>\n",
       "    </tr>\n",
       "    <tr>\n",
       "      <th>5</th>\n",
       "      <td>182168103</td>\n",
       "      <td>935554773</td>\n",
       "      <td>2019-08-15</td>\n",
       "      <td>2210</td>\n",
       "      <td>B</td>\n",
       "    </tr>\n",
       "  </tbody>\n",
       "</table>\n",
       "</div>"
      ],
      "text/plain": [
       "   transactionid   visitorid       date  revenue group\n",
       "0     3667963787  3312258926 2019-08-15     1650     B\n",
       "1     2804400009  3642806036 2019-08-15      730     B\n",
       "3     3797467345  1196621759 2019-08-15     9759     B\n",
       "4     2282983706  2322279887 2019-08-15     2308     B\n",
       "5      182168103   935554773 2019-08-15     2210     B"
      ]
     },
     "metadata": {},
     "output_type": "display_data"
    },
    {
     "data": {
      "text/html": [
       "<div>\n",
       "<style scoped>\n",
       "    .dataframe tbody tr th:only-of-type {\n",
       "        vertical-align: middle;\n",
       "    }\n",
       "\n",
       "    .dataframe tbody tr th {\n",
       "        vertical-align: top;\n",
       "    }\n",
       "\n",
       "    .dataframe thead th {\n",
       "        text-align: right;\n",
       "    }\n",
       "</style>\n",
       "<table border=\"1\" class=\"dataframe\">\n",
       "  <thead>\n",
       "    <tr style=\"text-align: right;\">\n",
       "      <th></th>\n",
       "      <th>date</th>\n",
       "      <th>group</th>\n",
       "      <th>visitors</th>\n",
       "    </tr>\n",
       "  </thead>\n",
       "  <tbody>\n",
       "    <tr>\n",
       "      <th>0</th>\n",
       "      <td>2019-08-01</td>\n",
       "      <td>A</td>\n",
       "      <td>719</td>\n",
       "    </tr>\n",
       "    <tr>\n",
       "      <th>1</th>\n",
       "      <td>2019-08-02</td>\n",
       "      <td>A</td>\n",
       "      <td>619</td>\n",
       "    </tr>\n",
       "    <tr>\n",
       "      <th>2</th>\n",
       "      <td>2019-08-03</td>\n",
       "      <td>A</td>\n",
       "      <td>507</td>\n",
       "    </tr>\n",
       "    <tr>\n",
       "      <th>3</th>\n",
       "      <td>2019-08-04</td>\n",
       "      <td>A</td>\n",
       "      <td>717</td>\n",
       "    </tr>\n",
       "    <tr>\n",
       "      <th>4</th>\n",
       "      <td>2019-08-05</td>\n",
       "      <td>A</td>\n",
       "      <td>756</td>\n",
       "    </tr>\n",
       "  </tbody>\n",
       "</table>\n",
       "</div>"
      ],
      "text/plain": [
       "        date group  visitors\n",
       "0 2019-08-01     A       719\n",
       "1 2019-08-02     A       619\n",
       "2 2019-08-03     A       507\n",
       "3 2019-08-04     A       717\n",
       "4 2019-08-05     A       756"
      ]
     },
     "metadata": {},
     "output_type": "display_data"
    }
   ],
   "source": [
    "# Считаем данные с результатами A/B тестирования\n",
    "display(orders.head(), visitors.head())"
   ]
  },
  {
   "cell_type": "markdown",
   "metadata": {},
   "source": [
    "**Подготовка данных:** создадим агрегированные и кумулятивные данные для групп A и B по количеству заказов, выручке и количеству посетителей, а затем объединим их в один DataFrame."
   ]
  },
  {
   "cell_type": "code",
   "execution_count": 36,
   "metadata": {},
   "outputs": [
    {
     "data": {
      "text/html": [
       "<div>\n",
       "<style scoped>\n",
       "    .dataframe tbody tr th:only-of-type {\n",
       "        vertical-align: middle;\n",
       "    }\n",
       "\n",
       "    .dataframe tbody tr th {\n",
       "        vertical-align: top;\n",
       "    }\n",
       "\n",
       "    .dataframe thead th {\n",
       "        text-align: right;\n",
       "    }\n",
       "</style>\n",
       "<table border=\"1\" class=\"dataframe\">\n",
       "  <thead>\n",
       "    <tr style=\"text-align: right;\">\n",
       "      <th></th>\n",
       "      <th>date</th>\n",
       "      <th>ordersPerDateA</th>\n",
       "      <th>revenuePerDateA</th>\n",
       "      <th>ordersPerDateB</th>\n",
       "      <th>revenuePerDateB</th>\n",
       "      <th>ordersCummulativeA</th>\n",
       "      <th>revenueCummulativeA</th>\n",
       "      <th>ordersCummulativeB</th>\n",
       "      <th>revenueCummulativeB</th>\n",
       "      <th>visitorsPerDateA</th>\n",
       "      <th>visitorsPerDateB</th>\n",
       "      <th>visitorsCummulativeA</th>\n",
       "      <th>visitorsCummulativeB</th>\n",
       "    </tr>\n",
       "  </thead>\n",
       "  <tbody>\n",
       "    <tr>\n",
       "      <th>0</th>\n",
       "      <td>2019-08-01</td>\n",
       "      <td>23</td>\n",
       "      <td>142779</td>\n",
       "      <td>17</td>\n",
       "      <td>59758</td>\n",
       "      <td>23</td>\n",
       "      <td>142779</td>\n",
       "      <td>17</td>\n",
       "      <td>59758</td>\n",
       "      <td>719</td>\n",
       "      <td>713</td>\n",
       "      <td>719</td>\n",
       "      <td>713</td>\n",
       "    </tr>\n",
       "    <tr>\n",
       "      <th>1</th>\n",
       "      <td>2019-08-02</td>\n",
       "      <td>19</td>\n",
       "      <td>91602</td>\n",
       "      <td>23</td>\n",
       "      <td>162043</td>\n",
       "      <td>42</td>\n",
       "      <td>234381</td>\n",
       "      <td>40</td>\n",
       "      <td>221801</td>\n",
       "      <td>619</td>\n",
       "      <td>581</td>\n",
       "      <td>1338</td>\n",
       "      <td>1294</td>\n",
       "    </tr>\n",
       "    <tr>\n",
       "      <th>2</th>\n",
       "      <td>2019-08-03</td>\n",
       "      <td>24</td>\n",
       "      <td>112473</td>\n",
       "      <td>14</td>\n",
       "      <td>67049</td>\n",
       "      <td>66</td>\n",
       "      <td>346854</td>\n",
       "      <td>54</td>\n",
       "      <td>288850</td>\n",
       "      <td>507</td>\n",
       "      <td>509</td>\n",
       "      <td>1845</td>\n",
       "      <td>1803</td>\n",
       "    </tr>\n",
       "    <tr>\n",
       "      <th>3</th>\n",
       "      <td>2019-08-04</td>\n",
       "      <td>11</td>\n",
       "      <td>41176</td>\n",
       "      <td>14</td>\n",
       "      <td>96890</td>\n",
       "      <td>77</td>\n",
       "      <td>388030</td>\n",
       "      <td>68</td>\n",
       "      <td>385740</td>\n",
       "      <td>717</td>\n",
       "      <td>770</td>\n",
       "      <td>2562</td>\n",
       "      <td>2573</td>\n",
       "    </tr>\n",
       "    <tr>\n",
       "      <th>4</th>\n",
       "      <td>2019-08-05</td>\n",
       "      <td>22</td>\n",
       "      <td>86383</td>\n",
       "      <td>21</td>\n",
       "      <td>89908</td>\n",
       "      <td>99</td>\n",
       "      <td>474413</td>\n",
       "      <td>89</td>\n",
       "      <td>475648</td>\n",
       "      <td>756</td>\n",
       "      <td>707</td>\n",
       "      <td>3318</td>\n",
       "      <td>3280</td>\n",
       "    </tr>\n",
       "  </tbody>\n",
       "</table>\n",
       "</div>"
      ],
      "text/plain": [
       "        date  ordersPerDateA  revenuePerDateA  ordersPerDateB  \\\n",
       "0 2019-08-01              23           142779              17   \n",
       "1 2019-08-02              19            91602              23   \n",
       "2 2019-08-03              24           112473              14   \n",
       "3 2019-08-04              11            41176              14   \n",
       "4 2019-08-05              22            86383              21   \n",
       "\n",
       "   revenuePerDateB  ordersCummulativeA  revenueCummulativeA  \\\n",
       "0            59758                  23               142779   \n",
       "1           162043                  42               234381   \n",
       "2            67049                  66               346854   \n",
       "3            96890                  77               388030   \n",
       "4            89908                  99               474413   \n",
       "\n",
       "   ordersCummulativeB  revenueCummulativeB  visitorsPerDateA  \\\n",
       "0                  17                59758               719   \n",
       "1                  40               221801               619   \n",
       "2                  54               288850               507   \n",
       "3                  68               385740               717   \n",
       "4                  89               475648               756   \n",
       "\n",
       "   visitorsPerDateB  visitorsCummulativeA  visitorsCummulativeB  \n",
       "0               713                   719                   713  \n",
       "1               581                  1338                  1294  \n",
       "2               509                  1845                  1803  \n",
       "3               770                  2562                  2573  \n",
       "4               707                  3318                  3280  "
      ]
     },
     "execution_count": 36,
     "metadata": {},
     "output_type": "execute_result"
    }
   ],
   "source": [
    "# Фильтрация данных для группы A и переименование столбцов\n",
    "visitorsADaily = visitors[visitors['group'] == 'A'][['date', 'visitors']]\n",
    "visitorsADaily.columns = ['date', 'visitorsPerDateA']\n",
    "\n",
    "# Вычисление кумулятивных данных для группы A по количеству пользователей\n",
    "visitorsACummulative = visitorsADaily.apply(\n",
    "    lambda x: visitorsADaily[visitorsADaily['date'] <= x['date']].agg(\n",
    "        {'date': 'max', 'visitorsPerDateA': 'sum'}\n",
    "    ),\n",
    "    axis=1,\n",
    ")\n",
    "visitorsACummulative.columns = ['date', 'visitorsCummulativeA']\n",
    "\n",
    "# Фильтрация данных для группы B и переименование столбцов\n",
    "visitorsBDaily = visitors[visitors['group'] == 'B'][['date', 'visitors']]\n",
    "visitorsBDaily.columns = ['date', 'visitorsPerDateB']\n",
    "\n",
    "# Вычисление кумулятивных данных для группы B по количеству пользователей\n",
    "visitorsBCummulative = visitorsBDaily.apply(\n",
    "    lambda x: visitorsBDaily[visitorsBDaily['date'] <= x['date']].agg(\n",
    "        {'date': 'max', 'visitorsPerDateB': 'sum'}\n",
    "    ),\n",
    "    axis=1,\n",
    ")\n",
    "visitorsBCummulative.columns = ['date', 'visitorsCummulativeB']\n",
    "\n",
    "# Фильтрация данных по заказам для группы A и группировка по дате\n",
    "ordersADaily = (\n",
    "    orders[orders['group'] == 'A'][['date', 'transactionid', 'visitorid', 'revenue']]\n",
    "    .groupby('date', as_index=False)\n",
    "    .agg({'transactionid': pd.Series.nunique, 'revenue': 'sum'})\n",
    ")\n",
    "ordersADaily.columns = ['date', 'ordersPerDateA', 'revenuePerDateA']\n",
    "\n",
    "# Вычисление кумулятивных данных для группы A по заказам и выручке\n",
    "ordersACummulative = ordersADaily.apply(\n",
    "    lambda x: ordersADaily[ordersADaily['date'] <= x['date']].agg(\n",
    "        {'date': 'max', 'ordersPerDateA': 'sum', 'revenuePerDateA': 'sum'}\n",
    "    ),\n",
    "    axis=1,\n",
    ").sort_values(by=['date'])\n",
    "ordersACummulative.columns = [\n",
    "    'date',\n",
    "    'ordersCummulativeA',\n",
    "    'revenueCummulativeA',\n",
    "]\n",
    "\n",
    "# Фильтрация данных по заказам для группы B и группировка по дате\n",
    "ordersBDaily = (\n",
    "    orders[orders['group'] == 'B'][['date', 'transactionid', 'visitorid', 'revenue']]\n",
    "    .groupby('date', as_index=False)\n",
    "    .agg({'transactionid': pd.Series.nunique, 'revenue': 'sum'})\n",
    ")\n",
    "ordersBDaily.columns = ['date', 'ordersPerDateB', 'revenuePerDateB']\n",
    "\n",
    "# Вычисление кумулятивных данных для группы B по заказам и выручке\n",
    "ordersBCummulative = ordersBDaily.apply(\n",
    "    lambda x: ordersBDaily[ordersBDaily['date'] <= x['date']].agg(\n",
    "        {'date': 'max', 'ordersPerDateB': 'sum', 'revenuePerDateB': 'sum'}\n",
    "    ),\n",
    "    axis=1,\n",
    ").sort_values(by=['date'])\n",
    "ordersBCummulative.columns = [\n",
    "    'date',\n",
    "    'ordersCummulativeB',\n",
    "    'revenueCummulativeB',\n",
    "]\n",
    "\n",
    "# Объединение всех данных в один DataFrame\n",
    "data = (\n",
    "    ordersADaily.merge(\n",
    "        ordersBDaily, left_on='date', right_on='date', how='left'\n",
    "    )\n",
    "    .merge(ordersACummulative, left_on='date', right_on='date', how='left')\n",
    "    .merge(ordersBCummulative, left_on='date', right_on='date', how='left')\n",
    "    .merge(visitorsADaily, left_on='date', right_on='date', how='left')\n",
    "    .merge(visitorsBDaily, left_on='date', right_on='date', how='left')\n",
    "    .merge(visitorsACummulative, left_on='date', right_on='date', how='left')\n",
    "    .merge(visitorsBCummulative, left_on='date', right_on='date', how='left')\n",
    ")\n",
    "\n",
    "data.head(5) "
   ]
  },
  {
   "cell_type": "markdown",
   "metadata": {},
   "source": [
    "Названия столбцов данных в датасете `data` (Группа В аналогично А):  \n",
    "  \n",
    "`ordersPerDateA` — количество заказов в выбранную дату в группе A;  \n",
    "\n",
    "`revenuePerDateA` — суммарная выручка в выбранную дату в группе A;  \n",
    "\n",
    "`ordersCummulativeA` — суммарное число заказов до выбранной даты включительно в группе A;  \n",
    "\n",
    "`revenueCummulativeA` — суммарная выручка до выбранной даты включительно в группе A;  \n",
    "\n",
    "`visitorsPerDateA` — количество пользователей в выбранную дату в группе A;  \n",
    "\n",
    "`visitorsCummulativeA` — количество пользователей до выбранной даты включительно в группе A"
   ]
  },
  {
   "cell_type": "markdown",
   "metadata": {},
   "source": [
    "**3.1. Построение графика кумулятивной выручки по группам.**"
   ]
  },
  {
   "cell_type": "code",
   "execution_count": 39,
   "metadata": {},
   "outputs": [
    {
     "data": {
      "image/png": "[encoded data removed]",
      "text/plain": [
       "<Figure size 1200x600 with 1 Axes>"
      ]
     },
     "metadata": {},
     "output_type": "display_data"
    }
   ],
   "source": [
    "# Задаем размер графика\n",
    "plt.figure(figsize=(12, 6))\n",
    "\n",
    "# Строим график выручки группы А\n",
    "plt.plot(data['date'], data['revenueCummulativeA'], label='A')\n",
    "\n",
    "# Строим график выручки группы B\n",
    "plt.plot(data['date'], data['revenueCummulativeB'], label='B')\n",
    "\n",
    "plt.title('График кумулятивной выручки по группам', fontsize=12, fontweight=\"bold\")\n",
    "plt.xlabel('Дата проведения эксперимента', fontsize=12)\n",
    "plt.ylabel('Выручка', fontsize=12)\n",
    "plt.legend()\n",
    "plt.grid(True)\n",
    "plt.show()"
   ]
  },
  {
   "cell_type": "markdown",
   "metadata": {},
   "source": [
    "На протяжении почти всего теста группа В лидировала с незначительным отрывом, однако во второй половине месяца проведения эксперимента призошел резкий скачек выручки группы В, и затем линии были практически параллельны до окончания эксперимента.   \n",
    "Возможно на результат повлиял аномальный всплеск числа заказов, либо появление очень дорогих заказов в выборке В. "
   ]
  },
  {
   "cell_type": "markdown",
   "metadata": {},
   "source": [
    "**3.2. Построение графика кумулятивного среднего чека по группам.**"
   ]
  },
  {
   "cell_type": "code",
   "execution_count": 42,
   "metadata": {},
   "outputs": [
    {
     "data": {
      "image/png": "[encoded data removed]",
      "text/plain": [
       "<Figure size 1200x600 with 1 Axes>"
      ]
     },
     "metadata": {},
     "output_type": "display_data"
    }
   ],
   "source": [
    "# Задаем размер графика\n",
    "plt.figure(figsize=(12, 6))\n",
    "\n",
    "# Строим графики, для этого разделим кумулятивную выручку на кумулятивное число заказов\n",
    "plt.plot(data['date'], data['revenueCummulativeA']/data['ordersCummulativeA'], label='A')\n",
    "plt.plot(data['date'], data['revenueCummulativeB']/data['ordersCummulativeB'], label='B')\n",
    "\n",
    "plt.title('График кумулятивного среднего чека по группам', fontsize=12, fontweight=\"bold\")\n",
    "plt.xlabel('Дата проведения эксперимента', fontsize=12)\n",
    "plt.ylabel('Сумма чека', fontsize=12)\n",
    "plt.legend()\n",
    "plt.grid(True)\n",
    "plt.show()"
   ]
  },
  {
   "cell_type": "markdown",
   "metadata": {},
   "source": [
    "Средний чек ближе к концу теста установился для группы А. В группе В, как и для куммулятивной выручки, наблюдается резкий скачек среднего чека во второй половине месяца, а также значительное увеличение суммы чека в первой декаде месяца. Возможно, в группу B попали крупные заказы (резкий всплеск на графике). Тогда ей нужно больше данных, чтобы прийти к реальному среднему чеку и установиться на его уровне."
   ]
  },
  {
   "cell_type": "markdown",
   "metadata": {},
   "source": [
    "**3.3. Построение графика относительного изменения кумулятивного среднего чека группы B к группе A.**"
   ]
  },
  {
   "cell_type": "code",
   "execution_count": 45,
   "metadata": {},
   "outputs": [
    {
     "data": {
      "image/png": "[encoded data removed]",
      "text/plain": [
       "<Figure size 1200x600 with 1 Axes>"
      ]
     },
     "metadata": {},
     "output_type": "display_data"
    }
   ],
   "source": [
    "# Задаем размер графика\n",
    "plt.figure(figsize=(12, 6))\n",
    "\n",
    "# cтроим отношение средних чеков\n",
    "plt.plot(data['date'], \n",
    "         (data['revenueCummulativeB']/data['ordersCummulativeB'])/\n",
    "         (data['revenueCummulativeA']/data['ordersCummulativeA'])-1)\n",
    "\n",
    "# добавляем ось X\n",
    "plt.axhline(y=0, color='black', linestyle='--')\n",
    "\n",
    "plt.title('График относительного изменения кумулятивного среднего чека группы B к группе A', fontsize=12, fontweight=\"bold\")\n",
    "plt.xlabel('Дата проведения эксперимента', fontsize=12)\n",
    "plt.ylabel('Относительное изменение', fontsize=12)\n",
    "plt.grid(True)\n",
    "plt.show()"
   ]
  },
  {
   "cell_type": "markdown",
   "metadata": {},
   "source": [
    "В нескольких точках график различия между сегментами резко «скачет». Самый резкий скачек наблюдается 19 августа. Видимо именно тогда были совершены аномальные заказы. \n",
    "\n",
    "Кроме того, значительное преобладание среднего чека заметно в период с 6 по 8 августа. В этот период при постепенном росте величины среднего чека в группе В наблюдался значительный спад в группе А, что в относительных величинах дает пик на графике."
   ]
  },
  {
   "cell_type": "markdown",
   "metadata": {},
   "source": [
    "**3.4. Построение графика кумулятивного среднего количества заказов на посетителя по группам.**"
   ]
  },
  {
   "cell_type": "code",
   "execution_count": 48,
   "metadata": {},
   "outputs": [
    {
     "data": {
      "image/png": "[encoded data removed]",
      "text/plain": [
       "<Figure size 1200x600 with 1 Axes>"
      ]
     },
     "metadata": {},
     "output_type": "display_data"
    }
   ],
   "source": [
    "# считаем среднее количество заказов на посетителя группы А\n",
    "data['conversionA'] = data['ordersCummulativeA'] / data['visitorsCummulativeA']\n",
    "\n",
    "# считаем среднее количество заказов на посетителя группы B\n",
    "data['conversionB'] = data['ordersCummulativeB'] / data['visitorsCummulativeB']\n",
    "\n",
    "# Задаем размер графика\n",
    "plt.figure(figsize=(12, 6))\n",
    "\n",
    "# строим графики\n",
    "plt.plot(data['date'], data['conversionA'], label='A')\n",
    "plt.plot(data['date'], data['conversionB'], label='B')\n",
    "\n",
    "# задаем масштаб осей\n",
    "plt.axis([\"2019-08-01\", '2019-09-01', 0, 0.045]) \n",
    "\n",
    "plt.title('График кумулятивного среднего количества заказов на посетителя по группам', fontsize=12, fontweight=\"bold\")\n",
    "plt.xlabel('Дата проведения эксперимента', fontsize=12)\n",
    "plt.ylabel('Среднее количество заказов', fontsize=12)\n",
    "plt.legend()\n",
    "plt.grid(True)\n",
    "plt.show()"
   ]
  },
  {
   "cell_type": "markdown",
   "metadata": {},
   "source": [
    "В начале теста сегмент А лидировал по кумулятивному среднему количеству заказов, но затем у группы В среднее количество заказов вырвалось вперёд и зафиксировалось, а у группы А — просело, но тоже зафиксировалось. Абсолютное значение колебания в начале и в конце теста небольшое. Тестовая группа лидирует по кумулятивному среднему количеству заказов. "
   ]
  },
  {
   "cell_type": "markdown",
   "metadata": {},
   "source": [
    "**3.5. Построение графика относительного изменения кумулятивного среднего количества заказов на посетителя группы B к группе A.**"
   ]
  },
  {
   "cell_type": "code",
   "execution_count": 51,
   "metadata": {},
   "outputs": [
    {
     "data": {
      "image/png": "[encoded data removed]",
      "text/plain": [
       "<Figure size 1200x600 with 1 Axes>"
      ]
     },
     "metadata": {},
     "output_type": "display_data"
    }
   ],
   "source": [
    "plt.figure(figsize=(12, 6)) # задаем размер графика\n",
    "\n",
    "# cтроим график\n",
    "plt.plot(data['date'], data['conversionB'] / data['conversionA']-1)\n",
    "\n",
    "plt.axhline(y=0, color='black', linestyle='--') # добавляем ось X\n",
    "plt.axhline(y=0.15, color='grey', linestyle='--') \n",
    "plt.axis([\"2019-08-01\", '2019-09-01', -0.4, 0.4]) # задаем масштаб осей\n",
    "\n",
    "plt.title('График относительного изменения кумулятивного среднего количества заказов на посетителя группы B к группе A',\n",
    "          fontsize=12, fontweight=\"bold\")\n",
    "plt.xlabel('Дата проведения эксперимента', fontsize=12)\n",
    "plt.ylabel('Относительное изменение', fontsize=12)\n",
    "plt.grid(True)\n",
    "plt.show()"
   ]
  },
  {
   "cell_type": "markdown",
   "metadata": {},
   "source": [
    "Почти с самого начала теста группа В лидирует по метрике. В первой половине месяца тестируемая группа показывала прирост относительно контрольной группы, но затем наблюдался спад и постепенное выравнивание или рост около прироста в 15%.   \n",
    "В целом отношение среднего количества заказов на посетителя ещё не установилось, и, возможно, сейчас делать какие-либо выводы по тесту рано. Сперва стоит проанализировать аномалии, возможно, они изменят картину. "
   ]
  },
  {
   "cell_type": "markdown",
   "metadata": {},
   "source": [
    "**3.6. Построение точечного графика количества заказов по пользователям.**"
   ]
  },
  {
   "cell_type": "code",
   "execution_count": 54,
   "metadata": {},
   "outputs": [
    {
     "data": {
      "text/html": [
       "<div>\n",
       "<style scoped>\n",
       "    .dataframe tbody tr th:only-of-type {\n",
       "        vertical-align: middle;\n",
       "    }\n",
       "\n",
       "    .dataframe tbody tr th {\n",
       "        vertical-align: top;\n",
       "    }\n",
       "\n",
       "    .dataframe thead th {\n",
       "        text-align: right;\n",
       "    }\n",
       "</style>\n",
       "<table border=\"1\" class=\"dataframe\">\n",
       "  <thead>\n",
       "    <tr style=\"text-align: right;\">\n",
       "      <th></th>\n",
       "      <th>userid</th>\n",
       "      <th>orders</th>\n",
       "    </tr>\n",
       "  </thead>\n",
       "  <tbody>\n",
       "    <tr>\n",
       "      <th>908</th>\n",
       "      <td>3967698036</td>\n",
       "      <td>3</td>\n",
       "    </tr>\n",
       "    <tr>\n",
       "      <th>55</th>\n",
       "      <td>249864742</td>\n",
       "      <td>3</td>\n",
       "    </tr>\n",
       "    <tr>\n",
       "      <th>478</th>\n",
       "      <td>2108163459</td>\n",
       "      <td>3</td>\n",
       "    </tr>\n",
       "    <tr>\n",
       "      <th>687</th>\n",
       "      <td>2988190573</td>\n",
       "      <td>3</td>\n",
       "    </tr>\n",
       "    <tr>\n",
       "      <th>890</th>\n",
       "      <td>3908431265</td>\n",
       "      <td>3</td>\n",
       "    </tr>\n",
       "    <tr>\n",
       "      <th>138</th>\n",
       "      <td>611059232</td>\n",
       "      <td>3</td>\n",
       "    </tr>\n",
       "    <tr>\n",
       "      <th>632</th>\n",
       "      <td>2742574263</td>\n",
       "      <td>3</td>\n",
       "    </tr>\n",
       "    <tr>\n",
       "      <th>157</th>\n",
       "      <td>678354126</td>\n",
       "      <td>2</td>\n",
       "    </tr>\n",
       "    <tr>\n",
       "      <th>323</th>\n",
       "      <td>1404560065</td>\n",
       "      <td>2</td>\n",
       "    </tr>\n",
       "    <tr>\n",
       "      <th>452</th>\n",
       "      <td>1985475298</td>\n",
       "      <td>2</td>\n",
       "    </tr>\n",
       "  </tbody>\n",
       "</table>\n",
       "</div>"
      ],
      "text/plain": [
       "         userid  orders\n",
       "908  3967698036       3\n",
       "55    249864742       3\n",
       "478  2108163459       3\n",
       "687  2988190573       3\n",
       "890  3908431265       3\n",
       "138   611059232       3\n",
       "632  2742574263       3\n",
       "157   678354126       2\n",
       "323  1404560065       2\n",
       "452  1985475298       2"
      ]
     },
     "execution_count": 54,
     "metadata": {},
     "output_type": "execute_result"
    }
   ],
   "source": [
    "# Найдем число заказов по пользователям\n",
    "ordersByUsers = (\n",
    "    orders.groupby('visitorid', as_index=False) \n",
    "    .agg({'transactionid': 'nunique'})\n",
    ")\n",
    "ordersByUsers.columns = ['userid', 'orders']\n",
    "\n",
    "ordersByUsers.sort_values(by='orders', ascending=False).head(10)"
   ]
  },
  {
   "cell_type": "code",
   "execution_count": 55,
   "metadata": {},
   "outputs": [
    {
     "data": {
      "image/png": "[encoded data removed]",
      "text/plain": [
       "<Figure size 800x400 with 1 Axes>"
      ]
     },
     "metadata": {},
     "output_type": "display_data"
    }
   ],
   "source": [
    "# серия из чисел от 0 до количества наблюдений в ordersByUsers\n",
    "x_values = pd.Series(range(0, len(ordersByUsers)))\n",
    "\n",
    "# строим точечный график\n",
    "plt.figure(figsize=(8, 4)) # задаем размер графика\n",
    "\n",
    "plt.scatter(x_values, ordersByUsers['orders'])\n",
    "\n",
    "plt.title('График количества заказов по пользователям', fontsize=12, fontweight=\"bold\")\n",
    "plt.xlabel('Номер наблюдения', fontsize=12)\n",
    "plt.ylabel('Количество заказов. шт.', fontsize=12)\n",
    "plt.show()"
   ]
  },
  {
   "cell_type": "markdown",
   "metadata": {},
   "source": [
    "Большинство покупателей заказывали только один раз. Пользователей, заказавших более двух раз совсем мало. Они вполне могут быть аномальными. Выясним это, посчитав выборочные перцентили."
   ]
  },
  {
   "cell_type": "markdown",
   "metadata": {},
   "source": [
    "**3.7. Вычисление 95-го и 99-го перцентиля количества заказов на пользователя. Выбор границы для определения аномальных пользователей.**"
   ]
  },
  {
   "cell_type": "code",
   "execution_count": 58,
   "metadata": {},
   "outputs": [
    {
     "name": "stdout",
     "output_type": "stream",
     "text": [
      "[1. 2.]\n"
     ]
    }
   ],
   "source": [
    "print(np.percentile(ordersByUsers['orders'], [95, 99]))"
   ]
  },
  {
   "cell_type": "markdown",
   "metadata": {},
   "source": [
    "Не более 5% пользователей оформляли больше одного заказа и не более 1% - больше двух заказов.\n",
    "Разумно выбрать 2 заказа на одного пользователя за верхнюю границу числа заказов, и отсеять 1% аномальных пользователей по ней. "
   ]
  },
  {
   "cell_type": "markdown",
   "metadata": {},
   "source": [
    "**3.8. Построение точечного графика стоимостей заказов.**"
   ]
  },
  {
   "cell_type": "code",
   "execution_count": 61,
   "metadata": {},
   "outputs": [
    {
     "data": {
      "text/html": [
       "<div>\n",
       "<style scoped>\n",
       "    .dataframe tbody tr th:only-of-type {\n",
       "        vertical-align: middle;\n",
       "    }\n",
       "\n",
       "    .dataframe tbody tr th {\n",
       "        vertical-align: top;\n",
       "    }\n",
       "\n",
       "    .dataframe thead th {\n",
       "        text-align: right;\n",
       "    }\n",
       "</style>\n",
       "<table border=\"1\" class=\"dataframe\">\n",
       "  <thead>\n",
       "    <tr style=\"text-align: right;\">\n",
       "      <th></th>\n",
       "      <th>transactionid</th>\n",
       "      <th>visitorid</th>\n",
       "      <th>date</th>\n",
       "      <th>revenue</th>\n",
       "      <th>group</th>\n",
       "    </tr>\n",
       "  </thead>\n",
       "  <tbody>\n",
       "    <tr>\n",
       "      <th>425</th>\n",
       "      <td>590470918</td>\n",
       "      <td>1920142716</td>\n",
       "      <td>2019-08-19</td>\n",
       "      <td>1294500</td>\n",
       "      <td>B</td>\n",
       "    </tr>\n",
       "    <tr>\n",
       "      <th>1196</th>\n",
       "      <td>3936777065</td>\n",
       "      <td>2108080724</td>\n",
       "      <td>2019-08-15</td>\n",
       "      <td>202740</td>\n",
       "      <td>B</td>\n",
       "    </tr>\n",
       "    <tr>\n",
       "      <th>1136</th>\n",
       "      <td>666610489</td>\n",
       "      <td>1307669133</td>\n",
       "      <td>2019-08-13</td>\n",
       "      <td>92550</td>\n",
       "      <td>A</td>\n",
       "    </tr>\n",
       "    <tr>\n",
       "      <th>744</th>\n",
       "      <td>3668308183</td>\n",
       "      <td>888512513</td>\n",
       "      <td>2019-08-27</td>\n",
       "      <td>86620</td>\n",
       "      <td>B</td>\n",
       "    </tr>\n",
       "    <tr>\n",
       "      <th>743</th>\n",
       "      <td>3603576309</td>\n",
       "      <td>4133034833</td>\n",
       "      <td>2019-08-09</td>\n",
       "      <td>67990</td>\n",
       "      <td>A</td>\n",
       "    </tr>\n",
       "    <tr>\n",
       "      <th>1103</th>\n",
       "      <td>1348774318</td>\n",
       "      <td>1164614297</td>\n",
       "      <td>2019-08-12</td>\n",
       "      <td>66350</td>\n",
       "      <td>A</td>\n",
       "    </tr>\n",
       "    <tr>\n",
       "      <th>1099</th>\n",
       "      <td>316924019</td>\n",
       "      <td>148427295</td>\n",
       "      <td>2019-08-12</td>\n",
       "      <td>65710</td>\n",
       "      <td>A</td>\n",
       "    </tr>\n",
       "    <tr>\n",
       "      <th>949</th>\n",
       "      <td>1347999392</td>\n",
       "      <td>887908475</td>\n",
       "      <td>2019-08-21</td>\n",
       "      <td>60450</td>\n",
       "      <td>A</td>\n",
       "    </tr>\n",
       "    <tr>\n",
       "      <th>940</th>\n",
       "      <td>2420050534</td>\n",
       "      <td>4003628586</td>\n",
       "      <td>2019-08-08</td>\n",
       "      <td>58550</td>\n",
       "      <td>B</td>\n",
       "    </tr>\n",
       "    <tr>\n",
       "      <th>131</th>\n",
       "      <td>3163614039</td>\n",
       "      <td>2254586615</td>\n",
       "      <td>2019-08-22</td>\n",
       "      <td>53904</td>\n",
       "      <td>A</td>\n",
       "    </tr>\n",
       "  </tbody>\n",
       "</table>\n",
       "</div>"
      ],
      "text/plain": [
       "      transactionid   visitorid       date  revenue group\n",
       "425       590470918  1920142716 2019-08-19  1294500     B\n",
       "1196     3936777065  2108080724 2019-08-15   202740     B\n",
       "1136      666610489  1307669133 2019-08-13    92550     A\n",
       "744      3668308183   888512513 2019-08-27    86620     B\n",
       "743      3603576309  4133034833 2019-08-09    67990     A\n",
       "1103     1348774318  1164614297 2019-08-12    66350     A\n",
       "1099      316924019   148427295 2019-08-12    65710     A\n",
       "949      1347999392   887908475 2019-08-21    60450     A\n",
       "940      2420050534  4003628586 2019-08-08    58550     B\n",
       "131      3163614039  2254586615 2019-08-22    53904     A"
      ]
     },
     "execution_count": 61,
     "metadata": {},
     "output_type": "execute_result"
    }
   ],
   "source": [
    "orders.sort_values(by='revenue', ascending=False).head(10)"
   ]
  },
  {
   "cell_type": "markdown",
   "metadata": {},
   "source": [
    "На первой строчке таблицы `orders`, отсортированной по убыванию суммы заказа, оказался заказ почти на 1,3 млн.руб., что является явной аномалией"
   ]
  },
  {
   "cell_type": "code",
   "execution_count": 63,
   "metadata": {},
   "outputs": [
    {
     "data": {
      "image/png": "[encoded data removed]",
      "text/plain": [
       "<Figure size 800x400 with 1 Axes>"
      ]
     },
     "metadata": {},
     "output_type": "display_data"
    }
   ],
   "source": [
    "# серия из чисел от 0 до количества наблюдений в ordersByUsers\n",
    "x_values = pd.Series(range(0, len(orders['revenue'])))\n",
    "\n",
    "# строим точечный график\n",
    "plt.figure(figsize=(8, 4)) # задаем размер графика\n",
    "\n",
    "plt.scatter(x_values, orders['revenue']) \n",
    "\n",
    "plt.title('График стоимостей заказов', fontsize=12, fontweight=\"bold\")\n",
    "plt.xlabel('Номер наблюдения', fontsize=12)\n",
    "plt.ylabel('Стоимость заказа, млн.руб.', fontsize=12)\n",
    "plt.show()"
   ]
  },
  {
   "cell_type": "code",
   "execution_count": 64,
   "metadata": {},
   "outputs": [
    {
     "data": {
      "image/png": "[encoded data removed]",
      "text/plain": [
       "<Figure size 800x400 with 1 Axes>"
      ]
     },
     "metadata": {},
     "output_type": "display_data"
    }
   ],
   "source": [
    "# построим точечный график увеличенного размера, ограничив стоимость 150000 руб.\n",
    "plt.figure(figsize=(8, 4)) # задаем размер графика\n",
    "\n",
    "plt.scatter(x_values, orders['revenue']) \n",
    "plt.ylim([0,150000])\n",
    "plt.title('График стоимостей заказов', fontsize=12, fontweight=\"bold\")\n",
    "plt.xlabel('Номер наблюдения', fontsize=12)\n",
    "plt.ylabel('Стоимость заказа, млн.руб.', fontsize=12)\n",
    "plt.grid(True)\n",
    "plt.show()"
   ]
  },
  {
   "cell_type": "markdown",
   "metadata": {},
   "source": [
    "На графиках видны выбросы в районе 200000 рублей и 1300000 рублей. Остальные заказы стоимостью до 100000 рублей, причем большая часть из них до 20000 рублей.   \n",
    "Найдем выборочные перцентили, чтобы определить границу отсеивания аномально больших заказов."
   ]
  },
  {
   "cell_type": "markdown",
   "metadata": {},
   "source": [
    "**3.9. Вычисление 95-го и 99-го перцентиля стоимости заказов. Выбор границы для определения аномальных заказов.**"
   ]
  },
  {
   "cell_type": "code",
   "execution_count": 67,
   "metadata": {},
   "outputs": [
    {
     "name": "stdout",
     "output_type": "stream",
     "text": [
      "[26785. 53904.]\n"
     ]
    }
   ],
   "source": [
    "print(np.percentile(orders['revenue'], [95, 99]))"
   ]
  },
  {
   "cell_type": "markdown",
   "metadata": {},
   "source": [
    "Не более 5% заказов превышали 26785 рублей и не более, чем у 1% заказов чек дороже 53904 рублей.  \n",
    "Определим границу для определения аномальных заказов в размере 50000 рублей."
   ]
  },
  {
   "cell_type": "markdown",
   "metadata": {},
   "source": [
    "**3.10. Расчет статистической значимости различий в среднем количестве заказов на посетителя между группами по «сырым» данным.**"
   ]
  },
  {
   "cell_type": "markdown",
   "metadata": {},
   "source": [
    "Так как в \"сырых\" данных есть большие выбросы, для расчета статистической значимости различий в среднем количестве заказов на посетителя применим непараметрический метод - критерий Манна-Уитни.  \n",
    "\n",
    "***Сформулируем гипотезы:***  \n",
    "Нулевая:  статистически значимых различий в среднем числе заказов между группами нет.   \n",
    "Альтернативная: различия в среднем числе заказов между группами есть."
   ]
  },
  {
   "cell_type": "code",
   "execution_count": 71,
   "metadata": {},
   "outputs": [
    {
     "name": "stdout",
     "output_type": "stream",
     "text": [
      "P-value: 0.01102\n",
      "Oтносительное различие среднего числа заказов группы B к А: 0.160\n"
     ]
    }
   ],
   "source": [
    "# Создадим переменные ordersByUsersA и ordersByUsersB с указанием числа совершённых заказов на пользователя. \n",
    "ordersByUsersA = (\n",
    "    orders[orders['group'] == 'A']\n",
    "    .groupby('visitorid', as_index=False)\n",
    "    .agg({'transactionid': pd.Series.nunique})\n",
    ")\n",
    "ordersByUsersA.columns = ['userid', 'orders']\n",
    "\n",
    "ordersByUsersB = (\n",
    "    orders[orders['group'] == 'B']\n",
    "    .groupby('visitorid', as_index=False)\n",
    "    .agg({'transactionid': pd.Series.nunique})\n",
    ")\n",
    "ordersByUsersB.columns = ['userid', 'orders']\n",
    "\n",
    "# Объявляем переменные sampleA и sampleB, в которых пользователям из разных групп будет соответствовать количество заказов. \n",
    "# Тем, кто ничего не заказал, будут соответствовать нули. \n",
    "# Их количество равно разнице между суммой посетителей и количеством записей о заказах\n",
    "sampleA = pd.concat(\n",
    "    [\n",
    "        ordersByUsersA['orders'],\n",
    "        pd.Series(\n",
    "            0,\n",
    "            index=np.arange(\n",
    "                data['visitorsPerDateA'].sum() - len(ordersByUsersA['orders'])\n",
    "            ),\n",
    "            name='orders',\n",
    "        ),\n",
    "    ],\n",
    "    axis=0,\n",
    ")\n",
    "\n",
    "sampleB = pd.concat(\n",
    "    [\n",
    "        ordersByUsersB['orders'],\n",
    "        pd.Series(\n",
    "            0,\n",
    "            index=np.arange(\n",
    "                data['visitorsPerDateB'].sum() - len(ordersByUsersB['orders'])\n",
    "            ),\n",
    "            name='orders',\n",
    "        ),\n",
    "    ],\n",
    "    axis=0,\n",
    ")\n",
    "\n",
    "print('P-value:', \"{0:.5f}\".format(stats.mannwhitneyu(sampleA, sampleB)[1]))\n",
    "\n",
    "print('Oтносительное различие среднего числа заказов группы B к А:',\n",
    "      \"{0:.3f}\".format(sampleB.mean() / sampleA.mean() - 1))"
   ]
  },
  {
   "cell_type": "markdown",
   "metadata": {},
   "source": [
    "***P-value меньше 0.05, значит отвергаем нулевую гипотезу о том, что статистически значимых различий в среднем числе заказов между группами нет. Анализ \"сырых данных\" показывает, что в среднем числе заказов между группами есть статистически значимые различия. Относительный прирост среднего числа заказов группы В к числу заказов группы А равен 16%***  \n",
    "Однако, на результат вероятно повлияли выбросы и требуется посчитать статистическую значимость различий в среднем количестве заказов на посетителя между группами по «очищенным» данным."
   ]
  },
  {
   "cell_type": "markdown",
   "metadata": {},
   "source": [
    "**3.11. Расчет статистической значимости различий в среднем чеке заказа между группами по «сырым» данным.**"
   ]
  },
  {
   "cell_type": "markdown",
   "metadata": {},
   "source": [
    "***Сформулируем гипотезы:***  \n",
    "Нулевая:  статистически значимых различий в среднем чеке заказа между группами нет.   \n",
    "Альтернативная: различия в среднем чеке заказа между группами есть."
   ]
  },
  {
   "cell_type": "code",
   "execution_count": 75,
   "metadata": {},
   "outputs": [
    {
     "name": "stdout",
     "output_type": "stream",
     "text": [
      "P-value: 0.829\n",
      "Oтносительное различие среднего чека заказа группы B к А: 0.287\n"
     ]
    }
   ],
   "source": [
    "print('P-value:',\n",
    "      '{0:.3f}'.format(stats.mannwhitneyu(orders[orders['group']=='A']['revenue'], orders[orders['group']=='B']['revenue'])[1]))\n",
    "print('Oтносительное различие среднего чека заказа группы B к А:',\n",
    "      '{0:.3f}'.format(orders[orders['group']=='B']['revenue'].mean()/orders[orders['group']=='A']['revenue'].mean()-1))"
   ]
  },
  {
   "cell_type": "markdown",
   "metadata": {},
   "source": [
    "***P-value значительно больше 0.05. Значит, причин отвергать нулевую гипотезу и считать, что в среднем чеке есть различия, нет. Анализ \"сырых данных\" показывает, что в среднем чеке заказа между группами нет статистически значимых различий.  \n",
    "Однако, относительное различие среднего чека между сегментами 28.7% в пользу группы В.***   \n",
    "Приступим к анализу результатов A/B теста по \"очищенным данным\""
   ]
  },
  {
   "cell_type": "markdown",
   "metadata": {},
   "source": [
    "**3.12. Расчет статистической значимости различий в среднем количестве заказов на посетителя между группами по «очищенным» данным.**"
   ]
  },
  {
   "cell_type": "markdown",
   "metadata": {},
   "source": [
    "Примем за аномальных пользователей тех, кто совершил от 2 заказов или совершил заказ дороже 50 000 рублей. Так мы уберём 1% пользователей с наибольшим числом заказов и от 1% до 5% пользователей с дорогими заказами.  "
   ]
  },
  {
   "cell_type": "code",
   "execution_count": 79,
   "metadata": {},
   "outputs": [
    {
     "name": "stdout",
     "output_type": "stream",
     "text": [
      "1099    148427295\n",
      "33      249864742\n",
      "58      611059232\n",
      "1137    759473111\n",
      "949     887908475\n",
      "dtype: int64\n",
      "Количество аномальных пользователей: 22\n"
     ]
    }
   ],
   "source": [
    "#Сделаем срезы пользователей с числом заказов больше 2 — usersWithManyOrders \n",
    "# и пользователей, совершивших заказы дороже 50 000 — usersWithExpensiveOrders\n",
    "usersWithManyOrders = pd.concat(\n",
    "    [\n",
    "        ordersByUsersA[ordersByUsersA['orders'] > int(np.percentile(ordersByUsers['orders'], 99))]['userid'],\n",
    "        ordersByUsersB[ordersByUsersB['orders'] > int(np.percentile(ordersByUsers['orders'], 99))]['userid'],\n",
    "    ], \n",
    "    axis=0,\n",
    ")\n",
    "usersWithExpensiveOrders = orders[orders['revenue'] > 50000]['visitorid']\n",
    "\n",
    "# Объединим их в таблице abnormalUsers, удалим дубликаты, отсортируем по возрастанию \n",
    "abnormalUsers = (\n",
    "    pd.concat([usersWithManyOrders, usersWithExpensiveOrders], axis=0)\n",
    "    .drop_duplicates()\n",
    "    .sort_values()\n",
    ")\n",
    "print(abnormalUsers.head())\n",
    "print('Количество аномальных пользователей:', abnormalUsers.shape[0]) "
   ]
  },
  {
   "cell_type": "markdown",
   "metadata": {},
   "source": [
    "***Гипотезы:***  \n",
    "Нулевая:  статистически значимых различий в среднем числе заказов между группами нет.   \n",
    "Альтернативная: различия в среднем числе заказов между группами есть."
   ]
  },
  {
   "cell_type": "code",
   "execution_count": 81,
   "metadata": {},
   "outputs": [
    {
     "name": "stdout",
     "output_type": "stream",
     "text": [
      "P-value: 0.00561\n",
      "Oтносительное различие среднего числа заказов группы B к А: 0.198\n"
     ]
    }
   ],
   "source": [
    "# В переменных sampleAFiltered и sampleBFiltered сохраняем очищенные данные о заказах(без аномальных пользователей) \n",
    "sampleAFiltered = pd.concat(\n",
    "    [\n",
    "        ordersByUsersA[\n",
    "            np.logical_not(ordersByUsersA['userid'].isin(abnormalUsers))\n",
    "        ]['orders'],\n",
    "        pd.Series(\n",
    "            0,\n",
    "            index=np.arange(\n",
    "                data['visitorsPerDateA'].sum() - len(ordersByUsersA['orders'])\n",
    "            ),\n",
    "            name='orders',\n",
    "        ),\n",
    "    ],\n",
    "    axis=0,\n",
    ")\n",
    "\n",
    "sampleBFiltered = pd.concat(\n",
    "    [\n",
    "        ordersByUsersB[\n",
    "            np.logical_not(ordersByUsersB['userid'].isin(abnormalUsers))\n",
    "        ]['orders'],\n",
    "        pd.Series(\n",
    "            0,\n",
    "            index=np.arange(\n",
    "                data['visitorsPerDateB'].sum() - len(ordersByUsersB['orders'])\n",
    "            ),\n",
    "            name='orders',\n",
    "        ),\n",
    "    ],\n",
    "    axis=0,\n",
    ")\n",
    "print('P-value:', '{0:.5f}'.format(stats.mannwhitneyu(sampleAFiltered, sampleBFiltered)[1]))\n",
    "print('Oтносительное различие среднего числа заказов группы B к А:',\n",
    "      '{0:.3f}'.format(sampleBFiltered.mean()/sampleAFiltered.mean()-1))"
   ]
  },
  {
   "cell_type": "markdown",
   "metadata": {},
   "source": [
    "***Как и в случае с \"сырыми\" данными, P-value меньше 0.05, значит отвергаем нулевую гипотезу,  о том, что статистически значимых различий в среднем числе заказов между группами нет. Анализ \"очищенных данных\" также показывает, что в среднем количестве заказов между группами есть статистически значимые различия.   \n",
    "Относительный прирост среднего числа заказов группы В к числу заказов группы А равен 19.8% (было 16% по \"сырым\" данным).***"
   ]
  },
  {
   "cell_type": "markdown",
   "metadata": {},
   "source": [
    "**3.13.  Расчет статистической значимости различий в среднем чеке заказа между группами по «очищенным» данным.**"
   ]
  },
  {
   "cell_type": "markdown",
   "metadata": {},
   "source": [
    "***Гипотезы:***  \n",
    "Нулевая:  статистически значимых различий в среднем чеке заказа между группами нет.   \n",
    "Альтернативная: различия в среднем чеке заказа между группами есть."
   ]
  },
  {
   "cell_type": "code",
   "execution_count": 85,
   "metadata": {},
   "outputs": [
    {
     "name": "stdout",
     "output_type": "stream",
     "text": [
      "P-value: 0.939\n",
      "Oтносительное различие среднего чека заказа группы B к А: 0.011\n"
     ]
    }
   ],
   "source": [
    "print(\n",
    "    'P-value:',\n",
    "    '{0:.3f}'.format(\n",
    "        stats.mannwhitneyu(\n",
    "            orders[\n",
    "                np.logical_and(\n",
    "                    orders['group'] == 'A',\n",
    "                    np.logical_not(orders['visitorid'].isin(abnormalUsers)),\n",
    "                )\n",
    "            ]['revenue'],\n",
    "            orders[\n",
    "                np.logical_and(\n",
    "                    orders['group'] == 'B',\n",
    "                    np.logical_not(orders['visitorid'].isin(abnormalUsers)),\n",
    "                )\n",
    "            ]['revenue'],\n",
    "        )[1]\n",
    "    )\n",
    ")\n",
    "\n",
    "print(\n",
    "    'Oтносительное различие среднего чека заказа группы B к А:',\n",
    "    \"{0:.3f}\".format(\n",
    "        orders[\n",
    "            np.logical_and(\n",
    "                orders['group'] == 'B',\n",
    "                np.logical_not(orders['visitorid'].isin(abnormalUsers)),\n",
    "            )\n",
    "        ]['revenue'].mean()\n",
    "        / orders[\n",
    "            np.logical_and(\n",
    "                orders['group'] == 'A',\n",
    "                np.logical_not(orders['visitorid'].isin(abnormalUsers)),\n",
    "            )\n",
    "        ]['revenue'].mean()\n",
    "        - 1\n",
    "    )\n",
    ")"
   ]
  },
  {
   "cell_type": "markdown",
   "metadata": {},
   "source": [
    "***Как и в случае с \"сырыми\" данными, P-value значительно больше 0.05. Значит, нулевую гипотезу не отвергаем. В среднем чеке заказа между группами нет статистически значимых различий.  \n",
    "За счет удаления аномальных значений суммы заказа относительное различие среднего чека между сегментами уменьшилось с 28.7% на \"сырых\" данных до 1.1% на \"очищенных\" данных.***   "
   ]
  },
  {
   "cell_type": "markdown",
   "metadata": {},
   "source": [
    "**3.14.Выводы и решение по результатам теста.** "
   ]
  },
  {
   "cell_type": "markdown",
   "metadata": {},
   "source": [
    "Обнаружены факты:  \n",
    "\n",
    "    - Есть статистически значимые различия в среднем количестве заказов между группами как по \"сырым\", так и по данным после фильтрации. Относительный прирост количества заказов группы В больше, чем в группе А;    \n",
    "      \n",
    "      - В среднем чеке заказа между группами нет статистически значимых различий между группами как по \"сырым\", так и по данным после фильтрации;   \n",
    "      \n",
    "      - График различия среднего количества заказов между группами сообщает, что тестовая группа лидирует по кумулятивному среднему количеству заказов;  \n",
    "      \n",
    "      - График различия среднего чека говорит о том, что результаты группы B снижаются день ото дня, но в целом лучше, чем у контрольной группы."
   ]
  },
  {
   "cell_type": "markdown",
   "metadata": {},
   "source": [
    "***Исходя из обнаруженных фактов, тест следует остановить и признать победу тестовой группы В.*** "
   ]
  },
  {
   "cell_type": "markdown",
   "metadata": {},
   "source": [
    "## Общий вывод"
   ]
  },
  {
   "cell_type": "markdown",
   "metadata": {},
   "source": [
    "В ходе реализации проекта была проведена приоритизация гипотез по ICE и по RICE, проанализированы результаты A/B-теста для увеличения выручки крупного интернет-магазина.\n",
    "\n",
    "**Раздел 1:** ***В тройку наиболее приоритетных гипотез как по ICE, так и по RICE вошли две гипотезы:***\n",
    "\n",
    "***1. Добавить форму подписки на все основные страницы, чтобы собрать базу клиентов для email-рассылок (первое место в приоритете по RICE, затронет большее количество пользователей, так как её параметр reach 10 - максимально возможный)*** \n",
    "\n",
    "***2. Добавить два новых канала привлечения трафика, что позволит привлекать на 30% больше пользователей (Оказалась наиболее стабильной и по ICE (2 приоритет) и по RICE (3 приоритет). Её стоит обязательно протестировать.)***\n",
    "\n",
    "Лидирующая по ICE гипотеза \"Запустить акцию, дающую скидку на товар в день рождения\" оказалась лишь на 5-м месте в приоритете по RICE, т.к. затрагивает минимальное число клиентов (параметр reach равен 1).\n",
    "  \n",
    "**Раздел 2:** В процессе ***анализа A/B теста*** были построены графики кумулятивной выручки и среднего чека по группам, графики относительного изменения кумулятивного среднего чека и среднего количества заказов на посетителя группы B к группе A, проанализированы аномалии с помощью точечных графиков и определены границы аномальных заказов как по количеству (от 2 заказов), так и по сумме чека (50000 рублей). Посчитали статистическую значимость различий в среднем количестве заказов и среднем чеке на посетителя между группами по «сырым» и по \"очищенным\" данным.  \n",
    "  \n",
    "***Обнаружены статистически значимые различия в среднем количестве заказов в пользу тестируемой группы и отсутствие   статистически значимых различий в среднем чеке.***\n",
    "\n",
    "***Исходя из обнаруженных фактов, тест следует остановить и признать победу тестовой группы В.***"
   ]
  }
 ],
 "metadata": {
  "ExecuteTimeLog": [
   {
    "duration": 1220,
    "start_time": "2024-07-17T07:43:24.709Z"
   },
   {
    "duration": 269,
    "start_time": "2024-07-17T07:50:47.111Z"
   },
   {
    "duration": 21,
    "start_time": "2024-07-17T07:52:10.139Z"
   },
   {
    "duration": 14,
    "start_time": "2024-07-17T07:52:24.353Z"
   },
   {
    "duration": 16,
    "start_time": "2024-07-17T07:56:52.986Z"
   },
   {
    "duration": 17,
    "start_time": "2024-07-17T07:57:03.551Z"
   },
   {
    "duration": 3,
    "start_time": "2024-07-17T07:58:21.959Z"
   },
   {
    "duration": 11,
    "start_time": "2024-07-17T07:58:21.964Z"
   },
   {
    "duration": 23,
    "start_time": "2024-07-17T08:01:19.586Z"
   },
   {
    "duration": 56,
    "start_time": "2024-07-17T08:03:18.456Z"
   },
   {
    "duration": 16,
    "start_time": "2024-07-17T08:05:18.947Z"
   },
   {
    "duration": 20,
    "start_time": "2024-07-17T08:08:09.434Z"
   },
   {
    "duration": 22,
    "start_time": "2024-07-17T08:09:03.227Z"
   },
   {
    "duration": 14,
    "start_time": "2024-07-17T08:09:48.588Z"
   },
   {
    "duration": 3,
    "start_time": "2024-07-17T08:14:00.814Z"
   },
   {
    "duration": 5,
    "start_time": "2024-07-17T08:15:11.789Z"
   },
   {
    "duration": 1914,
    "start_time": "2024-07-17T08:19:07.231Z"
   },
   {
    "duration": 5,
    "start_time": "2024-07-17T08:24:02.730Z"
   },
   {
    "duration": 17,
    "start_time": "2024-07-17T08:24:21.089Z"
   },
   {
    "duration": 6,
    "start_time": "2024-07-17T08:25:49.383Z"
   },
   {
    "duration": 7,
    "start_time": "2024-07-17T08:26:26.016Z"
   },
   {
    "duration": 1172,
    "start_time": "2024-07-17T09:09:57.406Z"
   },
   {
    "duration": 149,
    "start_time": "2024-07-17T09:09:58.691Z"
   },
   {
    "duration": 59,
    "start_time": "2024-07-17T09:09:58.842Z"
   },
   {
    "duration": 20,
    "start_time": "2024-07-17T09:09:59.217Z"
   },
   {
    "duration": 14,
    "start_time": "2024-07-17T09:09:59.239Z"
   },
   {
    "duration": 33,
    "start_time": "2024-07-17T09:09:59.254Z"
   },
   {
    "duration": 65,
    "start_time": "2024-07-17T09:09:59.289Z"
   },
   {
    "duration": 28,
    "start_time": "2024-07-17T09:09:59.356Z"
   },
   {
    "duration": 9,
    "start_time": "2024-07-17T09:09:59.691Z"
   },
   {
    "duration": 111,
    "start_time": "2024-07-17T09:18:45.353Z"
   },
   {
    "duration": 23,
    "start_time": "2024-07-17T09:19:10.954Z"
   },
   {
    "duration": 1043,
    "start_time": "2024-07-17T09:20:35.212Z"
   },
   {
    "duration": 139,
    "start_time": "2024-07-17T09:20:36.257Z"
   },
   {
    "duration": 143,
    "start_time": "2024-07-17T09:20:36.398Z"
   },
   {
    "duration": 0,
    "start_time": "2024-07-17T09:20:36.543Z"
   },
   {
    "duration": 0,
    "start_time": "2024-07-17T09:20:36.544Z"
   },
   {
    "duration": 0,
    "start_time": "2024-07-17T09:20:36.545Z"
   },
   {
    "duration": 0,
    "start_time": "2024-07-17T09:20:36.546Z"
   },
   {
    "duration": 0,
    "start_time": "2024-07-17T09:20:36.547Z"
   },
   {
    "duration": 0,
    "start_time": "2024-07-17T09:20:36.549Z"
   },
   {
    "duration": 19,
    "start_time": "2024-07-17T09:20:57.590Z"
   },
   {
    "duration": 1027,
    "start_time": "2024-07-17T09:21:18.538Z"
   },
   {
    "duration": 140,
    "start_time": "2024-07-17T09:21:19.566Z"
   },
   {
    "duration": 58,
    "start_time": "2024-07-17T09:21:19.708Z"
   },
   {
    "duration": 17,
    "start_time": "2024-07-17T09:21:19.768Z"
   },
   {
    "duration": 29,
    "start_time": "2024-07-17T09:21:19.787Z"
   },
   {
    "duration": 4,
    "start_time": "2024-07-17T09:21:19.818Z"
   },
   {
    "duration": 14,
    "start_time": "2024-07-17T09:21:19.824Z"
   },
   {
    "duration": 24,
    "start_time": "2024-07-17T09:21:19.839Z"
   },
   {
    "duration": 9,
    "start_time": "2024-07-17T09:21:19.864Z"
   },
   {
    "duration": 101,
    "start_time": "2024-07-17T09:22:20.378Z"
   },
   {
    "duration": 17,
    "start_time": "2024-07-17T09:23:18.660Z"
   },
   {
    "duration": 5,
    "start_time": "2024-07-17T09:23:32.974Z"
   },
   {
    "duration": 9,
    "start_time": "2024-07-17T09:23:53.341Z"
   },
   {
    "duration": 11,
    "start_time": "2024-07-17T09:26:50.773Z"
   },
   {
    "duration": 10,
    "start_time": "2024-07-17T09:27:57.182Z"
   },
   {
    "duration": 11,
    "start_time": "2024-07-17T09:28:14.575Z"
   },
   {
    "duration": 12,
    "start_time": "2024-07-17T09:31:43.714Z"
   },
   {
    "duration": 13,
    "start_time": "2024-07-17T09:47:52.443Z"
   },
   {
    "duration": 12,
    "start_time": "2024-07-17T09:49:17.472Z"
   },
   {
    "duration": 11,
    "start_time": "2024-07-17T09:49:58.414Z"
   },
   {
    "duration": 11,
    "start_time": "2024-07-17T09:50:15.961Z"
   },
   {
    "duration": 24,
    "start_time": "2024-07-17T09:59:06.759Z"
   },
   {
    "duration": 22,
    "start_time": "2024-07-17T09:59:09.442Z"
   },
   {
    "duration": 1025,
    "start_time": "2024-07-17T09:59:58.244Z"
   },
   {
    "duration": 142,
    "start_time": "2024-07-17T09:59:59.271Z"
   },
   {
    "duration": 60,
    "start_time": "2024-07-17T09:59:59.415Z"
   },
   {
    "duration": 32,
    "start_time": "2024-07-17T09:59:59.479Z"
   },
   {
    "duration": 20,
    "start_time": "2024-07-17T09:59:59.514Z"
   },
   {
    "duration": 5,
    "start_time": "2024-07-17T09:59:59.535Z"
   },
   {
    "duration": 17,
    "start_time": "2024-07-17T09:59:59.541Z"
   },
   {
    "duration": 15,
    "start_time": "2024-07-17T09:59:59.560Z"
   },
   {
    "duration": 34,
    "start_time": "2024-07-17T09:59:59.577Z"
   },
   {
    "duration": 20,
    "start_time": "2024-07-17T09:59:59.613Z"
   },
   {
    "duration": 17,
    "start_time": "2024-07-17T09:59:59.635Z"
   },
   {
    "duration": 17,
    "start_time": "2024-07-17T09:59:59.654Z"
   },
   {
    "duration": 16,
    "start_time": "2024-07-17T10:00:20.475Z"
   },
   {
    "duration": 11,
    "start_time": "2024-07-17T10:00:39.399Z"
   },
   {
    "duration": 1125,
    "start_time": "2024-07-17T10:00:58.840Z"
   },
   {
    "duration": 142,
    "start_time": "2024-07-17T10:00:59.967Z"
   },
   {
    "duration": 63,
    "start_time": "2024-07-17T10:01:00.111Z"
   },
   {
    "duration": 33,
    "start_time": "2024-07-17T10:01:00.175Z"
   },
   {
    "duration": 105,
    "start_time": "2024-07-17T10:01:00.211Z"
   },
   {
    "duration": 61,
    "start_time": "2024-07-17T10:01:00.318Z"
   },
   {
    "duration": 98,
    "start_time": "2024-07-17T10:01:00.382Z"
   },
   {
    "duration": 50,
    "start_time": "2024-07-17T10:01:00.482Z"
   },
   {
    "duration": 66,
    "start_time": "2024-07-17T10:01:00.534Z"
   },
   {
    "duration": 56,
    "start_time": "2024-07-17T10:01:00.602Z"
   },
   {
    "duration": 55,
    "start_time": "2024-07-17T10:01:00.661Z"
   },
   {
    "duration": 71,
    "start_time": "2024-07-17T10:01:00.718Z"
   },
   {
    "duration": 11,
    "start_time": "2024-07-17T11:24:11.329Z"
   },
   {
    "duration": 12,
    "start_time": "2024-07-17T11:24:30.406Z"
   },
   {
    "duration": 12,
    "start_time": "2024-07-17T11:24:56.017Z"
   },
   {
    "duration": 10,
    "start_time": "2024-07-17T11:25:07.850Z"
   },
   {
    "duration": 11,
    "start_time": "2024-07-17T11:31:00.063Z"
   },
   {
    "duration": 13,
    "start_time": "2024-07-17T11:32:00.761Z"
   },
   {
    "duration": 1053,
    "start_time": "2024-07-17T11:32:14.400Z"
   },
   {
    "duration": 135,
    "start_time": "2024-07-17T11:32:15.455Z"
   },
   {
    "duration": 57,
    "start_time": "2024-07-17T11:32:15.591Z"
   },
   {
    "duration": 15,
    "start_time": "2024-07-17T11:32:15.649Z"
   },
   {
    "duration": 14,
    "start_time": "2024-07-17T11:32:15.666Z"
   },
   {
    "duration": 30,
    "start_time": "2024-07-17T11:32:15.681Z"
   },
   {
    "duration": 6,
    "start_time": "2024-07-17T11:32:15.712Z"
   },
   {
    "duration": 11,
    "start_time": "2024-07-17T11:32:15.719Z"
   },
   {
    "duration": 11,
    "start_time": "2024-07-17T11:32:15.732Z"
   },
   {
    "duration": 9,
    "start_time": "2024-07-17T11:32:15.745Z"
   },
   {
    "duration": 13,
    "start_time": "2024-07-17T11:32:15.756Z"
   },
   {
    "duration": 45,
    "start_time": "2024-07-17T11:32:15.771Z"
   },
   {
    "duration": 12,
    "start_time": "2024-07-17T11:32:53.395Z"
   },
   {
    "duration": 12,
    "start_time": "2024-07-17T12:07:06.446Z"
   },
   {
    "duration": 17,
    "start_time": "2024-07-17T12:09:10.487Z"
   },
   {
    "duration": 12,
    "start_time": "2024-07-17T12:10:59.740Z"
   },
   {
    "duration": 13,
    "start_time": "2024-07-17T12:12:36.969Z"
   },
   {
    "duration": 12,
    "start_time": "2024-07-17T12:13:21.688Z"
   },
   {
    "duration": 12,
    "start_time": "2024-07-17T12:57:21.244Z"
   },
   {
    "duration": 7,
    "start_time": "2024-07-17T12:59:22.884Z"
   },
   {
    "duration": 102,
    "start_time": "2024-07-17T13:26:48.837Z"
   },
   {
    "duration": 1016,
    "start_time": "2024-07-17T13:27:07.851Z"
   },
   {
    "duration": 139,
    "start_time": "2024-07-17T13:27:08.868Z"
   },
   {
    "duration": 57,
    "start_time": "2024-07-17T13:27:09.009Z"
   },
   {
    "duration": 16,
    "start_time": "2024-07-17T13:27:09.067Z"
   },
   {
    "duration": 31,
    "start_time": "2024-07-17T13:27:09.085Z"
   },
   {
    "duration": 114,
    "start_time": "2024-07-17T13:27:09.118Z"
   },
   {
    "duration": 0,
    "start_time": "2024-07-17T13:27:09.233Z"
   },
   {
    "duration": 0,
    "start_time": "2024-07-17T13:27:09.234Z"
   },
   {
    "duration": 0,
    "start_time": "2024-07-17T13:27:09.235Z"
   },
   {
    "duration": 0,
    "start_time": "2024-07-17T13:27:09.236Z"
   },
   {
    "duration": 0,
    "start_time": "2024-07-17T13:27:09.237Z"
   },
   {
    "duration": 0,
    "start_time": "2024-07-17T13:27:09.238Z"
   },
   {
    "duration": 0,
    "start_time": "2024-07-17T13:27:09.239Z"
   },
   {
    "duration": 0,
    "start_time": "2024-07-17T13:27:09.240Z"
   },
   {
    "duration": 7,
    "start_time": "2024-07-17T13:27:24.782Z"
   },
   {
    "duration": 6,
    "start_time": "2024-07-17T13:27:59.386Z"
   },
   {
    "duration": 1048,
    "start_time": "2024-07-17T13:28:30.525Z"
   },
   {
    "duration": 138,
    "start_time": "2024-07-17T13:28:31.575Z"
   },
   {
    "duration": 58,
    "start_time": "2024-07-17T13:28:31.714Z"
   },
   {
    "duration": 17,
    "start_time": "2024-07-17T13:28:31.774Z"
   },
   {
    "duration": 14,
    "start_time": "2024-07-17T13:28:31.807Z"
   },
   {
    "duration": 43,
    "start_time": "2024-07-17T13:28:31.823Z"
   },
   {
    "duration": 43,
    "start_time": "2024-07-17T13:28:31.867Z"
   },
   {
    "duration": 18,
    "start_time": "2024-07-17T13:28:31.911Z"
   },
   {
    "duration": 35,
    "start_time": "2024-07-17T13:28:31.930Z"
   },
   {
    "duration": 15,
    "start_time": "2024-07-17T13:28:31.967Z"
   },
   {
    "duration": 28,
    "start_time": "2024-07-17T13:28:31.983Z"
   },
   {
    "duration": 11,
    "start_time": "2024-07-17T13:28:32.013Z"
   },
   {
    "duration": 20,
    "start_time": "2024-07-17T13:28:32.026Z"
   },
   {
    "duration": 129,
    "start_time": "2024-07-17T13:28:32.048Z"
   },
   {
    "duration": 270,
    "start_time": "2024-07-17T13:29:35.890Z"
   },
   {
    "duration": 9,
    "start_time": "2024-07-17T13:32:25.725Z"
   },
   {
    "duration": 282,
    "start_time": "2024-07-17T13:32:34.935Z"
   },
   {
    "duration": 269,
    "start_time": "2024-07-17T13:38:20.953Z"
   },
   {
    "duration": 201,
    "start_time": "2024-07-17T13:42:03.432Z"
   },
   {
    "duration": 198,
    "start_time": "2024-07-17T13:43:32.380Z"
   },
   {
    "duration": 194,
    "start_time": "2024-07-17T13:43:55.963Z"
   },
   {
    "duration": 264,
    "start_time": "2024-07-17T13:47:59.150Z"
   },
   {
    "duration": 245,
    "start_time": "2024-07-17T13:48:14.150Z"
   },
   {
    "duration": 238,
    "start_time": "2024-07-17T13:57:42.907Z"
   },
   {
    "duration": 109,
    "start_time": "2024-07-17T14:02:59.704Z"
   },
   {
    "duration": 226,
    "start_time": "2024-07-17T14:09:37.399Z"
   },
   {
    "duration": 309,
    "start_time": "2024-07-17T14:10:33.323Z"
   },
   {
    "duration": 239,
    "start_time": "2024-07-17T14:11:07.662Z"
   },
   {
    "duration": 236,
    "start_time": "2024-07-17T14:12:48.587Z"
   },
   {
    "duration": 221,
    "start_time": "2024-07-17T14:12:54.051Z"
   },
   {
    "duration": 226,
    "start_time": "2024-07-17T14:13:36.315Z"
   },
   {
    "duration": 220,
    "start_time": "2024-07-17T14:13:48.610Z"
   },
   {
    "duration": 285,
    "start_time": "2024-07-17T14:22:25.558Z"
   },
   {
    "duration": 295,
    "start_time": "2024-07-17T14:24:50.257Z"
   },
   {
    "duration": 69,
    "start_time": "2024-07-17T14:33:50.609Z"
   },
   {
    "duration": 355,
    "start_time": "2024-07-17T14:40:31.159Z"
   },
   {
    "duration": 217,
    "start_time": "2024-07-17T14:42:08.542Z"
   },
   {
    "duration": 339,
    "start_time": "2024-07-17T14:43:00.805Z"
   },
   {
    "duration": 230,
    "start_time": "2024-07-17T15:05:15.255Z"
   },
   {
    "duration": 220,
    "start_time": "2024-07-17T15:05:34.692Z"
   },
   {
    "duration": 240,
    "start_time": "2024-07-17T15:05:43.438Z"
   },
   {
    "duration": 240,
    "start_time": "2024-07-17T15:11:04.685Z"
   },
   {
    "duration": 243,
    "start_time": "2024-07-17T15:11:19.341Z"
   },
   {
    "duration": 338,
    "start_time": "2024-07-17T15:27:18.032Z"
   },
   {
    "duration": 274,
    "start_time": "2024-07-17T15:28:41.053Z"
   },
   {
    "duration": 278,
    "start_time": "2024-07-17T15:28:51.235Z"
   },
   {
    "duration": 222,
    "start_time": "2024-07-17T15:29:07.472Z"
   },
   {
    "duration": 345,
    "start_time": "2024-07-17T15:29:15.582Z"
   },
   {
    "duration": 417,
    "start_time": "2024-07-17T15:30:14.276Z"
   },
   {
    "duration": 289,
    "start_time": "2024-07-17T15:31:11.257Z"
   },
   {
    "duration": 299,
    "start_time": "2024-07-17T15:31:42.160Z"
   },
   {
    "duration": 312,
    "start_time": "2024-07-17T15:32:12.942Z"
   },
   {
    "duration": 307,
    "start_time": "2024-07-17T15:32:20.939Z"
   },
   {
    "duration": 302,
    "start_time": "2024-07-17T15:37:08.353Z"
   },
   {
    "duration": 327,
    "start_time": "2024-07-17T15:37:15.138Z"
   },
   {
    "duration": 348,
    "start_time": "2024-07-17T15:39:53.594Z"
   },
   {
    "duration": 312,
    "start_time": "2024-07-17T15:42:18.319Z"
   },
   {
    "duration": 333,
    "start_time": "2024-07-17T15:42:33.414Z"
   },
   {
    "duration": 51,
    "start_time": "2024-07-17T21:18:14.804Z"
   },
   {
    "duration": 1360,
    "start_time": "2024-07-17T21:19:01.876Z"
   },
   {
    "duration": 226,
    "start_time": "2024-07-17T21:19:03.238Z"
   },
   {
    "duration": 59,
    "start_time": "2024-07-17T21:19:03.466Z"
   },
   {
    "duration": 17,
    "start_time": "2024-07-17T21:19:03.527Z"
   },
   {
    "duration": 17,
    "start_time": "2024-07-17T21:19:03.546Z"
   },
   {
    "duration": 9,
    "start_time": "2024-07-17T21:19:03.565Z"
   },
   {
    "duration": 7,
    "start_time": "2024-07-17T21:19:03.576Z"
   },
   {
    "duration": 9,
    "start_time": "2024-07-17T21:19:03.584Z"
   },
   {
    "duration": 8,
    "start_time": "2024-07-17T21:19:03.594Z"
   },
   {
    "duration": 44,
    "start_time": "2024-07-17T21:19:03.605Z"
   },
   {
    "duration": 14,
    "start_time": "2024-07-17T21:19:03.650Z"
   },
   {
    "duration": 12,
    "start_time": "2024-07-17T21:19:03.666Z"
   },
   {
    "duration": 12,
    "start_time": "2024-07-17T21:19:03.680Z"
   },
   {
    "duration": 329,
    "start_time": "2024-07-17T21:19:03.694Z"
   },
   {
    "duration": 339,
    "start_time": "2024-07-17T21:19:04.025Z"
   },
   {
    "duration": 264,
    "start_time": "2024-07-17T21:19:04.366Z"
   },
   {
    "duration": 390,
    "start_time": "2024-07-17T21:19:04.632Z"
   },
   {
    "duration": 268,
    "start_time": "2024-07-17T21:19:05.023Z"
   },
   {
    "duration": 328,
    "start_time": "2024-07-17T21:19:05.293Z"
   },
   {
    "duration": 12,
    "start_time": "2024-07-17T21:19:05.623Z"
   },
   {
    "duration": 129,
    "start_time": "2024-07-17T21:20:57.770Z"
   },
   {
    "duration": 136,
    "start_time": "2024-07-17T21:25:12.966Z"
   },
   {
    "duration": 142,
    "start_time": "2024-07-17T21:25:27.230Z"
   },
   {
    "duration": 7,
    "start_time": "2024-07-17T21:31:11.626Z"
   },
   {
    "duration": 5,
    "start_time": "2024-07-17T21:31:37.883Z"
   },
   {
    "duration": 1181,
    "start_time": "2024-07-17T21:46:32.176Z"
   },
   {
    "duration": 11,
    "start_time": "2024-07-17T21:48:29.230Z"
   },
   {
    "duration": 213,
    "start_time": "2024-07-17T21:51:50.304Z"
   },
   {
    "duration": 149,
    "start_time": "2024-07-17T21:54:59.829Z"
   },
   {
    "duration": 135,
    "start_time": "2024-07-17T21:55:19.320Z"
   },
   {
    "duration": 1274,
    "start_time": "2024-07-18T10:27:08.421Z"
   },
   {
    "duration": 305,
    "start_time": "2024-07-18T10:27:09.697Z"
   },
   {
    "duration": 58,
    "start_time": "2024-07-18T10:27:10.003Z"
   },
   {
    "duration": 16,
    "start_time": "2024-07-18T10:27:10.063Z"
   },
   {
    "duration": 58,
    "start_time": "2024-07-18T10:27:10.080Z"
   },
   {
    "duration": 17,
    "start_time": "2024-07-18T10:27:10.140Z"
   },
   {
    "duration": 77,
    "start_time": "2024-07-18T10:27:10.159Z"
   },
   {
    "duration": 10,
    "start_time": "2024-07-18T10:27:10.237Z"
   },
   {
    "duration": 8,
    "start_time": "2024-07-18T10:27:10.249Z"
   },
   {
    "duration": 11,
    "start_time": "2024-07-18T10:27:10.260Z"
   },
   {
    "duration": 16,
    "start_time": "2024-07-18T10:27:10.272Z"
   },
   {
    "duration": 13,
    "start_time": "2024-07-18T10:27:10.290Z"
   },
   {
    "duration": 15,
    "start_time": "2024-07-18T10:27:10.304Z"
   },
   {
    "duration": 307,
    "start_time": "2024-07-18T10:27:10.321Z"
   },
   {
    "duration": 331,
    "start_time": "2024-07-18T10:27:10.630Z"
   },
   {
    "duration": 231,
    "start_time": "2024-07-18T10:27:10.963Z"
   },
   {
    "duration": 398,
    "start_time": "2024-07-18T10:27:11.195Z"
   },
   {
    "duration": 259,
    "start_time": "2024-07-18T10:27:11.595Z"
   },
   {
    "duration": 339,
    "start_time": "2024-07-18T10:27:11.855Z"
   },
   {
    "duration": 15,
    "start_time": "2024-07-18T10:27:12.196Z"
   },
   {
    "duration": 177,
    "start_time": "2024-07-18T10:27:12.212Z"
   },
   {
    "duration": 4,
    "start_time": "2024-07-18T10:27:12.390Z"
   },
   {
    "duration": 18,
    "start_time": "2024-07-18T10:27:12.396Z"
   },
   {
    "duration": 165,
    "start_time": "2024-07-18T10:27:12.415Z"
   },
   {
    "duration": 5,
    "start_time": "2024-07-18T10:41:11.356Z"
   },
   {
    "duration": 45,
    "start_time": "2024-07-18T10:47:33.672Z"
   },
   {
    "duration": 278,
    "start_time": "2024-07-18T11:37:12.758Z"
   },
   {
    "duration": 150,
    "start_time": "2024-07-18T11:52:26.200Z"
   },
   {
    "duration": 130,
    "start_time": "2024-07-18T11:52:55.138Z"
   },
   {
    "duration": 122,
    "start_time": "2024-07-18T13:14:40.210Z"
   },
   {
    "duration": 102,
    "start_time": "2024-07-18T13:15:22.415Z"
   },
   {
    "duration": 218,
    "start_time": "2024-07-18T13:17:15.989Z"
   },
   {
    "duration": 52,
    "start_time": "2024-07-18T13:20:31.421Z"
   },
   {
    "duration": 1011,
    "start_time": "2024-07-18T13:37:08.697Z"
   },
   {
    "duration": 1103,
    "start_time": "2024-07-18T13:40:52.145Z"
   },
   {
    "duration": 93,
    "start_time": "2024-07-18T13:40:53.249Z"
   },
   {
    "duration": 56,
    "start_time": "2024-07-18T13:40:53.344Z"
   },
   {
    "duration": 16,
    "start_time": "2024-07-18T13:40:53.402Z"
   },
   {
    "duration": 14,
    "start_time": "2024-07-18T13:40:53.420Z"
   },
   {
    "duration": 5,
    "start_time": "2024-07-18T13:40:53.436Z"
   },
   {
    "duration": 6,
    "start_time": "2024-07-18T13:40:53.443Z"
   },
   {
    "duration": 8,
    "start_time": "2024-07-18T13:40:53.450Z"
   },
   {
    "duration": 8,
    "start_time": "2024-07-18T13:40:53.459Z"
   },
   {
    "duration": 10,
    "start_time": "2024-07-18T13:40:53.507Z"
   },
   {
    "duration": 13,
    "start_time": "2024-07-18T13:40:53.518Z"
   },
   {
    "duration": 13,
    "start_time": "2024-07-18T13:40:53.532Z"
   },
   {
    "duration": 20,
    "start_time": "2024-07-18T13:40:53.546Z"
   },
   {
    "duration": 305,
    "start_time": "2024-07-18T13:40:53.568Z"
   },
   {
    "duration": 316,
    "start_time": "2024-07-18T13:40:53.875Z"
   },
   {
    "duration": 224,
    "start_time": "2024-07-18T13:40:54.192Z"
   },
   {
    "duration": 326,
    "start_time": "2024-07-18T13:40:54.418Z"
   },
   {
    "duration": 257,
    "start_time": "2024-07-18T13:40:54.745Z"
   },
   {
    "duration": 347,
    "start_time": "2024-07-18T13:40:55.003Z"
   },
   {
    "duration": 11,
    "start_time": "2024-07-18T13:40:55.352Z"
   },
   {
    "duration": 144,
    "start_time": "2024-07-18T13:40:55.365Z"
   },
   {
    "duration": 4,
    "start_time": "2024-07-18T13:40:55.510Z"
   },
   {
    "duration": 9,
    "start_time": "2024-07-18T13:40:55.516Z"
   },
   {
    "duration": 162,
    "start_time": "2024-07-18T13:40:55.527Z"
   },
   {
    "duration": 4,
    "start_time": "2024-07-18T13:40:55.691Z"
   },
   {
    "duration": 229,
    "start_time": "2024-07-18T13:40:55.706Z"
   },
   {
    "duration": 1148,
    "start_time": "2024-07-18T13:40:55.937Z"
   },
   {
    "duration": 211,
    "start_time": "2024-07-18T13:44:12.641Z"
   },
   {
    "duration": 163,
    "start_time": "2024-07-18T13:44:28.392Z"
   },
   {
    "duration": 165,
    "start_time": "2024-07-18T13:44:53.938Z"
   },
   {
    "duration": 180,
    "start_time": "2024-07-18T13:45:37.000Z"
   },
   {
    "duration": 167,
    "start_time": "2024-07-18T13:47:29.811Z"
   },
   {
    "duration": 200,
    "start_time": "2024-07-18T13:47:52.789Z"
   },
   {
    "duration": 155,
    "start_time": "2024-07-18T13:49:26.459Z"
   },
   {
    "duration": 169,
    "start_time": "2024-07-18T14:20:10.900Z"
   },
   {
    "duration": 10,
    "start_time": "2024-07-18T14:20:49.916Z"
   },
   {
    "duration": 1048,
    "start_time": "2024-07-18T14:41:43.459Z"
   },
   {
    "duration": 878,
    "start_time": "2024-07-18T14:42:34.152Z"
   },
   {
    "duration": 9,
    "start_time": "2024-07-18T14:42:58.955Z"
   },
   {
    "duration": 9,
    "start_time": "2024-07-18T14:43:16.999Z"
   },
   {
    "duration": 10,
    "start_time": "2024-07-18T14:54:13.772Z"
   },
   {
    "duration": 13,
    "start_time": "2024-07-18T15:31:01.249Z"
   },
   {
    "duration": 8,
    "start_time": "2024-07-18T15:31:35.478Z"
   },
   {
    "duration": 8,
    "start_time": "2024-07-18T15:31:49.556Z"
   },
   {
    "duration": 9,
    "start_time": "2024-07-18T15:32:46.117Z"
   },
   {
    "duration": 31,
    "start_time": "2024-07-18T15:36:20.058Z"
   },
   {
    "duration": 31,
    "start_time": "2024-07-18T15:37:37.032Z"
   },
   {
    "duration": 911,
    "start_time": "2024-07-18T15:46:20.844Z"
   },
   {
    "duration": 14,
    "start_time": "2024-07-18T15:46:54.464Z"
   },
   {
    "duration": 16,
    "start_time": "2024-07-18T15:48:01.041Z"
   },
   {
    "duration": 1130,
    "start_time": "2024-07-18T16:53:17.266Z"
   },
   {
    "duration": 92,
    "start_time": "2024-07-18T16:53:18.398Z"
   },
   {
    "duration": 60,
    "start_time": "2024-07-18T16:53:18.492Z"
   },
   {
    "duration": 16,
    "start_time": "2024-07-18T16:53:18.554Z"
   },
   {
    "duration": 13,
    "start_time": "2024-07-18T16:53:18.571Z"
   },
   {
    "duration": 14,
    "start_time": "2024-07-18T16:53:18.609Z"
   },
   {
    "duration": 10,
    "start_time": "2024-07-18T16:53:18.624Z"
   },
   {
    "duration": 8,
    "start_time": "2024-07-18T16:53:18.635Z"
   },
   {
    "duration": 10,
    "start_time": "2024-07-18T16:53:18.644Z"
   },
   {
    "duration": 9,
    "start_time": "2024-07-18T16:53:18.656Z"
   },
   {
    "duration": 12,
    "start_time": "2024-07-18T16:53:18.666Z"
   },
   {
    "duration": 42,
    "start_time": "2024-07-18T16:53:18.680Z"
   },
   {
    "duration": 15,
    "start_time": "2024-07-18T16:53:18.724Z"
   },
   {
    "duration": 321,
    "start_time": "2024-07-18T16:53:18.741Z"
   },
   {
    "duration": 342,
    "start_time": "2024-07-18T16:53:19.064Z"
   },
   {
    "duration": 238,
    "start_time": "2024-07-18T16:53:19.408Z"
   },
   {
    "duration": 317,
    "start_time": "2024-07-18T16:53:19.648Z"
   },
   {
    "duration": 270,
    "start_time": "2024-07-18T16:53:19.967Z"
   },
   {
    "duration": 329,
    "start_time": "2024-07-18T16:53:20.239Z"
   },
   {
    "duration": 13,
    "start_time": "2024-07-18T16:53:20.570Z"
   },
   {
    "duration": 161,
    "start_time": "2024-07-18T16:53:20.584Z"
   },
   {
    "duration": 4,
    "start_time": "2024-07-18T16:53:20.746Z"
   },
   {
    "duration": 10,
    "start_time": "2024-07-18T16:53:20.751Z"
   },
   {
    "duration": 177,
    "start_time": "2024-07-18T16:53:20.762Z"
   },
   {
    "duration": 4,
    "start_time": "2024-07-18T16:53:20.940Z"
   },
   {
    "duration": 246,
    "start_time": "2024-07-18T16:53:20.946Z"
   },
   {
    "duration": 201,
    "start_time": "2024-07-18T16:53:21.194Z"
   },
   {
    "duration": 17,
    "start_time": "2024-07-18T16:53:21.410Z"
   },
   {
    "duration": 14,
    "start_time": "2024-07-18T16:53:21.428Z"
   },
   {
    "duration": 30,
    "start_time": "2024-07-18T16:53:21.443Z"
   },
   {
    "duration": 14,
    "start_time": "2024-07-18T16:53:21.474Z"
   },
   {
    "duration": 1188,
    "start_time": "2024-07-19T09:37:09.897Z"
   },
   {
    "duration": 80,
    "start_time": "2024-07-19T09:37:11.087Z"
   },
   {
    "duration": 70,
    "start_time": "2024-07-19T09:37:11.169Z"
   },
   {
    "duration": 20,
    "start_time": "2024-07-19T09:37:11.241Z"
   },
   {
    "duration": 17,
    "start_time": "2024-07-19T09:37:11.264Z"
   },
   {
    "duration": 8,
    "start_time": "2024-07-19T09:37:11.283Z"
   },
   {
    "duration": 7,
    "start_time": "2024-07-19T09:37:11.293Z"
   },
   {
    "duration": 14,
    "start_time": "2024-07-19T09:37:11.302Z"
   },
   {
    "duration": 16,
    "start_time": "2024-07-19T09:37:11.347Z"
   },
   {
    "duration": 14,
    "start_time": "2024-07-19T09:37:11.364Z"
   },
   {
    "duration": 14,
    "start_time": "2024-07-19T09:37:11.380Z"
   },
   {
    "duration": 14,
    "start_time": "2024-07-19T09:37:11.396Z"
   },
   {
    "duration": 51,
    "start_time": "2024-07-19T09:37:11.412Z"
   },
   {
    "duration": 326,
    "start_time": "2024-07-19T09:37:11.467Z"
   },
   {
    "duration": 371,
    "start_time": "2024-07-19T09:37:11.794Z"
   },
   {
    "duration": 261,
    "start_time": "2024-07-19T09:37:12.166Z"
   },
   {
    "duration": 374,
    "start_time": "2024-07-19T09:37:12.428Z"
   },
   {
    "duration": 287,
    "start_time": "2024-07-19T09:37:12.803Z"
   },
   {
    "duration": 331,
    "start_time": "2024-07-19T09:37:13.091Z"
   },
   {
    "duration": 22,
    "start_time": "2024-07-19T09:37:13.424Z"
   },
   {
    "duration": 149,
    "start_time": "2024-07-19T09:37:13.448Z"
   },
   {
    "duration": 4,
    "start_time": "2024-07-19T09:37:13.599Z"
   },
   {
    "duration": 11,
    "start_time": "2024-07-19T09:37:13.604Z"
   },
   {
    "duration": 179,
    "start_time": "2024-07-19T09:37:13.617Z"
   },
   {
    "duration": 4,
    "start_time": "2024-07-19T09:37:13.798Z"
   },
   {
    "duration": 249,
    "start_time": "2024-07-19T09:37:13.804Z"
   },
   {
    "duration": 177,
    "start_time": "2024-07-19T09:37:14.056Z"
   },
   {
    "duration": 24,
    "start_time": "2024-07-19T09:37:14.235Z"
   },
   {
    "duration": 13,
    "start_time": "2024-07-19T09:37:14.261Z"
   },
   {
    "duration": 36,
    "start_time": "2024-07-19T09:37:14.276Z"
   },
   {
    "duration": 37,
    "start_time": "2024-07-19T09:37:14.314Z"
   },
   {
    "duration": 1221,
    "start_time": "2024-07-19T09:41:28.286Z"
   },
   {
    "duration": 75,
    "start_time": "2024-07-19T09:41:29.508Z"
   },
   {
    "duration": 55,
    "start_time": "2024-07-19T09:41:29.585Z"
   },
   {
    "duration": 27,
    "start_time": "2024-07-19T09:41:29.642Z"
   },
   {
    "duration": 13,
    "start_time": "2024-07-19T09:41:29.670Z"
   },
   {
    "duration": 6,
    "start_time": "2024-07-19T09:41:29.684Z"
   },
   {
    "duration": 6,
    "start_time": "2024-07-19T09:41:29.691Z"
   },
   {
    "duration": 8,
    "start_time": "2024-07-19T09:41:29.699Z"
   },
   {
    "duration": 12,
    "start_time": "2024-07-19T09:41:29.709Z"
   },
   {
    "duration": 38,
    "start_time": "2024-07-19T09:41:29.724Z"
   },
   {
    "duration": 30,
    "start_time": "2024-07-19T09:41:29.763Z"
   },
   {
    "duration": 13,
    "start_time": "2024-07-19T09:41:29.795Z"
   },
   {
    "duration": 18,
    "start_time": "2024-07-19T09:41:29.809Z"
   },
   {
    "duration": 306,
    "start_time": "2024-07-19T09:41:29.829Z"
   },
   {
    "duration": 345,
    "start_time": "2024-07-19T09:41:30.136Z"
   },
   {
    "duration": 259,
    "start_time": "2024-07-19T09:41:30.483Z"
   },
   {
    "duration": 352,
    "start_time": "2024-07-19T09:41:30.754Z"
   },
   {
    "duration": 273,
    "start_time": "2024-07-19T09:41:31.107Z"
   },
   {
    "duration": 344,
    "start_time": "2024-07-19T09:41:31.382Z"
   },
   {
    "duration": 23,
    "start_time": "2024-07-19T09:41:31.728Z"
   },
   {
    "duration": 202,
    "start_time": "2024-07-19T09:41:31.753Z"
   },
   {
    "duration": 4,
    "start_time": "2024-07-19T09:41:31.957Z"
   },
   {
    "duration": 51,
    "start_time": "2024-07-19T09:41:31.962Z"
   },
   {
    "duration": 180,
    "start_time": "2024-07-19T09:41:32.014Z"
   },
   {
    "duration": 4,
    "start_time": "2024-07-19T09:41:32.196Z"
   },
   {
    "duration": 269,
    "start_time": "2024-07-19T09:41:32.201Z"
   },
   {
    "duration": 360,
    "start_time": "2024-07-19T09:41:32.471Z"
   },
   {
    "duration": 132,
    "start_time": "2024-07-19T09:41:32.834Z"
   },
   {
    "duration": 60,
    "start_time": "2024-07-19T09:41:32.968Z"
   },
   {
    "duration": 105,
    "start_time": "2024-07-19T09:41:33.029Z"
   },
   {
    "duration": 105,
    "start_time": "2024-07-19T09:41:33.135Z"
   },
   {
    "duration": 1175,
    "start_time": "2024-07-19T09:51:32.414Z"
   },
   {
    "duration": 82,
    "start_time": "2024-07-19T09:51:33.591Z"
   },
   {
    "duration": 56,
    "start_time": "2024-07-19T09:51:33.674Z"
   },
   {
    "duration": 26,
    "start_time": "2024-07-19T09:51:33.732Z"
   },
   {
    "duration": 20,
    "start_time": "2024-07-19T09:51:33.761Z"
   },
   {
    "duration": 60,
    "start_time": "2024-07-19T09:51:33.783Z"
   },
   {
    "duration": 19,
    "start_time": "2024-07-19T09:51:33.853Z"
   },
   {
    "duration": 10,
    "start_time": "2024-07-19T09:51:33.874Z"
   },
   {
    "duration": 10,
    "start_time": "2024-07-19T09:51:33.887Z"
   },
   {
    "duration": 10,
    "start_time": "2024-07-19T09:51:33.899Z"
   },
   {
    "duration": 15,
    "start_time": "2024-07-19T09:51:33.910Z"
   },
   {
    "duration": 19,
    "start_time": "2024-07-19T09:51:33.946Z"
   },
   {
    "duration": 29,
    "start_time": "2024-07-19T09:51:33.966Z"
   },
   {
    "duration": 333,
    "start_time": "2024-07-19T09:51:33.998Z"
   },
   {
    "duration": 359,
    "start_time": "2024-07-19T09:51:34.332Z"
   },
   {
    "duration": 242,
    "start_time": "2024-07-19T09:51:34.693Z"
   },
   {
    "duration": 358,
    "start_time": "2024-07-19T09:51:34.937Z"
   },
   {
    "duration": 261,
    "start_time": "2024-07-19T09:51:35.296Z"
   },
   {
    "duration": 352,
    "start_time": "2024-07-19T09:51:35.561Z"
   },
   {
    "duration": 11,
    "start_time": "2024-07-19T09:51:35.915Z"
   },
   {
    "duration": 166,
    "start_time": "2024-07-19T09:51:35.927Z"
   },
   {
    "duration": 4,
    "start_time": "2024-07-19T09:51:36.094Z"
   },
   {
    "duration": 21,
    "start_time": "2024-07-19T09:51:36.099Z"
   },
   {
    "duration": 177,
    "start_time": "2024-07-19T09:51:36.121Z"
   },
   {
    "duration": 4,
    "start_time": "2024-07-19T09:51:36.300Z"
   },
   {
    "duration": 236,
    "start_time": "2024-07-19T09:51:36.306Z"
   },
   {
    "duration": 199,
    "start_time": "2024-07-19T09:51:36.556Z"
   },
   {
    "duration": 10,
    "start_time": "2024-07-19T09:51:36.757Z"
   },
   {
    "duration": 64,
    "start_time": "2024-07-19T09:51:36.769Z"
   },
   {
    "duration": 41,
    "start_time": "2024-07-19T09:51:36.835Z"
   },
   {
    "duration": 14,
    "start_time": "2024-07-19T09:51:36.877Z"
   },
   {
    "duration": 1233,
    "start_time": "2024-07-19T10:26:03.765Z"
   },
   {
    "duration": 255,
    "start_time": "2024-07-19T10:26:05.000Z"
   },
   {
    "duration": 56,
    "start_time": "2024-07-19T10:26:05.257Z"
   },
   {
    "duration": 20,
    "start_time": "2024-07-19T10:26:05.315Z"
   },
   {
    "duration": 14,
    "start_time": "2024-07-19T10:26:05.337Z"
   },
   {
    "duration": 7,
    "start_time": "2024-07-19T10:26:05.352Z"
   },
   {
    "duration": 6,
    "start_time": "2024-07-19T10:26:05.360Z"
   },
   {
    "duration": 7,
    "start_time": "2024-07-19T10:26:05.368Z"
   },
   {
    "duration": 9,
    "start_time": "2024-07-19T10:26:05.376Z"
   },
   {
    "duration": 44,
    "start_time": "2024-07-19T10:26:05.387Z"
   },
   {
    "duration": 13,
    "start_time": "2024-07-19T10:26:05.433Z"
   },
   {
    "duration": 12,
    "start_time": "2024-07-19T10:26:05.448Z"
   },
   {
    "duration": 14,
    "start_time": "2024-07-19T10:26:05.461Z"
   },
   {
    "duration": 312,
    "start_time": "2024-07-19T10:26:05.477Z"
   },
   {
    "duration": 324,
    "start_time": "2024-07-19T10:26:05.790Z"
   },
   {
    "duration": 226,
    "start_time": "2024-07-19T10:26:06.115Z"
   },
   {
    "duration": 367,
    "start_time": "2024-07-19T10:26:06.343Z"
   },
   {
    "duration": 243,
    "start_time": "2024-07-19T10:26:06.712Z"
   },
   {
    "duration": 331,
    "start_time": "2024-07-19T10:26:06.957Z"
   },
   {
    "duration": 11,
    "start_time": "2024-07-19T10:26:07.289Z"
   },
   {
    "duration": 140,
    "start_time": "2024-07-19T10:26:07.301Z"
   },
   {
    "duration": 5,
    "start_time": "2024-07-19T10:26:07.443Z"
   },
   {
    "duration": 10,
    "start_time": "2024-07-19T10:26:07.450Z"
   },
   {
    "duration": 169,
    "start_time": "2024-07-19T10:26:07.461Z"
   },
   {
    "duration": 5,
    "start_time": "2024-07-19T10:26:07.632Z"
   },
   {
    "duration": 236,
    "start_time": "2024-07-19T10:26:07.639Z"
   },
   {
    "duration": 170,
    "start_time": "2024-07-19T10:26:07.877Z"
   },
   {
    "duration": 11,
    "start_time": "2024-07-19T10:26:08.051Z"
   },
   {
    "duration": 47,
    "start_time": "2024-07-19T10:26:08.064Z"
   },
   {
    "duration": 99,
    "start_time": "2024-07-19T10:26:08.113Z"
   },
   {
    "duration": 14,
    "start_time": "2024-07-19T10:26:08.214Z"
   },
   {
    "duration": 10,
    "start_time": "2024-07-19T11:24:22.371Z"
   },
   {
    "duration": 6,
    "start_time": "2024-07-19T11:29:57.614Z"
   },
   {
    "duration": 7,
    "start_time": "2024-07-19T11:34:45.210Z"
   },
   {
    "duration": 7,
    "start_time": "2024-07-19T11:35:34.434Z"
   },
   {
    "duration": 7,
    "start_time": "2024-07-19T11:35:48.242Z"
   },
   {
    "duration": 9,
    "start_time": "2024-07-19T11:44:06.549Z"
   },
   {
    "duration": 106,
    "start_time": "2024-07-19T11:47:08.555Z"
   },
   {
    "duration": 46,
    "start_time": "2024-07-19T11:49:09.728Z"
   },
   {
    "duration": 14,
    "start_time": "2024-07-19T11:49:18.781Z"
   },
   {
    "duration": 12,
    "start_time": "2024-07-19T11:50:03.265Z"
   },
   {
    "duration": 12,
    "start_time": "2024-07-19T11:50:15.239Z"
   },
   {
    "duration": 1055,
    "start_time": "2024-07-19T11:50:20.056Z"
   },
   {
    "duration": 88,
    "start_time": "2024-07-19T11:50:21.113Z"
   },
   {
    "duration": 57,
    "start_time": "2024-07-19T11:50:21.202Z"
   },
   {
    "duration": 18,
    "start_time": "2024-07-19T11:50:21.262Z"
   },
   {
    "duration": 44,
    "start_time": "2024-07-19T11:50:21.282Z"
   },
   {
    "duration": 8,
    "start_time": "2024-07-19T11:50:21.328Z"
   },
   {
    "duration": 7,
    "start_time": "2024-07-19T11:50:21.338Z"
   },
   {
    "duration": 8,
    "start_time": "2024-07-19T11:50:21.347Z"
   },
   {
    "duration": 9,
    "start_time": "2024-07-19T11:50:21.357Z"
   },
   {
    "duration": 60,
    "start_time": "2024-07-19T11:50:21.369Z"
   },
   {
    "duration": 118,
    "start_time": "2024-07-19T11:50:21.431Z"
   },
   {
    "duration": 0,
    "start_time": "2024-07-19T11:50:21.551Z"
   },
   {
    "duration": 0,
    "start_time": "2024-07-19T11:50:21.553Z"
   },
   {
    "duration": 0,
    "start_time": "2024-07-19T11:50:21.554Z"
   },
   {
    "duration": 0,
    "start_time": "2024-07-19T11:50:21.555Z"
   },
   {
    "duration": 0,
    "start_time": "2024-07-19T11:50:21.557Z"
   },
   {
    "duration": 0,
    "start_time": "2024-07-19T11:50:21.558Z"
   },
   {
    "duration": 0,
    "start_time": "2024-07-19T11:50:21.560Z"
   },
   {
    "duration": 0,
    "start_time": "2024-07-19T11:50:21.561Z"
   },
   {
    "duration": 0,
    "start_time": "2024-07-19T11:50:21.563Z"
   },
   {
    "duration": 0,
    "start_time": "2024-07-19T11:50:21.564Z"
   },
   {
    "duration": 0,
    "start_time": "2024-07-19T11:50:21.566Z"
   },
   {
    "duration": 0,
    "start_time": "2024-07-19T11:50:21.567Z"
   },
   {
    "duration": 0,
    "start_time": "2024-07-19T11:50:21.568Z"
   },
   {
    "duration": 0,
    "start_time": "2024-07-19T11:50:21.570Z"
   },
   {
    "duration": 0,
    "start_time": "2024-07-19T11:50:21.571Z"
   },
   {
    "duration": 0,
    "start_time": "2024-07-19T11:50:21.573Z"
   },
   {
    "duration": 0,
    "start_time": "2024-07-19T11:50:21.574Z"
   },
   {
    "duration": 0,
    "start_time": "2024-07-19T11:50:21.576Z"
   },
   {
    "duration": 0,
    "start_time": "2024-07-19T11:50:21.577Z"
   },
   {
    "duration": 0,
    "start_time": "2024-07-19T11:50:21.578Z"
   },
   {
    "duration": 0,
    "start_time": "2024-07-19T11:50:21.580Z"
   },
   {
    "duration": 0,
    "start_time": "2024-07-19T11:50:21.580Z"
   },
   {
    "duration": 9,
    "start_time": "2024-07-19T11:51:19.114Z"
   },
   {
    "duration": 1064,
    "start_time": "2024-07-19T11:51:27.136Z"
   },
   {
    "duration": 88,
    "start_time": "2024-07-19T11:51:28.201Z"
   },
   {
    "duration": 56,
    "start_time": "2024-07-19T11:51:28.291Z"
   },
   {
    "duration": 16,
    "start_time": "2024-07-19T11:51:28.348Z"
   },
   {
    "duration": 14,
    "start_time": "2024-07-19T11:51:28.366Z"
   },
   {
    "duration": 6,
    "start_time": "2024-07-19T11:51:28.381Z"
   },
   {
    "duration": 7,
    "start_time": "2024-07-19T11:51:28.423Z"
   },
   {
    "duration": 25,
    "start_time": "2024-07-19T11:51:28.431Z"
   },
   {
    "duration": 8,
    "start_time": "2024-07-19T11:51:28.457Z"
   },
   {
    "duration": 7,
    "start_time": "2024-07-19T11:51:28.466Z"
   },
   {
    "duration": 9,
    "start_time": "2024-07-19T11:51:28.474Z"
   },
   {
    "duration": 8,
    "start_time": "2024-07-19T11:51:28.484Z"
   },
   {
    "duration": 40,
    "start_time": "2024-07-19T11:51:28.493Z"
   },
   {
    "duration": 11,
    "start_time": "2024-07-19T11:51:28.535Z"
   },
   {
    "duration": 13,
    "start_time": "2024-07-19T11:51:28.548Z"
   },
   {
    "duration": 326,
    "start_time": "2024-07-19T11:51:28.562Z"
   },
   {
    "duration": 308,
    "start_time": "2024-07-19T11:51:28.889Z"
   },
   {
    "duration": 228,
    "start_time": "2024-07-19T11:51:29.198Z"
   },
   {
    "duration": 332,
    "start_time": "2024-07-19T11:51:29.428Z"
   },
   {
    "duration": 237,
    "start_time": "2024-07-19T11:51:29.762Z"
   },
   {
    "duration": 372,
    "start_time": "2024-07-19T11:51:30.000Z"
   },
   {
    "duration": 11,
    "start_time": "2024-07-19T11:51:30.374Z"
   },
   {
    "duration": 209,
    "start_time": "2024-07-19T11:51:30.386Z"
   },
   {
    "duration": 5,
    "start_time": "2024-07-19T11:51:30.596Z"
   },
   {
    "duration": 99,
    "start_time": "2024-07-19T11:51:30.602Z"
   },
   {
    "duration": 180,
    "start_time": "2024-07-19T11:51:30.703Z"
   },
   {
    "duration": 4,
    "start_time": "2024-07-19T11:51:30.885Z"
   },
   {
    "duration": 234,
    "start_time": "2024-07-19T11:51:30.890Z"
   },
   {
    "duration": 167,
    "start_time": "2024-07-19T11:51:31.125Z"
   },
   {
    "duration": 10,
    "start_time": "2024-07-19T11:51:31.294Z"
   },
   {
    "duration": 42,
    "start_time": "2024-07-19T11:51:31.306Z"
   },
   {
    "duration": 59,
    "start_time": "2024-07-19T11:51:31.350Z"
   },
   {
    "duration": 21,
    "start_time": "2024-07-19T11:51:31.410Z"
   },
   {
    "duration": 102,
    "start_time": "2024-07-19T11:55:47.458Z"
   },
   {
    "duration": 10,
    "start_time": "2024-07-19T11:56:05.733Z"
   },
   {
    "duration": 10,
    "start_time": "2024-07-19T11:56:24.727Z"
   },
   {
    "duration": 56,
    "start_time": "2024-07-19T12:08:30.364Z"
   },
   {
    "duration": 39,
    "start_time": "2024-07-19T12:09:12.391Z"
   },
   {
    "duration": 1047,
    "start_time": "2024-07-19T12:11:42.362Z"
   },
   {
    "duration": 3,
    "start_time": "2024-07-19T12:11:51.448Z"
   },
   {
    "duration": 12,
    "start_time": "2024-07-19T12:12:19.173Z"
   },
   {
    "duration": 11,
    "start_time": "2024-07-19T12:12:29.961Z"
   },
   {
    "duration": 10,
    "start_time": "2024-07-19T12:12:54.732Z"
   },
   {
    "duration": 10,
    "start_time": "2024-07-19T12:14:08.956Z"
   },
   {
    "duration": 10,
    "start_time": "2024-07-19T12:15:18.473Z"
   },
   {
    "duration": 1096,
    "start_time": "2024-07-19T12:16:57.613Z"
   },
   {
    "duration": 88,
    "start_time": "2024-07-19T12:16:58.711Z"
   },
   {
    "duration": 57,
    "start_time": "2024-07-19T12:16:58.801Z"
   },
   {
    "duration": 19,
    "start_time": "2024-07-19T12:16:58.860Z"
   },
   {
    "duration": 13,
    "start_time": "2024-07-19T12:16:58.881Z"
   },
   {
    "duration": 31,
    "start_time": "2024-07-19T12:16:58.896Z"
   },
   {
    "duration": 6,
    "start_time": "2024-07-19T12:16:58.928Z"
   },
   {
    "duration": 7,
    "start_time": "2024-07-19T12:16:58.935Z"
   },
   {
    "duration": 11,
    "start_time": "2024-07-19T12:16:58.943Z"
   },
   {
    "duration": 7,
    "start_time": "2024-07-19T12:16:58.958Z"
   },
   {
    "duration": 11,
    "start_time": "2024-07-19T12:16:58.967Z"
   },
   {
    "duration": 51,
    "start_time": "2024-07-19T12:16:58.980Z"
   },
   {
    "duration": 8,
    "start_time": "2024-07-19T12:16:59.033Z"
   },
   {
    "duration": 11,
    "start_time": "2024-07-19T12:16:59.043Z"
   },
   {
    "duration": 12,
    "start_time": "2024-07-19T12:16:59.055Z"
   },
   {
    "duration": 12,
    "start_time": "2024-07-19T12:16:59.068Z"
   },
   {
    "duration": 334,
    "start_time": "2024-07-19T12:16:59.082Z"
   },
   {
    "duration": 370,
    "start_time": "2024-07-19T12:16:59.417Z"
   },
   {
    "duration": 215,
    "start_time": "2024-07-19T12:16:59.789Z"
   },
   {
    "duration": 345,
    "start_time": "2024-07-19T12:17:00.006Z"
   },
   {
    "duration": 250,
    "start_time": "2024-07-19T12:17:00.352Z"
   },
   {
    "duration": 380,
    "start_time": "2024-07-19T12:17:00.603Z"
   },
   {
    "duration": 16,
    "start_time": "2024-07-19T12:17:00.985Z"
   },
   {
    "duration": 184,
    "start_time": "2024-07-19T12:17:01.003Z"
   },
   {
    "duration": 5,
    "start_time": "2024-07-19T12:17:01.188Z"
   },
   {
    "duration": 28,
    "start_time": "2024-07-19T12:17:01.194Z"
   },
   {
    "duration": 200,
    "start_time": "2024-07-19T12:17:01.226Z"
   },
   {
    "duration": 4,
    "start_time": "2024-07-19T12:17:01.429Z"
   },
   {
    "duration": 231,
    "start_time": "2024-07-19T12:17:01.434Z"
   },
   {
    "duration": 163,
    "start_time": "2024-07-19T12:17:01.666Z"
   },
   {
    "duration": 10,
    "start_time": "2024-07-19T12:17:01.831Z"
   },
   {
    "duration": 9,
    "start_time": "2024-07-19T12:17:01.843Z"
   },
   {
    "duration": 43,
    "start_time": "2024-07-19T12:17:01.853Z"
   },
   {
    "duration": 36,
    "start_time": "2024-07-19T12:17:01.898Z"
   },
   {
    "duration": 7,
    "start_time": "2024-07-19T12:17:57.744Z"
   },
   {
    "duration": 1306,
    "start_time": "2024-07-19T18:19:03.787Z"
   },
   {
    "duration": 225,
    "start_time": "2024-07-19T18:19:05.095Z"
   },
   {
    "duration": 62,
    "start_time": "2024-07-19T18:19:05.322Z"
   },
   {
    "duration": 14,
    "start_time": "2024-07-19T18:19:05.386Z"
   },
   {
    "duration": 13,
    "start_time": "2024-07-19T18:19:05.401Z"
   },
   {
    "duration": 6,
    "start_time": "2024-07-19T18:19:05.415Z"
   },
   {
    "duration": 8,
    "start_time": "2024-07-19T18:19:05.437Z"
   },
   {
    "duration": 24,
    "start_time": "2024-07-19T18:19:05.448Z"
   },
   {
    "duration": 14,
    "start_time": "2024-07-19T18:19:05.473Z"
   },
   {
    "duration": 24,
    "start_time": "2024-07-19T18:19:05.490Z"
   },
   {
    "duration": 13,
    "start_time": "2024-07-19T18:19:05.515Z"
   },
   {
    "duration": 57,
    "start_time": "2024-07-19T18:19:05.529Z"
   },
   {
    "duration": 8,
    "start_time": "2024-07-19T18:19:05.588Z"
   },
   {
    "duration": 18,
    "start_time": "2024-07-19T18:19:05.598Z"
   },
   {
    "duration": 14,
    "start_time": "2024-07-19T18:19:05.617Z"
   },
   {
    "duration": 24,
    "start_time": "2024-07-19T18:19:05.632Z"
   },
   {
    "duration": 13,
    "start_time": "2024-07-19T18:19:05.658Z"
   },
   {
    "duration": 306,
    "start_time": "2024-07-19T18:19:05.672Z"
   },
   {
    "duration": 339,
    "start_time": "2024-07-19T18:19:05.979Z"
   },
   {
    "duration": 233,
    "start_time": "2024-07-19T18:19:06.319Z"
   },
   {
    "duration": 366,
    "start_time": "2024-07-19T18:19:06.554Z"
   },
   {
    "duration": 257,
    "start_time": "2024-07-19T18:19:06.922Z"
   },
   {
    "duration": 327,
    "start_time": "2024-07-19T18:19:07.180Z"
   },
   {
    "duration": 11,
    "start_time": "2024-07-19T18:19:07.508Z"
   },
   {
    "duration": 171,
    "start_time": "2024-07-19T18:19:07.521Z"
   },
   {
    "duration": 4,
    "start_time": "2024-07-19T18:19:07.693Z"
   },
   {
    "duration": 10,
    "start_time": "2024-07-19T18:19:07.698Z"
   },
   {
    "duration": 167,
    "start_time": "2024-07-19T18:19:07.711Z"
   },
   {
    "duration": 4,
    "start_time": "2024-07-19T18:19:07.879Z"
   },
   {
    "duration": 263,
    "start_time": "2024-07-19T18:19:07.885Z"
   },
   {
    "duration": 199,
    "start_time": "2024-07-19T18:19:08.150Z"
   },
   {
    "duration": 12,
    "start_time": "2024-07-19T18:19:08.353Z"
   },
   {
    "duration": 59,
    "start_time": "2024-07-19T18:19:08.366Z"
   },
   {
    "duration": 47,
    "start_time": "2024-07-19T18:19:08.427Z"
   },
   {
    "duration": 15,
    "start_time": "2024-07-19T18:19:08.476Z"
   },
   {
    "duration": 10,
    "start_time": "2024-07-19T18:21:12.253Z"
   },
   {
    "duration": 12,
    "start_time": "2024-07-19T18:21:20.617Z"
   },
   {
    "duration": 16,
    "start_time": "2024-07-19T18:21:24.668Z"
   },
   {
    "duration": 1082,
    "start_time": "2024-07-19T18:21:34.197Z"
   },
   {
    "duration": 81,
    "start_time": "2024-07-19T18:21:35.281Z"
   },
   {
    "duration": 54,
    "start_time": "2024-07-19T18:21:35.363Z"
   },
   {
    "duration": 15,
    "start_time": "2024-07-19T18:21:35.418Z"
   },
   {
    "duration": 25,
    "start_time": "2024-07-19T18:21:35.435Z"
   },
   {
    "duration": 7,
    "start_time": "2024-07-19T18:21:35.461Z"
   },
   {
    "duration": 13,
    "start_time": "2024-07-19T18:21:35.470Z"
   },
   {
    "duration": 18,
    "start_time": "2024-07-19T18:21:35.484Z"
   },
   {
    "duration": 49,
    "start_time": "2024-07-19T18:21:35.508Z"
   },
   {
    "duration": 11,
    "start_time": "2024-07-19T18:21:35.561Z"
   },
   {
    "duration": 86,
    "start_time": "2024-07-19T18:21:35.574Z"
   },
   {
    "duration": 5,
    "start_time": "2024-07-19T18:21:35.662Z"
   },
   {
    "duration": 27,
    "start_time": "2024-07-19T18:21:35.669Z"
   },
   {
    "duration": 27,
    "start_time": "2024-07-19T18:21:35.698Z"
   },
   {
    "duration": 28,
    "start_time": "2024-07-19T18:21:35.727Z"
   },
   {
    "duration": 12,
    "start_time": "2024-07-19T18:21:35.757Z"
   },
   {
    "duration": 12,
    "start_time": "2024-07-19T18:21:35.771Z"
   },
   {
    "duration": 321,
    "start_time": "2024-07-19T18:21:35.785Z"
   },
   {
    "duration": 321,
    "start_time": "2024-07-19T18:21:36.107Z"
   },
   {
    "duration": 246,
    "start_time": "2024-07-19T18:21:36.430Z"
   },
   {
    "duration": 313,
    "start_time": "2024-07-19T18:21:36.679Z"
   },
   {
    "duration": 287,
    "start_time": "2024-07-19T18:21:36.994Z"
   },
   {
    "duration": 330,
    "start_time": "2024-07-19T18:21:37.283Z"
   },
   {
    "duration": 14,
    "start_time": "2024-07-19T18:21:37.614Z"
   },
   {
    "duration": 154,
    "start_time": "2024-07-19T18:21:37.641Z"
   },
   {
    "duration": 4,
    "start_time": "2024-07-19T18:21:37.797Z"
   },
   {
    "duration": 10,
    "start_time": "2024-07-19T18:21:37.802Z"
   },
   {
    "duration": 170,
    "start_time": "2024-07-19T18:21:37.815Z"
   },
   {
    "duration": 5,
    "start_time": "2024-07-19T18:21:37.987Z"
   },
   {
    "duration": 260,
    "start_time": "2024-07-19T18:21:37.993Z"
   },
   {
    "duration": 154,
    "start_time": "2024-07-19T18:21:38.255Z"
   },
   {
    "duration": 11,
    "start_time": "2024-07-19T18:21:38.410Z"
   },
   {
    "duration": 34,
    "start_time": "2024-07-19T18:21:38.422Z"
   },
   {
    "duration": 34,
    "start_time": "2024-07-19T18:21:38.458Z"
   },
   {
    "duration": 13,
    "start_time": "2024-07-19T18:21:38.494Z"
   },
   {
    "duration": 12,
    "start_time": "2024-07-19T18:25:48.939Z"
   },
   {
    "duration": 444,
    "start_time": "2024-07-19T18:42:41.324Z"
   },
   {
    "duration": 148,
    "start_time": "2024-07-19T19:31:23.499Z"
   },
   {
    "duration": 177,
    "start_time": "2024-07-19T19:32:39.364Z"
   },
   {
    "duration": 136,
    "start_time": "2024-07-19T19:34:08.538Z"
   },
   {
    "duration": 130,
    "start_time": "2024-07-19T19:34:20.013Z"
   },
   {
    "duration": 168,
    "start_time": "2024-07-19T19:34:28.571Z"
   },
   {
    "duration": 252,
    "start_time": "2024-07-19T19:45:57.930Z"
   },
   {
    "duration": 269,
    "start_time": "2024-07-19T19:46:37.857Z"
   },
   {
    "duration": 215,
    "start_time": "2024-07-19T19:47:21.662Z"
   },
   {
    "duration": 200,
    "start_time": "2024-07-19T19:48:50.374Z"
   },
   {
    "duration": 205,
    "start_time": "2024-07-19T19:56:16.774Z"
   },
   {
    "duration": 304,
    "start_time": "2024-07-19T19:59:05.270Z"
   },
   {
    "duration": 323,
    "start_time": "2024-07-19T20:32:56.540Z"
   },
   {
    "duration": 223,
    "start_time": "2024-07-19T20:33:46.871Z"
   },
   {
    "duration": 317,
    "start_time": "2024-07-19T20:35:39.970Z"
   },
   {
    "duration": 227,
    "start_time": "2024-07-19T20:38:28.171Z"
   },
   {
    "duration": 1116,
    "start_time": "2024-07-19T20:40:25.296Z"
   },
   {
    "duration": 74,
    "start_time": "2024-07-19T20:40:26.414Z"
   },
   {
    "duration": 53,
    "start_time": "2024-07-19T20:40:26.489Z"
   },
   {
    "duration": 22,
    "start_time": "2024-07-19T20:40:26.545Z"
   },
   {
    "duration": 14,
    "start_time": "2024-07-19T20:40:26.568Z"
   },
   {
    "duration": 10,
    "start_time": "2024-07-19T20:40:26.583Z"
   },
   {
    "duration": 24,
    "start_time": "2024-07-19T20:40:26.595Z"
   },
   {
    "duration": 19,
    "start_time": "2024-07-19T20:40:26.621Z"
   },
   {
    "duration": 9,
    "start_time": "2024-07-19T20:40:26.642Z"
   },
   {
    "duration": 19,
    "start_time": "2024-07-19T20:40:26.653Z"
   },
   {
    "duration": 18,
    "start_time": "2024-07-19T20:40:26.673Z"
   },
   {
    "duration": 24,
    "start_time": "2024-07-19T20:40:26.692Z"
   },
   {
    "duration": 7,
    "start_time": "2024-07-19T20:40:26.718Z"
   },
   {
    "duration": 9,
    "start_time": "2024-07-19T20:40:26.726Z"
   },
   {
    "duration": 11,
    "start_time": "2024-07-19T20:40:26.737Z"
   },
   {
    "duration": 11,
    "start_time": "2024-07-19T20:40:26.750Z"
   },
   {
    "duration": 22,
    "start_time": "2024-07-19T20:40:26.763Z"
   },
   {
    "duration": 282,
    "start_time": "2024-07-19T20:40:26.787Z"
   },
   {
    "duration": 308,
    "start_time": "2024-07-19T20:40:27.071Z"
   },
   {
    "duration": 232,
    "start_time": "2024-07-19T20:40:27.381Z"
   },
   {
    "duration": 335,
    "start_time": "2024-07-19T20:40:27.615Z"
   },
   {
    "duration": 259,
    "start_time": "2024-07-19T20:40:27.952Z"
   },
   {
    "duration": 342,
    "start_time": "2024-07-19T20:40:28.213Z"
   },
   {
    "duration": 12,
    "start_time": "2024-07-19T20:40:28.557Z"
   },
   {
    "duration": 162,
    "start_time": "2024-07-19T20:40:28.571Z"
   },
   {
    "duration": 4,
    "start_time": "2024-07-19T20:40:28.738Z"
   },
   {
    "duration": 10,
    "start_time": "2024-07-19T20:40:28.743Z"
   },
   {
    "duration": 167,
    "start_time": "2024-07-19T20:40:28.756Z"
   },
   {
    "duration": 145,
    "start_time": "2024-07-19T20:40:28.925Z"
   },
   {
    "duration": 4,
    "start_time": "2024-07-19T20:40:29.072Z"
   },
   {
    "duration": 221,
    "start_time": "2024-07-19T20:40:29.077Z"
   },
   {
    "duration": 10,
    "start_time": "2024-07-19T20:40:29.299Z"
   },
   {
    "duration": 8,
    "start_time": "2024-07-19T20:40:29.310Z"
   },
   {
    "duration": 42,
    "start_time": "2024-07-19T20:40:29.320Z"
   },
   {
    "duration": 13,
    "start_time": "2024-07-19T20:40:29.363Z"
   },
   {
    "duration": 10,
    "start_time": "2024-07-19T20:59:45.275Z"
   },
   {
    "duration": 1032,
    "start_time": "2024-07-19T21:02:45.337Z"
   },
   {
    "duration": 13,
    "start_time": "2024-07-19T21:04:16.566Z"
   },
   {
    "duration": 8,
    "start_time": "2024-07-19T21:05:19.143Z"
   },
   {
    "duration": 9,
    "start_time": "2024-07-19T21:05:25.205Z"
   },
   {
    "duration": 996,
    "start_time": "2024-07-19T21:08:48.396Z"
   },
   {
    "duration": 73,
    "start_time": "2024-07-19T21:08:49.393Z"
   },
   {
    "duration": 53,
    "start_time": "2024-07-19T21:08:49.468Z"
   },
   {
    "duration": 19,
    "start_time": "2024-07-19T21:08:49.523Z"
   },
   {
    "duration": 18,
    "start_time": "2024-07-19T21:08:49.544Z"
   },
   {
    "duration": 8,
    "start_time": "2024-07-19T21:08:49.564Z"
   },
   {
    "duration": 9,
    "start_time": "2024-07-19T21:08:49.574Z"
   },
   {
    "duration": 9,
    "start_time": "2024-07-19T21:08:49.584Z"
   },
   {
    "duration": 46,
    "start_time": "2024-07-19T21:08:49.594Z"
   },
   {
    "duration": 7,
    "start_time": "2024-07-19T21:08:49.642Z"
   },
   {
    "duration": 8,
    "start_time": "2024-07-19T21:08:49.651Z"
   },
   {
    "duration": 17,
    "start_time": "2024-07-19T21:08:49.661Z"
   },
   {
    "duration": 7,
    "start_time": "2024-07-19T21:08:49.680Z"
   },
   {
    "duration": 17,
    "start_time": "2024-07-19T21:08:49.688Z"
   },
   {
    "duration": 31,
    "start_time": "2024-07-19T21:08:49.707Z"
   },
   {
    "duration": 16,
    "start_time": "2024-07-19T21:08:49.740Z"
   },
   {
    "duration": 14,
    "start_time": "2024-07-19T21:08:49.759Z"
   },
   {
    "duration": 250,
    "start_time": "2024-07-19T21:08:49.775Z"
   },
   {
    "duration": 294,
    "start_time": "2024-07-19T21:08:50.027Z"
   },
   {
    "duration": 208,
    "start_time": "2024-07-19T21:08:50.323Z"
   },
   {
    "duration": 315,
    "start_time": "2024-07-19T21:08:50.532Z"
   },
   {
    "duration": 241,
    "start_time": "2024-07-19T21:08:50.849Z"
   },
   {
    "duration": 316,
    "start_time": "2024-07-19T21:08:51.092Z"
   },
   {
    "duration": 10,
    "start_time": "2024-07-19T21:08:51.410Z"
   },
   {
    "duration": 221,
    "start_time": "2024-07-19T21:08:51.422Z"
   },
   {
    "duration": 4,
    "start_time": "2024-07-19T21:08:51.644Z"
   },
   {
    "duration": 28,
    "start_time": "2024-07-19T21:08:51.650Z"
   },
   {
    "duration": 162,
    "start_time": "2024-07-19T21:08:51.681Z"
   },
   {
    "duration": 151,
    "start_time": "2024-07-19T21:08:51.844Z"
   },
   {
    "duration": 4,
    "start_time": "2024-07-19T21:08:51.997Z"
   },
   {
    "duration": 236,
    "start_time": "2024-07-19T21:08:52.002Z"
   },
   {
    "duration": 10,
    "start_time": "2024-07-19T21:08:52.240Z"
   },
   {
    "duration": 18,
    "start_time": "2024-07-19T21:08:52.251Z"
   },
   {
    "duration": 36,
    "start_time": "2024-07-19T21:08:52.271Z"
   },
   {
    "duration": 14,
    "start_time": "2024-07-19T21:08:52.309Z"
   },
   {
    "duration": 996,
    "start_time": "2024-07-19T21:09:43.799Z"
   },
   {
    "duration": 73,
    "start_time": "2024-07-19T21:09:44.796Z"
   },
   {
    "duration": 52,
    "start_time": "2024-07-19T21:09:44.870Z"
   },
   {
    "duration": 15,
    "start_time": "2024-07-19T21:09:44.924Z"
   },
   {
    "duration": 13,
    "start_time": "2024-07-19T21:09:44.940Z"
   },
   {
    "duration": 5,
    "start_time": "2024-07-19T21:09:44.954Z"
   },
   {
    "duration": 7,
    "start_time": "2024-07-19T21:09:44.960Z"
   },
   {
    "duration": 22,
    "start_time": "2024-07-19T21:09:44.968Z"
   },
   {
    "duration": 7,
    "start_time": "2024-07-19T21:09:44.992Z"
   },
   {
    "duration": 8,
    "start_time": "2024-07-19T21:09:45.001Z"
   },
   {
    "duration": 50,
    "start_time": "2024-07-19T21:09:45.010Z"
   },
   {
    "duration": 89,
    "start_time": "2024-07-19T21:09:45.062Z"
   },
   {
    "duration": 25,
    "start_time": "2024-07-19T21:09:45.153Z"
   },
   {
    "duration": 11,
    "start_time": "2024-07-19T21:09:45.179Z"
   },
   {
    "duration": 19,
    "start_time": "2024-07-19T21:09:45.192Z"
   },
   {
    "duration": 15,
    "start_time": "2024-07-19T21:09:45.212Z"
   },
   {
    "duration": 52,
    "start_time": "2024-07-19T21:09:45.229Z"
   },
   {
    "duration": 214,
    "start_time": "2024-07-19T21:09:45.283Z"
   },
   {
    "duration": 289,
    "start_time": "2024-07-19T21:09:45.499Z"
   },
   {
    "duration": 208,
    "start_time": "2024-07-19T21:09:45.789Z"
   },
   {
    "duration": 309,
    "start_time": "2024-07-19T21:09:45.999Z"
   },
   {
    "duration": 230,
    "start_time": "2024-07-19T21:09:46.310Z"
   },
   {
    "duration": 360,
    "start_time": "2024-07-19T21:09:46.542Z"
   },
   {
    "duration": 12,
    "start_time": "2024-07-19T21:09:46.904Z"
   },
   {
    "duration": 182,
    "start_time": "2024-07-19T21:09:46.917Z"
   },
   {
    "duration": 4,
    "start_time": "2024-07-19T21:09:47.101Z"
   },
   {
    "duration": 66,
    "start_time": "2024-07-19T21:09:47.107Z"
   },
   {
    "duration": 128,
    "start_time": "2024-07-19T21:09:47.177Z"
   },
   {
    "duration": 148,
    "start_time": "2024-07-19T21:09:47.307Z"
   },
   {
    "duration": 4,
    "start_time": "2024-07-19T21:09:47.458Z"
   },
   {
    "duration": 222,
    "start_time": "2024-07-19T21:09:47.463Z"
   },
   {
    "duration": 9,
    "start_time": "2024-07-19T21:09:47.687Z"
   },
   {
    "duration": 9,
    "start_time": "2024-07-19T21:09:47.698Z"
   },
   {
    "duration": 49,
    "start_time": "2024-07-19T21:09:47.708Z"
   },
   {
    "duration": 14,
    "start_time": "2024-07-19T21:09:47.758Z"
   },
   {
    "duration": 1132,
    "start_time": "2024-07-20T11:17:13.349Z"
   },
   {
    "duration": 235,
    "start_time": "2024-07-20T11:17:14.485Z"
   },
   {
    "duration": 76,
    "start_time": "2024-07-20T11:17:14.721Z"
   },
   {
    "duration": 16,
    "start_time": "2024-07-20T11:17:14.799Z"
   },
   {
    "duration": 14,
    "start_time": "2024-07-20T11:17:14.817Z"
   },
   {
    "duration": 7,
    "start_time": "2024-07-20T11:17:14.833Z"
   },
   {
    "duration": 13,
    "start_time": "2024-07-20T11:17:14.868Z"
   },
   {
    "duration": 9,
    "start_time": "2024-07-20T11:17:14.883Z"
   },
   {
    "duration": 11,
    "start_time": "2024-07-20T11:17:14.894Z"
   },
   {
    "duration": 8,
    "start_time": "2024-07-20T11:17:14.908Z"
   },
   {
    "duration": 19,
    "start_time": "2024-07-20T11:17:14.918Z"
   },
   {
    "duration": 4,
    "start_time": "2024-07-20T11:17:14.965Z"
   },
   {
    "duration": 15,
    "start_time": "2024-07-20T11:17:14.973Z"
   },
   {
    "duration": 10,
    "start_time": "2024-07-20T11:17:14.990Z"
   },
   {
    "duration": 75,
    "start_time": "2024-07-20T11:17:15.002Z"
   },
   {
    "duration": 14,
    "start_time": "2024-07-20T11:17:15.079Z"
   },
   {
    "duration": 37,
    "start_time": "2024-07-20T11:17:15.094Z"
   },
   {
    "duration": 230,
    "start_time": "2024-07-20T11:17:15.133Z"
   },
   {
    "duration": 328,
    "start_time": "2024-07-20T11:17:15.366Z"
   },
   {
    "duration": 265,
    "start_time": "2024-07-20T11:17:15.696Z"
   },
   {
    "duration": 359,
    "start_time": "2024-07-20T11:17:15.962Z"
   },
   {
    "duration": 278,
    "start_time": "2024-07-20T11:17:16.322Z"
   },
   {
    "duration": 338,
    "start_time": "2024-07-20T11:17:16.602Z"
   },
   {
    "duration": 11,
    "start_time": "2024-07-20T11:17:16.941Z"
   },
   {
    "duration": 167,
    "start_time": "2024-07-20T11:17:16.953Z"
   },
   {
    "duration": 4,
    "start_time": "2024-07-20T11:17:17.122Z"
   },
   {
    "duration": 26,
    "start_time": "2024-07-20T11:17:17.128Z"
   },
   {
    "duration": 162,
    "start_time": "2024-07-20T11:17:17.157Z"
   },
   {
    "duration": 168,
    "start_time": "2024-07-20T11:17:17.321Z"
   },
   {
    "duration": 4,
    "start_time": "2024-07-20T11:17:17.490Z"
   },
   {
    "duration": 244,
    "start_time": "2024-07-20T11:17:17.496Z"
   },
   {
    "duration": 12,
    "start_time": "2024-07-20T11:17:17.742Z"
   },
   {
    "duration": 17,
    "start_time": "2024-07-20T11:17:17.764Z"
   },
   {
    "duration": 34,
    "start_time": "2024-07-20T11:17:17.783Z"
   },
   {
    "duration": 13,
    "start_time": "2024-07-20T11:17:17.819Z"
   },
   {
    "duration": 1125,
    "start_time": "2024-07-20T11:19:03.755Z"
   },
   {
    "duration": 77,
    "start_time": "2024-07-20T11:19:04.882Z"
   },
   {
    "duration": 60,
    "start_time": "2024-07-20T11:19:04.961Z"
   },
   {
    "duration": 16,
    "start_time": "2024-07-20T11:19:05.023Z"
   },
   {
    "duration": 36,
    "start_time": "2024-07-20T11:19:05.041Z"
   },
   {
    "duration": 7,
    "start_time": "2024-07-20T11:19:05.079Z"
   },
   {
    "duration": 15,
    "start_time": "2024-07-20T11:19:05.087Z"
   },
   {
    "duration": 20,
    "start_time": "2024-07-20T11:19:05.104Z"
   },
   {
    "duration": 22,
    "start_time": "2024-07-20T11:19:05.126Z"
   },
   {
    "duration": 7,
    "start_time": "2024-07-20T11:19:05.152Z"
   },
   {
    "duration": 22,
    "start_time": "2024-07-20T11:19:05.174Z"
   },
   {
    "duration": 21,
    "start_time": "2024-07-20T11:19:05.197Z"
   },
   {
    "duration": 22,
    "start_time": "2024-07-20T11:19:05.219Z"
   },
   {
    "duration": 25,
    "start_time": "2024-07-20T11:19:05.243Z"
   },
   {
    "duration": 98,
    "start_time": "2024-07-20T11:19:05.270Z"
   },
   {
    "duration": 15,
    "start_time": "2024-07-20T11:19:05.373Z"
   },
   {
    "duration": 13,
    "start_time": "2024-07-20T11:19:05.389Z"
   },
   {
    "duration": 257,
    "start_time": "2024-07-20T11:19:05.404Z"
   },
   {
    "duration": 346,
    "start_time": "2024-07-20T11:19:05.672Z"
   },
   {
    "duration": 259,
    "start_time": "2024-07-20T11:19:06.020Z"
   },
   {
    "duration": 323,
    "start_time": "2024-07-20T11:19:06.281Z"
   },
   {
    "duration": 258,
    "start_time": "2024-07-20T11:19:06.605Z"
   },
   {
    "duration": 369,
    "start_time": "2024-07-20T11:19:06.866Z"
   },
   {
    "duration": 12,
    "start_time": "2024-07-20T11:19:07.237Z"
   },
   {
    "duration": 188,
    "start_time": "2024-07-20T11:19:07.251Z"
   },
   {
    "duration": 5,
    "start_time": "2024-07-20T11:19:07.441Z"
   },
   {
    "duration": 35,
    "start_time": "2024-07-20T11:19:07.448Z"
   },
   {
    "duration": 163,
    "start_time": "2024-07-20T11:19:07.487Z"
   },
   {
    "duration": 187,
    "start_time": "2024-07-20T11:19:07.652Z"
   },
   {
    "duration": 4,
    "start_time": "2024-07-20T11:19:07.841Z"
   },
   {
    "duration": 252,
    "start_time": "2024-07-20T11:19:07.847Z"
   },
   {
    "duration": 10,
    "start_time": "2024-07-20T11:19:08.101Z"
   },
   {
    "duration": 11,
    "start_time": "2024-07-20T11:19:08.112Z"
   },
   {
    "duration": 51,
    "start_time": "2024-07-20T11:19:08.124Z"
   },
   {
    "duration": 13,
    "start_time": "2024-07-20T11:19:08.177Z"
   },
   {
    "duration": 1133,
    "start_time": "2024-07-20T11:26:18.414Z"
   },
   {
    "duration": 83,
    "start_time": "2024-07-20T11:26:19.550Z"
   },
   {
    "duration": 65,
    "start_time": "2024-07-20T11:26:19.634Z"
   },
   {
    "duration": 16,
    "start_time": "2024-07-20T11:26:19.701Z"
   },
   {
    "duration": 14,
    "start_time": "2024-07-20T11:26:19.719Z"
   },
   {
    "duration": 37,
    "start_time": "2024-07-20T11:26:19.735Z"
   },
   {
    "duration": 9,
    "start_time": "2024-07-20T11:26:19.779Z"
   },
   {
    "duration": 8,
    "start_time": "2024-07-20T11:26:19.790Z"
   },
   {
    "duration": 8,
    "start_time": "2024-07-20T11:26:19.800Z"
   },
   {
    "duration": 8,
    "start_time": "2024-07-20T11:26:19.810Z"
   },
   {
    "duration": 10,
    "start_time": "2024-07-20T11:26:19.819Z"
   },
   {
    "duration": 5,
    "start_time": "2024-07-20T11:26:19.831Z"
   },
   {
    "duration": 11,
    "start_time": "2024-07-20T11:26:19.867Z"
   },
   {
    "duration": 15,
    "start_time": "2024-07-20T11:26:19.880Z"
   },
   {
    "duration": 15,
    "start_time": "2024-07-20T11:26:19.896Z"
   },
   {
    "duration": 14,
    "start_time": "2024-07-20T11:26:19.913Z"
   },
   {
    "duration": 12,
    "start_time": "2024-07-20T11:26:19.928Z"
   },
   {
    "duration": 234,
    "start_time": "2024-07-20T11:26:19.974Z"
   },
   {
    "duration": 330,
    "start_time": "2024-07-20T11:26:20.210Z"
   },
   {
    "duration": 276,
    "start_time": "2024-07-20T11:26:20.542Z"
   },
   {
    "duration": 322,
    "start_time": "2024-07-20T11:26:20.820Z"
   },
   {
    "duration": 284,
    "start_time": "2024-07-20T11:26:21.144Z"
   },
   {
    "duration": 342,
    "start_time": "2024-07-20T11:26:21.430Z"
   },
   {
    "duration": 15,
    "start_time": "2024-07-20T11:26:21.778Z"
   },
   {
    "duration": 162,
    "start_time": "2024-07-20T11:26:21.795Z"
   },
   {
    "duration": 20,
    "start_time": "2024-07-20T11:26:21.959Z"
   },
   {
    "duration": 20,
    "start_time": "2024-07-20T11:26:21.981Z"
   },
   {
    "duration": 152,
    "start_time": "2024-07-20T11:26:22.004Z"
   },
   {
    "duration": 175,
    "start_time": "2024-07-20T11:26:22.158Z"
   },
   {
    "duration": 4,
    "start_time": "2024-07-20T11:26:22.335Z"
   },
   {
    "duration": 271,
    "start_time": "2024-07-20T11:26:22.340Z"
   },
   {
    "duration": 10,
    "start_time": "2024-07-20T11:26:22.613Z"
   },
   {
    "duration": 11,
    "start_time": "2024-07-20T11:26:22.625Z"
   },
   {
    "duration": 60,
    "start_time": "2024-07-20T11:26:22.638Z"
   },
   {
    "duration": 14,
    "start_time": "2024-07-20T11:26:22.699Z"
   },
   {
    "duration": 1201,
    "start_time": "2024-07-20T11:27:01.178Z"
   },
   {
    "duration": 77,
    "start_time": "2024-07-20T11:27:02.381Z"
   },
   {
    "duration": 60,
    "start_time": "2024-07-20T11:27:02.459Z"
   },
   {
    "duration": 17,
    "start_time": "2024-07-20T11:27:02.521Z"
   },
   {
    "duration": 30,
    "start_time": "2024-07-20T11:27:02.540Z"
   },
   {
    "duration": 7,
    "start_time": "2024-07-20T11:27:02.580Z"
   },
   {
    "duration": 6,
    "start_time": "2024-07-20T11:27:02.588Z"
   },
   {
    "duration": 16,
    "start_time": "2024-07-20T11:27:02.596Z"
   },
   {
    "duration": 18,
    "start_time": "2024-07-20T11:27:02.613Z"
   },
   {
    "duration": 8,
    "start_time": "2024-07-20T11:27:02.633Z"
   },
   {
    "duration": 34,
    "start_time": "2024-07-20T11:27:02.643Z"
   },
   {
    "duration": 4,
    "start_time": "2024-07-20T11:27:02.679Z"
   },
   {
    "duration": 7,
    "start_time": "2024-07-20T11:27:02.685Z"
   },
   {
    "duration": 10,
    "start_time": "2024-07-20T11:27:02.695Z"
   },
   {
    "duration": 23,
    "start_time": "2024-07-20T11:27:02.707Z"
   },
   {
    "duration": 108,
    "start_time": "2024-07-20T11:27:02.731Z"
   },
   {
    "duration": 13,
    "start_time": "2024-07-20T11:27:02.841Z"
   },
   {
    "duration": 253,
    "start_time": "2024-07-20T11:27:02.856Z"
   },
   {
    "duration": 340,
    "start_time": "2024-07-20T11:27:03.111Z"
   },
   {
    "duration": 267,
    "start_time": "2024-07-20T11:27:03.453Z"
   },
   {
    "duration": 324,
    "start_time": "2024-07-20T11:27:03.722Z"
   },
   {
    "duration": 253,
    "start_time": "2024-07-20T11:27:04.048Z"
   },
   {
    "duration": 318,
    "start_time": "2024-07-20T11:27:04.303Z"
   },
   {
    "duration": 12,
    "start_time": "2024-07-20T11:27:04.623Z"
   },
   {
    "duration": 179,
    "start_time": "2024-07-20T11:27:04.637Z"
   },
   {
    "duration": 4,
    "start_time": "2024-07-20T11:27:04.818Z"
   },
   {
    "duration": 17,
    "start_time": "2024-07-20T11:27:04.824Z"
   },
   {
    "duration": 175,
    "start_time": "2024-07-20T11:27:04.842Z"
   },
   {
    "duration": 178,
    "start_time": "2024-07-20T11:27:05.019Z"
   },
   {
    "duration": 5,
    "start_time": "2024-07-20T11:27:05.198Z"
   },
   {
    "duration": 278,
    "start_time": "2024-07-20T11:27:05.205Z"
   },
   {
    "duration": 13,
    "start_time": "2024-07-20T11:27:05.485Z"
   },
   {
    "duration": 14,
    "start_time": "2024-07-20T11:27:05.500Z"
   },
   {
    "duration": 62,
    "start_time": "2024-07-20T11:27:05.516Z"
   },
   {
    "duration": 20,
    "start_time": "2024-07-20T11:27:05.580Z"
   }
  ],
  "kernelspec": {
   "display_name": "Python 3 (ipykernel)",
   "language": "python",
   "name": "python3"
  },
  "language_info": {
   "codemirror_mode": {
    "name": "ipython",
    "version": 3
   },
   "file_extension": ".py",
   "mimetype": "text/x-python",
   "name": "python",
   "nbconvert_exporter": "python",
   "pygments_lexer": "ipython3",
   "version": "3.11.7"
  },
  "toc": {
   "base_numbering": 1,
   "nav_menu": {},
   "number_sections": true,
   "sideBar": true,
   "skip_h1_title": true,
   "title_cell": "Table of Contents",
   "title_sidebar": "Contents",
   "toc_cell": false,
   "toc_position": {},
   "toc_section_display": true,
   "toc_window_display": false
  }
 },
 "nbformat": 4,
 "nbformat_minor": 4
}
