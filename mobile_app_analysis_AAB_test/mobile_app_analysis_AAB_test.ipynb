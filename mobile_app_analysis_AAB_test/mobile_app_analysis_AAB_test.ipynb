{
 "cells": [
  {
   "cell_type": "markdown",
   "metadata": {},
   "source": [
    "# Анализ мобильного приложения  по продаже продуктов питания"
   ]
  },
  {
   "cell_type": "markdown",
   "metadata": {},
   "source": [
    "В стартапе, который продаёт продукты питания нужно разобраться, как ведут себя пользователи мобильного приложения.  \n",
    "\n",
    "Имеется датасет с данными о логах — действиях пользователей, или событиях.   \n",
    "Каждая запись в логе — это действие пользователя, или событие.   \n",
    "\n",
    "- `EventName` — название события;\n",
    "- `DeviceIDHash` — уникальный идентификатор пользователя;\n",
    "- `EventTimestamp` — время события;\n",
    "- `ExpId` — номер эксперимента: 246 и 247 — контрольные группы, а 248 — экспериментальная.\n",
    "\n",
    "**Задача:**  узнать, как пользователи доходят до покупки. Сколько пользователей доходит до покупки, а сколько — «застревает» на предыдущих шагах? На каких именно?\n",
    "Исследовать результаты A/A/B-эксперимента по изменению шрифтов во всём приложении, выяснить, какой шрифт лучше.  "
   ]
  },
  {
   "cell_type": "markdown",
   "metadata": {},
   "source": [
    "**План работы.**    \n",
    "\n",
    "1. Загрузить данные и изучить общую информацию.  \n",
    "   \n",
    "   \n",
    "2. Подготовить данные к анализу. \n",
    "   \n",
    "   \n",
    "3.  Изучить и проверить данные:  \n",
    "      \n",
    "    3.1. Сколько всего событий, пользователей в логе?   \n",
    "    \n",
    "    3.2. Сколько в среднем событий приходится на пользователя?  \n",
    "    \n",
    "    3.3. Данными за какой период мы располагаем? Найти максимальную и минимальную дату.  \n",
    "    \n",
    "    3.4. Изучить, как меняется количество данных. Можно ли быть уверенным, что у нас одинаково полные данные за весь период? Скорректировать реальный период используемых данных.  \n",
    "    \n",
    "    3.5. Оценить количество событий и пользователей, которых потеряли, отбросив старые данные.  \n",
    "    \n",
    "    3.6. Проверьте, что есть пользователи из всех трёх экспериментальных групп.\n",
    "   \n",
    "    \n",
    "4. Изучить воронку событий:  \n",
    "\n",
    "    4.1. Выяснить, какие события есть в логах, как часто они встречаются.  \n",
    "    \n",
    "    4.2. Посчитайте, сколько пользователей совершали каждое из этих событий.  \n",
    "    \n",
    "    4.3. Сделать предположение о порядке событий.  \n",
    "    \n",
    "    4.4. По воронке событий посчитать, какая доля пользователей проходит на следующий шаг воронки.  \n",
    "    \n",
    "    4.5. На каком шаге теряется больше всего пользователей?  \n",
    "    \n",
    "    4.6. Какая доля пользователей доходит от первого события до оплаты?\n",
    " \n",
    " \n",
    "5. Изучить результаты эксперимента:  \n",
    "\n",
    "    5.1. Оценить количество пользователей в каждой экспериментальной группе.  \n",
    "    \n",
    "    5.2. Убедиться в корректности всех механизмов и расчётов эксперимента, проверив, находят ли статистические критерии разницу между выборками 246 и 247 (А/А).  \n",
    "    \n",
    "    5.3. Выяснить корректность разбиения на контрольные группы, проверив для каждого события, будет ли отличие между группами статистически достоверным.  \n",
    "    \n",
    "    5.4. Для тестовой группы сравните результаты с каждой из контрольных групп в отдельности по каждому событию, а также с объединённой контрольной группой. Сделать выводы из эксперимента.  \n",
    "    \n",
    "    5.5. Оценить выбранный уровень статической значимости, посчитав количество сделанных проверок статистических гипотез.\n",
    "      \n",
    "      \n",
    "6. Сформулировать общий вывод.  "
   ]
  },
  {
   "cell_type": "markdown",
   "metadata": {},
   "source": [
    "## Открытие файла с данными и изучение общей информации"
   ]
  },
  {
   "cell_type": "code",
   "execution_count": 5,
   "metadata": {},
   "outputs": [],
   "source": [
    "# Импортируем библиотеки\n",
    "import pandas as pd\n",
    "import datetime as dt\n",
    "import numpy as np\n",
    "from scipy import stats as st\n",
    "import math as mth\n",
    "import matplotlib.pyplot as plt\n",
    "import seaborn as sns"
   ]
  },
  {
   "cell_type": "code",
   "execution_count": 6,
   "metadata": {},
   "outputs": [],
   "source": [
    "# Загружаем данные из csv-файла в переменную logs\n",
    "try:\n",
    "    logs = pd.read_csv('/datasets/logs_exp.csv', sep='\\t')\n",
    "except:\n",
    "    logs = pd.read_csv('https://code.s3.yandex.net/datasets/logs_exp.csv', sep='\\t')"
   ]
  },
  {
   "cell_type": "code",
   "execution_count": 7,
   "metadata": {},
   "outputs": [
    {
     "data": {
      "text/html": [
       "<div>\n",
       "<style scoped>\n",
       "    .dataframe tbody tr th:only-of-type {\n",
       "        vertical-align: middle;\n",
       "    }\n",
       "\n",
       "    .dataframe tbody tr th {\n",
       "        vertical-align: top;\n",
       "    }\n",
       "\n",
       "    .dataframe thead th {\n",
       "        text-align: right;\n",
       "    }\n",
       "</style>\n",
       "<table border=\"1\" class=\"dataframe\">\n",
       "  <thead>\n",
       "    <tr style=\"text-align: right;\">\n",
       "      <th></th>\n",
       "      <th>EventName</th>\n",
       "      <th>DeviceIDHash</th>\n",
       "      <th>EventTimestamp</th>\n",
       "      <th>ExpId</th>\n",
       "    </tr>\n",
       "  </thead>\n",
       "  <tbody>\n",
       "    <tr>\n",
       "      <th>0</th>\n",
       "      <td>MainScreenAppear</td>\n",
       "      <td>4575588528974610257</td>\n",
       "      <td>1564029816</td>\n",
       "      <td>246</td>\n",
       "    </tr>\n",
       "    <tr>\n",
       "      <th>1</th>\n",
       "      <td>MainScreenAppear</td>\n",
       "      <td>7416695313311560658</td>\n",
       "      <td>1564053102</td>\n",
       "      <td>246</td>\n",
       "    </tr>\n",
       "    <tr>\n",
       "      <th>2</th>\n",
       "      <td>PaymentScreenSuccessful</td>\n",
       "      <td>3518123091307005509</td>\n",
       "      <td>1564054127</td>\n",
       "      <td>248</td>\n",
       "    </tr>\n",
       "    <tr>\n",
       "      <th>3</th>\n",
       "      <td>CartScreenAppear</td>\n",
       "      <td>3518123091307005509</td>\n",
       "      <td>1564054127</td>\n",
       "      <td>248</td>\n",
       "    </tr>\n",
       "    <tr>\n",
       "      <th>4</th>\n",
       "      <td>PaymentScreenSuccessful</td>\n",
       "      <td>6217807653094995999</td>\n",
       "      <td>1564055322</td>\n",
       "      <td>248</td>\n",
       "    </tr>\n",
       "  </tbody>\n",
       "</table>\n",
       "</div>"
      ],
      "text/plain": [
       "                 EventName         DeviceIDHash  EventTimestamp  ExpId\n",
       "0         MainScreenAppear  4575588528974610257      1564029816    246\n",
       "1         MainScreenAppear  7416695313311560658      1564053102    246\n",
       "2  PaymentScreenSuccessful  3518123091307005509      1564054127    248\n",
       "3         CartScreenAppear  3518123091307005509      1564054127    248\n",
       "4  PaymentScreenSuccessful  6217807653094995999      1564055322    248"
      ]
     },
     "metadata": {},
     "output_type": "display_data"
    },
    {
     "data": {
      "text/html": [
       "<div>\n",
       "<style scoped>\n",
       "    .dataframe tbody tr th:only-of-type {\n",
       "        vertical-align: middle;\n",
       "    }\n",
       "\n",
       "    .dataframe tbody tr th {\n",
       "        vertical-align: top;\n",
       "    }\n",
       "\n",
       "    .dataframe thead th {\n",
       "        text-align: right;\n",
       "    }\n",
       "</style>\n",
       "<table border=\"1\" class=\"dataframe\">\n",
       "  <thead>\n",
       "    <tr style=\"text-align: right;\">\n",
       "      <th></th>\n",
       "      <th>EventName</th>\n",
       "      <th>DeviceIDHash</th>\n",
       "      <th>EventTimestamp</th>\n",
       "      <th>ExpId</th>\n",
       "    </tr>\n",
       "  </thead>\n",
       "  <tbody>\n",
       "    <tr>\n",
       "      <th>244121</th>\n",
       "      <td>MainScreenAppear</td>\n",
       "      <td>4599628364049201812</td>\n",
       "      <td>1565212345</td>\n",
       "      <td>247</td>\n",
       "    </tr>\n",
       "    <tr>\n",
       "      <th>244122</th>\n",
       "      <td>MainScreenAppear</td>\n",
       "      <td>5849806612437486590</td>\n",
       "      <td>1565212439</td>\n",
       "      <td>246</td>\n",
       "    </tr>\n",
       "    <tr>\n",
       "      <th>244123</th>\n",
       "      <td>MainScreenAppear</td>\n",
       "      <td>5746969938801999050</td>\n",
       "      <td>1565212483</td>\n",
       "      <td>246</td>\n",
       "    </tr>\n",
       "    <tr>\n",
       "      <th>244124</th>\n",
       "      <td>MainScreenAppear</td>\n",
       "      <td>5746969938801999050</td>\n",
       "      <td>1565212498</td>\n",
       "      <td>246</td>\n",
       "    </tr>\n",
       "    <tr>\n",
       "      <th>244125</th>\n",
       "      <td>OffersScreenAppear</td>\n",
       "      <td>5746969938801999050</td>\n",
       "      <td>1565212517</td>\n",
       "      <td>246</td>\n",
       "    </tr>\n",
       "  </tbody>\n",
       "</table>\n",
       "</div>"
      ],
      "text/plain": [
       "                 EventName         DeviceIDHash  EventTimestamp  ExpId\n",
       "244121    MainScreenAppear  4599628364049201812      1565212345    247\n",
       "244122    MainScreenAppear  5849806612437486590      1565212439    246\n",
       "244123    MainScreenAppear  5746969938801999050      1565212483    246\n",
       "244124    MainScreenAppear  5746969938801999050      1565212498    246\n",
       "244125  OffersScreenAppear  5746969938801999050      1565212517    246"
      ]
     },
     "metadata": {},
     "output_type": "display_data"
    },
    {
     "name": "stdout",
     "output_type": "stream",
     "text": [
      "<class 'pandas.core.frame.DataFrame'>\n",
      "RangeIndex: 244126 entries, 0 to 244125\n",
      "Data columns (total 4 columns):\n",
      " #   Column          Non-Null Count   Dtype \n",
      "---  ------          --------------   ----- \n",
      " 0   EventName       244126 non-null  object\n",
      " 1   DeviceIDHash    244126 non-null  int64 \n",
      " 2   EventTimestamp  244126 non-null  int64 \n",
      " 3   ExpId           244126 non-null  int64 \n",
      "dtypes: int64(3), object(1)\n",
      "memory usage: 7.5+ MB\n"
     ]
    }
   ],
   "source": [
    "display(logs.head(), logs.tail())\n",
    "logs.info()"
   ]
  },
  {
   "cell_type": "markdown",
   "metadata": {},
   "source": [
    "***Датасет содержит 244126 строк и 4 столбца.    \n",
    "Пропусков в строках не обнаружено.   \n",
    "Названия столбцов записаны с использованием заглавных букв. Приведем их к стандартному виду, изменим название последнего столбца.   \n",
    "Типы данных во всех колонках соответствуют сохранённым в них значениям. Столбец `EventTimestamp` содержит дату в формате Unix epoch (временные метки, представляющие количество секунд с 1 января 1970 года). Добавим столбцы с датой и временем, и отдельный столбец с датой в формате datetime64.***  "
   ]
  },
  {
   "cell_type": "markdown",
   "metadata": {},
   "source": [
    "## Предобработка данных"
   ]
  },
  {
   "cell_type": "code",
   "execution_count": 10,
   "metadata": {},
   "outputs": [],
   "source": [
    "# Заменяем названия столбцов \n",
    "logs = logs.rename(\n",
    "    columns={'EventName':'event_name', 'DeviceIDHash':'user_id',\n",
    "             'EventTimestamp':'event_ts', 'ExpId':'group'}\n",
    ")"
   ]
  },
  {
   "cell_type": "code",
   "execution_count": 11,
   "metadata": {},
   "outputs": [],
   "source": [
    "# добавляем столбец с датой и временем в формате datetime64\n",
    "logs['event_dt'] = pd.to_datetime(logs['event_ts'], unit='s') \n",
    "# добавляем столбец с датой\n",
    "logs['date'] = logs['event_dt'].dt.date"
   ]
  },
  {
   "cell_type": "code",
   "execution_count": 12,
   "metadata": {},
   "outputs": [],
   "source": [
    "# переименуем названия групп\n",
    "logs['group'] = logs['group'].replace(246,'A246')\n",
    "logs['group'] = logs['group'].replace(247,'A247')\n",
    "logs['group'] = logs['group'].replace(248,'B248')"
   ]
  },
  {
   "cell_type": "code",
   "execution_count": 13,
   "metadata": {},
   "outputs": [
    {
     "data": {
      "text/html": [
       "<div>\n",
       "<style scoped>\n",
       "    .dataframe tbody tr th:only-of-type {\n",
       "        vertical-align: middle;\n",
       "    }\n",
       "\n",
       "    .dataframe tbody tr th {\n",
       "        vertical-align: top;\n",
       "    }\n",
       "\n",
       "    .dataframe thead th {\n",
       "        text-align: right;\n",
       "    }\n",
       "</style>\n",
       "<table border=\"1\" class=\"dataframe\">\n",
       "  <thead>\n",
       "    <tr style=\"text-align: right;\">\n",
       "      <th></th>\n",
       "      <th>event_name</th>\n",
       "      <th>user_id</th>\n",
       "      <th>event_ts</th>\n",
       "      <th>group</th>\n",
       "      <th>event_dt</th>\n",
       "      <th>date</th>\n",
       "    </tr>\n",
       "  </thead>\n",
       "  <tbody>\n",
       "    <tr>\n",
       "      <th>0</th>\n",
       "      <td>MainScreenAppear</td>\n",
       "      <td>4575588528974610257</td>\n",
       "      <td>1564029816</td>\n",
       "      <td>A246</td>\n",
       "      <td>2019-07-25 04:43:36</td>\n",
       "      <td>2019-07-25</td>\n",
       "    </tr>\n",
       "    <tr>\n",
       "      <th>1</th>\n",
       "      <td>MainScreenAppear</td>\n",
       "      <td>7416695313311560658</td>\n",
       "      <td>1564053102</td>\n",
       "      <td>A246</td>\n",
       "      <td>2019-07-25 11:11:42</td>\n",
       "      <td>2019-07-25</td>\n",
       "    </tr>\n",
       "    <tr>\n",
       "      <th>2</th>\n",
       "      <td>PaymentScreenSuccessful</td>\n",
       "      <td>3518123091307005509</td>\n",
       "      <td>1564054127</td>\n",
       "      <td>B248</td>\n",
       "      <td>2019-07-25 11:28:47</td>\n",
       "      <td>2019-07-25</td>\n",
       "    </tr>\n",
       "    <tr>\n",
       "      <th>3</th>\n",
       "      <td>CartScreenAppear</td>\n",
       "      <td>3518123091307005509</td>\n",
       "      <td>1564054127</td>\n",
       "      <td>B248</td>\n",
       "      <td>2019-07-25 11:28:47</td>\n",
       "      <td>2019-07-25</td>\n",
       "    </tr>\n",
       "    <tr>\n",
       "      <th>4</th>\n",
       "      <td>PaymentScreenSuccessful</td>\n",
       "      <td>6217807653094995999</td>\n",
       "      <td>1564055322</td>\n",
       "      <td>B248</td>\n",
       "      <td>2019-07-25 11:48:42</td>\n",
       "      <td>2019-07-25</td>\n",
       "    </tr>\n",
       "  </tbody>\n",
       "</table>\n",
       "</div>"
      ],
      "text/plain": [
       "                event_name              user_id    event_ts group  \\\n",
       "0         MainScreenAppear  4575588528974610257  1564029816  A246   \n",
       "1         MainScreenAppear  7416695313311560658  1564053102  A246   \n",
       "2  PaymentScreenSuccessful  3518123091307005509  1564054127  B248   \n",
       "3         CartScreenAppear  3518123091307005509  1564054127  B248   \n",
       "4  PaymentScreenSuccessful  6217807653094995999  1564055322  B248   \n",
       "\n",
       "             event_dt        date  \n",
       "0 2019-07-25 04:43:36  2019-07-25  \n",
       "1 2019-07-25 11:11:42  2019-07-25  \n",
       "2 2019-07-25 11:28:47  2019-07-25  \n",
       "3 2019-07-25 11:28:47  2019-07-25  \n",
       "4 2019-07-25 11:48:42  2019-07-25  "
      ]
     },
     "metadata": {},
     "output_type": "display_data"
    }
   ],
   "source": [
    "display(logs.head())"
   ]
  },
  {
   "cell_type": "code",
   "execution_count": 14,
   "metadata": {},
   "outputs": [
    {
     "data": {
      "text/plain": [
       "413"
      ]
     },
     "execution_count": 14,
     "metadata": {},
     "output_type": "execute_result"
    }
   ],
   "source": [
    "# Проверим датасет на наличие дубликатов\n",
    "logs.duplicated().sum()"
   ]
  },
  {
   "cell_type": "code",
   "execution_count": 15,
   "metadata": {},
   "outputs": [
    {
     "data": {
      "text/plain": [
       "0.16917493425526162"
      ]
     },
     "execution_count": 15,
     "metadata": {},
     "output_type": "execute_result"
    }
   ],
   "source": [
    "# Процент дубликатов от основной таблицы\n",
    "logs.duplicated().sum() / logs.shape[0] * 100"
   ]
  },
  {
   "cell_type": "code",
   "execution_count": 16,
   "metadata": {},
   "outputs": [
    {
     "data": {
      "text/plain": [
       "0"
      ]
     },
     "execution_count": 16,
     "metadata": {},
     "output_type": "execute_result"
    }
   ],
   "source": [
    "# удаляем дубликаты\n",
    "logs = logs.drop_duplicates()\n",
    "logs.duplicated().sum()"
   ]
  },
  {
   "cell_type": "code",
   "execution_count": 17,
   "metadata": {},
   "outputs": [
    {
     "data": {
      "text/plain": [
       "array(['MainScreenAppear', 'PaymentScreenSuccessful', 'CartScreenAppear',\n",
       "       'OffersScreenAppear', 'Tutorial'], dtype=object)"
      ]
     },
     "execution_count": 17,
     "metadata": {},
     "output_type": "execute_result"
    }
   ],
   "source": [
    "# Проверим датасет на наличие неявных дубликатов,\n",
    "# изучим список уникальных значений в столбце 'event_name'  \n",
    "logs['event_name'].unique()"
   ]
  },
  {
   "cell_type": "markdown",
   "metadata": {},
   "source": [
    "Неявных дубликатов не обнаружено."
   ]
  },
  {
   "cell_type": "code",
   "execution_count": 19,
   "metadata": {},
   "outputs": [
    {
     "name": "stdout",
     "output_type": "stream",
     "text": [
      "<class 'pandas.core.frame.DataFrame'>\n",
      "Index: 243713 entries, 0 to 244125\n",
      "Data columns (total 6 columns):\n",
      " #   Column      Non-Null Count   Dtype         \n",
      "---  ------      --------------   -----         \n",
      " 0   event_name  243713 non-null  object        \n",
      " 1   user_id     243713 non-null  int64         \n",
      " 2   event_ts    243713 non-null  int64         \n",
      " 3   group       243713 non-null  object        \n",
      " 4   event_dt    243713 non-null  datetime64[ns]\n",
      " 5   date        243713 non-null  object        \n",
      "dtypes: datetime64[ns](1), int64(2), object(3)\n",
      "memory usage: 13.0+ MB\n"
     ]
    }
   ],
   "source": [
    "logs.info()"
   ]
  },
  {
   "cell_type": "markdown",
   "metadata": {},
   "source": [
    "**Обработанный датасет содержит 243713 строк, 6 столбцов и подготовлен к работе:**   \n",
    "- названия всех колонок записаны в едином стиле;  \n",
    "- добавлен столбец `event_dt` с датой и временем, а также столбец с датой события `date`;  \n",
    "- пропуски и дубликаты отсутствуют;  \n",
    "- типы данных во всех столбцах соответствуют сохранённым в них значениям."
   ]
  },
  {
   "cell_type": "markdown",
   "metadata": {},
   "source": [
    "## Изучение и проверка данных"
   ]
  },
  {
   "cell_type": "markdown",
   "metadata": {},
   "source": [
    "### Сколько всего событий, пользователей в логе? "
   ]
  },
  {
   "cell_type": "code",
   "execution_count": 23,
   "metadata": {},
   "outputs": [
    {
     "name": "stdout",
     "output_type": "stream",
     "text": [
      "Всего событий в логе 243713, уникальных типов событий 5.\n"
     ]
    }
   ],
   "source": [
    "# количество событий\n",
    "events = logs.shape[0] \n",
    "print(f'Всего событий в логе {events}, уникальных типов событий {logs[\"event_name\"].nunique()}.')"
   ]
  },
  {
   "cell_type": "code",
   "execution_count": 24,
   "metadata": {},
   "outputs": [
    {
     "name": "stdout",
     "output_type": "stream",
     "text": [
      "Всего уникальных пользователей в логе 7551.\n"
     ]
    }
   ],
   "source": [
    "# количество пользователей\n",
    "users = logs[\"user_id\"].nunique()\n",
    "print(f'Всего уникальных пользователей в логе {users}.')"
   ]
  },
  {
   "cell_type": "markdown",
   "metadata": {},
   "source": [
    "###  Сколько в среднем событий приходится на пользователя?"
   ]
  },
  {
   "cell_type": "code",
   "execution_count": 26,
   "metadata": {},
   "outputs": [
    {
     "name": "stdout",
     "output_type": "stream",
     "text": [
      "Среднее количество событий на пользователя 32.\n"
     ]
    }
   ],
   "source": [
    "print(f'Среднее количество событий на пользователя {events / users:.0f}.')"
   ]
  },
  {
   "cell_type": "markdown",
   "metadata": {},
   "source": [
    "### Данными за какой период мы располагаем? Максимальная и минимальная даты."
   ]
  },
  {
   "cell_type": "code",
   "execution_count": 28,
   "metadata": {},
   "outputs": [
    {
     "name": "stdout",
     "output_type": "stream",
     "text": [
      "Мы располагаем данными за 13 days 16:31:41, c 2019-07-25 04:43:36 по 2019-08-07 21:15:17.\n"
     ]
    }
   ],
   "source": [
    "first_date = logs['event_dt'].min() # минимальная дата \n",
    "last_date = logs['event_dt'].max() # максимальная дата\n",
    "\n",
    "print(f'Мы располагаем данными за {last_date - first_date}, c {first_date} по {last_date}.')"
   ]
  },
  {
   "cell_type": "markdown",
   "metadata": {},
   "source": [
    "### Как меняется количество данных? Можно ли быть уверенным, что у нас одинаково полные данные за весь период? Скорректировать реальный период используемых данных."
   ]
  },
  {
   "cell_type": "markdown",
   "metadata": {},
   "source": [
    "**Подготовка данных:** создадим агрегированные данные для групп по количеству событий по датам"
   ]
  },
  {
   "cell_type": "code",
   "execution_count": 31,
   "metadata": {},
   "outputs": [],
   "source": [
    "# Функция для создания сводной таблицы событий по датам для указанной группы\n",
    "def create_pivot_table(logs, group):\n",
    "    group_logs = logs[logs['group'] == group] #срез данных по группе\n",
    "    # Создаем сводную таблицу с количеством событий\n",
    "    pivot_table = group_logs.pivot_table(index='date', values='event_name', aggfunc='count')\n",
    "    # Меняем название столбца на более понятное\n",
    "    pivot_table = pivot_table.rename(columns={'event_name': f'event_cnt_{group}'})\n",
    "    # Сброс индекса, чтобы 'date' стал обычным столбцом, а не индексом\n",
    "    pivot_table = pivot_table.reset_index()\n",
    "    # Приводим столбец 'date' к типу datetime64[ns]\n",
    "    pivot_table['date'] = pd.to_datetime(pivot_table['date'])\n",
    "    return pivot_table"
   ]
  },
  {
   "cell_type": "code",
   "execution_count": 32,
   "metadata": {},
   "outputs": [
    {
     "data": {
      "text/html": [
       "<div>\n",
       "<style scoped>\n",
       "    .dataframe tbody tr th:only-of-type {\n",
       "        vertical-align: middle;\n",
       "    }\n",
       "\n",
       "    .dataframe tbody tr th {\n",
       "        vertical-align: top;\n",
       "    }\n",
       "\n",
       "    .dataframe thead th {\n",
       "        text-align: right;\n",
       "    }\n",
       "</style>\n",
       "<table border=\"1\" class=\"dataframe\">\n",
       "  <thead>\n",
       "    <tr style=\"text-align: right;\">\n",
       "      <th></th>\n",
       "      <th>date</th>\n",
       "      <th>event_cnt_A246</th>\n",
       "      <th>event_cnt_A247</th>\n",
       "      <th>event_cnt_B248</th>\n",
       "    </tr>\n",
       "  </thead>\n",
       "  <tbody>\n",
       "    <tr>\n",
       "      <th>0</th>\n",
       "      <td>2019-07-25</td>\n",
       "      <td>4</td>\n",
       "      <td>1</td>\n",
       "      <td>4</td>\n",
       "    </tr>\n",
       "    <tr>\n",
       "      <th>1</th>\n",
       "      <td>2019-07-26</td>\n",
       "      <td>14</td>\n",
       "      <td>8</td>\n",
       "      <td>9</td>\n",
       "    </tr>\n",
       "    <tr>\n",
       "      <th>2</th>\n",
       "      <td>2019-07-27</td>\n",
       "      <td>24</td>\n",
       "      <td>23</td>\n",
       "      <td>8</td>\n",
       "    </tr>\n",
       "    <tr>\n",
       "      <th>3</th>\n",
       "      <td>2019-07-28</td>\n",
       "      <td>33</td>\n",
       "      <td>36</td>\n",
       "      <td>36</td>\n",
       "    </tr>\n",
       "    <tr>\n",
       "      <th>4</th>\n",
       "      <td>2019-07-29</td>\n",
       "      <td>55</td>\n",
       "      <td>58</td>\n",
       "      <td>71</td>\n",
       "    </tr>\n",
       "    <tr>\n",
       "      <th>5</th>\n",
       "      <td>2019-07-30</td>\n",
       "      <td>129</td>\n",
       "      <td>138</td>\n",
       "      <td>145</td>\n",
       "    </tr>\n",
       "    <tr>\n",
       "      <th>6</th>\n",
       "      <td>2019-07-31</td>\n",
       "      <td>620</td>\n",
       "      <td>664</td>\n",
       "      <td>746</td>\n",
       "    </tr>\n",
       "    <tr>\n",
       "      <th>7</th>\n",
       "      <td>2019-08-01</td>\n",
       "      <td>11561</td>\n",
       "      <td>12306</td>\n",
       "      <td>12274</td>\n",
       "    </tr>\n",
       "    <tr>\n",
       "      <th>8</th>\n",
       "      <td>2019-08-02</td>\n",
       "      <td>10946</td>\n",
       "      <td>10990</td>\n",
       "      <td>13618</td>\n",
       "    </tr>\n",
       "    <tr>\n",
       "      <th>9</th>\n",
       "      <td>2019-08-03</td>\n",
       "      <td>10575</td>\n",
       "      <td>11024</td>\n",
       "      <td>11683</td>\n",
       "    </tr>\n",
       "    <tr>\n",
       "      <th>10</th>\n",
       "      <td>2019-08-04</td>\n",
       "      <td>11514</td>\n",
       "      <td>9942</td>\n",
       "      <td>11512</td>\n",
       "    </tr>\n",
       "    <tr>\n",
       "      <th>11</th>\n",
       "      <td>2019-08-05</td>\n",
       "      <td>12368</td>\n",
       "      <td>10949</td>\n",
       "      <td>12741</td>\n",
       "    </tr>\n",
       "    <tr>\n",
       "      <th>12</th>\n",
       "      <td>2019-08-06</td>\n",
       "      <td>11726</td>\n",
       "      <td>11720</td>\n",
       "      <td>12342</td>\n",
       "    </tr>\n",
       "    <tr>\n",
       "      <th>13</th>\n",
       "      <td>2019-08-07</td>\n",
       "      <td>10612</td>\n",
       "      <td>10091</td>\n",
       "      <td>10393</td>\n",
       "    </tr>\n",
       "  </tbody>\n",
       "</table>\n",
       "</div>"
      ],
      "text/plain": [
       "         date  event_cnt_A246  event_cnt_A247  event_cnt_B248\n",
       "0  2019-07-25               4               1               4\n",
       "1  2019-07-26              14               8               9\n",
       "2  2019-07-27              24              23               8\n",
       "3  2019-07-28              33              36              36\n",
       "4  2019-07-29              55              58              71\n",
       "5  2019-07-30             129             138             145\n",
       "6  2019-07-31             620             664             746\n",
       "7  2019-08-01           11561           12306           12274\n",
       "8  2019-08-02           10946           10990           13618\n",
       "9  2019-08-03           10575           11024           11683\n",
       "10 2019-08-04           11514            9942           11512\n",
       "11 2019-08-05           12368           10949           12741\n",
       "12 2019-08-06           11726           11720           12342\n",
       "13 2019-08-07           10612           10091           10393"
      ]
     },
     "execution_count": 32,
     "metadata": {},
     "output_type": "execute_result"
    }
   ],
   "source": [
    "# Создадим сводные таблицы для каждой группы\n",
    "events_by_date_A246 = create_pivot_table(logs, 'A246')\n",
    "events_by_date_A247 = create_pivot_table(logs, 'A247')\n",
    "events_by_date_B248 = create_pivot_table(logs, 'B248')\n",
    "\n",
    "# Создадим полный диапазон дат\n",
    "full_date_range = pd.date_range(start='2019-07-25', end='2019-08-07')\n",
    "\n",
    "# Преобразуем в DataFrame\n",
    "full_date_range_df = pd.DataFrame(full_date_range, columns=['date'])\n",
    "\n",
    "# Объединим все в один DataFrame\n",
    "events_by_date = full_date_range_df.merge(events_by_date_A246, on='date', how='left')\\\n",
    "                                   .merge(events_by_date_A247, on='date', how='left')\\\n",
    "                                   .merge(events_by_date_B248, on='date', how='left')\n",
    "events_by_date"
   ]
  },
  {
   "cell_type": "code",
   "execution_count": 33,
   "metadata": {},
   "outputs": [
    {
     "data": {
      "image/png": "[encoded data removed]",
      "text/plain": [
       "<Figure size 1700x600 with 1 Axes>"
      ]
     },
     "metadata": {},
     "output_type": "display_data"
    }
   ],
   "source": [
    "# Cтроим столбчатую диаграмму для оценки количество событий в зависимости от времени в разрезе групп.\n",
    "plt.figure(figsize=(17,6))\n",
    "\n",
    "plt.bar(events_by_date['date'], \n",
    "        events_by_date['event_cnt_A246'], \n",
    "        width=0.2, \n",
    "        label='A246', \n",
    "        align='center')\n",
    "plt.bar(events_by_date['date'] + pd.Timedelta(days=0.2), \n",
    "        events_by_date['event_cnt_A247'], \n",
    "        width=0.2, \n",
    "        label='A247', \n",
    "        align='center')\n",
    "plt.bar(events_by_date['date'] + pd.Timedelta(days=0.4), \n",
    "        events_by_date['event_cnt_B248'], \n",
    "        width=0.2, \n",
    "        label='B248', \n",
    "        align='center')\n",
    "\n",
    "plt.title('Количество событий по дням для каждой группы', fontsize=12, fontweight=\"bold\")\n",
    "plt.xlabel('Дата')\n",
    "plt.xticks(rotation=45)\n",
    "plt.ylabel('Количество событий')\n",
    "plt.legend(loc='upper left')\n",
    "plt.grid()\n",
    "plt.show()"
   ]
  },
  {
   "cell_type": "markdown",
   "metadata": {},
   "source": [
    "На диаграмме видна значительная разница в количестве данных за первую и вторую половину рассматриваемого периода, Можно сделать вывод, что данные за июль неполные.  Для анализа возьмем события за полную неделю с 1 по 7 августа 2019 года. "
   ]
  },
  {
   "cell_type": "code",
   "execution_count": 35,
   "metadata": {},
   "outputs": [],
   "source": [
    "# Отбросим более старые данные (после 31 июля)\n",
    "logs_aug = logs[logs['date'] > pd.to_datetime('2019-07-31').date()]"
   ]
  },
  {
   "cell_type": "markdown",
   "metadata": {},
   "source": [
    "### Оценка количества событий и пользователей, которых потеряли, отбросив старые данные\n"
   ]
  },
  {
   "cell_type": "code",
   "execution_count": 37,
   "metadata": {},
   "outputs": [
    {
     "name": "stdout",
     "output_type": "stream",
     "text": [
      "Было всего событий 243713, уникальных типов событий 5.\n",
      "Стало всего событий 240887, уникальных типов событий 5.\n",
      "Мы потеряли 1% событий, отбросив старые данные.\n"
     ]
    }
   ],
   "source": [
    "# количество событий после изменения\n",
    "events_aug = logs_aug.shape[0]\n",
    "\n",
    "print(f'Было всего событий {events}, уникальных типов событий {logs[\"event_name\"].nunique()}.')\n",
    "print(f'Стало всего событий {events_aug}, уникальных типов событий {logs_aug[\"event_name\"].nunique()}.')\n",
    "print(f'Мы потеряли {events_aug/events:.0f}% событий, отбросив старые данные.')"
   ]
  },
  {
   "cell_type": "code",
   "execution_count": 38,
   "metadata": {
    "scrolled": true
   },
   "outputs": [
    {
     "name": "stdout",
     "output_type": "stream",
     "text": [
      "Было всего уникальных пользователей 7551.\n",
      "Стало всего уникальных пользователей 7534.\n",
      "Мы потеряли 1% пользователей, отбросив старые данные.\n"
     ]
    }
   ],
   "source": [
    "# количество пользователей после изменения\n",
    "users_aug = logs_aug[\"user_id\"].nunique()\n",
    "\n",
    "print(f'Было всего уникальных пользователей {users}.')\n",
    "print(f'Стало всего уникальных пользователей {users_aug}.')\n",
    "print(f'Мы потеряли {users_aug/users:.0f}% пользователей, отбросив старые данные.')"
   ]
  },
  {
   "cell_type": "code",
   "execution_count": 39,
   "metadata": {},
   "outputs": [
    {
     "name": "stdout",
     "output_type": "stream",
     "text": [
      "Было среднее количество событий на пользователя 32.3.\n",
      "Стало среднее количество событий на пользователя 32.0.\n"
     ]
    }
   ],
   "source": [
    "print(f'Было среднее количество событий на пользователя {events / users:.1f}.')\n",
    "print(f'Стало среднее количество событий на пользователя {(events_aug / users_aug):.1f}.')"
   ]
  },
  {
   "cell_type": "markdown",
   "metadata": {},
   "source": [
    "Мы отбросили незначительную часть данных, которая не должна повлиять на результаты анализа."
   ]
  },
  {
   "cell_type": "markdown",
   "metadata": {},
   "source": [
    "### Проверка, что есть пользователи из всех трёх экспериментальных групп"
   ]
  },
  {
   "cell_type": "code",
   "execution_count": 42,
   "metadata": {},
   "outputs": [
    {
     "data": {
      "text/html": [
       "<div>\n",
       "<style scoped>\n",
       "    .dataframe tbody tr th:only-of-type {\n",
       "        vertical-align: middle;\n",
       "    }\n",
       "\n",
       "    .dataframe tbody tr th {\n",
       "        vertical-align: top;\n",
       "    }\n",
       "\n",
       "    .dataframe thead th {\n",
       "        text-align: right;\n",
       "    }\n",
       "</style>\n",
       "<table border=\"1\" class=\"dataframe\">\n",
       "  <thead>\n",
       "    <tr style=\"text-align: right;\">\n",
       "      <th></th>\n",
       "      <th>user_id</th>\n",
       "    </tr>\n",
       "    <tr>\n",
       "      <th>group</th>\n",
       "      <th></th>\n",
       "    </tr>\n",
       "  </thead>\n",
       "  <tbody>\n",
       "    <tr>\n",
       "      <th>A246</th>\n",
       "      <td>2484</td>\n",
       "    </tr>\n",
       "    <tr>\n",
       "      <th>A247</th>\n",
       "      <td>2513</td>\n",
       "    </tr>\n",
       "    <tr>\n",
       "      <th>B248</th>\n",
       "      <td>2537</td>\n",
       "    </tr>\n",
       "  </tbody>\n",
       "</table>\n",
       "</div>"
      ],
      "text/plain": [
       "       user_id\n",
       "group         \n",
       "A246      2484\n",
       "A247      2513\n",
       "B248      2537"
      ]
     },
     "execution_count": 42,
     "metadata": {},
     "output_type": "execute_result"
    }
   ],
   "source": [
    "logs_aug.groupby('group').agg({'user_id': 'nunique'})"
   ]
  },
  {
   "cell_type": "markdown",
   "metadata": {},
   "source": [
    "В обновленном датасете есть пользователи из всех трех экспериментальных групп"
   ]
  },
  {
   "cell_type": "markdown",
   "metadata": {},
   "source": [
    "***Первоначальные данные были за две недели, c 2019-07-25 по 2019-08-07. Проверка показала, что данные за июль неполные.   \n",
    "Для анализа возьмем события за полную неделю с 1 по 7 августа 2019 года, отбросив 1% как событий, так и пользователей.  \n",
    "В среднем получилось 32 события на пользователя. В обновленном датасете есть пользователи из всех трех экспериментальных групп.***"
   ]
  },
  {
   "cell_type": "markdown",
   "metadata": {},
   "source": [
    "## Изучение воронки событий"
   ]
  },
  {
   "cell_type": "markdown",
   "metadata": {},
   "source": [
    "### Исследование событий в логах, как часто они встречаются"
   ]
  },
  {
   "cell_type": "code",
   "execution_count": 47,
   "metadata": {},
   "outputs": [
    {
     "data": {
      "text/html": [
       "<style type=\"text/css\">\n",
       "</style>\n",
       "<table id=\"T_10c9e\">\n",
       "  <thead>\n",
       "    <tr>\n",
       "      <th class=\"blank level0\" >&nbsp;</th>\n",
       "      <th id=\"T_10c9e_level0_col0\" class=\"col_heading level0 col0\" >events_cnt</th>\n",
       "      <th id=\"T_10c9e_level0_col1\" class=\"col_heading level0 col1\" >events_percent</th>\n",
       "    </tr>\n",
       "    <tr>\n",
       "      <th class=\"index_name level0\" >event_name</th>\n",
       "      <th class=\"blank col0\" >&nbsp;</th>\n",
       "      <th class=\"blank col1\" >&nbsp;</th>\n",
       "    </tr>\n",
       "  </thead>\n",
       "  <tbody>\n",
       "    <tr>\n",
       "      <th id=\"T_10c9e_level0_row0\" class=\"row_heading level0 row0\" >MainScreenAppear</th>\n",
       "      <td id=\"T_10c9e_row0_col0\" class=\"data row0 col0\" >117328</td>\n",
       "      <td id=\"T_10c9e_row0_col1\" class=\"data row0 col1\" >48.7%</td>\n",
       "    </tr>\n",
       "    <tr>\n",
       "      <th id=\"T_10c9e_level0_row1\" class=\"row_heading level0 row1\" >OffersScreenAppear</th>\n",
       "      <td id=\"T_10c9e_row1_col0\" class=\"data row1 col0\" >46333</td>\n",
       "      <td id=\"T_10c9e_row1_col1\" class=\"data row1 col1\" >19.2%</td>\n",
       "    </tr>\n",
       "    <tr>\n",
       "      <th id=\"T_10c9e_level0_row2\" class=\"row_heading level0 row2\" >CartScreenAppear</th>\n",
       "      <td id=\"T_10c9e_row2_col0\" class=\"data row2 col0\" >42303</td>\n",
       "      <td id=\"T_10c9e_row2_col1\" class=\"data row2 col1\" >17.6%</td>\n",
       "    </tr>\n",
       "    <tr>\n",
       "      <th id=\"T_10c9e_level0_row3\" class=\"row_heading level0 row3\" >PaymentScreenSuccessful</th>\n",
       "      <td id=\"T_10c9e_row3_col0\" class=\"data row3 col0\" >33918</td>\n",
       "      <td id=\"T_10c9e_row3_col1\" class=\"data row3 col1\" >14.1%</td>\n",
       "    </tr>\n",
       "    <tr>\n",
       "      <th id=\"T_10c9e_level0_row4\" class=\"row_heading level0 row4\" >Tutorial</th>\n",
       "      <td id=\"T_10c9e_row4_col0\" class=\"data row4 col0\" >1005</td>\n",
       "      <td id=\"T_10c9e_row4_col1\" class=\"data row4 col1\" >0.4%</td>\n",
       "    </tr>\n",
       "  </tbody>\n",
       "</table>\n"
      ],
      "text/plain": [
       "<pandas.io.formats.style.Styler at 0x188ee16e690>"
      ]
     },
     "execution_count": 47,
     "metadata": {},
     "output_type": "execute_result"
    }
   ],
   "source": [
    "event_count = logs_aug.groupby('event_name').agg({'user_id': 'count'})\\\n",
    "    .rename(columns={'user_id': 'events_cnt'})\\\n",
    "    .sort_values(by='events_cnt', ascending=False)\n",
    "event_count['events_percent'] = event_count['events_cnt'] / events_aug \n",
    "event_count.style.format({'events_percent': '{:.1%}'})"
   ]
  },
  {
   "cell_type": "markdown",
   "metadata": {},
   "source": [
    "Всего 5 типов событий в логах:  \n",
    "    - `MainScreenAppear` (главный экран) - пользователь открыл главный экран приложения (48.7% всех действий в приложении);  \n",
    "    - `OffersScreenAppear` (предложение товаров) - пользователь перешел на экран с предложениями товаров (19.2%, меньше половины случаев просмотра главного экрана приложения переходят к экрану с предложениями товаров);  \n",
    "    - `CartScreenAppear` (корзина) - пользователь добавляет товары в корзину и переходит к ее просмотру (17.6%всех событий - добавление товара в корзину);  \n",
    "    - `PaymentScreenSuccessful` (оплата товара) - пользователь успешно завершил оплату (14.1% всех событий - оплата товара);  \n",
    "    - `Tutorial` (инструкция) - пользователь просмотрел инструкцию (менее 1% всех событий - просмотр инструкции по пользованию приложением)."
   ]
  },
  {
   "cell_type": "markdown",
   "metadata": {},
   "source": [
    "### Расчет количества пользователей, совершавших каждое из событий"
   ]
  },
  {
   "cell_type": "code",
   "execution_count": 50,
   "metadata": {},
   "outputs": [
    {
     "data": {
      "text/html": [
       "<style type=\"text/css\">\n",
       "</style>\n",
       "<table id=\"T_be9b9\">\n",
       "  <thead>\n",
       "    <tr>\n",
       "      <th class=\"blank level0\" >&nbsp;</th>\n",
       "      <th id=\"T_be9b9_level0_col0\" class=\"col_heading level0 col0\" >users_cnt</th>\n",
       "      <th id=\"T_be9b9_level0_col1\" class=\"col_heading level0 col1\" >total_percent</th>\n",
       "    </tr>\n",
       "    <tr>\n",
       "      <th class=\"index_name level0\" >event_name</th>\n",
       "      <th class=\"blank col0\" >&nbsp;</th>\n",
       "      <th class=\"blank col1\" >&nbsp;</th>\n",
       "    </tr>\n",
       "  </thead>\n",
       "  <tbody>\n",
       "    <tr>\n",
       "      <th id=\"T_be9b9_level0_row0\" class=\"row_heading level0 row0\" >MainScreenAppear</th>\n",
       "      <td id=\"T_be9b9_row0_col0\" class=\"data row0 col0\" >7419</td>\n",
       "      <td id=\"T_be9b9_row0_col1\" class=\"data row0 col1\" >98.5%</td>\n",
       "    </tr>\n",
       "    <tr>\n",
       "      <th id=\"T_be9b9_level0_row1\" class=\"row_heading level0 row1\" >OffersScreenAppear</th>\n",
       "      <td id=\"T_be9b9_row1_col0\" class=\"data row1 col0\" >4593</td>\n",
       "      <td id=\"T_be9b9_row1_col1\" class=\"data row1 col1\" >61.0%</td>\n",
       "    </tr>\n",
       "    <tr>\n",
       "      <th id=\"T_be9b9_level0_row2\" class=\"row_heading level0 row2\" >CartScreenAppear</th>\n",
       "      <td id=\"T_be9b9_row2_col0\" class=\"data row2 col0\" >3734</td>\n",
       "      <td id=\"T_be9b9_row2_col1\" class=\"data row2 col1\" >49.6%</td>\n",
       "    </tr>\n",
       "    <tr>\n",
       "      <th id=\"T_be9b9_level0_row3\" class=\"row_heading level0 row3\" >PaymentScreenSuccessful</th>\n",
       "      <td id=\"T_be9b9_row3_col0\" class=\"data row3 col0\" >3539</td>\n",
       "      <td id=\"T_be9b9_row3_col1\" class=\"data row3 col1\" >47.0%</td>\n",
       "    </tr>\n",
       "    <tr>\n",
       "      <th id=\"T_be9b9_level0_row4\" class=\"row_heading level0 row4\" >Tutorial</th>\n",
       "      <td id=\"T_be9b9_row4_col0\" class=\"data row4 col0\" >840</td>\n",
       "      <td id=\"T_be9b9_row4_col1\" class=\"data row4 col1\" >11.1%</td>\n",
       "    </tr>\n",
       "  </tbody>\n",
       "</table>\n"
      ],
      "text/plain": [
       "<pandas.io.formats.style.Styler at 0x188eedc24d0>"
      ]
     },
     "execution_count": 50,
     "metadata": {},
     "output_type": "execute_result"
    }
   ],
   "source": [
    "user_count = logs_aug.groupby('event_name').agg({'user_id': 'nunique'})\\\n",
    "    .rename(columns={'user_id': 'users_cnt'})\\\n",
    "    .sort_values(by='users_cnt', ascending=False)\n",
    "# Добавляем столбец с процентом уникальных пользователей от общего количества уникальных пользователей \n",
    "user_count['total_percent'] = (user_count['users_cnt'] / users_aug)\n",
    "user_count.style.format({'total_percent': '{:.1%}'})"
   ]
  },
  {
   "cell_type": "markdown",
   "metadata": {},
   "source": [
    "Не все пользователи открывали главный экран приложения (98.5%). Вероятно некоторые пользователи (1.5%) сразу перешли к другим этапам. Посмотрим, какие события совершали пользователи, пропустившие главный экран приложения."
   ]
  },
  {
   "cell_type": "code",
   "execution_count": 52,
   "metadata": {},
   "outputs": [
    {
     "data": {
      "text/html": [
       "<div>\n",
       "<style scoped>\n",
       "    .dataframe tbody tr th:only-of-type {\n",
       "        vertical-align: middle;\n",
       "    }\n",
       "\n",
       "    .dataframe tbody tr th {\n",
       "        vertical-align: top;\n",
       "    }\n",
       "\n",
       "    .dataframe thead th {\n",
       "        text-align: right;\n",
       "    }\n",
       "</style>\n",
       "<table border=\"1\" class=\"dataframe\">\n",
       "  <thead>\n",
       "    <tr style=\"text-align: right;\">\n",
       "      <th></th>\n",
       "      <th></th>\n",
       "      <th>user_id</th>\n",
       "    </tr>\n",
       "    <tr>\n",
       "      <th>user_id</th>\n",
       "      <th>event_name</th>\n",
       "      <th></th>\n",
       "    </tr>\n",
       "  </thead>\n",
       "  <tbody>\n",
       "    <tr>\n",
       "      <th rowspan=\"3\" valign=\"top\">6909561520679493</th>\n",
       "      <th>CartScreenAppear</th>\n",
       "      <td>1</td>\n",
       "    </tr>\n",
       "    <tr>\n",
       "      <th>OffersScreenAppear</th>\n",
       "      <td>1</td>\n",
       "    </tr>\n",
       "    <tr>\n",
       "      <th>PaymentScreenSuccessful</th>\n",
       "      <td>1</td>\n",
       "    </tr>\n",
       "    <tr>\n",
       "      <th rowspan=\"3\" valign=\"top\">6922444491712477</th>\n",
       "      <th>CartScreenAppear</th>\n",
       "      <td>8</td>\n",
       "    </tr>\n",
       "    <tr>\n",
       "      <th>OffersScreenAppear</th>\n",
       "      <td>12</td>\n",
       "    </tr>\n",
       "    <tr>\n",
       "      <th>PaymentScreenSuccessful</th>\n",
       "      <td>8</td>\n",
       "    </tr>\n",
       "    <tr>\n",
       "      <th rowspan=\"3\" valign=\"top\">7702139951469979</th>\n",
       "      <th>CartScreenAppear</th>\n",
       "      <td>5</td>\n",
       "    </tr>\n",
       "    <tr>\n",
       "      <th>OffersScreenAppear</th>\n",
       "      <td>87</td>\n",
       "    </tr>\n",
       "    <tr>\n",
       "      <th>PaymentScreenSuccessful</th>\n",
       "      <td>5</td>\n",
       "    </tr>\n",
       "    <tr>\n",
       "      <th rowspan=\"2\" valign=\"top\">8486814028069281</th>\n",
       "      <th>CartScreenAppear</th>\n",
       "      <td>4</td>\n",
       "    </tr>\n",
       "    <tr>\n",
       "      <th>OffersScreenAppear</th>\n",
       "      <td>2</td>\n",
       "    </tr>\n",
       "    <tr>\n",
       "      <th>8740973466195562</th>\n",
       "      <th>OffersScreenAppear</th>\n",
       "      <td>1</td>\n",
       "    </tr>\n",
       "    <tr>\n",
       "      <th rowspan=\"4\" valign=\"top\">9841258664663090</th>\n",
       "      <th>CartScreenAppear</th>\n",
       "      <td>8</td>\n",
       "    </tr>\n",
       "    <tr>\n",
       "      <th>OffersScreenAppear</th>\n",
       "      <td>8</td>\n",
       "    </tr>\n",
       "    <tr>\n",
       "      <th>PaymentScreenSuccessful</th>\n",
       "      <td>2</td>\n",
       "    </tr>\n",
       "    <tr>\n",
       "      <th>Tutorial</th>\n",
       "      <td>1</td>\n",
       "    </tr>\n",
       "    <tr>\n",
       "      <th>12692216027168046</th>\n",
       "      <th>OffersScreenAppear</th>\n",
       "      <td>3</td>\n",
       "    </tr>\n",
       "    <tr>\n",
       "      <th rowspan=\"3\" valign=\"top\">15708180189885246</th>\n",
       "      <th>CartScreenAppear</th>\n",
       "      <td>38</td>\n",
       "    </tr>\n",
       "    <tr>\n",
       "      <th>OffersScreenAppear</th>\n",
       "      <td>38</td>\n",
       "    </tr>\n",
       "    <tr>\n",
       "      <th>PaymentScreenSuccessful</th>\n",
       "      <td>23</td>\n",
       "    </tr>\n",
       "  </tbody>\n",
       "</table>\n",
       "</div>"
      ],
      "text/plain": [
       "                                           user_id\n",
       "user_id           event_name                      \n",
       "6909561520679493  CartScreenAppear               1\n",
       "                  OffersScreenAppear             1\n",
       "                  PaymentScreenSuccessful        1\n",
       "6922444491712477  CartScreenAppear               8\n",
       "                  OffersScreenAppear            12\n",
       "                  PaymentScreenSuccessful        8\n",
       "7702139951469979  CartScreenAppear               5\n",
       "                  OffersScreenAppear            87\n",
       "                  PaymentScreenSuccessful        5\n",
       "8486814028069281  CartScreenAppear               4\n",
       "                  OffersScreenAppear             2\n",
       "8740973466195562  OffersScreenAppear             1\n",
       "9841258664663090  CartScreenAppear               8\n",
       "                  OffersScreenAppear             8\n",
       "                  PaymentScreenSuccessful        2\n",
       "                  Tutorial                       1\n",
       "12692216027168046 OffersScreenAppear             3\n",
       "15708180189885246 CartScreenAppear              38\n",
       "                  OffersScreenAppear            38\n",
       "                  PaymentScreenSuccessful       23"
      ]
     },
     "execution_count": 52,
     "metadata": {},
     "output_type": "execute_result"
    }
   ],
   "source": [
    "logs_aug.query('event_name != \"MainScreenAppear\"')\\\n",
    "    .groupby(['user_id', 'event_name']).agg({'user_id': 'count'}).head(20)"
   ]
  },
  {
   "cell_type": "code",
   "execution_count": 53,
   "metadata": {},
   "outputs": [
    {
     "name": "stdout",
     "output_type": "stream",
     "text": [
      "115 уникальных пользователей пропустили главный экран.\n"
     ]
    }
   ],
   "source": [
    "print(users_aug - user_count['users_cnt'].iloc[0], 'уникальных пользователей пропустили главный экран.')"
   ]
  },
  {
   "cell_type": "markdown",
   "metadata": {},
   "source": [
    "Некоторые пользователи действительно минуя главный экран перешли к другим этапам, видимо по прямым ссылкам. Возможность прямого перехода есть для каждой страницы.  \n",
    "Инструкцию открывали 11.1% пользователей, причем этот этап не является частью воронки событий, т.к. на него переходят не последовательно, а с любого этапа. "
   ]
  },
  {
   "cell_type": "markdown",
   "metadata": {},
   "source": [
    "### Предположение о порядке событий"
   ]
  },
  {
   "cell_type": "markdown",
   "metadata": {},
   "source": [
    "Событие Tutorial составляет всего 0.4% всех событий. Его можно не учитывать.   \n",
    "Построим диаграммы количества событий в логах без Tutorial и количества уникальных пользователей по типам событий."
   ]
  },
  {
   "cell_type": "code",
   "execution_count": 57,
   "metadata": {},
   "outputs": [
    {
     "data": {
      "image/png": "[encoded data removed]",
      "text/plain": [
       "<Figure size 1000x400 with 1 Axes>"
      ]
     },
     "metadata": {},
     "output_type": "display_data"
    }
   ],
   "source": [
    "# Отбираем первые четыре строки таблицы event_count и только столбец users_cnt\n",
    "event_funnel = event_count.iloc[:-1][['events_cnt']]\n",
    "\n",
    "# Построим диаграмму по количеству событий для основных 4 этапов воронки событий\n",
    "plt.figure (figsize=(10,4))\n",
    "\n",
    "# Создаем горизонтальный столбчатый график\n",
    "sns.barplot(x=event_funnel['events_cnt'], y=event_funnel.index, orient='h')\n",
    "\n",
    "plt.title('Количество событий по типам', fontsize=12, fontweight=\"bold\")\n",
    "plt.xlabel('Количество событий', fontsize=12)\n",
    "plt.ylabel('Тип события', fontsize=12)\n",
    "plt.show()"
   ]
  },
  {
   "cell_type": "code",
   "execution_count": 58,
   "metadata": {},
   "outputs": [
    {
     "data": {
      "image/png": "[encoded data removed]",
      "text/plain": [
       "<Figure size 1000x400 with 1 Axes>"
      ]
     },
     "metadata": {},
     "output_type": "display_data"
    }
   ],
   "source": [
    "# Отбираем первые четыре строки таблицы user_count и только столбец users_cnt\n",
    "user_funnel = user_count.iloc[:-1][['users_cnt']]\n",
    "\n",
    "# Построим диаграмму по количеству уникальных пользователей для основных 4 этапов воронки событий\n",
    "plt.figure(figsize=(10,4))\n",
    "\n",
    "# Создаем горизонтальный столбчатый график\n",
    "sns.barplot(x=user_funnel['users_cnt'], y=user_funnel.index, orient='h')\n",
    "\n",
    "plt.title('Количество уникальных пользователей по типам событий', fontsize=12, fontweight=\"bold\")\n",
    "plt.xlabel('Количество пользователей', fontsize=12)\n",
    "plt.ylabel('Тип события', fontsize=12)\n",
    "plt.show()"
   ]
  },
  {
   "cell_type": "markdown",
   "metadata": {},
   "source": [
    "Логично предположить, что последовательность событий идет по убыванию количества событий и пользователей на каждом этапе.  \n",
    "\n",
    "**Воронка событий**   \n",
    "1. `MainScreenAppear` (главный экран)  \n",
    "2. `OffersScreenAppear` (предложение товаров) \n",
    "3. `CartScreenAppear` (корзина) \n",
    "4. `PaymentScreenSuccessful` (оплата товара)"
   ]
  },
  {
   "cell_type": "markdown",
   "metadata": {},
   "source": [
    "### Расчет доли пользователей, проходящих на следующий шаг воронки"
   ]
  },
  {
   "cell_type": "code",
   "execution_count": 61,
   "metadata": {},
   "outputs": [
    {
     "data": {
      "text/html": [
       "<style type=\"text/css\">\n",
       "</style>\n",
       "<table id=\"T_c76be\">\n",
       "  <thead>\n",
       "    <tr>\n",
       "      <th class=\"blank level0\" >&nbsp;</th>\n",
       "      <th id=\"T_c76be_level0_col0\" class=\"col_heading level0 col0\" >users_cnt</th>\n",
       "      <th id=\"T_c76be_level0_col1\" class=\"col_heading level0 col1\" >CR</th>\n",
       "      <th id=\"T_c76be_level0_col2\" class=\"col_heading level0 col2\" >CR_step</th>\n",
       "    </tr>\n",
       "    <tr>\n",
       "      <th class=\"index_name level0\" >event_name</th>\n",
       "      <th class=\"blank col0\" >&nbsp;</th>\n",
       "      <th class=\"blank col1\" >&nbsp;</th>\n",
       "      <th class=\"blank col2\" >&nbsp;</th>\n",
       "    </tr>\n",
       "  </thead>\n",
       "  <tbody>\n",
       "    <tr>\n",
       "      <th id=\"T_c76be_level0_row0\" class=\"row_heading level0 row0\" >MainScreenAppear</th>\n",
       "      <td id=\"T_c76be_row0_col0\" class=\"data row0 col0\" >7419</td>\n",
       "      <td id=\"T_c76be_row0_col1\" class=\"data row0 col1\" >100.0%</td>\n",
       "      <td id=\"T_c76be_row0_col2\" class=\"data row0 col2\" >100.0%</td>\n",
       "    </tr>\n",
       "    <tr>\n",
       "      <th id=\"T_c76be_level0_row1\" class=\"row_heading level0 row1\" >OffersScreenAppear</th>\n",
       "      <td id=\"T_c76be_row1_col0\" class=\"data row1 col0\" >4593</td>\n",
       "      <td id=\"T_c76be_row1_col1\" class=\"data row1 col1\" >61.9%</td>\n",
       "      <td id=\"T_c76be_row1_col2\" class=\"data row1 col2\" >61.9%</td>\n",
       "    </tr>\n",
       "    <tr>\n",
       "      <th id=\"T_c76be_level0_row2\" class=\"row_heading level0 row2\" >CartScreenAppear</th>\n",
       "      <td id=\"T_c76be_row2_col0\" class=\"data row2 col0\" >3734</td>\n",
       "      <td id=\"T_c76be_row2_col1\" class=\"data row2 col1\" >50.3%</td>\n",
       "      <td id=\"T_c76be_row2_col2\" class=\"data row2 col2\" >81.3%</td>\n",
       "    </tr>\n",
       "    <tr>\n",
       "      <th id=\"T_c76be_level0_row3\" class=\"row_heading level0 row3\" >PaymentScreenSuccessful</th>\n",
       "      <td id=\"T_c76be_row3_col0\" class=\"data row3 col0\" >3539</td>\n",
       "      <td id=\"T_c76be_row3_col1\" class=\"data row3 col1\" >47.7%</td>\n",
       "      <td id=\"T_c76be_row3_col2\" class=\"data row3 col2\" >94.8%</td>\n",
       "    </tr>\n",
       "  </tbody>\n",
       "</table>\n"
      ],
      "text/plain": [
       "<pandas.io.formats.style.Styler at 0x188eee0dcd0>"
      ]
     },
     "execution_count": 61,
     "metadata": {},
     "output_type": "execute_result"
    }
   ],
   "source": [
    "# Добавляем столбец CR-конверсия (доля уникальных пользователей от пользователей на первом этапе) \n",
    "user_funnel['CR'] = user_funnel['users_cnt'] / user_funnel['users_cnt'].iloc[0]\n",
    "\n",
    "# Добавляем столбец CR_step - конверсия в шаг \n",
    "# (доля уникальных пользователей от пользователей на предыдущем этапе) \n",
    "# shift(1) сдвигает значения на одну строку вниз\n",
    "user_funnel['CR_step'] = user_funnel['users_cnt'] / user_funnel['users_cnt'].shift(1) \n",
    "# Замена NaN (которые появляются из-за деления на пустое значение в первой строке) на 1\n",
    "user_funnel['CR_step'].fillna(1, inplace=True)\n",
    "\n",
    "# Форматируем значения в проценты\n",
    "user_funnel_format = user_funnel.style.format({'CR': '{:.1%}', 'CR_step': '{:.1%}'})\n",
    "user_funnel_format"
   ]
  },
  {
   "cell_type": "markdown",
   "metadata": {},
   "source": [
    "### На каком шаге теряется больше всего пользователей?"
   ]
  },
  {
   "cell_type": "code",
   "execution_count": 63,
   "metadata": {},
   "outputs": [
    {
     "data": {
      "text/html": [
       "<style type=\"text/css\">\n",
       "</style>\n",
       "<table id=\"T_53686\">\n",
       "  <thead>\n",
       "    <tr>\n",
       "      <th class=\"blank level0\" >&nbsp;</th>\n",
       "      <th id=\"T_53686_level0_col0\" class=\"col_heading level0 col0\" >users_cnt</th>\n",
       "      <th id=\"T_53686_level0_col1\" class=\"col_heading level0 col1\" >CR</th>\n",
       "      <th id=\"T_53686_level0_col2\" class=\"col_heading level0 col2\" >CR_step</th>\n",
       "      <th id=\"T_53686_level0_col3\" class=\"col_heading level0 col3\" >loss</th>\n",
       "      <th id=\"T_53686_level0_col4\" class=\"col_heading level0 col4\" >loss_step</th>\n",
       "      <th id=\"T_53686_level0_col5\" class=\"col_heading level0 col5\" >loss_percent_CR</th>\n",
       "      <th id=\"T_53686_level0_col6\" class=\"col_heading level0 col6\" >loss_percent_CR_step</th>\n",
       "    </tr>\n",
       "    <tr>\n",
       "      <th class=\"index_name level0\" >event_name</th>\n",
       "      <th class=\"blank col0\" >&nbsp;</th>\n",
       "      <th class=\"blank col1\" >&nbsp;</th>\n",
       "      <th class=\"blank col2\" >&nbsp;</th>\n",
       "      <th class=\"blank col3\" >&nbsp;</th>\n",
       "      <th class=\"blank col4\" >&nbsp;</th>\n",
       "      <th class=\"blank col5\" >&nbsp;</th>\n",
       "      <th class=\"blank col6\" >&nbsp;</th>\n",
       "    </tr>\n",
       "  </thead>\n",
       "  <tbody>\n",
       "    <tr>\n",
       "      <th id=\"T_53686_level0_row0\" class=\"row_heading level0 row0\" >MainScreenAppear</th>\n",
       "      <td id=\"T_53686_row0_col0\" class=\"data row0 col0\" >7419</td>\n",
       "      <td id=\"T_53686_row0_col1\" class=\"data row0 col1\" >100.0%</td>\n",
       "      <td id=\"T_53686_row0_col2\" class=\"data row0 col2\" >100.0%</td>\n",
       "      <td id=\"T_53686_row0_col3\" class=\"data row0 col3\" >0</td>\n",
       "      <td id=\"T_53686_row0_col4\" class=\"data row0 col4\" >nan</td>\n",
       "      <td id=\"T_53686_row0_col5\" class=\"data row0 col5\" >0.0%</td>\n",
       "      <td id=\"T_53686_row0_col6\" class=\"data row0 col6\" >0.0%</td>\n",
       "    </tr>\n",
       "    <tr>\n",
       "      <th id=\"T_53686_level0_row1\" class=\"row_heading level0 row1\" >OffersScreenAppear</th>\n",
       "      <td id=\"T_53686_row1_col0\" class=\"data row1 col0\" >4593</td>\n",
       "      <td id=\"T_53686_row1_col1\" class=\"data row1 col1\" >61.9%</td>\n",
       "      <td id=\"T_53686_row1_col2\" class=\"data row1 col2\" >61.9%</td>\n",
       "      <td id=\"T_53686_row1_col3\" class=\"data row1 col3\" >2826</td>\n",
       "      <td id=\"T_53686_row1_col4\" class=\"data row1 col4\" >2826</td>\n",
       "      <td id=\"T_53686_row1_col5\" class=\"data row1 col5\" >38.1%</td>\n",
       "      <td id=\"T_53686_row1_col6\" class=\"data row1 col6\" >38.1%</td>\n",
       "    </tr>\n",
       "    <tr>\n",
       "      <th id=\"T_53686_level0_row2\" class=\"row_heading level0 row2\" >CartScreenAppear</th>\n",
       "      <td id=\"T_53686_row2_col0\" class=\"data row2 col0\" >3734</td>\n",
       "      <td id=\"T_53686_row2_col1\" class=\"data row2 col1\" >50.3%</td>\n",
       "      <td id=\"T_53686_row2_col2\" class=\"data row2 col2\" >81.3%</td>\n",
       "      <td id=\"T_53686_row2_col3\" class=\"data row2 col3\" >3685</td>\n",
       "      <td id=\"T_53686_row2_col4\" class=\"data row2 col4\" >859</td>\n",
       "      <td id=\"T_53686_row2_col5\" class=\"data row2 col5\" >49.7%</td>\n",
       "      <td id=\"T_53686_row2_col6\" class=\"data row2 col6\" >18.7%</td>\n",
       "    </tr>\n",
       "    <tr>\n",
       "      <th id=\"T_53686_level0_row3\" class=\"row_heading level0 row3\" >PaymentScreenSuccessful</th>\n",
       "      <td id=\"T_53686_row3_col0\" class=\"data row3 col0\" >3539</td>\n",
       "      <td id=\"T_53686_row3_col1\" class=\"data row3 col1\" >47.7%</td>\n",
       "      <td id=\"T_53686_row3_col2\" class=\"data row3 col2\" >94.8%</td>\n",
       "      <td id=\"T_53686_row3_col3\" class=\"data row3 col3\" >3880</td>\n",
       "      <td id=\"T_53686_row3_col4\" class=\"data row3 col4\" >195</td>\n",
       "      <td id=\"T_53686_row3_col5\" class=\"data row3 col5\" >52.3%</td>\n",
       "      <td id=\"T_53686_row3_col6\" class=\"data row3 col6\" >5.2%</td>\n",
       "    </tr>\n",
       "  </tbody>\n",
       "</table>\n"
      ],
      "text/plain": [
       "<pandas.io.formats.style.Styler at 0x188eed94610>"
      ]
     },
     "execution_count": 63,
     "metadata": {},
     "output_type": "execute_result"
    }
   ],
   "source": [
    "# Добавляем столбцы потерь и процентных потерь\n",
    "user_funnel['loss'] = user_funnel['users_cnt'].iloc[0] - user_funnel['users_cnt']\n",
    "user_funnel['loss_step'] = user_funnel['users_cnt'].shift(1) - user_funnel['users_cnt']\n",
    "\n",
    "user_funnel['loss_percent_CR'] = user_funnel['loss'] / user_funnel['users_cnt'].iloc[0]\n",
    "user_funnel['loss_percent_CR_step'] = user_funnel['loss_step'] / user_funnel['users_cnt'].shift(1)\n",
    "user_funnel['loss_percent_CR_step'].fillna(0, inplace=True)\n",
    "\n",
    "# Форматируем значения\n",
    "user_funnel_format = user_funnel.style.format({\n",
    "    'CR': '{:.1%}',\n",
    "    'CR_step': '{:.1%}',\n",
    "    'loss': '{:.0f}',\n",
    "    'loss_step': '{:.0f}',\n",
    "    'loss_percent_CR': '{:.1%}',\n",
    "    'loss_percent_CR_step': '{:.1%}'\n",
    "})\n",
    "\n",
    "user_funnel_format"
   ]
  },
  {
   "cell_type": "markdown",
   "metadata": {},
   "source": [
    "Почти 38% пользователей теряются на первом шаге, т.е. не идут дальше главной страницы приложения."
   ]
  },
  {
   "cell_type": "markdown",
   "metadata": {},
   "source": [
    "### Какая доля пользователей доходит от первого события до оплаты?"
   ]
  },
  {
   "cell_type": "markdown",
   "metadata": {},
   "source": [
    "47.7% всех пользователей доходят до оплаты товара. (п.4.2) \n",
    "Если пользователь перешел к просмотру карточки товара, то 81.3% из них переходят на этап корзины и 94.8% переходят от корзины к оплате товара. "
   ]
  },
  {
   "cell_type": "markdown",
   "metadata": {},
   "source": [
    "**Вывод:** ***Всего в логах 5 типов событий, из которых почти половина - просмотр главной страницы. \n",
    "Не все пользователи открывали главный экран приложения. 1.5% сразу перешли к другим этапам по прямым ссылкам. Возможность прямого перехода есть для каждой страницы.\n",
    "Просмотр инструкции Tutorial составляет всего 0.4% всех событий. Инструкцию открывали 11.1% пользователей, причем этот этап не является частью воронки событий, т.к. на него переходят не последовательно, а с любого этапа. Его можно не учитывать.    \n",
    "Воронка событий состоит из четырех этапов: главный экран, предложение товаров, корзина, оплата товара.  \n",
    "Больше всего пользователей теряются на первом шаге. Значительная часть пользователей, которые перешли к просмотру карточки товара, переходят на этап корзины и к оплате.   \n",
    "Стоит доработать страницу главного экрана.***  "
   ]
  },
  {
   "cell_type": "markdown",
   "metadata": {},
   "source": [
    "## Изучение результатов эксперимента"
   ]
  },
  {
   "cell_type": "markdown",
   "metadata": {},
   "source": [
    "### Оценка количества пользователей в каждой экспериментальной группе"
   ]
  },
  {
   "cell_type": "code",
   "execution_count": 70,
   "metadata": {},
   "outputs": [
    {
     "data": {
      "text/html": [
       "<div>\n",
       "<style scoped>\n",
       "    .dataframe tbody tr th:only-of-type {\n",
       "        vertical-align: middle;\n",
       "    }\n",
       "\n",
       "    .dataframe tbody tr th {\n",
       "        vertical-align: top;\n",
       "    }\n",
       "\n",
       "    .dataframe thead th {\n",
       "        text-align: right;\n",
       "    }\n",
       "</style>\n",
       "<table border=\"1\" class=\"dataframe\">\n",
       "  <thead>\n",
       "    <tr style=\"text-align: right;\">\n",
       "      <th></th>\n",
       "      <th>group</th>\n",
       "      <th>user_cnt</th>\n",
       "      <th>user_percent</th>\n",
       "    </tr>\n",
       "  </thead>\n",
       "  <tbody>\n",
       "    <tr>\n",
       "      <th>0</th>\n",
       "      <td>A246</td>\n",
       "      <td>2484</td>\n",
       "      <td>33.0</td>\n",
       "    </tr>\n",
       "    <tr>\n",
       "      <th>1</th>\n",
       "      <td>A247</td>\n",
       "      <td>2513</td>\n",
       "      <td>33.4</td>\n",
       "    </tr>\n",
       "    <tr>\n",
       "      <th>2</th>\n",
       "      <td>B248</td>\n",
       "      <td>2537</td>\n",
       "      <td>33.7</td>\n",
       "    </tr>\n",
       "  </tbody>\n",
       "</table>\n",
       "</div>"
      ],
      "text/plain": [
       "  group  user_cnt  user_percent\n",
       "0  A246      2484          33.0\n",
       "1  A247      2513          33.4\n",
       "2  B248      2537          33.7"
      ]
     },
     "execution_count": 70,
     "metadata": {},
     "output_type": "execute_result"
    }
   ],
   "source": [
    "user_group = logs_aug.groupby('group').agg({'user_id': 'nunique'})\\\n",
    "    .rename(columns={'user_id': 'user_cnt'}).reset_index()\n",
    "user_group['user_percent'] = round(user_group['user_cnt'] / users_aug * 100, 1)\n",
    "user_group"
   ]
  },
  {
   "cell_type": "markdown",
   "metadata": {},
   "source": [
    "В обновленном датасете распределение пользователей по группам почти равномерное, отличие не более, чем на 1%.   \n",
    "\n",
    "Проверим, есть ли пользователи, оказавшиеся одновременно в двух группах."
   ]
  },
  {
   "cell_type": "code",
   "execution_count": 72,
   "metadata": {},
   "outputs": [],
   "source": [
    "# Разделим данные таблицы logs_aug на группы, оставим события, входящие в воронку событий\n",
    "logs_aug_A246 = logs_aug[(logs_aug['group'] == 'A246') & (logs_aug['event_name'] != 'Tutorial')]\n",
    "logs_aug_A247 = logs_aug[(logs_aug['group'] == 'A247') & (logs_aug['event_name'] != 'Tutorial')]\n",
    "logs_aug_B248 = logs_aug[(logs_aug['group'] == 'B248') & (logs_aug['event_name'] != 'Tutorial')]"
   ]
  },
  {
   "cell_type": "code",
   "execution_count": 73,
   "metadata": {},
   "outputs": [
    {
     "name": "stdout",
     "output_type": "stream",
     "text": [
      "Количество пользователей, попавших в обе группы A246 и A247: 0\n",
      "Количество пользователей, попавших в обе группы A246 и B248: 0\n",
      "Количество пользователей, попавших в обе группы A247 и B248: 0\n"
     ]
    }
   ],
   "source": [
    "# Выбираем пользователей, попавших в обе группы попарно\n",
    "print('Количество пользователей, попавших в обе группы A246 и A247:', \n",
    "      pd.merge(logs_aug_A246, logs_aug_A247, on='user_id', how='inner')['user_id'].unique().shape[0]) \n",
    "print('Количество пользователей, попавших в обе группы A246 и B248:', \n",
    "      pd.merge(logs_aug_A246, logs_aug_B248, on='user_id', how='inner')['user_id'].unique().shape[0])\n",
    "print('Количество пользователей, попавших в обе группы A247 и B248:', \n",
    "      pd.merge(logs_aug_A247, logs_aug_B248, on='user_id', how='inner')['user_id'].unique().shape[0])"
   ]
  },
  {
   "cell_type": "markdown",
   "metadata": {},
   "source": [
    "***В рассматирваемом датасете есть пользователи из всех трех экспериментальных групп, распределение по группам равномерное, пересечений нет.***"
   ]
  },
  {
   "cell_type": "markdown",
   "metadata": {},
   "source": [
    "### Подтверждение корректности всех механизмов и расчётов эксперимента (проверка, находят ли статистические критерии разницу между выборками 246 и 247)"
   ]
  },
  {
   "cell_type": "markdown",
   "metadata": {},
   "source": [
    "*Есть 2 контрольные группы для А/А-эксперимента, чтобы проверить корректность всех механизмов и расчётов. Проверим, находят ли статистические критерии разницу между выборками 246 и 247.*"
   ]
  },
  {
   "cell_type": "markdown",
   "metadata": {},
   "source": [
    "**Критерии успешного A/A-теста:**\n",
    "- Количество пользователей в группах различается не более чем на 1% - ***выполнено***, отличие на 0,4%\n",
    "- Для всех групп фиксируются и отправляются в системы аналитики одни и те же показатели - ***выполнено***\n",
    "- Различие ключевых метрик по группам не превышает 1% и не имеет статистической значимости - ***требует проверки***\n",
    "- Попавший в одну из групп посетитель остаётся в ней до конца теста - ***выполнено*** в п.5.1., пересечений групп нет\n",
    "\n",
    "Примем уровень статистической значимости 5%"
   ]
  },
  {
   "cell_type": "code",
   "execution_count": 78,
   "metadata": {},
   "outputs": [
    {
     "data": {
      "text/html": [
       "<div>\n",
       "<style scoped>\n",
       "    .dataframe tbody tr th:only-of-type {\n",
       "        vertical-align: middle;\n",
       "    }\n",
       "\n",
       "    .dataframe tbody tr th {\n",
       "        vertical-align: top;\n",
       "    }\n",
       "\n",
       "    .dataframe thead th {\n",
       "        text-align: right;\n",
       "    }\n",
       "</style>\n",
       "<table border=\"1\" class=\"dataframe\">\n",
       "  <thead>\n",
       "    <tr style=\"text-align: right;\">\n",
       "      <th>group</th>\n",
       "      <th>event_name</th>\n",
       "      <th>A246</th>\n",
       "      <th>A247</th>\n",
       "      <th>B248</th>\n",
       "      <th>total</th>\n",
       "    </tr>\n",
       "  </thead>\n",
       "  <tbody>\n",
       "    <tr>\n",
       "      <th>0</th>\n",
       "      <td>MainScreenAppear</td>\n",
       "      <td>2450</td>\n",
       "      <td>2476</td>\n",
       "      <td>2493</td>\n",
       "      <td>7419</td>\n",
       "    </tr>\n",
       "    <tr>\n",
       "      <th>1</th>\n",
       "      <td>OffersScreenAppear</td>\n",
       "      <td>1542</td>\n",
       "      <td>1520</td>\n",
       "      <td>1531</td>\n",
       "      <td>4593</td>\n",
       "    </tr>\n",
       "    <tr>\n",
       "      <th>2</th>\n",
       "      <td>CartScreenAppear</td>\n",
       "      <td>1266</td>\n",
       "      <td>1238</td>\n",
       "      <td>1230</td>\n",
       "      <td>3734</td>\n",
       "    </tr>\n",
       "    <tr>\n",
       "      <th>3</th>\n",
       "      <td>PaymentScreenSuccessful</td>\n",
       "      <td>1200</td>\n",
       "      <td>1158</td>\n",
       "      <td>1181</td>\n",
       "      <td>3539</td>\n",
       "    </tr>\n",
       "  </tbody>\n",
       "</table>\n",
       "</div>"
      ],
      "text/plain": [
       "group               event_name  A246  A247  B248  total\n",
       "0             MainScreenAppear  2450  2476  2493   7419\n",
       "1           OffersScreenAppear  1542  1520  1531   4593\n",
       "2             CartScreenAppear  1266  1238  1230   3734\n",
       "3      PaymentScreenSuccessful  1200  1158  1181   3539"
      ]
     },
     "execution_count": 78,
     "metadata": {},
     "output_type": "execute_result"
    }
   ],
   "source": [
    "# воронка событий по группам\n",
    "funnel = (logs_aug.pivot_table(index = 'event_name', columns='group', values='user_id', aggfunc='nunique')\n",
    "          .query('event_name != \"Tutorial\"')\n",
    "          .reset_index())\n",
    "# добавляем столбец с общим количеством пользователей\n",
    "funnel['total'] = funnel['A246']+funnel['A247']+funnel['B248']\n",
    "funnel = funnel.sort_values('total', ascending=False)\n",
    "funnel = funnel.reset_index(drop=True) \n",
    "funnel "
   ]
  },
  {
   "cell_type": "markdown",
   "metadata": {},
   "source": [
    "Для каждого типа событий сравним процент уникальных пользователей на каждом этапе от общего количества пользователей по группам "
   ]
  },
  {
   "cell_type": "code",
   "execution_count": 80,
   "metadata": {},
   "outputs": [
    {
     "data": {
      "text/html": [
       "<div>\n",
       "<style scoped>\n",
       "    .dataframe tbody tr th:only-of-type {\n",
       "        vertical-align: middle;\n",
       "    }\n",
       "\n",
       "    .dataframe tbody tr th {\n",
       "        vertical-align: top;\n",
       "    }\n",
       "\n",
       "    .dataframe thead th {\n",
       "        text-align: right;\n",
       "    }\n",
       "</style>\n",
       "<table border=\"1\" class=\"dataframe\">\n",
       "  <thead>\n",
       "    <tr style=\"text-align: right;\">\n",
       "      <th></th>\n",
       "      <th>0</th>\n",
       "      <th>1</th>\n",
       "      <th>2</th>\n",
       "      <th>3</th>\n",
       "    </tr>\n",
       "    <tr>\n",
       "      <th>group</th>\n",
       "      <th></th>\n",
       "      <th></th>\n",
       "      <th></th>\n",
       "      <th></th>\n",
       "    </tr>\n",
       "  </thead>\n",
       "  <tbody>\n",
       "    <tr>\n",
       "      <th>event_name</th>\n",
       "      <td>MainScreenAppear</td>\n",
       "      <td>OffersScreenAppear</td>\n",
       "      <td>CartScreenAppear</td>\n",
       "      <td>PaymentScreenSuccessful</td>\n",
       "    </tr>\n",
       "    <tr>\n",
       "      <th>A246</th>\n",
       "      <td>2450</td>\n",
       "      <td>1542</td>\n",
       "      <td>1266</td>\n",
       "      <td>1200</td>\n",
       "    </tr>\n",
       "    <tr>\n",
       "      <th>A247</th>\n",
       "      <td>2476</td>\n",
       "      <td>1520</td>\n",
       "      <td>1238</td>\n",
       "      <td>1158</td>\n",
       "    </tr>\n",
       "    <tr>\n",
       "      <th>B248</th>\n",
       "      <td>2493</td>\n",
       "      <td>1531</td>\n",
       "      <td>1230</td>\n",
       "      <td>1181</td>\n",
       "    </tr>\n",
       "    <tr>\n",
       "      <th>total</th>\n",
       "      <td>7419</td>\n",
       "      <td>4593</td>\n",
       "      <td>3734</td>\n",
       "      <td>3539</td>\n",
       "    </tr>\n",
       "    <tr>\n",
       "      <th>total_percent_A246</th>\n",
       "      <td>98.6</td>\n",
       "      <td>62.1</td>\n",
       "      <td>51.0</td>\n",
       "      <td>48.3</td>\n",
       "    </tr>\n",
       "    <tr>\n",
       "      <th>total_percent_A247</th>\n",
       "      <td>98.5</td>\n",
       "      <td>60.5</td>\n",
       "      <td>49.3</td>\n",
       "      <td>46.1</td>\n",
       "    </tr>\n",
       "    <tr>\n",
       "      <th>total_percent_B248</th>\n",
       "      <td>98.3</td>\n",
       "      <td>60.3</td>\n",
       "      <td>48.5</td>\n",
       "      <td>46.6</td>\n",
       "    </tr>\n",
       "    <tr>\n",
       "      <th>difference AA</th>\n",
       "      <td>0.1</td>\n",
       "      <td>1.6</td>\n",
       "      <td>1.7</td>\n",
       "      <td>2.2</td>\n",
       "    </tr>\n",
       "  </tbody>\n",
       "</table>\n",
       "</div>"
      ],
      "text/plain": [
       "                                   0                   1                 2  \\\n",
       "group                                                                        \n",
       "event_name          MainScreenAppear  OffersScreenAppear  CartScreenAppear   \n",
       "A246                            2450                1542              1266   \n",
       "A247                            2476                1520              1238   \n",
       "B248                            2493                1531              1230   \n",
       "total                           7419                4593              3734   \n",
       "total_percent_A246              98.6                62.1              51.0   \n",
       "total_percent_A247              98.5                60.5              49.3   \n",
       "total_percent_B248              98.3                60.3              48.5   \n",
       "difference AA                    0.1                 1.6               1.7   \n",
       "\n",
       "                                          3  \n",
       "group                                        \n",
       "event_name          PaymentScreenSuccessful  \n",
       "A246                                   1200  \n",
       "A247                                   1158  \n",
       "B248                                   1181  \n",
       "total                                  3539  \n",
       "total_percent_A246                     48.3  \n",
       "total_percent_A247                     46.1  \n",
       "total_percent_B248                     46.6  \n",
       "difference AA                           2.2  "
      ]
     },
     "execution_count": 80,
     "metadata": {},
     "output_type": "execute_result"
    }
   ],
   "source": [
    "funnel_total = funnel.copy()\n",
    "# добавляем столбцы с процентом уникальных пользователей от общего количества пользователей по группам\n",
    "funnel_total['total_percent_A246'] = round(funnel_total['A246'] / user_group.loc[0,'user_cnt'] * 100, 1)\n",
    "funnel_total['total_percent_A247'] = round(funnel_total['A247'] / user_group.loc[1,'user_cnt'] * 100, 1)\n",
    "funnel_total['total_percent_B248'] = round(funnel_total['B248'] / user_group.loc[2,'user_cnt'] * 100, 1)\n",
    "\n",
    "# Добавляем столбец difference с разницей в долях для групп А\n",
    "funnel_total['difference AA'] = funnel_total['total_percent_A246'] - funnel_total['total_percent_A247']\n",
    "\n",
    "funnel_total.T"
   ]
  },
  {
   "cell_type": "markdown",
   "metadata": {},
   "source": [
    "Разница в доляx пользователей от общего количества пользователей по группам А246 и А247 не превышает 1% только для главного экрана. Для остальных этапов разница от 1.6% до 2.2%, приемлимая при уровне статистической значимости 5%."
   ]
  },
  {
   "cell_type": "markdown",
   "metadata": {},
   "source": [
    "Посчитаем конверсию `CR` и конверсию в шаг `CR_step` для выборок А246 и А247."
   ]
  },
  {
   "cell_type": "code",
   "execution_count": 83,
   "metadata": {},
   "outputs": [
    {
     "data": {
      "text/html": [
       "<div>\n",
       "<style scoped>\n",
       "    .dataframe tbody tr th:only-of-type {\n",
       "        vertical-align: middle;\n",
       "    }\n",
       "\n",
       "    .dataframe tbody tr th {\n",
       "        vertical-align: top;\n",
       "    }\n",
       "\n",
       "    .dataframe thead th {\n",
       "        text-align: right;\n",
       "    }\n",
       "</style>\n",
       "<table border=\"1\" class=\"dataframe\">\n",
       "  <thead>\n",
       "    <tr style=\"text-align: right;\">\n",
       "      <th></th>\n",
       "      <th>0</th>\n",
       "      <th>1</th>\n",
       "      <th>2</th>\n",
       "      <th>3</th>\n",
       "    </tr>\n",
       "    <tr>\n",
       "      <th>group</th>\n",
       "      <th></th>\n",
       "      <th></th>\n",
       "      <th></th>\n",
       "      <th></th>\n",
       "    </tr>\n",
       "  </thead>\n",
       "  <tbody>\n",
       "    <tr>\n",
       "      <th>event_name</th>\n",
       "      <td>MainScreenAppear</td>\n",
       "      <td>OffersScreenAppear</td>\n",
       "      <td>CartScreenAppear</td>\n",
       "      <td>PaymentScreenSuccessful</td>\n",
       "    </tr>\n",
       "    <tr>\n",
       "      <th>CR_A246</th>\n",
       "      <td>100.0</td>\n",
       "      <td>62.9</td>\n",
       "      <td>51.7</td>\n",
       "      <td>49.0</td>\n",
       "    </tr>\n",
       "    <tr>\n",
       "      <th>CR_A247</th>\n",
       "      <td>100.0</td>\n",
       "      <td>61.4</td>\n",
       "      <td>50.0</td>\n",
       "      <td>46.8</td>\n",
       "    </tr>\n",
       "    <tr>\n",
       "      <th>CR_B248</th>\n",
       "      <td>100.0</td>\n",
       "      <td>61.4</td>\n",
       "      <td>49.3</td>\n",
       "      <td>47.4</td>\n",
       "    </tr>\n",
       "    <tr>\n",
       "      <th>CR_step_A246</th>\n",
       "      <td>100.0</td>\n",
       "      <td>62.9</td>\n",
       "      <td>82.1</td>\n",
       "      <td>94.8</td>\n",
       "    </tr>\n",
       "    <tr>\n",
       "      <th>CR_step_A247</th>\n",
       "      <td>100.0</td>\n",
       "      <td>61.4</td>\n",
       "      <td>81.4</td>\n",
       "      <td>93.5</td>\n",
       "    </tr>\n",
       "    <tr>\n",
       "      <th>CR_step_B248</th>\n",
       "      <td>100.0</td>\n",
       "      <td>61.4</td>\n",
       "      <td>80.3</td>\n",
       "      <td>96.0</td>\n",
       "    </tr>\n",
       "    <tr>\n",
       "      <th>СR_dif_AA</th>\n",
       "      <td>0.0</td>\n",
       "      <td>1.5</td>\n",
       "      <td>1.7</td>\n",
       "      <td>2.2</td>\n",
       "    </tr>\n",
       "    <tr>\n",
       "      <th>СR_step_dif_AA</th>\n",
       "      <td>0.0</td>\n",
       "      <td>1.5</td>\n",
       "      <td>0.7</td>\n",
       "      <td>1.3</td>\n",
       "    </tr>\n",
       "  </tbody>\n",
       "</table>\n",
       "</div>"
      ],
      "text/plain": [
       "                               0                   1                 2  \\\n",
       "group                                                                    \n",
       "event_name      MainScreenAppear  OffersScreenAppear  CartScreenAppear   \n",
       "CR_A246                    100.0                62.9              51.7   \n",
       "CR_A247                    100.0                61.4              50.0   \n",
       "CR_B248                    100.0                61.4              49.3   \n",
       "CR_step_A246               100.0                62.9              82.1   \n",
       "CR_step_A247               100.0                61.4              81.4   \n",
       "CR_step_B248               100.0                61.4              80.3   \n",
       "СR_dif_AA                    0.0                 1.5               1.7   \n",
       "СR_step_dif_AA               0.0                 1.5               0.7   \n",
       "\n",
       "                                      3  \n",
       "group                                    \n",
       "event_name      PaymentScreenSuccessful  \n",
       "CR_A246                            49.0  \n",
       "CR_A247                            46.8  \n",
       "CR_B248                            47.4  \n",
       "CR_step_A246                       94.8  \n",
       "CR_step_A247                       93.5  \n",
       "CR_step_B248                       96.0  \n",
       "СR_dif_AA                           2.2  \n",
       "СR_step_dif_AA                      1.3  "
      ]
     },
     "execution_count": 83,
     "metadata": {},
     "output_type": "execute_result"
    }
   ],
   "source": [
    "# Уберем из funnel столбцы с процентами\n",
    "funnel_cr = funnel.copy()\n",
    "\n",
    "# Добавляем столбцы CR (в процентах) для групп\n",
    "funnel_cr['CR_A246'] = round(funnel_cr['A246'] / funnel_cr['A246'].iloc[0] * 100, 1)\n",
    "funnel_cr['CR_A247'] = round(funnel_cr['A247'] / funnel_cr['A247'].iloc[0] * 100, 1)\n",
    "funnel_cr['CR_B248'] = round(funnel_cr['B248'] / funnel_cr['B248'].iloc[0] * 100, 1)\n",
    "\n",
    "# Добавляем столбец CR_step (в процентах)\n",
    "funnel_cr['CR_step_A246'] = round(funnel_cr['A246'] / funnel_cr['A246'].shift(1) * 100, 1)\n",
    "funnel_cr['CR_step_A247'] = round(funnel_cr['A247'] / funnel_cr['A247'].shift(1) * 100, 1)\n",
    "funnel_cr['CR_step_B248'] = round(funnel_cr['B248'] / funnel_cr['B248'].shift(1) * 100, 1)\n",
    "# Замена NaN,которые появляются из-за деления на пустое значение в первой строке\n",
    "funnel_cr['CR_step_A246'].fillna(100, inplace=True)\n",
    "funnel_cr['CR_step_A247'].fillna(100, inplace=True)\n",
    "funnel_cr['CR_step_B248'].fillna(100, inplace=True)\n",
    "\n",
    "# Добавляем столбцы СR_dif_AA и CR_step_dif_AA с разницей \n",
    "funnel_cr['СR_dif_AA'] = funnel_cr['CR_A246'] - funnel_cr['CR_A247']\n",
    "funnel_cr['СR_step_dif_AA'] = funnel_cr['CR_step_A246'] - funnel_cr['CR_step_A247']\n",
    "\n",
    "funnel_cr[['event_name','CR_A246', 'CR_A247', 'CR_B248', \n",
    "           'CR_step_A246', 'CR_step_A247', 'CR_step_B248', 'СR_dif_AA', 'СR_step_dif_AA']].T"
   ]
  },
  {
   "cell_type": "markdown",
   "metadata": {},
   "source": [
    "Различие конверсии по группам не превышает 1% только на первом шаге - просмотр главного экрана. На остальных этапах различие конверсии в пределах 2.2%, приемлимое при уровне статистической значимости 5%.  \n",
    "\n",
    "Различие конверсии в шаг по группам менее 1% на этапе главного экрана и корзины. На остальных этапах различие конверсии в шаг не превышает 1.5%, приемлимое при уровне статистической значимости 5%."
   ]
  },
  {
   "cell_type": "markdown",
   "metadata": {},
   "source": [
    "***Разбиение на контрольные группы не идеальное, но приемлимое. Можно считать, что различий между группами А246 и А247 нет.***"
   ]
  },
  {
   "cell_type": "markdown",
   "metadata": {},
   "source": [
    "### Проверка корректности разбиения на контрольные группы (проверка для каждого события, будет ли отличие между группами статистически достоверным)"
   ]
  },
  {
   "cell_type": "markdown",
   "metadata": {},
   "source": [
    "*Выберите самое популярное событие. Посчитайте число пользователей, совершивших это событие в каждой из контрольных групп. Посчитайте долю пользователей, совершивших это событие. Проверьте, будет ли отличие между группами статистически достоверным. Проделайте то же самое для всех других событий (удобно обернуть проверку в отдельную функцию). Можно ли сказать, что разбиение на группы работает корректно?*"
   ]
  },
  {
   "cell_type": "code",
   "execution_count": 88,
   "metadata": {},
   "outputs": [
    {
     "data": {
      "text/html": [
       "<div>\n",
       "<style scoped>\n",
       "    .dataframe tbody tr th:only-of-type {\n",
       "        vertical-align: middle;\n",
       "    }\n",
       "\n",
       "    .dataframe tbody tr th {\n",
       "        vertical-align: top;\n",
       "    }\n",
       "\n",
       "    .dataframe thead th {\n",
       "        text-align: right;\n",
       "    }\n",
       "</style>\n",
       "<table border=\"1\" class=\"dataframe\">\n",
       "  <thead>\n",
       "    <tr style=\"text-align: right;\">\n",
       "      <th>group</th>\n",
       "      <th>event_name</th>\n",
       "      <th>A246</th>\n",
       "      <th>A247</th>\n",
       "      <th>B248</th>\n",
       "      <th>total</th>\n",
       "      <th>total_percent_A246</th>\n",
       "      <th>total_percent_A247</th>\n",
       "      <th>total_percent_B248</th>\n",
       "      <th>difference AA</th>\n",
       "    </tr>\n",
       "  </thead>\n",
       "  <tbody>\n",
       "    <tr>\n",
       "      <th>0</th>\n",
       "      <td>MainScreenAppear</td>\n",
       "      <td>2450</td>\n",
       "      <td>2476</td>\n",
       "      <td>2493</td>\n",
       "      <td>7419</td>\n",
       "      <td>98.6</td>\n",
       "      <td>98.5</td>\n",
       "      <td>98.3</td>\n",
       "      <td>0.1</td>\n",
       "    </tr>\n",
       "  </tbody>\n",
       "</table>\n",
       "</div>"
      ],
      "text/plain": [
       "group        event_name  A246  A247  B248  total  total_percent_A246  \\\n",
       "0      MainScreenAppear  2450  2476  2493   7419                98.6   \n",
       "\n",
       "group  total_percent_A247  total_percent_B248  difference AA  \n",
       "0                    98.5                98.3            0.1  "
      ]
     },
     "execution_count": 88,
     "metadata": {},
     "output_type": "execute_result"
    }
   ],
   "source": [
    "funnel_total.head(1)"
   ]
  },
  {
   "cell_type": "markdown",
   "metadata": {},
   "source": [
    "Самое популярное событие `MainScreenAppear` - просмотр главного экрана. В группе А246 это событие совершили 2450 пользователей (98.7%), в группе А247 2476 пользователей (98.6%). Различие в долях 0.1%."
   ]
  },
  {
   "cell_type": "markdown",
   "metadata": {},
   "source": [
    "Для сравнения процентных метрик всегда ***используется Z-test*** для пропорций."
   ]
  },
  {
   "cell_type": "code",
   "execution_count": 91,
   "metadata": {},
   "outputs": [
    {
     "data": {
      "text/html": [
       "<div>\n",
       "<style scoped>\n",
       "    .dataframe tbody tr th:only-of-type {\n",
       "        vertical-align: middle;\n",
       "    }\n",
       "\n",
       "    .dataframe tbody tr th {\n",
       "        vertical-align: top;\n",
       "    }\n",
       "\n",
       "    .dataframe thead th {\n",
       "        text-align: right;\n",
       "    }\n",
       "</style>\n",
       "<table border=\"1\" class=\"dataframe\">\n",
       "  <thead>\n",
       "    <tr style=\"text-align: right;\">\n",
       "      <th>group</th>\n",
       "      <th>event_name</th>\n",
       "      <th>A246</th>\n",
       "      <th>A247</th>\n",
       "      <th>B248</th>\n",
       "      <th>total</th>\n",
       "    </tr>\n",
       "  </thead>\n",
       "  <tbody>\n",
       "    <tr>\n",
       "      <th>0</th>\n",
       "      <td>MainScreenAppear</td>\n",
       "      <td>2450</td>\n",
       "      <td>2476</td>\n",
       "      <td>2493</td>\n",
       "      <td>7419</td>\n",
       "    </tr>\n",
       "    <tr>\n",
       "      <th>1</th>\n",
       "      <td>OffersScreenAppear</td>\n",
       "      <td>1542</td>\n",
       "      <td>1520</td>\n",
       "      <td>1531</td>\n",
       "      <td>4593</td>\n",
       "    </tr>\n",
       "    <tr>\n",
       "      <th>2</th>\n",
       "      <td>CartScreenAppear</td>\n",
       "      <td>1266</td>\n",
       "      <td>1238</td>\n",
       "      <td>1230</td>\n",
       "      <td>3734</td>\n",
       "    </tr>\n",
       "    <tr>\n",
       "      <th>3</th>\n",
       "      <td>PaymentScreenSuccessful</td>\n",
       "      <td>1200</td>\n",
       "      <td>1158</td>\n",
       "      <td>1181</td>\n",
       "      <td>3539</td>\n",
       "    </tr>\n",
       "  </tbody>\n",
       "</table>\n",
       "</div>"
      ],
      "text/plain": [
       "group               event_name  A246  A247  B248  total\n",
       "0             MainScreenAppear  2450  2476  2493   7419\n",
       "1           OffersScreenAppear  1542  1520  1531   4593\n",
       "2             CartScreenAppear  1266  1238  1230   3734\n",
       "3      PaymentScreenSuccessful  1200  1158  1181   3539"
      ]
     },
     "metadata": {},
     "output_type": "display_data"
    },
    {
     "data": {
      "text/html": [
       "<div>\n",
       "<style scoped>\n",
       "    .dataframe tbody tr th:only-of-type {\n",
       "        vertical-align: middle;\n",
       "    }\n",
       "\n",
       "    .dataframe tbody tr th {\n",
       "        vertical-align: top;\n",
       "    }\n",
       "\n",
       "    .dataframe thead th {\n",
       "        text-align: right;\n",
       "    }\n",
       "</style>\n",
       "<table border=\"1\" class=\"dataframe\">\n",
       "  <thead>\n",
       "    <tr style=\"text-align: right;\">\n",
       "      <th></th>\n",
       "      <th>group</th>\n",
       "      <th>user_cnt</th>\n",
       "      <th>user_percent</th>\n",
       "    </tr>\n",
       "  </thead>\n",
       "  <tbody>\n",
       "    <tr>\n",
       "      <th>0</th>\n",
       "      <td>A246</td>\n",
       "      <td>2484</td>\n",
       "      <td>33.0</td>\n",
       "    </tr>\n",
       "    <tr>\n",
       "      <th>1</th>\n",
       "      <td>A247</td>\n",
       "      <td>2513</td>\n",
       "      <td>33.4</td>\n",
       "    </tr>\n",
       "    <tr>\n",
       "      <th>2</th>\n",
       "      <td>B248</td>\n",
       "      <td>2537</td>\n",
       "      <td>33.7</td>\n",
       "    </tr>\n",
       "  </tbody>\n",
       "</table>\n",
       "</div>"
      ],
      "text/plain": [
       "  group  user_cnt  user_percent\n",
       "0  A246      2484          33.0\n",
       "1  A247      2513          33.4\n",
       "2  B248      2537          33.7"
      ]
     },
     "metadata": {},
     "output_type": "display_data"
    }
   ],
   "source": [
    "display(funnel, user_group)"
   ]
  },
  {
   "cell_type": "markdown",
   "metadata": {},
   "source": [
    "**Сформулируем гипотезы:**\n",
    "- **Н0 - доли уникальных посетителей, побывавших на этапе воронки, одинаковы;**\n",
    "- **Н1 - между долями уникальных посетителей, побывавших на этапе воронки, есть значимая разница.**  \n",
    "\n",
    "**alpha = 0.05**"
   ]
  },
  {
   "cell_type": "code",
   "execution_count": 93,
   "metadata": {},
   "outputs": [],
   "source": [
    "# функция для проверки гипотезы о равенстве долей\n",
    "    # array - элемент массива событий (рассматриваемый этап воронки событий);\n",
    "    # trials - испытания (количество уникальных пользователей в рассматриваемой группе) \n",
    "    # column1 - группа 1\n",
    "    # column2 - группа 2 \n",
    "    # alpha - критический уровень статистической значимости      \n",
    "def z_test(array, trials, column1, column2, alpha):\n",
    "    \n",
    "    for i in funnel.index:\n",
    "        successes = np.array([array.loc[i, column1], array.loc[i, column2]])\n",
    "                \n",
    "        # пропорция успехов в первой группе:\n",
    "        p1 = successes[0]/trials[0]\n",
    "        \n",
    "        # пропорция успехов во второй группе:\n",
    "        p2 = successes[1]/trials[1]\n",
    "        \n",
    "        # пропорция успехов в комбинированном датасете:\n",
    "        p_combined = (successes[0] + successes[1]) / (trials[0] + trials[1])\n",
    "        \n",
    "        # разница пропорций в датасетах\n",
    "        difference = p1 - p2  \n",
    "        \n",
    "        # считаем статистику в ст.отклонениях стандартного нормального распределения\n",
    "        z_value = difference / mth.sqrt(p_combined * (1 - p_combined) * (1/trials[0] + 1/trials[1]))\n",
    "        \n",
    "        # задаем стандартное нормальное распределение (среднее 0, ст.отклонение 1)\n",
    "        distr = st.norm(0, 1)        \n",
    "        p_value = (1 - distr.cdf(abs(z_value))) * 2   \n",
    "                \n",
    "        print('{} p-значение: {}'.format(funnel['event_name'][i], p_value))\n",
    "        if p_value < alpha:\n",
    "            print('Отвергаем нулевую гипотезу: между долями есть значимая разница')\n",
    "        else:\n",
    "            print('Не получилось отвергнуть нулевую гипотезу, нет оснований считать доли разными')\n",
    "        print('--------')"
   ]
  },
  {
   "cell_type": "markdown",
   "metadata": {},
   "source": [
    "**А/А тест** для групп А246 и А247"
   ]
  },
  {
   "cell_type": "code",
   "execution_count": 95,
   "metadata": {},
   "outputs": [
    {
     "name": "stdout",
     "output_type": "stream",
     "text": [
      "MainScreenAppear p-значение: 0.7570597232046099\n",
      "Не получилось отвергнуть нулевую гипотезу, нет оснований считать доли разными\n",
      "--------\n",
      "OffersScreenAppear p-значение: 0.2480954578522181\n",
      "Не получилось отвергнуть нулевую гипотезу, нет оснований считать доли разными\n",
      "--------\n",
      "CartScreenAppear p-значение: 0.22883372237997213\n",
      "Не получилось отвергнуть нулевую гипотезу, нет оснований считать доли разными\n",
      "--------\n",
      "PaymentScreenSuccessful p-значение: 0.11456679313141849\n",
      "Не получилось отвергнуть нулевую гипотезу, нет оснований считать доли разными\n",
      "--------\n"
     ]
    }
   ],
   "source": [
    "trials = np.array([user_group.loc[0, 'user_cnt'], user_group.loc[1, 'user_cnt']])\n",
    "z_test(funnel, trials, 'A246', 'A247', 0.05) "
   ]
  },
  {
   "cell_type": "markdown",
   "metadata": {},
   "source": [
    "***Не получилось отвергнуть нулевую гипотезу для всех этапов воронки событий, нет оснований считать доли групп А246 и А247 разными. Разбиение на группы работает корректно.*** "
   ]
  },
  {
   "cell_type": "markdown",
   "metadata": {},
   "source": [
    "### Сравнение результатов тестовой группы с каждой из контрольных групп в отдельности по каждому событию, а также с объединённой контрольной группой. Выводы из эксперимента."
   ]
  },
  {
   "cell_type": "markdown",
   "metadata": {},
   "source": [
    "*Аналогично поступите с группой с изменённым шрифтом. Сравните результаты с каждой из контрольных групп в отдельности по каждому событию. Сравните результаты с объединённой контрольной группой. Какие выводы из эксперимента можно сделать?*"
   ]
  },
  {
   "cell_type": "markdown",
   "metadata": {},
   "source": [
    "**А/В тест** для групп А246 и В248"
   ]
  },
  {
   "cell_type": "code",
   "execution_count": 100,
   "metadata": {},
   "outputs": [
    {
     "name": "stdout",
     "output_type": "stream",
     "text": [
      "MainScreenAppear p-значение: 0.2949721933554552\n",
      "Не получилось отвергнуть нулевую гипотезу, нет оснований считать доли разными\n",
      "--------\n",
      "OffersScreenAppear p-значение: 0.20836205402738917\n",
      "Не получилось отвергнуть нулевую гипотезу, нет оснований считать доли разными\n",
      "--------\n",
      "CartScreenAppear p-значение: 0.07842923237520116\n",
      "Не получилось отвергнуть нулевую гипотезу, нет оснований считать доли разными\n",
      "--------\n",
      "PaymentScreenSuccessful p-значение: 0.2122553275697796\n",
      "Не получилось отвергнуть нулевую гипотезу, нет оснований считать доли разными\n",
      "--------\n"
     ]
    }
   ],
   "source": [
    "trials = np.array([user_group.loc[0, 'user_cnt'], user_group.loc[2, 'user_cnt']])\n",
    "z_test(funnel, trials, 'A246', 'B248', 0.05) "
   ]
  },
  {
   "cell_type": "markdown",
   "metadata": {},
   "source": [
    "***Нет оснований считать доли групп А246 и В248 разными.***"
   ]
  },
  {
   "cell_type": "markdown",
   "metadata": {},
   "source": [
    "**А/В тест** для групп А247 и В248"
   ]
  },
  {
   "cell_type": "code",
   "execution_count": 103,
   "metadata": {},
   "outputs": [
    {
     "name": "stdout",
     "output_type": "stream",
     "text": [
      "MainScreenAppear p-значение: 0.4587053616621515\n",
      "Не получилось отвергнуть нулевую гипотезу, нет оснований считать доли разными\n",
      "--------\n",
      "OffersScreenAppear p-значение: 0.9197817830592261\n",
      "Не получилось отвергнуть нулевую гипотезу, нет оснований считать доли разными\n",
      "--------\n",
      "CartScreenAppear p-значение: 0.5786197879539783\n",
      "Не получилось отвергнуть нулевую гипотезу, нет оснований считать доли разными\n",
      "--------\n",
      "PaymentScreenSuccessful p-значение: 0.7373415053803964\n",
      "Не получилось отвергнуть нулевую гипотезу, нет оснований считать доли разными\n",
      "--------\n"
     ]
    }
   ],
   "source": [
    "trials = np.array([user_group.loc[1, 'user_cnt'], user_group.loc[2, 'user_cnt']])\n",
    "z_test(funnel, trials, 'A247', 'B248', 0.05) "
   ]
  },
  {
   "cell_type": "markdown",
   "metadata": {},
   "source": [
    "***Нет оснований считать доли групп А247 и В248 разными.***"
   ]
  },
  {
   "cell_type": "markdown",
   "metadata": {},
   "source": [
    "**АА/В тест** для групп А246+А247 и В248"
   ]
  },
  {
   "cell_type": "code",
   "execution_count": 106,
   "metadata": {},
   "outputs": [
    {
     "data": {
      "text/html": [
       "<div>\n",
       "<style scoped>\n",
       "    .dataframe tbody tr th:only-of-type {\n",
       "        vertical-align: middle;\n",
       "    }\n",
       "\n",
       "    .dataframe tbody tr th {\n",
       "        vertical-align: top;\n",
       "    }\n",
       "\n",
       "    .dataframe thead th {\n",
       "        text-align: right;\n",
       "    }\n",
       "</style>\n",
       "<table border=\"1\" class=\"dataframe\">\n",
       "  <thead>\n",
       "    <tr style=\"text-align: right;\">\n",
       "      <th>group</th>\n",
       "      <th>event_name</th>\n",
       "      <th>A246+A247</th>\n",
       "      <th>B248</th>\n",
       "    </tr>\n",
       "  </thead>\n",
       "  <tbody>\n",
       "    <tr>\n",
       "      <th>0</th>\n",
       "      <td>MainScreenAppear</td>\n",
       "      <td>4926</td>\n",
       "      <td>2493</td>\n",
       "    </tr>\n",
       "    <tr>\n",
       "      <th>1</th>\n",
       "      <td>OffersScreenAppear</td>\n",
       "      <td>3062</td>\n",
       "      <td>1531</td>\n",
       "    </tr>\n",
       "    <tr>\n",
       "      <th>2</th>\n",
       "      <td>CartScreenAppear</td>\n",
       "      <td>2504</td>\n",
       "      <td>1230</td>\n",
       "    </tr>\n",
       "    <tr>\n",
       "      <th>3</th>\n",
       "      <td>PaymentScreenSuccessful</td>\n",
       "      <td>2358</td>\n",
       "      <td>1181</td>\n",
       "    </tr>\n",
       "  </tbody>\n",
       "</table>\n",
       "</div>"
      ],
      "text/plain": [
       "group               event_name  A246+A247  B248\n",
       "0             MainScreenAppear       4926  2493\n",
       "1           OffersScreenAppear       3062  1531\n",
       "2             CartScreenAppear       2504  1230\n",
       "3      PaymentScreenSuccessful       2358  1181"
      ]
     },
     "execution_count": 106,
     "metadata": {},
     "output_type": "execute_result"
    }
   ],
   "source": [
    "funnelAA = funnel.copy()\n",
    "funnelAA['A246+A247'] = funnel['A246'] + funnel['A247'] \n",
    "funnelAA[['event_name', 'A246+A247', 'B248']]"
   ]
  },
  {
   "cell_type": "code",
   "execution_count": 107,
   "metadata": {},
   "outputs": [
    {
     "data": {
      "text/html": [
       "<div>\n",
       "<style scoped>\n",
       "    .dataframe tbody tr th:only-of-type {\n",
       "        vertical-align: middle;\n",
       "    }\n",
       "\n",
       "    .dataframe tbody tr th {\n",
       "        vertical-align: top;\n",
       "    }\n",
       "\n",
       "    .dataframe thead th {\n",
       "        text-align: right;\n",
       "    }\n",
       "</style>\n",
       "<table border=\"1\" class=\"dataframe\">\n",
       "  <thead>\n",
       "    <tr style=\"text-align: right;\">\n",
       "      <th></th>\n",
       "      <th>group</th>\n",
       "      <th>user_cnt</th>\n",
       "    </tr>\n",
       "  </thead>\n",
       "  <tbody>\n",
       "    <tr>\n",
       "      <th>0</th>\n",
       "      <td>A246</td>\n",
       "      <td>2484</td>\n",
       "    </tr>\n",
       "    <tr>\n",
       "      <th>1</th>\n",
       "      <td>A247</td>\n",
       "      <td>2513</td>\n",
       "    </tr>\n",
       "    <tr>\n",
       "      <th>2</th>\n",
       "      <td>B248</td>\n",
       "      <td>2537</td>\n",
       "    </tr>\n",
       "    <tr>\n",
       "      <th>3</th>\n",
       "      <td>A246+A247</td>\n",
       "      <td>4997</td>\n",
       "    </tr>\n",
       "  </tbody>\n",
       "</table>\n",
       "</div>"
      ],
      "text/plain": [
       "       group  user_cnt\n",
       "0       A246      2484\n",
       "1       A247      2513\n",
       "2       B248      2537\n",
       "3  A246+A247      4997"
      ]
     },
     "execution_count": 107,
     "metadata": {},
     "output_type": "execute_result"
    }
   ],
   "source": [
    "# Копия таблицы user_group без последнего столбца\n",
    "user_groupAA = user_group[['group', 'user_cnt']].copy()\n",
    "\n",
    "# Создаем новую строку в виде DataFrame\n",
    "sum_AA = pd.DataFrame(\n",
    "    {'group': ['A246+A247'], \n",
    "     'user_cnt': [user_groupAA.loc[0, 'user_cnt'] + user_groupAA.loc[1, 'user_cnt']]})\n",
    "\n",
    "# Добавляем новую строку к таблице с помощью concat\n",
    "user_groupAA = pd.concat([user_groupAA, sum_AA], ignore_index=True)\n",
    "user_groupAA"
   ]
  },
  {
   "cell_type": "code",
   "execution_count": 108,
   "metadata": {},
   "outputs": [
    {
     "name": "stdout",
     "output_type": "stream",
     "text": [
      "MainScreenAppear p-значение: 0.29424526837179577\n",
      "Не получилось отвергнуть нулевую гипотезу, нет оснований считать доли разными\n",
      "--------\n",
      "OffersScreenAppear p-значение: 0.43425549655188256\n",
      "Не получилось отвергнуть нулевую гипотезу, нет оснований считать доли разными\n",
      "--------\n",
      "CartScreenAppear p-значение: 0.18175875284404386\n",
      "Не получилось отвергнуть нулевую гипотезу, нет оснований считать доли разными\n",
      "--------\n",
      "PaymentScreenSuccessful p-значение: 0.6004294282308704\n",
      "Не получилось отвергнуть нулевую гипотезу, нет оснований считать доли разными\n",
      "--------\n"
     ]
    }
   ],
   "source": [
    "trials = np.array([user_groupAA.loc[3, 'user_cnt'], user_group.loc[2, 'user_cnt']])\n",
    "z_test(funnelAA, trials, 'A246+A247', 'B248', 0.05) "
   ]
  },
  {
   "cell_type": "markdown",
   "metadata": {},
   "source": [
    "***Нет оснований считать доли групп А246+A247 и В248 разными.***"
   ]
  },
  {
   "cell_type": "markdown",
   "metadata": {},
   "source": [
    "**Вывод:**  \n",
    "***По результатам проведенных статистических тестов нельзя сделать вывод о том, какой шрифт лучше, т.к. нет оснований считать разными доли пользователей на каждом этапе воронки событий в каждой тестируемой группе.***"
   ]
  },
  {
   "cell_type": "markdown",
   "metadata": {},
   "source": [
    "### Оценка выбранного уровня статической значимости"
   ]
  },
  {
   "cell_type": "markdown",
   "metadata": {},
   "source": [
    "*Какой уровень значимости вы выбрали при проверке статистических гипотез выше? Посчитайте, сколько проверок статистических гипотез вы сделали. При уровне значимости 0.1 в 10% случаев можно ошибочно отклонить нулевую гипотезу при условии, что она верна. Какой уровень значимости стоит применить? Если вы хотите изменить его, проделайте предыдущие пункты и проверьте свои выводы.*"
   ]
  },
  {
   "cell_type": "markdown",
   "metadata": {},
   "source": [
    "При проверке статистических гипотез был выбран уровень значимости 0.05 (5%)  \n",
    "Было проведено всего 16 проверок статистических гипотез: 4 А/А теста и 12 А/В тестов.  \n",
    "\n",
    "Требуется коррекция уровня значимости α.   \n",
    "Применим поправку Бонферрони для расчета скорректированного уровня значимости и FWER (вероятности совершить хотя бы одну ошибку при проверке гипотез)."
   ]
  },
  {
   "cell_type": "code",
   "execution_count": 115,
   "metadata": {},
   "outputs": [
    {
     "name": "stdout",
     "output_type": "stream",
     "text": [
      "При alpha = 0.05 fwer = 0.5598733313482347 \n",
      "alpha_bonf = 0.003125 \n",
      "fwer_bonf = 0.048845042569365726\n"
     ]
    }
   ],
   "source": [
    "# подготавливаем данные\n",
    "m = 16 # число тестов\n",
    "alpha = 0.05 # исходный уровень значимости\n",
    "\n",
    "fwer = 1 - (1 - alpha) ** m # считаем FWER при исходном уровне значимости\n",
    "\n",
    "# считаем поправку \n",
    "alpha_bonf = alpha / m \n",
    "\n",
    "# считаем FWER\n",
    "fwer_bonf = 1 - (1 - alpha_bonf) ** m  \n",
    "\n",
    "print(f'При alpha = {alpha} fwer = {fwer} \\nalpha_bonf = {alpha_bonf} \\nfwer_bonf = {fwer_bonf}')"
   ]
  },
  {
   "cell_type": "markdown",
   "metadata": {},
   "source": [
    "Вероятность совершить ошибку 1 рода в проведенных тестах составляет 56%.  \n",
    "Чтобы снизить вероятность ошибки 1 рода до 4.9% проверим гипотезы с alpha_bonf = 0.003"
   ]
  },
  {
   "cell_type": "markdown",
   "metadata": {},
   "source": [
    "**Гипотезы:**\n",
    "- **Н0 - нет статистически значимой разницы между долями в группах;**\n",
    "- **Н1 - статистически значимая разница между долями есть.**  \n",
    "  \n",
    "**alpha = 0.003**"
   ]
  },
  {
   "cell_type": "markdown",
   "metadata": {},
   "source": [
    "**А/А тест с поправкой Бонферрони** для групп А246 и А247"
   ]
  },
  {
   "cell_type": "code",
   "execution_count": 120,
   "metadata": {},
   "outputs": [
    {
     "name": "stdout",
     "output_type": "stream",
     "text": [
      "MainScreenAppear p-значение: 0.7570597232046099\n",
      "Не получилось отвергнуть нулевую гипотезу, нет оснований считать доли разными\n",
      "--------\n",
      "OffersScreenAppear p-значение: 0.2480954578522181\n",
      "Не получилось отвергнуть нулевую гипотезу, нет оснований считать доли разными\n",
      "--------\n",
      "CartScreenAppear p-значение: 0.22883372237997213\n",
      "Не получилось отвергнуть нулевую гипотезу, нет оснований считать доли разными\n",
      "--------\n",
      "PaymentScreenSuccessful p-значение: 0.11456679313141849\n",
      "Не получилось отвергнуть нулевую гипотезу, нет оснований считать доли разными\n",
      "--------\n"
     ]
    }
   ],
   "source": [
    "trials = np.array([user_group.loc[0, 'user_cnt'], user_group.loc[1, 'user_cnt']])\n",
    "z_test(funnel, trials, 'A246', 'A247', 0.003) "
   ]
  },
  {
   "cell_type": "markdown",
   "metadata": {},
   "source": [
    "***Нет оснований считать доли групп А246 и А247 разными.***"
   ]
  },
  {
   "cell_type": "markdown",
   "metadata": {},
   "source": [
    "**А/В тест с поправкой Бонферрони** для групп А246 и В248"
   ]
  },
  {
   "cell_type": "code",
   "execution_count": 123,
   "metadata": {},
   "outputs": [
    {
     "name": "stdout",
     "output_type": "stream",
     "text": [
      "MainScreenAppear p-значение: 0.2949721933554552\n",
      "Не получилось отвергнуть нулевую гипотезу, нет оснований считать доли разными\n",
      "--------\n",
      "OffersScreenAppear p-значение: 0.20836205402738917\n",
      "Не получилось отвергнуть нулевую гипотезу, нет оснований считать доли разными\n",
      "--------\n",
      "CartScreenAppear p-значение: 0.07842923237520116\n",
      "Не получилось отвергнуть нулевую гипотезу, нет оснований считать доли разными\n",
      "--------\n",
      "PaymentScreenSuccessful p-значение: 0.2122553275697796\n",
      "Не получилось отвергнуть нулевую гипотезу, нет оснований считать доли разными\n",
      "--------\n"
     ]
    }
   ],
   "source": [
    "trials = np.array([user_group.loc[0, 'user_cnt'], user_group.loc[2, 'user_cnt']])\n",
    "z_test(funnel, trials, 'A246', 'B248', 0.003) "
   ]
  },
  {
   "cell_type": "markdown",
   "metadata": {},
   "source": [
    "***Нет оснований считать доли групп А246 и В248 разными.***"
   ]
  },
  {
   "cell_type": "markdown",
   "metadata": {},
   "source": [
    "**А/В тест с поправкой Бонферрони** для групп А247 и В248"
   ]
  },
  {
   "cell_type": "code",
   "execution_count": 126,
   "metadata": {},
   "outputs": [
    {
     "name": "stdout",
     "output_type": "stream",
     "text": [
      "MainScreenAppear p-значение: 0.4587053616621515\n",
      "Не получилось отвергнуть нулевую гипотезу, нет оснований считать доли разными\n",
      "--------\n",
      "OffersScreenAppear p-значение: 0.9197817830592261\n",
      "Не получилось отвергнуть нулевую гипотезу, нет оснований считать доли разными\n",
      "--------\n",
      "CartScreenAppear p-значение: 0.5786197879539783\n",
      "Не получилось отвергнуть нулевую гипотезу, нет оснований считать доли разными\n",
      "--------\n",
      "PaymentScreenSuccessful p-значение: 0.7373415053803964\n",
      "Не получилось отвергнуть нулевую гипотезу, нет оснований считать доли разными\n",
      "--------\n"
     ]
    }
   ],
   "source": [
    "trials = np.array([user_group.loc[1, 'user_cnt'], user_group.loc[2, 'user_cnt']])\n",
    "z_test(funnel, trials, 'A247', 'B248', 0.003) "
   ]
  },
  {
   "cell_type": "markdown",
   "metadata": {},
   "source": [
    "***Нет оснований считать доли групп А247 и В248 разными.***"
   ]
  },
  {
   "cell_type": "markdown",
   "metadata": {},
   "source": [
    "**АА/В тест с поправкой Бонферрони** для групп А246+А247 и В248"
   ]
  },
  {
   "cell_type": "code",
   "execution_count": 129,
   "metadata": {},
   "outputs": [
    {
     "name": "stdout",
     "output_type": "stream",
     "text": [
      "MainScreenAppear p-значение: 0.29424526837179577\n",
      "Не получилось отвергнуть нулевую гипотезу, нет оснований считать доли разными\n",
      "--------\n",
      "OffersScreenAppear p-значение: 0.43425549655188256\n",
      "Не получилось отвергнуть нулевую гипотезу, нет оснований считать доли разными\n",
      "--------\n",
      "CartScreenAppear p-значение: 0.18175875284404386\n",
      "Не получилось отвергнуть нулевую гипотезу, нет оснований считать доли разными\n",
      "--------\n",
      "PaymentScreenSuccessful p-значение: 0.6004294282308704\n",
      "Не получилось отвергнуть нулевую гипотезу, нет оснований считать доли разными\n",
      "--------\n"
     ]
    }
   ],
   "source": [
    "trials = np.array([user_groupAA.loc[3, 'user_cnt'], user_group.loc[2, 'user_cnt']])\n",
    "z_test(funnelAA, trials, 'A246+A247', 'B248', 0.003) "
   ]
  },
  {
   "cell_type": "markdown",
   "metadata": {},
   "source": [
    "***Нет оснований считать доли групп А246+A247 и В248 разными.***"
   ]
  },
  {
   "cell_type": "markdown",
   "metadata": {},
   "source": [
    "**Вывод:**  \n",
    "***После проведения теста с поправкой Бенферрони результат не изменился.***"
   ]
  },
  {
   "cell_type": "markdown",
   "metadata": {},
   "source": [
    "## Общий вывод"
   ]
  },
  {
   "cell_type": "markdown",
   "metadata": {},
   "source": [
    "Первоначальные данные были за две недели, c 2019-07-25 по 2019-08-07. Проверка показала, что данные за июль неполные.\n",
    "**Для анализа взяли события за полную неделю с 1 по 7 августа 2019 года**, отбросив 1% событий и 1% пользователей. \n",
    "В среднем получилось 32 события на пользователя.     \n",
    "\n",
    "Всего в логах 5 типов событий, из которых почти половина - просмотр главной страницы. Не все пользователи открывали главный экран приложения. 1.5% сразу перешли к другим этапам по прямым ссылкам. Возможность прямого перехода есть для каждой страницы.    \n",
    "Просмотр инструкции Tutorial составляет всего 0.4% всех событий. Инструкцию открывали 11.1% пользователей, причем этот этап не является частью воронки событий, т.к. на него переходят не последовательно, а с любого этапа. \n",
    "  \n",
    "**Воронка событий** состоит из четырех этапов: главный экран, предложение товаров, корзина, оплата товара.\n",
    "  \n",
    "**Больше всего пользователей (38%) теряются на первом шаге, т.е. не идут дальше главной страницы приложения. 47.7% от общего количества пользователей доходят до оплаты товара.  \n",
    "Если пользователь перешел к просмотру карточки товара, то 81.3% из них переходят на этап корзины и 94.8% переходят от корзины к оплате товара.**  \n",
    "\n",
    "При изучении результатов **А/А/В теста** была проведена оценка количества пользователей в каждой экспериментальной группе.   \n",
    "**В рассматирваемом датасете есть пользователи из всех трех групп, распределение по группам равномерное, пересечений нет.**\n",
    "  \n",
    "Различие конверсии по группам не превышает 1% только на первом шаге - просмотр главного экрана. На остальных этапах различие конверсии в пределах 2.2%, приемлимое при уровне статистической значимости 5%.\n",
    "Различие конверсии в шаг по группам менее 1% на этапе главного экрана и корзины. На остальных этапах различие конверсии в шаг не превышает 1.5%, приемлимое при уровне статистической значимости 5%.\n",
    "**Разбиение на контрольные группы не идеальное, но приемлимое.**   \n",
    "  \n",
    "Для сравнения процентных метрик использовали **Z-test** для пропорций.\n",
    "\n",
    "**Гипотезы:  \n",
    "Н0 - нет статистически значимой разницы между долями в группах;  \n",
    "Н1 - статистически значимая разница между долями есть.**\n",
    "\n",
    "Проверка показала, что разбиение на группы работает корректно.\n",
    "\n",
    "**По результатам проведенных статистических тестов нельзя сделать вывод о том, какой шрифт лучше, т.к. нет оснований считать разными доли пользователей на каждом этапе воронки событий в каждой тестируемой группе.**\n",
    "\n",
    "При проверке статистических гипотез был выбран уровень значимости 0.05\n",
    "Было проведено всего 16 проверок статистических гипотез: 4 А/А теста и 12 А/В тестов.\n",
    "Вероятность совершить ошибку 1 рода в проведенных тестах составляет 56%.\n",
    "Чтобы снизить вероятность ошибки до 4.9% проверили гипотезы с alpha_bonf = 0.003  \n",
    "\n",
    "**После проведения теста с поправкой Бенферрони результат не изменился.**\n"
   ]
  },
  {
   "cell_type": "markdown",
   "metadata": {},
   "source": [
    "**Рекомендации:**  \n",
    "\n",
    "**- А/А/В тест следует остановить. Т.к. изменение шрифта приложения не повлияет на пользовательскую активность, новый шрифт можно оставить, если его внедрение не требует существенных затрат;**  \n",
    "  \n",
    "  **- Стоит доработать страницу главного экрана, чтобы увеличить конверсию в следующий шаг воронки событий.**"
   ]
  }
 ],
 "metadata": {
  "ExecuteTimeLog": [
   {
    "duration": 3,
    "start_time": "2024-07-22T10:51:09.964Z"
   },
   {
    "duration": 3,
    "start_time": "2024-07-22T11:41:52.662Z"
   },
   {
    "duration": 3,
    "start_time": "2024-07-22T14:45:35.100Z"
   },
   {
    "duration": 47,
    "start_time": "2024-07-22T14:48:19.685Z"
   },
   {
    "duration": 740,
    "start_time": "2024-07-22T14:49:11.935Z"
   },
   {
    "duration": 971,
    "start_time": "2024-07-22T14:49:13.204Z"
   },
   {
    "duration": 16,
    "start_time": "2024-07-22T14:51:08.769Z"
   },
   {
    "duration": 53,
    "start_time": "2024-07-22T14:51:36.126Z"
   },
   {
    "duration": 292,
    "start_time": "2024-07-22T14:53:04.226Z"
   },
   {
    "duration": 9,
    "start_time": "2024-07-22T14:53:06.678Z"
   },
   {
    "duration": 64,
    "start_time": "2024-07-22T14:53:19.981Z"
   },
   {
    "duration": 44,
    "start_time": "2024-07-22T14:54:43.859Z"
   },
   {
    "duration": 9,
    "start_time": "2024-07-22T14:54:45.667Z"
   },
   {
    "duration": 45,
    "start_time": "2024-07-22T14:56:13.553Z"
   },
   {
    "duration": 171,
    "start_time": "2024-07-22T15:01:13.709Z"
   },
   {
    "duration": 11,
    "start_time": "2024-07-22T15:01:16.528Z"
   },
   {
    "duration": 29,
    "start_time": "2024-07-22T15:02:42.961Z"
   },
   {
    "duration": 9,
    "start_time": "2024-07-22T15:12:50.153Z"
   },
   {
    "duration": 63,
    "start_time": "2024-07-22T15:15:40.237Z"
   },
   {
    "duration": 25,
    "start_time": "2024-07-22T15:15:58.315Z"
   },
   {
    "duration": 43,
    "start_time": "2024-07-22T15:16:13.322Z"
   },
   {
    "duration": 8,
    "start_time": "2024-07-22T15:21:21.771Z"
   },
   {
    "duration": 29,
    "start_time": "2024-07-22T15:21:23.879Z"
   },
   {
    "duration": 76,
    "start_time": "2024-07-22T15:31:56.574Z"
   },
   {
    "duration": 71,
    "start_time": "2024-07-22T15:32:02.051Z"
   },
   {
    "duration": 1003,
    "start_time": "2024-07-22T15:41:31.436Z"
   },
   {
    "duration": 17,
    "start_time": "2024-07-22T15:46:53.802Z"
   },
   {
    "duration": 33,
    "start_time": "2024-07-22T15:46:56.398Z"
   },
   {
    "duration": 29,
    "start_time": "2024-07-22T15:47:38.837Z"
   },
   {
    "duration": 14,
    "start_time": "2024-07-22T15:58:58.366Z"
   },
   {
    "duration": 14,
    "start_time": "2024-07-22T15:59:02.830Z"
   },
   {
    "duration": 12,
    "start_time": "2024-07-22T15:59:03.858Z"
   },
   {
    "duration": 25,
    "start_time": "2024-07-22T15:59:05.575Z"
   },
   {
    "duration": 67,
    "start_time": "2024-07-22T15:59:30.496Z"
   },
   {
    "duration": 75,
    "start_time": "2024-07-22T16:03:30.830Z"
   },
   {
    "duration": 67,
    "start_time": "2024-07-22T16:03:48.772Z"
   },
   {
    "duration": 139,
    "start_time": "2024-07-22T16:04:04.809Z"
   },
   {
    "duration": 8,
    "start_time": "2024-07-22T16:04:28.533Z"
   },
   {
    "duration": 20,
    "start_time": "2024-07-22T16:04:41.423Z"
   },
   {
    "duration": 17,
    "start_time": "2024-07-22T16:15:44.923Z"
   },
   {
    "duration": 6,
    "start_time": "2024-07-22T16:24:26.538Z"
   },
   {
    "duration": 52,
    "start_time": "2024-07-23T13:28:26.284Z"
   },
   {
    "duration": 789,
    "start_time": "2024-07-23T13:28:31.757Z"
   },
   {
    "duration": 642,
    "start_time": "2024-07-23T13:28:32.548Z"
   },
   {
    "duration": 29,
    "start_time": "2024-07-23T13:28:33.192Z"
   },
   {
    "duration": 7,
    "start_time": "2024-07-23T13:28:33.223Z"
   },
   {
    "duration": 17,
    "start_time": "2024-07-23T13:28:33.231Z"
   },
   {
    "duration": 8,
    "start_time": "2024-07-23T13:28:33.250Z"
   },
   {
    "duration": 87,
    "start_time": "2024-07-23T13:28:33.260Z"
   },
   {
    "duration": 163,
    "start_time": "2024-07-23T13:28:33.349Z"
   },
   {
    "duration": 18,
    "start_time": "2024-07-23T13:28:33.513Z"
   },
   {
    "duration": 18,
    "start_time": "2024-07-23T13:28:33.533Z"
   },
   {
    "duration": 2,
    "start_time": "2024-07-23T13:30:37.342Z"
   },
   {
    "duration": 27,
    "start_time": "2024-07-23T13:31:46.206Z"
   },
   {
    "duration": 18,
    "start_time": "2024-07-23T13:42:54.518Z"
   },
   {
    "duration": 9,
    "start_time": "2024-07-23T13:42:56.197Z"
   },
   {
    "duration": 65,
    "start_time": "2024-07-23T13:42:57.763Z"
   },
   {
    "duration": 140,
    "start_time": "2024-07-23T13:43:02.513Z"
   },
   {
    "duration": 18,
    "start_time": "2024-07-23T13:43:07.363Z"
   },
   {
    "duration": 864,
    "start_time": "2024-07-23T13:43:16.502Z"
   },
   {
    "duration": 150,
    "start_time": "2024-07-23T13:43:17.367Z"
   },
   {
    "duration": 29,
    "start_time": "2024-07-23T13:43:17.519Z"
   },
   {
    "duration": 6,
    "start_time": "2024-07-23T13:43:17.549Z"
   },
   {
    "duration": 32,
    "start_time": "2024-07-23T13:43:17.557Z"
   },
   {
    "duration": 9,
    "start_time": "2024-07-23T13:43:17.590Z"
   },
   {
    "duration": 86,
    "start_time": "2024-07-23T13:43:17.600Z"
   },
   {
    "duration": 176,
    "start_time": "2024-07-23T13:43:17.687Z"
   },
   {
    "duration": 19,
    "start_time": "2024-07-23T13:43:17.864Z"
   },
   {
    "duration": 32,
    "start_time": "2024-07-23T13:43:17.884Z"
   },
   {
    "duration": 28,
    "start_time": "2024-07-23T13:43:17.917Z"
   },
   {
    "duration": 5,
    "start_time": "2024-07-23T13:44:13.740Z"
   },
   {
    "duration": 1031,
    "start_time": "2024-07-23T13:44:15.082Z"
   },
   {
    "duration": 638,
    "start_time": "2024-07-23T13:44:33.786Z"
   },
   {
    "duration": 151,
    "start_time": "2024-07-23T13:44:34.425Z"
   },
   {
    "duration": 28,
    "start_time": "2024-07-23T13:44:34.578Z"
   },
   {
    "duration": 6,
    "start_time": "2024-07-23T13:44:34.612Z"
   },
   {
    "duration": 21,
    "start_time": "2024-07-23T13:44:34.620Z"
   },
   {
    "duration": 8,
    "start_time": "2024-07-23T13:44:34.642Z"
   },
   {
    "duration": 94,
    "start_time": "2024-07-23T13:44:34.652Z"
   },
   {
    "duration": 166,
    "start_time": "2024-07-23T13:44:34.747Z"
   },
   {
    "duration": 18,
    "start_time": "2024-07-23T13:44:34.914Z"
   },
   {
    "duration": 17,
    "start_time": "2024-07-23T13:44:34.934Z"
   },
   {
    "duration": 27,
    "start_time": "2024-07-23T13:44:34.953Z"
   },
   {
    "duration": 28,
    "start_time": "2024-07-23T13:53:12.295Z"
   },
   {
    "duration": 28,
    "start_time": "2024-07-23T13:53:31.666Z"
   },
   {
    "duration": 7,
    "start_time": "2024-07-23T13:54:32.749Z"
   },
   {
    "duration": 6,
    "start_time": "2024-07-23T13:55:52.713Z"
   },
   {
    "duration": 75,
    "start_time": "2024-07-23T13:58:57.212Z"
   },
   {
    "duration": 68,
    "start_time": "2024-07-23T14:05:52.544Z"
   },
   {
    "duration": 6,
    "start_time": "2024-07-23T14:07:52.097Z"
   },
   {
    "duration": 7,
    "start_time": "2024-07-23T14:08:01.247Z"
   },
   {
    "duration": 98,
    "start_time": "2024-07-23T14:09:22.846Z"
   },
   {
    "duration": 28,
    "start_time": "2024-07-23T14:09:35.379Z"
   },
   {
    "duration": 6,
    "start_time": "2024-07-23T14:10:09.525Z"
   },
   {
    "duration": 6,
    "start_time": "2024-07-23T14:10:17.172Z"
   },
   {
    "duration": 6,
    "start_time": "2024-07-23T14:11:02.503Z"
   },
   {
    "duration": 72,
    "start_time": "2024-07-23T14:11:10.830Z"
   },
   {
    "duration": 7,
    "start_time": "2024-07-23T14:11:15.566Z"
   },
   {
    "duration": 4,
    "start_time": "2024-07-23T14:15:32.155Z"
   },
   {
    "duration": 5,
    "start_time": "2024-07-23T14:15:41.991Z"
   },
   {
    "duration": 5,
    "start_time": "2024-07-23T14:17:35.797Z"
   },
   {
    "duration": 4,
    "start_time": "2024-07-23T14:18:05.044Z"
   },
   {
    "duration": 3,
    "start_time": "2024-07-23T14:26:23.245Z"
   },
   {
    "duration": 3,
    "start_time": "2024-07-23T14:26:24.108Z"
   },
   {
    "duration": 9,
    "start_time": "2024-07-23T14:28:48.288Z"
   },
   {
    "duration": 8,
    "start_time": "2024-07-23T14:28:54.496Z"
   },
   {
    "duration": 588,
    "start_time": "2024-07-23T14:29:05.934Z"
   },
   {
    "duration": 150,
    "start_time": "2024-07-23T14:29:06.524Z"
   },
   {
    "duration": 38,
    "start_time": "2024-07-23T14:29:06.676Z"
   },
   {
    "duration": 8,
    "start_time": "2024-07-23T14:29:06.716Z"
   },
   {
    "duration": 30,
    "start_time": "2024-07-23T14:29:06.726Z"
   },
   {
    "duration": 8,
    "start_time": "2024-07-23T14:29:06.757Z"
   },
   {
    "duration": 92,
    "start_time": "2024-07-23T14:29:06.766Z"
   },
   {
    "duration": 183,
    "start_time": "2024-07-23T14:29:06.860Z"
   },
   {
    "duration": 22,
    "start_time": "2024-07-23T14:29:07.045Z"
   },
   {
    "duration": 23,
    "start_time": "2024-07-23T14:29:07.069Z"
   },
   {
    "duration": 31,
    "start_time": "2024-07-23T14:29:07.112Z"
   },
   {
    "duration": 6,
    "start_time": "2024-07-23T14:29:07.144Z"
   },
   {
    "duration": 7,
    "start_time": "2024-07-23T14:29:07.152Z"
   },
   {
    "duration": 98,
    "start_time": "2024-07-23T14:29:07.162Z"
   },
   {
    "duration": 5,
    "start_time": "2024-07-23T14:29:30.010Z"
   },
   {
    "duration": 5,
    "start_time": "2024-07-23T14:30:00.873Z"
   },
   {
    "duration": 5,
    "start_time": "2024-07-23T14:30:48.691Z"
   },
   {
    "duration": 27,
    "start_time": "2024-07-23T15:02:40.430Z"
   },
   {
    "duration": 25,
    "start_time": "2024-07-23T15:05:40.705Z"
   },
   {
    "duration": 310,
    "start_time": "2024-07-23T15:08:42.971Z"
   },
   {
    "duration": 220,
    "start_time": "2024-07-23T15:09:18.978Z"
   },
   {
    "duration": 183,
    "start_time": "2024-07-23T15:09:37.721Z"
   },
   {
    "duration": 221,
    "start_time": "2024-07-23T15:10:02.944Z"
   },
   {
    "duration": 187,
    "start_time": "2024-07-23T15:11:19.560Z"
   },
   {
    "duration": 12,
    "start_time": "2024-07-23T15:33:59.813Z"
   },
   {
    "duration": 17,
    "start_time": "2024-07-23T15:34:20.380Z"
   },
   {
    "duration": 15,
    "start_time": "2024-07-23T15:34:47.001Z"
   },
   {
    "duration": 11,
    "start_time": "2024-07-23T15:35:26.617Z"
   },
   {
    "duration": 10,
    "start_time": "2024-07-23T15:35:35.332Z"
   },
   {
    "duration": 7,
    "start_time": "2024-07-23T15:35:58.189Z"
   },
   {
    "duration": 610,
    "start_time": "2024-07-23T15:36:13.491Z"
   },
   {
    "duration": 150,
    "start_time": "2024-07-23T15:36:14.103Z"
   },
   {
    "duration": 30,
    "start_time": "2024-07-23T15:36:14.255Z"
   },
   {
    "duration": 6,
    "start_time": "2024-07-23T15:36:14.287Z"
   },
   {
    "duration": 35,
    "start_time": "2024-07-23T15:36:14.294Z"
   },
   {
    "duration": 9,
    "start_time": "2024-07-23T15:36:14.330Z"
   },
   {
    "duration": 84,
    "start_time": "2024-07-23T15:36:14.340Z"
   },
   {
    "duration": 158,
    "start_time": "2024-07-23T15:36:14.426Z"
   },
   {
    "duration": 18,
    "start_time": "2024-07-23T15:36:14.586Z"
   },
   {
    "duration": 21,
    "start_time": "2024-07-23T15:36:14.606Z"
   },
   {
    "duration": 73,
    "start_time": "2024-07-23T15:36:14.628Z"
   },
   {
    "duration": 8,
    "start_time": "2024-07-23T15:36:14.702Z"
   },
   {
    "duration": 6,
    "start_time": "2024-07-23T15:36:14.711Z"
   },
   {
    "duration": 5,
    "start_time": "2024-07-23T15:36:14.719Z"
   },
   {
    "duration": 8,
    "start_time": "2024-07-23T15:36:14.725Z"
   },
   {
    "duration": 93,
    "start_time": "2024-07-23T15:36:14.734Z"
   },
   {
    "duration": 17,
    "start_time": "2024-07-23T15:37:07.326Z"
   },
   {
    "duration": 29,
    "start_time": "2024-07-23T15:37:43.202Z"
   },
   {
    "duration": 34,
    "start_time": "2024-07-23T15:37:55.867Z"
   },
   {
    "duration": 67,
    "start_time": "2024-07-23T15:41:40.254Z"
   },
   {
    "duration": 51,
    "start_time": "2024-07-23T15:46:48.355Z"
   },
   {
    "duration": 49,
    "start_time": "2024-07-23T15:47:57.721Z"
   },
   {
    "duration": 61,
    "start_time": "2024-07-23T15:52:03.816Z"
   },
   {
    "duration": 64,
    "start_time": "2024-07-23T15:52:20.918Z"
   },
   {
    "duration": 57,
    "start_time": "2024-07-23T15:52:57.680Z"
   },
   {
    "duration": 58,
    "start_time": "2024-07-23T15:53:19.294Z"
   },
   {
    "duration": 56,
    "start_time": "2024-07-23T15:53:40.138Z"
   },
   {
    "duration": 58,
    "start_time": "2024-07-23T15:59:33.343Z"
   },
   {
    "duration": 20,
    "start_time": "2024-07-23T16:00:09.467Z"
   },
   {
    "duration": 1468,
    "start_time": "2024-07-23T16:06:53.669Z"
   },
   {
    "duration": 1095,
    "start_time": "2024-07-23T16:08:00.274Z"
   },
   {
    "duration": 281,
    "start_time": "2024-07-23T16:10:07.357Z"
   },
   {
    "duration": 274,
    "start_time": "2024-07-23T16:10:15.618Z"
   },
   {
    "duration": 265,
    "start_time": "2024-07-23T16:10:23.096Z"
   },
   {
    "duration": 256,
    "start_time": "2024-07-23T16:11:37.825Z"
   },
   {
    "duration": 255,
    "start_time": "2024-07-23T16:12:58.989Z"
   },
   {
    "duration": 251,
    "start_time": "2024-07-23T16:13:55.557Z"
   },
   {
    "duration": 246,
    "start_time": "2024-07-23T16:14:05.900Z"
   },
   {
    "duration": 248,
    "start_time": "2024-07-23T16:14:23.394Z"
   },
   {
    "duration": 252,
    "start_time": "2024-07-23T16:14:35.393Z"
   },
   {
    "duration": 299,
    "start_time": "2024-07-23T16:14:58.580Z"
   },
   {
    "duration": 251,
    "start_time": "2024-07-23T16:15:30.987Z"
   },
   {
    "duration": 240,
    "start_time": "2024-07-23T16:15:48.476Z"
   },
   {
    "duration": 25,
    "start_time": "2024-07-23T16:17:27.057Z"
   },
   {
    "duration": 243,
    "start_time": "2024-07-23T16:17:27.637Z"
   },
   {
    "duration": 245,
    "start_time": "2024-07-23T16:18:48.204Z"
   },
   {
    "duration": 260,
    "start_time": "2024-07-23T16:19:00.819Z"
   },
   {
    "duration": 257,
    "start_time": "2024-07-23T16:19:42.615Z"
   },
   {
    "duration": 232,
    "start_time": "2024-07-23T16:20:48.029Z"
   },
   {
    "duration": 313,
    "start_time": "2024-07-23T16:21:08.838Z"
   },
   {
    "duration": 252,
    "start_time": "2024-07-23T16:22:00.773Z"
   },
   {
    "duration": 284,
    "start_time": "2024-07-23T16:22:26.993Z"
   },
   {
    "duration": 266,
    "start_time": "2024-07-23T16:28:25.803Z"
   },
   {
    "duration": 252,
    "start_time": "2024-07-23T16:28:34.208Z"
   },
   {
    "duration": 14,
    "start_time": "2024-07-23T16:32:30.366Z"
   },
   {
    "duration": 24,
    "start_time": "2024-07-23T16:32:41.420Z"
   },
   {
    "duration": 8,
    "start_time": "2024-07-23T16:33:53.349Z"
   },
   {
    "duration": 84,
    "start_time": "2024-07-23T16:34:45.255Z"
   },
   {
    "duration": 255,
    "start_time": "2024-07-23T16:34:54.469Z"
   },
   {
    "duration": 28,
    "start_time": "2024-07-23T16:36:40.530Z"
   },
   {
    "duration": 8,
    "start_time": "2024-07-23T16:37:27.246Z"
   },
   {
    "duration": 3,
    "start_time": "2024-07-23T16:41:01.130Z"
   },
   {
    "duration": 3,
    "start_time": "2024-07-23T16:41:15.436Z"
   },
   {
    "duration": 3,
    "start_time": "2024-07-23T16:41:26.057Z"
   },
   {
    "duration": 3,
    "start_time": "2024-07-23T16:41:36.137Z"
   },
   {
    "duration": 3,
    "start_time": "2024-07-23T16:41:41.938Z"
   },
   {
    "duration": 3,
    "start_time": "2024-07-23T16:42:10.719Z"
   },
   {
    "duration": 3,
    "start_time": "2024-07-23T16:42:52.886Z"
   },
   {
    "duration": 9,
    "start_time": "2024-07-23T16:43:35.331Z"
   },
   {
    "duration": 10,
    "start_time": "2024-07-23T16:43:43.669Z"
   },
   {
    "duration": 9,
    "start_time": "2024-07-23T16:43:54.555Z"
   },
   {
    "duration": 52,
    "start_time": "2024-07-23T16:48:15.911Z"
   },
   {
    "duration": 10,
    "start_time": "2024-07-23T16:50:09.039Z"
   },
   {
    "duration": 7,
    "start_time": "2024-07-23T16:52:27.134Z"
   },
   {
    "duration": 66,
    "start_time": "2024-07-23T18:53:04.187Z"
   },
   {
    "duration": 833,
    "start_time": "2024-07-23T18:53:11.901Z"
   },
   {
    "duration": 723,
    "start_time": "2024-07-23T18:53:12.737Z"
   },
   {
    "duration": 35,
    "start_time": "2024-07-23T18:53:13.461Z"
   },
   {
    "duration": 7,
    "start_time": "2024-07-23T18:53:13.498Z"
   },
   {
    "duration": 25,
    "start_time": "2024-07-23T18:53:13.507Z"
   },
   {
    "duration": 20,
    "start_time": "2024-07-23T18:53:13.534Z"
   },
   {
    "duration": 115,
    "start_time": "2024-07-23T18:53:13.556Z"
   },
   {
    "duration": 189,
    "start_time": "2024-07-23T18:53:13.673Z"
   },
   {
    "duration": 18,
    "start_time": "2024-07-23T18:53:13.864Z"
   },
   {
    "duration": 28,
    "start_time": "2024-07-23T18:53:13.884Z"
   },
   {
    "duration": 49,
    "start_time": "2024-07-23T18:53:13.913Z"
   },
   {
    "duration": 6,
    "start_time": "2024-07-23T18:53:13.964Z"
   },
   {
    "duration": 38,
    "start_time": "2024-07-23T18:53:13.971Z"
   },
   {
    "duration": 11,
    "start_time": "2024-07-23T18:53:14.010Z"
   },
   {
    "duration": 85,
    "start_time": "2024-07-23T18:53:14.022Z"
   },
   {
    "duration": 0,
    "start_time": "2024-07-23T18:53:14.109Z"
   },
   {
    "duration": 0,
    "start_time": "2024-07-23T18:53:14.110Z"
   },
   {
    "duration": 0,
    "start_time": "2024-07-23T18:53:14.111Z"
   },
   {
    "duration": 0,
    "start_time": "2024-07-23T18:53:14.112Z"
   },
   {
    "duration": 0,
    "start_time": "2024-07-23T18:53:14.113Z"
   },
   {
    "duration": 0,
    "start_time": "2024-07-23T18:53:14.114Z"
   },
   {
    "duration": 16,
    "start_time": "2024-07-23T18:54:06.896Z"
   },
   {
    "duration": 628,
    "start_time": "2024-07-23T18:54:19.805Z"
   },
   {
    "duration": 202,
    "start_time": "2024-07-23T18:54:20.435Z"
   },
   {
    "duration": 52,
    "start_time": "2024-07-23T18:54:20.639Z"
   },
   {
    "duration": 8,
    "start_time": "2024-07-23T18:54:20.692Z"
   },
   {
    "duration": 61,
    "start_time": "2024-07-23T18:54:20.702Z"
   },
   {
    "duration": 11,
    "start_time": "2024-07-23T18:54:20.765Z"
   },
   {
    "duration": 123,
    "start_time": "2024-07-23T18:54:20.778Z"
   },
   {
    "duration": 184,
    "start_time": "2024-07-23T18:54:20.903Z"
   },
   {
    "duration": 18,
    "start_time": "2024-07-23T18:54:21.089Z"
   },
   {
    "duration": 47,
    "start_time": "2024-07-23T18:54:21.110Z"
   },
   {
    "duration": 50,
    "start_time": "2024-07-23T18:54:21.160Z"
   },
   {
    "duration": 8,
    "start_time": "2024-07-23T18:54:21.212Z"
   },
   {
    "duration": 14,
    "start_time": "2024-07-23T18:54:21.221Z"
   },
   {
    "duration": 7,
    "start_time": "2024-07-23T18:54:21.247Z"
   },
   {
    "duration": 102,
    "start_time": "2024-07-23T18:54:21.256Z"
   },
   {
    "duration": 0,
    "start_time": "2024-07-23T18:54:21.361Z"
   },
   {
    "duration": 0,
    "start_time": "2024-07-23T18:54:21.362Z"
   },
   {
    "duration": 0,
    "start_time": "2024-07-23T18:54:21.364Z"
   },
   {
    "duration": 0,
    "start_time": "2024-07-23T18:54:21.380Z"
   },
   {
    "duration": 0,
    "start_time": "2024-07-23T18:54:21.382Z"
   },
   {
    "duration": 0,
    "start_time": "2024-07-23T18:54:21.383Z"
   },
   {
    "duration": 3,
    "start_time": "2024-07-23T19:02:58.806Z"
   },
   {
    "duration": 88,
    "start_time": "2024-07-23T19:03:15.426Z"
   },
   {
    "duration": 412,
    "start_time": "2024-07-23T19:03:33.537Z"
   },
   {
    "duration": 4,
    "start_time": "2024-07-23T19:05:46.223Z"
   },
   {
    "duration": 68,
    "start_time": "2024-07-23T19:09:44.409Z"
   },
   {
    "duration": 326,
    "start_time": "2024-07-23T19:09:57.149Z"
   },
   {
    "duration": 13,
    "start_time": "2024-07-23T19:10:41.593Z"
   },
   {
    "duration": 78,
    "start_time": "2024-07-23T19:10:46.717Z"
   },
   {
    "duration": 21,
    "start_time": "2024-07-23T19:10:50.334Z"
   },
   {
    "duration": 14,
    "start_time": "2024-07-23T19:10:54.563Z"
   },
   {
    "duration": 10,
    "start_time": "2024-07-23T19:11:04.039Z"
   },
   {
    "duration": 11,
    "start_time": "2024-07-23T19:11:12.398Z"
   },
   {
    "duration": 63,
    "start_time": "2024-07-23T19:11:17.192Z"
   },
   {
    "duration": 69,
    "start_time": "2024-07-23T19:11:22.697Z"
   },
   {
    "duration": 11,
    "start_time": "2024-07-23T19:11:26.376Z"
   },
   {
    "duration": 7,
    "start_time": "2024-07-23T19:11:38.573Z"
   },
   {
    "duration": 9,
    "start_time": "2024-07-23T19:11:45.212Z"
   },
   {
    "duration": 43,
    "start_time": "2024-07-23T19:11:51.146Z"
   },
   {
    "duration": 79,
    "start_time": "2024-07-23T19:13:19.972Z"
   },
   {
    "duration": 43,
    "start_time": "2024-07-23T19:15:31.966Z"
   },
   {
    "duration": 53,
    "start_time": "2024-07-23T19:16:25.232Z"
   },
   {
    "duration": 57,
    "start_time": "2024-07-23T19:17:11.554Z"
   },
   {
    "duration": 34,
    "start_time": "2024-07-23T19:19:27.804Z"
   },
   {
    "duration": 48,
    "start_time": "2024-07-23T19:19:59.869Z"
   },
   {
    "duration": 35,
    "start_time": "2024-07-23T19:20:05.089Z"
   },
   {
    "duration": 176,
    "start_time": "2024-07-23T19:20:33.151Z"
   },
   {
    "duration": 35,
    "start_time": "2024-07-23T19:21:22.295Z"
   },
   {
    "duration": 57,
    "start_time": "2024-07-23T19:23:01.037Z"
   },
   {
    "duration": 33,
    "start_time": "2024-07-23T19:25:00.956Z"
   },
   {
    "duration": 53,
    "start_time": "2024-07-23T19:26:04.698Z"
   },
   {
    "duration": 75,
    "start_time": "2024-07-23T19:26:28.536Z"
   },
   {
    "duration": 62,
    "start_time": "2024-07-23T19:28:30.246Z"
   },
   {
    "duration": 37,
    "start_time": "2024-07-23T19:28:41.485Z"
   },
   {
    "duration": 55,
    "start_time": "2024-07-23T19:28:53.844Z"
   },
   {
    "duration": 40,
    "start_time": "2024-07-23T19:28:58.779Z"
   },
   {
    "duration": 38,
    "start_time": "2024-07-23T19:29:03.800Z"
   },
   {
    "duration": 75,
    "start_time": "2024-07-23T19:29:22.715Z"
   },
   {
    "duration": 98,
    "start_time": "2024-07-23T19:38:21.762Z"
   },
   {
    "duration": 541,
    "start_time": "2024-07-23T19:38:41.270Z"
   },
   {
    "duration": 829,
    "start_time": "2024-07-23T19:38:48.006Z"
   },
   {
    "duration": 406,
    "start_time": "2024-07-23T19:40:13.882Z"
   },
   {
    "duration": 72,
    "start_time": "2024-07-23T19:44:11.742Z"
   },
   {
    "duration": 66,
    "start_time": "2024-07-23T19:44:21.155Z"
   },
   {
    "duration": 81,
    "start_time": "2024-07-23T19:44:25.100Z"
   },
   {
    "duration": 53,
    "start_time": "2024-07-23T19:44:34.522Z"
   },
   {
    "duration": 49,
    "start_time": "2024-07-23T19:44:41.575Z"
   },
   {
    "duration": 60,
    "start_time": "2024-07-23T19:45:12.545Z"
   },
   {
    "duration": 61,
    "start_time": "2024-07-23T19:45:51.035Z"
   },
   {
    "duration": 46,
    "start_time": "2024-07-23T19:48:18.777Z"
   },
   {
    "duration": 37,
    "start_time": "2024-07-23T19:51:24.388Z"
   },
   {
    "duration": 94,
    "start_time": "2024-07-23T19:54:13.908Z"
   },
   {
    "duration": 8,
    "start_time": "2024-07-23T19:54:21.004Z"
   },
   {
    "duration": 4,
    "start_time": "2024-07-23T19:54:42.094Z"
   },
   {
    "duration": 5,
    "start_time": "2024-07-23T19:55:47.856Z"
   },
   {
    "duration": 58,
    "start_time": "2024-07-23T19:56:21.934Z"
   },
   {
    "duration": 26,
    "start_time": "2024-07-23T19:57:22.411Z"
   },
   {
    "duration": 62,
    "start_time": "2024-07-23T19:57:37.229Z"
   },
   {
    "duration": 800,
    "start_time": "2024-07-24T05:36:30.792Z"
   },
   {
    "duration": 777,
    "start_time": "2024-07-24T05:36:31.593Z"
   },
   {
    "duration": 37,
    "start_time": "2024-07-24T05:36:32.372Z"
   },
   {
    "duration": 109,
    "start_time": "2024-07-24T05:36:32.412Z"
   },
   {
    "duration": 61,
    "start_time": "2024-07-24T05:36:32.523Z"
   },
   {
    "duration": 13,
    "start_time": "2024-07-24T05:36:32.586Z"
   },
   {
    "duration": 86,
    "start_time": "2024-07-24T05:36:32.601Z"
   },
   {
    "duration": 167,
    "start_time": "2024-07-24T05:36:32.689Z"
   },
   {
    "duration": 19,
    "start_time": "2024-07-24T05:36:32.857Z"
   },
   {
    "duration": 21,
    "start_time": "2024-07-24T05:36:32.879Z"
   },
   {
    "duration": 52,
    "start_time": "2024-07-24T05:36:32.902Z"
   },
   {
    "duration": 8,
    "start_time": "2024-07-24T05:36:32.956Z"
   },
   {
    "duration": 4,
    "start_time": "2024-07-24T05:36:32.966Z"
   },
   {
    "duration": 31,
    "start_time": "2024-07-24T05:36:32.972Z"
   },
   {
    "duration": 30,
    "start_time": "2024-07-24T05:36:33.005Z"
   },
   {
    "duration": 66,
    "start_time": "2024-07-24T05:36:33.037Z"
   },
   {
    "duration": 402,
    "start_time": "2024-07-24T05:36:33.105Z"
   },
   {
    "duration": 12,
    "start_time": "2024-07-24T05:36:33.509Z"
   },
   {
    "duration": 71,
    "start_time": "2024-07-24T05:36:33.523Z"
   },
   {
    "duration": 10,
    "start_time": "2024-07-24T05:36:33.596Z"
   },
   {
    "duration": 28,
    "start_time": "2024-07-24T05:36:33.608Z"
   },
   {
    "duration": 56,
    "start_time": "2024-07-24T05:36:33.638Z"
   },
   {
    "duration": 30,
    "start_time": "2024-07-24T05:36:33.697Z"
   },
   {
    "duration": 103,
    "start_time": "2024-07-24T05:45:38.272Z"
   },
   {
    "duration": 21,
    "start_time": "2024-07-24T05:45:42.368Z"
   },
   {
    "duration": 20,
    "start_time": "2024-07-24T05:45:43.857Z"
   },
   {
    "duration": 16,
    "start_time": "2024-07-24T05:48:36.811Z"
   },
   {
    "duration": 15,
    "start_time": "2024-07-24T05:49:27.884Z"
   },
   {
    "duration": 16,
    "start_time": "2024-07-24T06:01:34.422Z"
   },
   {
    "duration": 14,
    "start_time": "2024-07-24T06:01:37.573Z"
   },
   {
    "duration": 15,
    "start_time": "2024-07-24T06:01:40.829Z"
   },
   {
    "duration": 13,
    "start_time": "2024-07-24T06:02:24.396Z"
   },
   {
    "duration": 14,
    "start_time": "2024-07-24T06:02:49.109Z"
   },
   {
    "duration": 14,
    "start_time": "2024-07-24T06:03:17.007Z"
   },
   {
    "duration": 36,
    "start_time": "2024-07-24T06:04:40.608Z"
   },
   {
    "duration": 843,
    "start_time": "2024-07-24T18:03:23.139Z"
   },
   {
    "duration": 789,
    "start_time": "2024-07-24T18:03:23.984Z"
   },
   {
    "duration": 41,
    "start_time": "2024-07-24T18:03:24.774Z"
   },
   {
    "duration": 9,
    "start_time": "2024-07-24T18:03:24.817Z"
   },
   {
    "duration": 25,
    "start_time": "2024-07-24T18:03:24.827Z"
   },
   {
    "duration": 76,
    "start_time": "2024-07-24T18:03:24.854Z"
   },
   {
    "duration": 84,
    "start_time": "2024-07-24T18:03:24.932Z"
   },
   {
    "duration": 175,
    "start_time": "2024-07-24T18:03:25.017Z"
   },
   {
    "duration": 19,
    "start_time": "2024-07-24T18:03:25.194Z"
   },
   {
    "duration": 36,
    "start_time": "2024-07-24T18:03:25.216Z"
   },
   {
    "duration": 37,
    "start_time": "2024-07-24T18:03:25.254Z"
   },
   {
    "duration": 6,
    "start_time": "2024-07-24T18:03:25.292Z"
   },
   {
    "duration": 6,
    "start_time": "2024-07-24T18:03:25.300Z"
   },
   {
    "duration": 8,
    "start_time": "2024-07-24T18:03:25.307Z"
   },
   {
    "duration": 4,
    "start_time": "2024-07-24T18:03:25.316Z"
   },
   {
    "duration": 86,
    "start_time": "2024-07-24T18:03:25.321Z"
   },
   {
    "duration": 398,
    "start_time": "2024-07-24T18:03:25.408Z"
   },
   {
    "duration": 12,
    "start_time": "2024-07-24T18:03:25.808Z"
   },
   {
    "duration": 77,
    "start_time": "2024-07-24T18:03:25.822Z"
   },
   {
    "duration": 9,
    "start_time": "2024-07-24T18:03:25.902Z"
   },
   {
    "duration": 4,
    "start_time": "2024-07-24T18:03:25.912Z"
   },
   {
    "duration": 69,
    "start_time": "2024-07-24T18:03:25.918Z"
   },
   {
    "duration": 19,
    "start_time": "2024-07-24T18:03:25.988Z"
   },
   {
    "duration": 48,
    "start_time": "2024-07-24T18:03:26.010Z"
   },
   {
    "duration": 30,
    "start_time": "2024-07-24T18:03:26.083Z"
   },
   {
    "duration": 36,
    "start_time": "2024-07-24T18:10:39.417Z"
   },
   {
    "duration": 63,
    "start_time": "2024-07-24T18:14:59.631Z"
   },
   {
    "duration": 63,
    "start_time": "2024-07-24T18:29:00.627Z"
   },
   {
    "duration": 135,
    "start_time": "2024-07-24T18:42:54.928Z"
   },
   {
    "duration": 62,
    "start_time": "2024-07-24T18:43:03.772Z"
   },
   {
    "duration": 97,
    "start_time": "2024-07-24T18:44:28.258Z"
   },
   {
    "duration": 57,
    "start_time": "2024-07-24T18:44:49.151Z"
   },
   {
    "duration": 58,
    "start_time": "2024-07-24T18:44:55.772Z"
   },
   {
    "duration": 62,
    "start_time": "2024-07-24T18:45:01.938Z"
   },
   {
    "duration": 29,
    "start_time": "2024-07-24T18:45:45.593Z"
   },
   {
    "duration": 14,
    "start_time": "2024-07-24T19:11:52.306Z"
   },
   {
    "duration": 48,
    "start_time": "2024-07-24T19:15:53.623Z"
   },
   {
    "duration": 49,
    "start_time": "2024-07-24T19:17:00.587Z"
   },
   {
    "duration": 46,
    "start_time": "2024-07-24T19:17:15.524Z"
   },
   {
    "duration": 41,
    "start_time": "2024-07-24T19:18:32.203Z"
   },
   {
    "duration": 67,
    "start_time": "2024-07-24T19:20:22.682Z"
   },
   {
    "duration": 41,
    "start_time": "2024-07-24T19:21:36.825Z"
   },
   {
    "duration": 46,
    "start_time": "2024-07-24T19:21:54.674Z"
   },
   {
    "duration": 47,
    "start_time": "2024-07-24T19:24:15.242Z"
   },
   {
    "duration": 49,
    "start_time": "2024-07-24T19:25:50.637Z"
   },
   {
    "duration": 5,
    "start_time": "2024-07-24T19:30:51.362Z"
   },
   {
    "duration": 65,
    "start_time": "2024-07-24T19:32:54.545Z"
   },
   {
    "duration": 5,
    "start_time": "2024-07-24T19:32:59.139Z"
   },
   {
    "duration": 4,
    "start_time": "2024-07-24T19:47:55.594Z"
   },
   {
    "duration": 9,
    "start_time": "2024-07-24T19:48:03.207Z"
   },
   {
    "duration": 8,
    "start_time": "2024-07-24T19:49:04.101Z"
   },
   {
    "duration": 7,
    "start_time": "2024-07-24T19:49:11.216Z"
   },
   {
    "duration": 8,
    "start_time": "2024-07-24T19:56:16.229Z"
   },
   {
    "duration": 8,
    "start_time": "2024-07-24T19:56:41.203Z"
   },
   {
    "duration": 7,
    "start_time": "2024-07-24T19:56:49.002Z"
   },
   {
    "duration": 7,
    "start_time": "2024-07-24T19:58:57.109Z"
   },
   {
    "duration": 7,
    "start_time": "2024-07-24T19:59:41.785Z"
   },
   {
    "duration": 7,
    "start_time": "2024-07-24T19:59:46.112Z"
   },
   {
    "duration": 11,
    "start_time": "2024-07-24T19:59:53.931Z"
   },
   {
    "duration": 8,
    "start_time": "2024-07-24T20:00:06.755Z"
   },
   {
    "duration": 11,
    "start_time": "2024-07-24T20:01:57.094Z"
   },
   {
    "duration": 7,
    "start_time": "2024-07-24T20:03:02.068Z"
   },
   {
    "duration": 8,
    "start_time": "2024-07-24T20:04:01.775Z"
   },
   {
    "duration": 719,
    "start_time": "2024-07-24T20:04:09.466Z"
   },
   {
    "duration": 202,
    "start_time": "2024-07-24T20:04:10.187Z"
   },
   {
    "duration": 36,
    "start_time": "2024-07-24T20:04:10.391Z"
   },
   {
    "duration": 8,
    "start_time": "2024-07-24T20:04:10.429Z"
   },
   {
    "duration": 47,
    "start_time": "2024-07-24T20:04:10.438Z"
   },
   {
    "duration": 10,
    "start_time": "2024-07-24T20:04:10.486Z"
   },
   {
    "duration": 94,
    "start_time": "2024-07-24T20:04:10.497Z"
   },
   {
    "duration": 179,
    "start_time": "2024-07-24T20:04:10.592Z"
   },
   {
    "duration": 25,
    "start_time": "2024-07-24T20:04:10.773Z"
   },
   {
    "duration": 27,
    "start_time": "2024-07-24T20:04:10.801Z"
   },
   {
    "duration": 31,
    "start_time": "2024-07-24T20:04:10.830Z"
   },
   {
    "duration": 23,
    "start_time": "2024-07-24T20:04:10.863Z"
   },
   {
    "duration": 3,
    "start_time": "2024-07-24T20:04:10.888Z"
   },
   {
    "duration": 32,
    "start_time": "2024-07-24T20:04:10.893Z"
   },
   {
    "duration": 4,
    "start_time": "2024-07-24T20:04:10.927Z"
   },
   {
    "duration": 85,
    "start_time": "2024-07-24T20:04:10.932Z"
   },
   {
    "duration": 401,
    "start_time": "2024-07-24T20:04:11.018Z"
   },
   {
    "duration": 11,
    "start_time": "2024-07-24T20:04:11.421Z"
   },
   {
    "duration": 161,
    "start_time": "2024-07-24T20:04:11.434Z"
   },
   {
    "duration": 10,
    "start_time": "2024-07-24T20:04:11.597Z"
   },
   {
    "duration": 3,
    "start_time": "2024-07-24T20:04:11.609Z"
   },
   {
    "duration": 69,
    "start_time": "2024-07-24T20:04:11.614Z"
   },
   {
    "duration": 23,
    "start_time": "2024-07-24T20:04:11.685Z"
   },
   {
    "duration": 39,
    "start_time": "2024-07-24T20:04:11.710Z"
   },
   {
    "duration": 89,
    "start_time": "2024-07-24T20:04:11.750Z"
   },
   {
    "duration": 84,
    "start_time": "2024-07-24T20:04:11.841Z"
   },
   {
    "duration": 63,
    "start_time": "2024-07-24T20:04:11.927Z"
   },
   {
    "duration": 4,
    "start_time": "2024-07-24T20:04:11.994Z"
   },
   {
    "duration": 9,
    "start_time": "2024-07-24T20:04:12.000Z"
   },
   {
    "duration": 7,
    "start_time": "2024-07-24T20:04:20.922Z"
   },
   {
    "duration": 64,
    "start_time": "2024-07-24T20:04:48.131Z"
   },
   {
    "duration": 80,
    "start_time": "2024-07-24T20:04:55.433Z"
   },
   {
    "duration": 8,
    "start_time": "2024-07-24T20:05:15.523Z"
   },
   {
    "duration": 182,
    "start_time": "2024-07-24T20:07:21.864Z"
   },
   {
    "duration": 234,
    "start_time": "2024-07-24T20:07:50.415Z"
   },
   {
    "duration": 205,
    "start_time": "2024-07-24T20:08:31.168Z"
   },
   {
    "duration": 15,
    "start_time": "2024-07-24T20:12:34.974Z"
   },
   {
    "duration": 484,
    "start_time": "2024-07-24T20:12:43.406Z"
   },
   {
    "duration": 187,
    "start_time": "2024-07-24T20:12:50.364Z"
   },
   {
    "duration": 235,
    "start_time": "2024-07-24T20:13:11.382Z"
   },
   {
    "duration": 177,
    "start_time": "2024-07-24T20:13:24.897Z"
   },
   {
    "duration": 214,
    "start_time": "2024-07-24T20:14:00.746Z"
   },
   {
    "duration": 175,
    "start_time": "2024-07-24T20:14:12.476Z"
   },
   {
    "duration": 55,
    "start_time": "2024-07-24T20:15:38.638Z"
   },
   {
    "duration": 156,
    "start_time": "2024-07-24T20:16:00.423Z"
   },
   {
    "duration": 171,
    "start_time": "2024-07-24T20:17:09.847Z"
   },
   {
    "duration": 176,
    "start_time": "2024-07-24T20:39:39.053Z"
   },
   {
    "duration": 181,
    "start_time": "2024-07-24T20:41:34.947Z"
   },
   {
    "duration": 12,
    "start_time": "2024-07-24T20:58:42.534Z"
   },
   {
    "duration": 14,
    "start_time": "2024-07-24T20:58:58.904Z"
   },
   {
    "duration": 10,
    "start_time": "2024-07-24T20:59:23.615Z"
   },
   {
    "duration": 9,
    "start_time": "2024-07-24T21:00:11.921Z"
   },
   {
    "duration": 10,
    "start_time": "2024-07-24T21:01:14.188Z"
   },
   {
    "duration": 1220,
    "start_time": "2024-07-24T21:07:40.606Z"
   },
   {
    "duration": 204,
    "start_time": "2024-07-24T21:07:41.828Z"
   },
   {
    "duration": 49,
    "start_time": "2024-07-24T21:07:42.034Z"
   },
   {
    "duration": 16,
    "start_time": "2024-07-24T21:07:42.085Z"
   },
   {
    "duration": 34,
    "start_time": "2024-07-24T21:07:42.103Z"
   },
   {
    "duration": 9,
    "start_time": "2024-07-24T21:07:42.139Z"
   },
   {
    "duration": 93,
    "start_time": "2024-07-24T21:07:42.150Z"
   },
   {
    "duration": 179,
    "start_time": "2024-07-24T21:07:42.245Z"
   },
   {
    "duration": 19,
    "start_time": "2024-07-24T21:07:42.426Z"
   },
   {
    "duration": 36,
    "start_time": "2024-07-24T21:07:42.448Z"
   },
   {
    "duration": 34,
    "start_time": "2024-07-24T21:07:42.486Z"
   },
   {
    "duration": 9,
    "start_time": "2024-07-24T21:07:42.522Z"
   },
   {
    "duration": 4,
    "start_time": "2024-07-24T21:07:42.533Z"
   },
   {
    "duration": 18,
    "start_time": "2024-07-24T21:07:42.538Z"
   },
   {
    "duration": 24,
    "start_time": "2024-07-24T21:07:42.559Z"
   },
   {
    "duration": 84,
    "start_time": "2024-07-24T21:07:42.585Z"
   },
   {
    "duration": 386,
    "start_time": "2024-07-24T21:07:42.671Z"
   },
   {
    "duration": 12,
    "start_time": "2024-07-24T21:07:43.059Z"
   },
   {
    "duration": 71,
    "start_time": "2024-07-24T21:07:43.083Z"
   },
   {
    "duration": 10,
    "start_time": "2024-07-24T21:07:43.156Z"
   },
   {
    "duration": 14,
    "start_time": "2024-07-24T21:07:43.168Z"
   },
   {
    "duration": 45,
    "start_time": "2024-07-24T21:07:43.183Z"
   },
   {
    "duration": 18,
    "start_time": "2024-07-24T21:07:43.229Z"
   },
   {
    "duration": 56,
    "start_time": "2024-07-24T21:07:43.248Z"
   },
   {
    "duration": 62,
    "start_time": "2024-07-24T21:07:43.306Z"
   },
   {
    "duration": 59,
    "start_time": "2024-07-24T21:07:43.381Z"
   },
   {
    "duration": 54,
    "start_time": "2024-07-24T21:07:43.442Z"
   },
   {
    "duration": 3,
    "start_time": "2024-07-24T21:07:43.499Z"
   },
   {
    "duration": 161,
    "start_time": "2024-07-24T21:07:43.504Z"
   },
   {
    "duration": 158,
    "start_time": "2024-07-24T21:07:43.667Z"
   },
   {
    "duration": 8,
    "start_time": "2024-07-24T21:07:43.827Z"
   },
   {
    "duration": 11,
    "start_time": "2024-07-24T21:14:41.273Z"
   },
   {
    "duration": 8,
    "start_time": "2024-07-24T21:16:48.036Z"
   },
   {
    "duration": 120,
    "start_time": "2024-07-24T21:19:30.612Z"
   },
   {
    "duration": 10,
    "start_time": "2024-07-24T21:19:37.354Z"
   },
   {
    "duration": 1348,
    "start_time": "2024-07-24T21:19:53.010Z"
   },
   {
    "duration": 190,
    "start_time": "2024-07-24T21:19:54.361Z"
   },
   {
    "duration": 47,
    "start_time": "2024-07-24T21:19:54.552Z"
   },
   {
    "duration": 7,
    "start_time": "2024-07-24T21:19:54.601Z"
   },
   {
    "duration": 44,
    "start_time": "2024-07-24T21:19:54.610Z"
   },
   {
    "duration": 17,
    "start_time": "2024-07-24T21:19:54.656Z"
   },
   {
    "duration": 102,
    "start_time": "2024-07-24T21:19:54.675Z"
   },
   {
    "duration": 173,
    "start_time": "2024-07-24T21:19:54.778Z"
   },
   {
    "duration": 33,
    "start_time": "2024-07-24T21:19:54.953Z"
   },
   {
    "duration": 31,
    "start_time": "2024-07-24T21:19:54.988Z"
   },
   {
    "duration": 31,
    "start_time": "2024-07-24T21:19:55.021Z"
   },
   {
    "duration": 16,
    "start_time": "2024-07-24T21:19:55.054Z"
   },
   {
    "duration": 9,
    "start_time": "2024-07-24T21:19:55.082Z"
   },
   {
    "duration": 6,
    "start_time": "2024-07-24T21:19:55.094Z"
   },
   {
    "duration": 26,
    "start_time": "2024-07-24T21:19:55.102Z"
   },
   {
    "duration": 105,
    "start_time": "2024-07-24T21:19:55.130Z"
   },
   {
    "duration": 403,
    "start_time": "2024-07-24T21:19:55.237Z"
   },
   {
    "duration": 12,
    "start_time": "2024-07-24T21:19:55.642Z"
   },
   {
    "duration": 101,
    "start_time": "2024-07-24T21:19:55.656Z"
   },
   {
    "duration": 47,
    "start_time": "2024-07-24T21:19:55.759Z"
   },
   {
    "duration": 28,
    "start_time": "2024-07-24T21:19:55.808Z"
   },
   {
    "duration": 72,
    "start_time": "2024-07-24T21:19:55.838Z"
   },
   {
    "duration": 19,
    "start_time": "2024-07-24T21:19:55.911Z"
   },
   {
    "duration": 38,
    "start_time": "2024-07-24T21:19:55.932Z"
   },
   {
    "duration": 65,
    "start_time": "2024-07-24T21:19:55.982Z"
   },
   {
    "duration": 73,
    "start_time": "2024-07-24T21:19:56.049Z"
   },
   {
    "duration": 58,
    "start_time": "2024-07-24T21:19:56.124Z"
   },
   {
    "duration": 4,
    "start_time": "2024-07-24T21:19:56.184Z"
   },
   {
    "duration": 156,
    "start_time": "2024-07-24T21:19:56.190Z"
   },
   {
    "duration": 169,
    "start_time": "2024-07-24T21:19:56.348Z"
   },
   {
    "duration": 10,
    "start_time": "2024-07-24T21:19:56.519Z"
   },
   {
    "duration": 118,
    "start_time": "2024-07-24T21:20:14.877Z"
   },
   {
    "duration": 1207,
    "start_time": "2024-07-24T21:20:21.613Z"
   },
   {
    "duration": 190,
    "start_time": "2024-07-24T21:20:22.822Z"
   },
   {
    "duration": 34,
    "start_time": "2024-07-24T21:20:23.014Z"
   },
   {
    "duration": 7,
    "start_time": "2024-07-24T21:20:23.050Z"
   },
   {
    "duration": 38,
    "start_time": "2024-07-24T21:20:23.059Z"
   },
   {
    "duration": 10,
    "start_time": "2024-07-24T21:20:23.098Z"
   },
   {
    "duration": 97,
    "start_time": "2024-07-24T21:20:23.109Z"
   },
   {
    "duration": 197,
    "start_time": "2024-07-24T21:20:23.208Z"
   },
   {
    "duration": 20,
    "start_time": "2024-07-24T21:20:23.407Z"
   },
   {
    "duration": 25,
    "start_time": "2024-07-24T21:20:23.430Z"
   },
   {
    "duration": 46,
    "start_time": "2024-07-24T21:20:23.457Z"
   },
   {
    "duration": 8,
    "start_time": "2024-07-24T21:20:23.505Z"
   },
   {
    "duration": 2,
    "start_time": "2024-07-24T21:20:23.516Z"
   },
   {
    "duration": 6,
    "start_time": "2024-07-24T21:20:23.520Z"
   },
   {
    "duration": 4,
    "start_time": "2024-07-24T21:20:23.528Z"
   },
   {
    "duration": 103,
    "start_time": "2024-07-24T21:20:23.533Z"
   },
   {
    "duration": 445,
    "start_time": "2024-07-24T21:20:23.637Z"
   },
   {
    "duration": 13,
    "start_time": "2024-07-24T21:20:24.084Z"
   },
   {
    "duration": 140,
    "start_time": "2024-07-24T21:20:24.099Z"
   },
   {
    "duration": 10,
    "start_time": "2024-07-24T21:20:24.241Z"
   },
   {
    "duration": 12,
    "start_time": "2024-07-24T21:20:24.253Z"
   },
   {
    "duration": 54,
    "start_time": "2024-07-24T21:20:24.266Z"
   },
   {
    "duration": 18,
    "start_time": "2024-07-24T21:20:24.322Z"
   },
   {
    "duration": 50,
    "start_time": "2024-07-24T21:20:24.342Z"
   },
   {
    "duration": 66,
    "start_time": "2024-07-24T21:20:24.394Z"
   },
   {
    "duration": 72,
    "start_time": "2024-07-24T21:20:24.462Z"
   },
   {
    "duration": 55,
    "start_time": "2024-07-24T21:20:24.536Z"
   },
   {
    "duration": 4,
    "start_time": "2024-07-24T21:20:24.595Z"
   },
   {
    "duration": 165,
    "start_time": "2024-07-24T21:20:24.600Z"
   },
   {
    "duration": 164,
    "start_time": "2024-07-24T21:20:24.767Z"
   },
   {
    "duration": 11,
    "start_time": "2024-07-24T21:20:24.932Z"
   },
   {
    "duration": 108,
    "start_time": "2024-07-24T21:22:00.048Z"
   },
   {
    "duration": 1219,
    "start_time": "2024-07-24T21:22:34.103Z"
   },
   {
    "duration": 193,
    "start_time": "2024-07-24T21:22:35.324Z"
   },
   {
    "duration": 36,
    "start_time": "2024-07-24T21:22:35.519Z"
   },
   {
    "duration": 25,
    "start_time": "2024-07-24T21:22:35.557Z"
   },
   {
    "duration": 32,
    "start_time": "2024-07-24T21:22:35.584Z"
   },
   {
    "duration": 25,
    "start_time": "2024-07-24T21:22:35.618Z"
   },
   {
    "duration": 158,
    "start_time": "2024-07-24T21:22:35.644Z"
   },
   {
    "duration": 204,
    "start_time": "2024-07-24T21:22:35.803Z"
   },
   {
    "duration": 20,
    "start_time": "2024-07-24T21:22:36.009Z"
   },
   {
    "duration": 46,
    "start_time": "2024-07-24T21:22:36.031Z"
   },
   {
    "duration": 30,
    "start_time": "2024-07-24T21:22:36.079Z"
   },
   {
    "duration": 66,
    "start_time": "2024-07-24T21:22:36.110Z"
   },
   {
    "duration": 3,
    "start_time": "2024-07-24T21:22:36.178Z"
   },
   {
    "duration": 16,
    "start_time": "2024-07-24T21:22:36.182Z"
   },
   {
    "duration": 4,
    "start_time": "2024-07-24T21:22:36.200Z"
   },
   {
    "duration": 60,
    "start_time": "2024-07-24T21:22:36.206Z"
   },
   {
    "duration": 397,
    "start_time": "2024-07-24T21:22:36.267Z"
   },
   {
    "duration": 18,
    "start_time": "2024-07-24T21:22:36.665Z"
   },
   {
    "duration": 62,
    "start_time": "2024-07-24T21:22:36.685Z"
   },
   {
    "duration": 10,
    "start_time": "2024-07-24T21:22:36.748Z"
   },
   {
    "duration": 24,
    "start_time": "2024-07-24T21:22:36.759Z"
   },
   {
    "duration": 40,
    "start_time": "2024-07-24T21:22:36.785Z"
   },
   {
    "duration": 18,
    "start_time": "2024-07-24T21:22:36.827Z"
   },
   {
    "duration": 64,
    "start_time": "2024-07-24T21:22:36.847Z"
   },
   {
    "duration": 79,
    "start_time": "2024-07-24T21:22:36.912Z"
   },
   {
    "duration": 58,
    "start_time": "2024-07-24T21:22:36.992Z"
   },
   {
    "duration": 59,
    "start_time": "2024-07-24T21:22:37.052Z"
   },
   {
    "duration": 3,
    "start_time": "2024-07-24T21:22:37.114Z"
   },
   {
    "duration": 172,
    "start_time": "2024-07-24T21:22:37.118Z"
   },
   {
    "duration": 175,
    "start_time": "2024-07-24T21:22:37.292Z"
   },
   {
    "duration": 126,
    "start_time": "2024-07-24T21:22:37.469Z"
   },
   {
    "duration": 903,
    "start_time": "2024-07-24T21:23:25.325Z"
   },
   {
    "duration": 1267,
    "start_time": "2024-07-24T21:23:33.349Z"
   },
   {
    "duration": 189,
    "start_time": "2024-07-24T21:23:34.618Z"
   },
   {
    "duration": 35,
    "start_time": "2024-07-24T21:23:34.809Z"
   },
   {
    "duration": 7,
    "start_time": "2024-07-24T21:23:34.846Z"
   },
   {
    "duration": 42,
    "start_time": "2024-07-24T21:23:34.855Z"
   },
   {
    "duration": 9,
    "start_time": "2024-07-24T21:23:34.899Z"
   },
   {
    "duration": 97,
    "start_time": "2024-07-24T21:23:34.909Z"
   },
   {
    "duration": 187,
    "start_time": "2024-07-24T21:23:35.007Z"
   },
   {
    "duration": 22,
    "start_time": "2024-07-24T21:23:35.196Z"
   },
   {
    "duration": 36,
    "start_time": "2024-07-24T21:23:35.220Z"
   },
   {
    "duration": 42,
    "start_time": "2024-07-24T21:23:35.258Z"
   },
   {
    "duration": 7,
    "start_time": "2024-07-24T21:23:35.301Z"
   },
   {
    "duration": 14,
    "start_time": "2024-07-24T21:23:35.309Z"
   },
   {
    "duration": 30,
    "start_time": "2024-07-24T21:23:35.326Z"
   },
   {
    "duration": 4,
    "start_time": "2024-07-24T21:23:35.358Z"
   },
   {
    "duration": 69,
    "start_time": "2024-07-24T21:23:35.363Z"
   },
   {
    "duration": 402,
    "start_time": "2024-07-24T21:23:35.433Z"
   },
   {
    "duration": 11,
    "start_time": "2024-07-24T21:23:35.837Z"
   },
   {
    "duration": 74,
    "start_time": "2024-07-24T21:23:35.850Z"
   },
   {
    "duration": 9,
    "start_time": "2024-07-24T21:23:35.926Z"
   },
   {
    "duration": 3,
    "start_time": "2024-07-24T21:23:35.937Z"
   },
   {
    "duration": 58,
    "start_time": "2024-07-24T21:23:35.942Z"
   },
   {
    "duration": 18,
    "start_time": "2024-07-24T21:23:36.001Z"
   },
   {
    "duration": 38,
    "start_time": "2024-07-24T21:23:36.021Z"
   },
   {
    "duration": 81,
    "start_time": "2024-07-24T21:23:36.061Z"
   },
   {
    "duration": 109,
    "start_time": "2024-07-24T21:23:36.144Z"
   },
   {
    "duration": 45,
    "start_time": "2024-07-24T21:23:36.255Z"
   },
   {
    "duration": 3,
    "start_time": "2024-07-24T21:23:36.302Z"
   },
   {
    "duration": 169,
    "start_time": "2024-07-24T21:23:36.307Z"
   },
   {
    "duration": 167,
    "start_time": "2024-07-24T21:23:36.477Z"
   },
   {
    "duration": 125,
    "start_time": "2024-07-24T21:23:36.645Z"
   },
   {
    "duration": 10,
    "start_time": "2024-07-24T21:23:51.594Z"
   },
   {
    "duration": 1274,
    "start_time": "2024-07-24T21:24:03.447Z"
   },
   {
    "duration": 189,
    "start_time": "2024-07-24T21:24:04.724Z"
   },
   {
    "duration": 36,
    "start_time": "2024-07-24T21:24:04.915Z"
   },
   {
    "duration": 7,
    "start_time": "2024-07-24T21:24:04.952Z"
   },
   {
    "duration": 44,
    "start_time": "2024-07-24T21:24:04.961Z"
   },
   {
    "duration": 10,
    "start_time": "2024-07-24T21:24:05.006Z"
   },
   {
    "duration": 127,
    "start_time": "2024-07-24T21:24:05.018Z"
   },
   {
    "duration": 184,
    "start_time": "2024-07-24T21:24:05.147Z"
   },
   {
    "duration": 19,
    "start_time": "2024-07-24T21:24:05.333Z"
   },
   {
    "duration": 39,
    "start_time": "2024-07-24T21:24:05.354Z"
   },
   {
    "duration": 31,
    "start_time": "2024-07-24T21:24:05.395Z"
   },
   {
    "duration": 6,
    "start_time": "2024-07-24T21:24:05.428Z"
   },
   {
    "duration": 20,
    "start_time": "2024-07-24T21:24:05.436Z"
   },
   {
    "duration": 29,
    "start_time": "2024-07-24T21:24:05.459Z"
   },
   {
    "duration": 18,
    "start_time": "2024-07-24T21:24:05.490Z"
   },
   {
    "duration": 65,
    "start_time": "2024-07-24T21:24:05.509Z"
   },
   {
    "duration": 426,
    "start_time": "2024-07-24T21:24:05.575Z"
   },
   {
    "duration": 13,
    "start_time": "2024-07-24T21:24:06.002Z"
   },
   {
    "duration": 76,
    "start_time": "2024-07-24T21:24:06.016Z"
   },
   {
    "duration": 9,
    "start_time": "2024-07-24T21:24:06.094Z"
   },
   {
    "duration": 56,
    "start_time": "2024-07-24T21:24:06.105Z"
   },
   {
    "duration": 53,
    "start_time": "2024-07-24T21:24:06.162Z"
   },
   {
    "duration": 18,
    "start_time": "2024-07-24T21:24:06.216Z"
   },
   {
    "duration": 51,
    "start_time": "2024-07-24T21:24:06.236Z"
   },
   {
    "duration": 65,
    "start_time": "2024-07-24T21:24:06.289Z"
   },
   {
    "duration": 74,
    "start_time": "2024-07-24T21:24:06.355Z"
   },
   {
    "duration": 57,
    "start_time": "2024-07-24T21:24:06.430Z"
   },
   {
    "duration": 4,
    "start_time": "2024-07-24T21:24:06.488Z"
   },
   {
    "duration": 159,
    "start_time": "2024-07-24T21:24:06.493Z"
   },
   {
    "duration": 174,
    "start_time": "2024-07-24T21:24:06.654Z"
   },
   {
    "duration": 12,
    "start_time": "2024-07-24T21:24:06.830Z"
   },
   {
    "duration": 1581,
    "start_time": "2024-07-25T14:45:55.010Z"
   },
   {
    "duration": 753,
    "start_time": "2024-07-25T14:45:56.593Z"
   },
   {
    "duration": 40,
    "start_time": "2024-07-25T14:45:57.348Z"
   },
   {
    "duration": 8,
    "start_time": "2024-07-25T14:45:57.390Z"
   },
   {
    "duration": 40,
    "start_time": "2024-07-25T14:45:57.400Z"
   },
   {
    "duration": 14,
    "start_time": "2024-07-25T14:45:57.442Z"
   },
   {
    "duration": 111,
    "start_time": "2024-07-25T14:45:57.458Z"
   },
   {
    "duration": 201,
    "start_time": "2024-07-25T14:45:57.570Z"
   },
   {
    "duration": 35,
    "start_time": "2024-07-25T14:45:57.772Z"
   },
   {
    "duration": 29,
    "start_time": "2024-07-25T14:45:57.813Z"
   },
   {
    "duration": 35,
    "start_time": "2024-07-25T14:45:57.844Z"
   },
   {
    "duration": 29,
    "start_time": "2024-07-25T14:45:57.881Z"
   },
   {
    "duration": 4,
    "start_time": "2024-07-25T14:45:57.914Z"
   },
   {
    "duration": 8,
    "start_time": "2024-07-25T14:45:57.921Z"
   },
   {
    "duration": 26,
    "start_time": "2024-07-25T14:45:57.930Z"
   },
   {
    "duration": 99,
    "start_time": "2024-07-25T14:45:57.958Z"
   },
   {
    "duration": 408,
    "start_time": "2024-07-25T14:45:58.060Z"
   },
   {
    "duration": 11,
    "start_time": "2024-07-25T14:45:58.470Z"
   },
   {
    "duration": 87,
    "start_time": "2024-07-25T14:45:58.483Z"
   },
   {
    "duration": 10,
    "start_time": "2024-07-25T14:45:58.572Z"
   },
   {
    "duration": 23,
    "start_time": "2024-07-25T14:45:58.585Z"
   },
   {
    "duration": 58,
    "start_time": "2024-07-25T14:45:58.610Z"
   },
   {
    "duration": 49,
    "start_time": "2024-07-25T14:45:58.669Z"
   },
   {
    "duration": 41,
    "start_time": "2024-07-25T14:45:58.721Z"
   },
   {
    "duration": 93,
    "start_time": "2024-07-25T14:45:58.763Z"
   },
   {
    "duration": 80,
    "start_time": "2024-07-25T14:45:58.858Z"
   },
   {
    "duration": 46,
    "start_time": "2024-07-25T14:45:58.939Z"
   },
   {
    "duration": 4,
    "start_time": "2024-07-25T14:45:58.988Z"
   },
   {
    "duration": 171,
    "start_time": "2024-07-25T14:45:59.007Z"
   },
   {
    "duration": 195,
    "start_time": "2024-07-25T14:45:59.180Z"
   },
   {
    "duration": 22,
    "start_time": "2024-07-25T14:45:59.377Z"
   },
   {
    "duration": 4,
    "start_time": "2024-07-25T14:50:09.428Z"
   },
   {
    "duration": 45,
    "start_time": "2024-07-25T14:52:08.194Z"
   },
   {
    "duration": 102,
    "start_time": "2024-07-25T15:41:06.668Z"
   },
   {
    "duration": 1239,
    "start_time": "2024-07-25T15:41:19.106Z"
   },
   {
    "duration": 193,
    "start_time": "2024-07-25T15:41:20.348Z"
   },
   {
    "duration": 38,
    "start_time": "2024-07-25T15:41:20.543Z"
   },
   {
    "duration": 25,
    "start_time": "2024-07-25T15:41:20.583Z"
   },
   {
    "duration": 33,
    "start_time": "2024-07-25T15:41:20.610Z"
   },
   {
    "duration": 10,
    "start_time": "2024-07-25T15:41:20.645Z"
   },
   {
    "duration": 173,
    "start_time": "2024-07-25T15:41:20.657Z"
   },
   {
    "duration": 195,
    "start_time": "2024-07-25T15:41:20.832Z"
   },
   {
    "duration": 20,
    "start_time": "2024-07-25T15:41:21.029Z"
   },
   {
    "duration": 60,
    "start_time": "2024-07-25T15:41:21.053Z"
   },
   {
    "duration": 31,
    "start_time": "2024-07-25T15:41:21.115Z"
   },
   {
    "duration": 7,
    "start_time": "2024-07-25T15:41:21.148Z"
   },
   {
    "duration": 4,
    "start_time": "2024-07-25T15:41:21.156Z"
   },
   {
    "duration": 10,
    "start_time": "2024-07-25T15:41:21.161Z"
   },
   {
    "duration": 10,
    "start_time": "2024-07-25T15:41:21.172Z"
   },
   {
    "duration": 65,
    "start_time": "2024-07-25T15:41:21.206Z"
   },
   {
    "duration": 390,
    "start_time": "2024-07-25T15:41:21.273Z"
   },
   {
    "duration": 12,
    "start_time": "2024-07-25T15:41:21.665Z"
   },
   {
    "duration": 79,
    "start_time": "2024-07-25T15:41:21.679Z"
   },
   {
    "duration": 9,
    "start_time": "2024-07-25T15:41:21.759Z"
   },
   {
    "duration": 3,
    "start_time": "2024-07-25T15:41:21.770Z"
   },
   {
    "duration": 61,
    "start_time": "2024-07-25T15:41:21.774Z"
   },
   {
    "duration": 73,
    "start_time": "2024-07-25T15:41:21.836Z"
   },
   {
    "duration": 57,
    "start_time": "2024-07-25T15:41:21.911Z"
   },
   {
    "duration": 58,
    "start_time": "2024-07-25T15:41:21.970Z"
   },
   {
    "duration": 4,
    "start_time": "2024-07-25T15:41:22.029Z"
   },
   {
    "duration": 164,
    "start_time": "2024-07-25T15:41:22.035Z"
   },
   {
    "duration": 168,
    "start_time": "2024-07-25T15:41:22.206Z"
   },
   {
    "duration": 11,
    "start_time": "2024-07-25T15:41:22.376Z"
   },
   {
    "duration": 60,
    "start_time": "2024-07-25T15:41:22.389Z"
   },
   {
    "duration": 19,
    "start_time": "2024-07-25T15:41:22.451Z"
   },
   {
    "duration": 68,
    "start_time": "2024-07-25T15:41:22.472Z"
   },
   {
    "duration": 19,
    "start_time": "2024-07-25T15:47:43.969Z"
   },
   {
    "duration": 41,
    "start_time": "2024-07-25T15:47:56.700Z"
   },
   {
    "duration": 26,
    "start_time": "2024-07-25T15:54:09.160Z"
   },
   {
    "duration": 14,
    "start_time": "2024-07-25T15:55:15.760Z"
   },
   {
    "duration": 26,
    "start_time": "2024-07-25T15:57:01.125Z"
   },
   {
    "duration": 142,
    "start_time": "2024-07-25T16:00:59.358Z"
   },
   {
    "duration": 51,
    "start_time": "2024-07-25T16:01:36.165Z"
   },
   {
    "duration": 48,
    "start_time": "2024-07-25T16:01:53.686Z"
   },
   {
    "duration": 52,
    "start_time": "2024-07-25T16:05:13.762Z"
   },
   {
    "duration": 50,
    "start_time": "2024-07-25T16:11:53.506Z"
   },
   {
    "duration": 46,
    "start_time": "2024-07-25T16:12:46.645Z"
   },
   {
    "duration": 45,
    "start_time": "2024-07-25T16:15:51.499Z"
   },
   {
    "duration": 51,
    "start_time": "2024-07-25T16:15:59.578Z"
   },
   {
    "duration": 86,
    "start_time": "2024-07-25T16:17:01.038Z"
   },
   {
    "duration": 1260,
    "start_time": "2024-07-25T16:17:22.015Z"
   },
   {
    "duration": 197,
    "start_time": "2024-07-25T16:17:23.277Z"
   },
   {
    "duration": 42,
    "start_time": "2024-07-25T16:17:23.476Z"
   },
   {
    "duration": 8,
    "start_time": "2024-07-25T16:17:23.520Z"
   },
   {
    "duration": 27,
    "start_time": "2024-07-25T16:17:23.529Z"
   },
   {
    "duration": 17,
    "start_time": "2024-07-25T16:17:23.558Z"
   },
   {
    "duration": 111,
    "start_time": "2024-07-25T16:17:23.577Z"
   },
   {
    "duration": 180,
    "start_time": "2024-07-25T16:17:23.689Z"
   },
   {
    "duration": 20,
    "start_time": "2024-07-25T16:17:23.871Z"
   },
   {
    "duration": 26,
    "start_time": "2024-07-25T16:17:23.904Z"
   },
   {
    "duration": 32,
    "start_time": "2024-07-25T16:17:23.932Z"
   },
   {
    "duration": 7,
    "start_time": "2024-07-25T16:17:23.966Z"
   },
   {
    "duration": 32,
    "start_time": "2024-07-25T16:17:23.974Z"
   },
   {
    "duration": 19,
    "start_time": "2024-07-25T16:17:24.007Z"
   },
   {
    "duration": 8,
    "start_time": "2024-07-25T16:17:24.027Z"
   },
   {
    "duration": 70,
    "start_time": "2024-07-25T16:17:24.037Z"
   },
   {
    "duration": 397,
    "start_time": "2024-07-25T16:17:24.109Z"
   },
   {
    "duration": 12,
    "start_time": "2024-07-25T16:17:24.508Z"
   },
   {
    "duration": 62,
    "start_time": "2024-07-25T16:17:24.522Z"
   },
   {
    "duration": 27,
    "start_time": "2024-07-25T16:17:24.585Z"
   },
   {
    "duration": 4,
    "start_time": "2024-07-25T16:17:24.614Z"
   },
   {
    "duration": 49,
    "start_time": "2024-07-25T16:17:24.619Z"
   },
   {
    "duration": 92,
    "start_time": "2024-07-25T16:17:24.670Z"
   },
   {
    "duration": 107,
    "start_time": "2024-07-25T16:17:24.764Z"
   },
   {
    "duration": 45,
    "start_time": "2024-07-25T16:17:24.873Z"
   },
   {
    "duration": 4,
    "start_time": "2024-07-25T16:17:24.919Z"
   },
   {
    "duration": 163,
    "start_time": "2024-07-25T16:17:24.925Z"
   },
   {
    "duration": 157,
    "start_time": "2024-07-25T16:17:25.091Z"
   },
   {
    "duration": 10,
    "start_time": "2024-07-25T16:17:25.250Z"
   },
   {
    "duration": 64,
    "start_time": "2024-07-25T16:17:25.262Z"
   },
   {
    "duration": 20,
    "start_time": "2024-07-25T16:17:25.328Z"
   },
   {
    "duration": 41,
    "start_time": "2024-07-25T16:17:25.350Z"
   },
   {
    "duration": 89,
    "start_time": "2024-07-25T16:17:25.405Z"
   },
   {
    "duration": 0,
    "start_time": "2024-07-25T16:17:25.495Z"
   },
   {
    "duration": 49,
    "start_time": "2024-07-25T16:17:35.676Z"
   },
   {
    "duration": 139,
    "start_time": "2024-07-25T16:19:36.444Z"
   },
   {
    "duration": 64,
    "start_time": "2024-07-25T16:21:59.497Z"
   },
   {
    "duration": 8,
    "start_time": "2024-07-25T16:32:37.089Z"
   },
   {
    "duration": 7,
    "start_time": "2024-07-25T16:33:20.822Z"
   },
   {
    "duration": 8,
    "start_time": "2024-07-25T16:33:30.453Z"
   },
   {
    "duration": 4,
    "start_time": "2024-07-25T16:33:36.717Z"
   },
   {
    "duration": 16,
    "start_time": "2024-07-25T16:42:30.719Z"
   },
   {
    "duration": 5,
    "start_time": "2024-07-25T16:42:37.921Z"
   },
   {
    "duration": 22,
    "start_time": "2024-07-25T16:42:38.854Z"
   },
   {
    "duration": 976,
    "start_time": "2024-07-25T16:45:01.054Z"
   },
   {
    "duration": 74,
    "start_time": "2024-07-25T16:46:02.770Z"
   },
   {
    "duration": 1023,
    "start_time": "2024-07-25T16:46:29.701Z"
   },
   {
    "duration": 21,
    "start_time": "2024-07-25T16:47:30.747Z"
   },
   {
    "duration": 21,
    "start_time": "2024-07-25T16:48:12.399Z"
   },
   {
    "duration": 1307,
    "start_time": "2024-07-25T16:48:18.343Z"
   },
   {
    "duration": 21,
    "start_time": "2024-07-25T16:48:29.103Z"
   },
   {
    "duration": 23,
    "start_time": "2024-07-25T16:48:50.024Z"
   },
   {
    "duration": 19,
    "start_time": "2024-07-25T16:49:18.647Z"
   },
   {
    "duration": 1543,
    "start_time": "2024-07-25T19:18:35.156Z"
   },
   {
    "duration": 711,
    "start_time": "2024-07-25T19:18:36.701Z"
   },
   {
    "duration": 37,
    "start_time": "2024-07-25T19:18:37.414Z"
   },
   {
    "duration": 7,
    "start_time": "2024-07-25T19:18:37.453Z"
   },
   {
    "duration": 24,
    "start_time": "2024-07-25T19:18:37.462Z"
   },
   {
    "duration": 10,
    "start_time": "2024-07-25T19:18:37.487Z"
   },
   {
    "duration": 111,
    "start_time": "2024-07-25T19:18:37.498Z"
   },
   {
    "duration": 191,
    "start_time": "2024-07-25T19:18:37.611Z"
   },
   {
    "duration": 19,
    "start_time": "2024-07-25T19:18:37.804Z"
   },
   {
    "duration": 39,
    "start_time": "2024-07-25T19:18:37.826Z"
   },
   {
    "duration": 42,
    "start_time": "2024-07-25T19:18:37.867Z"
   },
   {
    "duration": 9,
    "start_time": "2024-07-25T19:18:37.911Z"
   },
   {
    "duration": 15,
    "start_time": "2024-07-25T19:18:37.922Z"
   },
   {
    "duration": 20,
    "start_time": "2024-07-25T19:18:37.939Z"
   },
   {
    "duration": 11,
    "start_time": "2024-07-25T19:18:37.961Z"
   },
   {
    "duration": 83,
    "start_time": "2024-07-25T19:18:37.973Z"
   },
   {
    "duration": 400,
    "start_time": "2024-07-25T19:18:38.058Z"
   },
   {
    "duration": 12,
    "start_time": "2024-07-25T19:18:38.459Z"
   },
   {
    "duration": 82,
    "start_time": "2024-07-25T19:18:38.473Z"
   },
   {
    "duration": 12,
    "start_time": "2024-07-25T19:18:38.558Z"
   },
   {
    "duration": 5,
    "start_time": "2024-07-25T19:18:38.572Z"
   },
   {
    "duration": 78,
    "start_time": "2024-07-25T19:18:38.579Z"
   },
   {
    "duration": 67,
    "start_time": "2024-07-25T19:18:38.658Z"
   },
   {
    "duration": 69,
    "start_time": "2024-07-25T19:18:38.727Z"
   },
   {
    "duration": 58,
    "start_time": "2024-07-25T19:18:38.798Z"
   },
   {
    "duration": 4,
    "start_time": "2024-07-25T19:18:38.857Z"
   },
   {
    "duration": 159,
    "start_time": "2024-07-25T19:18:38.863Z"
   },
   {
    "duration": 168,
    "start_time": "2024-07-25T19:18:39.025Z"
   },
   {
    "duration": 12,
    "start_time": "2024-07-25T19:18:39.194Z"
   },
   {
    "duration": 54,
    "start_time": "2024-07-25T19:18:39.207Z"
   },
   {
    "duration": 18,
    "start_time": "2024-07-25T19:18:39.262Z"
   },
   {
    "duration": 70,
    "start_time": "2024-07-25T19:18:39.282Z"
   },
   {
    "duration": 50,
    "start_time": "2024-07-25T19:18:39.354Z"
   },
   {
    "duration": 5,
    "start_time": "2024-07-25T19:18:39.406Z"
   },
   {
    "duration": 51,
    "start_time": "2024-07-25T19:18:39.413Z"
   },
   {
    "duration": 5,
    "start_time": "2024-07-25T19:31:09.321Z"
   },
   {
    "duration": 78,
    "start_time": "2024-07-25T19:31:22.635Z"
   },
   {
    "duration": 70,
    "start_time": "2024-07-25T19:31:39.222Z"
   },
   {
    "duration": 5,
    "start_time": "2024-07-25T19:32:01.582Z"
   },
   {
    "duration": 166,
    "start_time": "2024-07-25T19:32:12.850Z"
   },
   {
    "duration": 1147,
    "start_time": "2024-07-25T19:32:32.834Z"
   },
   {
    "duration": 1299,
    "start_time": "2024-07-25T19:32:46.637Z"
   },
   {
    "duration": 196,
    "start_time": "2024-07-25T19:32:47.939Z"
   },
   {
    "duration": 47,
    "start_time": "2024-07-25T19:32:48.137Z"
   },
   {
    "duration": 19,
    "start_time": "2024-07-25T19:32:48.187Z"
   },
   {
    "duration": 26,
    "start_time": "2024-07-25T19:32:48.208Z"
   },
   {
    "duration": 27,
    "start_time": "2024-07-25T19:32:48.236Z"
   },
   {
    "duration": 95,
    "start_time": "2024-07-25T19:32:48.265Z"
   },
   {
    "duration": 187,
    "start_time": "2024-07-25T19:32:48.362Z"
   },
   {
    "duration": 26,
    "start_time": "2024-07-25T19:32:48.551Z"
   },
   {
    "duration": 105,
    "start_time": "2024-07-25T19:32:48.582Z"
   },
   {
    "duration": 33,
    "start_time": "2024-07-25T19:32:48.689Z"
   },
   {
    "duration": 66,
    "start_time": "2024-07-25T19:32:48.724Z"
   },
   {
    "duration": 15,
    "start_time": "2024-07-25T19:32:48.792Z"
   },
   {
    "duration": 27,
    "start_time": "2024-07-25T19:32:48.809Z"
   },
   {
    "duration": 51,
    "start_time": "2024-07-25T19:32:48.837Z"
   },
   {
    "duration": 92,
    "start_time": "2024-07-25T19:32:48.890Z"
   },
   {
    "duration": 430,
    "start_time": "2024-07-25T19:32:48.984Z"
   },
   {
    "duration": 15,
    "start_time": "2024-07-25T19:32:49.416Z"
   },
   {
    "duration": 82,
    "start_time": "2024-07-25T19:32:49.433Z"
   },
   {
    "duration": 10,
    "start_time": "2024-07-25T19:32:49.516Z"
   },
   {
    "duration": 13,
    "start_time": "2024-07-25T19:32:49.527Z"
   },
   {
    "duration": 48,
    "start_time": "2024-07-25T19:32:49.542Z"
   },
   {
    "duration": 82,
    "start_time": "2024-07-25T19:32:49.592Z"
   },
   {
    "duration": 59,
    "start_time": "2024-07-25T19:32:49.676Z"
   },
   {
    "duration": 59,
    "start_time": "2024-07-25T19:32:49.737Z"
   },
   {
    "duration": 4,
    "start_time": "2024-07-25T19:32:49.797Z"
   },
   {
    "duration": 1131,
    "start_time": "2024-07-25T19:32:49.803Z"
   },
   {
    "duration": 0,
    "start_time": "2024-07-25T19:32:50.936Z"
   },
   {
    "duration": 0,
    "start_time": "2024-07-25T19:32:50.938Z"
   },
   {
    "duration": 0,
    "start_time": "2024-07-25T19:32:50.939Z"
   },
   {
    "duration": 0,
    "start_time": "2024-07-25T19:32:50.940Z"
   },
   {
    "duration": 0,
    "start_time": "2024-07-25T19:32:50.941Z"
   },
   {
    "duration": 0,
    "start_time": "2024-07-25T19:32:50.943Z"
   },
   {
    "duration": 0,
    "start_time": "2024-07-25T19:32:50.944Z"
   },
   {
    "duration": 0,
    "start_time": "2024-07-25T19:32:50.945Z"
   },
   {
    "duration": 0,
    "start_time": "2024-07-25T19:32:50.946Z"
   },
   {
    "duration": 978,
    "start_time": "2024-07-25T19:33:40.713Z"
   },
   {
    "duration": 5,
    "start_time": "2024-07-25T19:34:08.871Z"
   },
   {
    "duration": 5,
    "start_time": "2024-07-25T19:34:34.307Z"
   },
   {
    "duration": 1216,
    "start_time": "2024-07-25T19:34:48.887Z"
   },
   {
    "duration": 194,
    "start_time": "2024-07-25T19:34:50.105Z"
   },
   {
    "duration": 60,
    "start_time": "2024-07-25T19:34:50.301Z"
   },
   {
    "duration": 9,
    "start_time": "2024-07-25T19:34:50.363Z"
   },
   {
    "duration": 46,
    "start_time": "2024-07-25T19:34:50.374Z"
   },
   {
    "duration": 18,
    "start_time": "2024-07-25T19:34:50.422Z"
   },
   {
    "duration": 119,
    "start_time": "2024-07-25T19:34:50.442Z"
   },
   {
    "duration": 178,
    "start_time": "2024-07-25T19:34:50.562Z"
   },
   {
    "duration": 23,
    "start_time": "2024-07-25T19:34:50.741Z"
   },
   {
    "duration": 46,
    "start_time": "2024-07-25T19:34:50.766Z"
   },
   {
    "duration": 65,
    "start_time": "2024-07-25T19:34:50.814Z"
   },
   {
    "duration": 9,
    "start_time": "2024-07-25T19:34:50.881Z"
   },
   {
    "duration": 25,
    "start_time": "2024-07-25T19:34:50.891Z"
   },
   {
    "duration": 17,
    "start_time": "2024-07-25T19:34:50.918Z"
   },
   {
    "duration": 43,
    "start_time": "2024-07-25T19:34:50.936Z"
   },
   {
    "duration": 100,
    "start_time": "2024-07-25T19:34:50.981Z"
   },
   {
    "duration": 433,
    "start_time": "2024-07-25T19:34:51.083Z"
   },
   {
    "duration": 12,
    "start_time": "2024-07-25T19:34:51.517Z"
   },
   {
    "duration": 80,
    "start_time": "2024-07-25T19:34:51.531Z"
   },
   {
    "duration": 10,
    "start_time": "2024-07-25T19:34:51.613Z"
   },
   {
    "duration": 56,
    "start_time": "2024-07-25T19:34:51.625Z"
   },
   {
    "duration": 61,
    "start_time": "2024-07-25T19:34:51.683Z"
   },
   {
    "duration": 77,
    "start_time": "2024-07-25T19:34:51.747Z"
   },
   {
    "duration": 75,
    "start_time": "2024-07-25T19:34:51.826Z"
   },
   {
    "duration": 42,
    "start_time": "2024-07-25T19:34:51.902Z"
   },
   {
    "duration": 11,
    "start_time": "2024-07-25T19:34:51.946Z"
   },
   {
    "duration": 178,
    "start_time": "2024-07-25T19:34:51.959Z"
   },
   {
    "duration": 158,
    "start_time": "2024-07-25T19:34:52.140Z"
   },
   {
    "duration": 10,
    "start_time": "2024-07-25T19:34:52.300Z"
   },
   {
    "duration": 57,
    "start_time": "2024-07-25T19:34:52.312Z"
   },
   {
    "duration": 17,
    "start_time": "2024-07-25T19:34:52.371Z"
   },
   {
    "duration": 42,
    "start_time": "2024-07-25T19:34:52.390Z"
   },
   {
    "duration": 67,
    "start_time": "2024-07-25T19:34:52.435Z"
   },
   {
    "duration": 5,
    "start_time": "2024-07-25T19:34:52.504Z"
   },
   {
    "duration": 49,
    "start_time": "2024-07-25T19:34:52.511Z"
   },
   {
    "duration": 79,
    "start_time": "2024-07-25T20:04:21.242Z"
   },
   {
    "duration": 111,
    "start_time": "2024-07-25T20:08:42.217Z"
   },
   {
    "duration": 1313,
    "start_time": "2024-07-25T20:09:07.308Z"
   },
   {
    "duration": 204,
    "start_time": "2024-07-25T20:09:08.623Z"
   },
   {
    "duration": 54,
    "start_time": "2024-07-25T20:09:08.828Z"
   },
   {
    "duration": 7,
    "start_time": "2024-07-25T20:09:08.885Z"
   },
   {
    "duration": 25,
    "start_time": "2024-07-25T20:09:08.894Z"
   },
   {
    "duration": 41,
    "start_time": "2024-07-25T20:09:08.921Z"
   },
   {
    "duration": 94,
    "start_time": "2024-07-25T20:09:08.966Z"
   },
   {
    "duration": 201,
    "start_time": "2024-07-25T20:09:09.065Z"
   },
   {
    "duration": 28,
    "start_time": "2024-07-25T20:09:09.268Z"
   },
   {
    "duration": 33,
    "start_time": "2024-07-25T20:09:09.299Z"
   },
   {
    "duration": 56,
    "start_time": "2024-07-25T20:09:09.335Z"
   },
   {
    "duration": 8,
    "start_time": "2024-07-25T20:09:09.393Z"
   },
   {
    "duration": 66,
    "start_time": "2024-07-25T20:09:09.403Z"
   },
   {
    "duration": 11,
    "start_time": "2024-07-25T20:09:09.472Z"
   },
   {
    "duration": 10,
    "start_time": "2024-07-25T20:09:09.485Z"
   },
   {
    "duration": 78,
    "start_time": "2024-07-25T20:09:09.497Z"
   },
   {
    "duration": 462,
    "start_time": "2024-07-25T20:09:09.577Z"
   },
   {
    "duration": 32,
    "start_time": "2024-07-25T20:09:10.041Z"
   },
   {
    "duration": 66,
    "start_time": "2024-07-25T20:09:10.079Z"
   },
   {
    "duration": 30,
    "start_time": "2024-07-25T20:09:10.147Z"
   },
   {
    "duration": 3,
    "start_time": "2024-07-25T20:09:10.179Z"
   },
   {
    "duration": 41,
    "start_time": "2024-07-25T20:09:10.184Z"
   },
   {
    "duration": 84,
    "start_time": "2024-07-25T20:09:10.227Z"
   },
   {
    "duration": 81,
    "start_time": "2024-07-25T20:09:10.313Z"
   },
   {
    "duration": 57,
    "start_time": "2024-07-25T20:09:10.396Z"
   },
   {
    "duration": 8,
    "start_time": "2024-07-25T20:09:10.454Z"
   },
   {
    "duration": 170,
    "start_time": "2024-07-25T20:09:10.463Z"
   },
   {
    "duration": 190,
    "start_time": "2024-07-25T20:09:10.637Z"
   },
   {
    "duration": 12,
    "start_time": "2024-07-25T20:09:10.829Z"
   },
   {
    "duration": 59,
    "start_time": "2024-07-25T20:09:10.843Z"
   },
   {
    "duration": 18,
    "start_time": "2024-07-25T20:09:10.904Z"
   },
   {
    "duration": 65,
    "start_time": "2024-07-25T20:09:10.924Z"
   },
   {
    "duration": 54,
    "start_time": "2024-07-25T20:09:10.991Z"
   },
   {
    "duration": 10,
    "start_time": "2024-07-25T20:09:11.054Z"
   },
   {
    "duration": 35,
    "start_time": "2024-07-25T20:09:11.066Z"
   },
   {
    "duration": 174,
    "start_time": "2024-07-25T20:09:11.102Z"
   },
   {
    "duration": 10,
    "start_time": "2024-07-25T20:09:59.098Z"
   },
   {
    "duration": 12,
    "start_time": "2024-07-25T20:10:08.364Z"
   },
   {
    "duration": 1317,
    "start_time": "2024-07-26T11:49:20.106Z"
   },
   {
    "duration": 917,
    "start_time": "2024-07-26T11:49:21.426Z"
   },
   {
    "duration": 34,
    "start_time": "2024-07-26T11:49:22.344Z"
   },
   {
    "duration": 7,
    "start_time": "2024-07-26T11:49:22.380Z"
   },
   {
    "duration": 23,
    "start_time": "2024-07-26T11:49:22.388Z"
   },
   {
    "duration": 59,
    "start_time": "2024-07-26T11:49:22.412Z"
   },
   {
    "duration": 98,
    "start_time": "2024-07-26T11:49:22.472Z"
   },
   {
    "duration": 161,
    "start_time": "2024-07-26T11:49:22.571Z"
   },
   {
    "duration": 19,
    "start_time": "2024-07-26T11:49:22.733Z"
   },
   {
    "duration": 33,
    "start_time": "2024-07-26T11:49:22.754Z"
   },
   {
    "duration": 30,
    "start_time": "2024-07-26T11:49:22.789Z"
   },
   {
    "duration": 8,
    "start_time": "2024-07-26T11:49:22.820Z"
   },
   {
    "duration": 4,
    "start_time": "2024-07-26T11:49:22.829Z"
   },
   {
    "duration": 13,
    "start_time": "2024-07-26T11:49:22.835Z"
   },
   {
    "duration": 36,
    "start_time": "2024-07-26T11:49:22.851Z"
   },
   {
    "duration": 58,
    "start_time": "2024-07-26T11:49:22.889Z"
   },
   {
    "duration": 371,
    "start_time": "2024-07-26T11:49:22.949Z"
   },
   {
    "duration": 11,
    "start_time": "2024-07-26T11:49:23.321Z"
   },
   {
    "duration": 73,
    "start_time": "2024-07-26T11:49:23.334Z"
   },
   {
    "duration": 9,
    "start_time": "2024-07-26T11:49:23.408Z"
   },
   {
    "duration": 3,
    "start_time": "2024-07-26T11:49:23.418Z"
   },
   {
    "duration": 37,
    "start_time": "2024-07-26T11:49:23.422Z"
   },
   {
    "duration": 84,
    "start_time": "2024-07-26T11:49:23.460Z"
   },
   {
    "duration": 71,
    "start_time": "2024-07-26T11:49:23.546Z"
   },
   {
    "duration": 41,
    "start_time": "2024-07-26T11:49:23.619Z"
   },
   {
    "duration": 3,
    "start_time": "2024-07-26T11:49:23.661Z"
   },
   {
    "duration": 162,
    "start_time": "2024-07-26T11:49:23.665Z"
   },
   {
    "duration": 155,
    "start_time": "2024-07-26T11:49:23.830Z"
   },
   {
    "duration": 10,
    "start_time": "2024-07-26T11:49:23.986Z"
   },
   {
    "duration": 45,
    "start_time": "2024-07-26T11:49:23.997Z"
   },
   {
    "duration": 17,
    "start_time": "2024-07-26T11:49:24.043Z"
   },
   {
    "duration": 66,
    "start_time": "2024-07-26T11:49:24.062Z"
   },
   {
    "duration": 66,
    "start_time": "2024-07-26T11:49:24.130Z"
   },
   {
    "duration": 4,
    "start_time": "2024-07-26T11:49:24.198Z"
   },
   {
    "duration": 31,
    "start_time": "2024-07-26T11:49:24.203Z"
   },
   {
    "duration": 12,
    "start_time": "2024-07-26T11:49:24.236Z"
   },
   {
    "duration": 974,
    "start_time": "2024-07-26T11:52:51.117Z"
   },
   {
    "duration": 90,
    "start_time": "2024-07-26T11:53:23.571Z"
   },
   {
    "duration": 22,
    "start_time": "2024-07-26T11:57:28.114Z"
   },
   {
    "duration": 29,
    "start_time": "2024-07-26T11:57:37.433Z"
   },
   {
    "duration": 32,
    "start_time": "2024-07-26T11:57:50.593Z"
   },
   {
    "duration": 61,
    "start_time": "2024-07-26T11:59:51.636Z"
   },
   {
    "duration": 34,
    "start_time": "2024-07-26T11:59:57.122Z"
   },
   {
    "duration": 47,
    "start_time": "2024-07-26T12:01:14.996Z"
   },
   {
    "duration": 5,
    "start_time": "2024-07-26T12:03:47.028Z"
   },
   {
    "duration": 4,
    "start_time": "2024-07-26T12:03:58.806Z"
   },
   {
    "duration": 8,
    "start_time": "2024-07-26T12:04:09.738Z"
   },
   {
    "duration": 46,
    "start_time": "2024-07-26T12:05:41.623Z"
   },
   {
    "duration": 5,
    "start_time": "2024-07-26T12:06:32.636Z"
   },
   {
    "duration": 22,
    "start_time": "2024-07-26T12:07:11.478Z"
   },
   {
    "duration": 9,
    "start_time": "2024-07-26T12:10:01.743Z"
   },
   {
    "duration": 25,
    "start_time": "2024-07-26T12:14:08.744Z"
   },
   {
    "duration": 9,
    "start_time": "2024-07-26T12:14:14.370Z"
   },
   {
    "duration": 48,
    "start_time": "2024-07-26T12:16:09.611Z"
   },
   {
    "duration": 944,
    "start_time": "2024-07-26T12:18:56.982Z"
   },
   {
    "duration": 1169,
    "start_time": "2024-07-26T12:19:15.426Z"
   },
   {
    "duration": 185,
    "start_time": "2024-07-26T12:19:16.597Z"
   },
   {
    "duration": 38,
    "start_time": "2024-07-26T12:19:16.783Z"
   },
   {
    "duration": 9,
    "start_time": "2024-07-26T12:19:16.822Z"
   },
   {
    "duration": 23,
    "start_time": "2024-07-26T12:19:16.834Z"
   },
   {
    "duration": 10,
    "start_time": "2024-07-26T12:19:16.884Z"
   },
   {
    "duration": 114,
    "start_time": "2024-07-26T12:19:16.895Z"
   },
   {
    "duration": 174,
    "start_time": "2024-07-26T12:19:17.011Z"
   },
   {
    "duration": 19,
    "start_time": "2024-07-26T12:19:17.187Z"
   },
   {
    "duration": 30,
    "start_time": "2024-07-26T12:19:17.207Z"
   },
   {
    "duration": 44,
    "start_time": "2024-07-26T12:19:17.239Z"
   },
   {
    "duration": 6,
    "start_time": "2024-07-26T12:19:17.284Z"
   },
   {
    "duration": 6,
    "start_time": "2024-07-26T12:19:17.292Z"
   },
   {
    "duration": 11,
    "start_time": "2024-07-26T12:19:17.301Z"
   },
   {
    "duration": 4,
    "start_time": "2024-07-26T12:19:17.313Z"
   },
   {
    "duration": 78,
    "start_time": "2024-07-26T12:19:17.318Z"
   },
   {
    "duration": 382,
    "start_time": "2024-07-26T12:19:17.398Z"
   },
   {
    "duration": 11,
    "start_time": "2024-07-26T12:19:17.785Z"
   },
   {
    "duration": 66,
    "start_time": "2024-07-26T12:19:17.797Z"
   },
   {
    "duration": 21,
    "start_time": "2024-07-26T12:19:17.864Z"
   },
   {
    "duration": 3,
    "start_time": "2024-07-26T12:19:17.887Z"
   },
   {
    "duration": 42,
    "start_time": "2024-07-26T12:19:17.892Z"
   },
   {
    "duration": 74,
    "start_time": "2024-07-26T12:19:17.936Z"
   },
   {
    "duration": 56,
    "start_time": "2024-07-26T12:19:18.012Z"
   },
   {
    "duration": 54,
    "start_time": "2024-07-26T12:19:18.070Z"
   },
   {
    "duration": 3,
    "start_time": "2024-07-26T12:19:18.126Z"
   },
   {
    "duration": 164,
    "start_time": "2024-07-26T12:19:18.131Z"
   },
   {
    "duration": 159,
    "start_time": "2024-07-26T12:19:18.297Z"
   },
   {
    "duration": 10,
    "start_time": "2024-07-26T12:19:18.458Z"
   },
   {
    "duration": 50,
    "start_time": "2024-07-26T12:19:18.470Z"
   },
   {
    "duration": 87,
    "start_time": "2024-07-26T12:19:18.522Z"
   },
   {
    "duration": 38,
    "start_time": "2024-07-26T12:19:18.610Z"
   },
   {
    "duration": 1074,
    "start_time": "2024-07-26T12:19:18.650Z"
   },
   {
    "duration": 0,
    "start_time": "2024-07-26T12:19:19.728Z"
   },
   {
    "duration": 0,
    "start_time": "2024-07-26T12:19:19.729Z"
   },
   {
    "duration": 942,
    "start_time": "2024-07-26T12:21:05.220Z"
   },
   {
    "duration": 47,
    "start_time": "2024-07-26T12:22:12.510Z"
   },
   {
    "duration": 52,
    "start_time": "2024-07-26T12:22:20.766Z"
   },
   {
    "duration": 24,
    "start_time": "2024-07-26T12:22:44.837Z"
   },
   {
    "duration": 8,
    "start_time": "2024-07-26T12:22:52.463Z"
   },
   {
    "duration": 7,
    "start_time": "2024-07-26T12:23:50.554Z"
   },
   {
    "duration": 9,
    "start_time": "2024-07-26T12:24:10.319Z"
   },
   {
    "duration": 3,
    "start_time": "2024-07-26T12:30:11.502Z"
   },
   {
    "duration": 61,
    "start_time": "2024-07-26T13:08:46.819Z"
   },
   {
    "duration": 107,
    "start_time": "2024-07-26T13:08:57.915Z"
   },
   {
    "duration": 83,
    "start_time": "2024-07-26T13:09:17.899Z"
   },
   {
    "duration": 84,
    "start_time": "2024-07-26T13:09:36.613Z"
   },
   {
    "duration": 85,
    "start_time": "2024-07-26T13:12:11.679Z"
   },
   {
    "duration": 83,
    "start_time": "2024-07-26T13:12:17.909Z"
   },
   {
    "duration": 50,
    "start_time": "2024-07-26T13:14:02.417Z"
   },
   {
    "duration": 93,
    "start_time": "2024-07-26T13:14:25.766Z"
   },
   {
    "duration": 87,
    "start_time": "2024-07-26T13:16:23.258Z"
   },
   {
    "duration": 87,
    "start_time": "2024-07-26T13:17:04.506Z"
   },
   {
    "duration": 84,
    "start_time": "2024-07-26T13:17:11.379Z"
   },
   {
    "duration": 85,
    "start_time": "2024-07-26T13:18:38.112Z"
   },
   {
    "duration": 32,
    "start_time": "2024-07-26T13:22:41.021Z"
   },
   {
    "duration": 91,
    "start_time": "2024-07-26T13:22:41.943Z"
   },
   {
    "duration": 1201,
    "start_time": "2024-07-26T13:22:50.556Z"
   },
   {
    "duration": 179,
    "start_time": "2024-07-26T13:22:51.760Z"
   },
   {
    "duration": 34,
    "start_time": "2024-07-26T13:22:51.940Z"
   },
   {
    "duration": 8,
    "start_time": "2024-07-26T13:22:51.984Z"
   },
   {
    "duration": 22,
    "start_time": "2024-07-26T13:22:51.994Z"
   },
   {
    "duration": 9,
    "start_time": "2024-07-26T13:22:52.018Z"
   },
   {
    "duration": 66,
    "start_time": "2024-07-26T13:22:52.028Z"
   },
   {
    "duration": 91,
    "start_time": "2024-07-26T13:22:52.096Z"
   },
   {
    "duration": 192,
    "start_time": "2024-07-26T13:22:52.189Z"
   },
   {
    "duration": 20,
    "start_time": "2024-07-26T13:22:52.382Z"
   },
   {
    "duration": 43,
    "start_time": "2024-07-26T13:22:52.404Z"
   },
   {
    "duration": 42,
    "start_time": "2024-07-26T13:22:52.448Z"
   },
   {
    "duration": 6,
    "start_time": "2024-07-26T13:22:52.492Z"
   },
   {
    "duration": 23,
    "start_time": "2024-07-26T13:22:52.501Z"
   },
   {
    "duration": 25,
    "start_time": "2024-07-26T13:22:52.525Z"
   },
   {
    "duration": 4,
    "start_time": "2024-07-26T13:22:52.551Z"
   },
   {
    "duration": 73,
    "start_time": "2024-07-26T13:22:52.557Z"
   },
   {
    "duration": 318,
    "start_time": "2024-07-26T13:22:52.632Z"
   },
   {
    "duration": 0,
    "start_time": "2024-07-26T13:22:52.952Z"
   },
   {
    "duration": 0,
    "start_time": "2024-07-26T13:22:52.953Z"
   },
   {
    "duration": 0,
    "start_time": "2024-07-26T13:22:52.954Z"
   },
   {
    "duration": 0,
    "start_time": "2024-07-26T13:22:52.955Z"
   },
   {
    "duration": 0,
    "start_time": "2024-07-26T13:22:52.956Z"
   },
   {
    "duration": 0,
    "start_time": "2024-07-26T13:22:52.957Z"
   },
   {
    "duration": 0,
    "start_time": "2024-07-26T13:22:52.958Z"
   },
   {
    "duration": 0,
    "start_time": "2024-07-26T13:22:52.959Z"
   },
   {
    "duration": 0,
    "start_time": "2024-07-26T13:22:52.960Z"
   },
   {
    "duration": 0,
    "start_time": "2024-07-26T13:22:52.962Z"
   },
   {
    "duration": 0,
    "start_time": "2024-07-26T13:22:52.962Z"
   },
   {
    "duration": 0,
    "start_time": "2024-07-26T13:22:52.964Z"
   },
   {
    "duration": 0,
    "start_time": "2024-07-26T13:22:52.964Z"
   },
   {
    "duration": 0,
    "start_time": "2024-07-26T13:22:52.965Z"
   },
   {
    "duration": 0,
    "start_time": "2024-07-26T13:22:52.966Z"
   },
   {
    "duration": 0,
    "start_time": "2024-07-26T13:22:52.967Z"
   },
   {
    "duration": 0,
    "start_time": "2024-07-26T13:22:52.968Z"
   },
   {
    "duration": 0,
    "start_time": "2024-07-26T13:22:52.969Z"
   },
   {
    "duration": 0,
    "start_time": "2024-07-26T13:22:52.970Z"
   },
   {
    "duration": 0,
    "start_time": "2024-07-26T13:22:52.971Z"
   },
   {
    "duration": 0,
    "start_time": "2024-07-26T13:22:52.972Z"
   },
   {
    "duration": 25,
    "start_time": "2024-07-26T13:23:10.284Z"
   },
   {
    "duration": 9,
    "start_time": "2024-07-26T13:23:10.741Z"
   },
   {
    "duration": 75,
    "start_time": "2024-07-26T13:23:14.853Z"
   },
   {
    "duration": 1146,
    "start_time": "2024-07-26T13:23:19.684Z"
   },
   {
    "duration": 186,
    "start_time": "2024-07-26T13:23:20.832Z"
   },
   {
    "duration": 35,
    "start_time": "2024-07-26T13:23:21.020Z"
   },
   {
    "duration": 8,
    "start_time": "2024-07-26T13:23:21.057Z"
   },
   {
    "duration": 40,
    "start_time": "2024-07-26T13:23:21.066Z"
   },
   {
    "duration": 41,
    "start_time": "2024-07-26T13:23:21.108Z"
   },
   {
    "duration": 10,
    "start_time": "2024-07-26T13:23:21.151Z"
   },
   {
    "duration": 112,
    "start_time": "2024-07-26T13:23:21.163Z"
   },
   {
    "duration": 200,
    "start_time": "2024-07-26T13:23:21.276Z"
   },
   {
    "duration": 24,
    "start_time": "2024-07-26T13:23:21.479Z"
   },
   {
    "duration": 44,
    "start_time": "2024-07-26T13:23:21.504Z"
   },
   {
    "duration": 39,
    "start_time": "2024-07-26T13:23:21.550Z"
   },
   {
    "duration": 7,
    "start_time": "2024-07-26T13:23:21.591Z"
   },
   {
    "duration": 23,
    "start_time": "2024-07-26T13:23:21.599Z"
   },
   {
    "duration": 23,
    "start_time": "2024-07-26T13:23:21.623Z"
   },
   {
    "duration": 12,
    "start_time": "2024-07-26T13:23:21.647Z"
   },
   {
    "duration": 72,
    "start_time": "2024-07-26T13:23:21.661Z"
   },
   {
    "duration": 345,
    "start_time": "2024-07-26T13:23:21.734Z"
   },
   {
    "duration": 0,
    "start_time": "2024-07-26T13:23:22.081Z"
   },
   {
    "duration": 0,
    "start_time": "2024-07-26T13:23:22.082Z"
   },
   {
    "duration": 0,
    "start_time": "2024-07-26T13:23:22.083Z"
   },
   {
    "duration": 0,
    "start_time": "2024-07-26T13:23:22.084Z"
   },
   {
    "duration": 0,
    "start_time": "2024-07-26T13:23:22.086Z"
   },
   {
    "duration": 0,
    "start_time": "2024-07-26T13:23:22.087Z"
   },
   {
    "duration": 0,
    "start_time": "2024-07-26T13:23:22.088Z"
   },
   {
    "duration": 0,
    "start_time": "2024-07-26T13:23:22.089Z"
   },
   {
    "duration": 0,
    "start_time": "2024-07-26T13:23:22.090Z"
   },
   {
    "duration": 0,
    "start_time": "2024-07-26T13:23:22.091Z"
   },
   {
    "duration": 0,
    "start_time": "2024-07-26T13:23:22.092Z"
   },
   {
    "duration": 0,
    "start_time": "2024-07-26T13:23:22.093Z"
   },
   {
    "duration": 0,
    "start_time": "2024-07-26T13:23:22.095Z"
   },
   {
    "duration": 0,
    "start_time": "2024-07-26T13:23:22.096Z"
   },
   {
    "duration": 0,
    "start_time": "2024-07-26T13:23:22.096Z"
   },
   {
    "duration": 0,
    "start_time": "2024-07-26T13:23:22.098Z"
   },
   {
    "duration": 0,
    "start_time": "2024-07-26T13:23:22.098Z"
   },
   {
    "duration": 0,
    "start_time": "2024-07-26T13:23:22.100Z"
   },
   {
    "duration": 0,
    "start_time": "2024-07-26T13:23:22.101Z"
   },
   {
    "duration": 0,
    "start_time": "2024-07-26T13:23:22.102Z"
   },
   {
    "duration": 0,
    "start_time": "2024-07-26T13:23:22.102Z"
   },
   {
    "duration": 11,
    "start_time": "2024-07-26T13:24:38.665Z"
   },
   {
    "duration": 10,
    "start_time": "2024-07-26T13:26:10.122Z"
   },
   {
    "duration": 1137,
    "start_time": "2024-07-26T13:26:24.270Z"
   },
   {
    "duration": 187,
    "start_time": "2024-07-26T13:26:25.409Z"
   },
   {
    "duration": 35,
    "start_time": "2024-07-26T13:26:25.597Z"
   },
   {
    "duration": 7,
    "start_time": "2024-07-26T13:26:25.634Z"
   },
   {
    "duration": 43,
    "start_time": "2024-07-26T13:26:25.642Z"
   },
   {
    "duration": 43,
    "start_time": "2024-07-26T13:26:25.687Z"
   },
   {
    "duration": 11,
    "start_time": "2024-07-26T13:26:25.732Z"
   },
   {
    "duration": 120,
    "start_time": "2024-07-26T13:26:25.745Z"
   },
   {
    "duration": 197,
    "start_time": "2024-07-26T13:26:25.867Z"
   },
   {
    "duration": 24,
    "start_time": "2024-07-26T13:26:26.066Z"
   },
   {
    "duration": 34,
    "start_time": "2024-07-26T13:26:26.092Z"
   },
   {
    "duration": 31,
    "start_time": "2024-07-26T13:26:26.128Z"
   },
   {
    "duration": 7,
    "start_time": "2024-07-26T13:26:26.185Z"
   },
   {
    "duration": 8,
    "start_time": "2024-07-26T13:26:26.193Z"
   },
   {
    "duration": 14,
    "start_time": "2024-07-26T13:26:26.202Z"
   },
   {
    "duration": 10,
    "start_time": "2024-07-26T13:26:26.217Z"
   },
   {
    "duration": 106,
    "start_time": "2024-07-26T13:26:26.228Z"
   },
   {
    "duration": 0,
    "start_time": "2024-07-26T13:26:26.336Z"
   },
   {
    "duration": 0,
    "start_time": "2024-07-26T13:26:26.337Z"
   },
   {
    "duration": 0,
    "start_time": "2024-07-26T13:26:26.338Z"
   },
   {
    "duration": 0,
    "start_time": "2024-07-26T13:26:26.340Z"
   },
   {
    "duration": 0,
    "start_time": "2024-07-26T13:26:26.341Z"
   },
   {
    "duration": 0,
    "start_time": "2024-07-26T13:26:26.342Z"
   },
   {
    "duration": 0,
    "start_time": "2024-07-26T13:26:26.343Z"
   },
   {
    "duration": 0,
    "start_time": "2024-07-26T13:26:26.343Z"
   },
   {
    "duration": 0,
    "start_time": "2024-07-26T13:26:26.344Z"
   },
   {
    "duration": 0,
    "start_time": "2024-07-26T13:26:26.345Z"
   },
   {
    "duration": 0,
    "start_time": "2024-07-26T13:26:26.346Z"
   },
   {
    "duration": 0,
    "start_time": "2024-07-26T13:26:26.347Z"
   },
   {
    "duration": 0,
    "start_time": "2024-07-26T13:26:26.348Z"
   },
   {
    "duration": 0,
    "start_time": "2024-07-26T13:26:26.349Z"
   },
   {
    "duration": 0,
    "start_time": "2024-07-26T13:26:26.350Z"
   },
   {
    "duration": 0,
    "start_time": "2024-07-26T13:26:26.351Z"
   },
   {
    "duration": 0,
    "start_time": "2024-07-26T13:26:26.352Z"
   },
   {
    "duration": 0,
    "start_time": "2024-07-26T13:26:26.353Z"
   },
   {
    "duration": 0,
    "start_time": "2024-07-26T13:26:26.354Z"
   },
   {
    "duration": 0,
    "start_time": "2024-07-26T13:26:26.355Z"
   },
   {
    "duration": 0,
    "start_time": "2024-07-26T13:26:26.385Z"
   },
   {
    "duration": 0,
    "start_time": "2024-07-26T13:26:26.386Z"
   },
   {
    "duration": 93,
    "start_time": "2024-07-26T13:27:42.850Z"
   },
   {
    "duration": 97,
    "start_time": "2024-07-26T13:28:03.792Z"
   },
   {
    "duration": 372,
    "start_time": "2024-07-26T13:29:11.590Z"
   },
   {
    "duration": 290,
    "start_time": "2024-07-26T13:29:30.333Z"
   },
   {
    "duration": 280,
    "start_time": "2024-07-26T13:29:39.096Z"
   },
   {
    "duration": 1107,
    "start_time": "2024-07-26T13:29:51.633Z"
   },
   {
    "duration": 189,
    "start_time": "2024-07-26T13:29:52.742Z"
   },
   {
    "duration": 52,
    "start_time": "2024-07-26T13:29:52.933Z"
   },
   {
    "duration": 7,
    "start_time": "2024-07-26T13:29:52.988Z"
   },
   {
    "duration": 51,
    "start_time": "2024-07-26T13:29:52.997Z"
   },
   {
    "duration": 59,
    "start_time": "2024-07-26T13:29:53.049Z"
   },
   {
    "duration": 9,
    "start_time": "2024-07-26T13:29:53.109Z"
   },
   {
    "duration": 121,
    "start_time": "2024-07-26T13:29:53.119Z"
   },
   {
    "duration": 195,
    "start_time": "2024-07-26T13:29:53.242Z"
   },
   {
    "duration": 20,
    "start_time": "2024-07-26T13:29:53.440Z"
   },
   {
    "duration": 53,
    "start_time": "2024-07-26T13:29:53.461Z"
   },
   {
    "duration": 31,
    "start_time": "2024-07-26T13:29:53.516Z"
   },
   {
    "duration": 21,
    "start_time": "2024-07-26T13:29:53.549Z"
   },
   {
    "duration": 14,
    "start_time": "2024-07-26T13:29:53.571Z"
   },
   {
    "duration": 40,
    "start_time": "2024-07-26T13:29:53.587Z"
   },
   {
    "duration": 30,
    "start_time": "2024-07-26T13:29:53.629Z"
   },
   {
    "duration": 136,
    "start_time": "2024-07-26T13:29:53.661Z"
   },
   {
    "duration": 959,
    "start_time": "2024-07-26T13:29:53.798Z"
   },
   {
    "duration": 0,
    "start_time": "2024-07-26T13:29:54.759Z"
   },
   {
    "duration": 0,
    "start_time": "2024-07-26T13:29:54.760Z"
   },
   {
    "duration": 0,
    "start_time": "2024-07-26T13:29:54.761Z"
   },
   {
    "duration": 0,
    "start_time": "2024-07-26T13:29:54.762Z"
   },
   {
    "duration": 0,
    "start_time": "2024-07-26T13:29:54.763Z"
   },
   {
    "duration": 0,
    "start_time": "2024-07-26T13:29:54.764Z"
   },
   {
    "duration": 0,
    "start_time": "2024-07-26T13:29:54.765Z"
   },
   {
    "duration": 0,
    "start_time": "2024-07-26T13:29:54.767Z"
   },
   {
    "duration": 0,
    "start_time": "2024-07-26T13:29:54.768Z"
   },
   {
    "duration": 0,
    "start_time": "2024-07-26T13:29:54.768Z"
   },
   {
    "duration": 0,
    "start_time": "2024-07-26T13:29:54.770Z"
   },
   {
    "duration": 0,
    "start_time": "2024-07-26T13:29:54.771Z"
   },
   {
    "duration": 0,
    "start_time": "2024-07-26T13:29:54.772Z"
   },
   {
    "duration": 0,
    "start_time": "2024-07-26T13:29:54.773Z"
   },
   {
    "duration": 0,
    "start_time": "2024-07-26T13:29:54.774Z"
   },
   {
    "duration": 0,
    "start_time": "2024-07-26T13:29:54.775Z"
   },
   {
    "duration": 0,
    "start_time": "2024-07-26T13:29:54.776Z"
   },
   {
    "duration": 0,
    "start_time": "2024-07-26T13:29:54.777Z"
   },
   {
    "duration": 0,
    "start_time": "2024-07-26T13:29:54.778Z"
   },
   {
    "duration": 0,
    "start_time": "2024-07-26T13:29:54.779Z"
   },
   {
    "duration": 0,
    "start_time": "2024-07-26T13:29:54.780Z"
   },
   {
    "duration": 389,
    "start_time": "2024-07-26T13:30:30.797Z"
   },
   {
    "duration": 1172,
    "start_time": "2024-07-26T13:30:45.017Z"
   },
   {
    "duration": 188,
    "start_time": "2024-07-26T13:30:46.191Z"
   },
   {
    "duration": 38,
    "start_time": "2024-07-26T13:30:46.383Z"
   },
   {
    "duration": 8,
    "start_time": "2024-07-26T13:30:46.423Z"
   },
   {
    "duration": 54,
    "start_time": "2024-07-26T13:30:46.433Z"
   },
   {
    "duration": 44,
    "start_time": "2024-07-26T13:30:46.488Z"
   },
   {
    "duration": 11,
    "start_time": "2024-07-26T13:30:46.534Z"
   },
   {
    "duration": 113,
    "start_time": "2024-07-26T13:30:46.546Z"
   },
   {
    "duration": 201,
    "start_time": "2024-07-26T13:30:46.662Z"
   },
   {
    "duration": 29,
    "start_time": "2024-07-26T13:30:46.865Z"
   },
   {
    "duration": 35,
    "start_time": "2024-07-26T13:30:46.896Z"
   },
   {
    "duration": 52,
    "start_time": "2024-07-26T13:30:46.933Z"
   },
   {
    "duration": 7,
    "start_time": "2024-07-26T13:30:46.986Z"
   },
   {
    "duration": 5,
    "start_time": "2024-07-26T13:30:46.995Z"
   },
   {
    "duration": 11,
    "start_time": "2024-07-26T13:30:47.001Z"
   },
   {
    "duration": 21,
    "start_time": "2024-07-26T13:30:47.014Z"
   },
   {
    "duration": 110,
    "start_time": "2024-07-26T13:30:47.037Z"
   },
   {
    "duration": 378,
    "start_time": "2024-07-26T13:30:47.149Z"
   },
   {
    "duration": 10,
    "start_time": "2024-07-26T13:30:47.528Z"
   },
   {
    "duration": 74,
    "start_time": "2024-07-26T13:30:47.540Z"
   },
   {
    "duration": 7,
    "start_time": "2024-07-26T13:30:47.616Z"
   },
   {
    "duration": 15,
    "start_time": "2024-07-26T13:30:47.625Z"
   },
   {
    "duration": 55,
    "start_time": "2024-07-26T13:30:47.642Z"
   },
   {
    "duration": 66,
    "start_time": "2024-07-26T13:30:47.699Z"
   },
   {
    "duration": 72,
    "start_time": "2024-07-26T13:30:47.767Z"
   },
   {
    "duration": 58,
    "start_time": "2024-07-26T13:30:47.841Z"
   },
   {
    "duration": 3,
    "start_time": "2024-07-26T13:30:47.904Z"
   },
   {
    "duration": 227,
    "start_time": "2024-07-26T13:30:47.909Z"
   },
   {
    "duration": 163,
    "start_time": "2024-07-26T13:30:48.138Z"
   },
   {
    "duration": 11,
    "start_time": "2024-07-26T13:30:48.303Z"
   },
   {
    "duration": 49,
    "start_time": "2024-07-26T13:30:48.315Z"
   },
   {
    "duration": 88,
    "start_time": "2024-07-26T13:30:48.385Z"
   },
   {
    "duration": 16,
    "start_time": "2024-07-26T13:30:48.486Z"
   },
   {
    "duration": 101,
    "start_time": "2024-07-26T13:30:48.504Z"
   },
   {
    "duration": 119,
    "start_time": "2024-07-26T13:30:48.607Z"
   },
   {
    "duration": 0,
    "start_time": "2024-07-26T13:30:48.728Z"
   },
   {
    "duration": 0,
    "start_time": "2024-07-26T13:30:48.729Z"
   },
   {
    "duration": 0,
    "start_time": "2024-07-26T13:30:48.730Z"
   },
   {
    "duration": 0,
    "start_time": "2024-07-26T13:30:48.731Z"
   },
   {
    "duration": 10,
    "start_time": "2024-07-26T13:35:42.161Z"
   },
   {
    "duration": 98,
    "start_time": "2024-07-26T13:35:57.070Z"
   },
   {
    "duration": 41,
    "start_time": "2024-07-26T13:36:07.373Z"
   },
   {
    "duration": 91,
    "start_time": "2024-07-26T13:36:35.299Z"
   },
   {
    "duration": 94,
    "start_time": "2024-07-26T13:37:41.998Z"
   },
   {
    "duration": 96,
    "start_time": "2024-07-26T13:37:56.619Z"
   },
   {
    "duration": 94,
    "start_time": "2024-07-26T13:38:13.937Z"
   },
   {
    "duration": 107,
    "start_time": "2024-07-26T13:38:32.351Z"
   },
   {
    "duration": 4,
    "start_time": "2024-07-26T13:40:44.440Z"
   },
   {
    "duration": 9,
    "start_time": "2024-07-26T13:40:54.155Z"
   },
   {
    "duration": 3,
    "start_time": "2024-07-26T13:43:06.199Z"
   },
   {
    "duration": 5,
    "start_time": "2024-07-26T13:43:48.762Z"
   },
   {
    "duration": 5,
    "start_time": "2024-07-26T13:44:44.349Z"
   },
   {
    "duration": 13,
    "start_time": "2024-07-26T13:44:51.121Z"
   },
   {
    "duration": 14,
    "start_time": "2024-07-26T13:46:36.927Z"
   },
   {
    "duration": 11,
    "start_time": "2024-07-26T13:46:40.901Z"
   },
   {
    "duration": 51,
    "start_time": "2024-07-26T13:54:23.721Z"
   },
   {
    "duration": 887,
    "start_time": "2024-07-26T13:54:57.655Z"
   },
   {
    "duration": 20,
    "start_time": "2024-07-26T13:55:12.868Z"
   },
   {
    "duration": 1118,
    "start_time": "2024-07-26T13:55:33.410Z"
   },
   {
    "duration": 170,
    "start_time": "2024-07-26T13:55:34.530Z"
   },
   {
    "duration": 32,
    "start_time": "2024-07-26T13:55:34.701Z"
   },
   {
    "duration": 7,
    "start_time": "2024-07-26T13:55:34.735Z"
   },
   {
    "duration": 70,
    "start_time": "2024-07-26T13:55:34.743Z"
   },
   {
    "duration": 41,
    "start_time": "2024-07-26T13:55:34.814Z"
   },
   {
    "duration": 9,
    "start_time": "2024-07-26T13:55:34.857Z"
   },
   {
    "duration": 101,
    "start_time": "2024-07-26T13:55:34.867Z"
   },
   {
    "duration": 184,
    "start_time": "2024-07-26T13:55:34.970Z"
   },
   {
    "duration": 18,
    "start_time": "2024-07-26T13:55:35.157Z"
   },
   {
    "duration": 31,
    "start_time": "2024-07-26T13:55:35.185Z"
   },
   {
    "duration": 29,
    "start_time": "2024-07-26T13:55:35.217Z"
   },
   {
    "duration": 6,
    "start_time": "2024-07-26T13:55:35.248Z"
   },
   {
    "duration": 3,
    "start_time": "2024-07-26T13:55:35.255Z"
   },
   {
    "duration": 5,
    "start_time": "2024-07-26T13:55:35.285Z"
   },
   {
    "duration": 15,
    "start_time": "2024-07-26T13:55:35.291Z"
   },
   {
    "duration": 95,
    "start_time": "2024-07-26T13:55:35.307Z"
   },
   {
    "duration": 360,
    "start_time": "2024-07-26T13:55:35.403Z"
   },
   {
    "duration": 10,
    "start_time": "2024-07-26T13:55:35.765Z"
   },
   {
    "duration": 66,
    "start_time": "2024-07-26T13:55:35.785Z"
   },
   {
    "duration": 7,
    "start_time": "2024-07-26T13:55:35.853Z"
   },
   {
    "duration": 7,
    "start_time": "2024-07-26T13:55:35.861Z"
   },
   {
    "duration": 43,
    "start_time": "2024-07-26T13:55:35.885Z"
   },
   {
    "duration": 73,
    "start_time": "2024-07-26T13:55:35.930Z"
   },
   {
    "duration": 53,
    "start_time": "2024-07-26T13:55:36.005Z"
   },
   {
    "duration": 51,
    "start_time": "2024-07-26T13:55:36.059Z"
   },
   {
    "duration": 3,
    "start_time": "2024-07-26T13:55:36.111Z"
   },
   {
    "duration": 152,
    "start_time": "2024-07-26T13:55:36.117Z"
   },
   {
    "duration": 148,
    "start_time": "2024-07-26T13:55:36.270Z"
   },
   {
    "duration": 9,
    "start_time": "2024-07-26T13:55:36.419Z"
   },
   {
    "duration": 56,
    "start_time": "2024-07-26T13:55:36.430Z"
   },
   {
    "duration": 100,
    "start_time": "2024-07-26T13:55:36.488Z"
   },
   {
    "duration": 37,
    "start_time": "2024-07-26T13:55:36.590Z"
   },
   {
    "duration": 108,
    "start_time": "2024-07-26T13:55:36.629Z"
   },
   {
    "duration": 10,
    "start_time": "2024-07-26T13:55:36.739Z"
   },
   {
    "duration": 19,
    "start_time": "2024-07-26T13:55:36.751Z"
   },
   {
    "duration": 139,
    "start_time": "2024-07-26T13:55:36.785Z"
   },
   {
    "duration": 0,
    "start_time": "2024-07-26T13:55:36.926Z"
   },
   {
    "duration": 0,
    "start_time": "2024-07-26T13:55:36.927Z"
   },
   {
    "duration": 0,
    "start_time": "2024-07-26T13:55:36.928Z"
   },
   {
    "duration": 11,
    "start_time": "2024-07-26T13:57:13.456Z"
   },
   {
    "duration": 1120,
    "start_time": "2024-07-26T13:57:26.681Z"
   },
   {
    "duration": 180,
    "start_time": "2024-07-26T13:57:27.803Z"
   },
   {
    "duration": 37,
    "start_time": "2024-07-26T13:57:27.985Z"
   },
   {
    "duration": 8,
    "start_time": "2024-07-26T13:57:28.024Z"
   },
   {
    "duration": 24,
    "start_time": "2024-07-26T13:57:28.033Z"
   },
   {
    "duration": 68,
    "start_time": "2024-07-26T13:57:28.059Z"
   },
   {
    "duration": 9,
    "start_time": "2024-07-26T13:57:28.129Z"
   },
   {
    "duration": 108,
    "start_time": "2024-07-26T13:57:28.140Z"
   },
   {
    "duration": 186,
    "start_time": "2024-07-26T13:57:28.250Z"
   },
   {
    "duration": 18,
    "start_time": "2024-07-26T13:57:28.438Z"
   },
   {
    "duration": 42,
    "start_time": "2024-07-26T13:57:28.457Z"
   },
   {
    "duration": 28,
    "start_time": "2024-07-26T13:57:28.501Z"
   },
   {
    "duration": 6,
    "start_time": "2024-07-26T13:57:28.530Z"
   },
   {
    "duration": 5,
    "start_time": "2024-07-26T13:57:28.538Z"
   },
   {
    "duration": 11,
    "start_time": "2024-07-26T13:57:28.544Z"
   },
   {
    "duration": 28,
    "start_time": "2024-07-26T13:57:28.557Z"
   },
   {
    "duration": 102,
    "start_time": "2024-07-26T13:57:28.587Z"
   },
   {
    "duration": 372,
    "start_time": "2024-07-26T13:57:28.691Z"
   },
   {
    "duration": 21,
    "start_time": "2024-07-26T13:57:29.064Z"
   },
   {
    "duration": 61,
    "start_time": "2024-07-26T13:57:29.087Z"
   },
   {
    "duration": 7,
    "start_time": "2024-07-26T13:57:29.150Z"
   },
   {
    "duration": 5,
    "start_time": "2024-07-26T13:57:29.159Z"
   },
   {
    "duration": 48,
    "start_time": "2024-07-26T13:57:29.185Z"
   },
   {
    "duration": 80,
    "start_time": "2024-07-26T13:57:29.234Z"
   },
   {
    "duration": 58,
    "start_time": "2024-07-26T13:57:29.315Z"
   },
   {
    "duration": 50,
    "start_time": "2024-07-26T13:57:29.374Z"
   },
   {
    "duration": 4,
    "start_time": "2024-07-26T13:57:29.426Z"
   },
   {
    "duration": 169,
    "start_time": "2024-07-26T13:57:29.433Z"
   },
   {
    "duration": 156,
    "start_time": "2024-07-26T13:57:29.603Z"
   },
   {
    "duration": 10,
    "start_time": "2024-07-26T13:57:29.760Z"
   },
   {
    "duration": 61,
    "start_time": "2024-07-26T13:57:29.771Z"
   },
   {
    "duration": 108,
    "start_time": "2024-07-26T13:57:29.833Z"
   },
   {
    "duration": 47,
    "start_time": "2024-07-26T13:57:29.943Z"
   },
   {
    "duration": 106,
    "start_time": "2024-07-26T13:57:29.991Z"
   },
   {
    "duration": 13,
    "start_time": "2024-07-26T13:57:30.098Z"
   },
   {
    "duration": 68,
    "start_time": "2024-07-26T13:57:30.112Z"
   },
   {
    "duration": 180,
    "start_time": "2024-07-26T13:57:30.182Z"
   },
   {
    "duration": 0,
    "start_time": "2024-07-26T13:57:30.363Z"
   },
   {
    "duration": 0,
    "start_time": "2024-07-26T13:57:30.365Z"
   },
   {
    "duration": 0,
    "start_time": "2024-07-26T13:57:30.366Z"
   },
   {
    "duration": 471,
    "start_time": "2024-07-26T14:00:17.810Z"
   },
   {
    "duration": 22,
    "start_time": "2024-07-26T14:03:06.512Z"
   },
   {
    "duration": 9,
    "start_time": "2024-07-26T14:03:40.910Z"
   },
   {
    "duration": 14,
    "start_time": "2024-07-26T14:04:01.098Z"
   },
   {
    "duration": 17,
    "start_time": "2024-07-26T14:04:20.492Z"
   },
   {
    "duration": 20,
    "start_time": "2024-07-26T14:04:57.871Z"
   },
   {
    "duration": 20,
    "start_time": "2024-07-26T14:07:37.004Z"
   },
   {
    "duration": 19,
    "start_time": "2024-07-26T14:08:00.185Z"
   },
   {
    "duration": 22,
    "start_time": "2024-07-26T15:18:53.580Z"
   },
   {
    "duration": 18,
    "start_time": "2024-07-26T15:19:35.581Z"
   },
   {
    "duration": 23,
    "start_time": "2024-07-26T15:20:34.498Z"
   },
   {
    "duration": 19,
    "start_time": "2024-07-26T15:21:54.022Z"
   },
   {
    "duration": 19,
    "start_time": "2024-07-26T15:25:50.500Z"
   },
   {
    "duration": 1148,
    "start_time": "2024-07-26T15:26:57.778Z"
   },
   {
    "duration": 192,
    "start_time": "2024-07-26T15:26:58.928Z"
   },
   {
    "duration": 34,
    "start_time": "2024-07-26T15:26:59.122Z"
   },
   {
    "duration": 6,
    "start_time": "2024-07-26T15:26:59.158Z"
   },
   {
    "duration": 37,
    "start_time": "2024-07-26T15:26:59.166Z"
   },
   {
    "duration": 42,
    "start_time": "2024-07-26T15:26:59.205Z"
   },
   {
    "duration": 9,
    "start_time": "2024-07-26T15:26:59.248Z"
   },
   {
    "duration": 109,
    "start_time": "2024-07-26T15:26:59.259Z"
   },
   {
    "duration": 196,
    "start_time": "2024-07-26T15:26:59.370Z"
   },
   {
    "duration": 24,
    "start_time": "2024-07-26T15:26:59.568Z"
   },
   {
    "duration": 33,
    "start_time": "2024-07-26T15:26:59.594Z"
   },
   {
    "duration": 31,
    "start_time": "2024-07-26T15:26:59.629Z"
   },
   {
    "duration": 8,
    "start_time": "2024-07-26T15:26:59.685Z"
   },
   {
    "duration": 3,
    "start_time": "2024-07-26T15:26:59.697Z"
   },
   {
    "duration": 6,
    "start_time": "2024-07-26T15:26:59.702Z"
   },
   {
    "duration": 4,
    "start_time": "2024-07-26T15:26:59.710Z"
   },
   {
    "duration": 127,
    "start_time": "2024-07-26T15:26:59.715Z"
   },
   {
    "duration": 383,
    "start_time": "2024-07-26T15:26:59.843Z"
   },
   {
    "duration": 10,
    "start_time": "2024-07-26T15:27:00.228Z"
   },
   {
    "duration": 117,
    "start_time": "2024-07-26T15:27:00.240Z"
   },
   {
    "duration": 15,
    "start_time": "2024-07-26T15:27:00.359Z"
   },
   {
    "duration": 66,
    "start_time": "2024-07-26T15:27:00.375Z"
   },
   {
    "duration": 68,
    "start_time": "2024-07-26T15:27:00.442Z"
   },
   {
    "duration": 60,
    "start_time": "2024-07-26T15:27:00.511Z"
   },
   {
    "duration": 63,
    "start_time": "2024-07-26T15:27:00.573Z"
   },
   {
    "duration": 52,
    "start_time": "2024-07-26T15:27:00.637Z"
   },
   {
    "duration": 3,
    "start_time": "2024-07-26T15:27:00.691Z"
   },
   {
    "duration": 178,
    "start_time": "2024-07-26T15:27:00.695Z"
   },
   {
    "duration": 163,
    "start_time": "2024-07-26T15:27:00.874Z"
   },
   {
    "duration": 9,
    "start_time": "2024-07-26T15:27:01.038Z"
   },
   {
    "duration": 111,
    "start_time": "2024-07-26T15:27:01.048Z"
   },
   {
    "duration": 95,
    "start_time": "2024-07-26T15:27:01.160Z"
   },
   {
    "duration": 51,
    "start_time": "2024-07-26T15:27:01.257Z"
   },
   {
    "duration": 126,
    "start_time": "2024-07-26T15:27:01.309Z"
   },
   {
    "duration": 19,
    "start_time": "2024-07-26T15:27:01.437Z"
   },
   {
    "duration": 73,
    "start_time": "2024-07-26T15:27:01.458Z"
   },
   {
    "duration": 212,
    "start_time": "2024-07-26T15:27:01.533Z"
   },
   {
    "duration": 0,
    "start_time": "2024-07-26T15:27:01.746Z"
   },
   {
    "duration": 0,
    "start_time": "2024-07-26T15:27:01.747Z"
   },
   {
    "duration": 0,
    "start_time": "2024-07-26T15:27:01.748Z"
   },
   {
    "duration": 23,
    "start_time": "2024-07-26T15:28:30.547Z"
   },
   {
    "duration": 24,
    "start_time": "2024-07-26T15:28:58.866Z"
   },
   {
    "duration": 25,
    "start_time": "2024-07-26T15:29:53.504Z"
   },
   {
    "duration": 29,
    "start_time": "2024-07-26T15:33:07.712Z"
   },
   {
    "duration": 880,
    "start_time": "2024-07-26T15:36:36.811Z"
   },
   {
    "duration": 29,
    "start_time": "2024-07-26T15:37:23.022Z"
   },
   {
    "duration": 20,
    "start_time": "2024-07-26T15:38:24.988Z"
   },
   {
    "duration": 1095,
    "start_time": "2024-07-26T15:38:41.493Z"
   },
   {
    "duration": 174,
    "start_time": "2024-07-26T15:38:42.590Z"
   },
   {
    "duration": 33,
    "start_time": "2024-07-26T15:38:42.766Z"
   },
   {
    "duration": 7,
    "start_time": "2024-07-26T15:38:42.800Z"
   },
   {
    "duration": 26,
    "start_time": "2024-07-26T15:38:42.809Z"
   },
   {
    "duration": 51,
    "start_time": "2024-07-26T15:38:42.836Z"
   },
   {
    "duration": 8,
    "start_time": "2024-07-26T15:38:42.889Z"
   },
   {
    "duration": 92,
    "start_time": "2024-07-26T15:38:42.899Z"
   },
   {
    "duration": 169,
    "start_time": "2024-07-26T15:38:42.993Z"
   },
   {
    "duration": 25,
    "start_time": "2024-07-26T15:38:43.164Z"
   },
   {
    "duration": 30,
    "start_time": "2024-07-26T15:38:43.190Z"
   },
   {
    "duration": 27,
    "start_time": "2024-07-26T15:38:43.221Z"
   },
   {
    "duration": 6,
    "start_time": "2024-07-26T15:38:43.250Z"
   },
   {
    "duration": 27,
    "start_time": "2024-07-26T15:38:43.258Z"
   },
   {
    "duration": 8,
    "start_time": "2024-07-26T15:38:43.286Z"
   },
   {
    "duration": 14,
    "start_time": "2024-07-26T15:38:43.295Z"
   },
   {
    "duration": 113,
    "start_time": "2024-07-26T15:38:43.310Z"
   },
   {
    "duration": 332,
    "start_time": "2024-07-26T15:38:43.425Z"
   },
   {
    "duration": 9,
    "start_time": "2024-07-26T15:38:43.758Z"
   },
   {
    "duration": 58,
    "start_time": "2024-07-26T15:38:43.769Z"
   },
   {
    "duration": 6,
    "start_time": "2024-07-26T15:38:43.829Z"
   },
   {
    "duration": 4,
    "start_time": "2024-07-26T15:38:43.837Z"
   },
   {
    "duration": 64,
    "start_time": "2024-07-26T15:38:43.842Z"
   },
   {
    "duration": 59,
    "start_time": "2024-07-26T15:38:43.908Z"
   },
   {
    "duration": 49,
    "start_time": "2024-07-26T15:38:43.986Z"
   },
   {
    "duration": 48,
    "start_time": "2024-07-26T15:38:44.037Z"
   },
   {
    "duration": 4,
    "start_time": "2024-07-26T15:38:44.087Z"
   },
   {
    "duration": 152,
    "start_time": "2024-07-26T15:38:44.094Z"
   },
   {
    "duration": 148,
    "start_time": "2024-07-26T15:38:44.248Z"
   },
   {
    "duration": 9,
    "start_time": "2024-07-26T15:38:44.398Z"
   },
   {
    "duration": 47,
    "start_time": "2024-07-26T15:38:44.409Z"
   },
   {
    "duration": 98,
    "start_time": "2024-07-26T15:38:44.458Z"
   },
   {
    "duration": 46,
    "start_time": "2024-07-26T15:38:44.557Z"
   },
   {
    "duration": 94,
    "start_time": "2024-07-26T15:38:44.605Z"
   },
   {
    "duration": 14,
    "start_time": "2024-07-26T15:38:44.700Z"
   },
   {
    "duration": 18,
    "start_time": "2024-07-26T15:38:44.716Z"
   },
   {
    "duration": 147,
    "start_time": "2024-07-26T15:38:44.735Z"
   },
   {
    "duration": 0,
    "start_time": "2024-07-26T15:38:44.885Z"
   },
   {
    "duration": 0,
    "start_time": "2024-07-26T15:38:44.886Z"
   },
   {
    "duration": 0,
    "start_time": "2024-07-26T15:38:44.887Z"
   },
   {
    "duration": 17,
    "start_time": "2024-07-26T15:39:43.060Z"
   },
   {
    "duration": 1004,
    "start_time": "2024-07-26T15:42:59.805Z"
   },
   {
    "duration": 895,
    "start_time": "2024-07-26T15:44:37.655Z"
   },
   {
    "duration": 11,
    "start_time": "2024-07-26T15:44:54.957Z"
   },
   {
    "duration": 1089,
    "start_time": "2024-07-26T15:45:59.830Z"
   },
   {
    "duration": 189,
    "start_time": "2024-07-26T15:46:00.922Z"
   },
   {
    "duration": 38,
    "start_time": "2024-07-26T15:46:01.113Z"
   },
   {
    "duration": 64,
    "start_time": "2024-07-26T15:46:01.153Z"
   },
   {
    "duration": 84,
    "start_time": "2024-07-26T15:46:01.219Z"
   },
   {
    "duration": 114,
    "start_time": "2024-07-26T15:46:01.305Z"
   },
   {
    "duration": 9,
    "start_time": "2024-07-26T15:46:01.421Z"
   },
   {
    "duration": 180,
    "start_time": "2024-07-26T15:46:01.432Z"
   },
   {
    "duration": 208,
    "start_time": "2024-07-26T15:46:01.614Z"
   },
   {
    "duration": 20,
    "start_time": "2024-07-26T15:46:01.824Z"
   },
   {
    "duration": 114,
    "start_time": "2024-07-26T15:46:01.846Z"
   },
   {
    "duration": 32,
    "start_time": "2024-07-26T15:46:01.962Z"
   },
   {
    "duration": 86,
    "start_time": "2024-07-26T15:46:01.997Z"
   },
   {
    "duration": 7,
    "start_time": "2024-07-26T15:46:02.087Z"
   },
   {
    "duration": 11,
    "start_time": "2024-07-26T15:46:02.095Z"
   },
   {
    "duration": 25,
    "start_time": "2024-07-26T15:46:02.107Z"
   },
   {
    "duration": 99,
    "start_time": "2024-07-26T15:46:02.134Z"
   },
   {
    "duration": 388,
    "start_time": "2024-07-26T15:46:02.235Z"
   },
   {
    "duration": 10,
    "start_time": "2024-07-26T15:46:02.625Z"
   },
   {
    "duration": 77,
    "start_time": "2024-07-26T15:46:02.637Z"
   },
   {
    "duration": 9,
    "start_time": "2024-07-26T15:46:02.715Z"
   },
   {
    "duration": 4,
    "start_time": "2024-07-26T15:46:02.725Z"
   },
   {
    "duration": 70,
    "start_time": "2024-07-26T15:46:02.730Z"
   },
   {
    "duration": 62,
    "start_time": "2024-07-26T15:46:02.802Z"
   },
   {
    "duration": 69,
    "start_time": "2024-07-26T15:46:02.866Z"
   },
   {
    "duration": 54,
    "start_time": "2024-07-26T15:46:02.937Z"
   },
   {
    "duration": 4,
    "start_time": "2024-07-26T15:46:02.993Z"
   },
   {
    "duration": 153,
    "start_time": "2024-07-26T15:46:02.999Z"
   },
   {
    "duration": 158,
    "start_time": "2024-07-26T15:46:03.154Z"
   },
   {
    "duration": 11,
    "start_time": "2024-07-26T15:46:03.314Z"
   },
   {
    "duration": 89,
    "start_time": "2024-07-26T15:46:03.326Z"
   },
   {
    "duration": 106,
    "start_time": "2024-07-26T15:46:03.417Z"
   },
   {
    "duration": 43,
    "start_time": "2024-07-26T15:46:03.524Z"
   },
   {
    "duration": 105,
    "start_time": "2024-07-26T15:46:03.569Z"
   },
   {
    "duration": 16,
    "start_time": "2024-07-26T15:46:03.685Z"
   },
   {
    "duration": 27,
    "start_time": "2024-07-26T15:46:03.702Z"
   },
   {
    "duration": 147,
    "start_time": "2024-07-26T15:46:03.730Z"
   },
   {
    "duration": 0,
    "start_time": "2024-07-26T15:46:03.878Z"
   },
   {
    "duration": 0,
    "start_time": "2024-07-26T15:46:03.879Z"
   },
   {
    "duration": 0,
    "start_time": "2024-07-26T15:46:03.885Z"
   },
   {
    "duration": 18,
    "start_time": "2024-07-26T15:47:14.982Z"
   },
   {
    "duration": 95,
    "start_time": "2024-07-26T15:47:22.302Z"
   },
   {
    "duration": 12,
    "start_time": "2024-07-26T15:51:21.771Z"
   },
   {
    "duration": 13,
    "start_time": "2024-07-26T15:51:58.368Z"
   },
   {
    "duration": 16,
    "start_time": "2024-07-26T15:52:22.544Z"
   },
   {
    "duration": 15,
    "start_time": "2024-07-26T15:53:15.954Z"
   },
   {
    "duration": 11,
    "start_time": "2024-07-26T15:57:30.946Z"
   },
   {
    "duration": 13,
    "start_time": "2024-07-26T15:57:53.558Z"
   },
   {
    "duration": 14,
    "start_time": "2024-07-26T15:58:37.197Z"
   },
   {
    "duration": 20,
    "start_time": "2024-07-26T15:59:05.519Z"
   },
   {
    "duration": 21,
    "start_time": "2024-07-26T15:59:29.878Z"
   },
   {
    "duration": 24,
    "start_time": "2024-07-26T15:59:50.566Z"
   },
   {
    "duration": 26,
    "start_time": "2024-07-26T16:00:33.575Z"
   },
   {
    "duration": 999,
    "start_time": "2024-07-26T16:01:53.033Z"
   },
   {
    "duration": 20,
    "start_time": "2024-07-26T16:03:23.175Z"
   },
   {
    "duration": 24,
    "start_time": "2024-07-26T16:04:32.201Z"
   },
   {
    "duration": 27,
    "start_time": "2024-07-26T16:05:00.909Z"
   },
   {
    "duration": 9,
    "start_time": "2024-07-26T16:07:08.719Z"
   },
   {
    "duration": 19,
    "start_time": "2024-07-26T16:09:51.993Z"
   },
   {
    "duration": 1111,
    "start_time": "2024-07-26T16:11:04.930Z"
   },
   {
    "duration": 189,
    "start_time": "2024-07-26T16:11:06.043Z"
   },
   {
    "duration": 35,
    "start_time": "2024-07-26T16:11:06.234Z"
   },
   {
    "duration": 20,
    "start_time": "2024-07-26T16:11:06.270Z"
   },
   {
    "duration": 24,
    "start_time": "2024-07-26T16:11:06.292Z"
   },
   {
    "duration": 44,
    "start_time": "2024-07-26T16:11:06.318Z"
   },
   {
    "duration": 28,
    "start_time": "2024-07-26T16:11:06.364Z"
   },
   {
    "duration": 103,
    "start_time": "2024-07-26T16:11:06.393Z"
   },
   {
    "duration": 196,
    "start_time": "2024-07-26T16:11:06.498Z"
   },
   {
    "duration": 20,
    "start_time": "2024-07-26T16:11:06.695Z"
   },
   {
    "duration": 32,
    "start_time": "2024-07-26T16:11:06.716Z"
   },
   {
    "duration": 50,
    "start_time": "2024-07-26T16:11:06.750Z"
   },
   {
    "duration": 6,
    "start_time": "2024-07-26T16:11:06.802Z"
   },
   {
    "duration": 4,
    "start_time": "2024-07-26T16:11:06.811Z"
   },
   {
    "duration": 6,
    "start_time": "2024-07-26T16:11:06.817Z"
   },
   {
    "duration": 4,
    "start_time": "2024-07-26T16:11:06.825Z"
   },
   {
    "duration": 129,
    "start_time": "2024-07-26T16:11:06.830Z"
   },
   {
    "duration": 373,
    "start_time": "2024-07-26T16:11:06.961Z"
   },
   {
    "duration": 10,
    "start_time": "2024-07-26T16:11:07.335Z"
   },
   {
    "duration": 76,
    "start_time": "2024-07-26T16:11:07.346Z"
   },
   {
    "duration": 8,
    "start_time": "2024-07-26T16:11:07.424Z"
   },
   {
    "duration": 4,
    "start_time": "2024-07-26T16:11:07.433Z"
   },
   {
    "duration": 67,
    "start_time": "2024-07-26T16:11:07.438Z"
   },
   {
    "duration": 61,
    "start_time": "2024-07-26T16:11:07.506Z"
   },
   {
    "duration": 67,
    "start_time": "2024-07-26T16:11:07.569Z"
   },
   {
    "duration": 53,
    "start_time": "2024-07-26T16:11:07.638Z"
   },
   {
    "duration": 3,
    "start_time": "2024-07-26T16:11:07.693Z"
   },
   {
    "duration": 161,
    "start_time": "2024-07-26T16:11:07.697Z"
   },
   {
    "duration": 158,
    "start_time": "2024-07-26T16:11:07.859Z"
   },
   {
    "duration": 9,
    "start_time": "2024-07-26T16:11:08.019Z"
   },
   {
    "duration": 64,
    "start_time": "2024-07-26T16:11:08.030Z"
   },
   {
    "duration": 105,
    "start_time": "2024-07-26T16:11:08.095Z"
   },
   {
    "duration": 41,
    "start_time": "2024-07-26T16:11:08.202Z"
   },
   {
    "duration": 107,
    "start_time": "2024-07-26T16:11:08.245Z"
   },
   {
    "duration": 18,
    "start_time": "2024-07-26T16:11:08.354Z"
   },
   {
    "duration": 27,
    "start_time": "2024-07-26T16:11:08.384Z"
   },
   {
    "duration": 18,
    "start_time": "2024-07-26T16:11:08.412Z"
   },
   {
    "duration": 7,
    "start_time": "2024-07-26T16:11:08.432Z"
   },
   {
    "duration": 1234,
    "start_time": "2024-07-26T18:29:46.425Z"
   },
   {
    "duration": 872,
    "start_time": "2024-07-26T18:29:47.661Z"
   },
   {
    "duration": 35,
    "start_time": "2024-07-26T18:29:48.534Z"
   },
   {
    "duration": 7,
    "start_time": "2024-07-26T18:29:48.571Z"
   },
   {
    "duration": 29,
    "start_time": "2024-07-26T18:29:48.579Z"
   },
   {
    "duration": 42,
    "start_time": "2024-07-26T18:29:48.609Z"
   },
   {
    "duration": 9,
    "start_time": "2024-07-26T18:29:48.653Z"
   },
   {
    "duration": 93,
    "start_time": "2024-07-26T18:29:48.664Z"
   },
   {
    "duration": 182,
    "start_time": "2024-07-26T18:29:48.759Z"
   },
   {
    "duration": 18,
    "start_time": "2024-07-26T18:29:48.944Z"
   },
   {
    "duration": 44,
    "start_time": "2024-07-26T18:29:48.964Z"
   },
   {
    "duration": 30,
    "start_time": "2024-07-26T18:29:49.010Z"
   },
   {
    "duration": 8,
    "start_time": "2024-07-26T18:29:49.041Z"
   },
   {
    "duration": 7,
    "start_time": "2024-07-26T18:29:49.051Z"
   },
   {
    "duration": 27,
    "start_time": "2024-07-26T18:29:49.060Z"
   },
   {
    "duration": 3,
    "start_time": "2024-07-26T18:29:49.089Z"
   },
   {
    "duration": 128,
    "start_time": "2024-07-26T18:29:49.093Z"
   },
   {
    "duration": 366,
    "start_time": "2024-07-26T18:29:49.222Z"
   },
   {
    "duration": 10,
    "start_time": "2024-07-26T18:29:49.589Z"
   },
   {
    "duration": 58,
    "start_time": "2024-07-26T18:29:49.600Z"
   },
   {
    "duration": 24,
    "start_time": "2024-07-26T18:29:49.660Z"
   },
   {
    "duration": 3,
    "start_time": "2024-07-26T18:29:49.685Z"
   },
   {
    "duration": 42,
    "start_time": "2024-07-26T18:29:49.689Z"
   },
   {
    "duration": 74,
    "start_time": "2024-07-26T18:29:49.732Z"
   },
   {
    "duration": 51,
    "start_time": "2024-07-26T18:29:49.807Z"
   },
   {
    "duration": 50,
    "start_time": "2024-07-26T18:29:49.859Z"
   },
   {
    "duration": 3,
    "start_time": "2024-07-26T18:29:49.910Z"
   },
   {
    "duration": 145,
    "start_time": "2024-07-26T18:29:49.916Z"
   },
   {
    "duration": 151,
    "start_time": "2024-07-26T18:29:50.062Z"
   },
   {
    "duration": 12,
    "start_time": "2024-07-26T18:29:50.215Z"
   },
   {
    "duration": 60,
    "start_time": "2024-07-26T18:29:50.229Z"
   },
   {
    "duration": 96,
    "start_time": "2024-07-26T18:29:50.290Z"
   },
   {
    "duration": 39,
    "start_time": "2024-07-26T18:29:50.388Z"
   },
   {
    "duration": 104,
    "start_time": "2024-07-26T18:29:50.428Z"
   },
   {
    "duration": 18,
    "start_time": "2024-07-26T18:29:50.534Z"
   },
   {
    "duration": 42,
    "start_time": "2024-07-26T18:29:50.553Z"
   },
   {
    "duration": 9,
    "start_time": "2024-07-26T18:29:50.597Z"
   },
   {
    "duration": 6,
    "start_time": "2024-07-26T18:29:50.608Z"
   },
   {
    "duration": 50,
    "start_time": "2024-07-26T18:29:50.615Z"
   },
   {
    "duration": 916,
    "start_time": "2024-07-26T18:41:20.901Z"
   },
   {
    "duration": 19,
    "start_time": "2024-07-26T18:45:33.636Z"
   },
   {
    "duration": 46,
    "start_time": "2024-07-26T18:46:55.862Z"
   },
   {
    "duration": 27,
    "start_time": "2024-07-26T18:47:18.381Z"
   },
   {
    "duration": 17,
    "start_time": "2024-07-26T18:48:17.525Z"
   },
   {
    "duration": 16,
    "start_time": "2024-07-26T18:48:54.389Z"
   },
   {
    "duration": 28,
    "start_time": "2024-07-26T18:48:57.501Z"
   },
   {
    "duration": 7,
    "start_time": "2024-07-26T18:54:08.540Z"
   },
   {
    "duration": 10,
    "start_time": "2024-07-26T18:55:42.441Z"
   },
   {
    "duration": 49,
    "start_time": "2024-07-26T19:21:36.387Z"
   },
   {
    "duration": 17,
    "start_time": "2024-07-26T19:22:11.276Z"
   },
   {
    "duration": 32,
    "start_time": "2024-07-26T19:23:58.014Z"
   },
   {
    "duration": 28,
    "start_time": "2024-07-26T19:24:22.441Z"
   },
   {
    "duration": 11,
    "start_time": "2024-07-26T19:26:49.459Z"
   },
   {
    "duration": 15,
    "start_time": "2024-07-26T19:28:31.973Z"
   },
   {
    "duration": 14,
    "start_time": "2024-07-26T19:28:52.011Z"
   },
   {
    "duration": 19,
    "start_time": "2024-07-26T19:30:33.512Z"
   },
   {
    "duration": 88,
    "start_time": "2024-07-26T19:31:10.675Z"
   },
   {
    "duration": 17,
    "start_time": "2024-07-26T19:31:22.237Z"
   },
   {
    "duration": 90,
    "start_time": "2024-07-26T19:31:52.167Z"
   },
   {
    "duration": 92,
    "start_time": "2024-07-26T19:32:12.120Z"
   },
   {
    "duration": 41,
    "start_time": "2024-07-26T19:32:25.305Z"
   },
   {
    "duration": 92,
    "start_time": "2024-07-26T19:32:31.496Z"
   },
   {
    "duration": 93,
    "start_time": "2024-07-26T19:32:37.425Z"
   },
   {
    "duration": 16,
    "start_time": "2024-07-26T19:32:47.610Z"
   },
   {
    "duration": 26,
    "start_time": "2024-07-26T19:32:50.904Z"
   },
   {
    "duration": 8,
    "start_time": "2024-07-26T19:32:58.319Z"
   },
   {
    "duration": 14,
    "start_time": "2024-07-26T19:33:06.277Z"
   },
   {
    "duration": 18,
    "start_time": "2024-07-26T19:36:04.486Z"
   },
   {
    "duration": 13,
    "start_time": "2024-07-26T19:36:22.997Z"
   },
   {
    "duration": 8,
    "start_time": "2024-07-26T19:41:09.240Z"
   },
   {
    "duration": 5,
    "start_time": "2024-07-26T19:44:36.338Z"
   },
   {
    "duration": 15,
    "start_time": "2024-07-26T19:47:17.794Z"
   },
   {
    "duration": 15,
    "start_time": "2024-07-26T19:50:01.565Z"
   },
   {
    "duration": 1138,
    "start_time": "2024-07-26T19:50:26.570Z"
   },
   {
    "duration": 180,
    "start_time": "2024-07-26T19:50:27.710Z"
   },
   {
    "duration": 37,
    "start_time": "2024-07-26T19:50:27.892Z"
   },
   {
    "duration": 8,
    "start_time": "2024-07-26T19:50:27.931Z"
   },
   {
    "duration": 43,
    "start_time": "2024-07-26T19:50:27.941Z"
   },
   {
    "duration": 44,
    "start_time": "2024-07-26T19:50:27.986Z"
   },
   {
    "duration": 11,
    "start_time": "2024-07-26T19:50:28.032Z"
   },
   {
    "duration": 109,
    "start_time": "2024-07-26T19:50:28.044Z"
   },
   {
    "duration": 180,
    "start_time": "2024-07-26T19:50:28.154Z"
   },
   {
    "duration": 18,
    "start_time": "2024-07-26T19:50:28.337Z"
   },
   {
    "duration": 68,
    "start_time": "2024-07-26T19:50:28.357Z"
   },
   {
    "duration": 34,
    "start_time": "2024-07-26T19:50:28.428Z"
   },
   {
    "duration": 21,
    "start_time": "2024-07-26T19:50:28.463Z"
   },
   {
    "duration": 3,
    "start_time": "2024-07-26T19:50:28.485Z"
   },
   {
    "duration": 13,
    "start_time": "2024-07-26T19:50:28.490Z"
   },
   {
    "duration": 4,
    "start_time": "2024-07-26T19:50:28.505Z"
   },
   {
    "duration": 110,
    "start_time": "2024-07-26T19:50:28.510Z"
   },
   {
    "duration": 364,
    "start_time": "2024-07-26T19:50:28.622Z"
   },
   {
    "duration": 11,
    "start_time": "2024-07-26T19:50:28.988Z"
   },
   {
    "duration": 62,
    "start_time": "2024-07-26T19:50:29.000Z"
   },
   {
    "duration": 21,
    "start_time": "2024-07-26T19:50:29.064Z"
   },
   {
    "duration": 3,
    "start_time": "2024-07-26T19:50:29.086Z"
   },
   {
    "duration": 59,
    "start_time": "2024-07-26T19:50:29.091Z"
   },
   {
    "duration": 80,
    "start_time": "2024-07-26T19:50:29.151Z"
   },
   {
    "duration": 71,
    "start_time": "2024-07-26T19:50:29.232Z"
   },
   {
    "duration": 42,
    "start_time": "2024-07-26T19:50:29.305Z"
   },
   {
    "duration": 4,
    "start_time": "2024-07-26T19:50:29.349Z"
   },
   {
    "duration": 165,
    "start_time": "2024-07-26T19:50:29.356Z"
   },
   {
    "duration": 151,
    "start_time": "2024-07-26T19:50:29.522Z"
   },
   {
    "duration": 15,
    "start_time": "2024-07-26T19:50:29.675Z"
   },
   {
    "duration": 119,
    "start_time": "2024-07-26T19:50:29.692Z"
   },
   {
    "duration": 99,
    "start_time": "2024-07-26T19:50:29.812Z"
   },
   {
    "duration": 43,
    "start_time": "2024-07-26T19:50:29.913Z"
   },
   {
    "duration": 115,
    "start_time": "2024-07-26T19:50:29.958Z"
   },
   {
    "duration": 20,
    "start_time": "2024-07-26T19:50:30.075Z"
   },
   {
    "duration": 147,
    "start_time": "2024-07-26T19:50:30.097Z"
   },
   {
    "duration": 122,
    "start_time": "2024-07-26T19:50:30.246Z"
   },
   {
    "duration": 267,
    "start_time": "2024-07-26T19:50:30.370Z"
   },
   {
    "duration": 113,
    "start_time": "2024-07-26T19:50:30.639Z"
   },
   {
    "duration": 103,
    "start_time": "2024-07-26T19:50:30.754Z"
   },
   {
    "duration": 165,
    "start_time": "2024-07-26T19:50:30.859Z"
   },
   {
    "duration": 5,
    "start_time": "2024-07-26T19:51:59.086Z"
   },
   {
    "duration": 856,
    "start_time": "2024-07-26T19:52:03.528Z"
   },
   {
    "duration": 5,
    "start_time": "2024-07-26T19:53:11.804Z"
   },
   {
    "duration": 9,
    "start_time": "2024-07-26T19:53:13.856Z"
   },
   {
    "duration": 8,
    "start_time": "2024-07-26T19:59:32.428Z"
   },
   {
    "duration": 12,
    "start_time": "2024-07-26T19:59:34.518Z"
   },
   {
    "duration": 5,
    "start_time": "2024-07-26T20:01:06.523Z"
   },
   {
    "duration": 9,
    "start_time": "2024-07-26T20:01:08.235Z"
   },
   {
    "duration": 57,
    "start_time": "2024-07-26T20:12:19.801Z"
   },
   {
    "duration": 12,
    "start_time": "2024-07-26T20:17:25.465Z"
   },
   {
    "duration": 8,
    "start_time": "2024-07-26T20:18:34.276Z"
   },
   {
    "duration": 9,
    "start_time": "2024-07-26T20:21:40.994Z"
   },
   {
    "duration": 9,
    "start_time": "2024-07-26T20:25:36.634Z"
   },
   {
    "duration": 9,
    "start_time": "2024-07-26T20:27:15.315Z"
   },
   {
    "duration": 9,
    "start_time": "2024-07-26T20:31:43.817Z"
   },
   {
    "duration": 15,
    "start_time": "2024-07-26T20:39:01.197Z"
   },
   {
    "duration": 12,
    "start_time": "2024-07-26T20:40:22.222Z"
   },
   {
    "duration": 16,
    "start_time": "2024-07-26T20:40:48.387Z"
   },
   {
    "duration": 10,
    "start_time": "2024-07-26T20:40:56.762Z"
   },
   {
    "duration": 9,
    "start_time": "2024-07-26T20:42:16.147Z"
   },
   {
    "duration": 56,
    "start_time": "2024-07-26T20:43:26.933Z"
   },
   {
    "duration": 54,
    "start_time": "2024-07-26T21:01:32.685Z"
   },
   {
    "duration": 5,
    "start_time": "2024-07-26T21:01:48.953Z"
   },
   {
    "duration": 46,
    "start_time": "2024-07-26T21:06:17.269Z"
   },
   {
    "duration": 4,
    "start_time": "2024-07-26T21:06:30.858Z"
   },
   {
    "duration": 4,
    "start_time": "2024-07-26T21:06:37.618Z"
   },
   {
    "duration": 4,
    "start_time": "2024-07-26T21:07:42.990Z"
   },
   {
    "duration": 4,
    "start_time": "2024-07-26T21:07:49.460Z"
   },
   {
    "duration": 4,
    "start_time": "2024-07-26T21:08:13.692Z"
   },
   {
    "duration": 3,
    "start_time": "2024-07-26T21:08:25.821Z"
   },
   {
    "duration": 4,
    "start_time": "2024-07-26T21:09:35.909Z"
   },
   {
    "duration": 3,
    "start_time": "2024-07-26T21:12:43.902Z"
   },
   {
    "duration": 43,
    "start_time": "2024-07-26T21:15:56.062Z"
   },
   {
    "duration": 9,
    "start_time": "2024-07-26T21:16:27.867Z"
   },
   {
    "duration": 10,
    "start_time": "2024-07-26T21:21:16.935Z"
   },
   {
    "duration": 10,
    "start_time": "2024-07-26T21:21:34.438Z"
   },
   {
    "duration": 10,
    "start_time": "2024-07-26T21:21:55.175Z"
   },
   {
    "duration": 4,
    "start_time": "2024-07-26T21:28:05.823Z"
   },
   {
    "duration": 4,
    "start_time": "2024-07-26T21:28:14.957Z"
   },
   {
    "duration": 43,
    "start_time": "2024-07-26T21:32:30.013Z"
   },
   {
    "duration": 1082,
    "start_time": "2024-07-26T22:43:34.016Z"
   },
   {
    "duration": 173,
    "start_time": "2024-07-26T22:43:35.100Z"
   },
   {
    "duration": 37,
    "start_time": "2024-07-26T22:43:35.274Z"
   },
   {
    "duration": 6,
    "start_time": "2024-07-26T22:43:35.313Z"
   },
   {
    "duration": 27,
    "start_time": "2024-07-26T22:43:35.321Z"
   },
   {
    "duration": 56,
    "start_time": "2024-07-26T22:43:35.349Z"
   },
   {
    "duration": 10,
    "start_time": "2024-07-26T22:43:35.406Z"
   },
   {
    "duration": 100,
    "start_time": "2024-07-26T22:43:35.417Z"
   },
   {
    "duration": 182,
    "start_time": "2024-07-26T22:43:35.519Z"
   },
   {
    "duration": 17,
    "start_time": "2024-07-26T22:43:35.704Z"
   },
   {
    "duration": 33,
    "start_time": "2024-07-26T22:43:35.723Z"
   },
   {
    "duration": 41,
    "start_time": "2024-07-26T22:43:35.757Z"
   },
   {
    "duration": 44,
    "start_time": "2024-07-26T22:43:35.799Z"
   },
   {
    "duration": 23,
    "start_time": "2024-07-26T22:43:35.845Z"
   },
   {
    "duration": 12,
    "start_time": "2024-07-26T22:43:35.870Z"
   },
   {
    "duration": 4,
    "start_time": "2024-07-26T22:43:35.883Z"
   },
   {
    "duration": 107,
    "start_time": "2024-07-26T22:43:35.888Z"
   },
   {
    "duration": 344,
    "start_time": "2024-07-26T22:43:35.996Z"
   },
   {
    "duration": 9,
    "start_time": "2024-07-26T22:43:36.341Z"
   },
   {
    "duration": 66,
    "start_time": "2024-07-26T22:43:36.352Z"
   },
   {
    "duration": 6,
    "start_time": "2024-07-26T22:43:36.420Z"
   },
   {
    "duration": 3,
    "start_time": "2024-07-26T22:43:36.429Z"
   },
   {
    "duration": 60,
    "start_time": "2024-07-26T22:43:36.433Z"
   },
   {
    "duration": 59,
    "start_time": "2024-07-26T22:43:36.495Z"
   },
   {
    "duration": 70,
    "start_time": "2024-07-26T22:43:36.556Z"
   },
   {
    "duration": 38,
    "start_time": "2024-07-26T22:43:36.628Z"
   },
   {
    "duration": 3,
    "start_time": "2024-07-26T22:43:36.667Z"
   },
   {
    "duration": 136,
    "start_time": "2024-07-26T22:43:36.683Z"
   },
   {
    "duration": 147,
    "start_time": "2024-07-26T22:43:36.821Z"
   },
   {
    "duration": 14,
    "start_time": "2024-07-26T22:43:36.970Z"
   },
   {
    "duration": 46,
    "start_time": "2024-07-26T22:43:36.986Z"
   },
   {
    "duration": 102,
    "start_time": "2024-07-26T22:43:37.033Z"
   },
   {
    "duration": 47,
    "start_time": "2024-07-26T22:43:37.137Z"
   },
   {
    "duration": 97,
    "start_time": "2024-07-26T22:43:37.186Z"
   },
   {
    "duration": 16,
    "start_time": "2024-07-26T22:43:37.285Z"
   },
   {
    "duration": 35,
    "start_time": "2024-07-26T22:43:37.303Z"
   },
   {
    "duration": 12,
    "start_time": "2024-07-26T22:43:37.340Z"
   },
   {
    "duration": 46,
    "start_time": "2024-07-26T22:43:37.354Z"
   },
   {
    "duration": 16,
    "start_time": "2024-07-26T22:43:37.401Z"
   },
   {
    "duration": 20,
    "start_time": "2024-07-26T22:43:37.418Z"
   },
   {
    "duration": 11,
    "start_time": "2024-07-26T22:43:37.439Z"
   },
   {
    "duration": 9,
    "start_time": "2024-07-26T22:43:37.452Z"
   },
   {
    "duration": 11,
    "start_time": "2024-07-26T22:43:37.462Z"
   },
   {
    "duration": 18,
    "start_time": "2024-07-26T22:43:37.475Z"
   },
   {
    "duration": 26,
    "start_time": "2024-07-26T22:43:37.495Z"
   },
   {
    "duration": 8,
    "start_time": "2024-07-26T22:43:37.522Z"
   },
   {
    "duration": 13,
    "start_time": "2024-07-26T22:43:37.532Z"
   },
   {
    "duration": 11,
    "start_time": "2024-07-26T22:43:37.546Z"
   },
   {
    "duration": 29,
    "start_time": "2024-07-26T22:43:37.559Z"
   },
   {
    "duration": 12,
    "start_time": "2024-07-26T22:43:37.589Z"
   },
   {
    "duration": 1052,
    "start_time": "2024-07-27T00:43:28.466Z"
   },
   {
    "duration": 637,
    "start_time": "2024-07-27T00:43:29.520Z"
   },
   {
    "duration": 28,
    "start_time": "2024-07-27T00:43:30.158Z"
   },
   {
    "duration": 19,
    "start_time": "2024-07-27T00:43:30.187Z"
   },
   {
    "duration": 47,
    "start_time": "2024-07-27T00:43:30.207Z"
   },
   {
    "duration": 69,
    "start_time": "2024-07-27T00:43:30.256Z"
   },
   {
    "duration": 16,
    "start_time": "2024-07-27T00:43:30.326Z"
   },
   {
    "duration": 120,
    "start_time": "2024-07-27T00:43:30.343Z"
   },
   {
    "duration": 196,
    "start_time": "2024-07-27T00:43:30.465Z"
   },
   {
    "duration": 16,
    "start_time": "2024-07-27T00:43:30.663Z"
   },
   {
    "duration": 116,
    "start_time": "2024-07-27T00:43:30.680Z"
   },
   {
    "duration": 69,
    "start_time": "2024-07-27T00:43:30.797Z"
   },
   {
    "duration": 62,
    "start_time": "2024-07-27T00:43:30.868Z"
   },
   {
    "duration": 191,
    "start_time": "2024-07-27T00:43:30.932Z"
   },
   {
    "duration": 93,
    "start_time": "2024-07-27T00:43:31.125Z"
   },
   {
    "duration": 45,
    "start_time": "2024-07-27T00:43:31.220Z"
   },
   {
    "duration": 119,
    "start_time": "2024-07-27T00:43:31.267Z"
   },
   {
    "duration": 299,
    "start_time": "2024-07-27T00:43:31.387Z"
   },
   {
    "duration": 14,
    "start_time": "2024-07-27T00:43:31.687Z"
   },
   {
    "duration": 124,
    "start_time": "2024-07-27T00:43:31.702Z"
   },
   {
    "duration": 25,
    "start_time": "2024-07-27T00:43:31.828Z"
   },
   {
    "duration": 25,
    "start_time": "2024-07-27T00:43:31.854Z"
   },
   {
    "duration": 58,
    "start_time": "2024-07-27T00:43:31.881Z"
   },
   {
    "duration": 52,
    "start_time": "2024-07-27T00:43:31.940Z"
   },
   {
    "duration": 53,
    "start_time": "2024-07-27T00:43:31.993Z"
   },
   {
    "duration": 41,
    "start_time": "2024-07-27T00:43:32.047Z"
   },
   {
    "duration": 49,
    "start_time": "2024-07-27T00:43:32.090Z"
   },
   {
    "duration": 113,
    "start_time": "2024-07-27T00:43:32.142Z"
   },
   {
    "duration": 131,
    "start_time": "2024-07-27T00:43:32.256Z"
   },
   {
    "duration": 8,
    "start_time": "2024-07-27T00:43:32.388Z"
   },
   {
    "duration": 49,
    "start_time": "2024-07-27T00:43:32.402Z"
   },
   {
    "duration": 75,
    "start_time": "2024-07-27T00:43:32.452Z"
   },
   {
    "duration": 41,
    "start_time": "2024-07-27T00:43:32.528Z"
   },
   {
    "duration": 98,
    "start_time": "2024-07-27T00:43:32.572Z"
   },
   {
    "duration": 12,
    "start_time": "2024-07-27T00:43:32.671Z"
   },
   {
    "duration": 33,
    "start_time": "2024-07-27T00:43:32.684Z"
   },
   {
    "duration": 7,
    "start_time": "2024-07-27T00:43:32.718Z"
   },
   {
    "duration": 14,
    "start_time": "2024-07-27T00:43:32.726Z"
   },
   {
    "duration": 8,
    "start_time": "2024-07-27T00:43:32.741Z"
   },
   {
    "duration": 21,
    "start_time": "2024-07-27T00:43:32.750Z"
   },
   {
    "duration": 20,
    "start_time": "2024-07-27T00:43:32.772Z"
   },
   {
    "duration": 11,
    "start_time": "2024-07-27T00:43:32.794Z"
   },
   {
    "duration": 16,
    "start_time": "2024-07-27T00:43:32.806Z"
   },
   {
    "duration": 11,
    "start_time": "2024-07-27T00:43:32.823Z"
   },
   {
    "duration": 9,
    "start_time": "2024-07-27T00:43:32.835Z"
   },
   {
    "duration": 3,
    "start_time": "2024-07-27T00:43:32.846Z"
   },
   {
    "duration": 8,
    "start_time": "2024-07-27T00:43:32.850Z"
   },
   {
    "duration": 10,
    "start_time": "2024-07-27T00:43:32.859Z"
   },
   {
    "duration": 6,
    "start_time": "2024-07-27T00:43:32.870Z"
   },
   {
    "duration": 27,
    "start_time": "2024-07-27T00:43:32.878Z"
   },
   {
    "duration": 55,
    "start_time": "2024-07-27T00:48:00.381Z"
   },
   {
    "duration": 9,
    "start_time": "2024-07-27T00:48:04.858Z"
   },
   {
    "duration": 7,
    "start_time": "2024-07-27T00:48:14.653Z"
   },
   {
    "duration": 53,
    "start_time": "2024-07-27T00:48:16.812Z"
   },
   {
    "duration": 4,
    "start_time": "2024-07-27T00:50:53.040Z"
   },
   {
    "duration": 11,
    "start_time": "2024-07-27T00:51:12.934Z"
   },
   {
    "duration": 10,
    "start_time": "2024-07-27T00:51:37.034Z"
   },
   {
    "duration": 28,
    "start_time": "2024-07-27T00:51:46.433Z"
   },
   {
    "duration": 25,
    "start_time": "2024-07-27T00:51:54.599Z"
   },
   {
    "duration": 5,
    "start_time": "2024-07-27T01:02:14.407Z"
   },
   {
    "duration": 8,
    "start_time": "2024-07-27T01:02:15.702Z"
   },
   {
    "duration": 8,
    "start_time": "2024-07-27T01:02:31.792Z"
   },
   {
    "duration": 5,
    "start_time": "2024-07-27T01:02:44.919Z"
   },
   {
    "duration": 8,
    "start_time": "2024-07-27T01:02:46.678Z"
   },
   {
    "duration": 9,
    "start_time": "2024-07-27T01:02:51.792Z"
   },
   {
    "duration": 56,
    "start_time": "2024-07-27T06:04:10.578Z"
   },
   {
    "duration": 41,
    "start_time": "2024-07-27T06:13:44.148Z"
   },
   {
    "duration": 1207,
    "start_time": "2024-07-27T06:13:54.025Z"
   },
   {
    "duration": 856,
    "start_time": "2024-07-27T06:13:55.234Z"
   },
   {
    "duration": 34,
    "start_time": "2024-07-27T06:13:56.091Z"
   },
   {
    "duration": 7,
    "start_time": "2024-07-27T06:13:56.126Z"
   },
   {
    "duration": 20,
    "start_time": "2024-07-27T06:13:56.134Z"
   },
   {
    "duration": 44,
    "start_time": "2024-07-27T06:13:56.156Z"
   },
   {
    "duration": 8,
    "start_time": "2024-07-27T06:13:56.202Z"
   },
   {
    "duration": 92,
    "start_time": "2024-07-27T06:13:56.211Z"
   },
   {
    "duration": 174,
    "start_time": "2024-07-27T06:13:56.305Z"
   },
   {
    "duration": 17,
    "start_time": "2024-07-27T06:13:56.482Z"
   },
   {
    "duration": 29,
    "start_time": "2024-07-27T06:13:56.500Z"
   },
   {
    "duration": 28,
    "start_time": "2024-07-27T06:13:56.530Z"
   },
   {
    "duration": 27,
    "start_time": "2024-07-27T06:13:56.559Z"
   },
   {
    "duration": 3,
    "start_time": "2024-07-27T06:13:56.587Z"
   },
   {
    "duration": 6,
    "start_time": "2024-07-27T06:13:56.591Z"
   },
   {
    "duration": 2,
    "start_time": "2024-07-27T06:13:56.599Z"
   },
   {
    "duration": 110,
    "start_time": "2024-07-27T06:13:56.603Z"
   },
   {
    "duration": 330,
    "start_time": "2024-07-27T06:13:56.714Z"
   },
   {
    "duration": 10,
    "start_time": "2024-07-27T06:13:57.045Z"
   },
   {
    "duration": 67,
    "start_time": "2024-07-27T06:13:57.056Z"
   },
   {
    "duration": 7,
    "start_time": "2024-07-27T06:13:57.125Z"
   },
   {
    "duration": 4,
    "start_time": "2024-07-27T06:13:57.133Z"
   },
   {
    "duration": 63,
    "start_time": "2024-07-27T06:13:57.138Z"
   },
   {
    "duration": 57,
    "start_time": "2024-07-27T06:13:57.202Z"
   },
   {
    "duration": 65,
    "start_time": "2024-07-27T06:13:57.261Z"
   },
   {
    "duration": 38,
    "start_time": "2024-07-27T06:13:57.327Z"
   },
   {
    "duration": 17,
    "start_time": "2024-07-27T06:13:57.366Z"
   },
   {
    "duration": 142,
    "start_time": "2024-07-27T06:13:57.386Z"
   },
   {
    "duration": 139,
    "start_time": "2024-07-27T06:13:57.529Z"
   },
   {
    "duration": 17,
    "start_time": "2024-07-27T06:13:57.669Z"
   },
   {
    "duration": 97,
    "start_time": "2024-07-27T06:13:57.688Z"
   },
   {
    "duration": 0,
    "start_time": "2024-07-27T06:13:57.786Z"
   },
   {
    "duration": 0,
    "start_time": "2024-07-27T06:13:57.787Z"
   },
   {
    "duration": 0,
    "start_time": "2024-07-27T06:13:57.788Z"
   },
   {
    "duration": 0,
    "start_time": "2024-07-27T06:13:57.790Z"
   },
   {
    "duration": 0,
    "start_time": "2024-07-27T06:13:57.791Z"
   },
   {
    "duration": 0,
    "start_time": "2024-07-27T06:13:57.792Z"
   },
   {
    "duration": 0,
    "start_time": "2024-07-27T06:13:57.793Z"
   },
   {
    "duration": 0,
    "start_time": "2024-07-27T06:13:57.794Z"
   },
   {
    "duration": 0,
    "start_time": "2024-07-27T06:13:57.794Z"
   },
   {
    "duration": 0,
    "start_time": "2024-07-27T06:13:57.795Z"
   },
   {
    "duration": 0,
    "start_time": "2024-07-27T06:13:57.796Z"
   },
   {
    "duration": 0,
    "start_time": "2024-07-27T06:13:57.797Z"
   },
   {
    "duration": 0,
    "start_time": "2024-07-27T06:13:57.798Z"
   },
   {
    "duration": 0,
    "start_time": "2024-07-27T06:13:57.799Z"
   },
   {
    "duration": 0,
    "start_time": "2024-07-27T06:13:57.800Z"
   },
   {
    "duration": 0,
    "start_time": "2024-07-27T06:13:57.801Z"
   },
   {
    "duration": 0,
    "start_time": "2024-07-27T06:13:57.801Z"
   },
   {
    "duration": 0,
    "start_time": "2024-07-27T06:13:57.802Z"
   },
   {
    "duration": 0,
    "start_time": "2024-07-27T06:13:57.803Z"
   },
   {
    "duration": 0,
    "start_time": "2024-07-27T06:13:57.804Z"
   },
   {
    "duration": 11,
    "start_time": "2024-07-27T06:16:08.208Z"
   },
   {
    "duration": 10,
    "start_time": "2024-07-27T06:16:33.718Z"
   },
   {
    "duration": 11,
    "start_time": "2024-07-27T06:19:22.661Z"
   },
   {
    "duration": 12,
    "start_time": "2024-07-27T06:20:57.590Z"
   },
   {
    "duration": 1114,
    "start_time": "2024-07-27T06:22:03.652Z"
   },
   {
    "duration": 165,
    "start_time": "2024-07-27T06:22:04.768Z"
   },
   {
    "duration": 31,
    "start_time": "2024-07-27T06:22:04.935Z"
   },
   {
    "duration": 19,
    "start_time": "2024-07-27T06:22:04.967Z"
   },
   {
    "duration": 20,
    "start_time": "2024-07-27T06:22:04.987Z"
   },
   {
    "duration": 37,
    "start_time": "2024-07-27T06:22:05.008Z"
   },
   {
    "duration": 8,
    "start_time": "2024-07-27T06:22:05.047Z"
   },
   {
    "duration": 95,
    "start_time": "2024-07-27T06:22:05.056Z"
   },
   {
    "duration": 173,
    "start_time": "2024-07-27T06:22:05.152Z"
   },
   {
    "duration": 16,
    "start_time": "2024-07-27T06:22:05.327Z"
   },
   {
    "duration": 39,
    "start_time": "2024-07-27T06:22:05.345Z"
   },
   {
    "duration": 26,
    "start_time": "2024-07-27T06:22:05.386Z"
   },
   {
    "duration": 6,
    "start_time": "2024-07-27T06:22:05.413Z"
   },
   {
    "duration": 3,
    "start_time": "2024-07-27T06:22:05.420Z"
   },
   {
    "duration": 6,
    "start_time": "2024-07-27T06:22:05.424Z"
   },
   {
    "duration": 3,
    "start_time": "2024-07-27T06:22:05.431Z"
   },
   {
    "duration": 120,
    "start_time": "2024-07-27T06:22:05.435Z"
   },
   {
    "duration": 333,
    "start_time": "2024-07-27T06:22:05.556Z"
   },
   {
    "duration": 10,
    "start_time": "2024-07-27T06:22:05.890Z"
   },
   {
    "duration": 54,
    "start_time": "2024-07-27T06:22:05.901Z"
   },
   {
    "duration": 27,
    "start_time": "2024-07-27T06:22:05.957Z"
   },
   {
    "duration": 3,
    "start_time": "2024-07-27T06:22:05.985Z"
   },
   {
    "duration": 45,
    "start_time": "2024-07-27T06:22:05.989Z"
   },
   {
    "duration": 75,
    "start_time": "2024-07-27T06:22:06.035Z"
   },
   {
    "duration": 52,
    "start_time": "2024-07-27T06:22:06.111Z"
   },
   {
    "duration": 47,
    "start_time": "2024-07-27T06:22:06.164Z"
   },
   {
    "duration": 4,
    "start_time": "2024-07-27T06:22:06.212Z"
   },
   {
    "duration": 135,
    "start_time": "2024-07-27T06:22:06.218Z"
   },
   {
    "duration": 136,
    "start_time": "2024-07-27T06:22:06.354Z"
   },
   {
    "duration": 9,
    "start_time": "2024-07-27T06:22:06.492Z"
   },
   {
    "duration": 47,
    "start_time": "2024-07-27T06:22:06.503Z"
   },
   {
    "duration": 52,
    "start_time": "2024-07-27T06:22:06.551Z"
   },
   {
    "duration": 85,
    "start_time": "2024-07-27T06:22:06.604Z"
   },
   {
    "duration": 37,
    "start_time": "2024-07-27T06:22:06.691Z"
   },
   {
    "duration": 102,
    "start_time": "2024-07-27T06:22:06.730Z"
   },
   {
    "duration": 15,
    "start_time": "2024-07-27T06:22:06.834Z"
   },
   {
    "duration": 37,
    "start_time": "2024-07-27T06:22:06.850Z"
   },
   {
    "duration": 13,
    "start_time": "2024-07-27T06:22:06.889Z"
   },
   {
    "duration": 23,
    "start_time": "2024-07-27T06:22:06.904Z"
   },
   {
    "duration": 7,
    "start_time": "2024-07-27T06:22:06.928Z"
   },
   {
    "duration": 15,
    "start_time": "2024-07-27T06:22:06.936Z"
   },
   {
    "duration": 8,
    "start_time": "2024-07-27T06:22:06.952Z"
   },
   {
    "duration": 22,
    "start_time": "2024-07-27T06:22:06.962Z"
   },
   {
    "duration": 7,
    "start_time": "2024-07-27T06:22:06.986Z"
   },
   {
    "duration": 9,
    "start_time": "2024-07-27T06:22:06.994Z"
   },
   {
    "duration": 8,
    "start_time": "2024-07-27T06:22:07.005Z"
   },
   {
    "duration": 7,
    "start_time": "2024-07-27T06:22:07.014Z"
   },
   {
    "duration": 19,
    "start_time": "2024-07-27T06:22:07.022Z"
   },
   {
    "duration": 13,
    "start_time": "2024-07-27T06:22:07.043Z"
   },
   {
    "duration": 7,
    "start_time": "2024-07-27T06:22:07.058Z"
   },
   {
    "duration": 8,
    "start_time": "2024-07-27T06:22:07.082Z"
   },
   {
    "duration": 11,
    "start_time": "2024-07-27T06:23:12.322Z"
   },
   {
    "duration": 11,
    "start_time": "2024-07-27T06:23:47.841Z"
   },
   {
    "duration": 11,
    "start_time": "2024-07-27T06:24:45.002Z"
   },
   {
    "duration": 10,
    "start_time": "2024-07-27T06:25:55.351Z"
   },
   {
    "duration": 11,
    "start_time": "2024-07-27T06:26:34.773Z"
   },
   {
    "duration": 11,
    "start_time": "2024-07-27T06:27:22.412Z"
   },
   {
    "duration": 10,
    "start_time": "2024-07-27T06:28:18.937Z"
   },
   {
    "duration": 10,
    "start_time": "2024-07-27T06:28:35.817Z"
   },
   {
    "duration": 1115,
    "start_time": "2024-07-27T06:28:41.647Z"
   },
   {
    "duration": 165,
    "start_time": "2024-07-27T06:28:42.764Z"
   },
   {
    "duration": 30,
    "start_time": "2024-07-27T06:28:42.931Z"
   },
   {
    "duration": 20,
    "start_time": "2024-07-27T06:28:42.962Z"
   },
   {
    "duration": 19,
    "start_time": "2024-07-27T06:28:42.983Z"
   },
   {
    "duration": 37,
    "start_time": "2024-07-27T06:28:43.004Z"
   },
   {
    "duration": 9,
    "start_time": "2024-07-27T06:28:43.042Z"
   },
   {
    "duration": 99,
    "start_time": "2024-07-27T06:28:43.052Z"
   },
   {
    "duration": 190,
    "start_time": "2024-07-27T06:28:43.152Z"
   },
   {
    "duration": 17,
    "start_time": "2024-07-27T06:28:43.344Z"
   },
   {
    "duration": 40,
    "start_time": "2024-07-27T06:28:43.362Z"
   },
   {
    "duration": 30,
    "start_time": "2024-07-27T06:28:43.403Z"
   },
   {
    "duration": 6,
    "start_time": "2024-07-27T06:28:43.434Z"
   },
   {
    "duration": 2,
    "start_time": "2024-07-27T06:28:43.442Z"
   },
   {
    "duration": 5,
    "start_time": "2024-07-27T06:28:43.445Z"
   },
   {
    "duration": 3,
    "start_time": "2024-07-27T06:28:43.451Z"
   },
   {
    "duration": 115,
    "start_time": "2024-07-27T06:28:43.455Z"
   },
   {
    "duration": 331,
    "start_time": "2024-07-27T06:28:43.571Z"
   },
   {
    "duration": 9,
    "start_time": "2024-07-27T06:28:43.903Z"
   },
   {
    "duration": 54,
    "start_time": "2024-07-27T06:28:43.913Z"
   },
   {
    "duration": 6,
    "start_time": "2024-07-27T06:28:43.982Z"
   },
   {
    "duration": 3,
    "start_time": "2024-07-27T06:28:43.989Z"
   },
   {
    "duration": 45,
    "start_time": "2024-07-27T06:28:43.994Z"
   },
   {
    "duration": 72,
    "start_time": "2024-07-27T06:28:44.041Z"
   },
   {
    "duration": 49,
    "start_time": "2024-07-27T06:28:44.115Z"
   },
   {
    "duration": 46,
    "start_time": "2024-07-27T06:28:44.166Z"
   },
   {
    "duration": 3,
    "start_time": "2024-07-27T06:28:44.214Z"
   },
   {
    "duration": 137,
    "start_time": "2024-07-27T06:28:44.220Z"
   },
   {
    "duration": 133,
    "start_time": "2024-07-27T06:28:44.358Z"
   },
   {
    "duration": 8,
    "start_time": "2024-07-27T06:28:44.493Z"
   },
   {
    "duration": 11,
    "start_time": "2024-07-27T06:28:44.503Z"
   },
   {
    "duration": 43,
    "start_time": "2024-07-27T06:28:44.515Z"
   },
   {
    "duration": 106,
    "start_time": "2024-07-27T06:28:44.559Z"
   },
   {
    "duration": 44,
    "start_time": "2024-07-27T06:28:44.667Z"
   },
   {
    "duration": 97,
    "start_time": "2024-07-27T06:28:44.712Z"
   },
   {
    "duration": 15,
    "start_time": "2024-07-27T06:28:44.810Z"
   },
   {
    "duration": 24,
    "start_time": "2024-07-27T06:28:44.826Z"
   },
   {
    "duration": 12,
    "start_time": "2024-07-27T06:28:44.852Z"
   },
   {
    "duration": 10,
    "start_time": "2024-07-27T06:28:44.882Z"
   },
   {
    "duration": 4,
    "start_time": "2024-07-27T06:28:44.894Z"
   },
   {
    "duration": 9,
    "start_time": "2024-07-27T06:28:44.900Z"
   },
   {
    "duration": 10,
    "start_time": "2024-07-27T06:28:44.910Z"
   },
   {
    "duration": 11,
    "start_time": "2024-07-27T06:28:44.921Z"
   },
   {
    "duration": 17,
    "start_time": "2024-07-27T06:28:44.933Z"
   },
   {
    "duration": 30,
    "start_time": "2024-07-27T06:28:44.952Z"
   },
   {
    "duration": 8,
    "start_time": "2024-07-27T06:28:44.984Z"
   },
   {
    "duration": 11,
    "start_time": "2024-07-27T06:28:44.993Z"
   },
   {
    "duration": 49,
    "start_time": "2024-07-27T06:28:45.005Z"
   },
   {
    "duration": 34,
    "start_time": "2024-07-27T06:28:45.055Z"
   },
   {
    "duration": 59,
    "start_time": "2024-07-27T06:28:45.090Z"
   },
   {
    "duration": 13,
    "start_time": "2024-07-27T06:28:45.151Z"
   },
   {
    "duration": 10,
    "start_time": "2024-07-27T06:30:29.514Z"
   },
   {
    "duration": 12,
    "start_time": "2024-07-27T06:31:04.932Z"
   },
   {
    "duration": 11,
    "start_time": "2024-07-27T06:31:15.567Z"
   },
   {
    "duration": 1139,
    "start_time": "2024-07-27T06:43:22.554Z"
   },
   {
    "duration": 163,
    "start_time": "2024-07-27T06:43:23.695Z"
   },
   {
    "duration": 35,
    "start_time": "2024-07-27T06:43:23.860Z"
   },
   {
    "duration": 6,
    "start_time": "2024-07-27T06:43:23.897Z"
   },
   {
    "duration": 31,
    "start_time": "2024-07-27T06:43:23.904Z"
   },
   {
    "duration": 46,
    "start_time": "2024-07-27T06:43:23.937Z"
   },
   {
    "duration": 9,
    "start_time": "2024-07-27T06:43:23.985Z"
   },
   {
    "duration": 95,
    "start_time": "2024-07-27T06:43:23.996Z"
   },
   {
    "duration": 172,
    "start_time": "2024-07-27T06:43:24.093Z"
   },
   {
    "duration": 21,
    "start_time": "2024-07-27T06:43:24.268Z"
   },
   {
    "duration": 30,
    "start_time": "2024-07-27T06:43:24.290Z"
   },
   {
    "duration": 36,
    "start_time": "2024-07-27T06:43:24.322Z"
   },
   {
    "duration": 26,
    "start_time": "2024-07-27T06:43:24.360Z"
   },
   {
    "duration": 9,
    "start_time": "2024-07-27T06:43:24.387Z"
   },
   {
    "duration": 10,
    "start_time": "2024-07-27T06:43:24.397Z"
   },
   {
    "duration": 3,
    "start_time": "2024-07-27T06:43:24.409Z"
   },
   {
    "duration": 96,
    "start_time": "2024-07-27T06:43:24.413Z"
   },
   {
    "duration": 323,
    "start_time": "2024-07-27T06:43:24.510Z"
   },
   {
    "duration": 9,
    "start_time": "2024-07-27T06:43:24.835Z"
   },
   {
    "duration": 63,
    "start_time": "2024-07-27T06:43:24.845Z"
   },
   {
    "duration": 6,
    "start_time": "2024-07-27T06:43:24.910Z"
   },
   {
    "duration": 18,
    "start_time": "2024-07-27T06:43:24.917Z"
   },
   {
    "duration": 40,
    "start_time": "2024-07-27T06:43:24.936Z"
   },
   {
    "duration": 53,
    "start_time": "2024-07-27T06:43:24.982Z"
   },
   {
    "duration": 56,
    "start_time": "2024-07-27T06:43:25.036Z"
   },
   {
    "duration": 35,
    "start_time": "2024-07-27T06:43:25.094Z"
   },
   {
    "duration": 2,
    "start_time": "2024-07-27T06:43:25.131Z"
   },
   {
    "duration": 139,
    "start_time": "2024-07-27T06:43:25.136Z"
   },
   {
    "duration": 133,
    "start_time": "2024-07-27T06:43:25.276Z"
   },
   {
    "duration": 9,
    "start_time": "2024-07-27T06:43:25.410Z"
   },
   {
    "duration": 42,
    "start_time": "2024-07-27T06:43:25.420Z"
   },
   {
    "duration": 51,
    "start_time": "2024-07-27T06:43:25.464Z"
   },
   {
    "duration": 88,
    "start_time": "2024-07-27T06:43:25.516Z"
   },
   {
    "duration": 37,
    "start_time": "2024-07-27T06:43:25.605Z"
   },
   {
    "duration": 98,
    "start_time": "2024-07-27T06:43:25.644Z"
   },
   {
    "duration": 14,
    "start_time": "2024-07-27T06:43:25.743Z"
   },
   {
    "duration": 35,
    "start_time": "2024-07-27T06:43:25.759Z"
   },
   {
    "duration": 11,
    "start_time": "2024-07-27T06:43:25.796Z"
   },
   {
    "duration": 11,
    "start_time": "2024-07-27T06:43:25.808Z"
   },
   {
    "duration": 5,
    "start_time": "2024-07-27T06:43:25.820Z"
   },
   {
    "duration": 15,
    "start_time": "2024-07-27T06:43:25.826Z"
   },
   {
    "duration": 13,
    "start_time": "2024-07-27T06:43:25.842Z"
   },
   {
    "duration": 9,
    "start_time": "2024-07-27T06:43:25.856Z"
   },
   {
    "duration": 21,
    "start_time": "2024-07-27T06:43:25.866Z"
   },
   {
    "duration": 11,
    "start_time": "2024-07-27T06:43:25.889Z"
   },
   {
    "duration": 11,
    "start_time": "2024-07-27T06:43:25.902Z"
   },
   {
    "duration": 8,
    "start_time": "2024-07-27T06:43:25.914Z"
   },
   {
    "duration": 11,
    "start_time": "2024-07-27T06:43:25.923Z"
   },
   {
    "duration": 16,
    "start_time": "2024-07-27T06:43:25.935Z"
   },
   {
    "duration": 18,
    "start_time": "2024-07-27T06:43:25.958Z"
   },
   {
    "duration": 10,
    "start_time": "2024-07-27T06:43:25.977Z"
   },
   {
    "duration": 77,
    "start_time": "2024-07-27T06:45:01.864Z"
   },
   {
    "duration": 82,
    "start_time": "2024-07-27T06:46:02.824Z"
   },
   {
    "duration": 1075,
    "start_time": "2024-07-27T06:47:01.207Z"
   },
   {
    "duration": 165,
    "start_time": "2024-07-27T06:47:02.283Z"
   },
   {
    "duration": 30,
    "start_time": "2024-07-27T06:47:02.449Z"
   },
   {
    "duration": 147,
    "start_time": "2024-07-27T06:47:02.481Z"
   },
   {
    "duration": 51,
    "start_time": "2024-07-27T06:47:02.630Z"
   },
   {
    "duration": 55,
    "start_time": "2024-07-27T06:47:02.683Z"
   },
   {
    "duration": 8,
    "start_time": "2024-07-27T06:47:02.739Z"
   },
   {
    "duration": 86,
    "start_time": "2024-07-27T06:47:02.748Z"
   },
   {
    "duration": 88,
    "start_time": "2024-07-27T06:47:02.835Z"
   },
   {
    "duration": 167,
    "start_time": "2024-07-27T06:47:02.926Z"
   },
   {
    "duration": 16,
    "start_time": "2024-07-27T06:47:03.095Z"
   },
   {
    "duration": 33,
    "start_time": "2024-07-27T06:47:03.112Z"
   },
   {
    "duration": 44,
    "start_time": "2024-07-27T06:47:03.146Z"
   },
   {
    "duration": 10,
    "start_time": "2024-07-27T06:47:03.191Z"
   },
   {
    "duration": 4,
    "start_time": "2024-07-27T06:47:03.202Z"
   },
   {
    "duration": 6,
    "start_time": "2024-07-27T06:47:03.207Z"
   },
   {
    "duration": 13,
    "start_time": "2024-07-27T06:47:03.214Z"
   },
   {
    "duration": 108,
    "start_time": "2024-07-27T06:47:03.228Z"
   },
   {
    "duration": 328,
    "start_time": "2024-07-27T06:47:03.338Z"
   },
   {
    "duration": 18,
    "start_time": "2024-07-27T06:47:03.667Z"
   },
   {
    "duration": 74,
    "start_time": "2024-07-27T06:47:03.686Z"
   },
   {
    "duration": 7,
    "start_time": "2024-07-27T06:47:03.761Z"
   },
   {
    "duration": 19,
    "start_time": "2024-07-27T06:47:03.769Z"
   },
   {
    "duration": 47,
    "start_time": "2024-07-27T06:47:03.790Z"
   },
   {
    "duration": 56,
    "start_time": "2024-07-27T06:47:03.838Z"
   },
   {
    "duration": 51,
    "start_time": "2024-07-27T06:47:03.895Z"
   },
   {
    "duration": 50,
    "start_time": "2024-07-27T06:47:03.947Z"
   },
   {
    "duration": 4,
    "start_time": "2024-07-27T06:47:04.000Z"
   },
   {
    "duration": 141,
    "start_time": "2024-07-27T06:47:04.006Z"
   },
   {
    "duration": 135,
    "start_time": "2024-07-27T06:47:04.149Z"
   },
   {
    "duration": 9,
    "start_time": "2024-07-27T06:47:04.286Z"
   },
   {
    "duration": 33,
    "start_time": "2024-07-27T06:47:04.297Z"
   },
   {
    "duration": 112,
    "start_time": "2024-07-27T06:47:04.331Z"
   },
   {
    "duration": 84,
    "start_time": "2024-07-27T06:47:04.444Z"
   },
   {
    "duration": 36,
    "start_time": "2024-07-27T06:47:04.529Z"
   },
   {
    "duration": 98,
    "start_time": "2024-07-27T06:47:04.566Z"
   },
   {
    "duration": 18,
    "start_time": "2024-07-27T06:47:04.666Z"
   },
   {
    "duration": 49,
    "start_time": "2024-07-27T06:47:04.685Z"
   },
   {
    "duration": 35,
    "start_time": "2024-07-27T06:47:04.735Z"
   },
   {
    "duration": 35,
    "start_time": "2024-07-27T06:47:04.772Z"
   },
   {
    "duration": 7,
    "start_time": "2024-07-27T06:47:04.808Z"
   },
   {
    "duration": 24,
    "start_time": "2024-07-27T06:47:04.816Z"
   },
   {
    "duration": 23,
    "start_time": "2024-07-27T06:47:04.841Z"
   },
   {
    "duration": 28,
    "start_time": "2024-07-27T06:47:04.866Z"
   },
   {
    "duration": 11,
    "start_time": "2024-07-27T06:47:04.895Z"
   },
   {
    "duration": 24,
    "start_time": "2024-07-27T06:47:04.907Z"
   },
   {
    "duration": 9,
    "start_time": "2024-07-27T06:47:04.933Z"
   },
   {
    "duration": 21,
    "start_time": "2024-07-27T06:47:04.943Z"
   },
   {
    "duration": 67,
    "start_time": "2024-07-27T06:47:04.965Z"
   },
   {
    "duration": 21,
    "start_time": "2024-07-27T06:47:05.034Z"
   },
   {
    "duration": 34,
    "start_time": "2024-07-27T06:47:05.057Z"
   },
   {
    "duration": 16,
    "start_time": "2024-07-27T06:47:05.092Z"
   },
   {
    "duration": 1346,
    "start_time": "2024-07-27T06:59:31.932Z"
   },
   {
    "duration": 710,
    "start_time": "2024-07-27T06:59:33.280Z"
   },
   {
    "duration": 38,
    "start_time": "2024-07-27T06:59:33.992Z"
   },
   {
    "duration": 13,
    "start_time": "2024-07-27T06:59:34.032Z"
   },
   {
    "duration": 31,
    "start_time": "2024-07-27T06:59:34.047Z"
   },
   {
    "duration": 52,
    "start_time": "2024-07-27T06:59:34.080Z"
   },
   {
    "duration": 9,
    "start_time": "2024-07-27T06:59:34.133Z"
   },
   {
    "duration": 104,
    "start_time": "2024-07-27T06:59:34.144Z"
   },
   {
    "duration": 108,
    "start_time": "2024-07-27T06:59:34.250Z"
   },
   {
    "duration": 184,
    "start_time": "2024-07-27T06:59:34.361Z"
   },
   {
    "duration": 19,
    "start_time": "2024-07-27T06:59:34.547Z"
   },
   {
    "duration": 48,
    "start_time": "2024-07-27T06:59:34.568Z"
   },
   {
    "duration": 30,
    "start_time": "2024-07-27T06:59:34.617Z"
   },
   {
    "duration": 6,
    "start_time": "2024-07-27T06:59:34.648Z"
   },
   {
    "duration": 10,
    "start_time": "2024-07-27T06:59:34.655Z"
   },
   {
    "duration": 12,
    "start_time": "2024-07-27T06:59:34.666Z"
   },
   {
    "duration": 6,
    "start_time": "2024-07-27T06:59:34.680Z"
   },
   {
    "duration": 119,
    "start_time": "2024-07-27T06:59:34.687Z"
   },
   {
    "duration": 385,
    "start_time": "2024-07-27T06:59:34.807Z"
   },
   {
    "duration": 15,
    "start_time": "2024-07-27T06:59:35.193Z"
   },
   {
    "duration": 60,
    "start_time": "2024-07-27T06:59:35.209Z"
   },
   {
    "duration": 8,
    "start_time": "2024-07-27T06:59:35.271Z"
   },
   {
    "duration": 25,
    "start_time": "2024-07-27T06:59:35.280Z"
   },
   {
    "duration": 44,
    "start_time": "2024-07-27T06:59:35.307Z"
   },
   {
    "duration": 81,
    "start_time": "2024-07-27T06:59:35.353Z"
   },
   {
    "duration": 58,
    "start_time": "2024-07-27T06:59:35.436Z"
   },
   {
    "duration": 44,
    "start_time": "2024-07-27T06:59:35.505Z"
   },
   {
    "duration": 41,
    "start_time": "2024-07-27T06:59:35.554Z"
   },
   {
    "duration": 155,
    "start_time": "2024-07-27T06:59:35.597Z"
   },
   {
    "duration": 169,
    "start_time": "2024-07-27T06:59:35.754Z"
   },
   {
    "duration": 9,
    "start_time": "2024-07-27T06:59:35.925Z"
   },
   {
    "duration": 36,
    "start_time": "2024-07-27T06:59:35.936Z"
   },
   {
    "duration": 67,
    "start_time": "2024-07-27T06:59:35.973Z"
   },
   {
    "duration": 113,
    "start_time": "2024-07-27T06:59:36.042Z"
   },
   {
    "duration": 41,
    "start_time": "2024-07-27T06:59:36.156Z"
   },
   {
    "duration": 100,
    "start_time": "2024-07-27T06:59:36.208Z"
   },
   {
    "duration": 17,
    "start_time": "2024-07-27T06:59:36.310Z"
   },
   {
    "duration": 29,
    "start_time": "2024-07-27T06:59:36.329Z"
   },
   {
    "duration": 24,
    "start_time": "2024-07-27T06:59:36.360Z"
   },
   {
    "duration": 29,
    "start_time": "2024-07-27T06:59:36.385Z"
   },
   {
    "duration": 109,
    "start_time": "2024-07-27T06:59:36.416Z"
   },
   {
    "duration": 14,
    "start_time": "2024-07-27T06:59:36.526Z"
   },
   {
    "duration": 10,
    "start_time": "2024-07-27T06:59:36.541Z"
   },
   {
    "duration": 11,
    "start_time": "2024-07-27T06:59:36.552Z"
   },
   {
    "duration": 9,
    "start_time": "2024-07-27T06:59:36.564Z"
   },
   {
    "duration": 10,
    "start_time": "2024-07-27T06:59:36.575Z"
   },
   {
    "duration": 34,
    "start_time": "2024-07-27T06:59:36.586Z"
   },
   {
    "duration": 18,
    "start_time": "2024-07-27T06:59:36.622Z"
   },
   {
    "duration": 11,
    "start_time": "2024-07-27T06:59:36.642Z"
   },
   {
    "duration": 9,
    "start_time": "2024-07-27T06:59:36.654Z"
   },
   {
    "duration": 8,
    "start_time": "2024-07-27T06:59:36.664Z"
   },
   {
    "duration": 11,
    "start_time": "2024-07-27T06:59:36.674Z"
   }
  ],
  "kernelspec": {
   "display_name": "Python 3 (ipykernel)",
   "language": "python",
   "name": "python3"
  },
  "language_info": {
   "codemirror_mode": {
    "name": "ipython",
    "version": 3
   },
   "file_extension": ".py",
   "mimetype": "text/x-python",
   "name": "python",
   "nbconvert_exporter": "python",
   "pygments_lexer": "ipython3",
   "version": "3.11.7"
  },
  "toc": {
   "base_numbering": 1,
   "nav_menu": {},
   "number_sections": true,
   "sideBar": true,
   "skip_h1_title": true,
   "title_cell": "Table of Contents",
   "title_sidebar": "Contents",
   "toc_cell": false,
   "toc_position": {
    "height": "calc(100% - 180px)",
    "left": "10px",
    "top": "150px",
    "width": "165px"
   },
   "toc_section_display": true,
   "toc_window_display": true
  }
 },
 "nbformat": 4,
 "nbformat_minor": 4
}
