{
 "cells": [
  {
   "cell_type": "markdown",
   "id": "386f2ae7",
   "metadata": {
    "deletable": false,
    "editable": false,
    "id": "386f2ae7"
   },
   "source": [
    "# Исследование надежности заемщиков\n"
   ]
  },
  {
   "cell_type": "markdown",
   "id": "26613308",
   "metadata": {
    "deletable": false,
    "editable": false,
    "id": "26613308"
   },
   "source": [
    "## Откройте таблицу и изучите общую информацию о данных"
   ]
  },
  {
   "cell_type": "markdown",
   "id": "ffe86f65",
   "metadata": {
    "deletable": false,
    "editable": false,
    "id": "ffe86f65"
   },
   "source": [
    "Во второй части проекта вы выполните шаги 3 и 4. Их вручную проверит ревьюер.\n",
    "Чтобы вам не пришлось писать код заново для шагов 1 и 2, мы добавили авторские решения в ячейки с кодом. \n",
    "\n"
   ]
  },
  {
   "cell_type": "markdown",
   "id": "3c9f838e",
   "metadata": {
    "deletable": false,
    "editable": false,
    "id": "3c9f838e"
   },
   "source": [
    "**Задание 1. Импортируйте библиотеку pandas. Считайте данные из csv-файла в датафрейм и сохраните в переменную `data`. Путь к файлу:**\n",
    "\n",
    "`/datasets/data.csv`"
   ]
  },
  {
   "cell_type": "code",
   "execution_count": 1,
   "id": "77a68a90",
   "metadata": {
    "deletable": false,
    "id": "77a68a90"
   },
   "outputs": [],
   "source": [
    "import pandas as pd\n",
    "\n",
    "try:\n",
    "    data = pd.read_csv('/datasets/data.csv')\n",
    "except:\n",
    "    data = pd.read_csv('https://code.s3.yandex.net/datasets/data.csv')"
   ]
  },
  {
   "cell_type": "markdown",
   "id": "45365635",
   "metadata": {
    "deletable": false,
    "editable": false,
    "id": "45365635"
   },
   "source": [
    "**Задание 2. Выведите первые 20 строчек датафрейма `data` на экран.**"
   ]
  },
  {
   "cell_type": "code",
   "execution_count": 2,
   "id": "b0451a9a",
   "metadata": {
    "deletable": false,
    "id": "b0451a9a",
    "outputId": "1a8f3ef2-d323-4ec2-ddf7-89670b5944c4"
   },
   "outputs": [
    {
     "data": {
      "text/html": [
       "<div>\n",
       "<style scoped>\n",
       "    .dataframe tbody tr th:only-of-type {\n",
       "        vertical-align: middle;\n",
       "    }\n",
       "\n",
       "    .dataframe tbody tr th {\n",
       "        vertical-align: top;\n",
       "    }\n",
       "\n",
       "    .dataframe thead th {\n",
       "        text-align: right;\n",
       "    }\n",
       "</style>\n",
       "<table border=\"1\" class=\"dataframe\">\n",
       "  <thead>\n",
       "    <tr style=\"text-align: right;\">\n",
       "      <th></th>\n",
       "      <th>children</th>\n",
       "      <th>days_employed</th>\n",
       "      <th>dob_years</th>\n",
       "      <th>education</th>\n",
       "      <th>education_id</th>\n",
       "      <th>family_status</th>\n",
       "      <th>family_status_id</th>\n",
       "      <th>gender</th>\n",
       "      <th>income_type</th>\n",
       "      <th>debt</th>\n",
       "      <th>total_income</th>\n",
       "      <th>purpose</th>\n",
       "    </tr>\n",
       "  </thead>\n",
       "  <tbody>\n",
       "    <tr>\n",
       "      <th>0</th>\n",
       "      <td>1</td>\n",
       "      <td>-8437.673028</td>\n",
       "      <td>42</td>\n",
       "      <td>высшее</td>\n",
       "      <td>0</td>\n",
       "      <td>женат / замужем</td>\n",
       "      <td>0</td>\n",
       "      <td>F</td>\n",
       "      <td>сотрудник</td>\n",
       "      <td>0</td>\n",
       "      <td>253875.639453</td>\n",
       "      <td>покупка жилья</td>\n",
       "    </tr>\n",
       "    <tr>\n",
       "      <th>1</th>\n",
       "      <td>1</td>\n",
       "      <td>-4024.803754</td>\n",
       "      <td>36</td>\n",
       "      <td>среднее</td>\n",
       "      <td>1</td>\n",
       "      <td>женат / замужем</td>\n",
       "      <td>0</td>\n",
       "      <td>F</td>\n",
       "      <td>сотрудник</td>\n",
       "      <td>0</td>\n",
       "      <td>112080.014102</td>\n",
       "      <td>приобретение автомобиля</td>\n",
       "    </tr>\n",
       "    <tr>\n",
       "      <th>2</th>\n",
       "      <td>0</td>\n",
       "      <td>-5623.422610</td>\n",
       "      <td>33</td>\n",
       "      <td>Среднее</td>\n",
       "      <td>1</td>\n",
       "      <td>женат / замужем</td>\n",
       "      <td>0</td>\n",
       "      <td>M</td>\n",
       "      <td>сотрудник</td>\n",
       "      <td>0</td>\n",
       "      <td>145885.952297</td>\n",
       "      <td>покупка жилья</td>\n",
       "    </tr>\n",
       "    <tr>\n",
       "      <th>3</th>\n",
       "      <td>3</td>\n",
       "      <td>-4124.747207</td>\n",
       "      <td>32</td>\n",
       "      <td>среднее</td>\n",
       "      <td>1</td>\n",
       "      <td>женат / замужем</td>\n",
       "      <td>0</td>\n",
       "      <td>M</td>\n",
       "      <td>сотрудник</td>\n",
       "      <td>0</td>\n",
       "      <td>267628.550329</td>\n",
       "      <td>дополнительное образование</td>\n",
       "    </tr>\n",
       "    <tr>\n",
       "      <th>4</th>\n",
       "      <td>0</td>\n",
       "      <td>340266.072047</td>\n",
       "      <td>53</td>\n",
       "      <td>среднее</td>\n",
       "      <td>1</td>\n",
       "      <td>гражданский брак</td>\n",
       "      <td>1</td>\n",
       "      <td>F</td>\n",
       "      <td>пенсионер</td>\n",
       "      <td>0</td>\n",
       "      <td>158616.077870</td>\n",
       "      <td>сыграть свадьбу</td>\n",
       "    </tr>\n",
       "    <tr>\n",
       "      <th>5</th>\n",
       "      <td>0</td>\n",
       "      <td>-926.185831</td>\n",
       "      <td>27</td>\n",
       "      <td>высшее</td>\n",
       "      <td>0</td>\n",
       "      <td>гражданский брак</td>\n",
       "      <td>1</td>\n",
       "      <td>M</td>\n",
       "      <td>компаньон</td>\n",
       "      <td>0</td>\n",
       "      <td>255763.565419</td>\n",
       "      <td>покупка жилья</td>\n",
       "    </tr>\n",
       "    <tr>\n",
       "      <th>6</th>\n",
       "      <td>0</td>\n",
       "      <td>-2879.202052</td>\n",
       "      <td>43</td>\n",
       "      <td>высшее</td>\n",
       "      <td>0</td>\n",
       "      <td>женат / замужем</td>\n",
       "      <td>0</td>\n",
       "      <td>F</td>\n",
       "      <td>компаньон</td>\n",
       "      <td>0</td>\n",
       "      <td>240525.971920</td>\n",
       "      <td>операции с жильем</td>\n",
       "    </tr>\n",
       "    <tr>\n",
       "      <th>7</th>\n",
       "      <td>0</td>\n",
       "      <td>-152.779569</td>\n",
       "      <td>50</td>\n",
       "      <td>СРЕДНЕЕ</td>\n",
       "      <td>1</td>\n",
       "      <td>женат / замужем</td>\n",
       "      <td>0</td>\n",
       "      <td>M</td>\n",
       "      <td>сотрудник</td>\n",
       "      <td>0</td>\n",
       "      <td>135823.934197</td>\n",
       "      <td>образование</td>\n",
       "    </tr>\n",
       "    <tr>\n",
       "      <th>8</th>\n",
       "      <td>2</td>\n",
       "      <td>-6929.865299</td>\n",
       "      <td>35</td>\n",
       "      <td>ВЫСШЕЕ</td>\n",
       "      <td>0</td>\n",
       "      <td>гражданский брак</td>\n",
       "      <td>1</td>\n",
       "      <td>F</td>\n",
       "      <td>сотрудник</td>\n",
       "      <td>0</td>\n",
       "      <td>95856.832424</td>\n",
       "      <td>на проведение свадьбы</td>\n",
       "    </tr>\n",
       "    <tr>\n",
       "      <th>9</th>\n",
       "      <td>0</td>\n",
       "      <td>-2188.756445</td>\n",
       "      <td>41</td>\n",
       "      <td>среднее</td>\n",
       "      <td>1</td>\n",
       "      <td>женат / замужем</td>\n",
       "      <td>0</td>\n",
       "      <td>M</td>\n",
       "      <td>сотрудник</td>\n",
       "      <td>0</td>\n",
       "      <td>144425.938277</td>\n",
       "      <td>покупка жилья для семьи</td>\n",
       "    </tr>\n",
       "    <tr>\n",
       "      <th>10</th>\n",
       "      <td>2</td>\n",
       "      <td>-4171.483647</td>\n",
       "      <td>36</td>\n",
       "      <td>высшее</td>\n",
       "      <td>0</td>\n",
       "      <td>женат / замужем</td>\n",
       "      <td>0</td>\n",
       "      <td>M</td>\n",
       "      <td>компаньон</td>\n",
       "      <td>0</td>\n",
       "      <td>113943.491460</td>\n",
       "      <td>покупка недвижимости</td>\n",
       "    </tr>\n",
       "    <tr>\n",
       "      <th>11</th>\n",
       "      <td>0</td>\n",
       "      <td>-792.701887</td>\n",
       "      <td>40</td>\n",
       "      <td>среднее</td>\n",
       "      <td>1</td>\n",
       "      <td>женат / замужем</td>\n",
       "      <td>0</td>\n",
       "      <td>F</td>\n",
       "      <td>сотрудник</td>\n",
       "      <td>0</td>\n",
       "      <td>77069.234271</td>\n",
       "      <td>покупка коммерческой недвижимости</td>\n",
       "    </tr>\n",
       "    <tr>\n",
       "      <th>12</th>\n",
       "      <td>0</td>\n",
       "      <td>NaN</td>\n",
       "      <td>65</td>\n",
       "      <td>среднее</td>\n",
       "      <td>1</td>\n",
       "      <td>гражданский брак</td>\n",
       "      <td>1</td>\n",
       "      <td>M</td>\n",
       "      <td>пенсионер</td>\n",
       "      <td>0</td>\n",
       "      <td>NaN</td>\n",
       "      <td>сыграть свадьбу</td>\n",
       "    </tr>\n",
       "    <tr>\n",
       "      <th>13</th>\n",
       "      <td>0</td>\n",
       "      <td>-1846.641941</td>\n",
       "      <td>54</td>\n",
       "      <td>неоконченное высшее</td>\n",
       "      <td>2</td>\n",
       "      <td>женат / замужем</td>\n",
       "      <td>0</td>\n",
       "      <td>F</td>\n",
       "      <td>сотрудник</td>\n",
       "      <td>0</td>\n",
       "      <td>130458.228857</td>\n",
       "      <td>приобретение автомобиля</td>\n",
       "    </tr>\n",
       "    <tr>\n",
       "      <th>14</th>\n",
       "      <td>0</td>\n",
       "      <td>-1844.956182</td>\n",
       "      <td>56</td>\n",
       "      <td>высшее</td>\n",
       "      <td>0</td>\n",
       "      <td>гражданский брак</td>\n",
       "      <td>1</td>\n",
       "      <td>F</td>\n",
       "      <td>компаньон</td>\n",
       "      <td>1</td>\n",
       "      <td>165127.911772</td>\n",
       "      <td>покупка жилой недвижимости</td>\n",
       "    </tr>\n",
       "    <tr>\n",
       "      <th>15</th>\n",
       "      <td>1</td>\n",
       "      <td>-972.364419</td>\n",
       "      <td>26</td>\n",
       "      <td>среднее</td>\n",
       "      <td>1</td>\n",
       "      <td>женат / замужем</td>\n",
       "      <td>0</td>\n",
       "      <td>F</td>\n",
       "      <td>сотрудник</td>\n",
       "      <td>0</td>\n",
       "      <td>116820.904450</td>\n",
       "      <td>строительство собственной недвижимости</td>\n",
       "    </tr>\n",
       "    <tr>\n",
       "      <th>16</th>\n",
       "      <td>0</td>\n",
       "      <td>-1719.934226</td>\n",
       "      <td>35</td>\n",
       "      <td>среднее</td>\n",
       "      <td>1</td>\n",
       "      <td>женат / замужем</td>\n",
       "      <td>0</td>\n",
       "      <td>F</td>\n",
       "      <td>сотрудник</td>\n",
       "      <td>0</td>\n",
       "      <td>289202.704229</td>\n",
       "      <td>недвижимость</td>\n",
       "    </tr>\n",
       "    <tr>\n",
       "      <th>17</th>\n",
       "      <td>0</td>\n",
       "      <td>-2369.999720</td>\n",
       "      <td>33</td>\n",
       "      <td>высшее</td>\n",
       "      <td>0</td>\n",
       "      <td>гражданский брак</td>\n",
       "      <td>1</td>\n",
       "      <td>M</td>\n",
       "      <td>сотрудник</td>\n",
       "      <td>0</td>\n",
       "      <td>90410.586745</td>\n",
       "      <td>строительство недвижимости</td>\n",
       "    </tr>\n",
       "    <tr>\n",
       "      <th>18</th>\n",
       "      <td>0</td>\n",
       "      <td>400281.136913</td>\n",
       "      <td>53</td>\n",
       "      <td>среднее</td>\n",
       "      <td>1</td>\n",
       "      <td>вдовец / вдова</td>\n",
       "      <td>2</td>\n",
       "      <td>F</td>\n",
       "      <td>пенсионер</td>\n",
       "      <td>0</td>\n",
       "      <td>56823.777243</td>\n",
       "      <td>на покупку подержанного автомобиля</td>\n",
       "    </tr>\n",
       "    <tr>\n",
       "      <th>19</th>\n",
       "      <td>0</td>\n",
       "      <td>-10038.818549</td>\n",
       "      <td>48</td>\n",
       "      <td>СРЕДНЕЕ</td>\n",
       "      <td>1</td>\n",
       "      <td>в разводе</td>\n",
       "      <td>3</td>\n",
       "      <td>F</td>\n",
       "      <td>сотрудник</td>\n",
       "      <td>0</td>\n",
       "      <td>242831.107982</td>\n",
       "      <td>на покупку своего автомобиля</td>\n",
       "    </tr>\n",
       "  </tbody>\n",
       "</table>\n",
       "</div>"
      ],
      "text/plain": [
       "    children  days_employed  dob_years            education  education_id  \\\n",
       "0          1   -8437.673028         42               высшее             0   \n",
       "1          1   -4024.803754         36              среднее             1   \n",
       "2          0   -5623.422610         33              Среднее             1   \n",
       "3          3   -4124.747207         32              среднее             1   \n",
       "4          0  340266.072047         53              среднее             1   \n",
       "5          0    -926.185831         27               высшее             0   \n",
       "6          0   -2879.202052         43               высшее             0   \n",
       "7          0    -152.779569         50              СРЕДНЕЕ             1   \n",
       "8          2   -6929.865299         35               ВЫСШЕЕ             0   \n",
       "9          0   -2188.756445         41              среднее             1   \n",
       "10         2   -4171.483647         36               высшее             0   \n",
       "11         0    -792.701887         40              среднее             1   \n",
       "12         0            NaN         65              среднее             1   \n",
       "13         0   -1846.641941         54  неоконченное высшее             2   \n",
       "14         0   -1844.956182         56               высшее             0   \n",
       "15         1    -972.364419         26              среднее             1   \n",
       "16         0   -1719.934226         35              среднее             1   \n",
       "17         0   -2369.999720         33               высшее             0   \n",
       "18         0  400281.136913         53              среднее             1   \n",
       "19         0  -10038.818549         48              СРЕДНЕЕ             1   \n",
       "\n",
       "       family_status  family_status_id gender income_type  debt  \\\n",
       "0    женат / замужем                 0      F   сотрудник     0   \n",
       "1    женат / замужем                 0      F   сотрудник     0   \n",
       "2    женат / замужем                 0      M   сотрудник     0   \n",
       "3    женат / замужем                 0      M   сотрудник     0   \n",
       "4   гражданский брак                 1      F   пенсионер     0   \n",
       "5   гражданский брак                 1      M   компаньон     0   \n",
       "6    женат / замужем                 0      F   компаньон     0   \n",
       "7    женат / замужем                 0      M   сотрудник     0   \n",
       "8   гражданский брак                 1      F   сотрудник     0   \n",
       "9    женат / замужем                 0      M   сотрудник     0   \n",
       "10   женат / замужем                 0      M   компаньон     0   \n",
       "11   женат / замужем                 0      F   сотрудник     0   \n",
       "12  гражданский брак                 1      M   пенсионер     0   \n",
       "13   женат / замужем                 0      F   сотрудник     0   \n",
       "14  гражданский брак                 1      F   компаньон     1   \n",
       "15   женат / замужем                 0      F   сотрудник     0   \n",
       "16   женат / замужем                 0      F   сотрудник     0   \n",
       "17  гражданский брак                 1      M   сотрудник     0   \n",
       "18    вдовец / вдова                 2      F   пенсионер     0   \n",
       "19         в разводе                 3      F   сотрудник     0   \n",
       "\n",
       "     total_income                                 purpose  \n",
       "0   253875.639453                           покупка жилья  \n",
       "1   112080.014102                 приобретение автомобиля  \n",
       "2   145885.952297                           покупка жилья  \n",
       "3   267628.550329              дополнительное образование  \n",
       "4   158616.077870                         сыграть свадьбу  \n",
       "5   255763.565419                           покупка жилья  \n",
       "6   240525.971920                       операции с жильем  \n",
       "7   135823.934197                             образование  \n",
       "8    95856.832424                   на проведение свадьбы  \n",
       "9   144425.938277                 покупка жилья для семьи  \n",
       "10  113943.491460                    покупка недвижимости  \n",
       "11   77069.234271       покупка коммерческой недвижимости  \n",
       "12            NaN                         сыграть свадьбу  \n",
       "13  130458.228857                 приобретение автомобиля  \n",
       "14  165127.911772              покупка жилой недвижимости  \n",
       "15  116820.904450  строительство собственной недвижимости  \n",
       "16  289202.704229                            недвижимость  \n",
       "17   90410.586745              строительство недвижимости  \n",
       "18   56823.777243      на покупку подержанного автомобиля  \n",
       "19  242831.107982            на покупку своего автомобиля  "
      ]
     },
     "execution_count": 2,
     "metadata": {},
     "output_type": "execute_result"
    }
   ],
   "source": [
    "data.head(20)"
   ]
  },
  {
   "cell_type": "markdown",
   "id": "0ed8f27f",
   "metadata": {
    "deletable": false,
    "editable": false,
    "id": "0ed8f27f"
   },
   "source": [
    "**Задание 3. Выведите основную информацию о датафрейме с помощью метода `info()`.**"
   ]
  },
  {
   "cell_type": "code",
   "execution_count": 3,
   "id": "ab3f863b",
   "metadata": {
    "deletable": false,
    "id": "ab3f863b",
    "outputId": "15376089-8dad-46c9-b520-c05248d43158"
   },
   "outputs": [
    {
     "name": "stdout",
     "output_type": "stream",
     "text": [
      "<class 'pandas.core.frame.DataFrame'>\n",
      "RangeIndex: 21525 entries, 0 to 21524\n",
      "Data columns (total 12 columns):\n",
      " #   Column            Non-Null Count  Dtype  \n",
      "---  ------            --------------  -----  \n",
      " 0   children          21525 non-null  int64  \n",
      " 1   days_employed     19351 non-null  float64\n",
      " 2   dob_years         21525 non-null  int64  \n",
      " 3   education         21525 non-null  object \n",
      " 4   education_id      21525 non-null  int64  \n",
      " 5   family_status     21525 non-null  object \n",
      " 6   family_status_id  21525 non-null  int64  \n",
      " 7   gender            21525 non-null  object \n",
      " 8   income_type       21525 non-null  object \n",
      " 9   debt              21525 non-null  int64  \n",
      " 10  total_income      19351 non-null  float64\n",
      " 11  purpose           21525 non-null  object \n",
      "dtypes: float64(2), int64(5), object(5)\n",
      "memory usage: 2.0+ MB\n"
     ]
    }
   ],
   "source": [
    "data.info()"
   ]
  },
  {
   "cell_type": "markdown",
   "id": "60e3e22d",
   "metadata": {
    "deletable": false,
    "editable": false,
    "id": "60e3e22d"
   },
   "source": [
    "## Предобработка данных"
   ]
  },
  {
   "cell_type": "markdown",
   "id": "03dc170c",
   "metadata": {
    "deletable": false,
    "editable": false,
    "id": "03dc170c"
   },
   "source": [
    "### Удаление пропусков"
   ]
  },
  {
   "cell_type": "markdown",
   "id": "a4f54eef",
   "metadata": {
    "deletable": false,
    "editable": false,
    "id": "a4f54eef"
   },
   "source": [
    "**Задание 4. Выведите количество пропущенных значений для каждого столбца. Используйте комбинацию двух методов.**"
   ]
  },
  {
   "cell_type": "code",
   "execution_count": 4,
   "id": "2dc372b2",
   "metadata": {
    "deletable": false,
    "id": "2dc372b2",
    "outputId": "81f4d817-781c-465c-ed15-91ce4446810d"
   },
   "outputs": [
    {
     "data": {
      "text/plain": [
       "children               0\n",
       "days_employed       2174\n",
       "dob_years              0\n",
       "education              0\n",
       "education_id           0\n",
       "family_status          0\n",
       "family_status_id       0\n",
       "gender                 0\n",
       "income_type            0\n",
       "debt                   0\n",
       "total_income        2174\n",
       "purpose                0\n",
       "dtype: int64"
      ]
     },
     "execution_count": 4,
     "metadata": {},
     "output_type": "execute_result"
    }
   ],
   "source": [
    "data.isna().sum()"
   ]
  },
  {
   "cell_type": "markdown",
   "id": "14f011b1",
   "metadata": {
    "deletable": false,
    "editable": false,
    "id": "14f011b1"
   },
   "source": [
    "**Задание 5. В двух столбцах есть пропущенные значения. Один из них — `days_employed`. Пропуски в этом столбце вы обработаете на следующем этапе. Другой столбец с пропущенными значениями — `total_income` — хранит данные о доходах. На сумму дохода сильнее всего влияет тип занятости, поэтому заполнить пропуски в этом столбце нужно медианным значением по каждому типу из столбца `income_type`. Например, у человека с типом занятости `сотрудник` пропуск в столбце `total_income` должен быть заполнен медианным доходом среди всех записей с тем же типом.**"
   ]
  },
  {
   "cell_type": "code",
   "execution_count": 5,
   "id": "bdabfb6e",
   "metadata": {
    "deletable": false,
    "id": "bdabfb6e"
   },
   "outputs": [],
   "source": [
    "for t in data['income_type'].unique():\n",
    "    data.loc[(data['income_type'] == t) & (data['total_income'].isna()), 'total_income'] = \\\n",
    "    data.loc[(data['income_type'] == t), 'total_income'].median()"
   ]
  },
  {
   "cell_type": "markdown",
   "id": "5be34059",
   "metadata": {
    "deletable": false,
    "editable": false,
    "id": "5be34059"
   },
   "source": [
    "### Обработка аномальных значений"
   ]
  },
  {
   "cell_type": "markdown",
   "id": "a87606cb",
   "metadata": {
    "deletable": false,
    "editable": false,
    "id": "a87606cb"
   },
   "source": [
    "**Задание 6. В данных могут встречаться артефакты (аномалии) — значения, которые не отражают действительность и появились по какой-то ошибке. таким артефактом будет отрицательное количество дней трудового стажа в столбце `days_employed`. Для реальных данных это нормально. Обработайте значения в этом столбце: замените все отрицательные значения положительными с помощью метода `abs()`.**"
   ]
  },
  {
   "cell_type": "code",
   "execution_count": 6,
   "id": "020c46cc",
   "metadata": {
    "deletable": false,
    "id": "020c46cc"
   },
   "outputs": [],
   "source": [
    "data['days_employed'] = data['days_employed'].abs()"
   ]
  },
  {
   "cell_type": "markdown",
   "id": "45538a3a",
   "metadata": {
    "deletable": false,
    "editable": false,
    "id": "45538a3a"
   },
   "source": [
    "**Задание 7. Для каждого типа занятости выведите медианное значение трудового стажа `days_employed` в днях.**"
   ]
  },
  {
   "cell_type": "code",
   "execution_count": 7,
   "id": "cd3e6328",
   "metadata": {
    "deletable": false,
    "id": "cd3e6328",
    "outputId": "801ef80e-522b-4668-f34e-565af7432bcf"
   },
   "outputs": [
    {
     "data": {
      "text/plain": [
       "income_type\n",
       "безработный        366413.652744\n",
       "в декрете            3296.759962\n",
       "госслужащий          2689.368353\n",
       "компаньон            1547.382223\n",
       "пенсионер          365213.306266\n",
       "предприниматель       520.848083\n",
       "сотрудник            1574.202821\n",
       "студент               578.751554\n",
       "Name: days_employed, dtype: float64"
      ]
     },
     "execution_count": 7,
     "metadata": {},
     "output_type": "execute_result"
    }
   ],
   "source": [
    "data.groupby('income_type')['days_employed'].agg('median')"
   ]
  },
  {
   "cell_type": "markdown",
   "id": "90c5f058",
   "metadata": {
    "deletable": false,
    "editable": false,
    "id": "90c5f058"
   },
   "source": [
    "У двух типов (безработные и пенсионеры) получатся аномально большие значения. Исправить такие значения сложно, поэтому оставьте их как есть."
   ]
  },
  {
   "cell_type": "markdown",
   "id": "9652e50d",
   "metadata": {
    "deletable": false,
    "editable": false,
    "id": "9652e50d"
   },
   "source": [
    "**Задание 8. Выведите перечень уникальных значений столбца `children`.**"
   ]
  },
  {
   "cell_type": "code",
   "execution_count": 8,
   "id": "dbb37b8e",
   "metadata": {
    "deletable": false,
    "id": "dbb37b8e",
    "outputId": "6975b15c-7f95-4697-d16d-a0c79b657b03"
   },
   "outputs": [
    {
     "data": {
      "text/plain": [
       "array([ 1,  0,  3,  2, -1,  4, 20,  5], dtype=int64)"
      ]
     },
     "execution_count": 8,
     "metadata": {},
     "output_type": "execute_result"
    }
   ],
   "source": [
    "data['children'].unique()"
   ]
  },
  {
   "cell_type": "markdown",
   "id": "2b8b0715",
   "metadata": {
    "deletable": false,
    "editable": false,
    "id": "2b8b0715"
   },
   "source": [
    "**Задание 9. В столбце `children` есть два аномальных значения. Удалите строки, в которых встречаются такие аномальные значения из датафрейма `data`.**"
   ]
  },
  {
   "cell_type": "code",
   "execution_count": 9,
   "id": "20009df8",
   "metadata": {
    "deletable": false,
    "id": "20009df8"
   },
   "outputs": [],
   "source": [
    "data = data[(data['children'] != -1) & (data['children'] != 20)]"
   ]
  },
  {
   "cell_type": "markdown",
   "id": "8c6ac9f1",
   "metadata": {
    "deletable": false,
    "editable": false,
    "id": "8c6ac9f1"
   },
   "source": [
    "**Задание 10. Ещё раз выведите перечень уникальных значений столбца `children`, чтобы убедиться, что артефакты удалены.**"
   ]
  },
  {
   "cell_type": "code",
   "execution_count": 10,
   "id": "07337b81",
   "metadata": {
    "deletable": false,
    "id": "07337b81",
    "outputId": "b2097101-d49d-44d9-901b-32a65c9463d1"
   },
   "outputs": [
    {
     "data": {
      "text/plain": [
       "array([1, 0, 3, 2, 4, 5], dtype=int64)"
      ]
     },
     "execution_count": 10,
     "metadata": {},
     "output_type": "execute_result"
    }
   ],
   "source": [
    "data['children'].unique()"
   ]
  },
  {
   "cell_type": "markdown",
   "id": "ee3f52d4",
   "metadata": {
    "deletable": false,
    "editable": false,
    "id": "ee3f52d4"
   },
   "source": [
    "### Удаление пропусков (продолжение)"
   ]
  },
  {
   "cell_type": "markdown",
   "id": "a700b0e4",
   "metadata": {
    "deletable": false,
    "editable": false,
    "id": "a700b0e4"
   },
   "source": [
    "**Задание 11. Заполните пропуски в столбце `days_employed` медианными значениями по каждого типа занятости `income_type`.**"
   ]
  },
  {
   "cell_type": "code",
   "execution_count": 11,
   "id": "61946b83",
   "metadata": {
    "deletable": false,
    "id": "61946b83"
   },
   "outputs": [],
   "source": [
    "for t in data['income_type'].unique():\n",
    "    data.loc[(data['income_type'] == t) & (data['days_employed'].isna()), 'days_employed'] = \\\n",
    "    data.loc[(data['income_type'] == t), 'days_employed'].median()"
   ]
  },
  {
   "cell_type": "markdown",
   "id": "550dcd9b",
   "metadata": {
    "deletable": false,
    "editable": false,
    "id": "550dcd9b"
   },
   "source": [
    "**Задание 12. Убедитесь, что все пропуски заполнены. Проверьте себя и ещё раз выведите количество пропущенных значений для каждого столбца с помощью двух методов.**"
   ]
  },
  {
   "cell_type": "code",
   "execution_count": 12,
   "id": "937c7014",
   "metadata": {
    "deletable": false,
    "id": "937c7014",
    "outputId": "8da1e4e1-358e-4e87-98c9-f261bce0a7b2"
   },
   "outputs": [
    {
     "data": {
      "text/plain": [
       "children            0\n",
       "days_employed       0\n",
       "dob_years           0\n",
       "education           0\n",
       "education_id        0\n",
       "family_status       0\n",
       "family_status_id    0\n",
       "gender              0\n",
       "income_type         0\n",
       "debt                0\n",
       "total_income        0\n",
       "purpose             0\n",
       "dtype: int64"
      ]
     },
     "execution_count": 12,
     "metadata": {},
     "output_type": "execute_result"
    }
   ],
   "source": [
    "data.isna().sum()"
   ]
  },
  {
   "cell_type": "markdown",
   "id": "d522e295",
   "metadata": {
    "deletable": false,
    "editable": false,
    "id": "d522e295"
   },
   "source": [
    "### Изменение типов данных"
   ]
  },
  {
   "cell_type": "markdown",
   "id": "c229c581",
   "metadata": {
    "deletable": false,
    "editable": false,
    "id": "c229c581"
   },
   "source": [
    "**Задание 13. Замените вещественный тип данных в столбце `total_income` на целочисленный с помощью метода `astype()`.**"
   ]
  },
  {
   "cell_type": "code",
   "execution_count": 13,
   "id": "31036462",
   "metadata": {
    "deletable": false,
    "id": "31036462"
   },
   "outputs": [],
   "source": [
    "data['total_income'] = data['total_income'].astype(int)"
   ]
  },
  {
   "cell_type": "markdown",
   "id": "b8e3d1d9",
   "metadata": {
    "deletable": false,
    "editable": false,
    "id": "b8e3d1d9"
   },
   "source": [
    "### Обработка дубликатов"
   ]
  },
  {
   "cell_type": "markdown",
   "id": "9be53c49",
   "metadata": {
    "deletable": false,
    "editable": false,
    "id": "9be53c49"
   },
   "source": [
    "**Задание 14. Обработайте неявные дубликаты в столбце `education`. В этом столбце есть одни и те же значения, но записанные по-разному: с использованием заглавных и строчных букв. Приведите их к нижнему регистру.**"
   ]
  },
  {
   "cell_type": "code",
   "execution_count": 14,
   "id": "d89e73e1",
   "metadata": {
    "deletable": false,
    "id": "d89e73e1"
   },
   "outputs": [],
   "source": [
    "data['education'] = data['education'].str.lower()"
   ]
  },
  {
   "cell_type": "markdown",
   "id": "01d4500e",
   "metadata": {
    "deletable": false,
    "editable": false,
    "id": "01d4500e"
   },
   "source": [
    "**Задание 15. Выведите на экран количество строк-дубликатов в данных. Если такие строки присутствуют, удалите их.**"
   ]
  },
  {
   "cell_type": "code",
   "execution_count": 15,
   "id": "e10efb23",
   "metadata": {
    "deletable": false,
    "id": "e10efb23",
    "outputId": "9684deba-1934-42d1-99e1-cda61740f822"
   },
   "outputs": [
    {
     "data": {
      "text/plain": [
       "71"
      ]
     },
     "execution_count": 15,
     "metadata": {},
     "output_type": "execute_result"
    }
   ],
   "source": [
    "data.duplicated().sum()"
   ]
  },
  {
   "cell_type": "code",
   "execution_count": 16,
   "id": "df853f20",
   "metadata": {
    "deletable": false,
    "id": "df853f20"
   },
   "outputs": [],
   "source": [
    "data = data.drop_duplicates()"
   ]
  },
  {
   "cell_type": "markdown",
   "id": "627be38f",
   "metadata": {
    "deletable": false,
    "editable": false,
    "id": "627be38f"
   },
   "source": [
    "### Категоризация данных"
   ]
  },
  {
   "cell_type": "markdown",
   "id": "4684c3e0",
   "metadata": {
    "deletable": false,
    "editable": false,
    "id": "4684c3e0"
   },
   "source": [
    "**Задание 16. На основании диапазонов, указанных ниже, создайте в датафрейме `data` столбец `total_income_category` с категориями:**\n",
    "\n",
    "- 0–30000 — `'E'`;\n",
    "- 30001–50000 — `'D'`;\n",
    "- 50001–200000 — `'C'`;\n",
    "- 200001–1000000 — `'B'`;\n",
    "- 1000001 и выше — `'A'`.\n",
    "\n",
    "\n",
    "**Например, кредитополучателю с доходом 25000 нужно назначить категорию `'E'`, а клиенту, получающему 235000, — `'B'`. Используйте собственную функцию с именем `categorize_income()` и метод `apply()`.**"
   ]
  },
  {
   "cell_type": "code",
   "execution_count": 17,
   "id": "78965238",
   "metadata": {
    "deletable": false,
    "id": "78965238"
   },
   "outputs": [],
   "source": [
    "def categorize_income(income):\n",
    "    try:\n",
    "        if 0 <= income <= 30000:\n",
    "            return 'E'\n",
    "        elif 30001 <= income <= 50000:\n",
    "            return 'D'\n",
    "        elif 50001 <= income <= 200000:\n",
    "            return 'C'\n",
    "        elif 200001 <= income <= 1000000:\n",
    "            return 'B'\n",
    "        elif income >= 1000001:\n",
    "            return 'A'\n",
    "    except:\n",
    "        pass"
   ]
  },
  {
   "cell_type": "code",
   "execution_count": 18,
   "id": "0980ada1",
   "metadata": {
    "deletable": false,
    "id": "0980ada1"
   },
   "outputs": [],
   "source": [
    "data['total_income_category'] = data['total_income'].apply(categorize_income)"
   ]
  },
  {
   "cell_type": "markdown",
   "id": "9917bba0",
   "metadata": {
    "deletable": false,
    "editable": false,
    "id": "9917bba0"
   },
   "source": [
    "**Задание 17. Выведите на экран перечень уникальных целей взятия кредита из столбца `purpose`.**"
   ]
  },
  {
   "cell_type": "code",
   "execution_count": 19,
   "id": "ee07b65e",
   "metadata": {
    "deletable": false,
    "id": "ee07b65e",
    "outputId": "673c12d9-7d7e-4ae0-9812-c622c89dd244"
   },
   "outputs": [
    {
     "data": {
      "text/plain": [
       "array(['покупка жилья', 'приобретение автомобиля',\n",
       "       'дополнительное образование', 'сыграть свадьбу',\n",
       "       'операции с жильем', 'образование', 'на проведение свадьбы',\n",
       "       'покупка жилья для семьи', 'покупка недвижимости',\n",
       "       'покупка коммерческой недвижимости', 'покупка жилой недвижимости',\n",
       "       'строительство собственной недвижимости', 'недвижимость',\n",
       "       'строительство недвижимости', 'на покупку подержанного автомобиля',\n",
       "       'на покупку своего автомобиля',\n",
       "       'операции с коммерческой недвижимостью',\n",
       "       'строительство жилой недвижимости', 'жилье',\n",
       "       'операции со своей недвижимостью', 'автомобили',\n",
       "       'заняться образованием', 'сделка с подержанным автомобилем',\n",
       "       'получение образования', 'автомобиль', 'свадьба',\n",
       "       'получение дополнительного образования', 'покупка своего жилья',\n",
       "       'операции с недвижимостью', 'получение высшего образования',\n",
       "       'свой автомобиль', 'сделка с автомобилем',\n",
       "       'профильное образование', 'высшее образование',\n",
       "       'покупка жилья для сдачи', 'на покупку автомобиля', 'ремонт жилью',\n",
       "       'заняться высшим образованием'], dtype=object)"
      ]
     },
     "execution_count": 19,
     "metadata": {},
     "output_type": "execute_result"
    }
   ],
   "source": [
    "data['purpose'].unique()"
   ]
  },
  {
   "cell_type": "markdown",
   "id": "52b79d56",
   "metadata": {
    "deletable": false,
    "editable": false,
    "id": "52b79d56"
   },
   "source": [
    "**Задание 18. Создайте функцию, которая на основании данных из столбца `purpose` сформирует новый столбец `purpose_category`, в который войдут следующие категории:**\n",
    "\n",
    "- `'операции с автомобилем'`,\n",
    "- `'операции с недвижимостью'`,\n",
    "- `'проведение свадьбы'`,\n",
    "- `'получение образования'`.\n",
    "\n",
    "**Например, если в столбце `purpose` находится подстрока `'на покупку автомобиля'`, то в столбце `purpose_category` должна появиться строка `'операции с автомобилем'`.**\n",
    "\n",
    "**Используйте собственную функцию с именем `categorize_purpose()` и метод `apply()`. Изучите данные в столбце `purpose` и определите, какие подстроки помогут вам правильно определить категорию.**"
   ]
  },
  {
   "cell_type": "code",
   "execution_count": 20,
   "id": "be41da5d",
   "metadata": {
    "deletable": false,
    "id": "be41da5d"
   },
   "outputs": [],
   "source": [
    "def categorize_purpose(row):\n",
    "    try:\n",
    "        if 'автом' in row:\n",
    "            return 'операции с автомобилем'\n",
    "        elif 'жил' in row or 'недвиж' in row:\n",
    "            return 'операции с недвижимостью'\n",
    "        elif 'свад' in row:\n",
    "            return 'проведение свадьбы'\n",
    "        elif 'образов' in row:\n",
    "            return 'получение образования'\n",
    "    except:\n",
    "        return 'нет категории'"
   ]
  },
  {
   "cell_type": "code",
   "execution_count": 21,
   "id": "94c4a19a",
   "metadata": {
    "deletable": false,
    "id": "94c4a19a"
   },
   "outputs": [],
   "source": [
    "data['purpose_category'] = data['purpose'].apply(categorize_purpose)"
   ]
  },
  {
   "cell_type": "markdown",
   "id": "3d596c34",
   "metadata": {
    "deletable": false,
    "editable": false,
    "id": "3d596c34"
   },
   "source": [
    "### Шаг 3. Исследуйте данные и ответьте на вопросы"
   ]
  },
  {
   "cell_type": "markdown",
   "id": "648db036",
   "metadata": {
    "deletable": false,
    "editable": false,
    "id": "648db036"
   },
   "source": [
    "#### 3.1 Есть ли зависимость между количеством детей и возвратом кредита в срок?"
   ]
  },
  {
   "cell_type": "markdown",
   "id": "a49010ee",
   "metadata": {},
   "source": [
    "*Создаем сводную таблицу `data_children` группируя данные по количеству детей   \n",
    "и вычисляя процент заемщиков, возвративщих кредит в срок*"
   ]
  },
  {
   "cell_type": "code",
   "execution_count": 22,
   "id": "7fcff25e",
   "metadata": {
    "deletable": false,
    "id": "7fcff25e",
    "scrolled": true
   },
   "outputs": [],
   "source": [
    "# группируем датасет методом groupby по столбцу 'children', \n",
    "# в столбце 'count' выводим количество заемщиков по группам, \n",
    "# в столбце 'sum' - количество заемщиков, имевших задолженность по кредиту\n",
    "data_children = data.groupby('children')['debt'].agg(['count', 'sum'])\n",
    "\n",
    "# Добавляем столбец 'debt_percent' для подсчета процента заемщиков, имевших задолженность по кредиту\n",
    "data_children['debt_percent'] = round(data_children['sum'] / data_children['count'] * 100, 2)  "
   ]
  },
  {
   "cell_type": "code",
   "execution_count": 23,
   "id": "504db2bb",
   "metadata": {
    "scrolled": true
   },
   "outputs": [],
   "source": [
    "borrowers = data['children'].count()  # Общее количество заемщиков"
   ]
  },
  {
   "cell_type": "code",
   "execution_count": 24,
   "id": "1bef4489",
   "metadata": {},
   "outputs": [],
   "source": [
    "# Добавляем столбец 'debt_percent' для подсчета процента заемщиков, имевших задолженность по кредиту\n",
    "data_children['borrowers_percent'] = round(data_children['count'] / borrowers * 100, 1)"
   ]
  },
  {
   "cell_type": "code",
   "execution_count": 25,
   "id": "aab1ab25",
   "metadata": {
    "scrolled": true
   },
   "outputs": [
    {
     "data": {
      "text/html": [
       "<div>\n",
       "<style scoped>\n",
       "    .dataframe tbody tr th:only-of-type {\n",
       "        vertical-align: middle;\n",
       "    }\n",
       "\n",
       "    .dataframe tbody tr th {\n",
       "        vertical-align: top;\n",
       "    }\n",
       "\n",
       "    .dataframe thead th {\n",
       "        text-align: right;\n",
       "    }\n",
       "</style>\n",
       "<table border=\"1\" class=\"dataframe\">\n",
       "  <thead>\n",
       "    <tr style=\"text-align: right;\">\n",
       "      <th></th>\n",
       "      <th>count</th>\n",
       "      <th>sum</th>\n",
       "      <th>debt_percent</th>\n",
       "      <th>borrowers_percent</th>\n",
       "    </tr>\n",
       "    <tr>\n",
       "      <th>children</th>\n",
       "      <th></th>\n",
       "      <th></th>\n",
       "      <th></th>\n",
       "      <th></th>\n",
       "    </tr>\n",
       "  </thead>\n",
       "  <tbody>\n",
       "    <tr>\n",
       "      <th>0</th>\n",
       "      <td>14091</td>\n",
       "      <td>1063</td>\n",
       "      <td>7.54</td>\n",
       "      <td>66.1</td>\n",
       "    </tr>\n",
       "    <tr>\n",
       "      <th>1</th>\n",
       "      <td>4808</td>\n",
       "      <td>444</td>\n",
       "      <td>9.23</td>\n",
       "      <td>22.5</td>\n",
       "    </tr>\n",
       "    <tr>\n",
       "      <th>2</th>\n",
       "      <td>2052</td>\n",
       "      <td>194</td>\n",
       "      <td>9.45</td>\n",
       "      <td>9.6</td>\n",
       "    </tr>\n",
       "    <tr>\n",
       "      <th>3</th>\n",
       "      <td>330</td>\n",
       "      <td>27</td>\n",
       "      <td>8.18</td>\n",
       "      <td>1.5</td>\n",
       "    </tr>\n",
       "    <tr>\n",
       "      <th>4</th>\n",
       "      <td>41</td>\n",
       "      <td>4</td>\n",
       "      <td>9.76</td>\n",
       "      <td>0.2</td>\n",
       "    </tr>\n",
       "    <tr>\n",
       "      <th>5</th>\n",
       "      <td>9</td>\n",
       "      <td>0</td>\n",
       "      <td>0.00</td>\n",
       "      <td>0.0</td>\n",
       "    </tr>\n",
       "  </tbody>\n",
       "</table>\n",
       "</div>"
      ],
      "text/plain": [
       "          count   sum  debt_percent  borrowers_percent\n",
       "children                                              \n",
       "0         14091  1063          7.54               66.1\n",
       "1          4808   444          9.23               22.5\n",
       "2          2052   194          9.45                9.6\n",
       "3           330    27          8.18                1.5\n",
       "4            41     4          9.76                0.2\n",
       "5             9     0          0.00                0.0"
      ]
     },
     "execution_count": 25,
     "metadata": {},
     "output_type": "execute_result"
    }
   ],
   "source": [
    "data_children  "
   ]
  },
  {
   "cell_type": "markdown",
   "id": "2eb9088e",
   "metadata": {
    "deletable": false,
    "id": "2eb9088e"
   },
   "source": [
    "**Вывод:** **Бездетные заемщики реже имели задолженность по кредиту, чем заемщики, имеющие детей.** \n",
    "\n",
    "Семьи с одним или двумя детьми возвращали кредит более, чем в 90% случаев. \n",
    "Доля семей с тремя детьми, имевших задолженность по кредиту близка к доле бездетных семей, однако количество таких семей составляет всего 1,5% от всех заемщиков, поэтому эти данные не могут быть достоверными.  \n",
    "Данных по заемщикам с четырьмя и пятью детьми недостаточно для корректных выводов по ним."
   ]
  },
  {
   "cell_type": "markdown",
   "id": "74c9b3a7",
   "metadata": {
    "deletable": false,
    "editable": false,
    "id": "74c9b3a7"
   },
   "source": [
    "#### 3.2 Есть ли зависимость между семейным положением и возвратом кредита в срок?"
   ]
  },
  {
   "cell_type": "markdown",
   "id": "adda39eb",
   "metadata": {},
   "source": [
    "*Создаем сводную таблицу `data_family_status`, группируя данные по семейному положению заемщика,  \n",
    "вычисляем процент заемщиков, возвративщих кредит в срок*"
   ]
  },
  {
   "cell_type": "code",
   "execution_count": 26,
   "id": "8098ab3b",
   "metadata": {
    "deletable": false,
    "id": "8098ab3b"
   },
   "outputs": [],
   "source": [
    "# группируем датасет методом groupby по столбцу 'family_status', \n",
    "data_family_status = data.groupby('family_status')['debt'].agg(['count', 'sum'])\n",
    "\n",
    "# Добавляем столбец 'percent' для подсчета процента заемщиков, имевших задолженность по кредиту\n",
    "data_family_status['percent'] = round(data_family_status['sum'] / data_family_status['count'] * 100, 2)"
   ]
  },
  {
   "cell_type": "code",
   "execution_count": 27,
   "id": "71b90c5e",
   "metadata": {
    "scrolled": true
   },
   "outputs": [
    {
     "data": {
      "text/html": [
       "<div>\n",
       "<style scoped>\n",
       "    .dataframe tbody tr th:only-of-type {\n",
       "        vertical-align: middle;\n",
       "    }\n",
       "\n",
       "    .dataframe tbody tr th {\n",
       "        vertical-align: top;\n",
       "    }\n",
       "\n",
       "    .dataframe thead th {\n",
       "        text-align: right;\n",
       "    }\n",
       "</style>\n",
       "<table border=\"1\" class=\"dataframe\">\n",
       "  <thead>\n",
       "    <tr style=\"text-align: right;\">\n",
       "      <th></th>\n",
       "      <th>count</th>\n",
       "      <th>sum</th>\n",
       "      <th>percent</th>\n",
       "    </tr>\n",
       "    <tr>\n",
       "      <th>family_status</th>\n",
       "      <th></th>\n",
       "      <th></th>\n",
       "      <th></th>\n",
       "    </tr>\n",
       "  </thead>\n",
       "  <tbody>\n",
       "    <tr>\n",
       "      <th>Не женат / не замужем</th>\n",
       "      <td>2796</td>\n",
       "      <td>273</td>\n",
       "      <td>9.76</td>\n",
       "    </tr>\n",
       "    <tr>\n",
       "      <th>в разводе</th>\n",
       "      <td>1189</td>\n",
       "      <td>84</td>\n",
       "      <td>7.06</td>\n",
       "    </tr>\n",
       "    <tr>\n",
       "      <th>вдовец / вдова</th>\n",
       "      <td>951</td>\n",
       "      <td>63</td>\n",
       "      <td>6.62</td>\n",
       "    </tr>\n",
       "    <tr>\n",
       "      <th>гражданский брак</th>\n",
       "      <td>4134</td>\n",
       "      <td>385</td>\n",
       "      <td>9.31</td>\n",
       "    </tr>\n",
       "    <tr>\n",
       "      <th>женат / замужем</th>\n",
       "      <td>12261</td>\n",
       "      <td>927</td>\n",
       "      <td>7.56</td>\n",
       "    </tr>\n",
       "  </tbody>\n",
       "</table>\n",
       "</div>"
      ],
      "text/plain": [
       "                       count  sum  percent\n",
       "family_status                             \n",
       "Не женат / не замужем   2796  273     9.76\n",
       "в разводе               1189   84     7.06\n",
       "вдовец / вдова           951   63     6.62\n",
       "гражданский брак        4134  385     9.31\n",
       "женат / замужем        12261  927     7.56"
      ]
     },
     "execution_count": 27,
     "metadata": {},
     "output_type": "execute_result"
    }
   ],
   "source": [
    "data_family_status"
   ]
  },
  {
   "cell_type": "markdown",
   "id": "4f0ddd1a",
   "metadata": {
    "deletable": false,
    "id": "c389ca63"
   },
   "source": [
    "**Вывод: Заемщики, которые состоят или когда-либо состояли в зарегистрированном браке надежнее тех, которые не женаты\\не замужем.** \n",
    "\n",
    "Самая многочисленная группа заемщиков состоит в браке и имеет процент задолженности по кредиту 7,56%, незначительно превышающий процент задолженности заемщиков в разводе или вдовцов, т.е. тех, кто в прошлом состоял в браке - 7,06%. Наиболее надежными можно считать категорию заемщиков, являющихся вдовцами\\вдовами. Процент задолженности по кредиту минимальный и составляет 6,62%. Вероятно людей, вступающих в зарегистрированный брак (в том числе в прошлом), можно считать наиболее ответственными, что положительно сказывается на их способности своевременно исполнять в том числе и финансовые обязательства.\r\n",
    "\r\n",
    "Заемщики, состоящие в гражданском браке и не состоящие в браке имеют близкие значения процента задолженности: 9,31% и 9,76% соответственно. Самой ненадежной группой клиентов являются не женатые\\не замужние."
   ]
  },
  {
   "cell_type": "markdown",
   "id": "9529de68",
   "metadata": {
    "deletable": false,
    "editable": false,
    "id": "9529de68"
   },
   "source": [
    "#### 3.3 Есть ли зависимость между уровнем дохода и возвратом кредита в срок?"
   ]
  },
  {
   "cell_type": "code",
   "execution_count": 28,
   "id": "8787f44a",
   "metadata": {
    "deletable": false,
    "id": "8787f44a"
   },
   "outputs": [],
   "source": [
    "# группируем датасет методом groupby по столбцу 'total_income_category':\n",
    "# 0–30000 — 'E';\n",
    "# 30001–50000 — 'D';\n",
    "# 50001–200000 — 'C';\n",
    "# 200001–1000000 — 'B';\n",
    "# 1000001 и выше — 'A'.\n",
    "\n",
    "data_total_income_category = data.groupby('total_income_category')['debt'].agg(['count', 'sum'])\n",
    "\n",
    "# Добавляем столбец 'percent' для подсчета процента заемщиков, имевших задолженность по кредиту\n",
    "data_total_income_category['percent'] = round(data_total_income_category['sum'] / data_total_income_category['count'] * 100, 2)"
   ]
  },
  {
   "cell_type": "code",
   "execution_count": 29,
   "id": "09be4df3",
   "metadata": {},
   "outputs": [
    {
     "data": {
      "text/html": [
       "<div>\n",
       "<style scoped>\n",
       "    .dataframe tbody tr th:only-of-type {\n",
       "        vertical-align: middle;\n",
       "    }\n",
       "\n",
       "    .dataframe tbody tr th {\n",
       "        vertical-align: top;\n",
       "    }\n",
       "\n",
       "    .dataframe thead th {\n",
       "        text-align: right;\n",
       "    }\n",
       "</style>\n",
       "<table border=\"1\" class=\"dataframe\">\n",
       "  <thead>\n",
       "    <tr style=\"text-align: right;\">\n",
       "      <th></th>\n",
       "      <th>count</th>\n",
       "      <th>sum</th>\n",
       "      <th>percent</th>\n",
       "    </tr>\n",
       "    <tr>\n",
       "      <th>total_income_category</th>\n",
       "      <th></th>\n",
       "      <th></th>\n",
       "      <th></th>\n",
       "    </tr>\n",
       "  </thead>\n",
       "  <tbody>\n",
       "    <tr>\n",
       "      <th>A</th>\n",
       "      <td>25</td>\n",
       "      <td>2</td>\n",
       "      <td>8.00</td>\n",
       "    </tr>\n",
       "    <tr>\n",
       "      <th>B</th>\n",
       "      <td>5014</td>\n",
       "      <td>354</td>\n",
       "      <td>7.06</td>\n",
       "    </tr>\n",
       "    <tr>\n",
       "      <th>C</th>\n",
       "      <td>15921</td>\n",
       "      <td>1353</td>\n",
       "      <td>8.50</td>\n",
       "    </tr>\n",
       "    <tr>\n",
       "      <th>D</th>\n",
       "      <td>349</td>\n",
       "      <td>21</td>\n",
       "      <td>6.02</td>\n",
       "    </tr>\n",
       "    <tr>\n",
       "      <th>E</th>\n",
       "      <td>22</td>\n",
       "      <td>2</td>\n",
       "      <td>9.09</td>\n",
       "    </tr>\n",
       "  </tbody>\n",
       "</table>\n",
       "</div>"
      ],
      "text/plain": [
       "                       count   sum  percent\n",
       "total_income_category                      \n",
       "A                         25     2     8.00\n",
       "B                       5014   354     7.06\n",
       "C                      15921  1353     8.50\n",
       "D                        349    21     6.02\n",
       "E                         22     2     9.09"
      ]
     },
     "execution_count": 29,
     "metadata": {},
     "output_type": "execute_result"
    }
   ],
   "source": [
    "data_total_income_category"
   ]
  },
  {
   "cell_type": "markdown",
   "id": "3a00c647",
   "metadata": {},
   "source": [
    "*Количество заемщиков в категориях A и E настолько незначительно, что ими можно пренебречь. В то же время категория C слишком многочисленная, а разброс уровня дохода слишком большой. Требуется более детальная группировка данных по категориям.* "
   ]
  },
  {
   "cell_type": "markdown",
   "id": "879a8c75",
   "metadata": {},
   "source": [
    "*На основании диапазонов, указанных ниже, создадим в датафрейме `data` столбец `total_income_category1` с категориями:*\n",
    "\n",
    "- 0–30000 — `'E'`;\n",
    "- 30001–50000 — `'D'`;\n",
    "- 50001–70000 — `'C6'`;\n",
    "- 70001-90000 - `'C5'`;\n",
    "- 90001-125000 - `'C4'`;\n",
    "- 125001-150000 - `'C3'`;\n",
    "- 150001-175000 - `'C2'`;\n",
    "- 175001-200000 - `'C1'`;\n",
    "- 200001–1000000 — `'B'`;\n",
    "- 1000001 и выше — `'A'`.\n"
   ]
  },
  {
   "cell_type": "code",
   "execution_count": 30,
   "id": "ca5e2dd1",
   "metadata": {},
   "outputs": [],
   "source": [
    "# создадим функцию, определяющую категорию заемщика по уровню дохода\n",
    "def categorize_income1(income):\n",
    "    try:\n",
    "        if 0 <= income <= 30000:\n",
    "            return 'E'\n",
    "        elif 30001 <= income <= 50000:\n",
    "            return 'D'\n",
    "        elif 50001 <= income <= 70000:\n",
    "            return 'C6'\n",
    "        elif 70001 <= income <= 90000:\n",
    "            return 'C5'\n",
    "        elif 90001 <= income <= 125000:\n",
    "            return 'C4'\n",
    "        elif 125001 <= income <= 150000:\n",
    "            return 'C3'\n",
    "        elif 150001 <= income <= 175000:\n",
    "            return 'C2'\n",
    "        elif 175001 <= income <= 200000:\n",
    "            return 'C1'\n",
    "        elif 200001 <= income <= 1000000:\n",
    "            return 'B'\n",
    "        elif income >= 1000001:\n",
    "            return 'A'\n",
    "    except:\n",
    "        pass"
   ]
  },
  {
   "cell_type": "code",
   "execution_count": 31,
   "id": "e7e1d41e",
   "metadata": {},
   "outputs": [],
   "source": [
    "data['total_income_category1'] = data['total_income'].apply(categorize_income1)"
   ]
  },
  {
   "cell_type": "code",
   "execution_count": 32,
   "id": "2d98c1f2",
   "metadata": {},
   "outputs": [],
   "source": [
    "# группируем датасет методом groupby по столбцу 'total_income_category1':\n",
    "data_total_income_category1 = data.groupby('total_income_category1')['debt'].agg(['count', 'sum'])\n",
    "\n",
    "# Добавляем столбец 'percent' для подсчета процента заемщиков, имевших задолженность по кредиту\n",
    "data_total_income_category1['percent'] = round(data_total_income_category1['sum'] / data_total_income_category1['count'] * 100, 2) "
   ]
  },
  {
   "cell_type": "code",
   "execution_count": 33,
   "id": "e4858f91",
   "metadata": {},
   "outputs": [
    {
     "data": {
      "text/html": [
       "<div>\n",
       "<style scoped>\n",
       "    .dataframe tbody tr th:only-of-type {\n",
       "        vertical-align: middle;\n",
       "    }\n",
       "\n",
       "    .dataframe tbody tr th {\n",
       "        vertical-align: top;\n",
       "    }\n",
       "\n",
       "    .dataframe thead th {\n",
       "        text-align: right;\n",
       "    }\n",
       "</style>\n",
       "<table border=\"1\" class=\"dataframe\">\n",
       "  <thead>\n",
       "    <tr style=\"text-align: right;\">\n",
       "      <th></th>\n",
       "      <th>count</th>\n",
       "      <th>sum</th>\n",
       "      <th>percent</th>\n",
       "    </tr>\n",
       "    <tr>\n",
       "      <th>total_income_category1</th>\n",
       "      <th></th>\n",
       "      <th></th>\n",
       "      <th></th>\n",
       "    </tr>\n",
       "  </thead>\n",
       "  <tbody>\n",
       "    <tr>\n",
       "      <th>A</th>\n",
       "      <td>25</td>\n",
       "      <td>2</td>\n",
       "      <td>8.00</td>\n",
       "    </tr>\n",
       "    <tr>\n",
       "      <th>B</th>\n",
       "      <td>5014</td>\n",
       "      <td>354</td>\n",
       "      <td>7.06</td>\n",
       "    </tr>\n",
       "    <tr>\n",
       "      <th>C1</th>\n",
       "      <td>1704</td>\n",
       "      <td>149</td>\n",
       "      <td>8.74</td>\n",
       "    </tr>\n",
       "    <tr>\n",
       "      <th>C2</th>\n",
       "      <td>3034</td>\n",
       "      <td>254</td>\n",
       "      <td>8.37</td>\n",
       "    </tr>\n",
       "    <tr>\n",
       "      <th>C3</th>\n",
       "      <td>3838</td>\n",
       "      <td>331</td>\n",
       "      <td>8.62</td>\n",
       "    </tr>\n",
       "    <tr>\n",
       "      <th>C4</th>\n",
       "      <td>4383</td>\n",
       "      <td>380</td>\n",
       "      <td>8.67</td>\n",
       "    </tr>\n",
       "    <tr>\n",
       "      <th>C5</th>\n",
       "      <td>1869</td>\n",
       "      <td>161</td>\n",
       "      <td>8.61</td>\n",
       "    </tr>\n",
       "    <tr>\n",
       "      <th>C6</th>\n",
       "      <td>1093</td>\n",
       "      <td>78</td>\n",
       "      <td>7.14</td>\n",
       "    </tr>\n",
       "    <tr>\n",
       "      <th>D</th>\n",
       "      <td>349</td>\n",
       "      <td>21</td>\n",
       "      <td>6.02</td>\n",
       "    </tr>\n",
       "    <tr>\n",
       "      <th>E</th>\n",
       "      <td>22</td>\n",
       "      <td>2</td>\n",
       "      <td>9.09</td>\n",
       "    </tr>\n",
       "  </tbody>\n",
       "</table>\n",
       "</div>"
      ],
      "text/plain": [
       "                        count  sum  percent\n",
       "total_income_category1                     \n",
       "A                          25    2     8.00\n",
       "B                        5014  354     7.06\n",
       "C1                       1704  149     8.74\n",
       "C2                       3034  254     8.37\n",
       "C3                       3838  331     8.62\n",
       "C4                       4383  380     8.67\n",
       "C5                       1869  161     8.61\n",
       "C6                       1093   78     7.14\n",
       "D                         349   21     6.02\n",
       "E                          22    2     9.09"
      ]
     },
     "execution_count": 33,
     "metadata": {},
     "output_type": "execute_result"
    }
   ],
   "source": [
    "data_total_income_category1"
   ]
  },
  {
   "cell_type": "markdown",
   "id": "eabd1b44",
   "metadata": {},
   "source": [
    "*Более детальная группировка заемщиков по категориям в диапазоне дохода 50001 - 200000 показала, что процент задолженности по кредиту существенно отличается только в категории С6 с доходом 50001 - 70000 рублей.* "
   ]
  },
  {
   "cell_type": "markdown",
   "id": "6dd14b57",
   "metadata": {
    "deletable": false,
    "id": "6dd14b57"
   },
   "source": [
    "**Вывод: Чаще кредит в срок возвращают заемщики с доходом до 70000 рублей и доходом от 200001 до 1000000 рублей.  \n",
    "Заемщики с доходом 70001 - 200000 рублей допускают задолженность по кредиту в среднем на 1,5% чаще предыдущей группы.  \n",
    "Этот факт опровергает гипотезу, что клиент с большим доходом более надежный. Вероятно на возврат кредита в значительной степени влияют прочие факторы, и нельзя делать вывод о надежности клиента только по уровню дохода.**  \n",
    "Количество заемщиков с доходом более 1000000 настолько незначительно, что невозможно сделать корректные выводы относительно их надежности."
   ]
  },
  {
   "cell_type": "markdown",
   "id": "1dcc9b12",
   "metadata": {
    "deletable": false,
    "editable": false,
    "id": "1dcc9b12"
   },
   "source": [
    "#### 3.4 Как разные цели кредита влияют на его возврат в срок?"
   ]
  },
  {
   "cell_type": "code",
   "execution_count": 34,
   "id": "c602bc8b",
   "metadata": {
    "deletable": false,
    "id": "c602bc8b"
   },
   "outputs": [],
   "source": [
    "# группируем датасет методом groupby по столбцу 'purpose_category', \n",
    "data_purpose_category = data.groupby('purpose_category')['debt'].agg(['count', 'sum'])\n",
    "\n",
    "# Добавляем столбец 'percent' для подсчета процента заемщиков, имевших задолженность по кредиту\n",
    "data_purpose_category['percent'] = round(data_purpose_category['sum'] / data_purpose_category['count'] * 100, 2)"
   ]
  },
  {
   "cell_type": "code",
   "execution_count": 35,
   "id": "17855a20",
   "metadata": {},
   "outputs": [],
   "source": [
    "# Добавляем столбец 'purpose_percent' для подсчета процента заемщиков, имевших задолженность по кредиту\n",
    "data_purpose_category['purpose_percent'] = round(data_purpose_category['count'] / borrowers * 100, 1)"
   ]
  },
  {
   "cell_type": "code",
   "execution_count": 36,
   "id": "291e9b6d",
   "metadata": {},
   "outputs": [
    {
     "data": {
      "text/html": [
       "<div>\n",
       "<style scoped>\n",
       "    .dataframe tbody tr th:only-of-type {\n",
       "        vertical-align: middle;\n",
       "    }\n",
       "\n",
       "    .dataframe tbody tr th {\n",
       "        vertical-align: top;\n",
       "    }\n",
       "\n",
       "    .dataframe thead th {\n",
       "        text-align: right;\n",
       "    }\n",
       "</style>\n",
       "<table border=\"1\" class=\"dataframe\">\n",
       "  <thead>\n",
       "    <tr style=\"text-align: right;\">\n",
       "      <th></th>\n",
       "      <th>count</th>\n",
       "      <th>sum</th>\n",
       "      <th>percent</th>\n",
       "      <th>purpose_percent</th>\n",
       "    </tr>\n",
       "    <tr>\n",
       "      <th>purpose_category</th>\n",
       "      <th></th>\n",
       "      <th></th>\n",
       "      <th></th>\n",
       "      <th></th>\n",
       "    </tr>\n",
       "  </thead>\n",
       "  <tbody>\n",
       "    <tr>\n",
       "      <th>операции с автомобилем</th>\n",
       "      <td>4279</td>\n",
       "      <td>400</td>\n",
       "      <td>9.35</td>\n",
       "      <td>20.1</td>\n",
       "    </tr>\n",
       "    <tr>\n",
       "      <th>операции с недвижимостью</th>\n",
       "      <td>10751</td>\n",
       "      <td>780</td>\n",
       "      <td>7.26</td>\n",
       "      <td>50.4</td>\n",
       "    </tr>\n",
       "    <tr>\n",
       "      <th>получение образования</th>\n",
       "      <td>3988</td>\n",
       "      <td>369</td>\n",
       "      <td>9.25</td>\n",
       "      <td>18.7</td>\n",
       "    </tr>\n",
       "    <tr>\n",
       "      <th>проведение свадьбы</th>\n",
       "      <td>2313</td>\n",
       "      <td>183</td>\n",
       "      <td>7.91</td>\n",
       "      <td>10.8</td>\n",
       "    </tr>\n",
       "  </tbody>\n",
       "</table>\n",
       "</div>"
      ],
      "text/plain": [
       "                          count  sum  percent  purpose_percent\n",
       "purpose_category                                              \n",
       "операции с автомобилем     4279  400     9.35             20.1\n",
       "операции с недвижимостью  10751  780     7.26             50.4\n",
       "получение образования      3988  369     9.25             18.7\n",
       "проведение свадьбы         2313  183     7.91             10.8"
      ]
     },
     "execution_count": 36,
     "metadata": {},
     "output_type": "execute_result"
    }
   ],
   "source": [
    "data_purpose_category"
   ]
  },
  {
   "cell_type": "markdown",
   "id": "c2b901a3",
   "metadata": {},
   "source": [
    "**Выясним цели кредита, которые наибольшим образом влияют на его возврат в срок:**"
   ]
  },
  {
   "cell_type": "code",
   "execution_count": 37,
   "id": "efa0f425",
   "metadata": {},
   "outputs": [
    {
     "data": {
      "text/html": [
       "<div>\n",
       "<style scoped>\n",
       "    .dataframe tbody tr th:only-of-type {\n",
       "        vertical-align: middle;\n",
       "    }\n",
       "\n",
       "    .dataframe tbody tr th {\n",
       "        vertical-align: top;\n",
       "    }\n",
       "\n",
       "    .dataframe thead th {\n",
       "        text-align: right;\n",
       "    }\n",
       "</style>\n",
       "<table border=\"1\" class=\"dataframe\">\n",
       "  <thead>\n",
       "    <tr style=\"text-align: right;\">\n",
       "      <th></th>\n",
       "      <th>count</th>\n",
       "      <th>sum</th>\n",
       "      <th>percent</th>\n",
       "    </tr>\n",
       "    <tr>\n",
       "      <th>purpose</th>\n",
       "      <th></th>\n",
       "      <th></th>\n",
       "      <th></th>\n",
       "    </tr>\n",
       "  </thead>\n",
       "  <tbody>\n",
       "    <tr>\n",
       "      <th>получение дополнительного образования</th>\n",
       "      <td>444</td>\n",
       "      <td>51</td>\n",
       "      <td>11.49</td>\n",
       "    </tr>\n",
       "    <tr>\n",
       "      <th>сделка с автомобилем</th>\n",
       "      <td>455</td>\n",
       "      <td>50</td>\n",
       "      <td>10.99</td>\n",
       "    </tr>\n",
       "    <tr>\n",
       "      <th>получение высшего образования</th>\n",
       "      <td>425</td>\n",
       "      <td>46</td>\n",
       "      <td>10.82</td>\n",
       "    </tr>\n",
       "    <tr>\n",
       "      <th>сделка с подержанным автомобилем</th>\n",
       "      <td>481</td>\n",
       "      <td>51</td>\n",
       "      <td>10.60</td>\n",
       "    </tr>\n",
       "    <tr>\n",
       "      <th>профильное образование</th>\n",
       "      <td>432</td>\n",
       "      <td>44</td>\n",
       "      <td>10.19</td>\n",
       "    </tr>\n",
       "    <tr>\n",
       "      <th>свой автомобиль</th>\n",
       "      <td>473</td>\n",
       "      <td>47</td>\n",
       "      <td>9.94</td>\n",
       "    </tr>\n",
       "    <tr>\n",
       "      <th>заняться образованием</th>\n",
       "      <td>408</td>\n",
       "      <td>39</td>\n",
       "      <td>9.56</td>\n",
       "    </tr>\n",
       "    <tr>\n",
       "      <th>на покупку автомобиля</th>\n",
       "      <td>469</td>\n",
       "      <td>44</td>\n",
       "      <td>9.38</td>\n",
       "    </tr>\n",
       "    <tr>\n",
       "      <th>автомобили</th>\n",
       "      <td>476</td>\n",
       "      <td>44</td>\n",
       "      <td>9.24</td>\n",
       "    </tr>\n",
       "    <tr>\n",
       "      <th>приобретение автомобиля</th>\n",
       "      <td>459</td>\n",
       "      <td>42</td>\n",
       "      <td>9.15</td>\n",
       "    </tr>\n",
       "    <tr>\n",
       "      <th>на покупку своего автомобиля</th>\n",
       "      <td>504</td>\n",
       "      <td>46</td>\n",
       "      <td>9.13</td>\n",
       "    </tr>\n",
       "    <tr>\n",
       "      <th>высшее образование</th>\n",
       "      <td>446</td>\n",
       "      <td>40</td>\n",
       "      <td>8.97</td>\n",
       "    </tr>\n",
       "    <tr>\n",
       "      <th>строительство недвижимости</th>\n",
       "      <td>619</td>\n",
       "      <td>54</td>\n",
       "      <td>8.72</td>\n",
       "    </tr>\n",
       "    <tr>\n",
       "      <th>заняться высшим образованием</th>\n",
       "      <td>496</td>\n",
       "      <td>43</td>\n",
       "      <td>8.67</td>\n",
       "    </tr>\n",
       "    <tr>\n",
       "      <th>дополнительное образование</th>\n",
       "      <td>455</td>\n",
       "      <td>38</td>\n",
       "      <td>8.35</td>\n",
       "    </tr>\n",
       "    <tr>\n",
       "      <th>автомобиль</th>\n",
       "      <td>491</td>\n",
       "      <td>41</td>\n",
       "      <td>8.35</td>\n",
       "    </tr>\n",
       "    <tr>\n",
       "      <th>операции с недвижимостью</th>\n",
       "      <td>672</td>\n",
       "      <td>55</td>\n",
       "      <td>8.18</td>\n",
       "    </tr>\n",
       "    <tr>\n",
       "      <th>получение образования</th>\n",
       "      <td>440</td>\n",
       "      <td>36</td>\n",
       "      <td>8.18</td>\n",
       "    </tr>\n",
       "    <tr>\n",
       "      <th>свадьба</th>\n",
       "      <td>790</td>\n",
       "      <td>64</td>\n",
       "      <td>8.10</td>\n",
       "    </tr>\n",
       "    <tr>\n",
       "      <th>операции с коммерческой недвижимостью</th>\n",
       "      <td>645</td>\n",
       "      <td>52</td>\n",
       "      <td>8.06</td>\n",
       "    </tr>\n",
       "    <tr>\n",
       "      <th>операции со своей недвижимостью</th>\n",
       "      <td>623</td>\n",
       "      <td>50</td>\n",
       "      <td>8.03</td>\n",
       "    </tr>\n",
       "    <tr>\n",
       "      <th>покупка жилья для сдачи</th>\n",
       "      <td>649</td>\n",
       "      <td>52</td>\n",
       "      <td>8.01</td>\n",
       "    </tr>\n",
       "    <tr>\n",
       "      <th>на проведение свадьбы</th>\n",
       "      <td>763</td>\n",
       "      <td>61</td>\n",
       "      <td>7.99</td>\n",
       "    </tr>\n",
       "    <tr>\n",
       "      <th>строительство жилой недвижимости</th>\n",
       "      <td>620</td>\n",
       "      <td>48</td>\n",
       "      <td>7.74</td>\n",
       "    </tr>\n",
       "    <tr>\n",
       "      <th>сыграть свадьбу</th>\n",
       "      <td>760</td>\n",
       "      <td>58</td>\n",
       "      <td>7.63</td>\n",
       "    </tr>\n",
       "    <tr>\n",
       "      <th>покупка жилья</th>\n",
       "      <td>640</td>\n",
       "      <td>48</td>\n",
       "      <td>7.50</td>\n",
       "    </tr>\n",
       "    <tr>\n",
       "      <th>на покупку подержанного автомобиля</th>\n",
       "      <td>471</td>\n",
       "      <td>35</td>\n",
       "      <td>7.43</td>\n",
       "    </tr>\n",
       "    <tr>\n",
       "      <th>операции с жильем</th>\n",
       "      <td>647</td>\n",
       "      <td>48</td>\n",
       "      <td>7.42</td>\n",
       "    </tr>\n",
       "    <tr>\n",
       "      <th>образование</th>\n",
       "      <td>442</td>\n",
       "      <td>32</td>\n",
       "      <td>7.24</td>\n",
       "    </tr>\n",
       "    <tr>\n",
       "      <th>жилье</th>\n",
       "      <td>641</td>\n",
       "      <td>46</td>\n",
       "      <td>7.18</td>\n",
       "    </tr>\n",
       "    <tr>\n",
       "      <th>покупка жилья для семьи</th>\n",
       "      <td>637</td>\n",
       "      <td>45</td>\n",
       "      <td>7.06</td>\n",
       "    </tr>\n",
       "    <tr>\n",
       "      <th>покупка коммерческой недвижимости</th>\n",
       "      <td>658</td>\n",
       "      <td>46</td>\n",
       "      <td>6.99</td>\n",
       "    </tr>\n",
       "    <tr>\n",
       "      <th>покупка недвижимости</th>\n",
       "      <td>616</td>\n",
       "      <td>43</td>\n",
       "      <td>6.98</td>\n",
       "    </tr>\n",
       "    <tr>\n",
       "      <th>покупка жилой недвижимости</th>\n",
       "      <td>602</td>\n",
       "      <td>41</td>\n",
       "      <td>6.81</td>\n",
       "    </tr>\n",
       "    <tr>\n",
       "      <th>недвижимость</th>\n",
       "      <td>631</td>\n",
       "      <td>42</td>\n",
       "      <td>6.66</td>\n",
       "    </tr>\n",
       "    <tr>\n",
       "      <th>строительство собственной недвижимости</th>\n",
       "      <td>628</td>\n",
       "      <td>41</td>\n",
       "      <td>6.53</td>\n",
       "    </tr>\n",
       "    <tr>\n",
       "      <th>ремонт жилью</th>\n",
       "      <td>604</td>\n",
       "      <td>35</td>\n",
       "      <td>5.79</td>\n",
       "    </tr>\n",
       "    <tr>\n",
       "      <th>покупка своего жилья</th>\n",
       "      <td>619</td>\n",
       "      <td>34</td>\n",
       "      <td>5.49</td>\n",
       "    </tr>\n",
       "  </tbody>\n",
       "</table>\n",
       "</div>"
      ],
      "text/plain": [
       "                                        count  sum  percent\n",
       "purpose                                                    \n",
       "получение дополнительного образования     444   51    11.49\n",
       "сделка с автомобилем                      455   50    10.99\n",
       "получение высшего образования             425   46    10.82\n",
       "сделка с подержанным автомобилем          481   51    10.60\n",
       "профильное образование                    432   44    10.19\n",
       "свой автомобиль                           473   47     9.94\n",
       "заняться образованием                     408   39     9.56\n",
       "на покупку автомобиля                     469   44     9.38\n",
       "автомобили                                476   44     9.24\n",
       "приобретение автомобиля                   459   42     9.15\n",
       "на покупку своего автомобиля              504   46     9.13\n",
       "высшее образование                        446   40     8.97\n",
       "строительство недвижимости                619   54     8.72\n",
       "заняться высшим образованием              496   43     8.67\n",
       "дополнительное образование                455   38     8.35\n",
       "автомобиль                                491   41     8.35\n",
       "операции с недвижимостью                  672   55     8.18\n",
       "получение образования                     440   36     8.18\n",
       "свадьба                                   790   64     8.10\n",
       "операции с коммерческой недвижимостью     645   52     8.06\n",
       "операции со своей недвижимостью           623   50     8.03\n",
       "покупка жилья для сдачи                   649   52     8.01\n",
       "на проведение свадьбы                     763   61     7.99\n",
       "строительство жилой недвижимости          620   48     7.74\n",
       "сыграть свадьбу                           760   58     7.63\n",
       "покупка жилья                             640   48     7.50\n",
       "на покупку подержанного автомобиля        471   35     7.43\n",
       "операции с жильем                         647   48     7.42\n",
       "образование                               442   32     7.24\n",
       "жилье                                     641   46     7.18\n",
       "покупка жилья для семьи                   637   45     7.06\n",
       "покупка коммерческой недвижимости         658   46     6.99\n",
       "покупка недвижимости                      616   43     6.98\n",
       "покупка жилой недвижимости                602   41     6.81\n",
       "недвижимость                              631   42     6.66\n",
       "строительство собственной недвижимости    628   41     6.53\n",
       "ремонт жилью                              604   35     5.79\n",
       "покупка своего жилья                      619   34     5.49"
      ]
     },
     "execution_count": 37,
     "metadata": {},
     "output_type": "execute_result"
    }
   ],
   "source": [
    "# группируем датасет методом groupby по столбцу 'purpose', \n",
    "data_purpose = data.groupby('purpose')['debt'].agg(['count', 'sum'])\n",
    "\n",
    "# Добавляем столбец 'percent' для подсчета процента заемщиков, имевших задолженность по кредиту\n",
    "data_purpose['percent'] = round(data_purpose['sum'] / data_purpose['count'] * 100, 2)\n",
    "\n",
    "# Отсортируем датасет `data_purpose` по столбцу 'percent' в порядке убывания\n",
    "data_purpose.sort_values(by='percent', ascending=False)"
   ]
  },
  {
   "cell_type": "markdown",
   "id": "cf05ed63",
   "metadata": {
    "deletable": false,
    "id": "cf05ed63"
   },
   "source": [
    "**Вывод: Возврат кредита в срок зависит от целей кредита.  \n",
    "Кредиты на операции с недвижимостью более надежные, чем кредиты на операции с автомобилем и на получение образования.**  \n",
    "  \n",
    "Более половины заемщиков оформляют кредит на операции с недвижимостью. Процент таких заемщиков, имеющих задолженность по кредиту, минимальный и составляет 7,26%, что позволяет сделать вывод о наибольшей надежности этой категории заемщиков. К этой категории относится кредит на покупку своего жилья, имеющий самый низкий процент задолженности по кредиту (5,49%)  \n",
    "\n",
    "Наиболее проблемной для целей возврата кредита является вторая по популярности группа заемщиков (20% всех займов), оформляющих кредит на операции с автомобилем. Процент таких заемщиков, имевших задолженность по кредиту, максимальный и составляет 9.35%. Вероятно в этом случае оправданным будет оформление страхования займов.  \n",
    "\n",
    "Третья категория займов на получение образования (18,7% всех займов) имеет процент задолженности по кредиту 9.25% близкий к данным по категории 'операции с автомобилем'. Однако именно в этой категории присутствует наиболее проблемная группа заемщиков, оформивших кредит на получение дополнительного образования.\t    "
   ]
  },
  {
   "cell_type": "markdown",
   "id": "46c1f10b",
   "metadata": {
    "deletable": false,
    "editable": false,
    "id": "46c1f10b"
   },
   "source": [
    "#### 3.5 Приведите возможные причины появления пропусков в исходных данных."
   ]
  },
  {
   "cell_type": "markdown",
   "id": "3697d2a9",
   "metadata": {
    "deletable": false,
    "id": "3697d2a9"
   },
   "source": [
    "*Ответ:*  Пропущенные значения есть в двух столбцах:  \n",
    "days_employed — общий трудовой стаж в днях;  \n",
    "total_income — ежемесячный доход.  \n",
    "Количество пропусков совпадает в этих столбцах и равно 2174 из 21331 строк датафрейма (10,2%).  \n",
    "\n",
    "Пропуски могут быть вызваны:  \n",
    "1. Отсутствием этих данных для конкретных клиентов; \n",
    "2. Программной ошибкой, обнуляющей данные о трудовом стаже при нулевом доходе в настоящее время и наоборот;\n",
    "3. Ошибкой при заполнении данных."
   ]
  },
  {
   "cell_type": "markdown",
   "id": "3137d257",
   "metadata": {
    "deletable": false,
    "editable": false,
    "id": "3137d257"
   },
   "source": [
    "#### 3.6 Объясните, почему заполнить пропуски медианным значением — лучшее решение для количественных переменных."
   ]
  },
  {
   "cell_type": "markdown",
   "id": "cf40012a",
   "metadata": {
    "deletable": false,
    "id": "cf40012a"
   },
   "source": [
    "*Ответ:* Общий трудовой стаж в днях и доход в рублях — количественные переменные.  \n",
    "Пропуски в таких переменных заполняют характерными значениями. Это значения, характеризующие состояние выборки, — набора данных, выбранных для проведения исследования. Чтобы примерно оценить типичные значения выборки, годится медиана.  \n",
    "Среднее значение некорректно характеризует данные, когда некоторые значения сильно выделяются среди большинства, как в нашем случае. Когда в выборке присутствуют выдающиеся значения (например аномальное значение 366413.652744 дней стажа против 578.751554), лучше использовать медиану.  \n",
    "На сумму дохода сильнее всего влияет тип занятости, поэтому заполнить пропуски в этом столбце нужно медианным значением по каждому типу из столбца income_type. "
   ]
  },
  {
   "cell_type": "markdown",
   "id": "57bc304e",
   "metadata": {
    "deletable": false,
    "editable": false,
    "id": "57bc304e"
   },
   "source": [
    "### Шаг 4: общий вывод."
   ]
  },
  {
   "cell_type": "markdown",
   "id": "4f3f3310",
   "metadata": {
    "deletable": false,
    "id": "1ab75d1c"
   },
   "source": [
    "**Целью данного пректа было исследование надёжности заёмщиков.**  \n",
    "\n",
    "**Входные данные от банка** — статистика о платёжеспособности клиентов.  \n",
    "Данные включают информацию о возрасте, поле, уровне образования клиента, общем трудовом стаже и типе занятости, семейном положении и количестве детей в семье, ежемесячном доходе, цели получения кредита, наличии задолженности по возврату кредитов.\n",
    "\n",
    "**1.** Изучив общую информацию о данных, были выявлены проблеммы в исходных данных. Была проведена **предобработка данных**.\n",
    "- Удаление пропусков в 10,2% ячеек двух столбцов: days_employed — общий трудовой стаж в днях и total_income — ежемесячный доход. Заменили их медианным значением по каждому типу из столбца income_type - тип занятости;  \n",
    "- Обработка аномальных значений: отрицательное количество дней трудового стажа в столбце days_employed заменили положительными с помощью метода abs()  \n",
    "- Удаление строк, в которых встречаются аномальные значения из столбца children (-1 и 20);  \n",
    "- Замена вещественного типа данных в столбце total_income на целочисленный;  \n",
    "- Обработка неявных дубликатов в столбце education. Приведение к нижнему регистру значений, записанных по-разному: с использованием заглавных и строчных букв;  \n",
    "- Удаление строк-дубликатов;  \n",
    "- Категоризация данных: создание в датафрейме data столбца total_income_category с категориями по уровню дохода и столбца purpose_category, в который вошли  четыре основные категории целей кредита.  \n",
    "\n",
    "**2. Исследование данных и ответ на вопросы**:  \n",
    "- Есть ли зависимость между количеством детей и возвратом кредита в срок?  \n",
    "- Есть ли зависимость между семейным положением и возвратом кредита в срок?  \n",
    "- Есть ли зависимость между уровнем дохода и возвратом кредита в срок?  \n",
    "- Как разные цели кредита влияют на его возврат в срок?  \n",
    "\n",
    "\n",
    "**Главные выводы.**  \n",
    "**1. Бездетные заемщики реже имели задолженность по кредиту, чем заемщики, имеющие 1-2 детей.**  \n",
    "*Большинство заемщиков бездетные. Учитывая отсутствие дополнительной нагрузки, связанной с иждевенцами, такие заемщики чаще возвращали кредит вовремя. Семьи с одним или двумя детьми возвращали кредит более, чем в 90% случаев. Доля семей с тремя детьми, имевших задолженность по кредиту близка к доле бездетных семей, однако количество таких семей составляет всего 1,5% от всех заемщиков, поэтому эти данные не могут быть достоверными.\n",
    "Данных по заемщикам с четырьмя и пятью детьми недостаточно для корректных выводов по ним.*\n",
    "  \n",
    "**2. Заемщики, которые состоят или когда-либо состояли в зарегистрированном браке надежнее тех, которые не женаты\\не замужем.**  \n",
    "*Самая многочисленная группа заемщиков состоит в браке и имеет процент задолженности по кредиту 7,56%, незначительно превышающий процент задолженности заемщиков в разводе или вдовцов, т.е. тех, кто в прошлом состоял в браке - 7,06%. Наиболее надежными можно считать категорию заемщиков, являющихся вдовцами\\вдовами. Процент задолженности по кредиту минимальный и составляет 6,62%. Вероятно людей, вступающих в зарегистрированный брак (в том числе в прошлом), можно считать наиболее ответственными, что положительно сказывается на их способности своевременно исполнять в том числе и финансовые обязательства.\n",
    "Самой ненадежной группой клиентов являются не женатые\\не замужние.*  \n",
    "  \n",
    "**3. Кредит в срок чаще возвращают заемщики с доходом до 70000 рублей и доходом от 200001 до 1000000 рублей.**  \n",
    "*Заемщики с доходом 70001 - 200000 рублей допускают задолженность по кредиту в среднем на 1,5% чаще предыдущей группы.\n",
    "Этот факт опровергает гипотезу, что клиент с большим доходом более надежный. Вероятно на возврат кредита в значительной степени влияют прочие факторы, и нельзя делать вывод о надежности клиента только по уровню дохода.\n",
    "Количество заемщиков с доходом более 1000000 настолько незначительно, что невозможно сделать корректные выводы относительно их надежности.*  \n",
    "  \n",
    "**4. Возврат кредита в срок зависит от целей кредита.**  \n",
    "*Наибольшую надежность имеют заемщики, оформляющие кредит на недвижимость.  \n",
    "Самыми проблемными для целей возврата кредита являются заемщики, оформляющие кредит на операции с автомобилем. Процент таких заемщиков, имевших задолженность по кредиту, максимальный и составляет 9.35%. Вероятно в этом случае оправданным будет оформление страхования займов.  \n",
    "Займы на получение образования имеют процент задолженности 9.25%, близкий к данным по категории 'операции с автомобилем'. Однако именно в этой категории присутствует наиболее проблемная группа заемщиков, оформивших кредит на получение дополнительного образования.*\n",
    "\n",
    "**Рекомендации.**  \n",
    "\n",
    "✔️Портрет идеального заёмщика: вдовец\\вдова с доходом от 200 тыс.руб. до 1 млн.руб., не имеющий детей, оформляющий кредит на операции с недвижимостью.  \n",
    "\n",
    "✔️Хороший заёмщик: человек с доходом от 200 тыс.руб. до 1 млн.руб., состоящий в зарегистрированном браке, не имеющий детей, оформляющий кредит на операции с недвижимостью или человек с доходом от 30 до 50 тыс.руб., состоящий в зарегистрированном браке или разведенный, не имеющий детей, оформляющий кредит на проведение свадьбы.  \n",
    "\n",
    "❌Плохой заемщик не женат\\не замужем, имеющий 2 и более детей с доходом от 50 до 200 тыс.руб., цель кредита - операции с автомобилем. \n",
    "\n",
    "Для более точной оценки надёжности заёмщиков можно было бы оценить взаимосвязь количества дней просрочки по кредиту и уровня дохода клиента, а также зависимость типа занятости клиента и возврата кредита в срок.   \n",
    "\n"
   ]
  }
 ],
 "metadata": {
  "ExecuteTimeLog": [
   {
    "duration": 522,
    "start_time": "2024-03-31T19:00:07.358Z"
   },
   {
    "duration": 24,
    "start_time": "2024-03-31T19:00:07.882Z"
   },
   {
    "duration": 17,
    "start_time": "2024-03-31T19:00:07.909Z"
   },
   {
    "duration": 12,
    "start_time": "2024-03-31T19:00:07.928Z"
   },
   {
    "duration": 65,
    "start_time": "2024-03-31T19:00:07.941Z"
   },
   {
    "duration": 4,
    "start_time": "2024-03-31T19:00:08.007Z"
   },
   {
    "duration": 10,
    "start_time": "2024-03-31T19:00:08.013Z"
   },
   {
    "duration": 35,
    "start_time": "2024-03-31T19:00:08.025Z"
   },
   {
    "duration": 12,
    "start_time": "2024-03-31T19:00:08.062Z"
   },
   {
    "duration": 23,
    "start_time": "2024-03-31T19:00:08.077Z"
   },
   {
    "duration": 66,
    "start_time": "2024-03-31T19:00:08.102Z"
   },
   {
    "duration": 32,
    "start_time": "2024-03-31T19:00:08.169Z"
   },
   {
    "duration": 11,
    "start_time": "2024-03-31T19:00:08.203Z"
   },
   {
    "duration": 27,
    "start_time": "2024-03-31T19:00:08.216Z"
   },
   {
    "duration": 38,
    "start_time": "2024-03-31T19:00:08.245Z"
   },
   {
    "duration": 19,
    "start_time": "2024-03-31T19:00:08.285Z"
   },
   {
    "duration": 4,
    "start_time": "2024-03-31T19:00:08.306Z"
   },
   {
    "duration": 14,
    "start_time": "2024-03-31T19:00:08.311Z"
   },
   {
    "duration": 23,
    "start_time": "2024-03-31T19:00:08.327Z"
   },
   {
    "duration": 4,
    "start_time": "2024-03-31T19:00:08.352Z"
   },
   {
    "duration": 27,
    "start_time": "2024-03-31T19:00:08.358Z"
   },
   {
    "duration": 21,
    "start_time": "2024-03-31T19:00:08.387Z"
   },
   {
    "duration": 6,
    "start_time": "2024-03-31T19:00:08.410Z"
   },
   {
    "duration": 14,
    "start_time": "2024-03-31T19:00:08.418Z"
   },
   {
    "duration": 10,
    "start_time": "2024-03-31T19:00:08.434Z"
   },
   {
    "duration": 466,
    "start_time": "2024-03-31T19:29:29.613Z"
   },
   {
    "duration": 22,
    "start_time": "2024-03-31T19:29:30.081Z"
   },
   {
    "duration": 56,
    "start_time": "2024-03-31T19:29:30.104Z"
   },
   {
    "duration": 65,
    "start_time": "2024-03-31T19:29:30.162Z"
   },
   {
    "duration": 80,
    "start_time": "2024-03-31T19:29:30.228Z"
   },
   {
    "duration": 43,
    "start_time": "2024-03-31T19:29:30.310Z"
   },
   {
    "duration": 95,
    "start_time": "2024-03-31T19:29:30.354Z"
   },
   {
    "duration": 69,
    "start_time": "2024-03-31T19:29:30.450Z"
   },
   {
    "duration": 83,
    "start_time": "2024-03-31T19:29:30.521Z"
   },
   {
    "duration": 85,
    "start_time": "2024-03-31T19:29:30.606Z"
   },
   {
    "duration": 76,
    "start_time": "2024-03-31T19:29:30.693Z"
   },
   {
    "duration": 17,
    "start_time": "2024-03-31T19:29:30.770Z"
   },
   {
    "duration": 55,
    "start_time": "2024-03-31T19:29:30.789Z"
   },
   {
    "duration": 189,
    "start_time": "2024-03-31T19:29:30.845Z"
   },
   {
    "duration": 142,
    "start_time": "2024-03-31T19:29:31.035Z"
   },
   {
    "duration": 91,
    "start_time": "2024-03-31T19:29:31.178Z"
   },
   {
    "duration": 30,
    "start_time": "2024-03-31T19:29:31.271Z"
   },
   {
    "duration": 48,
    "start_time": "2024-03-31T19:29:31.303Z"
   },
   {
    "duration": 40,
    "start_time": "2024-03-31T19:29:31.353Z"
   },
   {
    "duration": 39,
    "start_time": "2024-03-31T19:29:31.395Z"
   },
   {
    "duration": 86,
    "start_time": "2024-03-31T19:29:31.435Z"
   },
   {
    "duration": 126,
    "start_time": "2024-03-31T19:29:31.522Z"
   },
   {
    "duration": 0,
    "start_time": "2024-03-31T19:29:31.649Z"
   },
   {
    "duration": 0,
    "start_time": "2024-03-31T19:29:31.650Z"
   },
   {
    "duration": 0,
    "start_time": "2024-03-31T19:29:31.652Z"
   },
   {
    "duration": 18,
    "start_time": "2024-03-31T19:30:27.689Z"
   },
   {
    "duration": 7,
    "start_time": "2024-03-31T19:31:27.756Z"
   },
   {
    "duration": 5,
    "start_time": "2024-03-31T19:51:33.490Z"
   },
   {
    "duration": 5,
    "start_time": "2024-03-31T19:51:56.045Z"
   },
   {
    "duration": 4,
    "start_time": "2024-03-31T19:52:43.893Z"
   },
   {
    "duration": 4,
    "start_time": "2024-03-31T19:52:46.452Z"
   },
   {
    "duration": 7,
    "start_time": "2024-03-31T19:56:52.029Z"
   },
   {
    "duration": 6,
    "start_time": "2024-03-31T19:56:54.762Z"
   },
   {
    "duration": 95,
    "start_time": "2024-03-31T20:02:35.081Z"
   },
   {
    "duration": 88,
    "start_time": "2024-03-31T20:02:58.996Z"
   },
   {
    "duration": 7,
    "start_time": "2024-03-31T20:03:20.244Z"
   },
   {
    "duration": 9,
    "start_time": "2024-03-31T20:03:24.519Z"
   },
   {
    "duration": 112,
    "start_time": "2024-03-31T20:04:22.951Z"
   },
   {
    "duration": 91,
    "start_time": "2024-03-31T20:04:42.960Z"
   },
   {
    "duration": 8,
    "start_time": "2024-03-31T20:08:04.579Z"
   },
   {
    "duration": 7,
    "start_time": "2024-03-31T20:09:18.807Z"
   },
   {
    "duration": 7,
    "start_time": "2024-03-31T20:09:20.135Z"
   },
   {
    "duration": 7,
    "start_time": "2024-03-31T20:11:44.405Z"
   },
   {
    "duration": 7,
    "start_time": "2024-03-31T20:11:46.606Z"
   },
   {
    "duration": 5,
    "start_time": "2024-03-31T20:28:18.681Z"
   },
   {
    "duration": 4,
    "start_time": "2024-03-31T20:38:20.089Z"
   },
   {
    "duration": 7,
    "start_time": "2024-03-31T20:38:22.171Z"
   },
   {
    "duration": 3,
    "start_time": "2024-03-31T20:39:12.617Z"
   },
   {
    "duration": 4,
    "start_time": "2024-03-31T20:39:29.669Z"
   },
   {
    "duration": 7,
    "start_time": "2024-03-31T20:39:31.165Z"
   },
   {
    "duration": 3,
    "start_time": "2024-03-31T20:41:56.038Z"
   },
   {
    "duration": 4,
    "start_time": "2024-03-31T20:41:56.934Z"
   },
   {
    "duration": 8,
    "start_time": "2024-03-31T20:41:59.486Z"
   },
   {
    "duration": 9,
    "start_time": "2024-03-31T20:50:04.697Z"
   },
   {
    "duration": 55,
    "start_time": "2024-03-31T20:50:17.647Z"
   },
   {
    "duration": 471,
    "start_time": "2024-03-31T20:50:28.726Z"
   },
   {
    "duration": 22,
    "start_time": "2024-03-31T20:50:29.198Z"
   },
   {
    "duration": 16,
    "start_time": "2024-03-31T20:50:29.221Z"
   },
   {
    "duration": 13,
    "start_time": "2024-03-31T20:50:29.238Z"
   },
   {
    "duration": 73,
    "start_time": "2024-03-31T20:50:29.252Z"
   },
   {
    "duration": 3,
    "start_time": "2024-03-31T20:50:29.327Z"
   },
   {
    "duration": 12,
    "start_time": "2024-03-31T20:50:29.331Z"
   },
   {
    "duration": 4,
    "start_time": "2024-03-31T20:50:29.344Z"
   },
   {
    "duration": 19,
    "start_time": "2024-03-31T20:50:29.349Z"
   },
   {
    "duration": 11,
    "start_time": "2024-03-31T20:50:29.371Z"
   },
   {
    "duration": 66,
    "start_time": "2024-03-31T20:50:29.383Z"
   },
   {
    "duration": 11,
    "start_time": "2024-03-31T20:50:29.450Z"
   },
   {
    "duration": 19,
    "start_time": "2024-03-31T20:50:29.462Z"
   },
   {
    "duration": 18,
    "start_time": "2024-03-31T20:50:29.482Z"
   },
   {
    "duration": 23,
    "start_time": "2024-03-31T20:50:29.502Z"
   },
   {
    "duration": 18,
    "start_time": "2024-03-31T20:50:29.527Z"
   },
   {
    "duration": 7,
    "start_time": "2024-03-31T20:50:29.547Z"
   },
   {
    "duration": 26,
    "start_time": "2024-03-31T20:50:29.556Z"
   },
   {
    "duration": 17,
    "start_time": "2024-03-31T20:50:29.584Z"
   },
   {
    "duration": 23,
    "start_time": "2024-03-31T20:50:29.603Z"
   },
   {
    "duration": 19,
    "start_time": "2024-03-31T20:50:29.628Z"
   },
   {
    "duration": 30,
    "start_time": "2024-03-31T20:50:29.648Z"
   },
   {
    "duration": 32,
    "start_time": "2024-03-31T20:50:29.680Z"
   },
   {
    "duration": 45,
    "start_time": "2024-03-31T20:50:29.714Z"
   },
   {
    "duration": 16,
    "start_time": "2024-03-31T20:50:29.761Z"
   },
   {
    "duration": 12,
    "start_time": "2024-03-31T20:50:29.778Z"
   },
   {
    "duration": 15,
    "start_time": "2024-03-31T20:50:29.792Z"
   },
   {
    "duration": 9,
    "start_time": "2024-03-31T20:50:29.811Z"
   },
   {
    "duration": 523,
    "start_time": "2024-03-31T20:50:56.560Z"
   },
   {
    "duration": 23,
    "start_time": "2024-03-31T20:50:57.085Z"
   },
   {
    "duration": 16,
    "start_time": "2024-03-31T20:50:57.109Z"
   },
   {
    "duration": 10,
    "start_time": "2024-03-31T20:50:57.128Z"
   },
   {
    "duration": 59,
    "start_time": "2024-03-31T20:50:57.140Z"
   },
   {
    "duration": 3,
    "start_time": "2024-03-31T20:50:57.201Z"
   },
   {
    "duration": 28,
    "start_time": "2024-03-31T20:50:57.206Z"
   },
   {
    "duration": 8,
    "start_time": "2024-03-31T20:50:57.236Z"
   },
   {
    "duration": 19,
    "start_time": "2024-03-31T20:50:57.246Z"
   },
   {
    "duration": 10,
    "start_time": "2024-03-31T20:50:57.270Z"
   },
   {
    "duration": 47,
    "start_time": "2024-03-31T20:50:57.282Z"
   },
   {
    "duration": 11,
    "start_time": "2024-03-31T20:50:57.331Z"
   },
   {
    "duration": 24,
    "start_time": "2024-03-31T20:50:57.343Z"
   },
   {
    "duration": 34,
    "start_time": "2024-03-31T20:50:57.369Z"
   },
   {
    "duration": 45,
    "start_time": "2024-03-31T20:50:57.405Z"
   },
   {
    "duration": 18,
    "start_time": "2024-03-31T20:50:57.451Z"
   },
   {
    "duration": 4,
    "start_time": "2024-03-31T20:50:57.471Z"
   },
   {
    "duration": 15,
    "start_time": "2024-03-31T20:50:57.476Z"
   },
   {
    "duration": 18,
    "start_time": "2024-03-31T20:50:57.492Z"
   },
   {
    "duration": 13,
    "start_time": "2024-03-31T20:50:57.512Z"
   },
   {
    "duration": 12,
    "start_time": "2024-03-31T20:50:57.526Z"
   },
   {
    "duration": 12,
    "start_time": "2024-03-31T20:50:57.539Z"
   },
   {
    "duration": 4,
    "start_time": "2024-03-31T20:50:57.552Z"
   },
   {
    "duration": 7,
    "start_time": "2024-03-31T20:50:57.558Z"
   },
   {
    "duration": 17,
    "start_time": "2024-03-31T20:50:57.566Z"
   },
   {
    "duration": 8,
    "start_time": "2024-03-31T20:50:57.584Z"
   },
   {
    "duration": 12,
    "start_time": "2024-03-31T20:50:57.593Z"
   },
   {
    "duration": 6,
    "start_time": "2024-03-31T20:50:57.607Z"
   },
   {
    "duration": 8,
    "start_time": "2024-03-31T21:00:35.210Z"
   },
   {
    "duration": 7,
    "start_time": "2024-03-31T21:01:14.577Z"
   },
   {
    "duration": 476,
    "start_time": "2024-03-31T21:19:12.693Z"
   },
   {
    "duration": 21,
    "start_time": "2024-03-31T21:19:13.171Z"
   },
   {
    "duration": 16,
    "start_time": "2024-03-31T21:19:13.193Z"
   },
   {
    "duration": 10,
    "start_time": "2024-03-31T21:19:13.211Z"
   },
   {
    "duration": 57,
    "start_time": "2024-03-31T21:19:13.223Z"
   },
   {
    "duration": 3,
    "start_time": "2024-03-31T21:19:13.282Z"
   },
   {
    "duration": 20,
    "start_time": "2024-03-31T21:19:13.286Z"
   },
   {
    "duration": 5,
    "start_time": "2024-03-31T21:19:13.307Z"
   },
   {
    "duration": 7,
    "start_time": "2024-03-31T21:19:13.313Z"
   },
   {
    "duration": 4,
    "start_time": "2024-03-31T21:19:13.323Z"
   },
   {
    "duration": 55,
    "start_time": "2024-03-31T21:19:13.328Z"
   },
   {
    "duration": 12,
    "start_time": "2024-03-31T21:19:13.384Z"
   },
   {
    "duration": 8,
    "start_time": "2024-03-31T21:19:13.397Z"
   },
   {
    "duration": 14,
    "start_time": "2024-03-31T21:19:13.406Z"
   },
   {
    "duration": 29,
    "start_time": "2024-03-31T21:19:13.422Z"
   },
   {
    "duration": 29,
    "start_time": "2024-03-31T21:19:13.452Z"
   },
   {
    "duration": 3,
    "start_time": "2024-03-31T21:19:13.482Z"
   },
   {
    "duration": 21,
    "start_time": "2024-03-31T21:19:13.487Z"
   },
   {
    "duration": 5,
    "start_time": "2024-03-31T21:19:13.510Z"
   },
   {
    "duration": 11,
    "start_time": "2024-03-31T21:19:13.516Z"
   },
   {
    "duration": 10,
    "start_time": "2024-03-31T21:19:13.528Z"
   },
   {
    "duration": 19,
    "start_time": "2024-03-31T21:19:13.539Z"
   },
   {
    "duration": 2,
    "start_time": "2024-03-31T21:19:13.559Z"
   },
   {
    "duration": 8,
    "start_time": "2024-03-31T21:19:13.563Z"
   },
   {
    "duration": 11,
    "start_time": "2024-03-31T21:19:13.572Z"
   },
   {
    "duration": 8,
    "start_time": "2024-03-31T21:19:13.584Z"
   },
   {
    "duration": 7,
    "start_time": "2024-03-31T21:19:13.593Z"
   },
   {
    "duration": 2,
    "start_time": "2024-03-31T21:19:13.603Z"
   },
   {
    "duration": 4,
    "start_time": "2024-03-31T21:19:13.606Z"
   },
   {
    "duration": 7,
    "start_time": "2024-03-31T21:21:46.517Z"
   },
   {
    "duration": 6,
    "start_time": "2024-03-31T21:21:50.369Z"
   },
   {
    "duration": 11,
    "start_time": "2024-03-31T21:34:20.931Z"
   },
   {
    "duration": 10,
    "start_time": "2024-03-31T21:34:24.063Z"
   },
   {
    "duration": 8,
    "start_time": "2024-03-31T21:37:03.688Z"
   },
   {
    "duration": 8,
    "start_time": "2024-03-31T21:37:06.800Z"
   },
   {
    "duration": 10,
    "start_time": "2024-03-31T21:37:08.743Z"
   },
   {
    "duration": 7,
    "start_time": "2024-03-31T21:38:59.214Z"
   },
   {
    "duration": 5,
    "start_time": "2024-03-31T22:01:22.806Z"
   },
   {
    "duration": 63,
    "start_time": "2024-03-31T22:01:39.668Z"
   },
   {
    "duration": 4,
    "start_time": "2024-03-31T22:01:46.559Z"
   },
   {
    "duration": 9,
    "start_time": "2024-03-31T22:01:48.733Z"
   },
   {
    "duration": 481,
    "start_time": "2024-03-31T22:01:54.411Z"
   },
   {
    "duration": 22,
    "start_time": "2024-03-31T22:01:54.894Z"
   },
   {
    "duration": 16,
    "start_time": "2024-03-31T22:01:54.918Z"
   },
   {
    "duration": 17,
    "start_time": "2024-03-31T22:01:54.936Z"
   },
   {
    "duration": 53,
    "start_time": "2024-03-31T22:01:54.955Z"
   },
   {
    "duration": 4,
    "start_time": "2024-03-31T22:01:55.010Z"
   },
   {
    "duration": 11,
    "start_time": "2024-03-31T22:01:55.015Z"
   },
   {
    "duration": 5,
    "start_time": "2024-03-31T22:01:55.027Z"
   },
   {
    "duration": 11,
    "start_time": "2024-03-31T22:01:55.033Z"
   },
   {
    "duration": 10,
    "start_time": "2024-03-31T22:01:55.047Z"
   },
   {
    "duration": 55,
    "start_time": "2024-03-31T22:01:55.058Z"
   },
   {
    "duration": 10,
    "start_time": "2024-03-31T22:01:55.115Z"
   },
   {
    "duration": 8,
    "start_time": "2024-03-31T22:01:55.127Z"
   },
   {
    "duration": 21,
    "start_time": "2024-03-31T22:01:55.137Z"
   },
   {
    "duration": 25,
    "start_time": "2024-03-31T22:01:55.159Z"
   },
   {
    "duration": 17,
    "start_time": "2024-03-31T22:01:55.185Z"
   },
   {
    "duration": 3,
    "start_time": "2024-03-31T22:01:55.204Z"
   },
   {
    "duration": 12,
    "start_time": "2024-03-31T22:01:55.209Z"
   },
   {
    "duration": 6,
    "start_time": "2024-03-31T22:01:55.223Z"
   },
   {
    "duration": 4,
    "start_time": "2024-03-31T22:01:55.231Z"
   },
   {
    "duration": 44,
    "start_time": "2024-03-31T22:01:55.236Z"
   },
   {
    "duration": 8,
    "start_time": "2024-03-31T22:01:55.282Z"
   },
   {
    "duration": 6,
    "start_time": "2024-03-31T22:01:55.292Z"
   },
   {
    "duration": 5,
    "start_time": "2024-03-31T22:01:55.300Z"
   },
   {
    "duration": 17,
    "start_time": "2024-03-31T22:01:55.307Z"
   },
   {
    "duration": 13,
    "start_time": "2024-03-31T22:01:55.326Z"
   },
   {
    "duration": 9,
    "start_time": "2024-03-31T22:01:55.341Z"
   },
   {
    "duration": 7,
    "start_time": "2024-03-31T22:01:55.380Z"
   },
   {
    "duration": 12,
    "start_time": "2024-03-31T22:01:55.389Z"
   },
   {
    "duration": 6,
    "start_time": "2024-03-31T22:01:55.403Z"
   },
   {
    "duration": 74,
    "start_time": "2024-03-31T22:01:55.410Z"
   },
   {
    "duration": 0,
    "start_time": "2024-03-31T22:01:55.486Z"
   },
   {
    "duration": 13,
    "start_time": "2024-03-31T22:02:38.365Z"
   },
   {
    "duration": 17,
    "start_time": "2024-03-31T22:03:12.214Z"
   },
   {
    "duration": 4,
    "start_time": "2024-03-31T22:03:35.650Z"
   },
   {
    "duration": 13,
    "start_time": "2024-03-31T22:03:39.509Z"
   },
   {
    "duration": 16,
    "start_time": "2024-03-31T22:03:43.825Z"
   },
   {
    "duration": 9,
    "start_time": "2024-03-31T22:05:12.678Z"
   },
   {
    "duration": 7,
    "start_time": "2024-03-31T22:05:27.440Z"
   },
   {
    "duration": 7,
    "start_time": "2024-03-31T22:05:35.440Z"
   },
   {
    "duration": 5,
    "start_time": "2024-03-31T22:11:25.270Z"
   },
   {
    "duration": 27,
    "start_time": "2024-03-31T22:11:25.277Z"
   },
   {
    "duration": 9,
    "start_time": "2024-03-31T22:11:25.305Z"
   },
   {
    "duration": 18,
    "start_time": "2024-03-31T22:11:25.332Z"
   },
   {
    "duration": 6,
    "start_time": "2024-03-31T22:18:07.039Z"
   },
   {
    "duration": 14,
    "start_time": "2024-03-31T22:18:08.837Z"
   },
   {
    "duration": 9,
    "start_time": "2024-03-31T22:18:10.525Z"
   },
   {
    "duration": 498,
    "start_time": "2024-03-31T22:18:22.879Z"
   },
   {
    "duration": 23,
    "start_time": "2024-03-31T22:18:23.378Z"
   },
   {
    "duration": 17,
    "start_time": "2024-03-31T22:18:23.402Z"
   },
   {
    "duration": 9,
    "start_time": "2024-03-31T22:18:23.421Z"
   },
   {
    "duration": 60,
    "start_time": "2024-03-31T22:18:23.432Z"
   },
   {
    "duration": 3,
    "start_time": "2024-03-31T22:18:23.495Z"
   },
   {
    "duration": 12,
    "start_time": "2024-03-31T22:18:23.499Z"
   },
   {
    "duration": 12,
    "start_time": "2024-03-31T22:18:23.512Z"
   },
   {
    "duration": 7,
    "start_time": "2024-03-31T22:18:23.525Z"
   },
   {
    "duration": 4,
    "start_time": "2024-03-31T22:18:23.534Z"
   },
   {
    "duration": 57,
    "start_time": "2024-03-31T22:18:23.540Z"
   },
   {
    "duration": 10,
    "start_time": "2024-03-31T22:18:23.598Z"
   },
   {
    "duration": 3,
    "start_time": "2024-03-31T22:18:23.610Z"
   },
   {
    "duration": 22,
    "start_time": "2024-03-31T22:18:23.615Z"
   },
   {
    "duration": 19,
    "start_time": "2024-03-31T22:18:23.638Z"
   },
   {
    "duration": 34,
    "start_time": "2024-03-31T22:18:23.659Z"
   },
   {
    "duration": 4,
    "start_time": "2024-03-31T22:18:23.695Z"
   },
   {
    "duration": 22,
    "start_time": "2024-03-31T22:18:23.700Z"
   },
   {
    "duration": 5,
    "start_time": "2024-03-31T22:18:23.724Z"
   },
   {
    "duration": 4,
    "start_time": "2024-03-31T22:18:23.731Z"
   },
   {
    "duration": 13,
    "start_time": "2024-03-31T22:18:23.737Z"
   },
   {
    "duration": 7,
    "start_time": "2024-03-31T22:18:23.751Z"
   },
   {
    "duration": 21,
    "start_time": "2024-03-31T22:18:23.760Z"
   },
   {
    "duration": 3,
    "start_time": "2024-03-31T22:18:23.783Z"
   },
   {
    "duration": 11,
    "start_time": "2024-03-31T22:18:23.787Z"
   },
   {
    "duration": 8,
    "start_time": "2024-03-31T22:18:23.799Z"
   },
   {
    "duration": 13,
    "start_time": "2024-03-31T22:18:23.809Z"
   },
   {
    "duration": 16,
    "start_time": "2024-03-31T22:18:23.825Z"
   },
   {
    "duration": 25,
    "start_time": "2024-03-31T22:18:23.842Z"
   },
   {
    "duration": 16,
    "start_time": "2024-03-31T22:18:23.868Z"
   },
   {
    "duration": 15,
    "start_time": "2024-03-31T22:18:23.885Z"
   },
   {
    "duration": 7,
    "start_time": "2024-03-31T22:18:23.902Z"
   },
   {
    "duration": 16,
    "start_time": "2024-03-31T22:18:23.911Z"
   },
   {
    "duration": 5,
    "start_time": "2024-03-31T22:18:23.928Z"
   },
   {
    "duration": 120,
    "start_time": "2024-03-31T22:48:39.212Z"
   },
   {
    "duration": 84,
    "start_time": "2024-03-31T22:49:09.707Z"
   },
   {
    "duration": 10,
    "start_time": "2024-03-31T22:49:23.918Z"
   },
   {
    "duration": 89,
    "start_time": "2024-03-31T22:49:38.902Z"
   },
   {
    "duration": 8,
    "start_time": "2024-03-31T22:49:45.471Z"
   },
   {
    "duration": 86,
    "start_time": "2024-03-31T22:49:57.084Z"
   },
   {
    "duration": 9,
    "start_time": "2024-03-31T22:50:53.758Z"
   },
   {
    "duration": 7,
    "start_time": "2024-03-31T22:50:57.311Z"
   },
   {
    "duration": 8,
    "start_time": "2024-03-31T22:51:44.584Z"
   },
   {
    "duration": 7,
    "start_time": "2024-03-31T22:51:46.968Z"
   },
   {
    "duration": 13,
    "start_time": "2024-03-31T22:52:45.328Z"
   },
   {
    "duration": 7,
    "start_time": "2024-03-31T22:52:46.872Z"
   },
   {
    "duration": 10,
    "start_time": "2024-03-31T22:53:45.121Z"
   },
   {
    "duration": 8,
    "start_time": "2024-03-31T22:53:47.232Z"
   },
   {
    "duration": 8,
    "start_time": "2024-03-31T22:55:14.014Z"
   },
   {
    "duration": 7,
    "start_time": "2024-03-31T22:55:15.752Z"
   },
   {
    "duration": 3,
    "start_time": "2024-03-31T22:55:16.728Z"
   },
   {
    "duration": 4,
    "start_time": "2024-03-31T22:55:17.521Z"
   },
   {
    "duration": 8,
    "start_time": "2024-03-31T22:55:18.318Z"
   },
   {
    "duration": 7,
    "start_time": "2024-03-31T22:58:17.155Z"
   },
   {
    "duration": 469,
    "start_time": "2024-03-31T23:04:11.309Z"
   },
   {
    "duration": 22,
    "start_time": "2024-03-31T23:04:11.780Z"
   },
   {
    "duration": 16,
    "start_time": "2024-03-31T23:04:11.803Z"
   },
   {
    "duration": 11,
    "start_time": "2024-03-31T23:04:11.822Z"
   },
   {
    "duration": 63,
    "start_time": "2024-03-31T23:04:11.835Z"
   },
   {
    "duration": 4,
    "start_time": "2024-03-31T23:04:11.900Z"
   },
   {
    "duration": 8,
    "start_time": "2024-03-31T23:04:11.906Z"
   },
   {
    "duration": 11,
    "start_time": "2024-03-31T23:04:11.916Z"
   },
   {
    "duration": 8,
    "start_time": "2024-03-31T23:04:11.929Z"
   },
   {
    "duration": 6,
    "start_time": "2024-03-31T23:04:11.940Z"
   },
   {
    "duration": 63,
    "start_time": "2024-03-31T23:04:11.947Z"
   },
   {
    "duration": 10,
    "start_time": "2024-03-31T23:04:12.012Z"
   },
   {
    "duration": 4,
    "start_time": "2024-03-31T23:04:12.024Z"
   },
   {
    "duration": 19,
    "start_time": "2024-03-31T23:04:12.029Z"
   },
   {
    "duration": 40,
    "start_time": "2024-03-31T23:04:12.049Z"
   },
   {
    "duration": 17,
    "start_time": "2024-03-31T23:04:12.091Z"
   },
   {
    "duration": 4,
    "start_time": "2024-03-31T23:04:12.109Z"
   },
   {
    "duration": 18,
    "start_time": "2024-03-31T23:04:12.115Z"
   },
   {
    "duration": 7,
    "start_time": "2024-03-31T23:04:12.135Z"
   },
   {
    "duration": 4,
    "start_time": "2024-03-31T23:04:12.143Z"
   },
   {
    "duration": 23,
    "start_time": "2024-03-31T23:04:12.148Z"
   },
   {
    "duration": 7,
    "start_time": "2024-03-31T23:04:12.180Z"
   },
   {
    "duration": 2,
    "start_time": "2024-03-31T23:04:12.189Z"
   },
   {
    "duration": 21,
    "start_time": "2024-03-31T23:04:12.193Z"
   },
   {
    "duration": 19,
    "start_time": "2024-03-31T23:04:12.215Z"
   },
   {
    "duration": 15,
    "start_time": "2024-03-31T23:04:12.235Z"
   },
   {
    "duration": 7,
    "start_time": "2024-03-31T23:04:12.251Z"
   },
   {
    "duration": 7,
    "start_time": "2024-03-31T23:04:12.261Z"
   },
   {
    "duration": 11,
    "start_time": "2024-03-31T23:04:12.269Z"
   },
   {
    "duration": 9,
    "start_time": "2024-03-31T23:04:12.281Z"
   },
   {
    "duration": 25,
    "start_time": "2024-03-31T23:04:12.292Z"
   },
   {
    "duration": 8,
    "start_time": "2024-03-31T23:04:12.318Z"
   },
   {
    "duration": 7,
    "start_time": "2024-03-31T23:04:12.328Z"
   },
   {
    "duration": 6,
    "start_time": "2024-03-31T23:04:12.336Z"
   },
   {
    "duration": 4,
    "start_time": "2024-03-31T23:05:15.635Z"
   },
   {
    "duration": 8,
    "start_time": "2024-03-31T23:05:18.516Z"
   },
   {
    "duration": 13,
    "start_time": "2024-03-31T23:05:19.359Z"
   },
   {
    "duration": 10,
    "start_time": "2024-03-31T23:05:20.448Z"
   },
   {
    "duration": 642,
    "start_time": "2024-04-01T17:07:13.495Z"
   },
   {
    "duration": 21,
    "start_time": "2024-04-01T17:07:14.138Z"
   },
   {
    "duration": 14,
    "start_time": "2024-04-01T17:07:14.160Z"
   },
   {
    "duration": 9,
    "start_time": "2024-04-01T17:07:14.176Z"
   },
   {
    "duration": 29,
    "start_time": "2024-04-01T17:07:14.186Z"
   },
   {
    "duration": 3,
    "start_time": "2024-04-01T17:07:14.216Z"
   },
   {
    "duration": 29,
    "start_time": "2024-04-01T17:07:14.221Z"
   },
   {
    "duration": 35,
    "start_time": "2024-04-01T17:07:14.252Z"
   },
   {
    "duration": 23,
    "start_time": "2024-04-01T17:07:14.289Z"
   },
   {
    "duration": 12,
    "start_time": "2024-04-01T17:07:14.316Z"
   },
   {
    "duration": 44,
    "start_time": "2024-04-01T17:07:14.329Z"
   },
   {
    "duration": 8,
    "start_time": "2024-04-01T17:07:14.374Z"
   },
   {
    "duration": 17,
    "start_time": "2024-04-01T17:07:14.384Z"
   },
   {
    "duration": 22,
    "start_time": "2024-04-01T17:07:14.403Z"
   },
   {
    "duration": 28,
    "start_time": "2024-04-01T17:07:14.426Z"
   },
   {
    "duration": 15,
    "start_time": "2024-04-01T17:07:14.455Z"
   },
   {
    "duration": 13,
    "start_time": "2024-04-01T17:07:14.472Z"
   },
   {
    "duration": 22,
    "start_time": "2024-04-01T17:07:14.486Z"
   },
   {
    "duration": 19,
    "start_time": "2024-04-01T17:07:14.509Z"
   },
   {
    "duration": 24,
    "start_time": "2024-04-01T17:07:14.529Z"
   },
   {
    "duration": 31,
    "start_time": "2024-04-01T17:07:14.554Z"
   },
   {
    "duration": 13,
    "start_time": "2024-04-01T17:07:14.586Z"
   },
   {
    "duration": 11,
    "start_time": "2024-04-01T17:07:14.601Z"
   },
   {
    "duration": 30,
    "start_time": "2024-04-01T17:07:14.614Z"
   },
   {
    "duration": 142,
    "start_time": "2024-04-01T17:07:14.645Z"
   },
   {
    "duration": 17,
    "start_time": "2024-04-01T17:07:14.788Z"
   },
   {
    "duration": 13,
    "start_time": "2024-04-01T17:07:14.806Z"
   },
   {
    "duration": 12,
    "start_time": "2024-04-01T17:07:14.822Z"
   },
   {
    "duration": 7,
    "start_time": "2024-04-01T17:07:14.835Z"
   },
   {
    "duration": 9,
    "start_time": "2024-04-01T17:07:14.843Z"
   },
   {
    "duration": 31,
    "start_time": "2024-04-01T17:07:14.853Z"
   },
   {
    "duration": 25,
    "start_time": "2024-04-01T17:07:14.885Z"
   },
   {
    "duration": 10,
    "start_time": "2024-04-01T17:07:14.911Z"
   },
   {
    "duration": 10,
    "start_time": "2024-04-01T17:07:14.922Z"
   },
   {
    "duration": 8,
    "start_time": "2024-04-01T17:28:24.248Z"
   },
   {
    "duration": 9,
    "start_time": "2024-04-01T17:28:56.711Z"
   },
   {
    "duration": 21,
    "start_time": "2024-04-01T17:31:58.367Z"
   },
   {
    "duration": 9,
    "start_time": "2024-04-01T17:33:43.398Z"
   },
   {
    "duration": 7,
    "start_time": "2024-04-01T17:34:17.558Z"
   },
   {
    "duration": 2,
    "start_time": "2024-04-01T17:45:51.794Z"
   },
   {
    "duration": 3,
    "start_time": "2024-04-01T17:45:55.706Z"
   },
   {
    "duration": 3,
    "start_time": "2024-04-01T17:46:28.958Z"
   },
   {
    "duration": 4,
    "start_time": "2024-04-01T17:46:40.772Z"
   },
   {
    "duration": 4,
    "start_time": "2024-04-01T17:47:22.832Z"
   },
   {
    "duration": 4,
    "start_time": "2024-04-01T17:50:14.438Z"
   },
   {
    "duration": 7,
    "start_time": "2024-04-01T17:50:17.145Z"
   },
   {
    "duration": 3,
    "start_time": "2024-04-01T18:10:13.168Z"
   },
   {
    "duration": 6,
    "start_time": "2024-04-01T18:10:15.432Z"
   },
   {
    "duration": 4,
    "start_time": "2024-04-01T18:10:49.329Z"
   },
   {
    "duration": 6,
    "start_time": "2024-04-01T18:10:51.560Z"
   },
   {
    "duration": 8,
    "start_time": "2024-04-01T18:22:49.322Z"
   },
   {
    "duration": 7,
    "start_time": "2024-04-01T18:23:12.612Z"
   },
   {
    "duration": 8,
    "start_time": "2024-04-01T18:23:24.751Z"
   },
   {
    "duration": 9,
    "start_time": "2024-04-01T18:26:40.081Z"
   },
   {
    "duration": 8,
    "start_time": "2024-04-01T18:26:52.715Z"
   },
   {
    "duration": 7,
    "start_time": "2024-04-01T18:28:59.640Z"
   },
   {
    "duration": 8,
    "start_time": "2024-04-01T18:29:02.706Z"
   },
   {
    "duration": 9,
    "start_time": "2024-04-01T18:29:14.551Z"
   },
   {
    "duration": 8,
    "start_time": "2024-04-01T18:29:20.130Z"
   },
   {
    "duration": 11,
    "start_time": "2024-04-01T18:29:40.590Z"
   },
   {
    "duration": 3,
    "start_time": "2024-04-01T18:29:43.853Z"
   },
   {
    "duration": 59,
    "start_time": "2024-04-01T18:32:40.383Z"
   },
   {
    "duration": 7,
    "start_time": "2024-04-01T18:34:13.833Z"
   },
   {
    "duration": 10,
    "start_time": "2024-04-01T18:34:49.517Z"
   },
   {
    "duration": 13,
    "start_time": "2024-04-01T18:35:54.398Z"
   },
   {
    "duration": 17,
    "start_time": "2024-04-01T18:56:37.713Z"
   },
   {
    "duration": 15,
    "start_time": "2024-04-01T18:57:03.318Z"
   },
   {
    "duration": 15,
    "start_time": "2024-04-01T19:06:57.097Z"
   },
   {
    "duration": 17,
    "start_time": "2024-04-01T19:07:59.306Z"
   },
   {
    "duration": 19,
    "start_time": "2024-04-01T19:08:33.229Z"
   },
   {
    "duration": 13,
    "start_time": "2024-04-01T19:09:10.386Z"
   },
   {
    "duration": 378,
    "start_time": "2024-04-01T19:09:25.335Z"
   },
   {
    "duration": 17,
    "start_time": "2024-04-01T19:09:25.714Z"
   },
   {
    "duration": 11,
    "start_time": "2024-04-01T19:09:25.732Z"
   },
   {
    "duration": 15,
    "start_time": "2024-04-01T19:09:25.744Z"
   },
   {
    "duration": 46,
    "start_time": "2024-04-01T19:09:25.760Z"
   },
   {
    "duration": 2,
    "start_time": "2024-04-01T19:09:25.807Z"
   },
   {
    "duration": 10,
    "start_time": "2024-04-01T19:09:25.810Z"
   },
   {
    "duration": 10,
    "start_time": "2024-04-01T19:09:25.821Z"
   },
   {
    "duration": 7,
    "start_time": "2024-04-01T19:09:25.832Z"
   },
   {
    "duration": 4,
    "start_time": "2024-04-01T19:09:25.842Z"
   },
   {
    "duration": 30,
    "start_time": "2024-04-01T19:09:25.847Z"
   },
   {
    "duration": 11,
    "start_time": "2024-04-01T19:09:25.890Z"
   },
   {
    "duration": 3,
    "start_time": "2024-04-01T19:09:25.902Z"
   },
   {
    "duration": 16,
    "start_time": "2024-04-01T19:09:25.906Z"
   },
   {
    "duration": 22,
    "start_time": "2024-04-01T19:09:25.923Z"
   },
   {
    "duration": 13,
    "start_time": "2024-04-01T19:09:25.946Z"
   },
   {
    "duration": 3,
    "start_time": "2024-04-01T19:09:25.960Z"
   },
   {
    "duration": 17,
    "start_time": "2024-04-01T19:09:25.963Z"
   },
   {
    "duration": 5,
    "start_time": "2024-04-01T19:09:25.981Z"
   },
   {
    "duration": 5,
    "start_time": "2024-04-01T19:09:25.987Z"
   },
   {
    "duration": 13,
    "start_time": "2024-04-01T19:09:25.993Z"
   },
   {
    "duration": 8,
    "start_time": "2024-04-01T19:09:26.007Z"
   },
   {
    "duration": 3,
    "start_time": "2024-04-01T19:09:26.016Z"
   },
   {
    "duration": 10,
    "start_time": "2024-04-01T19:09:26.020Z"
   },
   {
    "duration": 9,
    "start_time": "2024-04-01T19:09:26.032Z"
   },
   {
    "duration": 7,
    "start_time": "2024-04-01T19:09:26.042Z"
   },
   {
    "duration": 5,
    "start_time": "2024-04-01T19:09:26.050Z"
   },
   {
    "duration": 9,
    "start_time": "2024-04-01T19:09:26.058Z"
   },
   {
    "duration": 17,
    "start_time": "2024-04-01T19:09:26.068Z"
   },
   {
    "duration": 7,
    "start_time": "2024-04-01T19:09:26.086Z"
   },
   {
    "duration": 20,
    "start_time": "2024-04-01T19:09:26.094Z"
   },
   {
    "duration": 6,
    "start_time": "2024-04-01T19:09:26.115Z"
   },
   {
    "duration": 6,
    "start_time": "2024-04-01T19:09:26.123Z"
   },
   {
    "duration": 7,
    "start_time": "2024-04-01T19:09:26.130Z"
   },
   {
    "duration": 3,
    "start_time": "2024-04-01T19:09:26.138Z"
   },
   {
    "duration": 18,
    "start_time": "2024-04-01T19:09:26.142Z"
   },
   {
    "duration": 37,
    "start_time": "2024-04-01T19:09:26.161Z"
   },
   {
    "duration": 3,
    "start_time": "2024-04-01T19:14:26.716Z"
   },
   {
    "duration": 409,
    "start_time": "2024-04-01T20:56:06.904Z"
   },
   {
    "duration": 17,
    "start_time": "2024-04-01T20:56:07.315Z"
   },
   {
    "duration": 25,
    "start_time": "2024-04-01T20:56:07.333Z"
   },
   {
    "duration": 12,
    "start_time": "2024-04-01T20:56:07.359Z"
   },
   {
    "duration": 26,
    "start_time": "2024-04-01T20:56:07.372Z"
   },
   {
    "duration": 2,
    "start_time": "2024-04-01T20:56:07.399Z"
   },
   {
    "duration": 6,
    "start_time": "2024-04-01T20:56:07.403Z"
   },
   {
    "duration": 5,
    "start_time": "2024-04-01T20:56:07.410Z"
   },
   {
    "duration": 19,
    "start_time": "2024-04-01T20:56:07.416Z"
   },
   {
    "duration": 15,
    "start_time": "2024-04-01T20:56:07.437Z"
   },
   {
    "duration": 25,
    "start_time": "2024-04-01T20:56:07.453Z"
   },
   {
    "duration": 7,
    "start_time": "2024-04-01T20:56:07.479Z"
   },
   {
    "duration": 15,
    "start_time": "2024-04-01T20:56:07.487Z"
   },
   {
    "duration": 9,
    "start_time": "2024-04-01T20:56:07.503Z"
   },
   {
    "duration": 24,
    "start_time": "2024-04-01T20:56:07.513Z"
   },
   {
    "duration": 13,
    "start_time": "2024-04-01T20:56:07.538Z"
   },
   {
    "duration": 12,
    "start_time": "2024-04-01T20:56:07.552Z"
   },
   {
    "duration": 23,
    "start_time": "2024-04-01T20:56:07.566Z"
   },
   {
    "duration": 15,
    "start_time": "2024-04-01T20:56:07.590Z"
   },
   {
    "duration": 27,
    "start_time": "2024-04-01T20:56:07.606Z"
   },
   {
    "duration": 31,
    "start_time": "2024-04-01T20:56:07.635Z"
   },
   {
    "duration": 22,
    "start_time": "2024-04-01T20:56:07.667Z"
   },
   {
    "duration": 2,
    "start_time": "2024-04-01T20:56:07.691Z"
   },
   {
    "duration": 6,
    "start_time": "2024-04-01T20:56:07.694Z"
   },
   {
    "duration": 10,
    "start_time": "2024-04-01T20:56:07.701Z"
   },
   {
    "duration": 11,
    "start_time": "2024-04-01T20:56:07.712Z"
   },
   {
    "duration": 22,
    "start_time": "2024-04-01T20:56:07.724Z"
   },
   {
    "duration": 5,
    "start_time": "2024-04-01T20:56:07.749Z"
   },
   {
    "duration": 5,
    "start_time": "2024-04-01T20:56:07.756Z"
   },
   {
    "duration": 6,
    "start_time": "2024-04-01T20:56:07.762Z"
   },
   {
    "duration": 12,
    "start_time": "2024-04-01T20:56:07.769Z"
   },
   {
    "duration": 7,
    "start_time": "2024-04-01T20:56:07.782Z"
   },
   {
    "duration": 5,
    "start_time": "2024-04-01T20:56:07.790Z"
   },
   {
    "duration": 7,
    "start_time": "2024-04-01T20:56:07.796Z"
   },
   {
    "duration": 3,
    "start_time": "2024-04-01T20:56:07.804Z"
   },
   {
    "duration": 9,
    "start_time": "2024-04-01T20:56:07.808Z"
   },
   {
    "duration": 23,
    "start_time": "2024-04-01T20:56:07.818Z"
   },
   {
    "duration": 75,
    "start_time": "2024-04-02T16:03:01.539Z"
   },
   {
    "duration": 452,
    "start_time": "2024-04-02T17:17:46.397Z"
   },
   {
    "duration": 22,
    "start_time": "2024-04-02T17:17:46.850Z"
   },
   {
    "duration": 14,
    "start_time": "2024-04-02T17:17:46.874Z"
   },
   {
    "duration": 10,
    "start_time": "2024-04-02T17:17:46.890Z"
   },
   {
    "duration": 60,
    "start_time": "2024-04-02T17:17:46.901Z"
   },
   {
    "duration": 4,
    "start_time": "2024-04-02T17:17:46.962Z"
   },
   {
    "duration": 20,
    "start_time": "2024-04-02T17:17:46.967Z"
   },
   {
    "duration": 4,
    "start_time": "2024-04-02T17:17:46.988Z"
   },
   {
    "duration": 8,
    "start_time": "2024-04-02T17:17:46.993Z"
   },
   {
    "duration": 4,
    "start_time": "2024-04-02T17:17:47.005Z"
   },
   {
    "duration": 40,
    "start_time": "2024-04-02T17:17:47.010Z"
   },
   {
    "duration": 10,
    "start_time": "2024-04-02T17:17:47.065Z"
   },
   {
    "duration": 4,
    "start_time": "2024-04-02T17:17:47.076Z"
   },
   {
    "duration": 15,
    "start_time": "2024-04-02T17:17:47.081Z"
   },
   {
    "duration": 20,
    "start_time": "2024-04-02T17:17:47.098Z"
   },
   {
    "duration": 45,
    "start_time": "2024-04-02T17:17:47.120Z"
   },
   {
    "duration": 4,
    "start_time": "2024-04-02T17:17:47.167Z"
   },
   {
    "duration": 13,
    "start_time": "2024-04-02T17:17:47.172Z"
   },
   {
    "duration": 7,
    "start_time": "2024-04-02T17:17:47.186Z"
   },
   {
    "duration": 4,
    "start_time": "2024-04-02T17:17:47.194Z"
   },
   {
    "duration": 12,
    "start_time": "2024-04-02T17:17:47.200Z"
   },
   {
    "duration": 7,
    "start_time": "2024-04-02T17:17:47.214Z"
   },
   {
    "duration": 3,
    "start_time": "2024-04-02T17:17:47.222Z"
   },
   {
    "duration": 4,
    "start_time": "2024-04-02T17:17:47.266Z"
   },
   {
    "duration": 10,
    "start_time": "2024-04-02T17:17:47.272Z"
   },
   {
    "duration": 11,
    "start_time": "2024-04-02T17:17:47.283Z"
   },
   {
    "duration": 10,
    "start_time": "2024-04-02T17:17:47.295Z"
   },
   {
    "duration": 10,
    "start_time": "2024-04-02T17:17:47.309Z"
   },
   {
    "duration": 7,
    "start_time": "2024-04-02T17:17:47.321Z"
   },
   {
    "duration": 5,
    "start_time": "2024-04-02T17:17:47.365Z"
   },
   {
    "duration": 16,
    "start_time": "2024-04-02T17:17:47.372Z"
   },
   {
    "duration": 8,
    "start_time": "2024-04-02T17:17:47.389Z"
   },
   {
    "duration": 37,
    "start_time": "2024-04-02T17:17:47.399Z"
   },
   {
    "duration": 21,
    "start_time": "2024-04-02T17:17:47.438Z"
   },
   {
    "duration": 3,
    "start_time": "2024-04-02T17:17:47.461Z"
   },
   {
    "duration": 21,
    "start_time": "2024-04-02T17:17:47.466Z"
   },
   {
    "duration": 18,
    "start_time": "2024-04-02T17:17:47.488Z"
   }
  ],
  "colab": {
   "provenance": []
  },
  "kernelspec": {
   "display_name": "Python 3 (ipykernel)",
   "language": "python",
   "name": "python3"
  },
  "language_info": {
   "codemirror_mode": {
    "name": "ipython",
    "version": 3
   },
   "file_extension": ".py",
   "mimetype": "text/x-python",
   "name": "python",
   "nbconvert_exporter": "python",
   "pygments_lexer": "ipython3",
   "version": "3.11.7"
  },
  "toc": {
   "base_numbering": 1,
   "nav_menu": {},
   "number_sections": true,
   "sideBar": true,
   "skip_h1_title": true,
   "title_cell": "Table of Contents",
   "title_sidebar": "Contents",
   "toc_cell": false,
   "toc_position": {},
   "toc_section_display": true,
   "toc_window_display": false
  }
 },
 "nbformat": 4,
 "nbformat_minor": 5
}
