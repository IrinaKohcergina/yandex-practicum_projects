{
 "cells": [
  {
   "cell_type": "markdown",
   "metadata": {},
   "source": [
    "# Анализ базы данных сервиса для чтения книг по подписке"
   ]
  },
  {
   "cell_type": "markdown",
   "metadata": {},
   "source": [
    "## Цели исследования"
   ]
  },
  {
   "cell_type": "markdown",
   "metadata": {},
   "source": [
    "Проанализировать базу данных крупного сервиса для чтения книг по подписке для формирования ценностного предложения для нового продукта."
   ]
  },
  {
   "cell_type": "markdown",
   "metadata": {},
   "source": [
    "База данных содержит информацию о книгах, издательствах, авторах, а также пользовательские обзоры книг. "
   ]
  },
  {
   "cell_type": "markdown",
   "metadata": {},
   "source": [
    "## Исследование таблиц "
   ]
  },
  {
   "cell_type": "code",
   "execution_count": 1,
   "metadata": {},
   "outputs": [],
   "source": [
    "# импортируем библиотеки\n",
    "import pandas as pd\n",
    "from sqlalchemy import text, create_engine"
   ]
  },
  {
   "cell_type": "code",
   "execution_count": 2,
   "metadata": {},
   "outputs": [],
   "source": [
    "# устанавливаем параметры\n",
    "db_config = {'user': 'praktikum_student', # имя пользователя\n",
    "'pwd': 'Sdf4$2;d-d30pp', # пароль\n",
    "'host': 'rc1b-wcoijxj3yxfsf3fs.mdb.yandexcloud.net',\n",
    "'port': 6432, # порт подключения\n",
    "'db': 'data-analyst-final-project-db'} # название базы данных\n",
    "connection_string = 'postgresql://{user}:{pwd}@{host}:{port}/{db}'.format(**db_config)"
   ]
  },
  {
   "cell_type": "code",
   "execution_count": 3,
   "metadata": {},
   "outputs": [],
   "source": [
    "# сохраняем коннектор\n",
    "engine = create_engine(connection_string, connect_args={'sslmode':'require'})"
   ]
  },
  {
   "cell_type": "code",
   "execution_count": 4,
   "metadata": {},
   "outputs": [
    {
     "data": {
      "text/plain": [
       "'books'"
      ]
     },
     "metadata": {},
     "output_type": "display_data"
    },
    {
     "data": {
      "text/html": [
       "<div>\n",
       "<style scoped>\n",
       "    .dataframe tbody tr th:only-of-type {\n",
       "        vertical-align: middle;\n",
       "    }\n",
       "\n",
       "    .dataframe tbody tr th {\n",
       "        vertical-align: top;\n",
       "    }\n",
       "\n",
       "    .dataframe thead th {\n",
       "        text-align: right;\n",
       "    }\n",
       "</style>\n",
       "<table border=\"1\" class=\"dataframe\">\n",
       "  <thead>\n",
       "    <tr style=\"text-align: right;\">\n",
       "      <th></th>\n",
       "      <th>book_id</th>\n",
       "      <th>author_id</th>\n",
       "      <th>title</th>\n",
       "      <th>num_pages</th>\n",
       "      <th>publication_date</th>\n",
       "      <th>publisher_id</th>\n",
       "    </tr>\n",
       "  </thead>\n",
       "  <tbody>\n",
       "    <tr>\n",
       "      <th>0</th>\n",
       "      <td>1</td>\n",
       "      <td>546</td>\n",
       "      <td>'Salem's Lot</td>\n",
       "      <td>594</td>\n",
       "      <td>2005-11-01</td>\n",
       "      <td>93</td>\n",
       "    </tr>\n",
       "    <tr>\n",
       "      <th>1</th>\n",
       "      <td>2</td>\n",
       "      <td>465</td>\n",
       "      <td>1 000 Places to See Before You Die</td>\n",
       "      <td>992</td>\n",
       "      <td>2003-05-22</td>\n",
       "      <td>336</td>\n",
       "    </tr>\n",
       "    <tr>\n",
       "      <th>2</th>\n",
       "      <td>3</td>\n",
       "      <td>407</td>\n",
       "      <td>13 Little Blue Envelopes (Little Blue Envelope...</td>\n",
       "      <td>322</td>\n",
       "      <td>2010-12-21</td>\n",
       "      <td>135</td>\n",
       "    </tr>\n",
       "    <tr>\n",
       "      <th>3</th>\n",
       "      <td>4</td>\n",
       "      <td>82</td>\n",
       "      <td>1491: New Revelations of the Americas Before C...</td>\n",
       "      <td>541</td>\n",
       "      <td>2006-10-10</td>\n",
       "      <td>309</td>\n",
       "    </tr>\n",
       "    <tr>\n",
       "      <th>4</th>\n",
       "      <td>5</td>\n",
       "      <td>125</td>\n",
       "      <td>1776</td>\n",
       "      <td>386</td>\n",
       "      <td>2006-07-04</td>\n",
       "      <td>268</td>\n",
       "    </tr>\n",
       "    <tr>\n",
       "      <th>...</th>\n",
       "      <td>...</td>\n",
       "      <td>...</td>\n",
       "      <td>...</td>\n",
       "      <td>...</td>\n",
       "      <td>...</td>\n",
       "      <td>...</td>\n",
       "    </tr>\n",
       "    <tr>\n",
       "      <th>995</th>\n",
       "      <td>996</td>\n",
       "      <td>571</td>\n",
       "      <td>Wyrd Sisters (Discworld  #6; Witches #2)</td>\n",
       "      <td>265</td>\n",
       "      <td>2001-02-06</td>\n",
       "      <td>147</td>\n",
       "    </tr>\n",
       "    <tr>\n",
       "      <th>996</th>\n",
       "      <td>997</td>\n",
       "      <td>454</td>\n",
       "      <td>Xenocide (Ender's Saga  #3)</td>\n",
       "      <td>592</td>\n",
       "      <td>1996-07-15</td>\n",
       "      <td>297</td>\n",
       "    </tr>\n",
       "    <tr>\n",
       "      <th>997</th>\n",
       "      <td>998</td>\n",
       "      <td>201</td>\n",
       "      <td>Year of Wonders</td>\n",
       "      <td>358</td>\n",
       "      <td>2002-04-30</td>\n",
       "      <td>212</td>\n",
       "    </tr>\n",
       "    <tr>\n",
       "      <th>998</th>\n",
       "      <td>999</td>\n",
       "      <td>94</td>\n",
       "      <td>You Suck (A Love Story  #2)</td>\n",
       "      <td>328</td>\n",
       "      <td>2007-01-16</td>\n",
       "      <td>331</td>\n",
       "    </tr>\n",
       "    <tr>\n",
       "      <th>999</th>\n",
       "      <td>1000</td>\n",
       "      <td>509</td>\n",
       "      <td>Zen and the Art of Motorcycle Maintenance: An ...</td>\n",
       "      <td>540</td>\n",
       "      <td>2006-04-25</td>\n",
       "      <td>143</td>\n",
       "    </tr>\n",
       "  </tbody>\n",
       "</table>\n",
       "<p>1000 rows × 6 columns</p>\n",
       "</div>"
      ],
      "text/plain": [
       "     book_id  author_id                                              title  \\\n",
       "0          1        546                                       'Salem's Lot   \n",
       "1          2        465                 1 000 Places to See Before You Die   \n",
       "2          3        407  13 Little Blue Envelopes (Little Blue Envelope...   \n",
       "3          4         82  1491: New Revelations of the Americas Before C...   \n",
       "4          5        125                                               1776   \n",
       "..       ...        ...                                                ...   \n",
       "995      996        571           Wyrd Sisters (Discworld  #6; Witches #2)   \n",
       "996      997        454                        Xenocide (Ender's Saga  #3)   \n",
       "997      998        201                                    Year of Wonders   \n",
       "998      999         94                        You Suck (A Love Story  #2)   \n",
       "999     1000        509  Zen and the Art of Motorcycle Maintenance: An ...   \n",
       "\n",
       "     num_pages publication_date  publisher_id  \n",
       "0          594       2005-11-01            93  \n",
       "1          992       2003-05-22           336  \n",
       "2          322       2010-12-21           135  \n",
       "3          541       2006-10-10           309  \n",
       "4          386       2006-07-04           268  \n",
       "..         ...              ...           ...  \n",
       "995        265       2001-02-06           147  \n",
       "996        592       1996-07-15           297  \n",
       "997        358       2002-04-30           212  \n",
       "998        328       2007-01-16           331  \n",
       "999        540       2006-04-25           143  \n",
       "\n",
       "[1000 rows x 6 columns]"
      ]
     },
     "metadata": {},
     "output_type": "display_data"
    },
    {
     "name": "stdout",
     "output_type": "stream",
     "text": [
      "<class 'pandas.core.frame.DataFrame'>\n",
      "RangeIndex: 1000 entries, 0 to 999\n",
      "Data columns (total 6 columns):\n",
      " #   Column            Non-Null Count  Dtype \n",
      "---  ------            --------------  ----- \n",
      " 0   book_id           1000 non-null   int64 \n",
      " 1   author_id         1000 non-null   int64 \n",
      " 2   title             1000 non-null   object\n",
      " 3   num_pages         1000 non-null   int64 \n",
      " 4   publication_date  1000 non-null   object\n",
      " 5   publisher_id      1000 non-null   int64 \n",
      "dtypes: int64(4), object(2)\n",
      "memory usage: 47.0+ KB\n",
      " \n",
      "В таблице books 1000 строк, пропусков нет\n",
      " \n"
     ]
    },
    {
     "data": {
      "text/plain": [
       "'authors'"
      ]
     },
     "metadata": {},
     "output_type": "display_data"
    },
    {
     "data": {
      "text/html": [
       "<div>\n",
       "<style scoped>\n",
       "    .dataframe tbody tr th:only-of-type {\n",
       "        vertical-align: middle;\n",
       "    }\n",
       "\n",
       "    .dataframe tbody tr th {\n",
       "        vertical-align: top;\n",
       "    }\n",
       "\n",
       "    .dataframe thead th {\n",
       "        text-align: right;\n",
       "    }\n",
       "</style>\n",
       "<table border=\"1\" class=\"dataframe\">\n",
       "  <thead>\n",
       "    <tr style=\"text-align: right;\">\n",
       "      <th></th>\n",
       "      <th>author_id</th>\n",
       "      <th>author</th>\n",
       "    </tr>\n",
       "  </thead>\n",
       "  <tbody>\n",
       "    <tr>\n",
       "      <th>0</th>\n",
       "      <td>1</td>\n",
       "      <td>A.S. Byatt</td>\n",
       "    </tr>\n",
       "    <tr>\n",
       "      <th>1</th>\n",
       "      <td>2</td>\n",
       "      <td>Aesop/Laura Harris/Laura Gibbs</td>\n",
       "    </tr>\n",
       "    <tr>\n",
       "      <th>2</th>\n",
       "      <td>3</td>\n",
       "      <td>Agatha Christie</td>\n",
       "    </tr>\n",
       "    <tr>\n",
       "      <th>3</th>\n",
       "      <td>4</td>\n",
       "      <td>Alan Brennert</td>\n",
       "    </tr>\n",
       "    <tr>\n",
       "      <th>4</th>\n",
       "      <td>5</td>\n",
       "      <td>Alan Moore/David   Lloyd</td>\n",
       "    </tr>\n",
       "    <tr>\n",
       "      <th>...</th>\n",
       "      <td>...</td>\n",
       "      <td>...</td>\n",
       "    </tr>\n",
       "    <tr>\n",
       "      <th>631</th>\n",
       "      <td>632</td>\n",
       "      <td>William Strunk Jr./E.B. White</td>\n",
       "    </tr>\n",
       "    <tr>\n",
       "      <th>632</th>\n",
       "      <td>633</td>\n",
       "      <td>Zadie Smith</td>\n",
       "    </tr>\n",
       "    <tr>\n",
       "      <th>633</th>\n",
       "      <td>634</td>\n",
       "      <td>Zilpha Keatley Snyder</td>\n",
       "    </tr>\n",
       "    <tr>\n",
       "      <th>634</th>\n",
       "      <td>635</td>\n",
       "      <td>Zora Neale Hurston</td>\n",
       "    </tr>\n",
       "    <tr>\n",
       "      <th>635</th>\n",
       "      <td>636</td>\n",
       "      <td>Åsne Seierstad/Ingrid Christopherson</td>\n",
       "    </tr>\n",
       "  </tbody>\n",
       "</table>\n",
       "<p>636 rows × 2 columns</p>\n",
       "</div>"
      ],
      "text/plain": [
       "     author_id                                author\n",
       "0            1                            A.S. Byatt\n",
       "1            2        Aesop/Laura Harris/Laura Gibbs\n",
       "2            3                       Agatha Christie\n",
       "3            4                         Alan Brennert\n",
       "4            5              Alan Moore/David   Lloyd\n",
       "..         ...                                   ...\n",
       "631        632         William Strunk Jr./E.B. White\n",
       "632        633                           Zadie Smith\n",
       "633        634                 Zilpha Keatley Snyder\n",
       "634        635                    Zora Neale Hurston\n",
       "635        636  Åsne Seierstad/Ingrid Christopherson\n",
       "\n",
       "[636 rows x 2 columns]"
      ]
     },
     "metadata": {},
     "output_type": "display_data"
    },
    {
     "name": "stdout",
     "output_type": "stream",
     "text": [
      "<class 'pandas.core.frame.DataFrame'>\n",
      "RangeIndex: 636 entries, 0 to 635\n",
      "Data columns (total 2 columns):\n",
      " #   Column     Non-Null Count  Dtype \n",
      "---  ------     --------------  ----- \n",
      " 0   author_id  636 non-null    int64 \n",
      " 1   author     636 non-null    object\n",
      "dtypes: int64(1), object(1)\n",
      "memory usage: 10.1+ KB\n",
      " \n",
      "В таблице authors 636 строк, пропусков нет\n",
      " \n"
     ]
    },
    {
     "data": {
      "text/plain": [
       "'publishers'"
      ]
     },
     "metadata": {},
     "output_type": "display_data"
    },
    {
     "data": {
      "text/html": [
       "<div>\n",
       "<style scoped>\n",
       "    .dataframe tbody tr th:only-of-type {\n",
       "        vertical-align: middle;\n",
       "    }\n",
       "\n",
       "    .dataframe tbody tr th {\n",
       "        vertical-align: top;\n",
       "    }\n",
       "\n",
       "    .dataframe thead th {\n",
       "        text-align: right;\n",
       "    }\n",
       "</style>\n",
       "<table border=\"1\" class=\"dataframe\">\n",
       "  <thead>\n",
       "    <tr style=\"text-align: right;\">\n",
       "      <th></th>\n",
       "      <th>publisher_id</th>\n",
       "      <th>publisher</th>\n",
       "    </tr>\n",
       "  </thead>\n",
       "  <tbody>\n",
       "    <tr>\n",
       "      <th>0</th>\n",
       "      <td>1</td>\n",
       "      <td>Ace</td>\n",
       "    </tr>\n",
       "    <tr>\n",
       "      <th>1</th>\n",
       "      <td>2</td>\n",
       "      <td>Ace Book</td>\n",
       "    </tr>\n",
       "    <tr>\n",
       "      <th>2</th>\n",
       "      <td>3</td>\n",
       "      <td>Ace Books</td>\n",
       "    </tr>\n",
       "    <tr>\n",
       "      <th>3</th>\n",
       "      <td>4</td>\n",
       "      <td>Ace Hardcover</td>\n",
       "    </tr>\n",
       "    <tr>\n",
       "      <th>4</th>\n",
       "      <td>5</td>\n",
       "      <td>Addison Wesley Publishing Company</td>\n",
       "    </tr>\n",
       "    <tr>\n",
       "      <th>...</th>\n",
       "      <td>...</td>\n",
       "      <td>...</td>\n",
       "    </tr>\n",
       "    <tr>\n",
       "      <th>335</th>\n",
       "      <td>336</td>\n",
       "      <td>Workman Publishing Company</td>\n",
       "    </tr>\n",
       "    <tr>\n",
       "      <th>336</th>\n",
       "      <td>337</td>\n",
       "      <td>Wyatt Book</td>\n",
       "    </tr>\n",
       "    <tr>\n",
       "      <th>337</th>\n",
       "      <td>338</td>\n",
       "      <td>Yale University Press</td>\n",
       "    </tr>\n",
       "    <tr>\n",
       "      <th>338</th>\n",
       "      <td>339</td>\n",
       "      <td>Yearling</td>\n",
       "    </tr>\n",
       "    <tr>\n",
       "      <th>339</th>\n",
       "      <td>340</td>\n",
       "      <td>Yearling Books</td>\n",
       "    </tr>\n",
       "  </tbody>\n",
       "</table>\n",
       "<p>340 rows × 2 columns</p>\n",
       "</div>"
      ],
      "text/plain": [
       "     publisher_id                          publisher\n",
       "0               1                                Ace\n",
       "1               2                           Ace Book\n",
       "2               3                          Ace Books\n",
       "3               4                      Ace Hardcover\n",
       "4               5  Addison Wesley Publishing Company\n",
       "..            ...                                ...\n",
       "335           336         Workman Publishing Company\n",
       "336           337                         Wyatt Book\n",
       "337           338              Yale University Press\n",
       "338           339                           Yearling\n",
       "339           340                     Yearling Books\n",
       "\n",
       "[340 rows x 2 columns]"
      ]
     },
     "metadata": {},
     "output_type": "display_data"
    },
    {
     "name": "stdout",
     "output_type": "stream",
     "text": [
      "<class 'pandas.core.frame.DataFrame'>\n",
      "RangeIndex: 340 entries, 0 to 339\n",
      "Data columns (total 2 columns):\n",
      " #   Column        Non-Null Count  Dtype \n",
      "---  ------        --------------  ----- \n",
      " 0   publisher_id  340 non-null    int64 \n",
      " 1   publisher     340 non-null    object\n",
      "dtypes: int64(1), object(1)\n",
      "memory usage: 5.4+ KB\n",
      " \n",
      "В таблице publishers 340 строк, пропусков нет\n",
      " \n"
     ]
    },
    {
     "data": {
      "text/plain": [
       "'ratings'"
      ]
     },
     "metadata": {},
     "output_type": "display_data"
    },
    {
     "data": {
      "text/html": [
       "<div>\n",
       "<style scoped>\n",
       "    .dataframe tbody tr th:only-of-type {\n",
       "        vertical-align: middle;\n",
       "    }\n",
       "\n",
       "    .dataframe tbody tr th {\n",
       "        vertical-align: top;\n",
       "    }\n",
       "\n",
       "    .dataframe thead th {\n",
       "        text-align: right;\n",
       "    }\n",
       "</style>\n",
       "<table border=\"1\" class=\"dataframe\">\n",
       "  <thead>\n",
       "    <tr style=\"text-align: right;\">\n",
       "      <th></th>\n",
       "      <th>rating_id</th>\n",
       "      <th>book_id</th>\n",
       "      <th>username</th>\n",
       "      <th>rating</th>\n",
       "    </tr>\n",
       "  </thead>\n",
       "  <tbody>\n",
       "    <tr>\n",
       "      <th>0</th>\n",
       "      <td>1</td>\n",
       "      <td>1</td>\n",
       "      <td>ryanfranco</td>\n",
       "      <td>4</td>\n",
       "    </tr>\n",
       "    <tr>\n",
       "      <th>1</th>\n",
       "      <td>2</td>\n",
       "      <td>1</td>\n",
       "      <td>grantpatricia</td>\n",
       "      <td>2</td>\n",
       "    </tr>\n",
       "    <tr>\n",
       "      <th>2</th>\n",
       "      <td>3</td>\n",
       "      <td>1</td>\n",
       "      <td>brandtandrea</td>\n",
       "      <td>5</td>\n",
       "    </tr>\n",
       "    <tr>\n",
       "      <th>3</th>\n",
       "      <td>4</td>\n",
       "      <td>2</td>\n",
       "      <td>lorichen</td>\n",
       "      <td>3</td>\n",
       "    </tr>\n",
       "    <tr>\n",
       "      <th>4</th>\n",
       "      <td>5</td>\n",
       "      <td>2</td>\n",
       "      <td>mariokeller</td>\n",
       "      <td>2</td>\n",
       "    </tr>\n",
       "    <tr>\n",
       "      <th>...</th>\n",
       "      <td>...</td>\n",
       "      <td>...</td>\n",
       "      <td>...</td>\n",
       "      <td>...</td>\n",
       "    </tr>\n",
       "    <tr>\n",
       "      <th>6451</th>\n",
       "      <td>6452</td>\n",
       "      <td>1000</td>\n",
       "      <td>carolrodriguez</td>\n",
       "      <td>4</td>\n",
       "    </tr>\n",
       "    <tr>\n",
       "      <th>6452</th>\n",
       "      <td>6453</td>\n",
       "      <td>1000</td>\n",
       "      <td>wendy18</td>\n",
       "      <td>4</td>\n",
       "    </tr>\n",
       "    <tr>\n",
       "      <th>6453</th>\n",
       "      <td>6454</td>\n",
       "      <td>1000</td>\n",
       "      <td>jarvispaul</td>\n",
       "      <td>5</td>\n",
       "    </tr>\n",
       "    <tr>\n",
       "      <th>6454</th>\n",
       "      <td>6455</td>\n",
       "      <td>1000</td>\n",
       "      <td>zross</td>\n",
       "      <td>2</td>\n",
       "    </tr>\n",
       "    <tr>\n",
       "      <th>6455</th>\n",
       "      <td>6456</td>\n",
       "      <td>1000</td>\n",
       "      <td>fharris</td>\n",
       "      <td>5</td>\n",
       "    </tr>\n",
       "  </tbody>\n",
       "</table>\n",
       "<p>6456 rows × 4 columns</p>\n",
       "</div>"
      ],
      "text/plain": [
       "      rating_id  book_id        username  rating\n",
       "0             1        1      ryanfranco       4\n",
       "1             2        1   grantpatricia       2\n",
       "2             3        1    brandtandrea       5\n",
       "3             4        2        lorichen       3\n",
       "4             5        2     mariokeller       2\n",
       "...         ...      ...             ...     ...\n",
       "6451       6452     1000  carolrodriguez       4\n",
       "6452       6453     1000         wendy18       4\n",
       "6453       6454     1000      jarvispaul       5\n",
       "6454       6455     1000           zross       2\n",
       "6455       6456     1000         fharris       5\n",
       "\n",
       "[6456 rows x 4 columns]"
      ]
     },
     "metadata": {},
     "output_type": "display_data"
    },
    {
     "name": "stdout",
     "output_type": "stream",
     "text": [
      "<class 'pandas.core.frame.DataFrame'>\n",
      "RangeIndex: 6456 entries, 0 to 6455\n",
      "Data columns (total 4 columns):\n",
      " #   Column     Non-Null Count  Dtype \n",
      "---  ------     --------------  ----- \n",
      " 0   rating_id  6456 non-null   int64 \n",
      " 1   book_id    6456 non-null   int64 \n",
      " 2   username   6456 non-null   object\n",
      " 3   rating     6456 non-null   int64 \n",
      "dtypes: int64(3), object(1)\n",
      "memory usage: 201.9+ KB\n",
      " \n",
      "В таблице ratings 6456 строк, пропусков нет\n",
      " \n"
     ]
    },
    {
     "data": {
      "text/plain": [
       "'reviews'"
      ]
     },
     "metadata": {},
     "output_type": "display_data"
    },
    {
     "data": {
      "text/html": [
       "<div>\n",
       "<style scoped>\n",
       "    .dataframe tbody tr th:only-of-type {\n",
       "        vertical-align: middle;\n",
       "    }\n",
       "\n",
       "    .dataframe tbody tr th {\n",
       "        vertical-align: top;\n",
       "    }\n",
       "\n",
       "    .dataframe thead th {\n",
       "        text-align: right;\n",
       "    }\n",
       "</style>\n",
       "<table border=\"1\" class=\"dataframe\">\n",
       "  <thead>\n",
       "    <tr style=\"text-align: right;\">\n",
       "      <th></th>\n",
       "      <th>review_id</th>\n",
       "      <th>book_id</th>\n",
       "      <th>username</th>\n",
       "      <th>text</th>\n",
       "    </tr>\n",
       "  </thead>\n",
       "  <tbody>\n",
       "    <tr>\n",
       "      <th>0</th>\n",
       "      <td>1</td>\n",
       "      <td>1</td>\n",
       "      <td>brandtandrea</td>\n",
       "      <td>Mention society tell send professor analysis. ...</td>\n",
       "    </tr>\n",
       "    <tr>\n",
       "      <th>1</th>\n",
       "      <td>2</td>\n",
       "      <td>1</td>\n",
       "      <td>ryanfranco</td>\n",
       "      <td>Foot glass pretty audience hit themselves. Amo...</td>\n",
       "    </tr>\n",
       "    <tr>\n",
       "      <th>2</th>\n",
       "      <td>3</td>\n",
       "      <td>2</td>\n",
       "      <td>lorichen</td>\n",
       "      <td>Listen treat keep worry. Miss husband tax but ...</td>\n",
       "    </tr>\n",
       "    <tr>\n",
       "      <th>3</th>\n",
       "      <td>4</td>\n",
       "      <td>3</td>\n",
       "      <td>johnsonamanda</td>\n",
       "      <td>Finally month interesting blue could nature cu...</td>\n",
       "    </tr>\n",
       "    <tr>\n",
       "      <th>4</th>\n",
       "      <td>5</td>\n",
       "      <td>3</td>\n",
       "      <td>scotttamara</td>\n",
       "      <td>Nation purpose heavy give wait song will. List...</td>\n",
       "    </tr>\n",
       "    <tr>\n",
       "      <th>...</th>\n",
       "      <td>...</td>\n",
       "      <td>...</td>\n",
       "      <td>...</td>\n",
       "      <td>...</td>\n",
       "    </tr>\n",
       "    <tr>\n",
       "      <th>2788</th>\n",
       "      <td>2789</td>\n",
       "      <td>999</td>\n",
       "      <td>martinadam</td>\n",
       "      <td>Later hospital turn easy community. Fact same ...</td>\n",
       "    </tr>\n",
       "    <tr>\n",
       "      <th>2789</th>\n",
       "      <td>2790</td>\n",
       "      <td>1000</td>\n",
       "      <td>wknight</td>\n",
       "      <td>Change lose answer close pressure. Spend so now.</td>\n",
       "    </tr>\n",
       "    <tr>\n",
       "      <th>2790</th>\n",
       "      <td>2791</td>\n",
       "      <td>1000</td>\n",
       "      <td>carolrodriguez</td>\n",
       "      <td>Authority go who television entire hair guy po...</td>\n",
       "    </tr>\n",
       "    <tr>\n",
       "      <th>2791</th>\n",
       "      <td>2792</td>\n",
       "      <td>1000</td>\n",
       "      <td>wendy18</td>\n",
       "      <td>Or western offer wonder ask. More hear phone f...</td>\n",
       "    </tr>\n",
       "    <tr>\n",
       "      <th>2792</th>\n",
       "      <td>2793</td>\n",
       "      <td>1000</td>\n",
       "      <td>jarvispaul</td>\n",
       "      <td>Republican staff bit eat material measure plan...</td>\n",
       "    </tr>\n",
       "  </tbody>\n",
       "</table>\n",
       "<p>2793 rows × 4 columns</p>\n",
       "</div>"
      ],
      "text/plain": [
       "      review_id  book_id        username  \\\n",
       "0             1        1    brandtandrea   \n",
       "1             2        1      ryanfranco   \n",
       "2             3        2        lorichen   \n",
       "3             4        3   johnsonamanda   \n",
       "4             5        3     scotttamara   \n",
       "...         ...      ...             ...   \n",
       "2788       2789      999      martinadam   \n",
       "2789       2790     1000         wknight   \n",
       "2790       2791     1000  carolrodriguez   \n",
       "2791       2792     1000         wendy18   \n",
       "2792       2793     1000      jarvispaul   \n",
       "\n",
       "                                                   text  \n",
       "0     Mention society tell send professor analysis. ...  \n",
       "1     Foot glass pretty audience hit themselves. Amo...  \n",
       "2     Listen treat keep worry. Miss husband tax but ...  \n",
       "3     Finally month interesting blue could nature cu...  \n",
       "4     Nation purpose heavy give wait song will. List...  \n",
       "...                                                 ...  \n",
       "2788  Later hospital turn easy community. Fact same ...  \n",
       "2789   Change lose answer close pressure. Spend so now.  \n",
       "2790  Authority go who television entire hair guy po...  \n",
       "2791  Or western offer wonder ask. More hear phone f...  \n",
       "2792  Republican staff bit eat material measure plan...  \n",
       "\n",
       "[2793 rows x 4 columns]"
      ]
     },
     "metadata": {},
     "output_type": "display_data"
    },
    {
     "name": "stdout",
     "output_type": "stream",
     "text": [
      "<class 'pandas.core.frame.DataFrame'>\n",
      "RangeIndex: 2793 entries, 0 to 2792\n",
      "Data columns (total 4 columns):\n",
      " #   Column     Non-Null Count  Dtype \n",
      "---  ------     --------------  ----- \n",
      " 0   review_id  2793 non-null   int64 \n",
      " 1   book_id    2793 non-null   int64 \n",
      " 2   username   2793 non-null   object\n",
      " 3   text       2793 non-null   object\n",
      "dtypes: int64(2), object(2)\n",
      "memory usage: 87.4+ KB\n",
      " \n",
      "В таблице reviews 2793 строк, пропусков нет\n",
      " \n"
     ]
    }
   ],
   "source": [
    "# Список таблиц БД, информацию о которых нужно вывести\n",
    "tables = ['books', 'authors', 'publishers', 'ratings', 'reviews']\n",
    "\n",
    "# Функция для получения первых 5 строк из каждой таблицы \n",
    "# Функция возвращает словарь, где ключами являются имена таблиц, а значениями — соответствующие DataFrame\n",
    "def get_sql_data(tables: list, engine) -> dict:\n",
    "    '''Получаем первые 5 строк из каждой таблицы в списке'''\n",
    "    results = {}\n",
    "    with engine.connect() as con:\n",
    "        for table in tables:\n",
    "            query = f'''SELECT * \n",
    "                        FROM {table};\n",
    "                     '''\n",
    "            df = pd.read_sql(sql=text(query), con=con)\n",
    "            results[table] = df\n",
    "    return results\n",
    "\n",
    "# Получаем данные из всех таблиц\n",
    "table_data = get_sql_data(tables, engine)\n",
    "\n",
    "# Выводим данные для каждой таблицы\n",
    "for table_name, data in table_data.items(): # возвращает все элементы словаря как последовательность кортежей (ключ, значение)\n",
    "    display (f'{table_name}', data)\n",
    "    data.info()\n",
    "    print(' ')\n",
    "    print(f'В таблице {table_name} {data.shape[0]} строк, пропусков нет')\n",
    "    print(' ')"
   ]
  },
  {
   "cell_type": "markdown",
   "metadata": {},
   "source": [
    "**Вывод:**  \n",
    "База данных состоит из пяти таблиц:   \n",
    "\n",
    "- `books` - cодержит данные о книгах, 1000 ненулевых строк, типы данных соответствуют сохраненным в них значениям во всех столбцах, кроме столбца `publication_date` - дата публикации (тип object вместо datatime)  \n",
    "  \n",
    "- `authors` - cодержит данные об авторах, 636 ненулевых строк, типы данных соответствуют сохраненным в них значениям.  \n",
    "  \n",
    "- `publishers` - cодержит данные об издательствах, 340 ненулевых строк, типы данных соответствуют сохраненным в них значениям.\n",
    "\n",
    "- `ratings` - cодержит данные о пользовательских оценках книг, 6456 ненулевых строк, типы данных соответствуют сохраненным в них значениям.  \n",
    "  \n",
    "- `reviews` - cодержит данные о пользовательских обзорах, 2793 ненулевых строки, типы данных соответствуют сохраненным в них значениям. "
   ]
  },
  {
   "cell_type": "markdown",
   "metadata": {},
   "source": [
    "## Анализ базы данных "
   ]
  },
  {
   "cell_type": "markdown",
   "metadata": {},
   "source": [
    "### Количество книг, вышедших после 1 января 2000 года"
   ]
  },
  {
   "cell_type": "markdown",
   "metadata": {},
   "source": [
    "*Посчитайте, сколько книг вышло после 1 января 2000 года.*"
   ]
  },
  {
   "cell_type": "code",
   "execution_count": 5,
   "metadata": {},
   "outputs": [
    {
     "data": {
      "text/html": [
       "<div>\n",
       "<style scoped>\n",
       "    .dataframe tbody tr th:only-of-type {\n",
       "        vertical-align: middle;\n",
       "    }\n",
       "\n",
       "    .dataframe tbody tr th {\n",
       "        vertical-align: top;\n",
       "    }\n",
       "\n",
       "    .dataframe thead th {\n",
       "        text-align: right;\n",
       "    }\n",
       "</style>\n",
       "<table border=\"1\" class=\"dataframe\">\n",
       "  <thead>\n",
       "    <tr style=\"text-align: right;\">\n",
       "      <th></th>\n",
       "      <th>books_cnt</th>\n",
       "    </tr>\n",
       "  </thead>\n",
       "  <tbody>\n",
       "    <tr>\n",
       "      <th>0</th>\n",
       "      <td>821</td>\n",
       "    </tr>\n",
       "  </tbody>\n",
       "</table>\n",
       "</div>"
      ],
      "text/plain": [
       "   books_cnt\n",
       "0        821"
      ]
     },
     "execution_count": 5,
     "metadata": {},
     "output_type": "execute_result"
    }
   ],
   "source": [
    "query = '''SELECT COUNT(book_id) AS books_cnt\n",
    "           FROM books \n",
    "           WHERE publication_date >= '2000-01-01';\n",
    "        '''\n",
    "con=engine.connect()\n",
    "pd.io.sql.read_sql(sql=text(query), con = con)"
   ]
  },
  {
   "cell_type": "markdown",
   "metadata": {},
   "source": [
    "После 1 января 2000 года вышла **821 книга**."
   ]
  },
  {
   "cell_type": "markdown",
   "metadata": {},
   "source": [
    "### Количество обзоров и средняя оценка каждой книги"
   ]
  },
  {
   "cell_type": "markdown",
   "metadata": {},
   "source": [
    "*Для каждой книги посчитайте количество обзоров и среднюю оценку.*"
   ]
  },
  {
   "cell_type": "code",
   "execution_count": 6,
   "metadata": {},
   "outputs": [
    {
     "data": {
      "text/html": [
       "<div>\n",
       "<style scoped>\n",
       "    .dataframe tbody tr th:only-of-type {\n",
       "        vertical-align: middle;\n",
       "    }\n",
       "\n",
       "    .dataframe tbody tr th {\n",
       "        vertical-align: top;\n",
       "    }\n",
       "\n",
       "    .dataframe thead th {\n",
       "        text-align: right;\n",
       "    }\n",
       "</style>\n",
       "<table border=\"1\" class=\"dataframe\">\n",
       "  <thead>\n",
       "    <tr style=\"text-align: right;\">\n",
       "      <th></th>\n",
       "      <th>book_id</th>\n",
       "      <th>author</th>\n",
       "      <th>title</th>\n",
       "      <th>rating_avg</th>\n",
       "      <th>review_cnt</th>\n",
       "    </tr>\n",
       "  </thead>\n",
       "  <tbody>\n",
       "    <tr>\n",
       "      <th>0</th>\n",
       "      <td>518</td>\n",
       "      <td>James Patterson</td>\n",
       "      <td>Pop Goes the Weasel (Alex Cross  #5)</td>\n",
       "      <td>5.00</td>\n",
       "      <td>2.0</td>\n",
       "    </tr>\n",
       "    <tr>\n",
       "      <th>1</th>\n",
       "      <td>732</td>\n",
       "      <td>Steven Johnson</td>\n",
       "      <td>The Ghost Map: The Story of London's Most Terr...</td>\n",
       "      <td>5.00</td>\n",
       "      <td>2.0</td>\n",
       "    </tr>\n",
       "    <tr>\n",
       "      <th>2</th>\n",
       "      <td>347</td>\n",
       "      <td>Tamora Pierce</td>\n",
       "      <td>In the Hand of the Goddess (Song of the Liones...</td>\n",
       "      <td>5.00</td>\n",
       "      <td>2.0</td>\n",
       "    </tr>\n",
       "    <tr>\n",
       "      <th>3</th>\n",
       "      <td>610</td>\n",
       "      <td>James Clavell</td>\n",
       "      <td>Tai-Pan (Asian Saga  #2)</td>\n",
       "      <td>5.00</td>\n",
       "      <td>2.0</td>\n",
       "    </tr>\n",
       "    <tr>\n",
       "      <th>4</th>\n",
       "      <td>330</td>\n",
       "      <td>Nigella Lawson</td>\n",
       "      <td>How to Be a Domestic Goddess: Baking and the A...</td>\n",
       "      <td>5.00</td>\n",
       "      <td>1.0</td>\n",
       "    </tr>\n",
       "    <tr>\n",
       "      <th>...</th>\n",
       "      <td>...</td>\n",
       "      <td>...</td>\n",
       "      <td>...</td>\n",
       "      <td>...</td>\n",
       "      <td>...</td>\n",
       "    </tr>\n",
       "    <tr>\n",
       "      <th>995</th>\n",
       "      <td>915</td>\n",
       "      <td>Thomas L. Friedman</td>\n",
       "      <td>The World Is Flat: A Brief History of the Twen...</td>\n",
       "      <td>2.25</td>\n",
       "      <td>3.0</td>\n",
       "    </tr>\n",
       "    <tr>\n",
       "      <th>996</th>\n",
       "      <td>371</td>\n",
       "      <td>William S. Burroughs/Oliver  Harris/Allen Gins...</td>\n",
       "      <td>Junky</td>\n",
       "      <td>2.00</td>\n",
       "      <td>2.0</td>\n",
       "    </tr>\n",
       "    <tr>\n",
       "      <th>997</th>\n",
       "      <td>316</td>\n",
       "      <td>Joseph J. Ellis</td>\n",
       "      <td>His Excellency: George Washington</td>\n",
       "      <td>2.00</td>\n",
       "      <td>2.0</td>\n",
       "    </tr>\n",
       "    <tr>\n",
       "      <th>998</th>\n",
       "      <td>202</td>\n",
       "      <td>Christina Schwarz</td>\n",
       "      <td>Drowning Ruth</td>\n",
       "      <td>2.00</td>\n",
       "      <td>3.0</td>\n",
       "    </tr>\n",
       "    <tr>\n",
       "      <th>999</th>\n",
       "      <td>303</td>\n",
       "      <td>Jodi Picoult</td>\n",
       "      <td>Harvesting the Heart</td>\n",
       "      <td>1.50</td>\n",
       "      <td>2.0</td>\n",
       "    </tr>\n",
       "  </tbody>\n",
       "</table>\n",
       "<p>1000 rows × 5 columns</p>\n",
       "</div>"
      ],
      "text/plain": [
       "     book_id                                             author  \\\n",
       "0        518                                    James Patterson   \n",
       "1        732                                     Steven Johnson   \n",
       "2        347                                      Tamora Pierce   \n",
       "3        610                                      James Clavell   \n",
       "4        330                                     Nigella Lawson   \n",
       "..       ...                                                ...   \n",
       "995      915                                 Thomas L. Friedman   \n",
       "996      371  William S. Burroughs/Oliver  Harris/Allen Gins...   \n",
       "997      316                                    Joseph J. Ellis   \n",
       "998      202                                  Christina Schwarz   \n",
       "999      303                                       Jodi Picoult   \n",
       "\n",
       "                                                 title  rating_avg  review_cnt  \n",
       "0                 Pop Goes the Weasel (Alex Cross  #5)        5.00         2.0  \n",
       "1    The Ghost Map: The Story of London's Most Terr...        5.00         2.0  \n",
       "2    In the Hand of the Goddess (Song of the Liones...        5.00         2.0  \n",
       "3                             Tai-Pan (Asian Saga  #2)        5.00         2.0  \n",
       "4    How to Be a Domestic Goddess: Baking and the A...        5.00         1.0  \n",
       "..                                                 ...         ...         ...  \n",
       "995  The World Is Flat: A Brief History of the Twen...        2.25         3.0  \n",
       "996                                              Junky        2.00         2.0  \n",
       "997                  His Excellency: George Washington        2.00         2.0  \n",
       "998                                      Drowning Ruth        2.00         3.0  \n",
       "999                               Harvesting the Heart        1.50         2.0  \n",
       "\n",
       "[1000 rows x 5 columns]"
      ]
     },
     "execution_count": 6,
     "metadata": {},
     "output_type": "execute_result"
    }
   ],
   "source": [
    "query = '''WITH\n",
    "           b AS (SELECT b.book_id,\n",
    "                        a.author,\n",
    "                        b.title\n",
    "                 FROM books AS b LEFT JOIN authors AS a ON b.author_id = a.author_id),\n",
    "           rat AS (SELECT book_id,\n",
    "                          ROUND(AVG(rating), 2) AS rating_avg \n",
    "                   FROM ratings \n",
    "                   GROUP BY book_id),\n",
    "           rev AS (SELECT book_id,\n",
    "                          COUNT(review_id) AS review_cnt\n",
    "                   FROM reviews \n",
    "                   GROUP BY book_id )           \n",
    "           SELECT b.book_id,\n",
    "                  b.author,\n",
    "                  b.title,\n",
    "                  rat.rating_avg,\n",
    "                  rev.review_cnt \n",
    "           FROM b LEFT JOIN rat ON b.book_id = rat.book_id\n",
    "                  LEFT JOIN rev ON b.book_id = rev.book_id\n",
    "           ORDER BY rat.rating_avg DESC;\n",
    "        '''\n",
    "con=engine.connect()\n",
    "pd.io.sql.read_sql(sql=text(query), con = con)"
   ]
  },
  {
   "cell_type": "markdown",
   "metadata": {},
   "source": [
    "В сводной таблице представлена информация о каждой книге: автор, название, средняя оценка и количество обзоров.   \n",
    "Данные отсортированы по убыванию средней оценки книг.  "
   ]
  },
  {
   "cell_type": "markdown",
   "metadata": {},
   "source": [
    "###  Издательство, которое выпустило наибольшее число книг толще 50 страниц"
   ]
  },
  {
   "cell_type": "markdown",
   "metadata": {},
   "source": [
    "*Определите издательство, которое выпустило наибольшее число книг толще 50 страниц — так вы исключите из анализа брошюры.*"
   ]
  },
  {
   "cell_type": "code",
   "execution_count": 7,
   "metadata": {},
   "outputs": [
    {
     "data": {
      "text/html": [
       "<div>\n",
       "<style scoped>\n",
       "    .dataframe tbody tr th:only-of-type {\n",
       "        vertical-align: middle;\n",
       "    }\n",
       "\n",
       "    .dataframe tbody tr th {\n",
       "        vertical-align: top;\n",
       "    }\n",
       "\n",
       "    .dataframe thead th {\n",
       "        text-align: right;\n",
       "    }\n",
       "</style>\n",
       "<table border=\"1\" class=\"dataframe\">\n",
       "  <thead>\n",
       "    <tr style=\"text-align: right;\">\n",
       "      <th></th>\n",
       "      <th>publisher</th>\n",
       "      <th>book_cnt</th>\n",
       "    </tr>\n",
       "  </thead>\n",
       "  <tbody>\n",
       "    <tr>\n",
       "      <th>0</th>\n",
       "      <td>Penguin Books</td>\n",
       "      <td>42</td>\n",
       "    </tr>\n",
       "  </tbody>\n",
       "</table>\n",
       "</div>"
      ],
      "text/plain": [
       "       publisher  book_cnt\n",
       "0  Penguin Books        42"
      ]
     },
     "execution_count": 7,
     "metadata": {},
     "output_type": "execute_result"
    }
   ],
   "source": [
    "query = '''SELECT p.publisher,\n",
    "                  b.book_cnt\n",
    "           FROM (SELECT publisher_id,\n",
    "                        COUNT(book_id) AS book_cnt\n",
    "                 FROM books \n",
    "                 WHERE num_pages > 50\n",
    "                 GROUP BY publisher_id) AS b\n",
    "           JOIN publishers AS p ON b.publisher_id = p.publisher_id\n",
    "           ORDER BY b.book_cnt DESC\n",
    "           LIMIT 1;\n",
    "        '''\n",
    "con=engine.connect()\n",
    "pd.io.sql.read_sql(sql=text(query), con = con)"
   ]
  },
  {
   "cell_type": "markdown",
   "metadata": {},
   "source": [
    "Издательство **Penguin Books** выпустило 42 книги - максимальное число книг толще 50 страниц."
   ]
  },
  {
   "cell_type": "markdown",
   "metadata": {},
   "source": [
    "### Автор с самой высокой средней оценкой книг"
   ]
  },
  {
   "cell_type": "markdown",
   "metadata": {},
   "source": [
    "*Определите автора с самой высокой средней оценкой книг — учитывайте только книги с 50 и более оценками.*"
   ]
  },
  {
   "cell_type": "code",
   "execution_count": 9,
   "metadata": {},
   "outputs": [
    {
     "data": {
      "text/html": [
       "<div>\n",
       "<style scoped>\n",
       "    .dataframe tbody tr th:only-of-type {\n",
       "        vertical-align: middle;\n",
       "    }\n",
       "\n",
       "    .dataframe tbody tr th {\n",
       "        vertical-align: top;\n",
       "    }\n",
       "\n",
       "    .dataframe thead th {\n",
       "        text-align: right;\n",
       "    }\n",
       "</style>\n",
       "<table border=\"1\" class=\"dataframe\">\n",
       "  <thead>\n",
       "    <tr style=\"text-align: right;\">\n",
       "      <th></th>\n",
       "      <th>author</th>\n",
       "      <th>rating_avg</th>\n",
       "    </tr>\n",
       "  </thead>\n",
       "  <tbody>\n",
       "    <tr>\n",
       "      <th>0</th>\n",
       "      <td>J.K. Rowling/Mary GrandPré</td>\n",
       "      <td>4.28</td>\n",
       "    </tr>\n",
       "  </tbody>\n",
       "</table>\n",
       "</div>"
      ],
      "text/plain": [
       "                       author  rating_avg\n",
       "0  J.K. Rowling/Mary GrandPré        4.28"
      ]
     },
     "execution_count": 9,
     "metadata": {},
     "output_type": "execute_result"
    }
   ],
   "source": [
    "query = '''WITH\n",
    "           b AS (SELECT b.book_id,\n",
    "                        a.author\n",
    "                 FROM books AS b LEFT JOIN authors AS a ON b.author_id = a.author_id),\n",
    "           rat AS (SELECT book_id,\n",
    "                          AVG(rating) AS rating_avg\n",
    "                   FROM ratings \n",
    "                   GROUP BY book_id\n",
    "                   HAVING COUNT(rating_id) >= 50)           \n",
    "           SELECT b.author,\n",
    "                  ROUND(AVG(rat.rating_avg), 2) AS rating_avg\n",
    "           FROM b JOIN rat ON b.book_id = rat.book_id                  \n",
    "           GROUP BY b.author\n",
    "           ORDER BY rating_avg DESC\n",
    "           LIMIT 1;\n",
    "        '''\n",
    "con=engine.connect()\n",
    "pd.io.sql.read_sql(sql=text(query), con = con)"
   ]
  },
  {
   "cell_type": "markdown",
   "metadata": {},
   "source": [
    "**J.K. Rowling/Mary GrandPré** имеют самую высокую среднюю оценку книг (4.28), если учитывать только книги с 50 и более оценками."
   ]
  },
  {
   "cell_type": "markdown",
   "metadata": {},
   "source": [
    "###  Среднее количество обзоров от пользователей, которые поставили больше 48 оценок"
   ]
  },
  {
   "cell_type": "markdown",
   "metadata": {},
   "source": [
    "*Посчитайте среднее количество обзоров от пользователей, которые поставили больше 48 оценок.*"
   ]
  },
  {
   "cell_type": "code",
   "execution_count": 10,
   "metadata": {},
   "outputs": [
    {
     "data": {
      "text/html": [
       "<div>\n",
       "<style scoped>\n",
       "    .dataframe tbody tr th:only-of-type {\n",
       "        vertical-align: middle;\n",
       "    }\n",
       "\n",
       "    .dataframe tbody tr th {\n",
       "        vertical-align: top;\n",
       "    }\n",
       "\n",
       "    .dataframe thead th {\n",
       "        text-align: right;\n",
       "    }\n",
       "</style>\n",
       "<table border=\"1\" class=\"dataframe\">\n",
       "  <thead>\n",
       "    <tr style=\"text-align: right;\">\n",
       "      <th></th>\n",
       "      <th>avg_review_cnt</th>\n",
       "    </tr>\n",
       "  </thead>\n",
       "  <tbody>\n",
       "    <tr>\n",
       "      <th>0</th>\n",
       "      <td>24.0</td>\n",
       "    </tr>\n",
       "  </tbody>\n",
       "</table>\n",
       "</div>"
      ],
      "text/plain": [
       "   avg_review_cnt\n",
       "0            24.0"
      ]
     },
     "execution_count": 10,
     "metadata": {},
     "output_type": "execute_result"
    }
   ],
   "source": [
    "query = '''WITH\n",
    "           rev AS (SELECT username,\n",
    "                          COUNT(review_id) AS review_cnt\n",
    "                          FROM reviews\n",
    "                          GROUP BY username),\n",
    "           rat AS (SELECT username,\n",
    "                          COUNT(rating_id) AS rating_cnt\n",
    "                          FROM ratings\n",
    "                          GROUP BY username\n",
    "                          HAVING COUNT(rating_id) > 48)  \n",
    "           SELECT AVG(rev.review_cnt) AS avg_review_cnt                 \n",
    "           FROM rev JOIN rat ON rev.username = rat.username\n",
    "        '''\n",
    "con=engine.connect()\n",
    "pd.io.sql.read_sql(sql=text(query), con = con)"
   ]
  },
  {
   "cell_type": "markdown",
   "metadata": {},
   "source": [
    "В среднем **24 обзора** от пользователей, которые поставили больше 48 оценок."
   ]
  },
  {
   "cell_type": "markdown",
   "metadata": {},
   "source": [
    "## Общий вывод"
   ]
  },
  {
   "cell_type": "markdown",
   "metadata": {},
   "source": [
    "После 1 января 2000 года вышла 821 книга. Есть, что предложить читателям как из классики, так и из современной литературы.  \n",
    "Для удобства пользователей сформирована сводная таблица с информацией о каждой книге: автор, название, средняя оценка и количество обзоров. Данные представлены по убыванию средней оценки книг.    \n",
    "\n",
    "Наиболее плодотворное сотрудничество может быть с издательством Penguin Books, которое выпустило 42 книги - максимальное число книг толще 50 страниц.  \n",
    "\n",
    "J.K. Rowling/Mary GrandPré имеют самую высокую среднюю оценку книг, если учитывать только книги с 50 и более оценками.  \n",
    "  \n",
    "Самые активные пользователи пишут обзоры на книги в два раза реже, чем оценивают произведения. В среднем 24 обзора от пользователей, которые поставили больше 48 оценок. "
   ]
  }
 ],
 "metadata": {
  "ExecuteTimeLog": [
   {
    "duration": 6073,
    "start_time": "2024-09-17T09:24:46.603Z"
   },
   {
    "duration": 40,
    "start_time": "2024-09-17T09:47:31.772Z"
   },
   {
    "duration": 46,
    "start_time": "2024-09-17T09:48:19.382Z"
   },
   {
    "duration": 47,
    "start_time": "2024-09-17T09:48:34.835Z"
   },
   {
    "duration": 42,
    "start_time": "2024-09-17T09:48:54.906Z"
   },
   {
    "duration": 108,
    "start_time": "2024-09-17T09:49:05.734Z"
   },
   {
    "duration": 73,
    "start_time": "2024-09-17T10:09:29.706Z"
   },
   {
    "duration": 48,
    "start_time": "2024-09-17T10:12:38.346Z"
   },
   {
    "duration": 47,
    "start_time": "2024-09-17T10:18:57.346Z"
   },
   {
    "duration": 49,
    "start_time": "2024-09-17T10:23:32.418Z"
   },
   {
    "duration": 88,
    "start_time": "2024-09-17T10:24:01.520Z"
   },
   {
    "duration": 2,
    "start_time": "2024-09-17T10:26:16.698Z"
   },
   {
    "duration": 42,
    "start_time": "2024-09-17T10:26:24.475Z"
   },
   {
    "duration": 59,
    "start_time": "2024-09-17T10:28:30.546Z"
   },
   {
    "duration": 4,
    "start_time": "2024-09-17T10:28:42.780Z"
   },
   {
    "duration": 4,
    "start_time": "2024-09-17T10:34:33.327Z"
   },
   {
    "duration": 66,
    "start_time": "2024-09-17T10:37:37.885Z"
   },
   {
    "duration": 33,
    "start_time": "2024-09-17T10:40:50.007Z"
   },
   {
    "duration": 30,
    "start_time": "2024-09-17T10:41:02.939Z"
   },
   {
    "duration": 43,
    "start_time": "2024-09-17T10:41:28.520Z"
   },
   {
    "duration": 29,
    "start_time": "2024-09-17T10:41:35.252Z"
   },
   {
    "duration": 44,
    "start_time": "2024-09-17T10:42:38.427Z"
   },
   {
    "duration": 41,
    "start_time": "2024-09-17T10:43:56.309Z"
   },
   {
    "duration": 58,
    "start_time": "2024-09-17T10:44:02.317Z"
   },
   {
    "duration": 43,
    "start_time": "2024-09-17T10:44:44.868Z"
   },
   {
    "duration": 37,
    "start_time": "2024-09-17T10:44:56.633Z"
   },
   {
    "duration": 44,
    "start_time": "2024-09-17T10:45:20.163Z"
   },
   {
    "duration": 40,
    "start_time": "2024-09-17T10:45:38.428Z"
   },
   {
    "duration": 47,
    "start_time": "2024-09-17T10:45:49.774Z"
   },
   {
    "duration": 45,
    "start_time": "2024-09-17T10:50:18.796Z"
   },
   {
    "duration": 41,
    "start_time": "2024-09-17T10:50:41.255Z"
   },
   {
    "duration": 18,
    "start_time": "2024-09-17T11:13:16.291Z"
   },
   {
    "duration": 39,
    "start_time": "2024-09-17T11:15:00.903Z"
   },
   {
    "duration": 33,
    "start_time": "2024-09-17T11:16:44.870Z"
   },
   {
    "duration": 19,
    "start_time": "2024-09-17T11:18:09.947Z"
   },
   {
    "duration": 19,
    "start_time": "2024-09-17T11:19:48.228Z"
   },
   {
    "duration": 22,
    "start_time": "2024-09-17T11:21:10.551Z"
   },
   {
    "duration": 8,
    "start_time": "2024-09-17T11:21:34.230Z"
   },
   {
    "duration": 45,
    "start_time": "2024-09-17T11:34:10.069Z"
   },
   {
    "duration": 10,
    "start_time": "2024-09-17T11:34:33.638Z"
   },
   {
    "duration": 10,
    "start_time": "2024-09-17T11:35:01.677Z"
   },
   {
    "duration": 17,
    "start_time": "2024-09-17T11:39:22.701Z"
   },
   {
    "duration": 21,
    "start_time": "2024-09-17T11:41:47.819Z"
   },
   {
    "duration": 16,
    "start_time": "2024-09-17T11:44:37.659Z"
   },
   {
    "duration": 16,
    "start_time": "2024-09-17T11:46:31.161Z"
   },
   {
    "duration": 13,
    "start_time": "2024-09-17T11:47:50.032Z"
   },
   {
    "duration": 21,
    "start_time": "2024-09-17T11:51:30.651Z"
   },
   {
    "duration": 21,
    "start_time": "2024-09-17T11:54:31.790Z"
   },
   {
    "duration": 49,
    "start_time": "2024-09-17T11:55:48.608Z"
   },
   {
    "duration": 41,
    "start_time": "2024-09-17T12:00:58.501Z"
   },
   {
    "duration": 13,
    "start_time": "2024-09-17T12:01:16.645Z"
   },
   {
    "duration": 15,
    "start_time": "2024-09-17T12:04:56.284Z"
   },
   {
    "duration": 15,
    "start_time": "2024-09-17T12:06:39.727Z"
   },
   {
    "duration": 21,
    "start_time": "2024-09-17T12:15:24.719Z"
   },
   {
    "duration": 7243,
    "start_time": "2024-09-17T12:16:01.113Z"
   },
   {
    "duration": 78,
    "start_time": "2024-09-17T12:16:08.358Z"
   },
   {
    "duration": 8,
    "start_time": "2024-09-17T12:16:08.438Z"
   },
   {
    "duration": 116,
    "start_time": "2024-09-17T12:16:08.448Z"
   },
   {
    "duration": 0,
    "start_time": "2024-09-17T12:16:08.565Z"
   },
   {
    "duration": 0,
    "start_time": "2024-09-17T12:16:08.566Z"
   },
   {
    "duration": 0,
    "start_time": "2024-09-17T12:16:08.567Z"
   },
   {
    "duration": 0,
    "start_time": "2024-09-17T12:16:08.569Z"
   },
   {
    "duration": 0,
    "start_time": "2024-09-17T12:16:08.569Z"
   },
   {
    "duration": 0,
    "start_time": "2024-09-17T12:16:08.570Z"
   },
   {
    "duration": 9,
    "start_time": "2024-09-17T12:23:20.445Z"
   },
   {
    "duration": 62,
    "start_time": "2024-09-17T12:23:29.688Z"
   },
   {
    "duration": 31,
    "start_time": "2024-09-17T12:23:45.818Z"
   },
   {
    "duration": 30,
    "start_time": "2024-09-17T12:23:57.713Z"
   },
   {
    "duration": 65,
    "start_time": "2024-09-17T12:25:10.533Z"
   },
   {
    "duration": 26,
    "start_time": "2024-09-17T12:26:04.900Z"
   },
   {
    "duration": 21,
    "start_time": "2024-09-17T13:23:55.184Z"
   },
   {
    "duration": 12,
    "start_time": "2024-09-17T13:25:51.438Z"
   },
   {
    "duration": 12,
    "start_time": "2024-09-17T13:27:26.206Z"
   },
   {
    "duration": 12,
    "start_time": "2024-09-17T13:29:12.249Z"
   },
   {
    "duration": 20,
    "start_time": "2024-09-17T13:29:43.059Z"
   },
   {
    "duration": 12,
    "start_time": "2024-09-17T13:29:51.012Z"
   },
   {
    "duration": 19,
    "start_time": "2024-09-17T13:30:11.990Z"
   },
   {
    "duration": 12,
    "start_time": "2024-09-17T13:30:23.677Z"
   },
   {
    "duration": 13,
    "start_time": "2024-09-17T13:30:32.181Z"
   },
   {
    "duration": 14,
    "start_time": "2024-09-17T13:34:14.713Z"
   },
   {
    "duration": 14,
    "start_time": "2024-09-17T13:34:33.535Z"
   },
   {
    "duration": 20,
    "start_time": "2024-09-17T13:35:06.724Z"
   },
   {
    "duration": 12,
    "start_time": "2024-09-17T13:35:48.048Z"
   },
   {
    "duration": 79,
    "start_time": "2024-09-17T13:36:22.785Z"
   },
   {
    "duration": 18,
    "start_time": "2024-09-17T13:36:54.702Z"
   },
   {
    "duration": 38,
    "start_time": "2024-09-17T13:39:34.371Z"
   },
   {
    "duration": 20,
    "start_time": "2024-09-17T13:39:51.656Z"
   },
   {
    "duration": 12,
    "start_time": "2024-09-17T13:40:02.222Z"
   },
   {
    "duration": 13,
    "start_time": "2024-09-17T13:40:24.432Z"
   },
   {
    "duration": 12,
    "start_time": "2024-09-17T13:41:24.433Z"
   },
   {
    "duration": 20,
    "start_time": "2024-09-17T13:48:11.896Z"
   },
   {
    "duration": 19,
    "start_time": "2024-09-17T13:48:26.984Z"
   },
   {
    "duration": 18,
    "start_time": "2024-09-17T13:48:52.408Z"
   },
   {
    "duration": 18,
    "start_time": "2024-09-17T13:49:49.177Z"
   },
   {
    "duration": 17,
    "start_time": "2024-09-17T13:50:14.064Z"
   },
   {
    "duration": 19,
    "start_time": "2024-09-17T13:50:38.704Z"
   },
   {
    "duration": 19,
    "start_time": "2024-09-17T13:51:01.409Z"
   },
   {
    "duration": 23,
    "start_time": "2024-09-17T13:52:03.199Z"
   },
   {
    "duration": 20,
    "start_time": "2024-09-17T13:53:24.137Z"
   },
   {
    "duration": 19,
    "start_time": "2024-09-17T13:54:14.678Z"
   },
   {
    "duration": 27,
    "start_time": "2024-09-17T13:54:56.745Z"
   },
   {
    "duration": 27,
    "start_time": "2024-09-17T13:55:23.324Z"
   },
   {
    "duration": 49,
    "start_time": "2024-09-17T13:55:30.947Z"
   },
   {
    "duration": 43,
    "start_time": "2024-09-17T13:55:58.737Z"
   },
   {
    "duration": 31,
    "start_time": "2024-09-17T14:02:32.604Z"
   },
   {
    "duration": 18,
    "start_time": "2024-09-17T14:02:54.307Z"
   },
   {
    "duration": 18,
    "start_time": "2024-09-17T14:03:44.197Z"
   },
   {
    "duration": 21,
    "start_time": "2024-09-17T14:04:22.289Z"
   },
   {
    "duration": 19,
    "start_time": "2024-09-17T14:04:44.131Z"
   },
   {
    "duration": 14,
    "start_time": "2024-09-17T14:07:03.689Z"
   },
   {
    "duration": 17,
    "start_time": "2024-09-17T14:07:40.418Z"
   },
   {
    "duration": 16,
    "start_time": "2024-09-17T14:07:56.388Z"
   },
   {
    "duration": 14,
    "start_time": "2024-09-17T14:08:26.128Z"
   },
   {
    "duration": 17,
    "start_time": "2024-09-17T14:08:45.292Z"
   },
   {
    "duration": 13,
    "start_time": "2024-09-17T14:09:39.899Z"
   },
   {
    "duration": 13,
    "start_time": "2024-09-17T14:12:02.449Z"
   },
   {
    "duration": 14,
    "start_time": "2024-09-17T14:15:50.897Z"
   },
   {
    "duration": 14,
    "start_time": "2024-09-17T14:17:22.454Z"
   },
   {
    "duration": 13,
    "start_time": "2024-09-17T14:17:51.991Z"
   },
   {
    "duration": 7341,
    "start_time": "2024-09-17T14:20:03.612Z"
   },
   {
    "duration": 90,
    "start_time": "2024-09-17T14:20:10.954Z"
   },
   {
    "duration": 10,
    "start_time": "2024-09-17T14:20:11.045Z"
   },
   {
    "duration": 57,
    "start_time": "2024-09-17T14:20:11.057Z"
   },
   {
    "duration": 12,
    "start_time": "2024-09-17T14:20:11.116Z"
   },
   {
    "duration": 17,
    "start_time": "2024-09-17T14:20:11.130Z"
   },
   {
    "duration": 39,
    "start_time": "2024-09-17T14:20:11.149Z"
   },
   {
    "duration": 5540,
    "start_time": "2024-09-17T16:48:11.050Z"
   },
   {
    "duration": 84,
    "start_time": "2024-09-17T16:48:16.592Z"
   },
   {
    "duration": 9,
    "start_time": "2024-09-17T16:48:16.678Z"
   },
   {
    "duration": 69,
    "start_time": "2024-09-17T16:48:16.689Z"
   },
   {
    "duration": 11,
    "start_time": "2024-09-17T16:48:16.759Z"
   },
   {
    "duration": 19,
    "start_time": "2024-09-17T16:48:16.771Z"
   },
   {
    "duration": 11,
    "start_time": "2024-09-17T16:48:16.792Z"
   },
   {
    "duration": 24,
    "start_time": "2024-09-17T16:51:50.005Z"
   },
   {
    "duration": 21,
    "start_time": "2024-09-17T16:52:00.799Z"
   },
   {
    "duration": 556,
    "start_time": "2024-09-17T17:11:28.542Z"
   },
   {
    "duration": 3,
    "start_time": "2024-09-17T17:11:29.100Z"
   },
   {
    "duration": 7182,
    "start_time": "2024-09-17T17:11:29.105Z"
   },
   {
    "duration": 366,
    "start_time": "2024-09-17T17:11:36.290Z"
   },
   {
    "duration": 41,
    "start_time": "2024-09-17T17:11:36.658Z"
   },
   {
    "duration": 169,
    "start_time": "2024-09-17T17:11:36.701Z"
   },
   {
    "duration": 54,
    "start_time": "2024-09-17T17:11:36.872Z"
   },
   {
    "duration": 59,
    "start_time": "2024-09-17T17:11:36.927Z"
   },
   {
    "duration": 55,
    "start_time": "2024-09-17T17:11:36.988Z"
   },
   {
    "duration": 188,
    "start_time": "2024-09-17T17:12:52.585Z"
   },
   {
    "duration": 241,
    "start_time": "2024-09-17T17:13:09.306Z"
   },
   {
    "duration": 232,
    "start_time": "2024-09-17T17:13:48.836Z"
   },
   {
    "duration": 185,
    "start_time": "2024-09-17T17:13:54.892Z"
   },
   {
    "duration": 212,
    "start_time": "2024-09-17T17:14:03.920Z"
   },
   {
    "duration": 1104,
    "start_time": "2024-09-17T17:14:19.752Z"
   },
   {
    "duration": 71,
    "start_time": "2024-09-17T17:14:52.937Z"
   },
   {
    "duration": 107,
    "start_time": "2024-09-17T17:15:04.668Z"
   },
   {
    "duration": 200,
    "start_time": "2024-09-17T17:25:54.779Z"
   },
   {
    "duration": 89,
    "start_time": "2024-09-17T17:28:01.168Z"
   },
   {
    "duration": 203,
    "start_time": "2024-09-17T17:28:06.927Z"
   },
   {
    "duration": 312,
    "start_time": "2024-09-17T17:28:42.268Z"
   },
   {
    "duration": 367,
    "start_time": "2024-09-17T17:29:39.154Z"
   },
   {
    "duration": 364,
    "start_time": "2024-09-17T17:31:37.202Z"
   },
   {
    "duration": 62,
    "start_time": "2024-09-17T18:33:02.276Z"
   },
   {
    "duration": 56,
    "start_time": "2024-09-17T18:33:28.877Z"
   },
   {
    "duration": 70,
    "start_time": "2024-09-17T18:38:46.914Z"
   },
   {
    "duration": 58,
    "start_time": "2024-09-17T18:38:56.862Z"
   },
   {
    "duration": 56,
    "start_time": "2024-09-17T18:39:43.070Z"
   },
   {
    "duration": 66,
    "start_time": "2024-09-17T18:42:22.596Z"
   },
   {
    "duration": 508,
    "start_time": "2024-09-17T19:23:14.123Z"
   },
   {
    "duration": 4,
    "start_time": "2024-09-17T19:23:14.632Z"
   },
   {
    "duration": 4975,
    "start_time": "2024-09-17T19:23:14.637Z"
   },
   {
    "duration": 162,
    "start_time": "2024-09-17T19:23:19.614Z"
   },
   {
    "duration": 37,
    "start_time": "2024-09-17T19:23:19.778Z"
   },
   {
    "duration": 55,
    "start_time": "2024-09-17T19:23:19.817Z"
   },
   {
    "duration": 12,
    "start_time": "2024-09-17T19:23:19.874Z"
   },
   {
    "duration": 18,
    "start_time": "2024-09-17T19:23:19.887Z"
   },
   {
    "duration": 22,
    "start_time": "2024-09-17T19:23:19.907Z"
   },
   {
    "duration": 61,
    "start_time": "2024-09-17T19:44:36.430Z"
   },
   {
    "duration": 57,
    "start_time": "2024-09-17T19:50:03.926Z"
   },
   {
    "duration": 57,
    "start_time": "2024-09-17T19:50:26.976Z"
   },
   {
    "duration": 56,
    "start_time": "2024-09-17T19:51:07.896Z"
   },
   {
    "duration": 56,
    "start_time": "2024-09-17T19:51:14.980Z"
   },
   {
    "duration": 54,
    "start_time": "2024-09-17T19:52:14.001Z"
   },
   {
    "duration": 56,
    "start_time": "2024-09-17T19:52:49.985Z"
   },
   {
    "duration": 84,
    "start_time": "2024-09-17T19:56:12.102Z"
   },
   {
    "duration": 541,
    "start_time": "2024-09-17T19:56:56.980Z"
   },
   {
    "duration": 4,
    "start_time": "2024-09-17T19:56:57.524Z"
   },
   {
    "duration": 7583,
    "start_time": "2024-09-17T19:56:57.530Z"
   },
   {
    "duration": 487,
    "start_time": "2024-09-17T19:57:05.115Z"
   },
   {
    "duration": 41,
    "start_time": "2024-09-17T19:57:05.603Z"
   },
   {
    "duration": 159,
    "start_time": "2024-09-17T19:57:05.646Z"
   },
   {
    "duration": 53,
    "start_time": "2024-09-17T19:57:05.806Z"
   },
   {
    "duration": 56,
    "start_time": "2024-09-17T19:57:05.860Z"
   },
   {
    "duration": 56,
    "start_time": "2024-09-17T19:57:05.918Z"
   },
   {
    "duration": 54,
    "start_time": "2024-09-17T19:57:05.977Z"
   }
  ],
  "kernelspec": {
   "display_name": "Python 3 (ipykernel)",
   "language": "python",
   "name": "python3"
  },
  "language_info": {
   "codemirror_mode": {
    "name": "ipython",
    "version": 3
   },
   "file_extension": ".py",
   "mimetype": "text/x-python",
   "name": "python",
   "nbconvert_exporter": "python",
   "pygments_lexer": "ipython3",
   "version": "3.11.7"
  },
  "toc": {
   "base_numbering": 1,
   "nav_menu": {},
   "number_sections": true,
   "sideBar": true,
   "skip_h1_title": true,
   "title_cell": "Table of Contents",
   "title_sidebar": "Contents",
   "toc_cell": false,
   "toc_position": {
    "height": "calc(100% - 180px)",
    "left": "10px",
    "top": "150px",
    "width": "165px"
   },
   "toc_section_display": true,
   "toc_window_display": true
  }
 },
 "nbformat": 4,
 "nbformat_minor": 4
}
