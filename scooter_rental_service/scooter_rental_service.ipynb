{
 "cells": [
  {
   "cell_type": "markdown",
   "id": "07291196",
   "metadata": {},
   "source": [
    "# Статистический анализ данных на примере сервиса аренды самокатов."
   ]
  },
  {
   "cell_type": "markdown",
   "id": "37977566",
   "metadata": {},
   "source": [
    "В нашем распоряжении данные популярного сервиса аренды самокатов GoFast о некоторых пользователях из нескольких городов, а также об их поездках и подписках. Чтобы совершать поездки по городу, пользователи сервиса GoFast пользуются мобильным приложением. Сервисом можно пользоваться без подписки или с подпиской Ultra.  \n",
    "Задача проанализировать данные и проверить некоторые гипотезы, которые могут помочь бизнесу вырасти."
   ]
  },
  {
   "cell_type": "markdown",
   "id": "1d8663a7",
   "metadata": {},
   "source": [
    "**План работы.**  \n",
    "   \n",
    "  1. Открыть файлы с данными о пользователях, их поездках и подписках, изучить общую информацию о них.  \n",
    "\n",
    "  \n",
    "  2. Выполнить предобработку данных:\n",
    "     \n",
    "    - Привести столбец `date` к типу даты pandas.   \n",
    "    - Создать новый столбец с номером месяца на основе столбца `date`.\n",
    "    - Проверить наличие пропущенных значений и дубликатов в датафреймах. Обработать их, если такие значения присутствуют.  \n",
    "    - Рассмотреть типы данных в каждом столбце: найти столбцы, в которых нужно изменить тип данных, преобразовать тип данных в выбранных столбцах.  \n",
    "    - Изучить уникальные значения в столбце с названиями и устранить неявные дубликаты.   \n",
    "    \n",
    "  \n",
    "  4. Провести исследовательский анализ данных:   \n",
    "    Описать и визуализировать общую информацию о пользователях и поездках:\n",
    "    - частота встречаемости городов;  \n",
    "    - соотношение пользователей с подпиской и без подписки;  \n",
    "    - возраст пользователей;  \n",
    "    - расстояние, которое пользователь преодолел за одну поездку;  \n",
    "    - продолжительность поездок.    \n",
    "    \n",
    "  \n",
    "  5. Объединить данные:  \n",
    "    - о пользователях, поездках и подписках в один датафрейм;  \n",
    "    - создать ещё два датафрейма из датафрейма, созданного на предыдущем этапе: c данными о пользователях без подписки и данными о пользователях с подпиской;  \n",
    "    - визуализировать информацию о расстоянии и времени поездок для пользователей обеих категорий.  \n",
    "    \n",
    "  \n",
    "  6. Найти суммарное расстояние, количество поездок и суммарное время для каждого пользователя за каждый месяц.  \n",
    "  Подсчитать выручку, которую принес каждый пользователь помесячно.   \n",
    "\n",
    "  \n",
    "  7. Проверить гипотезы:  \n",
    "    7.1 Тратят ли пользователи с подпиской больше времени на поездки? Если да, то пользователи с подпиской могут быть «выгоднее» для компании.   \n",
    "    7.2 Расстояние одной поездки в 3130 метров — оптимальное с точки зрения износа самоката. Можно ли сказать, что среднее расстояние, которое проезжают пользователи с подпиской за одну поездку, не превышает 3130 метров?   \n",
    "    7.3 Будет ли помесячная выручка от пользователей с подпиской по месяцам выше, чем выручка от пользователей без подписки.  \n",
    "    7.4 Произойдет ли значимое снижение количества обращений в техподдержку после обновления серверов, с которыми взаимодействует мобильное приложение. Выяснить, какой тест понадобился бы для проверки этой гипотезы?  \n",
    "      \n",
    "8. 8.1 Выяснить, какое минимальное количество промокодов нужно разослать по акции с раздачей промокодов на один бесплатный месяц подписки, в рамках которой как минимум 100 существующих клиентов должны продлить эту подписку, чтобы вероятность не выполнить план была примерно 5%.  Подбрать параметры распределения, описывающего эту ситуацию, построить график распределения и сформулируйте ответ на вопрос о количестве промокодов.   \n",
    "      8.2 Отдел маркетинга рассылает клиентам push-уведомления в мобильном приложении. Клиенты могут открыть его или не открывать. Известно, что уведомления открывают около 40% получивших клиентов. Отдел планирует разослать 1 млн уведомлений. С помощью аппроксимации построить примерный график распределения и оценить вероятность того, что уведомление откроют не более 399,5 тыс. пользователей.  \n",
    "      \n",
    "    \n",
    "9. Сформулировать общий вывод."
   ]
  },
  {
   "cell_type": "markdown",
   "id": "c42cbe00",
   "metadata": {},
   "source": [
    "## Загрузка данных"
   ]
  },
  {
   "cell_type": "code",
   "execution_count": 2,
   "id": "72576667",
   "metadata": {},
   "outputs": [],
   "source": [
    "# импортируем библиотеки \n",
    "import pandas as pd  \n",
    "import matplotlib.pyplot as plt \n",
    "import numpy as np\n",
    "from scipy import stats as st\n",
    "from scipy.stats import binom, norm\n",
    "from math import factorial\n",
    "from math import sqrt"
   ]
  },
  {
   "cell_type": "code",
   "execution_count": 3,
   "id": "3b41043b",
   "metadata": {},
   "outputs": [],
   "source": [
    "# Считываем данные из csv-файла в датафреймов и сохраняем в переменные 'users', 'rides', 'subscriptions'. \n",
    "# Пути к файлам: /datasets/users_go.csv ; /datasets/rides_go.csv ; /datasets/subscriptions_go.csv\n",
    "try:\n",
    "    users = pd.read_csv('/datasets/users_go.csv')#, sep=',')\n",
    "    rides = pd.read_csv('/datasets/rides_go.csv')\n",
    "    subscriptions = pd.read_csv('/datasets/subscriptions_go.csv')\n",
    "except:\n",
    "    users = pd.read_csv('https://code.s3.yandex.net/datasets/users_go.csv', sep=',')\n",
    "    rides = pd.read_csv('https://code.s3.yandex.net/datasets/rides_go.csv')\n",
    "    subscriptions = pd.read_csv('https://code.s3.yandex.net/datasets/subscriptions_go.csv')"
   ]
  },
  {
   "cell_type": "code",
   "execution_count": 4,
   "id": "13607628",
   "metadata": {},
   "outputs": [
    {
     "data": {
      "text/html": [
       "<div>\n",
       "<style scoped>\n",
       "    .dataframe tbody tr th:only-of-type {\n",
       "        vertical-align: middle;\n",
       "    }\n",
       "\n",
       "    .dataframe tbody tr th {\n",
       "        vertical-align: top;\n",
       "    }\n",
       "\n",
       "    .dataframe thead th {\n",
       "        text-align: right;\n",
       "    }\n",
       "</style>\n",
       "<table border=\"1\" class=\"dataframe\">\n",
       "  <thead>\n",
       "    <tr style=\"text-align: right;\">\n",
       "      <th></th>\n",
       "      <th>user_id</th>\n",
       "      <th>name</th>\n",
       "      <th>age</th>\n",
       "      <th>city</th>\n",
       "      <th>subscription_type</th>\n",
       "    </tr>\n",
       "  </thead>\n",
       "  <tbody>\n",
       "    <tr>\n",
       "      <th>0</th>\n",
       "      <td>1</td>\n",
       "      <td>Кира</td>\n",
       "      <td>22</td>\n",
       "      <td>Тюмень</td>\n",
       "      <td>ultra</td>\n",
       "    </tr>\n",
       "    <tr>\n",
       "      <th>1</th>\n",
       "      <td>2</td>\n",
       "      <td>Станислав</td>\n",
       "      <td>31</td>\n",
       "      <td>Омск</td>\n",
       "      <td>ultra</td>\n",
       "    </tr>\n",
       "    <tr>\n",
       "      <th>2</th>\n",
       "      <td>3</td>\n",
       "      <td>Алексей</td>\n",
       "      <td>20</td>\n",
       "      <td>Москва</td>\n",
       "      <td>ultra</td>\n",
       "    </tr>\n",
       "    <tr>\n",
       "      <th>3</th>\n",
       "      <td>4</td>\n",
       "      <td>Константин</td>\n",
       "      <td>26</td>\n",
       "      <td>Ростов-на-Дону</td>\n",
       "      <td>ultra</td>\n",
       "    </tr>\n",
       "    <tr>\n",
       "      <th>4</th>\n",
       "      <td>5</td>\n",
       "      <td>Адель</td>\n",
       "      <td>28</td>\n",
       "      <td>Омск</td>\n",
       "      <td>ultra</td>\n",
       "    </tr>\n",
       "  </tbody>\n",
       "</table>\n",
       "</div>"
      ],
      "text/plain": [
       "   user_id        name  age            city subscription_type\n",
       "0        1        Кира   22          Тюмень             ultra\n",
       "1        2   Станислав   31            Омск             ultra\n",
       "2        3     Алексей   20          Москва             ultra\n",
       "3        4  Константин   26  Ростов-на-Дону             ultra\n",
       "4        5       Адель   28            Омск             ultra"
      ]
     },
     "execution_count": 4,
     "metadata": {},
     "output_type": "execute_result"
    }
   ],
   "source": [
    "users.head()"
   ]
  },
  {
   "cell_type": "code",
   "execution_count": 5,
   "id": "bdcc4b39",
   "metadata": {},
   "outputs": [
    {
     "data": {
      "text/html": [
       "<div>\n",
       "<style scoped>\n",
       "    .dataframe tbody tr th:only-of-type {\n",
       "        vertical-align: middle;\n",
       "    }\n",
       "\n",
       "    .dataframe tbody tr th {\n",
       "        vertical-align: top;\n",
       "    }\n",
       "\n",
       "    .dataframe thead th {\n",
       "        text-align: right;\n",
       "    }\n",
       "</style>\n",
       "<table border=\"1\" class=\"dataframe\">\n",
       "  <thead>\n",
       "    <tr style=\"text-align: right;\">\n",
       "      <th></th>\n",
       "      <th>user_id</th>\n",
       "      <th>name</th>\n",
       "      <th>age</th>\n",
       "      <th>city</th>\n",
       "      <th>subscription_type</th>\n",
       "    </tr>\n",
       "  </thead>\n",
       "  <tbody>\n",
       "    <tr>\n",
       "      <th>1560</th>\n",
       "      <td>829</td>\n",
       "      <td>Федор</td>\n",
       "      <td>29</td>\n",
       "      <td>Пятигорск</td>\n",
       "      <td>free</td>\n",
       "    </tr>\n",
       "    <tr>\n",
       "      <th>1561</th>\n",
       "      <td>809</td>\n",
       "      <td>Юрий</td>\n",
       "      <td>26</td>\n",
       "      <td>Сочи</td>\n",
       "      <td>free</td>\n",
       "    </tr>\n",
       "    <tr>\n",
       "      <th>1562</th>\n",
       "      <td>307</td>\n",
       "      <td>Ясмина</td>\n",
       "      <td>19</td>\n",
       "      <td>Краснодар</td>\n",
       "      <td>ultra</td>\n",
       "    </tr>\n",
       "    <tr>\n",
       "      <th>1563</th>\n",
       "      <td>47</td>\n",
       "      <td>Юрий</td>\n",
       "      <td>28</td>\n",
       "      <td>Тюмень</td>\n",
       "      <td>ultra</td>\n",
       "    </tr>\n",
       "    <tr>\n",
       "      <th>1564</th>\n",
       "      <td>1045</td>\n",
       "      <td>Артемий</td>\n",
       "      <td>28</td>\n",
       "      <td>Ростов-на-Дону</td>\n",
       "      <td>free</td>\n",
       "    </tr>\n",
       "  </tbody>\n",
       "</table>\n",
       "</div>"
      ],
      "text/plain": [
       "      user_id     name  age            city subscription_type\n",
       "1560      829    Федор   29       Пятигорск              free\n",
       "1561      809     Юрий   26            Сочи              free\n",
       "1562      307   Ясмина   19       Краснодар             ultra\n",
       "1563       47     Юрий   28          Тюмень             ultra\n",
       "1564     1045  Артемий   28  Ростов-на-Дону              free"
      ]
     },
     "execution_count": 5,
     "metadata": {},
     "output_type": "execute_result"
    }
   ],
   "source": [
    "users.tail()"
   ]
  },
  {
   "cell_type": "markdown",
   "id": "5ca1b151",
   "metadata": {},
   "source": [
    "*Основная информация о датафрейме users:*"
   ]
  },
  {
   "cell_type": "code",
   "execution_count": 6,
   "id": "eff9f206",
   "metadata": {},
   "outputs": [
    {
     "name": "stdout",
     "output_type": "stream",
     "text": [
      "<class 'pandas.core.frame.DataFrame'>\n",
      "RangeIndex: 1565 entries, 0 to 1564\n",
      "Data columns (total 5 columns):\n",
      " #   Column             Non-Null Count  Dtype \n",
      "---  ------             --------------  ----- \n",
      " 0   user_id            1565 non-null   int64 \n",
      " 1   name               1565 non-null   object\n",
      " 2   age                1565 non-null   int64 \n",
      " 3   city               1565 non-null   object\n",
      " 4   subscription_type  1565 non-null   object\n",
      "dtypes: int64(2), object(3)\n",
      "memory usage: 61.3+ KB\n"
     ]
    }
   ],
   "source": [
    "users.info()"
   ]
  },
  {
   "cell_type": "code",
   "execution_count": 7,
   "id": "c05ea63e",
   "metadata": {},
   "outputs": [
    {
     "data": {
      "text/html": [
       "<div>\n",
       "<style scoped>\n",
       "    .dataframe tbody tr th:only-of-type {\n",
       "        vertical-align: middle;\n",
       "    }\n",
       "\n",
       "    .dataframe tbody tr th {\n",
       "        vertical-align: top;\n",
       "    }\n",
       "\n",
       "    .dataframe thead th {\n",
       "        text-align: right;\n",
       "    }\n",
       "</style>\n",
       "<table border=\"1\" class=\"dataframe\">\n",
       "  <thead>\n",
       "    <tr style=\"text-align: right;\">\n",
       "      <th></th>\n",
       "      <th>user_id</th>\n",
       "      <th>distance</th>\n",
       "      <th>duration</th>\n",
       "      <th>date</th>\n",
       "    </tr>\n",
       "  </thead>\n",
       "  <tbody>\n",
       "    <tr>\n",
       "      <th>0</th>\n",
       "      <td>1</td>\n",
       "      <td>4409.919140</td>\n",
       "      <td>25.599769</td>\n",
       "      <td>2021-01-01</td>\n",
       "    </tr>\n",
       "    <tr>\n",
       "      <th>1</th>\n",
       "      <td>1</td>\n",
       "      <td>2617.592153</td>\n",
       "      <td>15.816871</td>\n",
       "      <td>2021-01-18</td>\n",
       "    </tr>\n",
       "    <tr>\n",
       "      <th>2</th>\n",
       "      <td>1</td>\n",
       "      <td>754.159807</td>\n",
       "      <td>6.232113</td>\n",
       "      <td>2021-04-20</td>\n",
       "    </tr>\n",
       "    <tr>\n",
       "      <th>3</th>\n",
       "      <td>1</td>\n",
       "      <td>2694.783254</td>\n",
       "      <td>18.511000</td>\n",
       "      <td>2021-08-11</td>\n",
       "    </tr>\n",
       "    <tr>\n",
       "      <th>4</th>\n",
       "      <td>1</td>\n",
       "      <td>4028.687306</td>\n",
       "      <td>26.265803</td>\n",
       "      <td>2021-08-28</td>\n",
       "    </tr>\n",
       "    <tr>\n",
       "      <th>5</th>\n",
       "      <td>1</td>\n",
       "      <td>2770.890808</td>\n",
       "      <td>16.650138</td>\n",
       "      <td>2021-10-09</td>\n",
       "    </tr>\n",
       "    <tr>\n",
       "      <th>6</th>\n",
       "      <td>1</td>\n",
       "      <td>3039.020292</td>\n",
       "      <td>14.927879</td>\n",
       "      <td>2021-10-19</td>\n",
       "    </tr>\n",
       "    <tr>\n",
       "      <th>7</th>\n",
       "      <td>1</td>\n",
       "      <td>2842.118050</td>\n",
       "      <td>23.117468</td>\n",
       "      <td>2021-11-06</td>\n",
       "    </tr>\n",
       "    <tr>\n",
       "      <th>8</th>\n",
       "      <td>1</td>\n",
       "      <td>3412.690668</td>\n",
       "      <td>15.238072</td>\n",
       "      <td>2021-11-14</td>\n",
       "    </tr>\n",
       "    <tr>\n",
       "      <th>9</th>\n",
       "      <td>1</td>\n",
       "      <td>748.690645</td>\n",
       "      <td>15.041884</td>\n",
       "      <td>2021-11-22</td>\n",
       "    </tr>\n",
       "    <tr>\n",
       "      <th>10</th>\n",
       "      <td>1</td>\n",
       "      <td>4031.020195</td>\n",
       "      <td>17.674448</td>\n",
       "      <td>2021-12-14</td>\n",
       "    </tr>\n",
       "    <tr>\n",
       "      <th>11</th>\n",
       "      <td>1</td>\n",
       "      <td>2720.609748</td>\n",
       "      <td>9.529463</td>\n",
       "      <td>2021-12-22</td>\n",
       "    </tr>\n",
       "    <tr>\n",
       "      <th>12</th>\n",
       "      <td>2</td>\n",
       "      <td>3105.086678</td>\n",
       "      <td>24.307514</td>\n",
       "      <td>2021-03-15</td>\n",
       "    </tr>\n",
       "    <tr>\n",
       "      <th>13</th>\n",
       "      <td>2</td>\n",
       "      <td>3053.519401</td>\n",
       "      <td>11.543256</td>\n",
       "      <td>2021-03-18</td>\n",
       "    </tr>\n",
       "    <tr>\n",
       "      <th>14</th>\n",
       "      <td>2</td>\n",
       "      <td>4029.116927</td>\n",
       "      <td>25.109188</td>\n",
       "      <td>2021-03-23</td>\n",
       "    </tr>\n",
       "  </tbody>\n",
       "</table>\n",
       "</div>"
      ],
      "text/plain": [
       "    user_id     distance   duration        date\n",
       "0         1  4409.919140  25.599769  2021-01-01\n",
       "1         1  2617.592153  15.816871  2021-01-18\n",
       "2         1   754.159807   6.232113  2021-04-20\n",
       "3         1  2694.783254  18.511000  2021-08-11\n",
       "4         1  4028.687306  26.265803  2021-08-28\n",
       "5         1  2770.890808  16.650138  2021-10-09\n",
       "6         1  3039.020292  14.927879  2021-10-19\n",
       "7         1  2842.118050  23.117468  2021-11-06\n",
       "8         1  3412.690668  15.238072  2021-11-14\n",
       "9         1   748.690645  15.041884  2021-11-22\n",
       "10        1  4031.020195  17.674448  2021-12-14\n",
       "11        1  2720.609748   9.529463  2021-12-22\n",
       "12        2  3105.086678  24.307514  2021-03-15\n",
       "13        2  3053.519401  11.543256  2021-03-18\n",
       "14        2  4029.116927  25.109188  2021-03-23"
      ]
     },
     "execution_count": 7,
     "metadata": {},
     "output_type": "execute_result"
    }
   ],
   "source": [
    "rides.head(15)"
   ]
  },
  {
   "cell_type": "markdown",
   "id": "f7e07270",
   "metadata": {},
   "source": [
    "*Основная информация о датафрейме rides:*"
   ]
  },
  {
   "cell_type": "code",
   "execution_count": 8,
   "id": "75528124",
   "metadata": {},
   "outputs": [
    {
     "name": "stdout",
     "output_type": "stream",
     "text": [
      "<class 'pandas.core.frame.DataFrame'>\n",
      "RangeIndex: 18068 entries, 0 to 18067\n",
      "Data columns (total 4 columns):\n",
      " #   Column    Non-Null Count  Dtype  \n",
      "---  ------    --------------  -----  \n",
      " 0   user_id   18068 non-null  int64  \n",
      " 1   distance  18068 non-null  float64\n",
      " 2   duration  18068 non-null  float64\n",
      " 3   date      18068 non-null  object \n",
      "dtypes: float64(2), int64(1), object(1)\n",
      "memory usage: 564.8+ KB\n"
     ]
    }
   ],
   "source": [
    "rides.info()"
   ]
  },
  {
   "cell_type": "code",
   "execution_count": 9,
   "id": "48677779",
   "metadata": {
    "scrolled": true
   },
   "outputs": [
    {
     "data": {
      "text/html": [
       "<div>\n",
       "<style scoped>\n",
       "    .dataframe tbody tr th:only-of-type {\n",
       "        vertical-align: middle;\n",
       "    }\n",
       "\n",
       "    .dataframe tbody tr th {\n",
       "        vertical-align: top;\n",
       "    }\n",
       "\n",
       "    .dataframe thead th {\n",
       "        text-align: right;\n",
       "    }\n",
       "</style>\n",
       "<table border=\"1\" class=\"dataframe\">\n",
       "  <thead>\n",
       "    <tr style=\"text-align: right;\">\n",
       "      <th></th>\n",
       "      <th>subscription_type</th>\n",
       "      <th>minute_price</th>\n",
       "      <th>start_ride_price</th>\n",
       "      <th>subscription_fee</th>\n",
       "    </tr>\n",
       "  </thead>\n",
       "  <tbody>\n",
       "    <tr>\n",
       "      <th>0</th>\n",
       "      <td>free</td>\n",
       "      <td>8</td>\n",
       "      <td>50</td>\n",
       "      <td>0</td>\n",
       "    </tr>\n",
       "    <tr>\n",
       "      <th>1</th>\n",
       "      <td>ultra</td>\n",
       "      <td>6</td>\n",
       "      <td>0</td>\n",
       "      <td>199</td>\n",
       "    </tr>\n",
       "  </tbody>\n",
       "</table>\n",
       "</div>"
      ],
      "text/plain": [
       "  subscription_type  minute_price  start_ride_price  subscription_fee\n",
       "0              free             8                50                 0\n",
       "1             ultra             6                 0               199"
      ]
     },
     "execution_count": 9,
     "metadata": {},
     "output_type": "execute_result"
    }
   ],
   "source": [
    "subscriptions"
   ]
  },
  {
   "cell_type": "markdown",
   "id": "5bd70cc2",
   "metadata": {},
   "source": [
    "*Основная информация о датафрейме subscriptions:*"
   ]
  },
  {
   "cell_type": "code",
   "execution_count": 10,
   "id": "8a3b2582",
   "metadata": {},
   "outputs": [
    {
     "name": "stdout",
     "output_type": "stream",
     "text": [
      "<class 'pandas.core.frame.DataFrame'>\n",
      "RangeIndex: 2 entries, 0 to 1\n",
      "Data columns (total 4 columns):\n",
      " #   Column             Non-Null Count  Dtype \n",
      "---  ------             --------------  ----- \n",
      " 0   subscription_type  2 non-null      object\n",
      " 1   minute_price       2 non-null      int64 \n",
      " 2   start_ride_price   2 non-null      int64 \n",
      " 3   subscription_fee   2 non-null      int64 \n",
      "dtypes: int64(3), object(1)\n",
      "memory usage: 196.0+ bytes\n"
     ]
    }
   ],
   "source": [
    "subscriptions.info()"
   ]
  },
  {
   "cell_type": "markdown",
   "id": "e95ebca7",
   "metadata": {},
   "source": [
    "## Предобработка данных"
   ]
  },
  {
   "cell_type": "code",
   "execution_count": 11,
   "id": "c9dfc80f",
   "metadata": {},
   "outputs": [],
   "source": [
    "# Заменим тип данных в столбце 'date' с 'object'на 'datetime64' \n",
    "rides['date'] = pd.to_datetime(rides['date'], format='%Y-%m-%d')"
   ]
  },
  {
   "cell_type": "code",
   "execution_count": 12,
   "id": "c87ed66c",
   "metadata": {},
   "outputs": [
    {
     "data": {
      "text/plain": [
       "user_id              int64\n",
       "distance           float64\n",
       "duration           float64\n",
       "date        datetime64[ns]\n",
       "dtype: object"
      ]
     },
     "execution_count": 12,
     "metadata": {},
     "output_type": "execute_result"
    }
   ],
   "source": [
    "rides.dtypes  # Выведем информацию о типах данных в таблице `rides`"
   ]
  },
  {
   "cell_type": "code",
   "execution_count": 13,
   "id": "8db5a57a",
   "metadata": {},
   "outputs": [
    {
     "data": {
      "text/plain": [
       "array([2021])"
      ]
     },
     "execution_count": 13,
     "metadata": {},
     "output_type": "execute_result"
    }
   ],
   "source": [
    "# Выведем уникальные значения года в столбце 'date', чтобы выяснить, за какой период предоставлены данные\n",
    "rides['date'].dt.year.unique()"
   ]
  },
  {
   "cell_type": "markdown",
   "id": "069dfeb0",
   "metadata": {},
   "source": [
    "Исходная таблица `rides` содержит данные только за 2021 год, поэтому их можно объединить по месяцам."
   ]
  },
  {
   "cell_type": "code",
   "execution_count": 14,
   "id": "66163dc2",
   "metadata": {},
   "outputs": [],
   "source": [
    "# Создадим новый столбец 'month' с номером месяца на основе столбца 'date'.\n",
    "rides['month'] = rides['date'].dt.month"
   ]
  },
  {
   "cell_type": "markdown",
   "id": "6fd22987",
   "metadata": {},
   "source": [
    "Проверим количество пропущенных значений для каждого столбца датафреймов users и rides"
   ]
  },
  {
   "cell_type": "code",
   "execution_count": 15,
   "id": "3e6c43a1",
   "metadata": {},
   "outputs": [
    {
     "data": {
      "text/plain": [
       "user_id              0\n",
       "name                 0\n",
       "age                  0\n",
       "city                 0\n",
       "subscription_type    0\n",
       "dtype: int64"
      ]
     },
     "execution_count": 15,
     "metadata": {},
     "output_type": "execute_result"
    }
   ],
   "source": [
    "users.isna().sum()"
   ]
  },
  {
   "cell_type": "code",
   "execution_count": 16,
   "id": "fe793c97",
   "metadata": {},
   "outputs": [
    {
     "data": {
      "text/plain": [
       "user_id     0\n",
       "distance    0\n",
       "duration    0\n",
       "date        0\n",
       "month       0\n",
       "dtype: int64"
      ]
     },
     "execution_count": 16,
     "metadata": {},
     "output_type": "execute_result"
    }
   ],
   "source": [
    "rides.isna().sum()"
   ]
  },
  {
   "cell_type": "markdown",
   "id": "3a6e2f2d",
   "metadata": {},
   "source": [
    "Проверим количество строк-дубликатов в данных."
   ]
  },
  {
   "cell_type": "code",
   "execution_count": 17,
   "id": "584d4a4a",
   "metadata": {},
   "outputs": [
    {
     "data": {
      "text/plain": [
       "31"
      ]
     },
     "execution_count": 17,
     "metadata": {},
     "output_type": "execute_result"
    }
   ],
   "source": [
    "# Проверим количество строк-дубликатов в таблице 'users'. \n",
    "users.duplicated().sum()"
   ]
  },
  {
   "cell_type": "code",
   "execution_count": 18,
   "id": "097f5caa",
   "metadata": {},
   "outputs": [],
   "source": [
    "# Удалим строки-дубликаты в таблице 'users'.\n",
    "users = users.drop_duplicates()"
   ]
  },
  {
   "cell_type": "code",
   "execution_count": 19,
   "id": "eb30e0d7",
   "metadata": {},
   "outputs": [
    {
     "data": {
      "text/plain": [
       "0"
      ]
     },
     "execution_count": 19,
     "metadata": {},
     "output_type": "execute_result"
    }
   ],
   "source": [
    "users.duplicated().sum()  # убедимся в отсутствии явных дубликатов в таблице 'users'"
   ]
  },
  {
   "cell_type": "code",
   "execution_count": 20,
   "id": "f6a9cd26",
   "metadata": {},
   "outputs": [
    {
     "data": {
      "text/plain": [
       "0"
      ]
     },
     "execution_count": 20,
     "metadata": {},
     "output_type": "execute_result"
    }
   ],
   "source": [
    "# Проверим количество строк-дубликатов в таблице 'rides'. \n",
    "rides.duplicated().sum()"
   ]
  },
  {
   "cell_type": "markdown",
   "id": "900ebad4",
   "metadata": {},
   "source": [
    "Изучим уникальные значения в столбцах `name` и `city` таблицы `users` и проверим наличие неявных дубликатов."
   ]
  },
  {
   "cell_type": "code",
   "execution_count": 21,
   "id": "71b71e79",
   "metadata": {
    "scrolled": true
   },
   "outputs": [
    {
     "data": {
      "text/plain": [
       "['Агата',\n",
       " 'Аделина',\n",
       " 'Адель',\n",
       " 'Айдар',\n",
       " 'Александр',\n",
       " 'Александра',\n",
       " 'Алексей',\n",
       " 'Алина',\n",
       " 'Алиса',\n",
       " 'Алия',\n",
       " 'Алла',\n",
       " 'Альберт',\n",
       " 'Альбина',\n",
       " 'Алёна',\n",
       " 'Амалия',\n",
       " 'Амина',\n",
       " 'Амир',\n",
       " 'Анастасия',\n",
       " 'Анатолий',\n",
       " 'Ангелина',\n",
       " 'Андрей',\n",
       " 'Анжелика',\n",
       " 'Анна',\n",
       " 'Антон',\n",
       " 'Антонина',\n",
       " 'Ариана',\n",
       " 'Арина',\n",
       " 'Арсен',\n",
       " 'Арсений',\n",
       " 'Артемий',\n",
       " 'Артур',\n",
       " 'Артём',\n",
       " 'Богдан',\n",
       " 'Борис',\n",
       " 'Вадим',\n",
       " 'Валентина',\n",
       " 'Валерий',\n",
       " 'Валерия',\n",
       " 'Варвара',\n",
       " 'Василий',\n",
       " 'Василина',\n",
       " 'Василиса',\n",
       " 'Вера',\n",
       " 'Вероника',\n",
       " 'Виктор',\n",
       " 'Виктория',\n",
       " 'Виолетта',\n",
       " 'Виталий',\n",
       " 'Виталина',\n",
       " 'Влад',\n",
       " 'Влада',\n",
       " 'Владимир',\n",
       " 'Владислав',\n",
       " 'Владислава',\n",
       " 'Всеволод',\n",
       " 'Вячеслав',\n",
       " 'Галина',\n",
       " 'Георгий',\n",
       " 'Герман',\n",
       " 'Глеб',\n",
       " 'Гордей',\n",
       " 'Григорий',\n",
       " 'Давид',\n",
       " 'Дамир',\n",
       " 'Даниил',\n",
       " 'Данил',\n",
       " 'Данила',\n",
       " 'Даниэль',\n",
       " 'Дарина',\n",
       " 'Дарья',\n",
       " 'Демид',\n",
       " 'Денис',\n",
       " 'Диана',\n",
       " 'Дмитрий',\n",
       " 'Ева',\n",
       " 'Евгений',\n",
       " 'Евгения',\n",
       " 'Егор',\n",
       " 'Екатерина',\n",
       " 'Елена',\n",
       " 'Елизавета',\n",
       " 'Елисей',\n",
       " 'Есения',\n",
       " 'Жанна',\n",
       " 'Зарина',\n",
       " 'Захар',\n",
       " 'Злата',\n",
       " 'Иван',\n",
       " 'Игнат',\n",
       " 'Игорь',\n",
       " 'Ильдар',\n",
       " 'Илья',\n",
       " 'Инна',\n",
       " 'Ирина',\n",
       " 'Камилла',\n",
       " 'Карина',\n",
       " 'Каролина',\n",
       " 'Кира',\n",
       " 'Кирилл',\n",
       " 'Константин',\n",
       " 'Кристина',\n",
       " 'Ксения',\n",
       " 'Лариса',\n",
       " 'Лев',\n",
       " 'Леонид',\n",
       " 'Лиана',\n",
       " 'Лидия',\n",
       " 'Лилия',\n",
       " 'Любовь',\n",
       " 'Людмила',\n",
       " 'Мадина',\n",
       " 'Майя',\n",
       " 'Макар',\n",
       " 'Максим',\n",
       " 'Марат',\n",
       " 'Маргарита',\n",
       " 'Марина',\n",
       " 'Мария',\n",
       " 'Марк',\n",
       " 'Марсель',\n",
       " 'Матвей',\n",
       " 'Мелания',\n",
       " 'Милана',\n",
       " 'Милена',\n",
       " 'Мирон',\n",
       " 'Мирослав',\n",
       " 'Мирослава',\n",
       " 'Михаил',\n",
       " 'Назар',\n",
       " 'Наталия',\n",
       " 'Наталья',\n",
       " 'Наташа',\n",
       " 'Нелли',\n",
       " 'Ника',\n",
       " 'Никита',\n",
       " 'Николай',\n",
       " 'Нина',\n",
       " 'Одиссей',\n",
       " 'Оксана',\n",
       " 'Олег',\n",
       " 'Олеся',\n",
       " 'Ольга',\n",
       " 'Павел',\n",
       " 'Петр',\n",
       " 'Платон',\n",
       " 'Полина',\n",
       " 'Радмир',\n",
       " 'Рамиль',\n",
       " 'Регина',\n",
       " 'Роберт',\n",
       " 'Родион',\n",
       " 'Роман',\n",
       " 'Ростислав',\n",
       " 'Руслан',\n",
       " 'Рустам',\n",
       " 'Савелий',\n",
       " 'Самир',\n",
       " 'Самира',\n",
       " 'Светлана',\n",
       " 'Святогор',\n",
       " 'Святослав',\n",
       " 'Семен',\n",
       " 'Сергей',\n",
       " 'Снежана',\n",
       " 'София',\n",
       " 'Софья',\n",
       " 'Станислав',\n",
       " 'Степан',\n",
       " 'Стефания',\n",
       " 'Таисия',\n",
       " 'Тамара',\n",
       " 'Тамерлан',\n",
       " 'Татьяна',\n",
       " 'Тимофей',\n",
       " 'Тимур',\n",
       " 'Тихон',\n",
       " 'Ульяна',\n",
       " 'Федор',\n",
       " 'Эвелина',\n",
       " 'Эдуард',\n",
       " 'Элина',\n",
       " 'Эльвира',\n",
       " 'Эльмира',\n",
       " 'Эмилия',\n",
       " 'Эмиль',\n",
       " 'Юлиана',\n",
       " 'Юлия',\n",
       " 'Юрий',\n",
       " 'Ян',\n",
       " 'Яна',\n",
       " 'Яромир',\n",
       " 'Ярослав',\n",
       " 'Ярослава',\n",
       " 'Ясмина']"
      ]
     },
     "execution_count": 21,
     "metadata": {},
     "output_type": "execute_result"
    }
   ],
   "source": [
    "# Отсортируем перечень уникальных значений в столбце 'name' по алфавиту \n",
    "sorted(users['name'].unique())  "
   ]
  },
  {
   "cell_type": "code",
   "execution_count": 22,
   "id": "f0b21d90",
   "metadata": {},
   "outputs": [
    {
     "data": {
      "text/plain": [
       "['Екатеринбург',\n",
       " 'Краснодар',\n",
       " 'Москва',\n",
       " 'Омск',\n",
       " 'Пятигорск',\n",
       " 'Ростов-на-Дону',\n",
       " 'Сочи',\n",
       " 'Тюмень']"
      ]
     },
     "execution_count": 22,
     "metadata": {},
     "output_type": "execute_result"
    }
   ],
   "source": [
    "# Отсортируем перечень уникальных значений в столбце 'city' по алфавиту \n",
    "sorted(users['city'].unique())  "
   ]
  },
  {
   "cell_type": "markdown",
   "id": "8c18f4f8",
   "metadata": {},
   "source": [
    "Неявных дубликатов не обнаружено."
   ]
  },
  {
   "cell_type": "markdown",
   "id": "73d95758",
   "metadata": {},
   "source": [
    "***После предобработки данных названия всех столбцов датафрейма записаны в едином стиле, пропуски в данных отсутствуют, устранены дубликаты в таблице `users`. В таблицу `rides` добавлен столбец `month` с номером месяца на основе столбца `date`.***"
   ]
  },
  {
   "cell_type": "markdown",
   "id": "212593c7",
   "metadata": {},
   "source": [
    "## Исследовательский анализ данных"
   ]
  },
  {
   "cell_type": "markdown",
   "id": "50ff84ec",
   "metadata": {},
   "source": [
    "Изучим общую информацию о пользователях и поездках."
   ]
  },
  {
   "cell_type": "markdown",
   "id": "4a9fec2e",
   "metadata": {},
   "source": [
    "***3.1 Частота встречаемости городов.***"
   ]
  },
  {
   "cell_type": "code",
   "execution_count": 23,
   "id": "da3a289b-4b2d-4b4a-9cb9-2b8f32a9398b",
   "metadata": {},
   "outputs": [
    {
     "data": {
      "text/html": [
       "<div>\n",
       "<style scoped>\n",
       "    .dataframe tbody tr th:only-of-type {\n",
       "        vertical-align: middle;\n",
       "    }\n",
       "\n",
       "    .dataframe tbody tr th {\n",
       "        vertical-align: top;\n",
       "    }\n",
       "\n",
       "    .dataframe thead th {\n",
       "        text-align: right;\n",
       "    }\n",
       "</style>\n",
       "<table border=\"1\" class=\"dataframe\">\n",
       "  <thead>\n",
       "    <tr style=\"text-align: right;\">\n",
       "      <th></th>\n",
       "      <th>user_id</th>\n",
       "    </tr>\n",
       "    <tr>\n",
       "      <th>city</th>\n",
       "      <th></th>\n",
       "    </tr>\n",
       "  </thead>\n",
       "  <tbody>\n",
       "    <tr>\n",
       "      <th>Пятигорск</th>\n",
       "      <td>219</td>\n",
       "    </tr>\n",
       "    <tr>\n",
       "      <th>Екатеринбург</th>\n",
       "      <td>204</td>\n",
       "    </tr>\n",
       "    <tr>\n",
       "      <th>Ростов-на-Дону</th>\n",
       "      <td>198</td>\n",
       "    </tr>\n",
       "    <tr>\n",
       "      <th>Краснодар</th>\n",
       "      <td>193</td>\n",
       "    </tr>\n",
       "    <tr>\n",
       "      <th>Сочи</th>\n",
       "      <td>189</td>\n",
       "    </tr>\n",
       "    <tr>\n",
       "      <th>Омск</th>\n",
       "      <td>183</td>\n",
       "    </tr>\n",
       "    <tr>\n",
       "      <th>Тюмень</th>\n",
       "      <td>180</td>\n",
       "    </tr>\n",
       "    <tr>\n",
       "      <th>Москва</th>\n",
       "      <td>168</td>\n",
       "    </tr>\n",
       "  </tbody>\n",
       "</table>\n",
       "</div>"
      ],
      "text/plain": [
       "                user_id\n",
       "city                   \n",
       "Пятигорск           219\n",
       "Екатеринбург        204\n",
       "Ростов-на-Дону      198\n",
       "Краснодар           193\n",
       "Сочи                189\n",
       "Омск                183\n",
       "Тюмень              180\n",
       "Москва              168"
      ]
     },
     "execution_count": 23,
     "metadata": {},
     "output_type": "execute_result"
    }
   ],
   "source": [
    "# Сформируем сводную таблицу по количеству пользователей по городам, сортируя по убыванию количества пользователей\n",
    "city_rating = users.pivot_table(index = 'city', values = ['user_id'], aggfunc = 'count'\n",
    ").sort_values(by='user_id', ascending=False)\n",
    "city_rating"
   ]
  },
  {
   "cell_type": "code",
   "execution_count": 24,
   "id": "dec82ac4",
   "metadata": {},
   "outputs": [
    {
     "data": {
      "image/png": "[encoded data removed]",
      "text/plain": [
       "<Figure size 1200x500 with 1 Axes>"
      ]
     },
     "metadata": {},
     "output_type": "display_data"
    }
   ],
   "source": [
    "# строим гистограмму для столбца 'city' таблицы 'users'\n",
    "plt.figure(figsize=(12,5))\n",
    "plt.bar(city_rating.index, city_rating['user_id'])\n",
    "plt.title('Частота встречаемости городов', fontsize=12, fontweight=\"bold\")\n",
    "plt.xlabel('Город')\n",
    "plt.ylabel('Количество пользователей')\n",
    "plt.show()"
   ]
  },
  {
   "cell_type": "markdown",
   "id": "840fe42f",
   "metadata": {},
   "source": [
    "По имеющимся данным аренда самокатов наиболее востребована в Пятигорске, однако количество поездок в Пятигорске незначительно превышает аналогичный показатель по другим городам. Меньше всего поездок совершено в Москве (168). По остальным городам данные распределены с незначительным отклонением в диапазоне от 183 до 204. "
   ]
  },
  {
   "cell_type": "markdown",
   "id": "29a4a154",
   "metadata": {},
   "source": [
    "***3.2 Соотношение пользователей с подпиской и без подписки.***"
   ]
  },
  {
   "cell_type": "code",
   "execution_count": 25,
   "id": "72aa9d69",
   "metadata": {},
   "outputs": [
    {
     "data": {
      "image/png": "[encoded data removed]",
      "text/plain": [
       "<Figure size 400x400 with 1 Axes>"
      ]
     },
     "metadata": {},
     "output_type": "display_data"
    }
   ],
   "source": [
    "# строим круговую диаграмму для столбца 'subscription_type' таблицы 'users'\n",
    "users['subscription_type'].value_counts().plot(\n",
    "    kind = 'pie', \n",
    "    y = 'subscription_type', \n",
    "    autopct = '%1.0f%%', \n",
    "    figsize=(4,4),\n",
    "    title = 'Процентное соотношение пользователей в зависимости от тарифа');"
   ]
  },
  {
   "cell_type": "markdown",
   "id": "0e4bf138",
   "metadata": {},
   "source": [
    "Соотношение пользователей с подпиской и без подписки незначительно отклоняется в сторону пользователей без подписки.  \n",
    "54% всех поездок совершено без подписки."
   ]
  },
  {
   "cell_type": "markdown",
   "id": "15a04d07",
   "metadata": {},
   "source": [
    "***3.3 Возраст пользователей.***"
   ]
  },
  {
   "cell_type": "code",
   "execution_count": 26,
   "id": "4d3789e5",
   "metadata": {},
   "outputs": [
    {
     "data": {
      "text/plain": [
       "count    1534.000000\n",
       "mean       24.903520\n",
       "std         4.572367\n",
       "min        12.000000\n",
       "25%        22.000000\n",
       "50%        25.000000\n",
       "75%        28.000000\n",
       "max        43.000000\n",
       "Name: age, dtype: float64"
      ]
     },
     "execution_count": 26,
     "metadata": {},
     "output_type": "execute_result"
    }
   ],
   "source": [
    "# Изучим числовое описание столбца 'age' в таблице 'users' для определения параметров построения гистограммы\n",
    "users['age'].describe()"
   ]
  },
  {
   "cell_type": "code",
   "execution_count": 27,
   "id": "1c243730",
   "metadata": {},
   "outputs": [
    {
     "data": {
      "image/png": "[encoded data removed]",
      "text/plain": [
       "<Figure size 700x400 with 1 Axes>"
      ]
     },
     "metadata": {},
     "output_type": "display_data"
    }
   ],
   "source": [
    "# Cтроим гистограмму для столбца 'age' таблицы 'users'\n",
    "plt.figure(figsize=(7,4))\n",
    "plt.hist(users['age'], bins = 15, range=(12, 43))\n",
    "plt.title('Возраст пользователей', fontsize=12, fontweight=\"bold\")\n",
    "plt.xlabel('Возраст')\n",
    "plt.ylabel('Количество пользователей')\n",
    "plt.grid()\n",
    "plt.show()"
   ]
  },
  {
   "cell_type": "code",
   "execution_count": 28,
   "id": "c4c6f4c9",
   "metadata": {},
   "outputs": [
    {
     "data": {
      "text/plain": [
       "age\n",
       "25    145\n",
       "24    132\n",
       "26    131\n",
       "23    129\n",
       "22    119\n",
       "27    119\n",
       "28    112\n",
       "21     93\n",
       "20     71\n",
       "30     68\n",
       "Name: count, dtype: int64"
      ]
     },
     "execution_count": 28,
     "metadata": {},
     "output_type": "execute_result"
    }
   ],
   "source": [
    "# Bыясним количество пользователей, лидирующих по числу поездок, по возрастам\n",
    "users['age'].value_counts().head(10)"
   ]
  },
  {
   "cell_type": "markdown",
   "id": "4a66abc8",
   "metadata": {},
   "source": [
    "Распределение возраста пользователей близко к нормальному. Самые активные пользователи 22 - 28 лет. Медиана (25 лет) практически совпадает со средним значением. "
   ]
  },
  {
   "cell_type": "markdown",
   "id": "8ec0ae45",
   "metadata": {},
   "source": [
    "***3.4 Расстояние, которое пользователь преодолел за одну поездку.***"
   ]
  },
  {
   "cell_type": "code",
   "execution_count": 29,
   "id": "b6238f56",
   "metadata": {},
   "outputs": [
    {
     "data": {
      "text/plain": [
       "count    18068.000000\n",
       "mean      3070.659976\n",
       "std       1116.831209\n",
       "min          0.855683\n",
       "25%       2543.226360\n",
       "50%       3133.609994\n",
       "75%       3776.222735\n",
       "max       7211.007745\n",
       "Name: distance, dtype: float64"
      ]
     },
     "execution_count": 29,
     "metadata": {},
     "output_type": "execute_result"
    }
   ],
   "source": [
    "# Изучим числовое описание столбца 'distance' в таблице 'rides' \n",
    "rides['distance'].describe()"
   ]
  },
  {
   "cell_type": "code",
   "execution_count": 30,
   "id": "77ae2059",
   "metadata": {},
   "outputs": [
    {
     "data": {
      "image/png": "[encoded data removed]",
      "text/plain": [
       "<Figure size 700x400 with 1 Axes>"
      ]
     },
     "metadata": {},
     "output_type": "display_data"
    }
   ],
   "source": [
    "# Cтроим гистограмму для столбца 'distance' таблицы 'rides'\n",
    "plt.figure(figsize=(7,4))\n",
    "plt.hist(rides['distance'], bins = 30, range=(0, 7300))\n",
    "plt.title('Расстояние за одну поездку', fontsize=12, fontweight=\"bold\")\n",
    "plt.xlabel('Расстояние, м')\n",
    "plt.ylabel('Количество пользователей')\n",
    "plt.grid()\n",
    "plt.show()"
   ]
  },
  {
   "cell_type": "markdown",
   "id": "9572ea6d",
   "metadata": {},
   "source": [
    "Гистограмма расстояния имеет два пика: правый характерен для среднего расстояния 3134 м (медиана), левый для расстояния примерно 600 м. "
   ]
  },
  {
   "cell_type": "markdown",
   "id": "6f84f31f",
   "metadata": {},
   "source": [
    "***3.5 Продолжительность поездок.***"
   ]
  },
  {
   "cell_type": "code",
   "execution_count": 31,
   "id": "7f6ec110",
   "metadata": {},
   "outputs": [
    {
     "data": {
      "text/plain": [
       "count    18068.000000\n",
       "mean        17.805011\n",
       "std          6.091051\n",
       "min          0.500000\n",
       "25%         13.597563\n",
       "50%         17.678395\n",
       "75%         21.724800\n",
       "max         40.823963\n",
       "Name: duration, dtype: float64"
      ]
     },
     "execution_count": 31,
     "metadata": {},
     "output_type": "execute_result"
    }
   ],
   "source": [
    "# Изучим числовое описание столбца 'duration' в таблице 'rides' \n",
    "rides['duration'].describe()"
   ]
  },
  {
   "cell_type": "code",
   "execution_count": 32,
   "id": "4b20cba2",
   "metadata": {},
   "outputs": [
    {
     "data": {
      "image/png": "[encoded data removed]",
      "text/plain": [
       "<Figure size 700x400 with 1 Axes>"
      ]
     },
     "metadata": {},
     "output_type": "display_data"
    }
   ],
   "source": [
    "# Cтроим гистограмму для столбца 'duration' таблицы 'rides'\n",
    "plt.figure(figsize=(7,4))\n",
    "plt.hist(rides['duration'], bins = 20, range=(0, 41))\n",
    "plt.title('Продолжительность поездок', fontsize=12, fontweight=\"bold\")\n",
    "plt.xlabel('Продолжительность поездки, мин.')\n",
    "plt.ylabel('Количество пользователей')\n",
    "plt.grid()\n",
    "plt.show()"
   ]
  },
  {
   "cell_type": "markdown",
   "id": "6d3889df",
   "metadata": {},
   "source": [
    "Минимальная продолжительность поездки 0,5 минуты. Выясним какие поездки длились до 1 минуты, чтобы убедиться, короткие ли это поездки или какие-то сбои логирования.   "
   ]
  },
  {
   "cell_type": "code",
   "execution_count": 33,
   "id": "c1f4839e",
   "metadata": {},
   "outputs": [
    {
     "data": {
      "text/html": [
       "<div>\n",
       "<style scoped>\n",
       "    .dataframe tbody tr th:only-of-type {\n",
       "        vertical-align: middle;\n",
       "    }\n",
       "\n",
       "    .dataframe tbody tr th {\n",
       "        vertical-align: top;\n",
       "    }\n",
       "\n",
       "    .dataframe thead th {\n",
       "        text-align: right;\n",
       "    }\n",
       "</style>\n",
       "<table border=\"1\" class=\"dataframe\">\n",
       "  <thead>\n",
       "    <tr style=\"text-align: right;\">\n",
       "      <th></th>\n",
       "      <th>user_id</th>\n",
       "      <th>distance</th>\n",
       "      <th>duration</th>\n",
       "      <th>date</th>\n",
       "      <th>month</th>\n",
       "    </tr>\n",
       "  </thead>\n",
       "  <tbody>\n",
       "    <tr>\n",
       "      <th>16309</th>\n",
       "      <td>1411</td>\n",
       "      <td>7211.007745</td>\n",
       "      <td>0.5</td>\n",
       "      <td>2021-04-15</td>\n",
       "      <td>4</td>\n",
       "    </tr>\n",
       "    <tr>\n",
       "      <th>17242</th>\n",
       "      <td>1477</td>\n",
       "      <td>6724.932981</td>\n",
       "      <td>0.5</td>\n",
       "      <td>2021-01-12</td>\n",
       "      <td>1</td>\n",
       "    </tr>\n",
       "    <tr>\n",
       "      <th>11385</th>\n",
       "      <td>1057</td>\n",
       "      <td>6601.197575</td>\n",
       "      <td>0.5</td>\n",
       "      <td>2021-02-07</td>\n",
       "      <td>2</td>\n",
       "    </tr>\n",
       "    <tr>\n",
       "      <th>13701</th>\n",
       "      <td>1224</td>\n",
       "      <td>6414.516026</td>\n",
       "      <td>0.5</td>\n",
       "      <td>2021-07-15</td>\n",
       "      <td>7</td>\n",
       "    </tr>\n",
       "    <tr>\n",
       "      <th>14574</th>\n",
       "      <td>1285</td>\n",
       "      <td>6316.574814</td>\n",
       "      <td>0.5</td>\n",
       "      <td>2021-09-25</td>\n",
       "      <td>9</td>\n",
       "    </tr>\n",
       "    <tr>\n",
       "      <th>...</th>\n",
       "      <td>...</td>\n",
       "      <td>...</td>\n",
       "      <td>...</td>\n",
       "      <td>...</td>\n",
       "      <td>...</td>\n",
       "    </tr>\n",
       "    <tr>\n",
       "      <th>14342</th>\n",
       "      <td>1268</td>\n",
       "      <td>4177.139336</td>\n",
       "      <td>0.5</td>\n",
       "      <td>2021-06-09</td>\n",
       "      <td>6</td>\n",
       "    </tr>\n",
       "    <tr>\n",
       "      <th>9698</th>\n",
       "      <td>937</td>\n",
       "      <td>4169.066800</td>\n",
       "      <td>0.5</td>\n",
       "      <td>2021-12-12</td>\n",
       "      <td>12</td>\n",
       "    </tr>\n",
       "    <tr>\n",
       "      <th>10692</th>\n",
       "      <td>1006</td>\n",
       "      <td>4106.278268</td>\n",
       "      <td>0.5</td>\n",
       "      <td>2021-10-31</td>\n",
       "      <td>10</td>\n",
       "    </tr>\n",
       "    <tr>\n",
       "      <th>17909</th>\n",
       "      <td>1524</td>\n",
       "      <td>4103.998874</td>\n",
       "      <td>0.5</td>\n",
       "      <td>2021-06-18</td>\n",
       "      <td>6</td>\n",
       "    </tr>\n",
       "    <tr>\n",
       "      <th>15132</th>\n",
       "      <td>1325</td>\n",
       "      <td>4030.308008</td>\n",
       "      <td>0.5</td>\n",
       "      <td>2021-12-22</td>\n",
       "      <td>12</td>\n",
       "    </tr>\n",
       "  </tbody>\n",
       "</table>\n",
       "<p>95 rows × 5 columns</p>\n",
       "</div>"
      ],
      "text/plain": [
       "       user_id     distance  duration       date  month\n",
       "16309     1411  7211.007745       0.5 2021-04-15      4\n",
       "17242     1477  6724.932981       0.5 2021-01-12      1\n",
       "11385     1057  6601.197575       0.5 2021-02-07      2\n",
       "13701     1224  6414.516026       0.5 2021-07-15      7\n",
       "14574     1285  6316.574814       0.5 2021-09-25      9\n",
       "...        ...          ...       ...        ...    ...\n",
       "14342     1268  4177.139336       0.5 2021-06-09      6\n",
       "9698       937  4169.066800       0.5 2021-12-12     12\n",
       "10692     1006  4106.278268       0.5 2021-10-31     10\n",
       "17909     1524  4103.998874       0.5 2021-06-18      6\n",
       "15132     1325  4030.308008       0.5 2021-12-22     12\n",
       "\n",
       "[95 rows x 5 columns]"
      ]
     },
     "execution_count": 33,
     "metadata": {},
     "output_type": "execute_result"
    }
   ],
   "source": [
    "# Сформируем срез данных таблицы rides по времения меньше 2 минут и отсортируем его по убыванию расстояния\n",
    "min_duration = rides.query('duration <= 2.0').sort_values(by = 'distance', ascending = False)\n",
    "min_duration"
   ]
  },
  {
   "cell_type": "code",
   "execution_count": 34,
   "id": "b73ed764",
   "metadata": {},
   "outputs": [
    {
     "data": {
      "text/plain": [
       "array([0.5])"
      ]
     },
     "execution_count": 34,
     "metadata": {},
     "output_type": "execute_result"
    }
   ],
   "source": [
    "# Выведем уникальные значения столбца 'duration' таблицы 'min_duration'\n",
    "min_duration['duration'].unique()"
   ]
  },
  {
   "cell_type": "code",
   "execution_count": 35,
   "id": "c33cfe6c",
   "metadata": {},
   "outputs": [
    {
     "data": {
      "text/plain": [
       "95"
      ]
     },
     "execution_count": 35,
     "metadata": {},
     "output_type": "execute_result"
    }
   ],
   "source": [
    "# Вычислим количество строк, в которых время поездки равно 0.5 мин.\n",
    "rides.query('duration == 0.5')['user_id'].count()"
   ]
  },
  {
   "cell_type": "code",
   "execution_count": 36,
   "id": "a5d7bed1",
   "metadata": {},
   "outputs": [
    {
     "data": {
      "text/plain": [
       "0.005257914545052026"
      ]
     },
     "execution_count": 36,
     "metadata": {},
     "output_type": "execute_result"
    }
   ],
   "source": [
    "# Доля строк, в которых время поездки равно 0.5 мин.\n",
    "rides.query('duration == 0.5')['user_id'].count() / rides['duration'].count()"
   ]
  },
  {
   "cell_type": "markdown",
   "id": "e65528d6",
   "metadata": {},
   "source": [
    "Все поездки меньше 2 минут зафиксированы как 0,5 мин. В то же время, расстояние, пройденное за это время варьируется от 4030 м до 7211 м. Скорость самоката должна быть в этом случае 240 м/с, что нереально.   \n",
    "Поездки продолжительностью 0.5 минут, вероятно, сбои логирования. Их доля от общего количества меньше 1%.   "
   ]
  },
  {
   "cell_type": "markdown",
   "id": "aae68927",
   "metadata": {},
   "source": [
    "Среднее значение и медиана близки к 18 минутам (17.8 и 17.7 соответственно). Продолжительность большей части поездок находится в диапазоне от 13 до 22 минут. "
   ]
  },
  {
   "cell_type": "markdown",
   "id": "f1caa754",
   "metadata": {},
   "source": [
    "***Вывод:*** Наиболее типично использование самокатов для поездок на расстояние 3 км со средним временем использования 18 минут.  Самые активные пользователи 22 - 28 лет, что вполне объяснимо наличием собственных средств для оптимизации передвижения.   \n",
    "Большинство пользователей пользуются арендой самоката без подписки.   \n",
    "Наибольшее количество поездок совершается в городах с наиболее продолжительным теплым временем года (Пятигорск, Краснодар, Сочи), однако различие по территориальному признаку незначительно."
   ]
  },
  {
   "cell_type": "markdown",
   "id": "4ef51331",
   "metadata": {},
   "source": [
    "## Объединение данных"
   ]
  },
  {
   "cell_type": "markdown",
   "id": "6b052fab",
   "metadata": {},
   "source": [
    "***4.1 Объединим данные о пользователях, поездках и подписках в один датафрейм `data_total`.*** "
   ]
  },
  {
   "cell_type": "code",
   "execution_count": 37,
   "id": "0129777f",
   "metadata": {},
   "outputs": [],
   "source": [
    "# Объединим методом merge() данные из таблиц 'users', 'rides' и 'subscriptions'\n",
    "data_total = users.merge(rides) \n",
    "data_total = data_total.merge(subscriptions) "
   ]
  },
  {
   "cell_type": "code",
   "execution_count": 38,
   "id": "85cc7b78",
   "metadata": {},
   "outputs": [],
   "source": [
    "# Заменим значения в столбце 'duration' на значения, округленные в большую сторону\n",
    "data_total['duration'] = np.ceil(data_total['duration'])"
   ]
  },
  {
   "cell_type": "code",
   "execution_count": 39,
   "id": "fffb5580",
   "metadata": {},
   "outputs": [
    {
     "data": {
      "text/html": [
       "<div>\n",
       "<style scoped>\n",
       "    .dataframe tbody tr th:only-of-type {\n",
       "        vertical-align: middle;\n",
       "    }\n",
       "\n",
       "    .dataframe tbody tr th {\n",
       "        vertical-align: top;\n",
       "    }\n",
       "\n",
       "    .dataframe thead th {\n",
       "        text-align: right;\n",
       "    }\n",
       "</style>\n",
       "<table border=\"1\" class=\"dataframe\">\n",
       "  <thead>\n",
       "    <tr style=\"text-align: right;\">\n",
       "      <th></th>\n",
       "      <th>user_id</th>\n",
       "      <th>name</th>\n",
       "      <th>age</th>\n",
       "      <th>city</th>\n",
       "      <th>subscription_type</th>\n",
       "      <th>distance</th>\n",
       "      <th>duration</th>\n",
       "      <th>date</th>\n",
       "      <th>month</th>\n",
       "      <th>minute_price</th>\n",
       "      <th>start_ride_price</th>\n",
       "      <th>subscription_fee</th>\n",
       "    </tr>\n",
       "  </thead>\n",
       "  <tbody>\n",
       "    <tr>\n",
       "      <th>0</th>\n",
       "      <td>1</td>\n",
       "      <td>Кира</td>\n",
       "      <td>22</td>\n",
       "      <td>Тюмень</td>\n",
       "      <td>ultra</td>\n",
       "      <td>4409.919140</td>\n",
       "      <td>26.0</td>\n",
       "      <td>2021-01-01</td>\n",
       "      <td>1</td>\n",
       "      <td>6</td>\n",
       "      <td>0</td>\n",
       "      <td>199</td>\n",
       "    </tr>\n",
       "    <tr>\n",
       "      <th>1</th>\n",
       "      <td>1</td>\n",
       "      <td>Кира</td>\n",
       "      <td>22</td>\n",
       "      <td>Тюмень</td>\n",
       "      <td>ultra</td>\n",
       "      <td>2617.592153</td>\n",
       "      <td>16.0</td>\n",
       "      <td>2021-01-18</td>\n",
       "      <td>1</td>\n",
       "      <td>6</td>\n",
       "      <td>0</td>\n",
       "      <td>199</td>\n",
       "    </tr>\n",
       "    <tr>\n",
       "      <th>2</th>\n",
       "      <td>1</td>\n",
       "      <td>Кира</td>\n",
       "      <td>22</td>\n",
       "      <td>Тюмень</td>\n",
       "      <td>ultra</td>\n",
       "      <td>754.159807</td>\n",
       "      <td>7.0</td>\n",
       "      <td>2021-04-20</td>\n",
       "      <td>4</td>\n",
       "      <td>6</td>\n",
       "      <td>0</td>\n",
       "      <td>199</td>\n",
       "    </tr>\n",
       "    <tr>\n",
       "      <th>3</th>\n",
       "      <td>1</td>\n",
       "      <td>Кира</td>\n",
       "      <td>22</td>\n",
       "      <td>Тюмень</td>\n",
       "      <td>ultra</td>\n",
       "      <td>2694.783254</td>\n",
       "      <td>19.0</td>\n",
       "      <td>2021-08-11</td>\n",
       "      <td>8</td>\n",
       "      <td>6</td>\n",
       "      <td>0</td>\n",
       "      <td>199</td>\n",
       "    </tr>\n",
       "    <tr>\n",
       "      <th>4</th>\n",
       "      <td>1</td>\n",
       "      <td>Кира</td>\n",
       "      <td>22</td>\n",
       "      <td>Тюмень</td>\n",
       "      <td>ultra</td>\n",
       "      <td>4028.687306</td>\n",
       "      <td>27.0</td>\n",
       "      <td>2021-08-28</td>\n",
       "      <td>8</td>\n",
       "      <td>6</td>\n",
       "      <td>0</td>\n",
       "      <td>199</td>\n",
       "    </tr>\n",
       "    <tr>\n",
       "      <th>...</th>\n",
       "      <td>...</td>\n",
       "      <td>...</td>\n",
       "      <td>...</td>\n",
       "      <td>...</td>\n",
       "      <td>...</td>\n",
       "      <td>...</td>\n",
       "      <td>...</td>\n",
       "      <td>...</td>\n",
       "      <td>...</td>\n",
       "      <td>...</td>\n",
       "      <td>...</td>\n",
       "      <td>...</td>\n",
       "    </tr>\n",
       "    <tr>\n",
       "      <th>18063</th>\n",
       "      <td>1534</td>\n",
       "      <td>Альберт</td>\n",
       "      <td>25</td>\n",
       "      <td>Краснодар</td>\n",
       "      <td>free</td>\n",
       "      <td>3781.098080</td>\n",
       "      <td>20.0</td>\n",
       "      <td>2021-11-04</td>\n",
       "      <td>11</td>\n",
       "      <td>8</td>\n",
       "      <td>50</td>\n",
       "      <td>0</td>\n",
       "    </tr>\n",
       "    <tr>\n",
       "      <th>18064</th>\n",
       "      <td>1534</td>\n",
       "      <td>Альберт</td>\n",
       "      <td>25</td>\n",
       "      <td>Краснодар</td>\n",
       "      <td>free</td>\n",
       "      <td>2840.423057</td>\n",
       "      <td>22.0</td>\n",
       "      <td>2021-11-16</td>\n",
       "      <td>11</td>\n",
       "      <td>8</td>\n",
       "      <td>50</td>\n",
       "      <td>0</td>\n",
       "    </tr>\n",
       "    <tr>\n",
       "      <th>18065</th>\n",
       "      <td>1534</td>\n",
       "      <td>Альберт</td>\n",
       "      <td>25</td>\n",
       "      <td>Краснодар</td>\n",
       "      <td>free</td>\n",
       "      <td>3826.185507</td>\n",
       "      <td>19.0</td>\n",
       "      <td>2021-11-18</td>\n",
       "      <td>11</td>\n",
       "      <td>8</td>\n",
       "      <td>50</td>\n",
       "      <td>0</td>\n",
       "    </tr>\n",
       "    <tr>\n",
       "      <th>18066</th>\n",
       "      <td>1534</td>\n",
       "      <td>Альберт</td>\n",
       "      <td>25</td>\n",
       "      <td>Краснодар</td>\n",
       "      <td>free</td>\n",
       "      <td>2902.308661</td>\n",
       "      <td>17.0</td>\n",
       "      <td>2021-11-27</td>\n",
       "      <td>11</td>\n",
       "      <td>8</td>\n",
       "      <td>50</td>\n",
       "      <td>0</td>\n",
       "    </tr>\n",
       "    <tr>\n",
       "      <th>18067</th>\n",
       "      <td>1534</td>\n",
       "      <td>Альберт</td>\n",
       "      <td>25</td>\n",
       "      <td>Краснодар</td>\n",
       "      <td>free</td>\n",
       "      <td>2371.711192</td>\n",
       "      <td>16.0</td>\n",
       "      <td>2021-12-29</td>\n",
       "      <td>12</td>\n",
       "      <td>8</td>\n",
       "      <td>50</td>\n",
       "      <td>0</td>\n",
       "    </tr>\n",
       "  </tbody>\n",
       "</table>\n",
       "<p>18068 rows × 12 columns</p>\n",
       "</div>"
      ],
      "text/plain": [
       "       user_id     name  age       city subscription_type     distance  \\\n",
       "0            1     Кира   22     Тюмень             ultra  4409.919140   \n",
       "1            1     Кира   22     Тюмень             ultra  2617.592153   \n",
       "2            1     Кира   22     Тюмень             ultra   754.159807   \n",
       "3            1     Кира   22     Тюмень             ultra  2694.783254   \n",
       "4            1     Кира   22     Тюмень             ultra  4028.687306   \n",
       "...        ...      ...  ...        ...               ...          ...   \n",
       "18063     1534  Альберт   25  Краснодар              free  3781.098080   \n",
       "18064     1534  Альберт   25  Краснодар              free  2840.423057   \n",
       "18065     1534  Альберт   25  Краснодар              free  3826.185507   \n",
       "18066     1534  Альберт   25  Краснодар              free  2902.308661   \n",
       "18067     1534  Альберт   25  Краснодар              free  2371.711192   \n",
       "\n",
       "       duration       date  month  minute_price  start_ride_price  \\\n",
       "0          26.0 2021-01-01      1             6                 0   \n",
       "1          16.0 2021-01-18      1             6                 0   \n",
       "2           7.0 2021-04-20      4             6                 0   \n",
       "3          19.0 2021-08-11      8             6                 0   \n",
       "4          27.0 2021-08-28      8             6                 0   \n",
       "...         ...        ...    ...           ...               ...   \n",
       "18063      20.0 2021-11-04     11             8                50   \n",
       "18064      22.0 2021-11-16     11             8                50   \n",
       "18065      19.0 2021-11-18     11             8                50   \n",
       "18066      17.0 2021-11-27     11             8                50   \n",
       "18067      16.0 2021-12-29     12             8                50   \n",
       "\n",
       "       subscription_fee  \n",
       "0                   199  \n",
       "1                   199  \n",
       "2                   199  \n",
       "3                   199  \n",
       "4                   199  \n",
       "...                 ...  \n",
       "18063                 0  \n",
       "18064                 0  \n",
       "18065                 0  \n",
       "18066                 0  \n",
       "18067                 0  \n",
       "\n",
       "[18068 rows x 12 columns]"
      ]
     },
     "execution_count": 39,
     "metadata": {},
     "output_type": "execute_result"
    }
   ],
   "source": [
    "data_total"
   ]
  },
  {
   "cell_type": "code",
   "execution_count": 40,
   "id": "b8dece03",
   "metadata": {},
   "outputs": [
    {
     "data": {
      "text/plain": [
       "user_id              0\n",
       "name                 0\n",
       "age                  0\n",
       "city                 0\n",
       "subscription_type    0\n",
       "distance             0\n",
       "duration             0\n",
       "date                 0\n",
       "month                0\n",
       "minute_price         0\n",
       "start_ride_price     0\n",
       "subscription_fee     0\n",
       "dtype: int64"
      ]
     },
     "execution_count": 40,
     "metadata": {},
     "output_type": "execute_result"
    }
   ],
   "source": [
    "# Проверим, что после соединения таблиц не возникли пропуски \n",
    "data_total.isna().sum()"
   ]
  },
  {
   "cell_type": "code",
   "execution_count": 41,
   "id": "0d4ec458",
   "metadata": {},
   "outputs": [
    {
     "name": "stdout",
     "output_type": "stream",
     "text": [
      "<class 'pandas.core.frame.DataFrame'>\n",
      "RangeIndex: 18068 entries, 0 to 18067\n",
      "Data columns (total 12 columns):\n",
      " #   Column             Non-Null Count  Dtype         \n",
      "---  ------             --------------  -----         \n",
      " 0   user_id            18068 non-null  int64         \n",
      " 1   name               18068 non-null  object        \n",
      " 2   age                18068 non-null  int64         \n",
      " 3   city               18068 non-null  object        \n",
      " 4   subscription_type  18068 non-null  object        \n",
      " 5   distance           18068 non-null  float64       \n",
      " 6   duration           18068 non-null  float64       \n",
      " 7   date               18068 non-null  datetime64[ns]\n",
      " 8   month              18068 non-null  int32         \n",
      " 9   minute_price       18068 non-null  int64         \n",
      " 10  start_ride_price   18068 non-null  int64         \n",
      " 11  subscription_fee   18068 non-null  int64         \n",
      "dtypes: datetime64[ns](1), float64(2), int32(1), int64(5), object(3)\n",
      "memory usage: 1.6+ MB\n"
     ]
    }
   ],
   "source": [
    "data_total.info()"
   ]
  },
  {
   "cell_type": "markdown",
   "id": "bcbd0ac0",
   "metadata": {},
   "source": [
    "После объединения таблиц пропусков не возникло, размер таблицы соответствует ожиданиям."
   ]
  },
  {
   "cell_type": "markdown",
   "id": "961d3351",
   "metadata": {},
   "source": [
    "***4.2 Создадим два датафрейма `data_ultra` и `data_free` из датафрейма `data_total`:   \n",
    "  c данными о пользователях без подписки и с данными о пользователях с подпиской.***"
   ]
  },
  {
   "cell_type": "code",
   "execution_count": 42,
   "id": "e74e21c6",
   "metadata": {},
   "outputs": [],
   "source": [
    "# в таблице 'data_ultra' сохраним срез данных таблицы 'data' по значению 'ultra' столбца 'subscription_type'\n",
    "data_ultra = data_total.query('subscription_type == \"ultra\"')"
   ]
  },
  {
   "cell_type": "code",
   "execution_count": 43,
   "id": "062cf1bb",
   "metadata": {},
   "outputs": [
    {
     "data": {
      "text/html": [
       "<div>\n",
       "<style scoped>\n",
       "    .dataframe tbody tr th:only-of-type {\n",
       "        vertical-align: middle;\n",
       "    }\n",
       "\n",
       "    .dataframe tbody tr th {\n",
       "        vertical-align: top;\n",
       "    }\n",
       "\n",
       "    .dataframe thead th {\n",
       "        text-align: right;\n",
       "    }\n",
       "</style>\n",
       "<table border=\"1\" class=\"dataframe\">\n",
       "  <thead>\n",
       "    <tr style=\"text-align: right;\">\n",
       "      <th></th>\n",
       "      <th>user_id</th>\n",
       "      <th>name</th>\n",
       "      <th>age</th>\n",
       "      <th>city</th>\n",
       "      <th>subscription_type</th>\n",
       "      <th>distance</th>\n",
       "      <th>duration</th>\n",
       "      <th>date</th>\n",
       "      <th>month</th>\n",
       "      <th>minute_price</th>\n",
       "      <th>start_ride_price</th>\n",
       "      <th>subscription_fee</th>\n",
       "    </tr>\n",
       "  </thead>\n",
       "  <tbody>\n",
       "    <tr>\n",
       "      <th>0</th>\n",
       "      <td>1</td>\n",
       "      <td>Кира</td>\n",
       "      <td>22</td>\n",
       "      <td>Тюмень</td>\n",
       "      <td>ultra</td>\n",
       "      <td>4409.919140</td>\n",
       "      <td>26.0</td>\n",
       "      <td>2021-01-01</td>\n",
       "      <td>1</td>\n",
       "      <td>6</td>\n",
       "      <td>0</td>\n",
       "      <td>199</td>\n",
       "    </tr>\n",
       "    <tr>\n",
       "      <th>1</th>\n",
       "      <td>1</td>\n",
       "      <td>Кира</td>\n",
       "      <td>22</td>\n",
       "      <td>Тюмень</td>\n",
       "      <td>ultra</td>\n",
       "      <td>2617.592153</td>\n",
       "      <td>16.0</td>\n",
       "      <td>2021-01-18</td>\n",
       "      <td>1</td>\n",
       "      <td>6</td>\n",
       "      <td>0</td>\n",
       "      <td>199</td>\n",
       "    </tr>\n",
       "    <tr>\n",
       "      <th>2</th>\n",
       "      <td>1</td>\n",
       "      <td>Кира</td>\n",
       "      <td>22</td>\n",
       "      <td>Тюмень</td>\n",
       "      <td>ultra</td>\n",
       "      <td>754.159807</td>\n",
       "      <td>7.0</td>\n",
       "      <td>2021-04-20</td>\n",
       "      <td>4</td>\n",
       "      <td>6</td>\n",
       "      <td>0</td>\n",
       "      <td>199</td>\n",
       "    </tr>\n",
       "    <tr>\n",
       "      <th>3</th>\n",
       "      <td>1</td>\n",
       "      <td>Кира</td>\n",
       "      <td>22</td>\n",
       "      <td>Тюмень</td>\n",
       "      <td>ultra</td>\n",
       "      <td>2694.783254</td>\n",
       "      <td>19.0</td>\n",
       "      <td>2021-08-11</td>\n",
       "      <td>8</td>\n",
       "      <td>6</td>\n",
       "      <td>0</td>\n",
       "      <td>199</td>\n",
       "    </tr>\n",
       "    <tr>\n",
       "      <th>4</th>\n",
       "      <td>1</td>\n",
       "      <td>Кира</td>\n",
       "      <td>22</td>\n",
       "      <td>Тюмень</td>\n",
       "      <td>ultra</td>\n",
       "      <td>4028.687306</td>\n",
       "      <td>27.0</td>\n",
       "      <td>2021-08-28</td>\n",
       "      <td>8</td>\n",
       "      <td>6</td>\n",
       "      <td>0</td>\n",
       "      <td>199</td>\n",
       "    </tr>\n",
       "  </tbody>\n",
       "</table>\n",
       "</div>"
      ],
      "text/plain": [
       "   user_id  name  age    city subscription_type     distance  duration  \\\n",
       "0        1  Кира   22  Тюмень             ultra  4409.919140      26.0   \n",
       "1        1  Кира   22  Тюмень             ultra  2617.592153      16.0   \n",
       "2        1  Кира   22  Тюмень             ultra   754.159807       7.0   \n",
       "3        1  Кира   22  Тюмень             ultra  2694.783254      19.0   \n",
       "4        1  Кира   22  Тюмень             ultra  4028.687306      27.0   \n",
       "\n",
       "        date  month  minute_price  start_ride_price  subscription_fee  \n",
       "0 2021-01-01      1             6                 0               199  \n",
       "1 2021-01-18      1             6                 0               199  \n",
       "2 2021-04-20      4             6                 0               199  \n",
       "3 2021-08-11      8             6                 0               199  \n",
       "4 2021-08-28      8             6                 0               199  "
      ]
     },
     "execution_count": 43,
     "metadata": {},
     "output_type": "execute_result"
    }
   ],
   "source": [
    "data_ultra.head()"
   ]
  },
  {
   "cell_type": "code",
   "execution_count": 44,
   "id": "4abe6c8e",
   "metadata": {},
   "outputs": [],
   "source": [
    "# в таблице 'data_free' сохраним срез данных таблицы 'data_total' по значению 'free' столбца 'subscription_type'\n",
    "data_free = data_total.query('subscription_type == \"free\"')"
   ]
  },
  {
   "cell_type": "code",
   "execution_count": 45,
   "id": "b6ff8c02",
   "metadata": {},
   "outputs": [
    {
     "data": {
      "text/html": [
       "<div>\n",
       "<style scoped>\n",
       "    .dataframe tbody tr th:only-of-type {\n",
       "        vertical-align: middle;\n",
       "    }\n",
       "\n",
       "    .dataframe tbody tr th {\n",
       "        vertical-align: top;\n",
       "    }\n",
       "\n",
       "    .dataframe thead th {\n",
       "        text-align: right;\n",
       "    }\n",
       "</style>\n",
       "<table border=\"1\" class=\"dataframe\">\n",
       "  <thead>\n",
       "    <tr style=\"text-align: right;\">\n",
       "      <th></th>\n",
       "      <th>user_id</th>\n",
       "      <th>name</th>\n",
       "      <th>age</th>\n",
       "      <th>city</th>\n",
       "      <th>subscription_type</th>\n",
       "      <th>distance</th>\n",
       "      <th>duration</th>\n",
       "      <th>date</th>\n",
       "      <th>month</th>\n",
       "      <th>minute_price</th>\n",
       "      <th>start_ride_price</th>\n",
       "      <th>subscription_fee</th>\n",
       "    </tr>\n",
       "  </thead>\n",
       "  <tbody>\n",
       "    <tr>\n",
       "      <th>6500</th>\n",
       "      <td>700</td>\n",
       "      <td>Айдар</td>\n",
       "      <td>22</td>\n",
       "      <td>Омск</td>\n",
       "      <td>free</td>\n",
       "      <td>2515.690719</td>\n",
       "      <td>15.0</td>\n",
       "      <td>2021-01-02</td>\n",
       "      <td>1</td>\n",
       "      <td>8</td>\n",
       "      <td>50</td>\n",
       "      <td>0</td>\n",
       "    </tr>\n",
       "    <tr>\n",
       "      <th>6501</th>\n",
       "      <td>700</td>\n",
       "      <td>Айдар</td>\n",
       "      <td>22</td>\n",
       "      <td>Омск</td>\n",
       "      <td>free</td>\n",
       "      <td>846.932642</td>\n",
       "      <td>17.0</td>\n",
       "      <td>2021-02-01</td>\n",
       "      <td>2</td>\n",
       "      <td>8</td>\n",
       "      <td>50</td>\n",
       "      <td>0</td>\n",
       "    </tr>\n",
       "    <tr>\n",
       "      <th>6502</th>\n",
       "      <td>700</td>\n",
       "      <td>Айдар</td>\n",
       "      <td>22</td>\n",
       "      <td>Омск</td>\n",
       "      <td>free</td>\n",
       "      <td>4004.434142</td>\n",
       "      <td>21.0</td>\n",
       "      <td>2021-02-04</td>\n",
       "      <td>2</td>\n",
       "      <td>8</td>\n",
       "      <td>50</td>\n",
       "      <td>0</td>\n",
       "    </tr>\n",
       "    <tr>\n",
       "      <th>6503</th>\n",
       "      <td>700</td>\n",
       "      <td>Айдар</td>\n",
       "      <td>22</td>\n",
       "      <td>Омск</td>\n",
       "      <td>free</td>\n",
       "      <td>1205.911290</td>\n",
       "      <td>10.0</td>\n",
       "      <td>2021-02-10</td>\n",
       "      <td>2</td>\n",
       "      <td>8</td>\n",
       "      <td>50</td>\n",
       "      <td>0</td>\n",
       "    </tr>\n",
       "    <tr>\n",
       "      <th>6504</th>\n",
       "      <td>700</td>\n",
       "      <td>Айдар</td>\n",
       "      <td>22</td>\n",
       "      <td>Омск</td>\n",
       "      <td>free</td>\n",
       "      <td>3047.379435</td>\n",
       "      <td>18.0</td>\n",
       "      <td>2021-02-14</td>\n",
       "      <td>2</td>\n",
       "      <td>8</td>\n",
       "      <td>50</td>\n",
       "      <td>0</td>\n",
       "    </tr>\n",
       "  </tbody>\n",
       "</table>\n",
       "</div>"
      ],
      "text/plain": [
       "      user_id   name  age  city subscription_type     distance  duration  \\\n",
       "6500      700  Айдар   22  Омск              free  2515.690719      15.0   \n",
       "6501      700  Айдар   22  Омск              free   846.932642      17.0   \n",
       "6502      700  Айдар   22  Омск              free  4004.434142      21.0   \n",
       "6503      700  Айдар   22  Омск              free  1205.911290      10.0   \n",
       "6504      700  Айдар   22  Омск              free  3047.379435      18.0   \n",
       "\n",
       "           date  month  minute_price  start_ride_price  subscription_fee  \n",
       "6500 2021-01-02      1             8                50                 0  \n",
       "6501 2021-02-01      2             8                50                 0  \n",
       "6502 2021-02-04      2             8                50                 0  \n",
       "6503 2021-02-10      2             8                50                 0  \n",
       "6504 2021-02-14      2             8                50                 0  "
      ]
     },
     "execution_count": 45,
     "metadata": {},
     "output_type": "execute_result"
    }
   ],
   "source": [
    "data_free.head()"
   ]
  },
  {
   "cell_type": "markdown",
   "id": "e2c7cd86",
   "metadata": {},
   "source": [
    "***4.3 Визуализируем информацию о расстоянии и времени поездок для пользователей обеих категорий.***"
   ]
  },
  {
   "cell_type": "code",
   "execution_count": 46,
   "id": "3d94e1d7",
   "metadata": {},
   "outputs": [
    {
     "data": {
      "image/png": "[encoded data removed]",
      "text/plain": [
       "<Figure size 900x500 with 1 Axes>"
      ]
     },
     "metadata": {},
     "output_type": "display_data"
    }
   ],
   "source": [
    "# построим в одной системе координат гистограмму для data_ultra['distance']  в сравнении с data_free['distance']\n",
    "plt.figure(figsize=(9,5))\n",
    "ax = data_free['distance'].plot(\n",
    "    kind='hist', \n",
    "    y='distance', \n",
    "    range=(0, 7300),\n",
    "    bins=30, \n",
    "    linewidth=5,\n",
    "    alpha=0.6, \n",
    "    label='Расстояние пользователей без подписки.',\n",
    "    legend=True\n",
    ")\n",
    "data_ultra['distance'].plot(\n",
    "    kind='hist', \n",
    "    y='distance', \n",
    "    range=(0, 7300), \n",
    "    bins=30, \n",
    "    linewidth=5, \n",
    "    alpha=0.5, \n",
    "    label='Расстояние пользователей с подпиской',\n",
    "    ax=ax, \n",
    "    grid=True, \n",
    "    legend=True)\n",
    "plt.title('Расстояние за одну поездку', fontsize=12, fontweight=\"bold\")\n",
    "plt.xlabel('Расстояние, м', fontsize=12)\n",
    "plt.ylabel('Количество пользователей', fontsize=12)\n",
    "plt.grid(True)\n",
    "plt.show()"
   ]
  },
  {
   "cell_type": "markdown",
   "id": "9b14962b",
   "metadata": {},
   "source": [
    "Пользователи с подпиской чаще всего передвигаются на расстояние от 2500 м до 3600 м.  \n",
    "Пользователей без подписки, передвигающихся на самокате на расстояние больше 3 км, больше, чем пользователей с подпиской. Большинство пользователей без подписки передвигаются на расстояние от 2000 м до 4500 м."
   ]
  },
  {
   "cell_type": "code",
   "execution_count": 47,
   "id": "e8be5979",
   "metadata": {},
   "outputs": [
    {
     "data": {
      "image/png": "[encoded data removed]",
      "text/plain": [
       "<Figure size 900x500 with 1 Axes>"
      ]
     },
     "metadata": {},
     "output_type": "display_data"
    }
   ],
   "source": [
    "# построим в одной системе координат гистограмму для data_ultra['distance']  в сравнении с data_free['distance']\n",
    "plt.figure(figsize=(9,5))\n",
    "ax = data_free['duration'].plot(\n",
    "    kind='hist', \n",
    "    y='distance', \n",
    "    range=(0, 41),\n",
    "    bins=20, \n",
    "    linewidth=5,\n",
    "    alpha=0.6, \n",
    "    label='Время пользователей без подписки.',\n",
    "    legend=True\n",
    ")\n",
    "data_ultra['duration'].plot(\n",
    "    kind='hist', \n",
    "    y='distance', \n",
    "    range=(0, 41), \n",
    "    bins=20, \n",
    "    linewidth=5, \n",
    "    alpha=0.5, \n",
    "    label='Время пользователей с подпиской',\n",
    "    ax=ax, \n",
    "    grid=True, \n",
    "    legend=True)\n",
    "plt.title('Время поездок', fontsize=12, fontweight=\"bold\")\n",
    "plt.xlabel('Время поездки, мин.', fontsize=12)\n",
    "plt.ylabel('Количество пользователей', fontsize=12)\n",
    "plt.grid(True)\n",
    "plt.show()"
   ]
  },
  {
   "cell_type": "code",
   "execution_count": 48,
   "id": "068721de",
   "metadata": {},
   "outputs": [
    {
     "data": {
      "text/plain": [
       "count    6500.000000\n",
       "mean       19.037692\n",
       "std         5.577439\n",
       "min         4.000000\n",
       "25%        15.000000\n",
       "50%        19.000000\n",
       "75%        22.000000\n",
       "max        41.000000\n",
       "Name: duration, dtype: float64"
      ]
     },
     "execution_count": 48,
     "metadata": {},
     "output_type": "execute_result"
    }
   ],
   "source": [
    "# Изучим числовое описание столбца 'duration' в таблице 'data_ultra' \n",
    "data_ultra['duration'].describe()"
   ]
  },
  {
   "cell_type": "code",
   "execution_count": 49,
   "id": "46a113eb",
   "metadata": {},
   "outputs": [
    {
     "data": {
      "text/plain": [
       "count    11568.000000\n",
       "mean        17.890992\n",
       "std          6.330250\n",
       "min          1.000000\n",
       "25%         13.000000\n",
       "50%         18.000000\n",
       "75%         22.000000\n",
       "max         35.000000\n",
       "Name: duration, dtype: float64"
      ]
     },
     "execution_count": 49,
     "metadata": {},
     "output_type": "execute_result"
    }
   ],
   "source": [
    "# Изучим числовое описание столбца 'duration' в таблице 'data_free' \n",
    "data_free['duration'].describe()"
   ]
  },
  {
   "cell_type": "markdown",
   "id": "e45de51b",
   "metadata": {},
   "source": [
    "Пользователи с подпиской в среднем тратят на поездку на 1 мин. больше, чем пользователи без подписки.   \n",
    "У пользователей с подпиской время использования самоката находиться в промежутке от 3.8 до 40.8 минут, в то время, как аналогичный показатель у пользователей без подписки составляет от 2 до 34.9 минут (Поездки продолжительностья 0.5 минут вероятно сбои логирования). "
   ]
  },
  {
   "cell_type": "markdown",
   "id": "f50099df",
   "metadata": {},
   "source": [
    "***Вывод:***   \n",
    "Объединили данные о пользователях, поездках и подписках в один датафрейм `data_total` и создали на его основе два датафрейма:  \n",
    "- `data_ultra` с данными о пользователях с подпиской;  \n",
    "- `data_free` с данными о пользователях без подписки.  \n",
    "\n",
    "Визуализировали информацию о расстоянии и времени поездок для пользователей каждой категории.  \n",
    "  \n",
    "Пользователи с подпиской совершают более длительные поездки и проезжают в среднем 3 км. Пользователи без подписки стараются минимизировать время использования самоката, но расстояние преодолевают большее, тем самым увеличивая скорость передвижения, что может представлять угрозу для остальных участников дорожного движения."
   ]
  },
  {
   "cell_type": "markdown",
   "id": "402d620f",
   "metadata": {},
   "source": [
    "## Подсчёт выручки"
   ]
  },
  {
   "cell_type": "code",
   "execution_count": 50,
   "id": "150df680",
   "metadata": {},
   "outputs": [],
   "source": [
    "# Сформируем сводную таблицу с агрегированными данными о поездках каждого пользователя \n",
    "# на основе датафрейма 'data_total' с объединёнными данными\n",
    "data_counting = data_total.pivot_table(\n",
    "    index=['user_id', 'month'], \n",
    "    values=['name', 'distance','duration', 'subscription_type'], \n",
    "    aggfunc={'name' : 'count', 'distance': 'sum', 'duration' : 'sum', 'subscription_type' : 'min'})"
   ]
  },
  {
   "cell_type": "code",
   "execution_count": 51,
   "id": "e456a4ab",
   "metadata": {},
   "outputs": [],
   "source": [
    "# Переименуем столбец 'name' в 'trips' - поездки\n",
    "data_counting = data_counting.rename(columns = {'name' : 'trips' })"
   ]
  },
  {
   "cell_type": "code",
   "execution_count": 52,
   "id": "7f397784",
   "metadata": {
    "scrolled": true
   },
   "outputs": [
    {
     "data": {
      "text/html": [
       "<div>\n",
       "<style scoped>\n",
       "    .dataframe tbody tr th:only-of-type {\n",
       "        vertical-align: middle;\n",
       "    }\n",
       "\n",
       "    .dataframe tbody tr th {\n",
       "        vertical-align: top;\n",
       "    }\n",
       "\n",
       "    .dataframe thead th {\n",
       "        text-align: right;\n",
       "    }\n",
       "</style>\n",
       "<table border=\"1\" class=\"dataframe\">\n",
       "  <thead>\n",
       "    <tr style=\"text-align: right;\">\n",
       "      <th></th>\n",
       "      <th></th>\n",
       "      <th>distance</th>\n",
       "      <th>duration</th>\n",
       "      <th>trips</th>\n",
       "      <th>subscription_type</th>\n",
       "    </tr>\n",
       "    <tr>\n",
       "      <th>user_id</th>\n",
       "      <th>month</th>\n",
       "      <th></th>\n",
       "      <th></th>\n",
       "      <th></th>\n",
       "      <th></th>\n",
       "    </tr>\n",
       "  </thead>\n",
       "  <tbody>\n",
       "    <tr>\n",
       "      <th rowspan=\"6\" valign=\"top\">1</th>\n",
       "      <th>1</th>\n",
       "      <td>7027.511294</td>\n",
       "      <td>42.0</td>\n",
       "      <td>2</td>\n",
       "      <td>ultra</td>\n",
       "    </tr>\n",
       "    <tr>\n",
       "      <th>4</th>\n",
       "      <td>754.159807</td>\n",
       "      <td>7.0</td>\n",
       "      <td>1</td>\n",
       "      <td>ultra</td>\n",
       "    </tr>\n",
       "    <tr>\n",
       "      <th>8</th>\n",
       "      <td>6723.470560</td>\n",
       "      <td>46.0</td>\n",
       "      <td>2</td>\n",
       "      <td>ultra</td>\n",
       "    </tr>\n",
       "    <tr>\n",
       "      <th>10</th>\n",
       "      <td>5809.911100</td>\n",
       "      <td>32.0</td>\n",
       "      <td>2</td>\n",
       "      <td>ultra</td>\n",
       "    </tr>\n",
       "    <tr>\n",
       "      <th>11</th>\n",
       "      <td>7003.499363</td>\n",
       "      <td>56.0</td>\n",
       "      <td>3</td>\n",
       "      <td>ultra</td>\n",
       "    </tr>\n",
       "    <tr>\n",
       "      <th>12</th>\n",
       "      <td>6751.629942</td>\n",
       "      <td>28.0</td>\n",
       "      <td>2</td>\n",
       "      <td>ultra</td>\n",
       "    </tr>\n",
       "    <tr>\n",
       "      <th rowspan=\"7\" valign=\"top\">2</th>\n",
       "      <th>3</th>\n",
       "      <td>10187.723006</td>\n",
       "      <td>63.0</td>\n",
       "      <td>3</td>\n",
       "      <td>ultra</td>\n",
       "    </tr>\n",
       "    <tr>\n",
       "      <th>4</th>\n",
       "      <td>6164.381824</td>\n",
       "      <td>40.0</td>\n",
       "      <td>2</td>\n",
       "      <td>ultra</td>\n",
       "    </tr>\n",
       "    <tr>\n",
       "      <th>6</th>\n",
       "      <td>3255.338202</td>\n",
       "      <td>14.0</td>\n",
       "      <td>1</td>\n",
       "      <td>ultra</td>\n",
       "    </tr>\n",
       "    <tr>\n",
       "      <th>7</th>\n",
       "      <td>6780.722964</td>\n",
       "      <td>48.0</td>\n",
       "      <td>2</td>\n",
       "      <td>ultra</td>\n",
       "    </tr>\n",
       "    <tr>\n",
       "      <th>8</th>\n",
       "      <td>923.007439</td>\n",
       "      <td>7.0</td>\n",
       "      <td>1</td>\n",
       "      <td>ultra</td>\n",
       "    </tr>\n",
       "    <tr>\n",
       "      <th>10</th>\n",
       "      <td>2824.636598</td>\n",
       "      <td>19.0</td>\n",
       "      <td>1</td>\n",
       "      <td>ultra</td>\n",
       "    </tr>\n",
       "    <tr>\n",
       "      <th>12</th>\n",
       "      <td>3828.248580</td>\n",
       "      <td>12.0</td>\n",
       "      <td>1</td>\n",
       "      <td>ultra</td>\n",
       "    </tr>\n",
       "    <tr>\n",
       "      <th rowspan=\"7\" valign=\"top\">3</th>\n",
       "      <th>1</th>\n",
       "      <td>3061.777147</td>\n",
       "      <td>13.0</td>\n",
       "      <td>1</td>\n",
       "      <td>ultra</td>\n",
       "    </tr>\n",
       "    <tr>\n",
       "      <th>2</th>\n",
       "      <td>5421.152016</td>\n",
       "      <td>39.0</td>\n",
       "      <td>2</td>\n",
       "      <td>ultra</td>\n",
       "    </tr>\n",
       "    <tr>\n",
       "      <th>4</th>\n",
       "      <td>2956.651632</td>\n",
       "      <td>21.0</td>\n",
       "      <td>1</td>\n",
       "      <td>ultra</td>\n",
       "    </tr>\n",
       "    <tr>\n",
       "      <th>5</th>\n",
       "      <td>9064.026918</td>\n",
       "      <td>63.0</td>\n",
       "      <td>3</td>\n",
       "      <td>ultra</td>\n",
       "    </tr>\n",
       "    <tr>\n",
       "      <th>7</th>\n",
       "      <td>10919.595403</td>\n",
       "      <td>67.0</td>\n",
       "      <td>3</td>\n",
       "      <td>ultra</td>\n",
       "    </tr>\n",
       "    <tr>\n",
       "      <th>9</th>\n",
       "      <td>2891.012822</td>\n",
       "      <td>23.0</td>\n",
       "      <td>1</td>\n",
       "      <td>ultra</td>\n",
       "    </tr>\n",
       "    <tr>\n",
       "      <th>12</th>\n",
       "      <td>2593.381928</td>\n",
       "      <td>13.0</td>\n",
       "      <td>1</td>\n",
       "      <td>ultra</td>\n",
       "    </tr>\n",
       "  </tbody>\n",
       "</table>\n",
       "</div>"
      ],
      "text/plain": [
       "                   distance  duration  trips subscription_type\n",
       "user_id month                                                 \n",
       "1       1       7027.511294      42.0      2             ultra\n",
       "        4        754.159807       7.0      1             ultra\n",
       "        8       6723.470560      46.0      2             ultra\n",
       "        10      5809.911100      32.0      2             ultra\n",
       "        11      7003.499363      56.0      3             ultra\n",
       "        12      6751.629942      28.0      2             ultra\n",
       "2       3      10187.723006      63.0      3             ultra\n",
       "        4       6164.381824      40.0      2             ultra\n",
       "        6       3255.338202      14.0      1             ultra\n",
       "        7       6780.722964      48.0      2             ultra\n",
       "        8        923.007439       7.0      1             ultra\n",
       "        10      2824.636598      19.0      1             ultra\n",
       "        12      3828.248580      12.0      1             ultra\n",
       "3       1       3061.777147      13.0      1             ultra\n",
       "        2       5421.152016      39.0      2             ultra\n",
       "        4       2956.651632      21.0      1             ultra\n",
       "        5       9064.026918      63.0      3             ultra\n",
       "        7      10919.595403      67.0      3             ultra\n",
       "        9       2891.012822      23.0      1             ultra\n",
       "        12      2593.381928      13.0      1             ultra"
      ]
     },
     "execution_count": 52,
     "metadata": {},
     "output_type": "execute_result"
    }
   ],
   "source": [
    "data_counting.head(20)"
   ]
  },
  {
   "cell_type": "code",
   "execution_count": 53,
   "id": "927f867c",
   "metadata": {},
   "outputs": [],
   "source": [
    "# Создаем функцию 'money', которая по типу подписки вычисляет выручку\n",
    "def money(row):\n",
    "    if row['subscription_type'] == 'ultra':\n",
    "        return row['duration'] * 6 + 199\n",
    "    elif row['subscription_type'] == 'free':\n",
    "        return row['duration'] * 8 + row['trips'] * 50\n",
    "    else:\n",
    "        return 'Тип подписки не определен'"
   ]
  },
  {
   "cell_type": "code",
   "execution_count": 54,
   "id": "76e331f0",
   "metadata": {},
   "outputs": [],
   "source": [
    "# Добавляем столбец 'month_money' с помесячной выручкой, которую принёс каждый пользователь\n",
    "data_counting['month_money'] = data_counting.apply(money, axis=1)"
   ]
  },
  {
   "cell_type": "code",
   "execution_count": 55,
   "id": "b7094763",
   "metadata": {},
   "outputs": [
    {
     "data": {
      "text/html": [
       "<div>\n",
       "<style scoped>\n",
       "    .dataframe tbody tr th:only-of-type {\n",
       "        vertical-align: middle;\n",
       "    }\n",
       "\n",
       "    .dataframe tbody tr th {\n",
       "        vertical-align: top;\n",
       "    }\n",
       "\n",
       "    .dataframe thead th {\n",
       "        text-align: right;\n",
       "    }\n",
       "</style>\n",
       "<table border=\"1\" class=\"dataframe\">\n",
       "  <thead>\n",
       "    <tr style=\"text-align: right;\">\n",
       "      <th></th>\n",
       "      <th></th>\n",
       "      <th>distance</th>\n",
       "      <th>duration</th>\n",
       "      <th>trips</th>\n",
       "      <th>subscription_type</th>\n",
       "      <th>month_money</th>\n",
       "    </tr>\n",
       "    <tr>\n",
       "      <th>user_id</th>\n",
       "      <th>month</th>\n",
       "      <th></th>\n",
       "      <th></th>\n",
       "      <th></th>\n",
       "      <th></th>\n",
       "      <th></th>\n",
       "    </tr>\n",
       "  </thead>\n",
       "  <tbody>\n",
       "    <tr>\n",
       "      <th rowspan=\"5\" valign=\"top\">1</th>\n",
       "      <th>1</th>\n",
       "      <td>7027.511294</td>\n",
       "      <td>42.0</td>\n",
       "      <td>2</td>\n",
       "      <td>ultra</td>\n",
       "      <td>451.0</td>\n",
       "    </tr>\n",
       "    <tr>\n",
       "      <th>4</th>\n",
       "      <td>754.159807</td>\n",
       "      <td>7.0</td>\n",
       "      <td>1</td>\n",
       "      <td>ultra</td>\n",
       "      <td>241.0</td>\n",
       "    </tr>\n",
       "    <tr>\n",
       "      <th>8</th>\n",
       "      <td>6723.470560</td>\n",
       "      <td>46.0</td>\n",
       "      <td>2</td>\n",
       "      <td>ultra</td>\n",
       "      <td>475.0</td>\n",
       "    </tr>\n",
       "    <tr>\n",
       "      <th>10</th>\n",
       "      <td>5809.911100</td>\n",
       "      <td>32.0</td>\n",
       "      <td>2</td>\n",
       "      <td>ultra</td>\n",
       "      <td>391.0</td>\n",
       "    </tr>\n",
       "    <tr>\n",
       "      <th>11</th>\n",
       "      <td>7003.499363</td>\n",
       "      <td>56.0</td>\n",
       "      <td>3</td>\n",
       "      <td>ultra</td>\n",
       "      <td>535.0</td>\n",
       "    </tr>\n",
       "    <tr>\n",
       "      <th>...</th>\n",
       "      <th>...</th>\n",
       "      <td>...</td>\n",
       "      <td>...</td>\n",
       "      <td>...</td>\n",
       "      <td>...</td>\n",
       "      <td>...</td>\n",
       "    </tr>\n",
       "    <tr>\n",
       "      <th rowspan=\"5\" valign=\"top\">1534</th>\n",
       "      <th>6</th>\n",
       "      <td>3409.468534</td>\n",
       "      <td>26.0</td>\n",
       "      <td>2</td>\n",
       "      <td>free</td>\n",
       "      <td>308.0</td>\n",
       "    </tr>\n",
       "    <tr>\n",
       "      <th>8</th>\n",
       "      <td>7622.453034</td>\n",
       "      <td>48.0</td>\n",
       "      <td>2</td>\n",
       "      <td>free</td>\n",
       "      <td>484.0</td>\n",
       "    </tr>\n",
       "    <tr>\n",
       "      <th>9</th>\n",
       "      <td>4928.173852</td>\n",
       "      <td>23.0</td>\n",
       "      <td>1</td>\n",
       "      <td>free</td>\n",
       "      <td>234.0</td>\n",
       "    </tr>\n",
       "    <tr>\n",
       "      <th>11</th>\n",
       "      <td>13350.015305</td>\n",
       "      <td>78.0</td>\n",
       "      <td>4</td>\n",
       "      <td>free</td>\n",
       "      <td>824.0</td>\n",
       "    </tr>\n",
       "    <tr>\n",
       "      <th>12</th>\n",
       "      <td>2371.711192</td>\n",
       "      <td>16.0</td>\n",
       "      <td>1</td>\n",
       "      <td>free</td>\n",
       "      <td>178.0</td>\n",
       "    </tr>\n",
       "  </tbody>\n",
       "</table>\n",
       "<p>11331 rows × 5 columns</p>\n",
       "</div>"
      ],
      "text/plain": [
       "                   distance  duration  trips subscription_type  month_money\n",
       "user_id month                                                              \n",
       "1       1       7027.511294      42.0      2             ultra        451.0\n",
       "        4        754.159807       7.0      1             ultra        241.0\n",
       "        8       6723.470560      46.0      2             ultra        475.0\n",
       "        10      5809.911100      32.0      2             ultra        391.0\n",
       "        11      7003.499363      56.0      3             ultra        535.0\n",
       "...                     ...       ...    ...               ...          ...\n",
       "1534    6       3409.468534      26.0      2              free        308.0\n",
       "        8       7622.453034      48.0      2              free        484.0\n",
       "        9       4928.173852      23.0      1              free        234.0\n",
       "        11     13350.015305      78.0      4              free        824.0\n",
       "        12      2371.711192      16.0      1              free        178.0\n",
       "\n",
       "[11331 rows x 5 columns]"
      ]
     },
     "execution_count": 55,
     "metadata": {},
     "output_type": "execute_result"
    }
   ],
   "source": [
    "data_counting"
   ]
  },
  {
   "cell_type": "markdown",
   "id": "d81ca79e",
   "metadata": {},
   "source": [
    "***Вывод:***   \n",
    "Создали сводную таблицу с агрегированными данными о поездках каждого пользователя на основе датафрейма 'data_total' с объединёнными данными.   \n",
    "Нашли суммарное расстояние, количество поездок и суммарное время для каждого пользователя за каждый месяц.  \n",
    "Добавили столбец для подсчета выручки, которую принес каждый пользователь помесячно."
   ]
  },
  {
   "cell_type": "markdown",
   "id": "41545ac0",
   "metadata": {},
   "source": [
    "## Проверка гипотез"
   ]
  },
  {
   "cell_type": "markdown",
   "id": "23b4fdea",
   "metadata": {},
   "source": [
    "***6.1  Гипотеза 1: пользователи с подпиской тратят больше времени на поездки, чем пользователи без подписки.***  \n",
    "Если да, то пользователи с подпиской могут быть «выгоднее» для компании.   \n",
    "\n",
    "H0: Время поездок пользователей с подпиской `ultra` равно времени поездок пользователей без подписки `free`  \n",
    "H1 (правосторонняя альтернативная гипотеза): Время поездок пользователей с подпиской `ultra` больше времени поездок пользователей без подписки `free`  \n",
    "  \n",
    "Уровень статистической значимости `alpfa` = 0.05 (5%)  \n",
    "\n",
    "`data_ultra['duration']` и `data_free['duration']` не зависящие друг от друга совокупности, поэтому воспользуемся двухвыборочным t-тестом для независимых выборок. "
   ]
  },
  {
   "cell_type": "code",
   "execution_count": 56,
   "id": "d6851c5d",
   "metadata": {},
   "outputs": [
    {
     "name": "stdout",
     "output_type": "stream",
     "text": [
      "Cреднее время поездок пользователей с подпиской: 19.037692307692307\n",
      "Cреднее время поездок пользователей без подписки: 17.890992392807746\n",
      "p-значение: 2.4959453720736625e-34\n",
      "Отвергаем нулевую гипотезу.\n"
     ]
    }
   ],
   "source": [
    "print('Cреднее время поездок пользователей с подпиской:', data_ultra['duration'].mean()) \n",
    "print('Cреднее время поездок пользователей без подписки:', data_free['duration'].mean())\n",
    "\n",
    "alpfa = .05  # уровень статистической значимости 5%\n",
    "\n",
    "results = st.ttest_ind(\n",
    "    data_ultra['duration'], \n",
    "    data_free['duration'], \n",
    "    alternative = 'greater')\n",
    "\n",
    "print('p-значение:', results.pvalue)\n",
    "\n",
    "# вывод об отвержении или неотвержении нулевой гипотезы\n",
    "if results.pvalue < alpfa:\n",
    "    print('Отвергаем нулевую гипотезу.')\n",
    "else:\n",
    "    print('Не получилось отвергнуть нулевую гипотезу.')"
   ]
  },
  {
   "cell_type": "markdown",
   "id": "7ae9cfe2",
   "metadata": {},
   "source": [
    "***Вывод:*** Проведя статистический тест, мы отвергли нулевую гипотезу о том, что время поездок пользователей с подпиской равно времени поездок пользователей без подписки. Следовательно, верна альтернативная гипотеза: время поездок пользователей с подпиской ultra больше времени поездок пользователей без подписки free. Эта гипотеза подтверждается и реальными средними рассматриваемых совокупностей. Среднее время поездок пользователей с подпиской 18.5 мин., а среднее время поездок пользователей без подписки 17.4 мин.  \n",
    "\n",
    "***Гипотеза 1 верна: пользователи с подпиской тратят больше времени на поездки, чем пользователи без подписки, и могут быть «выгоднее» для компании.***"
   ]
  },
  {
   "cell_type": "markdown",
   "id": "1c4a2fa3",
   "metadata": {},
   "source": [
    "***6.2 Гипотеза 2: среднее расстояние, которое проезжают пользователи с подпиской за одну поездку, не превышает \n",
    "3130 метров.***  \n",
    "Расстояние одной поездки в 3130 метров — оптимальное с точки зрения износа самоката.   \n",
    "\n",
    "H0: Расстояние, которое проезжают пользователи с подпиской равно 3130 м.  \n",
    "H1 (правосторонняя альтернативная гипотеза): Расстояние пользователей с подпиской `ultra` больше 3130 м.\n",
    "  \n",
    "Уровень статистической значимости `alpfa` = 0.05 (5%)  \n",
    "\n",
    "Рассматриваем одну совокупность `data_ultra['distance']`, поэтому воспользуемся одновыборочным t-тестом. "
   ]
  },
  {
   "cell_type": "code",
   "execution_count": 57,
   "id": "e4814231",
   "metadata": {},
   "outputs": [
    {
     "name": "stdout",
     "output_type": "stream",
     "text": [
      "Cреднее расстояние пользователей с подпиской: 3115.4453880370247\n",
      "p-значение: 0.9195368847849785\n",
      "Не отвергаем нулевую гипотезу.\n"
     ]
    }
   ],
   "source": [
    "print('Cреднее расстояние пользователей с подпиской:', data_ultra['distance'].mean()) \n",
    "\n",
    "value = 3130  # расстояние, соответствие которому будем проверять\n",
    "alpfa = .05  # уровень статистической значимости 5%\n",
    "\n",
    "results = st.ttest_1samp(\n",
    "    data_ultra['distance'], value,  \n",
    "    alternative = 'greater')\n",
    "\n",
    "print('p-значение:', results.pvalue)\n",
    "\n",
    "# вывод об отвержении или неотвержении нулевой гипотезы\n",
    "if results.pvalue < alpfa:\n",
    "    print('Отвергаем нулевую гипотезу.')\n",
    "else:\n",
    "    print('Не отвергаем нулевую гипотезу.')"
   ]
  },
  {
   "cell_type": "markdown",
   "id": "506eb300",
   "metadata": {},
   "source": [
    "***Вывод:*** Проведя статистический тест, мы не смогли отвергнуть нулевую гипотезу о том, что пользователи с подпиской проезжают 3130 метров. Однако невозможно точно утверждать, что среднее расстояние пользователей с подпиской равно 3130 м.   \n",
    "Выясним долю пользователей с подпиской, которые проезжают расстояние более 3130 м. "
   ]
  },
  {
   "cell_type": "code",
   "execution_count": 58,
   "id": "acd723c6",
   "metadata": {},
   "outputs": [
    {
     "data": {
      "text/plain": [
       "0.5153846153846153"
      ]
     },
     "execution_count": 58,
     "metadata": {},
     "output_type": "execute_result"
    }
   ],
   "source": [
    "# Вычислим долю пользователей с подпиской, для которых 'distance' больше 3130 м.\n",
    "data_ultra.query('distance > 3130')['distance'].count() / data_ultra['distance'].count()"
   ]
  },
  {
   "cell_type": "markdown",
   "id": "400c7e81",
   "metadata": {},
   "source": [
    "Большая часть пользователей с подпиской (51,5%) преодолевают на самокате расстояние больше 3130 метров.   \n",
    "\n",
    "***Гипотеза 2 не подтверждается:  среднее расстояние, которое проезжают пользователи с подпиской за одну поездку, не меньше 3130 метров.***\n"
   ]
  },
  {
   "cell_type": "markdown",
   "id": "87632fdd",
   "metadata": {},
   "source": [
    "***6.3 Гипотеза 3: помесячная выручка от пользователей с подпиской по месяцам выше, чем выручка от пользователей без подписки.***  \n",
    "\n",
    "H0: Помесячная выручка `month_money` пользователей с подпиской `ultra` равна помесячной выручке `month_money` пользователей без подписки `free`.   \n",
    "\n",
    "H1 (правосторонняя альтернативная гипотеза): Помесячная выручка `month_money` пользователей с подпиской `ultra` больше помесячной выручки `month_money` пользователей без подписки `free`.\n",
    "\n",
    "Уровень статистической значимости alpfa = 0.05 (5%)"
   ]
  },
  {
   "cell_type": "code",
   "execution_count": 59,
   "id": "7e734436",
   "metadata": {},
   "outputs": [],
   "source": [
    "# Выберем из стоблца 'month_money' таблицы 'data_counting' данные о пользователях с подпиской 'ultra'\n",
    "month_money_ultra = data_counting.query('subscription_type == \"ultra\"')['month_money']\n",
    "# Выберем из стоблца 'month_money' таблицы 'data_counting' данные о пользователях без подписки 'free'\n",
    "month_money_free = data_counting.query('subscription_type == \"free\"')['month_money']"
   ]
  },
  {
   "cell_type": "markdown",
   "id": "78a8b9d3",
   "metadata": {},
   "source": [
    "`month_money_ultra` и `month_money_free` не зависящие друг от друга совокупности, поэтому воспользуемся двухвыборочным t-тестом для независимых выборок. "
   ]
  },
  {
   "cell_type": "code",
   "execution_count": 60,
   "id": "3e65c92a",
   "metadata": {},
   "outputs": [
    {
     "name": "stdout",
     "output_type": "stream",
     "text": [
      "Cреднее ежемесячная выручка пользователей с подпиской: 362.7921906022502\n",
      "Cреднее ежемесячная выручка пользователей без подписки: 328.6413651073845\n",
      "p-значение: 1.8850394384715216e-31\n",
      "Отвергаем нулевую гипотезу.\n"
     ]
    }
   ],
   "source": [
    "print('Cреднее ежемесячная выручка пользователей с подпиской:', month_money_ultra.mean()) \n",
    "print('Cреднее ежемесячная выручка пользователей без подписки:', month_money_free.mean())\n",
    "\n",
    "alpfa = .05  # уровень статистической значимости 5%\n",
    "\n",
    "results = st.ttest_ind(\n",
    "    month_money_ultra, \n",
    "    month_money_free, \n",
    "    alternative = 'greater')\n",
    "\n",
    "print('p-значение:', results.pvalue)\n",
    "\n",
    "# вывод об отвержении или неотвержении нулевой гипотезы\n",
    "if results.pvalue < alpfa:\n",
    "    print('Отвергаем нулевую гипотезу.')\n",
    "else:\n",
    "    print('Не получилось отвергнуть нулевую гипотезу.')"
   ]
  },
  {
   "cell_type": "markdown",
   "id": "2b443dca",
   "metadata": {},
   "source": [
    "***Вывод:*** Проведя статистический тест, мы отвергли нулевую гипотезу о том, что помесячная выручка пользователей с подпиской равна помесячной выручке пользователей без подписки. Следовательно, верна альтернативная гипотеза: выручка пользователей с подпиской больше помесячной выручки пользователей без подписки. Эта гипотеза подтверждается и реальными средними рассматриваемых совокупностей. Средняя ежемесячная выручка пользователей с подпиской 361.48 руб., а пользователей без подписки 325.84 руб.  \n",
    "\n",
    "***Гипотеза 3 верна: помесячная выручка от пользователей с подпиской по месяцам выше, чем выручка от пользователей без подписки.***"
   ]
  },
  {
   "cell_type": "markdown",
   "id": "eaf23b8a",
   "metadata": {},
   "source": [
    "***6.4 Гипотеза 4:*** Представьте такую ситуацию: техническая команда сервиса обновила сервера, с которыми взаимодействует мобильное приложение. Она надеется, что из-за этого ***количество обращений в техподдержку значимо снизилось.*** Некоторый файл содержит для каждого пользователя данные о количестве обращений до обновления и после него.   \n",
    "***Выяснить, какой тест понадобился бы для проверки этой гипотезы?***"
   ]
  },
  {
   "cell_type": "markdown",
   "id": "52bf232f",
   "metadata": {},
   "source": [
    "Проверяется гипотеза о равенстве среднего значения генеральной совокупности до и после изменения.   \n",
    "Так как рассматривается набор данных до и после изменения, то выборки являются зависимыми, следовательно для проверки этой гипотезы понадобиться ***двухвыборочный t-тест для зависимых выборок***, метод `scipy.stats.ttest_rel()`. "
   ]
  },
  {
   "cell_type": "markdown",
   "id": "fedd8a46",
   "metadata": {},
   "source": [
    "H0: Среднее значение количества обращений в техподдержку до обновления равно среднему значению количества обращений после обновления.  \n",
    "    \n",
    "H1 (правосторонняя альтернативная гипотеза): Среднее значение количества обращений в техподдержку до обновления больше среднего значения количества обращений после обновления. "
   ]
  },
  {
   "cell_type": "markdown",
   "id": "61213c5e",
   "metadata": {},
   "source": [
    "## Распределения"
   ]
  },
  {
   "cell_type": "markdown",
   "id": "dd2cc8c5",
   "metadata": {},
   "source": [
    "***7.1 Отделу маркетинга GoFast поставили задачу: нужно провести акцию с раздачей промокодов на один бесплатный месяц подписки, в рамках которой как минимум 100 существующих клиентов должны продлить эту подписку. То есть по завершении периода действия подписки пользователь может либо отказаться от неё, либо продлить, совершив соответствующий платёж.  \n",
    "Эта акция уже проводилась ранее и по итогу выяснилось, что после бесплатного пробного периода подписку продлевают 10% пользователей.   \n",
    "Выяснить, какое минимальное количество промокодов нужно разослать, чтобы вероятность не выполнить план была примерно 5%. Подобрать параметры распределения, описывающего эту ситуацию, построить график распределения и сформулировать ответ на вопрос о количестве промокодов.***"
   ]
  },
  {
   "cell_type": "markdown",
   "id": "f32c18e7",
   "metadata": {},
   "source": [
    "Случайная величина распределена биномиально, если:  \n",
    "- Проводится фиксированное число попыток n (в нашем случае фиксированное число клиентов, которым будут разосланы промокоды);  \n",
    "- Каждая попытка — простой эксперимент Бернулли ровно с двумя исходами (оформит подписку - не оформит подписку;  \n",
    "- Вероятность успеха p одинакова для всех n попыток (10%);  \n",
    "- Попытки независимы между собой (решение каждогоклиента независти от решения другого).  \n",
    "\n",
    "Следовательно можно сделать вывод о том, что эту ***ситуацию описывает биномиальное распределение***. "
   ]
  },
  {
   "cell_type": "code",
   "execution_count": 61,
   "id": "4c9872be",
   "metadata": {},
   "outputs": [
    {
     "data": {
      "text/plain": [
       "1534"
      ]
     },
     "execution_count": 61,
     "metadata": {},
     "output_type": "execute_result"
    }
   ],
   "source": [
    "# Выясним общее количество клиентов сервиса GoFast\n",
    "clients = len(users['user_id'].unique())\n",
    "clients"
   ]
  },
  {
   "cell_type": "code",
   "execution_count": 62,
   "id": "8a49ff4d",
   "metadata": {},
   "outputs": [
    {
     "data": {
      "image/png": "[encoded data removed]",
      "text/plain": [
       "<Figure size 640x480 with 1 Axes>"
      ]
     },
     "metadata": {},
     "output_type": "display_data"
    }
   ],
   "source": [
    "n = 1534 # количество попыток\n",
    "p = 0.1 # вероятность успеха\n",
    "\n",
    "distr = []\n",
    "\n",
    "for k in range(0, n + 1):\n",
    "    current_value = binom.pmf(k, n, p)\n",
    "    distr.append(current_value)\n",
    "    \n",
    "plt.bar(range(0, n + 1), distr);"
   ]
  },
  {
   "cell_type": "markdown",
   "id": "a70fed05",
   "metadata": {},
   "source": [
    "При вероятности успеха 10% из 1535 испытаний мы получим от 100 до 200 успехов. "
   ]
  },
  {
   "cell_type": "markdown",
   "id": "4a124e66",
   "metadata": {},
   "source": [
    "Выzсним, можно ли получить хорошую аппроксимацию данного биномиального распределения нормальным.  \n",
    "  \n",
    "*Условие хорошей аппроксимации:  \n",
    "Нужно взять промежуток от математического ожидания биномиального распределения плюс-минус три его стандартных отклонения. Если он лежит в пределах [0,n] (то есть там, где биномиальное распределение определено), то его форма будет симметрична и близка к нормальному распределению.*\n",
    "  \n",
    "Выясним, выполняется ли условие хорошей аппроксимации нормальным распределением."
   ]
  },
  {
   "cell_type": "code",
   "execution_count": 63,
   "id": "c585c587",
   "metadata": {},
   "outputs": [
    {
     "name": "stdout",
     "output_type": "stream",
     "text": [
      "Математическое ожидание биномиального распределения: 153.4\n",
      "Стандартное отклонение биномиального распределения: 11.749893616539683\n",
      "Промежуток от математического ожидания плюс-минус три его стандартных отклонения [ 118.2 , 188.6 ]\n",
      "Условие хорошей аппроксимации выполняется.\n"
     ]
    }
   ],
   "source": [
    "n = 1534 # количество попыток\n",
    "p = 0.1 # вероятность успеха\n",
    "\n",
    "mu_binom = n * p  # мат.ожидание биномиального распределения \n",
    "print('Математическое ожидание биномиального распределения:', mu_binom)\n",
    "\n",
    "sigma_binom = sqrt(n * p * (1 - p))  # ст.отклонение биномиального распределения\n",
    "print('Стандартное отклонение биномиального распределения:', sigma_binom)\n",
    "\n",
    "left = round(mu_binom - 3 * sigma_binom, 1)  # левая граница промежутка\n",
    "right= round(mu_binom + 3 * sigma_binom, 1)  # правая граница промежутка\n",
    "\n",
    "print('Промежуток от математического ожидания плюс-минус три его стандартных отклонения [', left, ',', right, ']') \n",
    "\n",
    "# выводим, выполняется ли наше условие аппроксимации:\n",
    "# лежит ли mu ± 3 sigma в промежутке от 0 до n:\n",
    "if (left >= 0) and (right <= n):\n",
    "    print('Условие хорошей аппроксимации выполняется.')\n",
    "else:\n",
    "    print('Условие не выполняется.')"
   ]
  },
  {
   "cell_type": "markdown",
   "id": "fca66710",
   "metadata": {},
   "source": [
    "Построим график биномиального и нормального распределения."
   ]
  },
  {
   "cell_type": "code",
   "execution_count": 64,
   "id": "27ae9406",
   "metadata": {},
   "outputs": [
    {
     "data": {
      "image/png": "[encoded data removed]",
      "text/plain": [
       "<Figure size 640x480 with 1 Axes>"
      ]
     },
     "metadata": {},
     "output_type": "display_data"
    }
   ],
   "source": [
    "# задаём параметры биномиального распределения\n",
    "n = 1534\n",
    "p = 0.1\n",
    "\n",
    "# границы промежутка, в котором будем строить аппроксимацию -\n",
    "# от n*p минус 4 ст.отклонения бином.распределения\n",
    "# до n*p плюс 4 ст.отклонения бином.распределения\n",
    "left = int(n * p - 4 * sqrt(n * p * (1 - p)))\n",
    "right = int(n * p + 4 * sqrt(n * p * (1 - p)))\n",
    " \n",
    "# зададим набор значений биномиальной величины на выбранном промежутке:\n",
    "# все неотрицательные целые числа от left до right\n",
    "x = list(range(max(0, left), right))\n",
    "# рисуем график биномиального распределения\n",
    "ax = plt.subplot()\n",
    "# используем синие о-образные маркеры и размер маркера 5, прозрачность 0.5\n",
    "ax.plot(x, binom.pmf(x, n, p), 'bo', ms=5, alpha=0.5, label='плотность вероятности биномиального распределения')\n",
    "\n",
    "# зададим мат.ожидание и ст.отклонение нормального распределения равными\n",
    "# мат.ожиданию и ст.отклонению биномиального распределения\n",
    "mu = mu_binom\n",
    "sigma = sigma_binom\n",
    " \n",
    "# зададим функцию, которая выдаёт <num> чисел, равномерно распределённых от <start> до <stop>\n",
    "# (понадобится для визуализации нормального распределения)\n",
    "def linspace(start, stop, num):\n",
    "    step = (stop - start) / (num - 1)\n",
    "    result = []\n",
    "    for i in range(num):\n",
    "        result.append(start + step * i)\n",
    "    return result\n",
    "\n",
    "# рисуем график нормального распределения:\n",
    "# получим список из 100 чисел от left до right\n",
    "x = linspace(left, right, 100)\n",
    "# используем красную линию ширины 3 и прозрачности 0.6\n",
    "ax.plot(x, norm.pdf(x, mu, sigma), 'r-', lw=3, alpha=0.6, label='плотность вероятности нормального распределения')\n",
    " \n",
    "# зададим подписи по оси x в пределах ± 3 ст.отклонений от мат.ожидания\n",
    "# (последний аргумент в методе range - интервал между подписями)\n",
    "x_ticks = list(range(int(mu - 3 * sigma), int(mu + 3 * sigma), 10))\n",
    "ax.set_xticks(x_ticks)\n",
    "\n",
    "# настраиваем оптимальное расположение легенды и выводим график\n",
    "ax.legend(loc='best')\n",
    "plt.show()"
   ]
  },
  {
   "cell_type": "markdown",
   "id": "13f9b43f",
   "metadata": {},
   "source": [
    "Если промокоды разослать всем пользователям, и после бесплатного пробного периода подписку продлевают 10% пользователей, какова вероятность получить менее 100 успехов? "
   ]
  },
  {
   "cell_type": "code",
   "execution_count": 65,
   "id": "12623ac0",
   "metadata": {},
   "outputs": [
    {
     "data": {
      "text/plain": [
       "1.829837797456514e-06"
      ]
     },
     "execution_count": 65,
     "metadata": {},
     "output_type": "execute_result"
    }
   ],
   "source": [
    "# задаём нормальное распределение\n",
    "distr = st.norm(mu, sigma) \n",
    "\n",
    "# считаем вероятность хвоста слева от 100\n",
    "result = distr.cdf(99)\n",
    "result"
   ]
  },
  {
   "cell_type": "markdown",
   "id": "6dd6b5e7",
   "metadata": {},
   "source": [
    "Вероятность не выполнить план слишком мала. Требуется скорректировать количество разсылаемых промокодов.   \n",
    "Нужное количество лежит в интервале от 100 до n = 1534.   \n",
    "  \n",
    "Подберем оптимальное значение n, чтобы вероятность не выполнить план была примерно 5%. "
   ]
  },
  {
   "cell_type": "code",
   "execution_count": 66,
   "id": "b5cf217b",
   "metadata": {},
   "outputs": [
    {
     "name": "stdout",
     "output_type": "stream",
     "text": [
      "При n = 1158 вероятность не выполнить план 0.04991937389843044\n"
     ]
    }
   ],
   "source": [
    "n = 1534\n",
    "p = 0.1\n",
    "best_n = 100  # оптимальное значение n\n",
    "min_dif = 0.001  # предел разности реальной вероятности и 0.05\n",
    "best_probability = 0  # оптимальное значение вероятности\n",
    "    \n",
    "for i in range(100, n):\n",
    "    mu = i * p  # математическое ожидание\n",
    "    sigma = sqrt(i * p * (1 - p))  # стандартное отклонение \n",
    "    distr = st.norm(mu, sigma)  # задаём нормальное распределение\n",
    "    result = distr.cdf(99) # считаем вероятность хвоста слева от 100\n",
    "    \n",
    "    if abs(result - 0.05) < min_dif:\n",
    "        best_n = i\n",
    "        min_dif = abs(result - 0.05)\n",
    "        best_probability = result\n",
    "        \n",
    "print('При n =', best_n, 'вероятность не выполнить план', best_probability)"
   ]
  },
  {
   "cell_type": "code",
   "execution_count": 67,
   "id": "6918d41d",
   "metadata": {},
   "outputs": [
    {
     "data": {
      "text/plain": [
       "0.75"
      ]
     },
     "execution_count": 67,
     "metadata": {},
     "output_type": "execute_result"
    }
   ],
   "source": [
    "#Код ревьюера\n",
    "\n",
    "st.binom(2, 0.5).cdf(1)"
   ]
  },
  {
   "cell_type": "code",
   "execution_count": 68,
   "id": "96cdb23b",
   "metadata": {},
   "outputs": [
    {
     "name": "stdout",
     "output_type": "stream",
     "text": [
      "При n = 1161 вероятность не выполнить план 0.049760900949902404\n"
     ]
    }
   ],
   "source": [
    "n = 1534\n",
    "p = 0.1\n",
    "best_n = 100  # оптимальное значение n\n",
    "min_dif = 0.001  # предел разности реальной вероятности и 0.05\n",
    "best_probability = 0  # оптимальное значение вероятности\n",
    "    \n",
    "for i in range(100, n):\n",
    "    distr = st.binom(i, p)  # задаём биномиальное распределение\n",
    "    result = distr.cdf(99) # считаем вероятность хвоста слева от 100\n",
    "    \n",
    "    if abs(result - 0.05) < min_dif:\n",
    "        best_n = i\n",
    "        min_dif = abs(result - 0.05)\n",
    "        best_probability = result\n",
    "        \n",
    "print('При n =', best_n, 'вероятность не выполнить план', best_probability)"
   ]
  },
  {
   "cell_type": "markdown",
   "id": "d802968a",
   "metadata": {},
   "source": [
    "***Вывод: 1161 промокод нужно разослать, чтобы вероятность того, что подписку продлят менее 100 пользователей была примерно равна 5% (4.98%).***"
   ]
  },
  {
   "cell_type": "markdown",
   "id": "947df2d0",
   "metadata": {},
   "source": [
    "***7.2 Отдел маркетинга рассылает клиентам push-уведомления в мобильном приложении. Клиенты могут открыть его или не открывать. Известно, что уведомления открывают около 40% получивших клиентов. Отдел планирует разослать 1 млн уведомлений.   \n",
    "С помощью аппроксимации построить примерный график распределения и оценить вероятность того, что уведомление откроют не более 399,5 тыс. пользователей.***"
   ]
  },
  {
   "cell_type": "markdown",
   "id": "7aec2d70",
   "metadata": {},
   "source": [
    "Данную ситуацию также описывает биномиальное распределение. Т.к. количество экспериментов достаточно велико, то его можно аппроксимировать нормальным распределением. Построим примерный график биномиального и нормального распределения. "
   ]
  },
  {
   "cell_type": "code",
   "execution_count": 69,
   "id": "753128f1",
   "metadata": {},
   "outputs": [
    {
     "data": {
      "image/png": "[encoded data removed]",
      "text/plain": [
       "<Figure size 640x480 with 1 Axes>"
      ]
     },
     "metadata": {},
     "output_type": "display_data"
    }
   ],
   "source": [
    "# задаём параметры биномиального распределения\n",
    "n = 1000000\n",
    "p = 0.4\n",
    "\n",
    "mu_binom = n * p  # мат.ожидание биномиального распределения \n",
    "sigma_binom = sqrt(n * p * (1 - p))  # ст.отклонение биномиального распределения\n",
    "\n",
    "# границы промежутка, в котором будем строить аппроксимацию \n",
    "left = int(n * p - 4 * sqrt(n * p * (1 - p)))\n",
    "right = int(n * p + 4 * sqrt(n * p * (1 - p)))\n",
    " \n",
    "# зададим набор значений биномиальной величины на выбранном промежутке:\n",
    "# все неотрицательные целые числа от left до right\n",
    "x = list(range(max(0, left), right))\n",
    "\n",
    "# рисуем график биномиального распределения\n",
    "ax = plt.subplot()\n",
    "# используем синие о-образные маркеры и размер маркера 5, прозрачность 0.4\n",
    "ax.plot(x, binom.pmf(x, n, p), 'bo', ms=5, alpha=0.4, label='плотность вероятности биномиального распределения')\n",
    "\n",
    "# зададим мат.ожидание и ст.отклонение нормального распределения равными\n",
    "# мат.ожиданию и ст.отклонению биномиального распределения\n",
    "mu = mu_binom\n",
    "sigma = sigma_binom\n",
    "\n",
    "# зададим функцию, которая выдаёт <num> чисел, равномерно распределённых от <start> до <stop>\n",
    "# (для визуализации нормального распределения)\n",
    "def linspace(start, stop, num):\n",
    "    step = (stop - start) / (num - 1)\n",
    "    result = []\n",
    "    for i in range(num):\n",
    "        result.append(start + step * i)\n",
    "    return result\n",
    "\n",
    "# рисуем график нормального распределения:\n",
    "# получим список из 100 чисел от left до right\n",
    "x = linspace(left, right, 100)\n",
    "# используем красную линию ширины 3 и прозрачности 0.9\n",
    "ax.plot(x, norm.pdf(x, mu, sigma), 'r-', lw=3, alpha=0.9, label='плотность вероятности нормального распределения')\n",
    " \n",
    "# зададим подписи по оси x в пределах ± 3 ст.отклонений от мат.ожидания\n",
    "# (последний аргумент в методе range - интервал между подписями)\n",
    "x_ticks = list(range(int(mu - 3 * sigma), int(mu + 3 * sigma), 1000))\n",
    "ax.set_xticks(x_ticks)\n",
    "\n",
    "# настраиваем оптимальное расположение легенды и выводим график\n",
    "ax.legend(loc='best')\n",
    "plt.show()"
   ]
  },
  {
   "cell_type": "markdown",
   "id": "32b4013b",
   "metadata": {},
   "source": [
    "Оценим вероятность того, что уведомление откроют не более 399,5 тыс. пользователей, т.е. какова вероятность получить менее 399500 успехов."
   ]
  },
  {
   "cell_type": "code",
   "execution_count": 70,
   "id": "f699a558",
   "metadata": {},
   "outputs": [
    {
     "data": {
      "text/plain": [
       "0.15371708296369768"
      ]
     },
     "execution_count": 70,
     "metadata": {},
     "output_type": "execute_result"
    }
   ],
   "source": [
    "distr = st.norm(mu, sigma)  # задаём нормальное распределение\n",
    "result = distr.cdf(399500)  # считаем вероятность хвоста слева от 399500\n",
    "result"
   ]
  },
  {
   "cell_type": "markdown",
   "id": "6342233b",
   "metadata": {},
   "source": [
    "***Вывод: вероятность того, что из 1 млн уведомлений пользователи откроют не более 399,5 тыс. составляет 15,4%***"
   ]
  },
  {
   "cell_type": "markdown",
   "id": "d1504c2a",
   "metadata": {},
   "source": [
    "## Общий вывод. "
   ]
  },
  {
   "cell_type": "markdown",
   "id": "ccc3987e",
   "metadata": {},
   "source": [
    "**Целью данного проекта** был анализ данных по аренде самокатов и проверка гипотез, которые помогут бизнесу вырасти.\n",
    "\n",
    "**Входные данные от популярного сервиса аренды самокатов GoFast** — данные о некоторых пользователях из нескольких городов, а также об их поездках и подписках. "
   ]
  },
  {
   "cell_type": "markdown",
   "id": "7def85d4",
   "metadata": {},
   "source": [
    "**1. Открыты файлы с данными** о пользователях, их поездках и подписках, изучена общая информация о них.  \n",
    "\n",
    "**2. Проведена предобработка данных**:\n",
    "   После предобработки данных названия всех столбцов датафрейма записаны в едином стиле, пропуски в данных отсутствуют, устранены дубликаты в таблице users. В таблицу rides добавлен столбец month с номером месяца на основе столбца date."
   ]
  },
  {
   "cell_type": "markdown",
   "id": "d7f7cfd0",
   "metadata": {},
   "source": [
    "**3. Проведен исследовательский анализ данных.**   \n",
    "    Описана и визуализирована общая информация о пользователях и поездках:  \n",
    "        - частота встречаемости городов;  \n",
    "    - соотношение пользователей с подпиской и без подписки;  \n",
    "    - возраст пользователей;  \n",
    "    - расстояние, которое пользователь преодолел за одну поездку;  \n",
    "    - продолжительность поездок.   \n",
    "    \n",
    "Вывод: *Наиболее типично использование самокатов для поездок на расстояние 3 км со средним временем использования 18 минут.  \n",
    "Самые активные пользователи 22 - 28 лет, что вполне объяснимо наличием собственных средств для оптимизации передвижения.  \n",
    "Большинство пользователей пользуются арендой самоката без подписки.  \n",
    "Наибольшее количество поездок совершается в городах с наиболее продолжительным теплым временем года (Пятигорск, Краснодар, Сочи), однако различие по территориальному признаку незначительно.*"
   ]
  },
  {
   "cell_type": "markdown",
   "id": "f6490ab5",
   "metadata": {},
   "source": [
    "**4. Объединили данные о пользователях, поездках и подписках**  \n",
    "Визуализировали информацию о расстоянии и времени поездок для пользователей каждой категории.\n",
    "\n",
    "Вывод: *Пользователи с подпиской совершают более длительные поездки и проезжают в среднем 3 км.   \n",
    "Пользователи без подписки стараются минимизировать время использования самоката, но расстояние преодолевают большее, тем самым увеличивая скорость передвижения, что может представлять угрозу для остальных участников дорожного движения.*\n",
    "    \n",
    "    \n",
    "**5. Создали сводную таблицу с агрегированными данными о поездках каждого пользователя.**  \n",
    "Нашли суммарное расстояние, количество поездок и суммарное время для каждого пользователя за каждый месяц.  \n",
    "Добавили столбец для подсчета выручки, которую принес каждый пользователь помесячно. \n"
   ]
  },
  {
   "cell_type": "markdown",
   "id": "d7adfa06",
   "metadata": {},
   "source": [
    "**6. Проверили гипотезы:**  \n",
    "\n",
    "   ***6.1 Тратят ли пользователи с подпиской больше времени на поездки? Если да, то пользователи с подпиской могут быть «выгоднее» для компании.***   \n",
    "   \n",
    "   Вывод: пользователи с подпиской тратят больше времени на поездки, чем пользователи без подписки, и могут быть «выгоднее» для компании.  \n",
    "    *Проведя статистический тест, мы отвергли нулевую гипотезу о том, что время поездок пользователей с подпиской равно времени поездок пользователей без подписки. Следовательно, верна альтернативная гипотеза: время поездок пользователей с подпиской ultra больше времени поездок пользователей без подписки free. Эта гипотеза подтверждается и реальными средними рассматриваемых совокупностей. Среднее время поездок пользователей с подпиской 18.5 мин., а среднее время поездок пользователей без подписки 17.4 мин.*\n",
    "\n",
    "   ***6.2 Расстояние одной поездки в 3130 метров — оптимальное с точки зрения износа самоката. Можно ли сказать, что среднее расстояние, которое проезжают пользователи с подпиской за одну поездку, не превышает 3130 метров?***  \n",
    "   \n",
    "   Вывод: Гипотеза не подтверждается: среднее расстояние, которое проезжают пользователи с подпиской за одну поездку, не меньше 3130 метров.   \n",
    "   *Проведя статистический тест, мы не смогли отвергнуть нулевую гипотезу о том, что пользователи с подпиской проезжают 3130 метров. Это означает, что невозможно точно утверждать, что среднее расстояние пользователей с подпиской меньше 3130 м.  \n",
    "   Большая часть пользователей с подпиской (51,5%) преодолевают на самокате расстояние больше 3130 метров.*\n",
    "\n",
    "   ***6.3 Будет ли помесячная выручка от пользователей с подпиской по месяцам выше, чем выручка от пользователей без подписки.***    \n",
    "   \n",
    "   Вывод: помесячная выручка от пользователей с подпиской по месяцам выше, чем выручка от пользователей без подписки.  \n",
    "   *Проведя статистический тест, мы отвергли нулевую гипотезу о том, что помесячная выручка пользователей с подпиской равна помесячной выручке пользователей без подписки. Следовательно, верна альтернативная гипотеза: выручка пользователей с подпиской больше помесячной выручки пользователей без подписки. Эта гипотеза подтверждается и реальными средними рассматриваемых совокупностей. Средняя ежемесячная выручка пользователей с подпиской 361.48 руб., а пользователей без подписки 325.84 руб.*\n",
    "\n",
    "   ***6.4 Произойдет ли значимое снижение количества обращений в техподдержку после обновления серверов, с которыми взаимодействует мобильное приложение. Выяснить, какой тест понадобился бы для проверки этой гипотезы?***    \n",
    "   \n",
    "   Вывод: понадобиться двухвыборочный t-тест для зависимых выборок."
   ]
  },
  {
   "cell_type": "markdown",
   "id": "9766d6a4",
   "metadata": {},
   "source": [
    "**7. Распределения**    \n",
    "\n",
    "   ***7.1*** Выяснили, какое минимальное количество промокодов нужно разослать по акции с раздачей промокодов на один бесплатный месяц подписки, в рамках которой как минимум 100 существующих клиентов должны продлить эту подписку, чтобы вероятность не выполнить план была примерно 5%.  Подбрать параметры распределения, описывающего эту ситуацию, построить график распределения и сформулируйте ответ на вопрос о количестве промокодов.   \n",
    "    \n",
    "   **1161 промокодов нужно разослать, чтобы вероятность того, что подписку продлят менее 100 пользователей была примерно равна 5% (4.98%).**\n",
    "    \n",
    "\n",
    "   ***7.2*** Отдел маркетинга рассылает клиентам push-уведомления в мобильном приложении. Клиенты могут открыть его или не открывать. Известно, что уведомления открывают около 40% получивших клиентов. Отдел планирует разослать 1 млн уведомлений. С помощью аппроксимации построили примерный график распределения и оценили вероятность того, что уведомление откроют не более 399,5 тыс. пользователей.    \n",
    "   \n",
    "   **Вероятность того, что из 1 млн уведомлений пользователи откроют не более 399,5 тыс. составляет 15,4%**\n",
    "      "
   ]
  },
  {
   "cell_type": "markdown",
   "id": "1aeb8045",
   "metadata": {},
   "source": [
    "**Рекомендации.**  \n",
    "\n",
    "✔️Портрет идеального клиента: Пользователь 22 - 28 лет, пользующийся подпиской и за одну поездку преодолевающий расстояние не более 3 км.  \n",
    "\n",
    "Для увеличения выручки компании следует увеличивать долю клиентов, пользующихся подпиской.   \n",
    "В этих целях можно проводить акции с раздачей промокодов на бесплатный месяц подписки. \n"
   ]
  }
 ],
 "metadata": {
  "ExecuteTimeLog": [
   {
    "duration": 183,
    "start_time": "2024-04-29T18:40:38.862Z"
   },
   {
    "duration": 709,
    "start_time": "2024-04-29T19:32:49.968Z"
   },
   {
    "duration": 102,
    "start_time": "2024-04-29T19:46:26.979Z"
   },
   {
    "duration": 27,
    "start_time": "2024-04-29T19:47:07.801Z"
   },
   {
    "duration": 9,
    "start_time": "2024-04-29T19:47:32.097Z"
   },
   {
    "duration": 29,
    "start_time": "2024-04-29T19:48:19.750Z"
   },
   {
    "duration": 27,
    "start_time": "2024-04-29T19:52:33.964Z"
   },
   {
    "duration": 7,
    "start_time": "2024-04-29T19:52:38.684Z"
   },
   {
    "duration": 27,
    "start_time": "2024-04-29T19:53:08.272Z"
   },
   {
    "duration": 7,
    "start_time": "2024-04-29T19:53:09.756Z"
   },
   {
    "duration": 27,
    "start_time": "2024-04-29T19:56:46.192Z"
   },
   {
    "duration": 6,
    "start_time": "2024-04-29T19:56:46.763Z"
   },
   {
    "duration": 10,
    "start_time": "2024-04-29T19:57:25.291Z"
   },
   {
    "duration": 8,
    "start_time": "2024-04-29T19:57:54.922Z"
   },
   {
    "duration": 8,
    "start_time": "2024-04-29T19:58:07.059Z"
   },
   {
    "duration": 8,
    "start_time": "2024-04-29T19:58:31.655Z"
   },
   {
    "duration": 7,
    "start_time": "2024-04-29T19:58:46.280Z"
   },
   {
    "duration": 176,
    "start_time": "2024-04-29T20:01:41.959Z"
   },
   {
    "duration": 7,
    "start_time": "2024-04-29T20:01:42.944Z"
   },
   {
    "duration": 35,
    "start_time": "2024-04-29T20:02:17.317Z"
   },
   {
    "duration": 7,
    "start_time": "2024-04-29T20:02:18.218Z"
   },
   {
    "duration": 8,
    "start_time": "2024-04-29T20:02:20.153Z"
   },
   {
    "duration": 78,
    "start_time": "2024-04-29T20:04:18.211Z"
   },
   {
    "duration": 5,
    "start_time": "2024-04-29T20:04:18.721Z"
   },
   {
    "duration": 87,
    "start_time": "2024-04-29T20:04:22.526Z"
   },
   {
    "duration": 8,
    "start_time": "2024-04-29T20:04:28.993Z"
   },
   {
    "duration": 25,
    "start_time": "2024-04-29T20:05:37.486Z"
   },
   {
    "duration": 6,
    "start_time": "2024-04-29T20:05:42.212Z"
   },
   {
    "duration": 25,
    "start_time": "2024-04-29T20:05:47.102Z"
   },
   {
    "duration": 26,
    "start_time": "2024-04-29T20:05:55.537Z"
   },
   {
    "duration": 8,
    "start_time": "2024-04-29T20:05:57.151Z"
   },
   {
    "duration": 35,
    "start_time": "2024-04-29T20:06:22.428Z"
   },
   {
    "duration": 34,
    "start_time": "2024-04-29T20:07:10.638Z"
   },
   {
    "duration": 6,
    "start_time": "2024-04-29T20:07:11.277Z"
   },
   {
    "duration": 9,
    "start_time": "2024-04-29T20:07:15.036Z"
   },
   {
    "duration": 25,
    "start_time": "2024-04-29T20:07:19.084Z"
   },
   {
    "duration": 6,
    "start_time": "2024-04-29T20:07:21.087Z"
   },
   {
    "duration": 7,
    "start_time": "2024-04-29T20:08:45.874Z"
   },
   {
    "duration": 7,
    "start_time": "2024-04-29T20:09:00.078Z"
   },
   {
    "duration": 7,
    "start_time": "2024-04-29T20:10:16.105Z"
   },
   {
    "duration": 10,
    "start_time": "2024-04-29T20:11:29.161Z"
   },
   {
    "duration": 11,
    "start_time": "2024-04-29T20:11:51.801Z"
   },
   {
    "duration": 6,
    "start_time": "2024-04-29T20:12:12.879Z"
   },
   {
    "duration": 7,
    "start_time": "2024-04-29T20:12:25.685Z"
   },
   {
    "duration": 6,
    "start_time": "2024-04-29T20:14:47.722Z"
   },
   {
    "duration": 292,
    "start_time": "2024-04-29T20:17:09.756Z"
   },
   {
    "duration": 257,
    "start_time": "2024-04-29T20:17:23.641Z"
   },
   {
    "duration": 235,
    "start_time": "2024-04-29T20:17:37.922Z"
   },
   {
    "duration": 6,
    "start_time": "2024-04-29T20:24:27.953Z"
   },
   {
    "duration": 4,
    "start_time": "2024-04-29T20:25:08.527Z"
   },
   {
    "duration": 7,
    "start_time": "2024-04-29T20:25:27.720Z"
   },
   {
    "duration": 3,
    "start_time": "2024-04-29T20:28:51.129Z"
   },
   {
    "duration": 7,
    "start_time": "2024-04-29T20:29:22.326Z"
   },
   {
    "duration": 3,
    "start_time": "2024-04-29T20:30:56.862Z"
   },
   {
    "duration": 64,
    "start_time": "2024-04-29T20:41:05.495Z"
   },
   {
    "duration": 6,
    "start_time": "2024-04-29T20:42:05.708Z"
   },
   {
    "duration": 6,
    "start_time": "2024-04-29T20:42:27.829Z"
   },
   {
    "duration": 576,
    "start_time": "2024-04-29T20:42:53.558Z"
   },
   {
    "duration": 27,
    "start_time": "2024-04-29T20:42:54.136Z"
   },
   {
    "duration": 9,
    "start_time": "2024-04-29T20:42:54.165Z"
   },
   {
    "duration": 20,
    "start_time": "2024-04-29T20:42:54.175Z"
   },
   {
    "duration": 15,
    "start_time": "2024-04-29T20:42:54.196Z"
   },
   {
    "duration": 24,
    "start_time": "2024-04-29T20:42:54.212Z"
   },
   {
    "duration": 7,
    "start_time": "2024-04-29T20:42:54.238Z"
   },
   {
    "duration": 10,
    "start_time": "2024-04-29T20:42:54.247Z"
   },
   {
    "duration": 14,
    "start_time": "2024-04-29T20:42:54.258Z"
   },
   {
    "duration": 5,
    "start_time": "2024-04-29T20:42:54.274Z"
   },
   {
    "duration": 8,
    "start_time": "2024-04-29T20:42:54.280Z"
   },
   {
    "duration": 6,
    "start_time": "2024-04-29T20:42:54.289Z"
   },
   {
    "duration": 4,
    "start_time": "2024-04-29T20:42:54.296Z"
   },
   {
    "duration": 7,
    "start_time": "2024-04-29T20:42:54.302Z"
   },
   {
    "duration": 59,
    "start_time": "2024-04-29T20:42:54.311Z"
   },
   {
    "duration": 0,
    "start_time": "2024-04-29T20:42:54.371Z"
   },
   {
    "duration": 8,
    "start_time": "2024-04-29T20:43:33.062Z"
   },
   {
    "duration": 5,
    "start_time": "2024-04-29T20:43:58.572Z"
   },
   {
    "duration": 3,
    "start_time": "2024-04-29T20:46:59.481Z"
   },
   {
    "duration": 5,
    "start_time": "2024-04-29T20:50:29.333Z"
   },
   {
    "duration": 5,
    "start_time": "2024-04-29T20:52:24.780Z"
   },
   {
    "duration": 5,
    "start_time": "2024-04-29T20:52:53.156Z"
   },
   {
    "duration": 6,
    "start_time": "2024-04-29T20:54:17.080Z"
   },
   {
    "duration": 5,
    "start_time": "2024-04-29T20:56:20.831Z"
   },
   {
    "duration": 10,
    "start_time": "2024-04-29T20:59:14.809Z"
   },
   {
    "duration": 8,
    "start_time": "2024-04-29T21:03:25.825Z"
   },
   {
    "duration": 4,
    "start_time": "2024-04-29T21:06:22.052Z"
   },
   {
    "duration": 5,
    "start_time": "2024-04-29T21:06:39.390Z"
   },
   {
    "duration": 6,
    "start_time": "2024-04-29T21:08:06.594Z"
   },
   {
    "duration": 7,
    "start_time": "2024-04-29T21:08:15.212Z"
   },
   {
    "duration": 8,
    "start_time": "2024-04-29T21:08:21.794Z"
   },
   {
    "duration": 26,
    "start_time": "2024-04-29T21:14:51.765Z"
   },
   {
    "duration": 7,
    "start_time": "2024-04-29T21:16:01.523Z"
   },
   {
    "duration": 8,
    "start_time": "2024-04-29T21:16:20.032Z"
   },
   {
    "duration": 9,
    "start_time": "2024-04-29T21:17:52.397Z"
   },
   {
    "duration": 64,
    "start_time": "2024-04-30T08:29:48.246Z"
   },
   {
    "duration": 5,
    "start_time": "2024-04-30T08:30:33.953Z"
   },
   {
    "duration": 6,
    "start_time": "2024-04-30T08:31:03.561Z"
   },
   {
    "duration": 847,
    "start_time": "2024-04-30T08:31:12.250Z"
   },
   {
    "duration": 77,
    "start_time": "2024-04-30T08:31:13.099Z"
   },
   {
    "duration": 13,
    "start_time": "2024-04-30T08:31:13.178Z"
   },
   {
    "duration": 11,
    "start_time": "2024-04-30T08:31:13.193Z"
   },
   {
    "duration": 15,
    "start_time": "2024-04-30T08:31:13.205Z"
   },
   {
    "duration": 86,
    "start_time": "2024-04-30T08:31:13.222Z"
   },
   {
    "duration": 11,
    "start_time": "2024-04-30T08:31:13.309Z"
   },
   {
    "duration": 19,
    "start_time": "2024-04-30T08:31:13.321Z"
   },
   {
    "duration": 62,
    "start_time": "2024-04-30T08:31:13.341Z"
   },
   {
    "duration": 7,
    "start_time": "2024-04-30T08:31:13.406Z"
   },
   {
    "duration": 33,
    "start_time": "2024-04-30T08:31:13.415Z"
   },
   {
    "duration": 18,
    "start_time": "2024-04-30T08:31:13.450Z"
   },
   {
    "duration": 26,
    "start_time": "2024-04-30T08:31:13.470Z"
   },
   {
    "duration": 19,
    "start_time": "2024-04-30T08:31:13.498Z"
   },
   {
    "duration": 10,
    "start_time": "2024-04-30T08:31:13.518Z"
   },
   {
    "duration": 7,
    "start_time": "2024-04-30T08:31:13.529Z"
   },
   {
    "duration": 6,
    "start_time": "2024-04-30T08:31:13.538Z"
   },
   {
    "duration": 5,
    "start_time": "2024-04-30T08:31:13.545Z"
   },
   {
    "duration": 11,
    "start_time": "2024-04-30T08:31:13.551Z"
   },
   {
    "duration": 13,
    "start_time": "2024-04-30T08:31:13.563Z"
   },
   {
    "duration": 8,
    "start_time": "2024-04-30T08:31:13.578Z"
   },
   {
    "duration": 5,
    "start_time": "2024-04-30T08:31:13.589Z"
   },
   {
    "duration": 25,
    "start_time": "2024-04-30T08:31:13.596Z"
   },
   {
    "duration": 44,
    "start_time": "2024-04-30T08:31:13.622Z"
   },
   {
    "duration": 482,
    "start_time": "2024-04-30T08:31:13.668Z"
   },
   {
    "duration": 25,
    "start_time": "2024-04-30T08:31:59.916Z"
   },
   {
    "duration": 14,
    "start_time": "2024-04-30T08:32:15.107Z"
   },
   {
    "duration": 18,
    "start_time": "2024-04-30T08:32:22.062Z"
   },
   {
    "duration": 167,
    "start_time": "2024-04-30T08:39:21.525Z"
   },
   {
    "duration": 142,
    "start_time": "2024-04-30T08:39:48.073Z"
   },
   {
    "duration": 227,
    "start_time": "2024-04-30T08:42:09.929Z"
   },
   {
    "duration": 195,
    "start_time": "2024-04-30T08:42:19.627Z"
   },
   {
    "duration": 188,
    "start_time": "2024-04-30T08:42:27.144Z"
   },
   {
    "duration": 158,
    "start_time": "2024-04-30T08:42:37.709Z"
   },
   {
    "duration": 149,
    "start_time": "2024-04-30T08:42:45.370Z"
   },
   {
    "duration": 147,
    "start_time": "2024-04-30T08:43:03.415Z"
   },
   {
    "duration": 209,
    "start_time": "2024-04-30T08:43:15.746Z"
   },
   {
    "duration": 232,
    "start_time": "2024-04-30T08:43:24.301Z"
   },
   {
    "duration": 146,
    "start_time": "2024-04-30T08:43:44.970Z"
   },
   {
    "duration": 103,
    "start_time": "2024-04-30T08:52:08.450Z"
   },
   {
    "duration": 17,
    "start_time": "2024-04-30T08:52:32.984Z"
   },
   {
    "duration": 15,
    "start_time": "2024-04-30T08:54:40.438Z"
   },
   {
    "duration": 17,
    "start_time": "2024-04-30T08:55:30.464Z"
   },
   {
    "duration": 9,
    "start_time": "2024-04-30T08:55:56.226Z"
   },
   {
    "duration": 9,
    "start_time": "2024-04-30T08:56:31.656Z"
   },
   {
    "duration": 7,
    "start_time": "2024-04-30T08:57:00.266Z"
   },
   {
    "duration": 8,
    "start_time": "2024-04-30T08:57:12.617Z"
   },
   {
    "duration": 242,
    "start_time": "2024-04-30T09:00:27.862Z"
   },
   {
    "duration": 11,
    "start_time": "2024-04-30T09:01:05.871Z"
   },
   {
    "duration": 298,
    "start_time": "2024-04-30T09:03:52.698Z"
   },
   {
    "duration": 241,
    "start_time": "2024-04-30T09:04:11.335Z"
   },
   {
    "duration": 216,
    "start_time": "2024-04-30T09:04:35.799Z"
   },
   {
    "duration": 180,
    "start_time": "2024-04-30T09:04:45.852Z"
   },
   {
    "duration": 168,
    "start_time": "2024-04-30T09:04:53.142Z"
   },
   {
    "duration": 4,
    "start_time": "2024-04-30T09:05:24.050Z"
   },
   {
    "duration": 4,
    "start_time": "2024-04-30T09:05:34.357Z"
   },
   {
    "duration": 4,
    "start_time": "2024-04-30T09:05:38.495Z"
   },
   {
    "duration": 175,
    "start_time": "2024-04-30T09:05:56.032Z"
   },
   {
    "duration": 2046,
    "start_time": "2024-04-30T09:06:28.694Z"
   },
   {
    "duration": 179,
    "start_time": "2024-04-30T09:06:36.618Z"
   },
   {
    "duration": 288,
    "start_time": "2024-04-30T09:07:53.029Z"
   },
   {
    "duration": 146,
    "start_time": "2024-04-30T09:08:08.619Z"
   },
   {
    "duration": 234,
    "start_time": "2024-04-30T09:14:33.704Z"
   },
   {
    "duration": 102,
    "start_time": "2024-04-30T09:14:46.577Z"
   },
   {
    "duration": 106,
    "start_time": "2024-04-30T09:14:51.247Z"
   },
   {
    "duration": 107,
    "start_time": "2024-04-30T09:14:54.708Z"
   },
   {
    "duration": 116,
    "start_time": "2024-04-30T09:15:08.007Z"
   },
   {
    "duration": 109,
    "start_time": "2024-04-30T09:15:12.376Z"
   },
   {
    "duration": 9,
    "start_time": "2024-04-30T09:17:15.935Z"
   },
   {
    "duration": 8,
    "start_time": "2024-04-30T09:22:37.169Z"
   },
   {
    "duration": 8,
    "start_time": "2024-04-30T09:25:17.031Z"
   },
   {
    "duration": 11,
    "start_time": "2024-04-30T09:30:32.641Z"
   },
   {
    "duration": 10,
    "start_time": "2024-04-30T09:31:18.002Z"
   },
   {
    "duration": 693,
    "start_time": "2024-04-30T09:31:54.640Z"
   },
   {
    "duration": 31,
    "start_time": "2024-04-30T09:31:55.335Z"
   },
   {
    "duration": 12,
    "start_time": "2024-04-30T09:31:55.367Z"
   },
   {
    "duration": 14,
    "start_time": "2024-04-30T09:31:55.381Z"
   },
   {
    "duration": 15,
    "start_time": "2024-04-30T09:31:55.396Z"
   },
   {
    "duration": 36,
    "start_time": "2024-04-30T09:31:55.413Z"
   },
   {
    "duration": 11,
    "start_time": "2024-04-30T09:31:55.451Z"
   },
   {
    "duration": 24,
    "start_time": "2024-04-30T09:31:55.464Z"
   },
   {
    "duration": 31,
    "start_time": "2024-04-30T09:31:55.489Z"
   },
   {
    "duration": 12,
    "start_time": "2024-04-30T09:31:55.523Z"
   },
   {
    "duration": 22,
    "start_time": "2024-04-30T09:31:55.536Z"
   },
   {
    "duration": 14,
    "start_time": "2024-04-30T09:31:55.560Z"
   },
   {
    "duration": 14,
    "start_time": "2024-04-30T09:31:55.576Z"
   },
   {
    "duration": 6,
    "start_time": "2024-04-30T09:31:55.591Z"
   },
   {
    "duration": 16,
    "start_time": "2024-04-30T09:31:55.599Z"
   },
   {
    "duration": 14,
    "start_time": "2024-04-30T09:31:55.616Z"
   },
   {
    "duration": 6,
    "start_time": "2024-04-30T09:31:55.632Z"
   },
   {
    "duration": 16,
    "start_time": "2024-04-30T09:31:55.639Z"
   },
   {
    "duration": 26,
    "start_time": "2024-04-30T09:31:55.656Z"
   },
   {
    "duration": 38,
    "start_time": "2024-04-30T09:31:55.683Z"
   },
   {
    "duration": 17,
    "start_time": "2024-04-30T09:31:55.722Z"
   },
   {
    "duration": 24,
    "start_time": "2024-04-30T09:31:55.741Z"
   },
   {
    "duration": 183,
    "start_time": "2024-04-30T09:31:55.767Z"
   },
   {
    "duration": 18,
    "start_time": "2024-04-30T09:31:55.952Z"
   },
   {
    "duration": 125,
    "start_time": "2024-04-30T09:31:55.971Z"
   },
   {
    "duration": 7,
    "start_time": "2024-04-30T09:31:56.098Z"
   },
   {
    "duration": 97,
    "start_time": "2024-04-30T09:31:56.107Z"
   },
   {
    "duration": 0,
    "start_time": "2024-04-30T09:31:56.206Z"
   },
   {
    "duration": 0,
    "start_time": "2024-04-30T09:31:56.208Z"
   },
   {
    "duration": 8,
    "start_time": "2024-04-30T09:32:06.439Z"
   },
   {
    "duration": 9,
    "start_time": "2024-04-30T09:32:12.897Z"
   },
   {
    "duration": 132,
    "start_time": "2024-04-30T09:34:14.888Z"
   },
   {
    "duration": 139,
    "start_time": "2024-04-30T09:34:26.538Z"
   },
   {
    "duration": 201,
    "start_time": "2024-04-30T09:34:35.200Z"
   },
   {
    "duration": 166,
    "start_time": "2024-04-30T09:34:54.500Z"
   },
   {
    "duration": 179,
    "start_time": "2024-04-30T09:35:11.963Z"
   },
   {
    "duration": 199,
    "start_time": "2024-04-30T09:35:19.413Z"
   },
   {
    "duration": 136,
    "start_time": "2024-04-30T09:35:29.130Z"
   },
   {
    "duration": 143,
    "start_time": "2024-04-30T09:35:45.438Z"
   },
   {
    "duration": 11,
    "start_time": "2024-04-30T09:36:32.790Z"
   },
   {
    "duration": 99,
    "start_time": "2024-04-30T09:37:23.506Z"
   },
   {
    "duration": 11,
    "start_time": "2024-04-30T09:41:11.534Z"
   },
   {
    "duration": 17,
    "start_time": "2024-04-30T09:42:44.600Z"
   },
   {
    "duration": 14,
    "start_time": "2024-04-30T09:42:54.661Z"
   },
   {
    "duration": 10,
    "start_time": "2024-04-30T09:43:10.224Z"
   },
   {
    "duration": 13,
    "start_time": "2024-04-30T09:49:11.662Z"
   },
   {
    "duration": 12,
    "start_time": "2024-04-30T09:49:21.520Z"
   },
   {
    "duration": 12,
    "start_time": "2024-04-30T09:49:44.328Z"
   },
   {
    "duration": 7,
    "start_time": "2024-04-30T09:49:50.938Z"
   },
   {
    "duration": 11,
    "start_time": "2024-04-30T09:50:03.050Z"
   },
   {
    "duration": 11,
    "start_time": "2024-04-30T09:51:33.707Z"
   },
   {
    "duration": 9,
    "start_time": "2024-04-30T09:51:48.329Z"
   },
   {
    "duration": 151,
    "start_time": "2024-04-30T09:54:05.652Z"
   },
   {
    "duration": 151,
    "start_time": "2024-04-30T09:54:12.544Z"
   },
   {
    "duration": 5,
    "start_time": "2024-04-30T09:55:49.255Z"
   },
   {
    "duration": 5,
    "start_time": "2024-04-30T09:56:21.994Z"
   },
   {
    "duration": 6,
    "start_time": "2024-04-30T09:56:53.387Z"
   },
   {
    "duration": 7,
    "start_time": "2024-04-30T09:57:20.935Z"
   },
   {
    "duration": 8,
    "start_time": "2024-04-30T09:57:30.631Z"
   },
   {
    "duration": 8,
    "start_time": "2024-04-30T10:15:00.026Z"
   },
   {
    "duration": 7,
    "start_time": "2024-04-30T10:15:05.901Z"
   },
   {
    "duration": 48,
    "start_time": "2024-04-30T10:22:40.946Z"
   },
   {
    "duration": 11,
    "start_time": "2024-04-30T10:24:09.133Z"
   },
   {
    "duration": 12,
    "start_time": "2024-04-30T10:24:26.922Z"
   },
   {
    "duration": 181,
    "start_time": "2024-04-30T10:24:58.792Z"
   },
   {
    "duration": 175,
    "start_time": "2024-04-30T10:25:51.507Z"
   },
   {
    "duration": 277,
    "start_time": "2024-04-30T10:26:03.507Z"
   },
   {
    "duration": 200,
    "start_time": "2024-04-30T10:26:16.234Z"
   },
   {
    "duration": 157,
    "start_time": "2024-04-30T10:26:45.114Z"
   },
   {
    "duration": 195,
    "start_time": "2024-04-30T10:26:51.012Z"
   },
   {
    "duration": 1789,
    "start_time": "2024-04-30T10:53:21.524Z"
   },
   {
    "duration": 294,
    "start_time": "2024-04-30T10:53:28.943Z"
   },
   {
    "duration": 198,
    "start_time": "2024-04-30T10:53:41.212Z"
   },
   {
    "duration": 10,
    "start_time": "2024-04-30T11:01:37.496Z"
   },
   {
    "duration": 170,
    "start_time": "2024-04-30T11:02:07.210Z"
   },
   {
    "duration": 145,
    "start_time": "2024-04-30T11:02:16.112Z"
   },
   {
    "duration": 78,
    "start_time": "2024-04-30T11:51:22.280Z"
   },
   {
    "duration": 687,
    "start_time": "2024-04-30T11:53:28.138Z"
   },
   {
    "duration": 31,
    "start_time": "2024-04-30T11:53:28.828Z"
   },
   {
    "duration": 17,
    "start_time": "2024-04-30T11:53:28.860Z"
   },
   {
    "duration": 24,
    "start_time": "2024-04-30T11:53:28.879Z"
   },
   {
    "duration": 49,
    "start_time": "2024-04-30T11:53:28.904Z"
   },
   {
    "duration": 43,
    "start_time": "2024-04-30T11:53:28.955Z"
   },
   {
    "duration": 11,
    "start_time": "2024-04-30T11:53:28.999Z"
   },
   {
    "duration": 35,
    "start_time": "2024-04-30T11:53:29.012Z"
   },
   {
    "duration": 27,
    "start_time": "2024-04-30T11:53:29.049Z"
   },
   {
    "duration": 11,
    "start_time": "2024-04-30T11:53:29.080Z"
   },
   {
    "duration": 21,
    "start_time": "2024-04-30T11:53:29.093Z"
   },
   {
    "duration": 29,
    "start_time": "2024-04-30T11:53:29.116Z"
   },
   {
    "duration": 7,
    "start_time": "2024-04-30T11:53:29.148Z"
   },
   {
    "duration": 27,
    "start_time": "2024-04-30T11:53:29.157Z"
   },
   {
    "duration": 8,
    "start_time": "2024-04-30T11:53:29.187Z"
   },
   {
    "duration": 22,
    "start_time": "2024-04-30T11:53:29.197Z"
   },
   {
    "duration": 12,
    "start_time": "2024-04-30T11:53:29.221Z"
   },
   {
    "duration": 16,
    "start_time": "2024-04-30T11:53:29.236Z"
   },
   {
    "duration": 17,
    "start_time": "2024-04-30T11:53:29.255Z"
   },
   {
    "duration": 14,
    "start_time": "2024-04-30T11:53:29.274Z"
   },
   {
    "duration": 10,
    "start_time": "2024-04-30T11:53:29.290Z"
   },
   {
    "duration": 19,
    "start_time": "2024-04-30T11:53:29.302Z"
   },
   {
    "duration": 209,
    "start_time": "2024-04-30T11:53:29.323Z"
   },
   {
    "duration": 9,
    "start_time": "2024-04-30T11:53:29.535Z"
   },
   {
    "duration": 139,
    "start_time": "2024-04-30T11:53:29.546Z"
   },
   {
    "duration": 8,
    "start_time": "2024-04-30T11:53:29.687Z"
   },
   {
    "duration": 14,
    "start_time": "2024-04-30T11:53:29.697Z"
   },
   {
    "duration": 161,
    "start_time": "2024-04-30T11:53:29.716Z"
   },
   {
    "duration": 8,
    "start_time": "2024-04-30T11:53:29.879Z"
   },
   {
    "duration": 24,
    "start_time": "2024-04-30T11:53:29.888Z"
   },
   {
    "duration": 207,
    "start_time": "2024-04-30T11:53:29.914Z"
   },
   {
    "duration": 9,
    "start_time": "2024-04-30T11:53:30.123Z"
   },
   {
    "duration": 272,
    "start_time": "2024-04-30T11:53:30.133Z"
   },
   {
    "duration": 49,
    "start_time": "2024-04-30T11:53:30.407Z"
   },
   {
    "duration": 0,
    "start_time": "2024-04-30T11:53:30.458Z"
   },
   {
    "duration": 12,
    "start_time": "2024-04-30T11:55:53.913Z"
   },
   {
    "duration": 17,
    "start_time": "2024-04-30T11:56:01.945Z"
   },
   {
    "duration": 20,
    "start_time": "2024-04-30T11:56:26.730Z"
   },
   {
    "duration": 22,
    "start_time": "2024-04-30T11:59:02.236Z"
   },
   {
    "duration": 10,
    "start_time": "2024-04-30T11:59:50.659Z"
   },
   {
    "duration": 14,
    "start_time": "2024-04-30T11:59:52.707Z"
   },
   {
    "duration": 11,
    "start_time": "2024-04-30T12:00:30.087Z"
   },
   {
    "duration": 14,
    "start_time": "2024-04-30T12:00:31.329Z"
   },
   {
    "duration": 11,
    "start_time": "2024-04-30T12:11:10.731Z"
   },
   {
    "duration": 15,
    "start_time": "2024-04-30T12:11:13.014Z"
   },
   {
    "duration": 22,
    "start_time": "2024-04-30T13:10:35.542Z"
   },
   {
    "duration": 27,
    "start_time": "2024-04-30T13:10:46.065Z"
   },
   {
    "duration": 16,
    "start_time": "2024-04-30T13:10:57.739Z"
   },
   {
    "duration": 24,
    "start_time": "2024-04-30T13:11:03.203Z"
   },
   {
    "duration": 16,
    "start_time": "2024-04-30T13:11:11.953Z"
   },
   {
    "duration": 7,
    "start_time": "2024-04-30T13:14:04.571Z"
   },
   {
    "duration": 7,
    "start_time": "2024-04-30T13:14:52.614Z"
   },
   {
    "duration": 17,
    "start_time": "2024-04-30T13:14:54.260Z"
   },
   {
    "duration": 12,
    "start_time": "2024-04-30T13:15:31.119Z"
   },
   {
    "duration": 11,
    "start_time": "2024-04-30T13:15:45.984Z"
   },
   {
    "duration": 290,
    "start_time": "2024-04-30T13:23:28.876Z"
   },
   {
    "duration": 169,
    "start_time": "2024-04-30T13:24:45.052Z"
   },
   {
    "duration": 168,
    "start_time": "2024-04-30T13:26:53.032Z"
   },
   {
    "duration": 171,
    "start_time": "2024-04-30T13:27:45.469Z"
   },
   {
    "duration": 147,
    "start_time": "2024-04-30T13:28:14.621Z"
   },
   {
    "duration": 9,
    "start_time": "2024-04-30T13:34:11.632Z"
   },
   {
    "duration": 10,
    "start_time": "2024-04-30T13:34:50.055Z"
   },
   {
    "duration": 4,
    "start_time": "2024-04-30T13:35:34.180Z"
   },
   {
    "duration": 10,
    "start_time": "2024-04-30T13:35:58.623Z"
   },
   {
    "duration": 24,
    "start_time": "2024-04-30T13:56:42.167Z"
   },
   {
    "duration": 45,
    "start_time": "2024-04-30T14:13:13.779Z"
   },
   {
    "duration": 35,
    "start_time": "2024-04-30T14:13:22.547Z"
   },
   {
    "duration": 6,
    "start_time": "2024-04-30T14:14:30.962Z"
   },
   {
    "duration": 6,
    "start_time": "2024-04-30T14:14:39.141Z"
   },
   {
    "duration": 6,
    "start_time": "2024-04-30T14:14:48.177Z"
   },
   {
    "duration": 6,
    "start_time": "2024-04-30T14:15:49.726Z"
   },
   {
    "duration": 79,
    "start_time": "2024-04-30T14:23:51.684Z"
   },
   {
    "duration": 6,
    "start_time": "2024-04-30T14:24:24.328Z"
   },
   {
    "duration": 12,
    "start_time": "2024-04-30T14:32:05.215Z"
   },
   {
    "duration": 18,
    "start_time": "2024-04-30T14:33:30.199Z"
   },
   {
    "duration": 14,
    "start_time": "2024-04-30T14:33:35.541Z"
   },
   {
    "duration": 21,
    "start_time": "2024-04-30T14:33:59.068Z"
   },
   {
    "duration": 9,
    "start_time": "2024-04-30T14:35:42.143Z"
   },
   {
    "duration": 7,
    "start_time": "2024-04-30T14:35:47.217Z"
   },
   {
    "duration": 12,
    "start_time": "2024-04-30T14:35:48.999Z"
   },
   {
    "duration": 7,
    "start_time": "2024-04-30T14:36:40.246Z"
   },
   {
    "duration": 12,
    "start_time": "2024-04-30T14:36:40.863Z"
   },
   {
    "duration": 1160,
    "start_time": "2024-04-30T16:14:09.285Z"
   },
   {
    "duration": 86,
    "start_time": "2024-04-30T16:14:10.448Z"
   },
   {
    "duration": 12,
    "start_time": "2024-04-30T16:14:10.536Z"
   },
   {
    "duration": 19,
    "start_time": "2024-04-30T16:14:10.550Z"
   },
   {
    "duration": 20,
    "start_time": "2024-04-30T16:14:10.570Z"
   },
   {
    "duration": 78,
    "start_time": "2024-04-30T16:14:10.592Z"
   },
   {
    "duration": 7,
    "start_time": "2024-04-30T16:14:10.672Z"
   },
   {
    "duration": 27,
    "start_time": "2024-04-30T16:14:10.680Z"
   },
   {
    "duration": 62,
    "start_time": "2024-04-30T16:14:10.709Z"
   },
   {
    "duration": 5,
    "start_time": "2024-04-30T16:14:10.773Z"
   },
   {
    "duration": 21,
    "start_time": "2024-04-30T16:14:10.780Z"
   },
   {
    "duration": 11,
    "start_time": "2024-04-30T16:14:10.802Z"
   },
   {
    "duration": 4,
    "start_time": "2024-04-30T16:14:10.814Z"
   },
   {
    "duration": 7,
    "start_time": "2024-04-30T16:14:10.820Z"
   },
   {
    "duration": 7,
    "start_time": "2024-04-30T16:14:10.828Z"
   },
   {
    "duration": 7,
    "start_time": "2024-04-30T16:14:10.836Z"
   },
   {
    "duration": 9,
    "start_time": "2024-04-30T16:14:10.845Z"
   },
   {
    "duration": 14,
    "start_time": "2024-04-30T16:14:10.855Z"
   },
   {
    "duration": 21,
    "start_time": "2024-04-30T16:14:10.870Z"
   },
   {
    "duration": 7,
    "start_time": "2024-04-30T16:14:10.892Z"
   },
   {
    "duration": 11,
    "start_time": "2024-04-30T16:14:10.900Z"
   },
   {
    "duration": 16,
    "start_time": "2024-04-30T16:14:10.912Z"
   },
   {
    "duration": 17,
    "start_time": "2024-04-30T16:14:10.929Z"
   },
   {
    "duration": 132,
    "start_time": "2024-04-30T16:14:10.947Z"
   },
   {
    "duration": 5,
    "start_time": "2024-04-30T16:14:11.080Z"
   },
   {
    "duration": 92,
    "start_time": "2024-04-30T16:14:11.086Z"
   },
   {
    "duration": 6,
    "start_time": "2024-04-30T16:14:11.179Z"
   },
   {
    "duration": 14,
    "start_time": "2024-04-30T16:14:11.188Z"
   },
   {
    "duration": 107,
    "start_time": "2024-04-30T16:14:11.203Z"
   },
   {
    "duration": 5,
    "start_time": "2024-04-30T16:14:11.311Z"
   },
   {
    "duration": 13,
    "start_time": "2024-04-30T16:14:11.317Z"
   },
   {
    "duration": 133,
    "start_time": "2024-04-30T16:14:11.331Z"
   },
   {
    "duration": 6,
    "start_time": "2024-04-30T16:14:11.466Z"
   },
   {
    "duration": 112,
    "start_time": "2024-04-30T16:14:11.473Z"
   },
   {
    "duration": 22,
    "start_time": "2024-04-30T16:14:11.587Z"
   },
   {
    "duration": 15,
    "start_time": "2024-04-30T16:14:11.610Z"
   },
   {
    "duration": 7,
    "start_time": "2024-04-30T16:14:11.626Z"
   },
   {
    "duration": 13,
    "start_time": "2024-04-30T16:14:11.634Z"
   },
   {
    "duration": 11,
    "start_time": "2024-04-30T16:14:11.648Z"
   },
   {
    "duration": 24,
    "start_time": "2024-04-30T16:14:11.660Z"
   },
   {
    "duration": 128,
    "start_time": "2024-04-30T16:14:11.685Z"
   },
   {
    "duration": 142,
    "start_time": "2024-04-30T16:14:11.814Z"
   },
   {
    "duration": 120,
    "start_time": "2024-04-30T16:14:11.957Z"
   },
   {
    "duration": 7,
    "start_time": "2024-04-30T16:14:12.079Z"
   },
   {
    "duration": 119,
    "start_time": "2024-04-30T16:14:12.087Z"
   },
   {
    "duration": 7,
    "start_time": "2024-04-30T16:14:12.208Z"
   },
   {
    "duration": 94,
    "start_time": "2024-04-30T16:14:12.216Z"
   },
   {
    "duration": 0,
    "start_time": "2024-04-30T16:14:12.312Z"
   },
   {
    "duration": 0,
    "start_time": "2024-04-30T16:14:12.313Z"
   },
   {
    "duration": 0,
    "start_time": "2024-04-30T16:14:12.313Z"
   },
   {
    "duration": 7,
    "start_time": "2024-04-30T16:14:42.166Z"
   },
   {
    "duration": 19,
    "start_time": "2024-04-30T16:15:20.357Z"
   },
   {
    "duration": 7,
    "start_time": "2024-04-30T16:28:23.217Z"
   },
   {
    "duration": 85,
    "start_time": "2024-04-30T16:28:45.176Z"
   },
   {
    "duration": 16,
    "start_time": "2024-04-30T16:28:56.384Z"
   },
   {
    "duration": 3,
    "start_time": "2024-04-30T16:33:03.143Z"
   },
   {
    "duration": 53,
    "start_time": "2024-04-30T16:33:06.282Z"
   },
   {
    "duration": 1298,
    "start_time": "2024-04-30T19:22:15.592Z"
   },
   {
    "duration": 117,
    "start_time": "2024-04-30T19:22:16.892Z"
   },
   {
    "duration": 13,
    "start_time": "2024-04-30T19:22:17.011Z"
   },
   {
    "duration": 7,
    "start_time": "2024-04-30T19:22:17.025Z"
   },
   {
    "duration": 11,
    "start_time": "2024-04-30T19:22:17.033Z"
   },
   {
    "duration": 152,
    "start_time": "2024-04-30T19:22:17.045Z"
   },
   {
    "duration": 9,
    "start_time": "2024-04-30T19:22:17.198Z"
   },
   {
    "duration": 14,
    "start_time": "2024-04-30T19:22:17.208Z"
   },
   {
    "duration": 69,
    "start_time": "2024-04-30T19:22:17.223Z"
   },
   {
    "duration": 6,
    "start_time": "2024-04-30T19:22:17.295Z"
   },
   {
    "duration": 10,
    "start_time": "2024-04-30T19:22:17.303Z"
   },
   {
    "duration": 11,
    "start_time": "2024-04-30T19:22:17.314Z"
   },
   {
    "duration": 4,
    "start_time": "2024-04-30T19:22:17.326Z"
   },
   {
    "duration": 9,
    "start_time": "2024-04-30T19:22:17.332Z"
   },
   {
    "duration": 6,
    "start_time": "2024-04-30T19:22:17.342Z"
   },
   {
    "duration": 11,
    "start_time": "2024-04-30T19:22:17.349Z"
   },
   {
    "duration": 10,
    "start_time": "2024-04-30T19:22:17.361Z"
   },
   {
    "duration": 6,
    "start_time": "2024-04-30T19:22:17.372Z"
   },
   {
    "duration": 5,
    "start_time": "2024-04-30T19:22:17.380Z"
   },
   {
    "duration": 32,
    "start_time": "2024-04-30T19:22:17.387Z"
   },
   {
    "duration": 12,
    "start_time": "2024-04-30T19:22:17.421Z"
   },
   {
    "duration": 6,
    "start_time": "2024-04-30T19:22:17.435Z"
   },
   {
    "duration": 5,
    "start_time": "2024-04-30T19:22:17.443Z"
   },
   {
    "duration": 176,
    "start_time": "2024-04-30T19:22:17.449Z"
   },
   {
    "duration": 7,
    "start_time": "2024-04-30T19:22:17.627Z"
   },
   {
    "duration": 121,
    "start_time": "2024-04-30T19:22:17.635Z"
   },
   {
    "duration": 7,
    "start_time": "2024-04-30T19:22:17.758Z"
   },
   {
    "duration": 7,
    "start_time": "2024-04-30T19:22:17.769Z"
   },
   {
    "duration": 159,
    "start_time": "2024-04-30T19:22:17.778Z"
   },
   {
    "duration": 5,
    "start_time": "2024-04-30T19:22:17.939Z"
   },
   {
    "duration": 12,
    "start_time": "2024-04-30T19:22:17.946Z"
   },
   {
    "duration": 190,
    "start_time": "2024-04-30T19:22:17.960Z"
   },
   {
    "duration": 9,
    "start_time": "2024-04-30T19:22:18.152Z"
   },
   {
    "duration": 143,
    "start_time": "2024-04-30T19:22:18.162Z"
   },
   {
    "duration": 22,
    "start_time": "2024-04-30T19:22:18.307Z"
   },
   {
    "duration": 19,
    "start_time": "2024-04-30T19:22:18.331Z"
   },
   {
    "duration": 8,
    "start_time": "2024-04-30T19:22:18.351Z"
   },
   {
    "duration": 11,
    "start_time": "2024-04-30T19:22:18.361Z"
   },
   {
    "duration": 6,
    "start_time": "2024-04-30T19:22:18.373Z"
   },
   {
    "duration": 39,
    "start_time": "2024-04-30T19:22:18.380Z"
   },
   {
    "duration": 166,
    "start_time": "2024-04-30T19:22:18.421Z"
   },
   {
    "duration": 168,
    "start_time": "2024-04-30T19:22:18.588Z"
   },
   {
    "duration": 177,
    "start_time": "2024-04-30T19:22:18.758Z"
   },
   {
    "duration": 8,
    "start_time": "2024-04-30T19:22:18.937Z"
   },
   {
    "duration": 164,
    "start_time": "2024-04-30T19:22:18.947Z"
   },
   {
    "duration": 9,
    "start_time": "2024-04-30T19:22:19.114Z"
   },
   {
    "duration": 94,
    "start_time": "2024-04-30T19:22:19.124Z"
   },
   {
    "duration": 3,
    "start_time": "2024-04-30T19:22:19.220Z"
   },
   {
    "duration": 6,
    "start_time": "2024-04-30T19:22:19.225Z"
   },
   {
    "duration": 98,
    "start_time": "2024-04-30T19:22:19.232Z"
   },
   {
    "duration": 13,
    "start_time": "2024-04-30T19:22:19.331Z"
   },
   {
    "duration": 5,
    "start_time": "2024-04-30T19:29:25.937Z"
   },
   {
    "duration": 20,
    "start_time": "2024-04-30T19:29:29.093Z"
   },
   {
    "duration": 9,
    "start_time": "2024-04-30T19:30:33.426Z"
   },
   {
    "duration": 13,
    "start_time": "2024-04-30T19:32:33.677Z"
   },
   {
    "duration": 82,
    "start_time": "2024-04-30T19:32:41.292Z"
   },
   {
    "duration": 4,
    "start_time": "2024-04-30T19:32:41.890Z"
   },
   {
    "duration": 2,
    "start_time": "2024-04-30T19:32:43.209Z"
   },
   {
    "duration": 10,
    "start_time": "2024-04-30T19:32:44.198Z"
   },
   {
    "duration": 3,
    "start_time": "2024-04-30T19:32:54.530Z"
   },
   {
    "duration": 10,
    "start_time": "2024-04-30T19:32:55.952Z"
   },
   {
    "duration": 97,
    "start_time": "2024-04-30T19:35:58.002Z"
   },
   {
    "duration": 3,
    "start_time": "2024-04-30T19:35:58.965Z"
   },
   {
    "duration": 4,
    "start_time": "2024-04-30T19:35:59.966Z"
   },
   {
    "duration": 10,
    "start_time": "2024-04-30T19:36:02.229Z"
   },
   {
    "duration": 949,
    "start_time": "2024-04-30T19:39:02.517Z"
   },
   {
    "duration": 2,
    "start_time": "2024-04-30T19:39:03.473Z"
   },
   {
    "duration": 3,
    "start_time": "2024-04-30T19:39:03.992Z"
   },
   {
    "duration": 11,
    "start_time": "2024-04-30T19:39:05.418Z"
   },
   {
    "duration": 117,
    "start_time": "2024-04-30T19:39:24.916Z"
   },
   {
    "duration": 859,
    "start_time": "2024-04-30T19:39:35.317Z"
   },
   {
    "duration": 3,
    "start_time": "2024-04-30T19:39:36.178Z"
   },
   {
    "duration": 4,
    "start_time": "2024-04-30T19:39:36.553Z"
   },
   {
    "duration": 11,
    "start_time": "2024-04-30T19:39:38.023Z"
   },
   {
    "duration": 15,
    "start_time": "2024-04-30T19:39:48.080Z"
   },
   {
    "duration": 876,
    "start_time": "2024-04-30T19:41:48.949Z"
   },
   {
    "duration": 4,
    "start_time": "2024-04-30T19:41:49.826Z"
   },
   {
    "duration": 3,
    "start_time": "2024-04-30T19:41:50.177Z"
   },
   {
    "duration": 15,
    "start_time": "2024-04-30T19:41:51.553Z"
   },
   {
    "duration": 13,
    "start_time": "2024-04-30T19:42:15.614Z"
   },
   {
    "duration": 76,
    "start_time": "2024-04-30T20:06:26.746Z"
   },
   {
    "duration": 10,
    "start_time": "2024-04-30T20:09:30.548Z"
   },
   {
    "duration": 3,
    "start_time": "2024-04-30T20:11:02.096Z"
   },
   {
    "duration": 279,
    "start_time": "2024-04-30T20:11:04.002Z"
   },
   {
    "duration": 939,
    "start_time": "2024-04-30T20:12:29.633Z"
   },
   {
    "duration": 495,
    "start_time": "2024-04-30T20:12:55.403Z"
   },
   {
    "duration": 7,
    "start_time": "2024-04-30T20:16:04.337Z"
   },
   {
    "duration": 7,
    "start_time": "2024-04-30T20:16:14.353Z"
   },
   {
    "duration": 4,
    "start_time": "2024-04-30T20:16:45.547Z"
   },
   {
    "duration": 4,
    "start_time": "2024-04-30T20:16:55.437Z"
   },
   {
    "duration": 4,
    "start_time": "2024-04-30T20:18:43.453Z"
   },
   {
    "duration": 4,
    "start_time": "2024-04-30T20:19:50.589Z"
   },
   {
    "duration": 272,
    "start_time": "2024-04-30T20:20:29.042Z"
   },
   {
    "duration": 21,
    "start_time": "2024-04-30T20:21:05.265Z"
   },
   {
    "duration": 17,
    "start_time": "2024-04-30T20:21:20.450Z"
   },
   {
    "duration": 4,
    "start_time": "2024-04-30T20:21:38.880Z"
   },
   {
    "duration": 136,
    "start_time": "2024-04-30T20:21:43.023Z"
   },
   {
    "duration": 18,
    "start_time": "2024-04-30T20:21:51.902Z"
   },
   {
    "duration": 4,
    "start_time": "2024-04-30T20:27:57.178Z"
   },
   {
    "duration": 16,
    "start_time": "2024-04-30T20:28:03.654Z"
   },
   {
    "duration": 17,
    "start_time": "2024-04-30T20:28:17.045Z"
   },
   {
    "duration": 1090,
    "start_time": "2024-04-30T20:28:29.380Z"
   },
   {
    "duration": 29,
    "start_time": "2024-04-30T20:28:30.472Z"
   },
   {
    "duration": 32,
    "start_time": "2024-04-30T20:28:30.503Z"
   },
   {
    "duration": 47,
    "start_time": "2024-04-30T20:28:30.536Z"
   },
   {
    "duration": 50,
    "start_time": "2024-04-30T20:28:30.585Z"
   },
   {
    "duration": 72,
    "start_time": "2024-04-30T20:28:30.637Z"
   },
   {
    "duration": 32,
    "start_time": "2024-04-30T20:28:30.710Z"
   },
   {
    "duration": 63,
    "start_time": "2024-04-30T20:28:30.744Z"
   },
   {
    "duration": 34,
    "start_time": "2024-04-30T20:28:30.809Z"
   },
   {
    "duration": 24,
    "start_time": "2024-04-30T20:28:30.845Z"
   },
   {
    "duration": 49,
    "start_time": "2024-04-30T20:28:30.871Z"
   },
   {
    "duration": 30,
    "start_time": "2024-04-30T20:28:30.922Z"
   },
   {
    "duration": 40,
    "start_time": "2024-04-30T20:28:30.953Z"
   },
   {
    "duration": 31,
    "start_time": "2024-04-30T20:28:30.995Z"
   },
   {
    "duration": 52,
    "start_time": "2024-04-30T20:28:31.028Z"
   },
   {
    "duration": 27,
    "start_time": "2024-04-30T20:28:31.081Z"
   },
   {
    "duration": 29,
    "start_time": "2024-04-30T20:28:31.109Z"
   },
   {
    "duration": 26,
    "start_time": "2024-04-30T20:28:31.139Z"
   },
   {
    "duration": 43,
    "start_time": "2024-04-30T20:28:31.166Z"
   },
   {
    "duration": 17,
    "start_time": "2024-04-30T20:28:31.211Z"
   },
   {
    "duration": 22,
    "start_time": "2024-04-30T20:28:31.229Z"
   },
   {
    "duration": 31,
    "start_time": "2024-04-30T20:28:31.253Z"
   },
   {
    "duration": 9,
    "start_time": "2024-04-30T20:28:31.285Z"
   },
   {
    "duration": 147,
    "start_time": "2024-04-30T20:28:31.295Z"
   },
   {
    "duration": 6,
    "start_time": "2024-04-30T20:28:31.444Z"
   },
   {
    "duration": 118,
    "start_time": "2024-04-30T20:28:31.451Z"
   },
   {
    "duration": 7,
    "start_time": "2024-04-30T20:28:31.570Z"
   },
   {
    "duration": 30,
    "start_time": "2024-04-30T20:28:31.580Z"
   },
   {
    "duration": 142,
    "start_time": "2024-04-30T20:28:31.611Z"
   },
   {
    "duration": 5,
    "start_time": "2024-04-30T20:28:31.755Z"
   },
   {
    "duration": 37,
    "start_time": "2024-04-30T20:28:31.762Z"
   },
   {
    "duration": 172,
    "start_time": "2024-04-30T20:28:31.801Z"
   },
   {
    "duration": 8,
    "start_time": "2024-04-30T20:28:31.974Z"
   },
   {
    "duration": 136,
    "start_time": "2024-04-30T20:28:31.983Z"
   },
   {
    "duration": 18,
    "start_time": "2024-04-30T20:28:32.121Z"
   },
   {
    "duration": 20,
    "start_time": "2024-04-30T20:28:32.140Z"
   },
   {
    "duration": 8,
    "start_time": "2024-04-30T20:28:32.162Z"
   },
   {
    "duration": 17,
    "start_time": "2024-04-30T20:28:32.171Z"
   },
   {
    "duration": 26,
    "start_time": "2024-04-30T20:28:32.189Z"
   },
   {
    "duration": 13,
    "start_time": "2024-04-30T20:28:32.217Z"
   },
   {
    "duration": 165,
    "start_time": "2024-04-30T20:28:32.232Z"
   },
   {
    "duration": 155,
    "start_time": "2024-04-30T20:28:32.398Z"
   },
   {
    "duration": 156,
    "start_time": "2024-04-30T20:28:32.554Z"
   },
   {
    "duration": 9,
    "start_time": "2024-04-30T20:28:32.712Z"
   },
   {
    "duration": 142,
    "start_time": "2024-04-30T20:28:32.722Z"
   },
   {
    "duration": 7,
    "start_time": "2024-04-30T20:28:32.865Z"
   },
   {
    "duration": 13,
    "start_time": "2024-04-30T20:28:32.873Z"
   },
   {
    "duration": 0,
    "start_time": "2024-04-30T20:28:32.887Z"
   },
   {
    "duration": 0,
    "start_time": "2024-04-30T20:28:32.888Z"
   },
   {
    "duration": 0,
    "start_time": "2024-04-30T20:28:32.889Z"
   },
   {
    "duration": 0,
    "start_time": "2024-04-30T20:28:32.890Z"
   },
   {
    "duration": 0,
    "start_time": "2024-04-30T20:28:32.891Z"
   },
   {
    "duration": 0,
    "start_time": "2024-04-30T20:28:32.892Z"
   },
   {
    "duration": 0,
    "start_time": "2024-04-30T20:28:32.893Z"
   },
   {
    "duration": 0,
    "start_time": "2024-04-30T20:28:32.894Z"
   },
   {
    "duration": 70,
    "start_time": "2024-04-30T20:29:00.913Z"
   },
   {
    "duration": 866,
    "start_time": "2024-04-30T20:29:11.978Z"
   },
   {
    "duration": 4,
    "start_time": "2024-04-30T20:29:16.745Z"
   },
   {
    "duration": 4,
    "start_time": "2024-04-30T20:29:17.351Z"
   },
   {
    "duration": 11,
    "start_time": "2024-04-30T20:29:20.209Z"
   },
   {
    "duration": 4,
    "start_time": "2024-04-30T20:29:27.117Z"
   },
   {
    "duration": 4,
    "start_time": "2024-04-30T20:29:34.205Z"
   },
   {
    "duration": 107,
    "start_time": "2024-04-30T20:29:36.944Z"
   },
   {
    "duration": 4,
    "start_time": "2024-04-30T20:30:21.362Z"
   },
   {
    "duration": 138,
    "start_time": "2024-04-30T20:30:22.343Z"
   },
   {
    "duration": 21,
    "start_time": "2024-04-30T20:30:23.713Z"
   },
   {
    "duration": 12,
    "start_time": "2024-04-30T20:31:22.096Z"
   },
   {
    "duration": 17,
    "start_time": "2024-04-30T20:31:33.232Z"
   },
   {
    "duration": 9,
    "start_time": "2024-04-30T21:59:02.583Z"
   },
   {
    "duration": 5,
    "start_time": "2024-04-30T21:59:56.596Z"
   },
   {
    "duration": 6,
    "start_time": "2024-04-30T22:03:48.802Z"
   },
   {
    "duration": 6,
    "start_time": "2024-04-30T22:06:29.948Z"
   },
   {
    "duration": 6,
    "start_time": "2024-04-30T22:07:45.825Z"
   },
   {
    "duration": 6,
    "start_time": "2024-04-30T22:14:09.298Z"
   },
   {
    "duration": 7,
    "start_time": "2024-04-30T22:26:12.920Z"
   },
   {
    "duration": 7,
    "start_time": "2024-04-30T22:26:38.793Z"
   },
   {
    "duration": 68,
    "start_time": "2024-05-01T09:54:05.377Z"
   },
   {
    "duration": 1318,
    "start_time": "2024-05-01T09:54:10.281Z"
   },
   {
    "duration": 83,
    "start_time": "2024-05-01T09:54:11.602Z"
   },
   {
    "duration": 15,
    "start_time": "2024-05-01T09:54:11.686Z"
   },
   {
    "duration": 9,
    "start_time": "2024-05-01T09:54:11.703Z"
   },
   {
    "duration": 30,
    "start_time": "2024-05-01T09:54:11.713Z"
   },
   {
    "duration": 80,
    "start_time": "2024-05-01T09:54:11.745Z"
   },
   {
    "duration": 18,
    "start_time": "2024-05-01T09:54:11.827Z"
   },
   {
    "duration": 13,
    "start_time": "2024-05-01T09:54:11.846Z"
   },
   {
    "duration": 62,
    "start_time": "2024-05-01T09:54:11.860Z"
   },
   {
    "duration": 17,
    "start_time": "2024-05-01T09:54:11.925Z"
   },
   {
    "duration": 15,
    "start_time": "2024-05-01T09:54:11.944Z"
   },
   {
    "duration": 11,
    "start_time": "2024-05-01T09:54:11.961Z"
   },
   {
    "duration": 6,
    "start_time": "2024-05-01T09:54:11.973Z"
   },
   {
    "duration": 11,
    "start_time": "2024-05-01T09:54:11.980Z"
   },
   {
    "duration": 7,
    "start_time": "2024-05-01T09:54:11.992Z"
   },
   {
    "duration": 12,
    "start_time": "2024-05-01T09:54:12.000Z"
   },
   {
    "duration": 28,
    "start_time": "2024-05-01T09:54:12.013Z"
   },
   {
    "duration": 10,
    "start_time": "2024-05-01T09:54:12.043Z"
   },
   {
    "duration": 5,
    "start_time": "2024-05-01T09:54:12.055Z"
   },
   {
    "duration": 8,
    "start_time": "2024-05-01T09:54:12.061Z"
   },
   {
    "duration": 13,
    "start_time": "2024-05-01T09:54:12.070Z"
   },
   {
    "duration": 11,
    "start_time": "2024-05-01T09:54:12.084Z"
   },
   {
    "duration": 46,
    "start_time": "2024-05-01T09:54:12.097Z"
   },
   {
    "duration": 172,
    "start_time": "2024-05-01T09:54:12.144Z"
   },
   {
    "duration": 6,
    "start_time": "2024-05-01T09:54:12.318Z"
   },
   {
    "duration": 119,
    "start_time": "2024-05-01T09:54:12.339Z"
   },
   {
    "duration": 9,
    "start_time": "2024-05-01T09:54:12.460Z"
   },
   {
    "duration": 8,
    "start_time": "2024-05-01T09:54:12.472Z"
   },
   {
    "duration": 165,
    "start_time": "2024-05-01T09:54:12.482Z"
   },
   {
    "duration": 7,
    "start_time": "2024-05-01T09:54:12.649Z"
   },
   {
    "duration": 12,
    "start_time": "2024-05-01T09:54:12.658Z"
   },
   {
    "duration": 229,
    "start_time": "2024-05-01T09:54:12.672Z"
   },
   {
    "duration": 10,
    "start_time": "2024-05-01T09:54:12.903Z"
   },
   {
    "duration": 159,
    "start_time": "2024-05-01T09:54:12.915Z"
   },
   {
    "duration": 19,
    "start_time": "2024-05-01T09:54:13.076Z"
   },
   {
    "duration": 46,
    "start_time": "2024-05-01T09:54:13.097Z"
   },
   {
    "duration": 8,
    "start_time": "2024-05-01T09:54:13.145Z"
   },
   {
    "duration": 13,
    "start_time": "2024-05-01T09:54:13.155Z"
   },
   {
    "duration": 17,
    "start_time": "2024-05-01T09:54:13.169Z"
   },
   {
    "duration": 17,
    "start_time": "2024-05-01T09:54:13.188Z"
   },
   {
    "duration": 189,
    "start_time": "2024-05-01T09:54:13.207Z"
   },
   {
    "duration": 182,
    "start_time": "2024-05-01T09:54:13.398Z"
   },
   {
    "duration": 178,
    "start_time": "2024-05-01T09:54:13.582Z"
   },
   {
    "duration": 9,
    "start_time": "2024-05-01T09:54:13.762Z"
   },
   {
    "duration": 172,
    "start_time": "2024-05-01T09:54:13.773Z"
   },
   {
    "duration": 8,
    "start_time": "2024-05-01T09:54:13.947Z"
   },
   {
    "duration": 1087,
    "start_time": "2024-05-01T09:54:13.956Z"
   },
   {
    "duration": 4,
    "start_time": "2024-05-01T09:54:15.045Z"
   },
   {
    "duration": 45,
    "start_time": "2024-05-01T09:54:15.051Z"
   },
   {
    "duration": 44,
    "start_time": "2024-05-01T09:54:15.098Z"
   },
   {
    "duration": 24,
    "start_time": "2024-05-01T09:54:15.144Z"
   },
   {
    "duration": 188,
    "start_time": "2024-05-01T09:54:15.169Z"
   },
   {
    "duration": 19,
    "start_time": "2024-05-01T09:54:15.359Z"
   },
   {
    "duration": 64,
    "start_time": "2024-05-01T09:54:15.380Z"
   },
   {
    "duration": 9,
    "start_time": "2024-05-01T10:02:03.717Z"
   },
   {
    "duration": 8,
    "start_time": "2024-05-01T10:09:38.185Z"
   },
   {
    "duration": 11,
    "start_time": "2024-05-01T10:19:39.047Z"
   },
   {
    "duration": 6,
    "start_time": "2024-05-01T10:37:26.972Z"
   },
   {
    "duration": 8,
    "start_time": "2024-05-01T10:37:36.950Z"
   },
   {
    "duration": 8,
    "start_time": "2024-05-01T10:38:48.580Z"
   },
   {
    "duration": 8,
    "start_time": "2024-05-01T10:38:49.912Z"
   },
   {
    "duration": 7,
    "start_time": "2024-05-01T10:41:55.712Z"
   },
   {
    "duration": 8,
    "start_time": "2024-05-01T10:43:10.800Z"
   },
   {
    "duration": 7,
    "start_time": "2024-05-01T10:44:47.742Z"
   },
   {
    "duration": 3,
    "start_time": "2024-05-01T11:31:46.677Z"
   },
   {
    "duration": 5,
    "start_time": "2024-05-01T11:32:01.294Z"
   },
   {
    "duration": 3,
    "start_time": "2024-05-01T11:57:42.957Z"
   },
   {
    "duration": 160,
    "start_time": "2024-05-01T12:00:39.786Z"
   },
   {
    "duration": 220,
    "start_time": "2024-05-01T12:03:48.175Z"
   },
   {
    "duration": 54,
    "start_time": "2024-05-01T12:14:10.415Z"
   },
   {
    "duration": 3,
    "start_time": "2024-05-01T12:16:31.953Z"
   },
   {
    "duration": 2533,
    "start_time": "2024-05-01T12:18:05.791Z"
   },
   {
    "duration": 49,
    "start_time": "2024-05-01T12:20:49.706Z"
   },
   {
    "duration": 42,
    "start_time": "2024-05-01T12:20:54.171Z"
   },
   {
    "duration": 2915,
    "start_time": "2024-05-01T12:21:41.594Z"
   },
   {
    "duration": 2464,
    "start_time": "2024-05-01T12:23:46.586Z"
   },
   {
    "duration": 2643,
    "start_time": "2024-05-01T12:24:23.184Z"
   },
   {
    "duration": 756,
    "start_time": "2024-05-01T12:28:26.797Z"
   },
   {
    "duration": 48,
    "start_time": "2024-05-01T12:44:08.441Z"
   },
   {
    "duration": 2,
    "start_time": "2024-05-01T12:44:41.808Z"
   },
   {
    "duration": 3,
    "start_time": "2024-05-01T12:44:45.848Z"
   },
   {
    "duration": 2,
    "start_time": "2024-05-01T12:44:52.928Z"
   },
   {
    "duration": 2,
    "start_time": "2024-05-01T12:45:04.597Z"
   },
   {
    "duration": 287,
    "start_time": "2024-05-01T12:47:31.213Z"
   },
   {
    "duration": 47,
    "start_time": "2024-05-01T12:50:30.034Z"
   },
   {
    "duration": 259,
    "start_time": "2024-05-01T12:51:10.831Z"
   },
   {
    "duration": 267,
    "start_time": "2024-05-01T13:00:40.864Z"
   },
   {
    "duration": 283,
    "start_time": "2024-05-01T13:01:10.156Z"
   },
   {
    "duration": 282,
    "start_time": "2024-05-01T13:01:20.985Z"
   },
   {
    "duration": 264,
    "start_time": "2024-05-01T13:01:35.507Z"
   },
   {
    "duration": 256,
    "start_time": "2024-05-01T13:01:41.818Z"
   },
   {
    "duration": 270,
    "start_time": "2024-05-01T13:03:25.087Z"
   },
   {
    "duration": 267,
    "start_time": "2024-05-01T13:06:33.982Z"
   },
   {
    "duration": 2027,
    "start_time": "2024-05-01T13:12:42.402Z"
   },
   {
    "duration": 2787,
    "start_time": "2024-05-01T13:15:46.225Z"
   },
   {
    "duration": 1541,
    "start_time": "2024-05-01T14:12:42.314Z"
   },
   {
    "duration": 12,
    "start_time": "2024-05-01T14:40:16.007Z"
   },
   {
    "duration": 3,
    "start_time": "2024-05-01T14:41:36.768Z"
   },
   {
    "duration": 3,
    "start_time": "2024-05-01T14:41:44.065Z"
   },
   {
    "duration": 5,
    "start_time": "2024-05-01T14:43:05.296Z"
   },
   {
    "duration": 4,
    "start_time": "2024-05-01T14:43:49.153Z"
   },
   {
    "duration": 6,
    "start_time": "2024-05-01T14:48:06.057Z"
   },
   {
    "duration": 8,
    "start_time": "2024-05-01T14:48:29.804Z"
   },
   {
    "duration": 5,
    "start_time": "2024-05-01T14:48:39.930Z"
   },
   {
    "duration": 5,
    "start_time": "2024-05-01T14:50:50.035Z"
   },
   {
    "duration": 6,
    "start_time": "2024-05-01T14:51:08.323Z"
   },
   {
    "duration": 5,
    "start_time": "2024-05-01T14:52:04.187Z"
   },
   {
    "duration": 7,
    "start_time": "2024-05-01T14:53:58.399Z"
   },
   {
    "duration": 6,
    "start_time": "2024-05-01T14:57:46.374Z"
   },
   {
    "duration": 7,
    "start_time": "2024-05-01T14:58:05.217Z"
   },
   {
    "duration": 6,
    "start_time": "2024-05-01T15:01:28.202Z"
   },
   {
    "duration": 7,
    "start_time": "2024-05-01T15:06:05.068Z"
   },
   {
    "duration": 125,
    "start_time": "2024-05-01T15:08:54.052Z"
   },
   {
    "duration": 936,
    "start_time": "2024-05-01T15:09:34.011Z"
   },
   {
    "duration": 136,
    "start_time": "2024-05-01T15:11:18.574Z"
   },
   {
    "duration": 144,
    "start_time": "2024-05-01T15:12:26.431Z"
   },
   {
    "duration": 132,
    "start_time": "2024-05-01T15:12:34.147Z"
   },
   {
    "duration": 901,
    "start_time": "2024-05-01T15:12:49.794Z"
   },
   {
    "duration": 963,
    "start_time": "2024-05-01T15:13:04.358Z"
   },
   {
    "duration": 1587,
    "start_time": "2024-05-01T15:13:09.638Z"
   },
   {
    "duration": 128,
    "start_time": "2024-05-01T15:13:47.460Z"
   },
   {
    "duration": 908,
    "start_time": "2024-05-01T15:14:07.361Z"
   },
   {
    "duration": 173,
    "start_time": "2024-05-01T15:14:26.071Z"
   },
   {
    "duration": 190,
    "start_time": "2024-05-01T15:14:34.180Z"
   },
   {
    "duration": 161,
    "start_time": "2024-05-01T15:14:40.097Z"
   },
   {
    "duration": 9,
    "start_time": "2024-05-01T15:29:11.780Z"
   },
   {
    "duration": 6,
    "start_time": "2024-05-01T15:30:44.518Z"
   },
   {
    "duration": 6,
    "start_time": "2024-05-01T15:33:19.474Z"
   },
   {
    "duration": 9,
    "start_time": "2024-05-01T15:33:23.257Z"
   },
   {
    "duration": 7,
    "start_time": "2024-05-01T15:33:42.086Z"
   },
   {
    "duration": 7,
    "start_time": "2024-05-01T15:33:55.270Z"
   },
   {
    "duration": 6,
    "start_time": "2024-05-01T15:34:09.048Z"
   },
   {
    "duration": 6,
    "start_time": "2024-05-01T15:34:16.539Z"
   },
   {
    "duration": 7,
    "start_time": "2024-05-01T15:34:22.760Z"
   },
   {
    "duration": 8,
    "start_time": "2024-05-01T15:34:29.052Z"
   },
   {
    "duration": 5,
    "start_time": "2024-05-01T15:34:42.213Z"
   },
   {
    "duration": 8,
    "start_time": "2024-05-01T15:34:50.571Z"
   },
   {
    "duration": 6,
    "start_time": "2024-05-01T15:34:54.240Z"
   },
   {
    "duration": 6,
    "start_time": "2024-05-01T15:35:00.092Z"
   },
   {
    "duration": 5,
    "start_time": "2024-05-01T15:35:04.685Z"
   },
   {
    "duration": 5,
    "start_time": "2024-05-01T15:35:12.750Z"
   },
   {
    "duration": 6,
    "start_time": "2024-05-01T15:35:19.062Z"
   },
   {
    "duration": 5,
    "start_time": "2024-05-01T15:35:27.872Z"
   },
   {
    "duration": 5,
    "start_time": "2024-05-01T15:35:32.620Z"
   },
   {
    "duration": 5,
    "start_time": "2024-05-01T15:35:36.902Z"
   },
   {
    "duration": 5,
    "start_time": "2024-05-01T15:35:42.330Z"
   },
   {
    "duration": 5,
    "start_time": "2024-05-01T15:35:47.026Z"
   },
   {
    "duration": 6,
    "start_time": "2024-05-01T15:35:56.086Z"
   },
   {
    "duration": 6,
    "start_time": "2024-05-01T15:36:00.751Z"
   },
   {
    "duration": 5,
    "start_time": "2024-05-01T15:36:05.231Z"
   },
   {
    "duration": 7,
    "start_time": "2024-05-01T16:04:48.518Z"
   },
   {
    "duration": 5,
    "start_time": "2024-05-01T16:05:15.056Z"
   },
   {
    "duration": 6,
    "start_time": "2024-05-01T16:05:24.571Z"
   },
   {
    "duration": 6,
    "start_time": "2024-05-01T16:05:54.769Z"
   },
   {
    "duration": 54,
    "start_time": "2024-05-01T16:13:03.853Z"
   },
   {
    "duration": 46,
    "start_time": "2024-05-01T16:13:15.969Z"
   },
   {
    "duration": 55,
    "start_time": "2024-05-01T16:13:30.615Z"
   },
   {
    "duration": 12,
    "start_time": "2024-05-01T16:14:29.113Z"
   },
   {
    "duration": 143,
    "start_time": "2024-05-01T16:15:07.751Z"
   },
   {
    "duration": 151,
    "start_time": "2024-05-01T16:17:38.805Z"
   },
   {
    "duration": 292,
    "start_time": "2024-05-01T16:17:54.342Z"
   },
   {
    "duration": 46,
    "start_time": "2024-05-01T16:19:37.606Z"
   },
   {
    "duration": 50,
    "start_time": "2024-05-01T16:21:10.048Z"
   },
   {
    "duration": 149,
    "start_time": "2024-05-01T16:21:22.136Z"
   },
   {
    "duration": 233,
    "start_time": "2024-05-01T16:34:09.471Z"
   },
   {
    "duration": 225,
    "start_time": "2024-05-01T16:34:20.287Z"
   },
   {
    "duration": 150,
    "start_time": "2024-05-01T16:34:34.473Z"
   },
   {
    "duration": 150,
    "start_time": "2024-05-01T16:35:56.263Z"
   },
   {
    "duration": 50,
    "start_time": "2024-05-01T16:37:14.891Z"
   },
   {
    "duration": 52,
    "start_time": "2024-05-01T16:37:20.975Z"
   },
   {
    "duration": 164,
    "start_time": "2024-05-01T16:37:28.473Z"
   },
   {
    "duration": 138,
    "start_time": "2024-05-01T16:39:42.882Z"
   },
   {
    "duration": 139,
    "start_time": "2024-05-01T16:40:16.038Z"
   },
   {
    "duration": 167,
    "start_time": "2024-05-01T16:55:27.887Z"
   },
   {
    "duration": 159,
    "start_time": "2024-05-01T16:55:38.750Z"
   },
   {
    "duration": 187,
    "start_time": "2024-05-01T16:56:19.526Z"
   },
   {
    "duration": 221,
    "start_time": "2024-05-01T16:56:34.789Z"
   },
   {
    "duration": 3644,
    "start_time": "2024-05-01T16:56:41.423Z"
   },
   {
    "duration": 180,
    "start_time": "2024-05-01T16:56:55.706Z"
   },
   {
    "duration": 168,
    "start_time": "2024-05-01T16:57:49.361Z"
   },
   {
    "duration": 160,
    "start_time": "2024-05-01T16:57:56.724Z"
   },
   {
    "duration": 157,
    "start_time": "2024-05-01T16:58:02.414Z"
   },
   {
    "duration": 168,
    "start_time": "2024-05-01T16:58:17.708Z"
   },
   {
    "duration": 174,
    "start_time": "2024-05-01T16:58:27.013Z"
   },
   {
    "duration": 164,
    "start_time": "2024-05-01T16:58:38.174Z"
   },
   {
    "duration": 178,
    "start_time": "2024-05-01T16:58:46.630Z"
   },
   {
    "duration": 157,
    "start_time": "2024-05-01T16:59:04.281Z"
   },
   {
    "duration": 156,
    "start_time": "2024-05-01T16:59:22.924Z"
   },
   {
    "duration": 151,
    "start_time": "2024-05-01T16:59:27.298Z"
   },
   {
    "duration": 1239,
    "start_time": "2024-05-01T18:36:33.205Z"
   },
   {
    "duration": 70,
    "start_time": "2024-05-01T18:36:34.446Z"
   },
   {
    "duration": 14,
    "start_time": "2024-05-01T18:36:34.518Z"
   },
   {
    "duration": 8,
    "start_time": "2024-05-01T18:36:34.534Z"
   },
   {
    "duration": 11,
    "start_time": "2024-05-01T18:36:34.544Z"
   },
   {
    "duration": 110,
    "start_time": "2024-05-01T18:36:34.557Z"
   },
   {
    "duration": 10,
    "start_time": "2024-05-01T18:36:34.669Z"
   },
   {
    "duration": 22,
    "start_time": "2024-05-01T18:36:34.681Z"
   },
   {
    "duration": 57,
    "start_time": "2024-05-01T18:36:34.705Z"
   },
   {
    "duration": 8,
    "start_time": "2024-05-01T18:36:34.765Z"
   },
   {
    "duration": 18,
    "start_time": "2024-05-01T18:36:34.775Z"
   },
   {
    "duration": 10,
    "start_time": "2024-05-01T18:36:34.795Z"
   },
   {
    "duration": 6,
    "start_time": "2024-05-01T18:36:34.806Z"
   },
   {
    "duration": 6,
    "start_time": "2024-05-01T18:36:34.813Z"
   },
   {
    "duration": 5,
    "start_time": "2024-05-01T18:36:34.820Z"
   },
   {
    "duration": 6,
    "start_time": "2024-05-01T18:36:34.826Z"
   },
   {
    "duration": 33,
    "start_time": "2024-05-01T18:36:34.833Z"
   },
   {
    "duration": 6,
    "start_time": "2024-05-01T18:36:34.867Z"
   },
   {
    "duration": 5,
    "start_time": "2024-05-01T18:36:34.874Z"
   },
   {
    "duration": 8,
    "start_time": "2024-05-01T18:36:34.881Z"
   },
   {
    "duration": 12,
    "start_time": "2024-05-01T18:36:34.891Z"
   },
   {
    "duration": 6,
    "start_time": "2024-05-01T18:36:34.904Z"
   },
   {
    "duration": 5,
    "start_time": "2024-05-01T18:36:34.912Z"
   },
   {
    "duration": 192,
    "start_time": "2024-05-01T18:36:34.919Z"
   },
   {
    "duration": 5,
    "start_time": "2024-05-01T18:36:35.113Z"
   },
   {
    "duration": 112,
    "start_time": "2024-05-01T18:36:35.120Z"
   },
   {
    "duration": 7,
    "start_time": "2024-05-01T18:36:35.234Z"
   },
   {
    "duration": 22,
    "start_time": "2024-05-01T18:36:35.244Z"
   },
   {
    "duration": 140,
    "start_time": "2024-05-01T18:36:35.268Z"
   },
   {
    "duration": 5,
    "start_time": "2024-05-01T18:36:35.409Z"
   },
   {
    "duration": 14,
    "start_time": "2024-05-01T18:36:35.416Z"
   },
   {
    "duration": 183,
    "start_time": "2024-05-01T18:36:35.431Z"
   },
   {
    "duration": 8,
    "start_time": "2024-05-01T18:36:35.616Z"
   },
   {
    "duration": 142,
    "start_time": "2024-05-01T18:36:35.625Z"
   },
   {
    "duration": 17,
    "start_time": "2024-05-01T18:36:35.769Z"
   },
   {
    "duration": 19,
    "start_time": "2024-05-01T18:36:35.787Z"
   },
   {
    "duration": 7,
    "start_time": "2024-05-01T18:36:35.808Z"
   },
   {
    "duration": 12,
    "start_time": "2024-05-01T18:36:35.817Z"
   },
   {
    "duration": 37,
    "start_time": "2024-05-01T18:36:35.830Z"
   },
   {
    "duration": 15,
    "start_time": "2024-05-01T18:36:35.868Z"
   },
   {
    "duration": 212,
    "start_time": "2024-05-01T18:36:35.884Z"
   },
   {
    "duration": 179,
    "start_time": "2024-05-01T18:36:36.097Z"
   },
   {
    "duration": 178,
    "start_time": "2024-05-01T18:36:36.277Z"
   },
   {
    "duration": 8,
    "start_time": "2024-05-01T18:36:36.460Z"
   },
   {
    "duration": 160,
    "start_time": "2024-05-01T18:36:36.470Z"
   },
   {
    "duration": 9,
    "start_time": "2024-05-01T18:36:36.632Z"
   },
   {
    "duration": 996,
    "start_time": "2024-05-01T18:36:36.643Z"
   },
   {
    "duration": 3,
    "start_time": "2024-05-01T18:36:37.641Z"
   },
   {
    "duration": 15,
    "start_time": "2024-05-01T18:36:37.646Z"
   },
   {
    "duration": 13,
    "start_time": "2024-05-01T18:36:37.663Z"
   },
   {
    "duration": 3,
    "start_time": "2024-05-01T18:36:37.678Z"
   },
   {
    "duration": 175,
    "start_time": "2024-05-01T18:36:37.683Z"
   },
   {
    "duration": 20,
    "start_time": "2024-05-01T18:36:37.861Z"
   },
   {
    "duration": 7,
    "start_time": "2024-05-01T18:36:37.882Z"
   },
   {
    "duration": 29,
    "start_time": "2024-05-01T18:36:37.891Z"
   },
   {
    "duration": 9,
    "start_time": "2024-05-01T18:36:37.922Z"
   },
   {
    "duration": 9,
    "start_time": "2024-05-01T18:36:37.933Z"
   },
   {
    "duration": 9,
    "start_time": "2024-05-01T18:36:37.965Z"
   },
   {
    "duration": 8,
    "start_time": "2024-05-01T18:36:37.976Z"
   },
   {
    "duration": 2433,
    "start_time": "2024-05-01T18:36:37.986Z"
   },
   {
    "duration": 6,
    "start_time": "2024-05-01T18:36:40.421Z"
   },
   {
    "duration": 183,
    "start_time": "2024-05-01T18:36:40.428Z"
   },
   {
    "duration": 5,
    "start_time": "2024-05-01T18:36:40.612Z"
   },
   {
    "duration": 500,
    "start_time": "2024-05-01T18:36:40.619Z"
   },
   {
    "duration": 334,
    "start_time": "2024-05-01T18:36:41.121Z"
   },
   {
    "duration": 160,
    "start_time": "2024-05-01T18:37:05.385Z"
   },
   {
    "duration": 162,
    "start_time": "2024-05-01T18:37:16.470Z"
   },
   {
    "duration": 1303,
    "start_time": "2024-05-01T18:37:37.213Z"
   },
   {
    "duration": 1286,
    "start_time": "2024-05-01T18:38:02.760Z"
   },
   {
    "duration": 1227,
    "start_time": "2024-05-01T18:38:22.672Z"
   },
   {
    "duration": 478,
    "start_time": "2024-05-01T18:38:35.073Z"
   },
   {
    "duration": 474,
    "start_time": "2024-05-01T18:39:47.552Z"
   },
   {
    "duration": 501,
    "start_time": "2024-05-01T18:40:04.310Z"
   },
   {
    "duration": 1236,
    "start_time": "2024-05-01T18:40:18.184Z"
   },
   {
    "duration": 1153,
    "start_time": "2024-05-01T18:40:28.774Z"
   },
   {
    "duration": 28,
    "start_time": "2024-05-01T18:40:29.929Z"
   },
   {
    "duration": 15,
    "start_time": "2024-05-01T18:40:29.959Z"
   },
   {
    "duration": 18,
    "start_time": "2024-05-01T18:40:29.976Z"
   },
   {
    "duration": 38,
    "start_time": "2024-05-01T18:40:29.996Z"
   },
   {
    "duration": 64,
    "start_time": "2024-05-01T18:40:30.036Z"
   },
   {
    "duration": 13,
    "start_time": "2024-05-01T18:40:30.102Z"
   },
   {
    "duration": 62,
    "start_time": "2024-05-01T18:40:30.117Z"
   },
   {
    "duration": 42,
    "start_time": "2024-05-01T18:40:30.181Z"
   },
   {
    "duration": 84,
    "start_time": "2024-05-01T18:40:30.226Z"
   },
   {
    "duration": 92,
    "start_time": "2024-05-01T18:40:30.312Z"
   },
   {
    "duration": 42,
    "start_time": "2024-05-01T18:40:30.407Z"
   },
   {
    "duration": 69,
    "start_time": "2024-05-01T18:40:30.451Z"
   },
   {
    "duration": 56,
    "start_time": "2024-05-01T18:40:30.521Z"
   },
   {
    "duration": 33,
    "start_time": "2024-05-01T18:40:30.579Z"
   },
   {
    "duration": 39,
    "start_time": "2024-05-01T18:40:30.614Z"
   },
   {
    "duration": 55,
    "start_time": "2024-05-01T18:40:30.655Z"
   },
   {
    "duration": 52,
    "start_time": "2024-05-01T18:40:30.712Z"
   },
   {
    "duration": 39,
    "start_time": "2024-05-01T18:40:30.766Z"
   },
   {
    "duration": 39,
    "start_time": "2024-05-01T18:40:30.807Z"
   },
   {
    "duration": 49,
    "start_time": "2024-05-01T18:40:30.847Z"
   },
   {
    "duration": 34,
    "start_time": "2024-05-01T18:40:30.898Z"
   },
   {
    "duration": 56,
    "start_time": "2024-05-01T18:40:30.934Z"
   },
   {
    "duration": 200,
    "start_time": "2024-05-01T18:40:30.992Z"
   },
   {
    "duration": 6,
    "start_time": "2024-05-01T18:40:31.194Z"
   },
   {
    "duration": 153,
    "start_time": "2024-05-01T18:40:31.202Z"
   },
   {
    "duration": 7,
    "start_time": "2024-05-01T18:40:31.361Z"
   },
   {
    "duration": 32,
    "start_time": "2024-05-01T18:40:31.372Z"
   },
   {
    "duration": 142,
    "start_time": "2024-05-01T18:40:31.406Z"
   },
   {
    "duration": 13,
    "start_time": "2024-05-01T18:40:31.549Z"
   },
   {
    "duration": 29,
    "start_time": "2024-05-01T18:40:31.563Z"
   },
   {
    "duration": 192,
    "start_time": "2024-05-01T18:40:31.594Z"
   },
   {
    "duration": 8,
    "start_time": "2024-05-01T18:40:31.788Z"
   },
   {
    "duration": 185,
    "start_time": "2024-05-01T18:40:31.798Z"
   },
   {
    "duration": 20,
    "start_time": "2024-05-01T18:40:31.985Z"
   },
   {
    "duration": 29,
    "start_time": "2024-05-01T18:40:32.007Z"
   },
   {
    "duration": 24,
    "start_time": "2024-05-01T18:40:32.038Z"
   },
   {
    "duration": 33,
    "start_time": "2024-05-01T18:40:32.065Z"
   },
   {
    "duration": 9,
    "start_time": "2024-05-01T18:40:32.100Z"
   },
   {
    "duration": 12,
    "start_time": "2024-05-01T18:40:32.111Z"
   },
   {
    "duration": 184,
    "start_time": "2024-05-01T18:40:32.125Z"
   },
   {
    "duration": 172,
    "start_time": "2024-05-01T18:40:32.310Z"
   },
   {
    "duration": 161,
    "start_time": "2024-05-01T18:40:32.484Z"
   },
   {
    "duration": 16,
    "start_time": "2024-05-01T18:40:32.646Z"
   },
   {
    "duration": 167,
    "start_time": "2024-05-01T18:40:32.664Z"
   },
   {
    "duration": 9,
    "start_time": "2024-05-01T18:40:32.832Z"
   },
   {
    "duration": 1020,
    "start_time": "2024-05-01T18:40:32.843Z"
   },
   {
    "duration": 4,
    "start_time": "2024-05-01T18:40:33.865Z"
   },
   {
    "duration": 28,
    "start_time": "2024-05-01T18:40:33.870Z"
   },
   {
    "duration": 19,
    "start_time": "2024-05-01T18:40:33.900Z"
   },
   {
    "duration": 7,
    "start_time": "2024-05-01T18:40:33.921Z"
   },
   {
    "duration": 152,
    "start_time": "2024-05-01T18:40:33.929Z"
   },
   {
    "duration": 20,
    "start_time": "2024-05-01T18:40:34.082Z"
   },
   {
    "duration": 10,
    "start_time": "2024-05-01T18:40:34.104Z"
   },
   {
    "duration": 7,
    "start_time": "2024-05-01T18:40:34.115Z"
   },
   {
    "duration": 38,
    "start_time": "2024-05-01T18:40:34.124Z"
   },
   {
    "duration": 10,
    "start_time": "2024-05-01T18:40:34.164Z"
   },
   {
    "duration": 7,
    "start_time": "2024-05-01T18:40:34.176Z"
   },
   {
    "duration": 5,
    "start_time": "2024-05-01T18:40:34.184Z"
   },
   {
    "duration": 2579,
    "start_time": "2024-05-01T18:40:34.191Z"
   },
   {
    "duration": 5,
    "start_time": "2024-05-01T18:40:36.772Z"
   },
   {
    "duration": 192,
    "start_time": "2024-05-01T18:40:36.779Z"
   },
   {
    "duration": 5,
    "start_time": "2024-05-01T18:40:36.973Z"
   },
   {
    "duration": 1414,
    "start_time": "2024-05-01T18:40:36.979Z"
   },
   {
    "duration": 185,
    "start_time": "2024-05-01T18:40:38.395Z"
   },
   {
    "duration": 1140,
    "start_time": "2024-05-01T18:45:07.004Z"
   },
   {
    "duration": 28,
    "start_time": "2024-05-01T18:45:08.146Z"
   },
   {
    "duration": 13,
    "start_time": "2024-05-01T18:45:08.176Z"
   },
   {
    "duration": 12,
    "start_time": "2024-05-01T18:45:08.191Z"
   },
   {
    "duration": 12,
    "start_time": "2024-05-01T18:45:08.205Z"
   },
   {
    "duration": 53,
    "start_time": "2024-05-01T18:45:08.218Z"
   },
   {
    "duration": 29,
    "start_time": "2024-05-01T18:45:08.272Z"
   },
   {
    "duration": 17,
    "start_time": "2024-05-01T18:45:08.302Z"
   },
   {
    "duration": 15,
    "start_time": "2024-05-01T18:45:08.320Z"
   },
   {
    "duration": 8,
    "start_time": "2024-05-01T18:45:08.337Z"
   },
   {
    "duration": 12,
    "start_time": "2024-05-01T18:45:08.346Z"
   },
   {
    "duration": 8,
    "start_time": "2024-05-01T18:45:08.359Z"
   },
   {
    "duration": 5,
    "start_time": "2024-05-01T18:45:08.369Z"
   },
   {
    "duration": 9,
    "start_time": "2024-05-01T18:45:08.376Z"
   },
   {
    "duration": 16,
    "start_time": "2024-05-01T18:45:08.386Z"
   },
   {
    "duration": 7,
    "start_time": "2024-05-01T18:45:08.403Z"
   },
   {
    "duration": 17,
    "start_time": "2024-05-01T18:45:08.411Z"
   },
   {
    "duration": 8,
    "start_time": "2024-05-01T18:45:08.430Z"
   },
   {
    "duration": 21,
    "start_time": "2024-05-01T18:45:08.440Z"
   },
   {
    "duration": 7,
    "start_time": "2024-05-01T18:45:08.462Z"
   },
   {
    "duration": 11,
    "start_time": "2024-05-01T18:45:08.470Z"
   },
   {
    "duration": 11,
    "start_time": "2024-05-01T18:45:08.483Z"
   },
   {
    "duration": 14,
    "start_time": "2024-05-01T18:45:08.495Z"
   },
   {
    "duration": 171,
    "start_time": "2024-05-01T18:45:08.510Z"
   },
   {
    "duration": 6,
    "start_time": "2024-05-01T18:45:08.683Z"
   },
   {
    "duration": 128,
    "start_time": "2024-05-01T18:45:08.691Z"
   },
   {
    "duration": 9,
    "start_time": "2024-05-01T18:45:08.820Z"
   },
   {
    "duration": 13,
    "start_time": "2024-05-01T18:45:08.834Z"
   },
   {
    "duration": 156,
    "start_time": "2024-05-01T18:45:08.849Z"
   },
   {
    "duration": 6,
    "start_time": "2024-05-01T18:45:09.007Z"
   },
   {
    "duration": 14,
    "start_time": "2024-05-01T18:45:09.015Z"
   },
   {
    "duration": 200,
    "start_time": "2024-05-01T18:45:09.031Z"
   },
   {
    "duration": 9,
    "start_time": "2024-05-01T18:45:09.233Z"
   },
   {
    "duration": 155,
    "start_time": "2024-05-01T18:45:09.243Z"
   },
   {
    "duration": 23,
    "start_time": "2024-05-01T18:45:09.400Z"
   },
   {
    "duration": 29,
    "start_time": "2024-05-01T18:45:09.424Z"
   },
   {
    "duration": 15,
    "start_time": "2024-05-01T18:45:09.455Z"
   },
   {
    "duration": 31,
    "start_time": "2024-05-01T18:45:09.471Z"
   },
   {
    "duration": 12,
    "start_time": "2024-05-01T18:45:09.504Z"
   },
   {
    "duration": 15,
    "start_time": "2024-05-01T18:45:09.518Z"
   },
   {
    "duration": 192,
    "start_time": "2024-05-01T18:45:09.534Z"
   },
   {
    "duration": 193,
    "start_time": "2024-05-01T18:45:09.727Z"
   },
   {
    "duration": 163,
    "start_time": "2024-05-01T18:45:09.923Z"
   },
   {
    "duration": 9,
    "start_time": "2024-05-01T18:45:10.088Z"
   },
   {
    "duration": 156,
    "start_time": "2024-05-01T18:45:10.098Z"
   },
   {
    "duration": 11,
    "start_time": "2024-05-01T18:45:10.256Z"
   },
   {
    "duration": 980,
    "start_time": "2024-05-01T18:45:10.269Z"
   },
   {
    "duration": 4,
    "start_time": "2024-05-01T18:45:11.251Z"
   },
   {
    "duration": 16,
    "start_time": "2024-05-01T18:45:11.261Z"
   },
   {
    "duration": 18,
    "start_time": "2024-05-01T18:45:11.278Z"
   },
   {
    "duration": 16,
    "start_time": "2024-05-01T18:45:11.298Z"
   },
   {
    "duration": 148,
    "start_time": "2024-05-01T18:45:11.316Z"
   },
   {
    "duration": 18,
    "start_time": "2024-05-01T18:45:11.465Z"
   },
   {
    "duration": 29,
    "start_time": "2024-05-01T18:45:11.485Z"
   },
   {
    "duration": 13,
    "start_time": "2024-05-01T18:45:11.516Z"
   },
   {
    "duration": 32,
    "start_time": "2024-05-01T18:45:11.530Z"
   },
   {
    "duration": 18,
    "start_time": "2024-05-01T18:45:11.564Z"
   },
   {
    "duration": 6,
    "start_time": "2024-05-01T18:45:11.584Z"
   },
   {
    "duration": 30,
    "start_time": "2024-05-01T18:45:11.592Z"
   },
   {
    "duration": 2387,
    "start_time": "2024-05-01T18:45:11.623Z"
   },
   {
    "duration": 7,
    "start_time": "2024-05-01T18:45:14.011Z"
   },
   {
    "duration": 204,
    "start_time": "2024-05-01T18:45:14.020Z"
   },
   {
    "duration": 4,
    "start_time": "2024-05-01T18:45:14.226Z"
   },
   {
    "duration": 486,
    "start_time": "2024-05-01T18:45:14.231Z"
   },
   {
    "duration": 309,
    "start_time": "2024-05-01T18:45:14.719Z"
   },
   {
    "duration": 498,
    "start_time": "2024-05-01T18:46:58.300Z"
   },
   {
    "duration": 7,
    "start_time": "2024-05-01T18:50:51.879Z"
   },
   {
    "duration": 5,
    "start_time": "2024-05-01T18:50:57.686Z"
   },
   {
    "duration": 5,
    "start_time": "2024-05-01T18:51:05.859Z"
   },
   {
    "duration": 5,
    "start_time": "2024-05-01T18:51:18.201Z"
   },
   {
    "duration": 5,
    "start_time": "2024-05-01T18:51:39.785Z"
   },
   {
    "duration": 6,
    "start_time": "2024-05-01T18:51:45.085Z"
   },
   {
    "duration": 6,
    "start_time": "2024-05-01T18:51:58.887Z"
   },
   {
    "duration": 5,
    "start_time": "2024-05-01T18:52:13.588Z"
   },
   {
    "duration": 6,
    "start_time": "2024-05-01T18:52:25.835Z"
   },
   {
    "duration": 5,
    "start_time": "2024-05-01T18:52:35.155Z"
   },
   {
    "duration": 5,
    "start_time": "2024-05-01T18:52:41.456Z"
   },
   {
    "duration": 6,
    "start_time": "2024-05-01T18:52:54.964Z"
   },
   {
    "duration": 933,
    "start_time": "2024-05-01T18:55:25.311Z"
   },
   {
    "duration": 955,
    "start_time": "2024-05-01T18:55:37.607Z"
   },
   {
    "duration": 160,
    "start_time": "2024-05-01T18:56:22.062Z"
   },
   {
    "duration": 155,
    "start_time": "2024-05-01T18:56:25.250Z"
   },
   {
    "duration": 176,
    "start_time": "2024-05-01T18:57:20.357Z"
   },
   {
    "duration": 159,
    "start_time": "2024-05-01T18:57:50.502Z"
   },
   {
    "duration": 152,
    "start_time": "2024-05-01T18:58:14.987Z"
   },
   {
    "duration": 162,
    "start_time": "2024-05-01T18:58:27.636Z"
   },
   {
    "duration": 6,
    "start_time": "2024-05-01T18:58:47.183Z"
   },
   {
    "duration": 6,
    "start_time": "2024-05-01T18:58:53.674Z"
   },
   {
    "duration": 6,
    "start_time": "2024-05-01T18:59:01.815Z"
   },
   {
    "duration": 5,
    "start_time": "2024-05-01T19:00:33.777Z"
   },
   {
    "duration": 5,
    "start_time": "2024-05-01T19:00:39.649Z"
   },
   {
    "duration": 6,
    "start_time": "2024-05-01T19:00:45.297Z"
   },
   {
    "duration": 6,
    "start_time": "2024-05-01T19:00:50.037Z"
   },
   {
    "duration": 6,
    "start_time": "2024-05-01T19:01:06.133Z"
   },
   {
    "duration": 6,
    "start_time": "2024-05-01T19:01:10.677Z"
   },
   {
    "duration": 5,
    "start_time": "2024-05-01T19:01:14.767Z"
   },
   {
    "duration": 6,
    "start_time": "2024-05-01T19:01:19.075Z"
   },
   {
    "duration": 5,
    "start_time": "2024-05-01T19:01:23.455Z"
   },
   {
    "duration": 5,
    "start_time": "2024-05-01T19:01:27.614Z"
   },
   {
    "duration": 5,
    "start_time": "2024-05-01T19:01:33.291Z"
   },
   {
    "duration": 5,
    "start_time": "2024-05-01T19:01:40.522Z"
   },
   {
    "duration": 157,
    "start_time": "2024-05-01T19:02:46.197Z"
   },
   {
    "duration": 622,
    "start_time": "2024-05-01T19:03:01.674Z"
   },
   {
    "duration": 48,
    "start_time": "2024-05-01T19:08:26.949Z"
   },
   {
    "duration": 611,
    "start_time": "2024-05-01T19:08:40.689Z"
   },
   {
    "duration": 625,
    "start_time": "2024-05-01T19:09:19.493Z"
   },
   {
    "duration": 171,
    "start_time": "2024-05-01T19:09:33.789Z"
   },
   {
    "duration": 183,
    "start_time": "2024-05-01T19:09:37.793Z"
   },
   {
    "duration": 180,
    "start_time": "2024-05-01T19:09:45.946Z"
   },
   {
    "duration": 1155,
    "start_time": "2024-05-01T19:09:58.180Z"
   },
   {
    "duration": 28,
    "start_time": "2024-05-01T19:09:59.337Z"
   },
   {
    "duration": 14,
    "start_time": "2024-05-01T19:09:59.367Z"
   },
   {
    "duration": 8,
    "start_time": "2024-05-01T19:09:59.383Z"
   },
   {
    "duration": 17,
    "start_time": "2024-05-01T19:09:59.392Z"
   },
   {
    "duration": 31,
    "start_time": "2024-05-01T19:09:59.410Z"
   },
   {
    "duration": 17,
    "start_time": "2024-05-01T19:09:59.443Z"
   },
   {
    "duration": 12,
    "start_time": "2024-05-01T19:09:59.462Z"
   },
   {
    "duration": 18,
    "start_time": "2024-05-01T19:09:59.475Z"
   },
   {
    "duration": 8,
    "start_time": "2024-05-01T19:09:59.495Z"
   },
   {
    "duration": 10,
    "start_time": "2024-05-01T19:09:59.505Z"
   },
   {
    "duration": 14,
    "start_time": "2024-05-01T19:09:59.517Z"
   },
   {
    "duration": 4,
    "start_time": "2024-05-01T19:09:59.533Z"
   },
   {
    "duration": 22,
    "start_time": "2024-05-01T19:09:59.539Z"
   },
   {
    "duration": 5,
    "start_time": "2024-05-01T19:09:59.563Z"
   },
   {
    "duration": 7,
    "start_time": "2024-05-01T19:09:59.569Z"
   },
   {
    "duration": 8,
    "start_time": "2024-05-01T19:09:59.578Z"
   },
   {
    "duration": 5,
    "start_time": "2024-05-01T19:09:59.587Z"
   },
   {
    "duration": 4,
    "start_time": "2024-05-01T19:09:59.594Z"
   },
   {
    "duration": 7,
    "start_time": "2024-05-01T19:09:59.599Z"
   },
   {
    "duration": 7,
    "start_time": "2024-05-01T19:09:59.608Z"
   },
   {
    "duration": 45,
    "start_time": "2024-05-01T19:09:59.617Z"
   },
   {
    "duration": 4,
    "start_time": "2024-05-01T19:09:59.664Z"
   },
   {
    "duration": 171,
    "start_time": "2024-05-01T19:09:59.670Z"
   },
   {
    "duration": 6,
    "start_time": "2024-05-01T19:09:59.843Z"
   },
   {
    "duration": 113,
    "start_time": "2024-05-01T19:09:59.861Z"
   },
   {
    "duration": 7,
    "start_time": "2024-05-01T19:09:59.975Z"
   },
   {
    "duration": 14,
    "start_time": "2024-05-01T19:09:59.986Z"
   },
   {
    "duration": 170,
    "start_time": "2024-05-01T19:10:00.002Z"
   },
   {
    "duration": 5,
    "start_time": "2024-05-01T19:10:00.173Z"
   },
   {
    "duration": 122,
    "start_time": "2024-05-01T19:10:00.179Z"
   },
   {
    "duration": 362,
    "start_time": "2024-05-01T19:10:00.303Z"
   },
   {
    "duration": 8,
    "start_time": "2024-05-01T19:10:00.667Z"
   },
   {
    "duration": 177,
    "start_time": "2024-05-01T19:10:00.677Z"
   },
   {
    "duration": 19,
    "start_time": "2024-05-01T19:10:00.861Z"
   },
   {
    "duration": 44,
    "start_time": "2024-05-01T19:10:00.882Z"
   },
   {
    "duration": 37,
    "start_time": "2024-05-01T19:10:00.928Z"
   },
   {
    "duration": 53,
    "start_time": "2024-05-01T19:10:00.967Z"
   },
   {
    "duration": 87,
    "start_time": "2024-05-01T19:10:01.022Z"
   },
   {
    "duration": 76,
    "start_time": "2024-05-01T19:10:01.111Z"
   },
   {
    "duration": 239,
    "start_time": "2024-05-01T19:10:01.189Z"
   },
   {
    "duration": 175,
    "start_time": "2024-05-01T19:10:01.431Z"
   },
   {
    "duration": 215,
    "start_time": "2024-05-01T19:10:01.608Z"
   },
   {
    "duration": 13,
    "start_time": "2024-05-01T19:10:01.826Z"
   },
   {
    "duration": 182,
    "start_time": "2024-05-01T19:10:01.841Z"
   },
   {
    "duration": 9,
    "start_time": "2024-05-01T19:10:02.025Z"
   },
   {
    "duration": 1029,
    "start_time": "2024-05-01T19:10:02.035Z"
   },
   {
    "duration": 5,
    "start_time": "2024-05-01T19:10:03.065Z"
   },
   {
    "duration": 30,
    "start_time": "2024-05-01T19:10:03.071Z"
   },
   {
    "duration": 22,
    "start_time": "2024-05-01T19:10:03.103Z"
   },
   {
    "duration": 8,
    "start_time": "2024-05-01T19:10:03.127Z"
   },
   {
    "duration": 179,
    "start_time": "2024-05-01T19:10:03.136Z"
   },
   {
    "duration": 22,
    "start_time": "2024-05-01T19:10:03.317Z"
   },
   {
    "duration": 20,
    "start_time": "2024-05-01T19:10:03.341Z"
   },
   {
    "duration": 6,
    "start_time": "2024-05-01T19:10:03.363Z"
   },
   {
    "duration": 8,
    "start_time": "2024-05-01T19:10:03.371Z"
   },
   {
    "duration": 14,
    "start_time": "2024-05-01T19:10:03.381Z"
   },
   {
    "duration": 18,
    "start_time": "2024-05-01T19:10:03.397Z"
   },
   {
    "duration": 12,
    "start_time": "2024-05-01T19:10:03.417Z"
   },
   {
    "duration": 2403,
    "start_time": "2024-05-01T19:10:03.431Z"
   },
   {
    "duration": 6,
    "start_time": "2024-05-01T19:10:05.836Z"
   },
   {
    "duration": 172,
    "start_time": "2024-05-01T19:10:05.860Z"
   },
   {
    "duration": 5,
    "start_time": "2024-05-01T19:10:06.034Z"
   },
   {
    "duration": 22,
    "start_time": "2024-05-01T19:10:06.041Z"
   },
   {
    "duration": 169,
    "start_time": "2024-05-01T19:10:06.065Z"
   },
   {
    "duration": 174,
    "start_time": "2024-05-01T19:10:06.237Z"
   },
   {
    "duration": 53,
    "start_time": "2024-05-01T19:12:45.885Z"
   },
   {
    "duration": 9,
    "start_time": "2024-05-01T19:13:23.239Z"
   },
   {
    "duration": 1169,
    "start_time": "2024-05-01T19:13:37.175Z"
   },
   {
    "duration": 28,
    "start_time": "2024-05-01T19:13:38.346Z"
   },
   {
    "duration": 13,
    "start_time": "2024-05-01T19:13:38.375Z"
   },
   {
    "duration": 33,
    "start_time": "2024-05-01T19:13:38.390Z"
   },
   {
    "duration": 31,
    "start_time": "2024-05-01T19:13:38.424Z"
   },
   {
    "duration": 56,
    "start_time": "2024-05-01T19:13:38.457Z"
   },
   {
    "duration": 10,
    "start_time": "2024-05-01T19:13:38.515Z"
   },
   {
    "duration": 58,
    "start_time": "2024-05-01T19:13:38.527Z"
   },
   {
    "duration": 60,
    "start_time": "2024-05-01T19:13:38.587Z"
   },
   {
    "duration": 44,
    "start_time": "2024-05-01T19:13:38.650Z"
   },
   {
    "duration": 31,
    "start_time": "2024-05-01T19:13:38.696Z"
   },
   {
    "duration": 46,
    "start_time": "2024-05-01T19:13:38.728Z"
   },
   {
    "duration": 32,
    "start_time": "2024-05-01T19:13:38.776Z"
   },
   {
    "duration": 35,
    "start_time": "2024-05-01T19:13:38.811Z"
   },
   {
    "duration": 39,
    "start_time": "2024-05-01T19:13:38.848Z"
   },
   {
    "duration": 46,
    "start_time": "2024-05-01T19:13:38.888Z"
   },
   {
    "duration": 47,
    "start_time": "2024-05-01T19:13:38.936Z"
   },
   {
    "duration": 22,
    "start_time": "2024-05-01T19:13:38.985Z"
   },
   {
    "duration": 14,
    "start_time": "2024-05-01T19:13:39.009Z"
   },
   {
    "duration": 37,
    "start_time": "2024-05-01T19:13:39.025Z"
   },
   {
    "duration": 51,
    "start_time": "2024-05-01T19:13:39.064Z"
   },
   {
    "duration": 25,
    "start_time": "2024-05-01T19:13:39.116Z"
   },
   {
    "duration": 23,
    "start_time": "2024-05-01T19:13:39.143Z"
   },
   {
    "duration": 189,
    "start_time": "2024-05-01T19:13:39.167Z"
   },
   {
    "duration": 6,
    "start_time": "2024-05-01T19:13:39.360Z"
   },
   {
    "duration": 125,
    "start_time": "2024-05-01T19:13:39.367Z"
   },
   {
    "duration": 8,
    "start_time": "2024-05-01T19:13:39.494Z"
   },
   {
    "duration": 18,
    "start_time": "2024-05-01T19:13:39.505Z"
   },
   {
    "duration": 159,
    "start_time": "2024-05-01T19:13:39.524Z"
   },
   {
    "duration": 15,
    "start_time": "2024-05-01T19:13:39.685Z"
   },
   {
    "duration": 10,
    "start_time": "2024-05-01T19:13:39.703Z"
   },
   {
    "duration": 223,
    "start_time": "2024-05-01T19:13:39.715Z"
   },
   {
    "duration": 9,
    "start_time": "2024-05-01T19:13:39.940Z"
   },
   {
    "duration": 147,
    "start_time": "2024-05-01T19:13:39.951Z"
   },
   {
    "duration": 18,
    "start_time": "2024-05-01T19:13:40.100Z"
   },
   {
    "duration": 19,
    "start_time": "2024-05-01T19:13:40.119Z"
   },
   {
    "duration": 25,
    "start_time": "2024-05-01T19:13:40.139Z"
   },
   {
    "duration": 11,
    "start_time": "2024-05-01T19:13:40.166Z"
   },
   {
    "duration": 14,
    "start_time": "2024-05-01T19:13:40.178Z"
   },
   {
    "duration": 12,
    "start_time": "2024-05-01T19:13:40.193Z"
   },
   {
    "duration": 166,
    "start_time": "2024-05-01T19:13:40.206Z"
   },
   {
    "duration": 169,
    "start_time": "2024-05-01T19:13:40.373Z"
   },
   {
    "duration": 151,
    "start_time": "2024-05-01T19:13:40.544Z"
   },
   {
    "duration": 8,
    "start_time": "2024-05-01T19:13:40.696Z"
   },
   {
    "duration": 161,
    "start_time": "2024-05-01T19:13:40.706Z"
   },
   {
    "duration": 8,
    "start_time": "2024-05-01T19:13:40.869Z"
   },
   {
    "duration": 1000,
    "start_time": "2024-05-01T19:13:40.878Z"
   },
   {
    "duration": 4,
    "start_time": "2024-05-01T19:13:41.879Z"
   },
   {
    "duration": 9,
    "start_time": "2024-05-01T19:13:41.884Z"
   },
   {
    "duration": 14,
    "start_time": "2024-05-01T19:13:41.895Z"
   },
   {
    "duration": 4,
    "start_time": "2024-05-01T19:13:41.911Z"
   },
   {
    "duration": 152,
    "start_time": "2024-05-01T19:13:41.916Z"
   },
   {
    "duration": 17,
    "start_time": "2024-05-01T19:13:42.070Z"
   },
   {
    "duration": 7,
    "start_time": "2024-05-01T19:13:42.089Z"
   },
   {
    "duration": 6,
    "start_time": "2024-05-01T19:13:42.098Z"
   },
   {
    "duration": 15,
    "start_time": "2024-05-01T19:13:42.105Z"
   },
   {
    "duration": 11,
    "start_time": "2024-05-01T19:13:42.121Z"
   },
   {
    "duration": 32,
    "start_time": "2024-05-01T19:13:42.133Z"
   },
   {
    "duration": 7,
    "start_time": "2024-05-01T19:13:42.167Z"
   },
   {
    "duration": 2407,
    "start_time": "2024-05-01T19:13:42.175Z"
   },
   {
    "duration": 6,
    "start_time": "2024-05-01T19:13:44.583Z"
   },
   {
    "duration": 188,
    "start_time": "2024-05-01T19:13:44.591Z"
   },
   {
    "duration": 5,
    "start_time": "2024-05-01T19:13:44.780Z"
   },
   {
    "duration": 7,
    "start_time": "2024-05-01T19:13:44.787Z"
   },
   {
    "duration": 1493,
    "start_time": "2024-05-01T19:13:44.796Z"
   },
   {
    "duration": 162,
    "start_time": "2024-05-01T19:13:46.291Z"
   },
   {
    "duration": 129,
    "start_time": "2024-05-01T19:16:18.179Z"
   },
   {
    "duration": 132,
    "start_time": "2024-05-01T19:18:45.904Z"
   },
   {
    "duration": 163,
    "start_time": "2024-05-01T19:19:01.388Z"
   },
   {
    "duration": 163,
    "start_time": "2024-05-01T19:19:52.706Z"
   },
   {
    "duration": 175,
    "start_time": "2024-05-01T19:20:05.216Z"
   },
   {
    "duration": 166,
    "start_time": "2024-05-01T19:20:35.554Z"
   },
   {
    "duration": 194,
    "start_time": "2024-05-01T19:20:47.464Z"
   },
   {
    "duration": 161,
    "start_time": "2024-05-01T19:21:10.291Z"
   },
   {
    "duration": 170,
    "start_time": "2024-05-01T19:21:32.969Z"
   },
   {
    "duration": 174,
    "start_time": "2024-05-01T19:22:14.871Z"
   },
   {
    "duration": 173,
    "start_time": "2024-05-01T19:22:22.356Z"
   },
   {
    "duration": 190,
    "start_time": "2024-05-01T19:22:43.003Z"
   },
   {
    "duration": 181,
    "start_time": "2024-05-01T19:22:52.542Z"
   },
   {
    "duration": 7,
    "start_time": "2024-05-01T19:23:03.686Z"
   },
   {
    "duration": 174,
    "start_time": "2024-05-01T19:23:07.745Z"
   },
   {
    "duration": 165,
    "start_time": "2024-05-01T19:23:22.195Z"
   },
   {
    "duration": 164,
    "start_time": "2024-05-01T19:23:33.155Z"
   },
   {
    "duration": 166,
    "start_time": "2024-05-01T19:23:44.777Z"
   },
   {
    "duration": 3915,
    "start_time": "2024-05-01T19:25:09.704Z"
   },
   {
    "duration": 3916,
    "start_time": "2024-05-01T19:25:34.659Z"
   },
   {
    "duration": 3637,
    "start_time": "2024-05-01T19:25:51.703Z"
   },
   {
    "duration": 4028,
    "start_time": "2024-05-01T19:26:03.403Z"
   },
   {
    "duration": 173,
    "start_time": "2024-05-01T19:26:20.919Z"
   },
   {
    "duration": 187,
    "start_time": "2024-05-01T19:26:38.683Z"
   },
   {
    "duration": 202,
    "start_time": "2024-05-01T19:26:45.985Z"
   },
   {
    "duration": 6,
    "start_time": "2024-05-01T19:36:09.403Z"
   },
   {
    "duration": 5,
    "start_time": "2024-05-01T19:36:43.059Z"
   },
   {
    "duration": 6,
    "start_time": "2024-05-01T19:37:01.322Z"
   },
   {
    "duration": 6,
    "start_time": "2024-05-01T19:37:08.210Z"
   },
   {
    "duration": 7,
    "start_time": "2024-05-01T19:37:21.062Z"
   },
   {
    "duration": 1194,
    "start_time": "2024-05-01T19:37:32.731Z"
   },
   {
    "duration": 29,
    "start_time": "2024-05-01T19:37:33.927Z"
   },
   {
    "duration": 17,
    "start_time": "2024-05-01T19:37:33.958Z"
   },
   {
    "duration": 21,
    "start_time": "2024-05-01T19:37:33.978Z"
   },
   {
    "duration": 28,
    "start_time": "2024-05-01T19:37:34.000Z"
   },
   {
    "duration": 38,
    "start_time": "2024-05-01T19:37:34.030Z"
   },
   {
    "duration": 10,
    "start_time": "2024-05-01T19:37:34.070Z"
   },
   {
    "duration": 13,
    "start_time": "2024-05-01T19:37:34.082Z"
   },
   {
    "duration": 31,
    "start_time": "2024-05-01T19:37:34.097Z"
   },
   {
    "duration": 7,
    "start_time": "2024-05-01T19:37:34.131Z"
   },
   {
    "duration": 26,
    "start_time": "2024-05-01T19:37:34.140Z"
   },
   {
    "duration": 22,
    "start_time": "2024-05-01T19:37:34.168Z"
   },
   {
    "duration": 15,
    "start_time": "2024-05-01T19:37:34.192Z"
   },
   {
    "duration": 21,
    "start_time": "2024-05-01T19:37:34.209Z"
   },
   {
    "duration": 6,
    "start_time": "2024-05-01T19:37:34.232Z"
   },
   {
    "duration": 7,
    "start_time": "2024-05-01T19:37:34.240Z"
   },
   {
    "duration": 21,
    "start_time": "2024-05-01T19:37:34.249Z"
   },
   {
    "duration": 7,
    "start_time": "2024-05-01T19:37:34.272Z"
   },
   {
    "duration": 7,
    "start_time": "2024-05-01T19:37:34.280Z"
   },
   {
    "duration": 8,
    "start_time": "2024-05-01T19:37:34.288Z"
   },
   {
    "duration": 10,
    "start_time": "2024-05-01T19:37:34.298Z"
   },
   {
    "duration": 6,
    "start_time": "2024-05-01T19:37:34.310Z"
   },
   {
    "duration": 10,
    "start_time": "2024-05-01T19:37:34.321Z"
   },
   {
    "duration": 169,
    "start_time": "2024-05-01T19:37:34.360Z"
   },
   {
    "duration": 6,
    "start_time": "2024-05-01T19:37:34.531Z"
   },
   {
    "duration": 123,
    "start_time": "2024-05-01T19:37:34.539Z"
   },
   {
    "duration": 8,
    "start_time": "2024-05-01T19:37:34.664Z"
   },
   {
    "duration": 8,
    "start_time": "2024-05-01T19:37:34.676Z"
   },
   {
    "duration": 158,
    "start_time": "2024-05-01T19:37:34.685Z"
   },
   {
    "duration": 5,
    "start_time": "2024-05-01T19:37:34.845Z"
   },
   {
    "duration": 16,
    "start_time": "2024-05-01T19:37:34.851Z"
   },
   {
    "duration": 198,
    "start_time": "2024-05-01T19:37:34.869Z"
   },
   {
    "duration": 9,
    "start_time": "2024-05-01T19:37:35.069Z"
   },
   {
    "duration": 152,
    "start_time": "2024-05-01T19:37:35.080Z"
   },
   {
    "duration": 27,
    "start_time": "2024-05-01T19:37:35.234Z"
   },
   {
    "duration": 19,
    "start_time": "2024-05-01T19:37:35.263Z"
   },
   {
    "duration": 12,
    "start_time": "2024-05-01T19:37:35.284Z"
   },
   {
    "duration": 12,
    "start_time": "2024-05-01T19:37:35.298Z"
   },
   {
    "duration": 21,
    "start_time": "2024-05-01T19:37:35.311Z"
   },
   {
    "duration": 28,
    "start_time": "2024-05-01T19:37:35.333Z"
   },
   {
    "duration": 188,
    "start_time": "2024-05-01T19:37:35.363Z"
   },
   {
    "duration": 172,
    "start_time": "2024-05-01T19:37:35.560Z"
   },
   {
    "duration": 165,
    "start_time": "2024-05-01T19:37:35.733Z"
   },
   {
    "duration": 9,
    "start_time": "2024-05-01T19:37:35.899Z"
   },
   {
    "duration": 179,
    "start_time": "2024-05-01T19:37:35.909Z"
   },
   {
    "duration": 13,
    "start_time": "2024-05-01T19:37:36.090Z"
   },
   {
    "duration": 1028,
    "start_time": "2024-05-01T19:37:36.105Z"
   },
   {
    "duration": 6,
    "start_time": "2024-05-01T19:37:37.135Z"
   },
   {
    "duration": 6,
    "start_time": "2024-05-01T19:37:37.143Z"
   },
   {
    "duration": 18,
    "start_time": "2024-05-01T19:37:37.160Z"
   },
   {
    "duration": 5,
    "start_time": "2024-05-01T19:37:37.181Z"
   },
   {
    "duration": 168,
    "start_time": "2024-05-01T19:37:37.188Z"
   },
   {
    "duration": 18,
    "start_time": "2024-05-01T19:37:37.358Z"
   },
   {
    "duration": 8,
    "start_time": "2024-05-01T19:37:37.378Z"
   },
   {
    "duration": 7,
    "start_time": "2024-05-01T19:37:37.388Z"
   },
   {
    "duration": 10,
    "start_time": "2024-05-01T19:37:37.398Z"
   },
   {
    "duration": 11,
    "start_time": "2024-05-01T19:37:37.410Z"
   },
   {
    "duration": 45,
    "start_time": "2024-05-01T19:37:37.423Z"
   },
   {
    "duration": 5,
    "start_time": "2024-05-01T19:37:37.470Z"
   },
   {
    "duration": 2431,
    "start_time": "2024-05-01T19:37:37.477Z"
   },
   {
    "duration": 6,
    "start_time": "2024-05-01T19:37:39.910Z"
   },
   {
    "duration": 182,
    "start_time": "2024-05-01T19:37:39.918Z"
   },
   {
    "duration": 5,
    "start_time": "2024-05-01T19:37:40.102Z"
   },
   {
    "duration": 1431,
    "start_time": "2024-05-01T19:37:40.109Z"
   },
   {
    "duration": 186,
    "start_time": "2024-05-01T19:37:41.542Z"
   },
   {
    "duration": 6,
    "start_time": "2024-05-01T19:37:41.729Z"
   },
   {
    "duration": 179,
    "start_time": "2024-05-01T19:39:30.553Z"
   },
   {
    "duration": 178,
    "start_time": "2024-05-01T19:39:46.433Z"
   },
   {
    "duration": 4,
    "start_time": "2024-05-01T19:57:54.398Z"
   },
   {
    "duration": 2653,
    "start_time": "2024-05-01T20:26:25.292Z"
   },
   {
    "duration": 1155,
    "start_time": "2024-05-01T20:26:52.909Z"
   },
   {
    "duration": 28,
    "start_time": "2024-05-01T20:26:54.066Z"
   },
   {
    "duration": 14,
    "start_time": "2024-05-01T20:26:54.096Z"
   },
   {
    "duration": 8,
    "start_time": "2024-05-01T20:26:54.113Z"
   },
   {
    "duration": 28,
    "start_time": "2024-05-01T20:26:54.123Z"
   },
   {
    "duration": 33,
    "start_time": "2024-05-01T20:26:54.153Z"
   },
   {
    "duration": 11,
    "start_time": "2024-05-01T20:26:54.187Z"
   },
   {
    "duration": 17,
    "start_time": "2024-05-01T20:26:54.200Z"
   },
   {
    "duration": 17,
    "start_time": "2024-05-01T20:26:54.219Z"
   },
   {
    "duration": 21,
    "start_time": "2024-05-01T20:26:54.240Z"
   },
   {
    "duration": 15,
    "start_time": "2024-05-01T20:26:54.263Z"
   },
   {
    "duration": 9,
    "start_time": "2024-05-01T20:26:54.279Z"
   },
   {
    "duration": 7,
    "start_time": "2024-05-01T20:26:54.290Z"
   },
   {
    "duration": 9,
    "start_time": "2024-05-01T20:26:54.299Z"
   },
   {
    "duration": 5,
    "start_time": "2024-05-01T20:26:54.310Z"
   },
   {
    "duration": 48,
    "start_time": "2024-05-01T20:26:54.318Z"
   },
   {
    "duration": 36,
    "start_time": "2024-05-01T20:26:54.367Z"
   },
   {
    "duration": 9,
    "start_time": "2024-05-01T20:26:54.405Z"
   },
   {
    "duration": 7,
    "start_time": "2024-05-01T20:26:54.416Z"
   },
   {
    "duration": 7,
    "start_time": "2024-05-01T20:26:54.424Z"
   },
   {
    "duration": 9,
    "start_time": "2024-05-01T20:26:54.433Z"
   },
   {
    "duration": 19,
    "start_time": "2024-05-01T20:26:54.444Z"
   },
   {
    "duration": 6,
    "start_time": "2024-05-01T20:26:54.465Z"
   },
   {
    "duration": 182,
    "start_time": "2024-05-01T20:26:54.473Z"
   },
   {
    "duration": 8,
    "start_time": "2024-05-01T20:26:54.657Z"
   },
   {
    "duration": 123,
    "start_time": "2024-05-01T20:26:54.666Z"
   },
   {
    "duration": 7,
    "start_time": "2024-05-01T20:26:54.791Z"
   },
   {
    "duration": 26,
    "start_time": "2024-05-01T20:26:54.802Z"
   },
   {
    "duration": 141,
    "start_time": "2024-05-01T20:26:54.829Z"
   },
   {
    "duration": 6,
    "start_time": "2024-05-01T20:26:54.972Z"
   },
   {
    "duration": 12,
    "start_time": "2024-05-01T20:26:54.979Z"
   },
   {
    "duration": 210,
    "start_time": "2024-05-01T20:26:54.993Z"
   },
   {
    "duration": 10,
    "start_time": "2024-05-01T20:26:55.204Z"
   },
   {
    "duration": 150,
    "start_time": "2024-05-01T20:26:55.215Z"
   },
   {
    "duration": 25,
    "start_time": "2024-05-01T20:26:55.366Z"
   },
   {
    "duration": 20,
    "start_time": "2024-05-01T20:26:55.393Z"
   },
   {
    "duration": 9,
    "start_time": "2024-05-01T20:26:55.415Z"
   },
   {
    "duration": 41,
    "start_time": "2024-05-01T20:26:55.426Z"
   },
   {
    "duration": 8,
    "start_time": "2024-05-01T20:26:55.468Z"
   },
   {
    "duration": 18,
    "start_time": "2024-05-01T20:26:55.478Z"
   },
   {
    "duration": 201,
    "start_time": "2024-05-01T20:26:55.498Z"
   },
   {
    "duration": 180,
    "start_time": "2024-05-01T20:26:55.701Z"
   },
   {
    "duration": 184,
    "start_time": "2024-05-01T20:26:55.883Z"
   },
   {
    "duration": 24,
    "start_time": "2024-05-01T20:26:56.069Z"
   },
   {
    "duration": 165,
    "start_time": "2024-05-01T20:26:56.100Z"
   },
   {
    "duration": 11,
    "start_time": "2024-05-01T20:26:56.267Z"
   },
   {
    "duration": 1069,
    "start_time": "2024-05-01T20:26:56.280Z"
   },
   {
    "duration": 4,
    "start_time": "2024-05-01T20:26:57.350Z"
   },
   {
    "duration": 12,
    "start_time": "2024-05-01T20:26:57.361Z"
   },
   {
    "duration": 18,
    "start_time": "2024-05-01T20:26:57.374Z"
   },
   {
    "duration": 5,
    "start_time": "2024-05-01T20:26:57.395Z"
   },
   {
    "duration": 163,
    "start_time": "2024-05-01T20:26:57.402Z"
   },
   {
    "duration": 22,
    "start_time": "2024-05-01T20:26:57.567Z"
   },
   {
    "duration": 8,
    "start_time": "2024-05-01T20:26:57.592Z"
   },
   {
    "duration": 14,
    "start_time": "2024-05-01T20:26:57.602Z"
   },
   {
    "duration": 22,
    "start_time": "2024-05-01T20:26:57.618Z"
   },
   {
    "duration": 13,
    "start_time": "2024-05-01T20:26:57.660Z"
   },
   {
    "duration": 9,
    "start_time": "2024-05-01T20:26:57.675Z"
   },
   {
    "duration": 10,
    "start_time": "2024-05-01T20:26:57.686Z"
   },
   {
    "duration": 2761,
    "start_time": "2024-05-01T20:26:57.697Z"
   },
   {
    "duration": 6,
    "start_time": "2024-05-01T20:27:00.460Z"
   },
   {
    "duration": 245,
    "start_time": "2024-05-01T20:27:00.468Z"
   },
   {
    "duration": 6,
    "start_time": "2024-05-01T20:27:00.715Z"
   },
   {
    "duration": 1547,
    "start_time": "2024-05-01T20:27:00.723Z"
   },
   {
    "duration": 204,
    "start_time": "2024-05-01T20:27:02.271Z"
   },
   {
    "duration": 6,
    "start_time": "2024-05-01T20:27:02.477Z"
   },
   {
    "duration": 2254,
    "start_time": "2024-05-01T20:27:53.433Z"
   },
   {
    "duration": 2640,
    "start_time": "2024-05-01T20:29:03.741Z"
   },
   {
    "duration": 94,
    "start_time": "2024-05-01T20:29:37.525Z"
   },
   {
    "duration": 2548,
    "start_time": "2024-05-01T20:29:43.494Z"
   },
   {
    "duration": 1216,
    "start_time": "2024-05-01T21:08:16.081Z"
   },
   {
    "duration": 29,
    "start_time": "2024-05-01T21:08:17.299Z"
   },
   {
    "duration": 17,
    "start_time": "2024-05-01T21:08:17.330Z"
   },
   {
    "duration": 9,
    "start_time": "2024-05-01T21:08:17.349Z"
   },
   {
    "duration": 15,
    "start_time": "2024-05-01T21:08:17.360Z"
   },
   {
    "duration": 29,
    "start_time": "2024-05-01T21:08:17.377Z"
   },
   {
    "duration": 10,
    "start_time": "2024-05-01T21:08:17.407Z"
   },
   {
    "duration": 18,
    "start_time": "2024-05-01T21:08:17.418Z"
   },
   {
    "duration": 15,
    "start_time": "2024-05-01T21:08:17.438Z"
   },
   {
    "duration": 9,
    "start_time": "2024-05-01T21:08:17.456Z"
   },
   {
    "duration": 11,
    "start_time": "2024-05-01T21:08:17.467Z"
   },
   {
    "duration": 11,
    "start_time": "2024-05-01T21:08:17.480Z"
   },
   {
    "duration": 6,
    "start_time": "2024-05-01T21:08:17.492Z"
   },
   {
    "duration": 7,
    "start_time": "2024-05-01T21:08:17.499Z"
   },
   {
    "duration": 5,
    "start_time": "2024-05-01T21:08:17.507Z"
   },
   {
    "duration": 5,
    "start_time": "2024-05-01T21:08:17.514Z"
   },
   {
    "duration": 43,
    "start_time": "2024-05-01T21:08:17.521Z"
   },
   {
    "duration": 8,
    "start_time": "2024-05-01T21:08:17.565Z"
   },
   {
    "duration": 19,
    "start_time": "2024-05-01T21:08:17.576Z"
   },
   {
    "duration": 6,
    "start_time": "2024-05-01T21:08:17.598Z"
   },
   {
    "duration": 9,
    "start_time": "2024-05-01T21:08:17.605Z"
   },
   {
    "duration": 7,
    "start_time": "2024-05-01T21:08:17.615Z"
   },
   {
    "duration": 38,
    "start_time": "2024-05-01T21:08:17.624Z"
   },
   {
    "duration": 161,
    "start_time": "2024-05-01T21:08:17.664Z"
   },
   {
    "duration": 6,
    "start_time": "2024-05-01T21:08:17.826Z"
   },
   {
    "duration": 115,
    "start_time": "2024-05-01T21:08:17.835Z"
   },
   {
    "duration": 15,
    "start_time": "2024-05-01T21:08:17.952Z"
   },
   {
    "duration": 8,
    "start_time": "2024-05-01T21:08:17.971Z"
   },
   {
    "duration": 156,
    "start_time": "2024-05-01T21:08:17.981Z"
   },
   {
    "duration": 6,
    "start_time": "2024-05-01T21:08:18.138Z"
   },
   {
    "duration": 21,
    "start_time": "2024-05-01T21:08:18.145Z"
   },
   {
    "duration": 181,
    "start_time": "2024-05-01T21:08:18.168Z"
   },
   {
    "duration": 12,
    "start_time": "2024-05-01T21:08:18.351Z"
   },
   {
    "duration": 142,
    "start_time": "2024-05-01T21:08:18.364Z"
   },
   {
    "duration": 18,
    "start_time": "2024-05-01T21:08:18.508Z"
   },
   {
    "duration": 36,
    "start_time": "2024-05-01T21:08:18.527Z"
   },
   {
    "duration": 8,
    "start_time": "2024-05-01T21:08:18.565Z"
   },
   {
    "duration": 23,
    "start_time": "2024-05-01T21:08:18.574Z"
   },
   {
    "duration": 27,
    "start_time": "2024-05-01T21:08:18.598Z"
   },
   {
    "duration": 28,
    "start_time": "2024-05-01T21:08:18.626Z"
   },
   {
    "duration": 174,
    "start_time": "2024-05-01T21:08:18.655Z"
   },
   {
    "duration": 183,
    "start_time": "2024-05-01T21:08:18.831Z"
   },
   {
    "duration": 158,
    "start_time": "2024-05-01T21:08:19.016Z"
   },
   {
    "duration": 10,
    "start_time": "2024-05-01T21:08:19.176Z"
   },
   {
    "duration": 181,
    "start_time": "2024-05-01T21:08:19.188Z"
   },
   {
    "duration": 8,
    "start_time": "2024-05-01T21:08:19.371Z"
   },
   {
    "duration": 951,
    "start_time": "2024-05-01T21:08:19.380Z"
   },
   {
    "duration": 3,
    "start_time": "2024-05-01T21:08:20.333Z"
   },
   {
    "duration": 16,
    "start_time": "2024-05-01T21:08:20.338Z"
   },
   {
    "duration": 32,
    "start_time": "2024-05-01T21:08:20.355Z"
   },
   {
    "duration": 19,
    "start_time": "2024-05-01T21:08:20.389Z"
   },
   {
    "duration": 148,
    "start_time": "2024-05-01T21:08:20.409Z"
   },
   {
    "duration": 18,
    "start_time": "2024-05-01T21:08:20.559Z"
   },
   {
    "duration": 8,
    "start_time": "2024-05-01T21:08:20.579Z"
   },
   {
    "duration": 16,
    "start_time": "2024-05-01T21:08:20.589Z"
   },
   {
    "duration": 12,
    "start_time": "2024-05-01T21:08:20.607Z"
   },
   {
    "duration": 9,
    "start_time": "2024-05-01T21:08:20.620Z"
   },
   {
    "duration": 35,
    "start_time": "2024-05-01T21:08:20.631Z"
   },
   {
    "duration": 5,
    "start_time": "2024-05-01T21:08:20.668Z"
   },
   {
    "duration": 2330,
    "start_time": "2024-05-01T21:08:20.675Z"
   },
   {
    "duration": 6,
    "start_time": "2024-05-01T21:08:23.007Z"
   },
   {
    "duration": 181,
    "start_time": "2024-05-01T21:08:23.014Z"
   },
   {
    "duration": 5,
    "start_time": "2024-05-01T21:08:23.197Z"
   },
   {
    "duration": 1401,
    "start_time": "2024-05-01T21:08:23.203Z"
   },
   {
    "duration": 180,
    "start_time": "2024-05-01T21:08:24.606Z"
   },
   {
    "duration": 6,
    "start_time": "2024-05-01T21:08:24.788Z"
   },
   {
    "duration": 2364,
    "start_time": "2024-05-01T21:15:00.401Z"
   },
   {
    "duration": 2570,
    "start_time": "2024-05-01T21:15:16.636Z"
   },
   {
    "duration": 44,
    "start_time": "2024-05-02T16:50:01.811Z"
   },
   {
    "duration": 1119,
    "start_time": "2024-05-02T16:50:13.860Z"
   },
   {
    "duration": 304,
    "start_time": "2024-05-02T16:50:15.725Z"
   },
   {
    "duration": 2,
    "start_time": "2024-05-02T16:50:40.781Z"
   },
   {
    "duration": 2,
    "start_time": "2024-05-02T16:50:49.513Z"
   },
   {
    "duration": 3,
    "start_time": "2024-05-02T16:50:55.974Z"
   },
   {
    "duration": 63,
    "start_time": "2024-05-02T16:50:56.524Z"
   },
   {
    "duration": 10,
    "start_time": "2024-05-02T16:51:03.247Z"
   },
   {
    "duration": 7,
    "start_time": "2024-05-02T16:51:05.608Z"
   },
   {
    "duration": 10,
    "start_time": "2024-05-02T16:51:09.454Z"
   },
   {
    "duration": 8,
    "start_time": "2024-05-02T16:51:14.704Z"
   },
   {
    "duration": 11,
    "start_time": "2024-05-02T16:51:17.786Z"
   },
   {
    "duration": 2,
    "start_time": "2024-05-02T16:51:20.876Z"
   },
   {
    "duration": 6,
    "start_time": "2024-05-02T16:51:21.560Z"
   },
   {
    "duration": 9,
    "start_time": "2024-05-02T16:51:23.819Z"
   },
   {
    "duration": 63,
    "start_time": "2024-05-02T16:53:39.106Z"
   },
   {
    "duration": 198,
    "start_time": "2024-05-02T17:05:24.461Z"
   },
   {
    "duration": 192,
    "start_time": "2024-05-02T17:05:45.414Z"
   },
   {
    "duration": 132,
    "start_time": "2024-05-02T17:11:17.324Z"
   },
   {
    "duration": 204,
    "start_time": "2024-05-02T17:11:49.052Z"
   },
   {
    "duration": 195,
    "start_time": "2024-05-02T17:11:54.006Z"
   },
   {
    "duration": 187,
    "start_time": "2024-05-02T17:11:57.780Z"
   },
   {
    "duration": 191,
    "start_time": "2024-05-02T17:12:06.947Z"
   },
   {
    "duration": 201,
    "start_time": "2024-05-02T17:12:16.234Z"
   },
   {
    "duration": 136,
    "start_time": "2024-05-02T17:12:54.424Z"
   },
   {
    "duration": 104,
    "start_time": "2024-05-02T17:13:13.074Z"
   },
   {
    "duration": 102,
    "start_time": "2024-05-02T17:14:06.105Z"
   },
   {
    "duration": 111,
    "start_time": "2024-05-02T17:14:13.642Z"
   },
   {
    "duration": 105,
    "start_time": "2024-05-02T17:14:24.021Z"
   },
   {
    "duration": 119,
    "start_time": "2024-05-02T17:14:28.621Z"
   },
   {
    "duration": 123,
    "start_time": "2024-05-02T17:14:36.184Z"
   },
   {
    "duration": 109,
    "start_time": "2024-05-02T17:14:48.486Z"
   },
   {
    "duration": 108,
    "start_time": "2024-05-02T17:14:58.260Z"
   },
   {
    "duration": 111,
    "start_time": "2024-05-02T17:15:04.481Z"
   },
   {
    "duration": 109,
    "start_time": "2024-05-02T17:15:19.479Z"
   },
   {
    "duration": 152,
    "start_time": "2024-05-02T17:15:25.035Z"
   },
   {
    "duration": 105,
    "start_time": "2024-05-02T17:15:45.662Z"
   },
   {
    "duration": 203,
    "start_time": "2024-05-02T17:15:52.926Z"
   },
   {
    "duration": 195,
    "start_time": "2024-05-02T17:16:51.781Z"
   },
   {
    "duration": 104,
    "start_time": "2024-05-02T17:16:58.121Z"
   },
   {
    "duration": 197,
    "start_time": "2024-05-02T17:17:06.231Z"
   },
   {
    "duration": 107,
    "start_time": "2024-05-02T17:17:10.606Z"
   },
   {
    "duration": 93,
    "start_time": "2024-05-02T17:17:23.810Z"
   },
   {
    "duration": 108,
    "start_time": "2024-05-02T17:17:36.294Z"
   },
   {
    "duration": 115,
    "start_time": "2024-05-02T17:17:45.562Z"
   },
   {
    "duration": 106,
    "start_time": "2024-05-02T17:17:51.752Z"
   },
   {
    "duration": 127,
    "start_time": "2024-05-02T17:28:22.322Z"
   },
   {
    "duration": 179,
    "start_time": "2024-05-02T17:28:31.044Z"
   },
   {
    "duration": 8,
    "start_time": "2024-05-02T17:35:20.473Z"
   },
   {
    "duration": 75,
    "start_time": "2024-05-02T17:37:41.562Z"
   },
   {
    "duration": 98,
    "start_time": "2024-05-02T17:38:18.768Z"
   },
   {
    "duration": 79,
    "start_time": "2024-05-02T17:38:37.168Z"
   },
   {
    "duration": 72,
    "start_time": "2024-05-02T17:38:49.417Z"
   },
   {
    "duration": 67,
    "start_time": "2024-05-02T17:38:56.451Z"
   },
   {
    "duration": 69,
    "start_time": "2024-05-02T17:39:22.291Z"
   },
   {
    "duration": 63,
    "start_time": "2024-05-02T17:39:33.642Z"
   },
   {
    "duration": 305,
    "start_time": "2024-05-02T17:39:54.526Z"
   },
   {
    "duration": 65,
    "start_time": "2024-05-02T17:39:59.272Z"
   },
   {
    "duration": 83,
    "start_time": "2024-05-02T17:40:23.941Z"
   },
   {
    "duration": 69,
    "start_time": "2024-05-02T17:44:25.955Z"
   },
   {
    "duration": 69,
    "start_time": "2024-05-02T17:44:35.304Z"
   },
   {
    "duration": 69,
    "start_time": "2024-05-02T17:45:24.269Z"
   },
   {
    "duration": 80,
    "start_time": "2024-05-02T17:45:32.670Z"
   },
   {
    "duration": 66,
    "start_time": "2024-05-02T17:45:57.040Z"
   },
   {
    "duration": 71,
    "start_time": "2024-05-02T17:46:19.738Z"
   },
   {
    "duration": 68,
    "start_time": "2024-05-02T17:47:11.527Z"
   },
   {
    "duration": 138,
    "start_time": "2024-05-02T17:49:54.200Z"
   },
   {
    "duration": 72,
    "start_time": "2024-05-02T17:50:05.333Z"
   },
   {
    "duration": 67,
    "start_time": "2024-05-02T17:50:29.006Z"
   },
   {
    "duration": 73,
    "start_time": "2024-05-02T17:50:38.689Z"
   },
   {
    "duration": 70,
    "start_time": "2024-05-02T17:50:48.504Z"
   },
   {
    "duration": 67,
    "start_time": "2024-05-02T17:50:58.332Z"
   },
   {
    "duration": 200,
    "start_time": "2024-05-02T17:53:07.814Z"
   },
   {
    "duration": 106,
    "start_time": "2024-05-02T17:53:13.869Z"
   },
   {
    "duration": 104,
    "start_time": "2024-05-02T17:53:33.052Z"
   },
   {
    "duration": 123,
    "start_time": "2024-05-02T17:54:03.576Z"
   },
   {
    "duration": 98,
    "start_time": "2024-05-02T17:54:29.216Z"
   },
   {
    "duration": 109,
    "start_time": "2024-05-02T17:54:36.546Z"
   },
   {
    "duration": 149,
    "start_time": "2024-05-02T17:55:16.205Z"
   },
   {
    "duration": 131,
    "start_time": "2024-05-02T17:55:22.357Z"
   },
   {
    "duration": 200,
    "start_time": "2024-05-02T17:55:36.535Z"
   },
   {
    "duration": 117,
    "start_time": "2024-05-02T17:55:45.670Z"
   },
   {
    "duration": 109,
    "start_time": "2024-05-02T17:55:56.054Z"
   },
   {
    "duration": 110,
    "start_time": "2024-05-02T17:56:05.065Z"
   },
   {
    "duration": 115,
    "start_time": "2024-05-02T17:56:23.277Z"
   },
   {
    "duration": 118,
    "start_time": "2024-05-02T17:56:28.398Z"
   },
   {
    "duration": 143,
    "start_time": "2024-05-02T18:01:14.329Z"
   },
   {
    "duration": 122,
    "start_time": "2024-05-02T18:01:24.030Z"
   },
   {
    "duration": 143,
    "start_time": "2024-05-02T18:01:30.984Z"
   },
   {
    "duration": 150,
    "start_time": "2024-05-02T18:03:35.312Z"
   },
   {
    "duration": 116,
    "start_time": "2024-05-02T18:03:48.182Z"
   },
   {
    "duration": 192,
    "start_time": "2024-05-02T18:04:12.961Z"
   },
   {
    "duration": 73,
    "start_time": "2024-05-02T18:08:03.392Z"
   },
   {
    "duration": 11,
    "start_time": "2024-05-02T18:09:43.516Z"
   },
   {
    "duration": 11,
    "start_time": "2024-05-02T18:14:29.735Z"
   },
   {
    "duration": 11,
    "start_time": "2024-05-02T18:15:07.985Z"
   },
   {
    "duration": 12,
    "start_time": "2024-05-02T18:16:51.025Z"
   },
   {
    "duration": 10,
    "start_time": "2024-05-02T18:23:50.058Z"
   },
   {
    "duration": 11,
    "start_time": "2024-05-02T18:23:56.764Z"
   },
   {
    "duration": 15,
    "start_time": "2024-05-02T18:24:25.646Z"
   },
   {
    "duration": 7,
    "start_time": "2024-05-02T18:34:13.370Z"
   },
   {
    "duration": 1033,
    "start_time": "2024-05-02T18:34:24.083Z"
   },
   {
    "duration": 64,
    "start_time": "2024-05-02T18:34:25.117Z"
   },
   {
    "duration": 12,
    "start_time": "2024-05-02T18:34:25.182Z"
   },
   {
    "duration": 21,
    "start_time": "2024-05-02T18:34:25.195Z"
   },
   {
    "duration": 10,
    "start_time": "2024-05-02T18:34:25.217Z"
   },
   {
    "duration": 12,
    "start_time": "2024-05-02T18:34:25.228Z"
   },
   {
    "duration": 11,
    "start_time": "2024-05-02T18:34:25.241Z"
   },
   {
    "duration": 5,
    "start_time": "2024-05-02T18:34:25.253Z"
   },
   {
    "duration": 9,
    "start_time": "2024-05-02T18:34:25.259Z"
   },
   {
    "duration": 17,
    "start_time": "2024-05-02T18:34:25.270Z"
   },
   {
    "duration": 10,
    "start_time": "2024-05-02T18:34:25.288Z"
   },
   {
    "duration": 5,
    "start_time": "2024-05-02T18:34:25.300Z"
   },
   {
    "duration": 12,
    "start_time": "2024-05-02T18:34:25.307Z"
   },
   {
    "duration": 12,
    "start_time": "2024-05-02T18:34:25.320Z"
   },
   {
    "duration": 15,
    "start_time": "2024-05-02T18:34:25.333Z"
   },
   {
    "duration": 4,
    "start_time": "2024-05-02T18:34:25.349Z"
   },
   {
    "duration": 3,
    "start_time": "2024-05-02T18:34:25.355Z"
   },
   {
    "duration": 6,
    "start_time": "2024-05-02T18:34:25.359Z"
   },
   {
    "duration": 10,
    "start_time": "2024-05-02T18:34:25.366Z"
   },
   {
    "duration": 4,
    "start_time": "2024-05-02T18:34:25.378Z"
   },
   {
    "duration": 13,
    "start_time": "2024-05-02T18:34:25.388Z"
   },
   {
    "duration": 157,
    "start_time": "2024-05-02T18:34:25.402Z"
   },
   {
    "duration": 6,
    "start_time": "2024-05-02T18:34:25.560Z"
   },
   {
    "duration": 93,
    "start_time": "2024-05-02T18:34:25.567Z"
   },
   {
    "duration": 6,
    "start_time": "2024-05-02T18:34:25.661Z"
   },
   {
    "duration": 124,
    "start_time": "2024-05-02T18:34:25.668Z"
   },
   {
    "duration": 20,
    "start_time": "2024-05-02T18:34:25.793Z"
   },
   {
    "duration": 6,
    "start_time": "2024-05-02T18:34:25.816Z"
   },
   {
    "duration": 152,
    "start_time": "2024-05-02T18:34:25.823Z"
   },
   {
    "duration": 10,
    "start_time": "2024-05-02T18:34:25.977Z"
   },
   {
    "duration": 137,
    "start_time": "2024-05-02T18:34:25.989Z"
   },
   {
    "duration": 13,
    "start_time": "2024-05-02T18:34:26.127Z"
   },
   {
    "duration": 14,
    "start_time": "2024-05-02T18:34:26.141Z"
   },
   {
    "duration": 21,
    "start_time": "2024-05-02T18:34:26.156Z"
   },
   {
    "duration": 21,
    "start_time": "2024-05-02T18:34:26.179Z"
   },
   {
    "duration": 16,
    "start_time": "2024-05-02T18:34:26.202Z"
   },
   {
    "duration": 8,
    "start_time": "2024-05-02T18:34:26.219Z"
   },
   {
    "duration": 9,
    "start_time": "2024-05-02T18:34:26.228Z"
   },
   {
    "duration": 141,
    "start_time": "2024-05-02T18:34:26.239Z"
   },
   {
    "duration": 139,
    "start_time": "2024-05-02T18:34:26.381Z"
   },
   {
    "duration": 123,
    "start_time": "2024-05-02T18:34:26.521Z"
   },
   {
    "duration": 6,
    "start_time": "2024-05-02T18:34:26.645Z"
   },
   {
    "duration": 142,
    "start_time": "2024-05-02T18:34:26.652Z"
   },
   {
    "duration": 8,
    "start_time": "2024-05-02T18:34:26.795Z"
   },
   {
    "duration": 940,
    "start_time": "2024-05-02T18:34:26.804Z"
   },
   {
    "duration": 4,
    "start_time": "2024-05-02T18:34:27.745Z"
   },
   {
    "duration": 4,
    "start_time": "2024-05-02T18:34:27.750Z"
   },
   {
    "duration": 19,
    "start_time": "2024-05-02T18:34:27.755Z"
   },
   {
    "duration": 3,
    "start_time": "2024-05-02T18:34:27.776Z"
   },
   {
    "duration": 141,
    "start_time": "2024-05-02T18:34:27.780Z"
   },
   {
    "duration": 13,
    "start_time": "2024-05-02T18:34:27.922Z"
   },
   {
    "duration": 7,
    "start_time": "2024-05-02T18:34:27.937Z"
   },
   {
    "duration": 21,
    "start_time": "2024-05-02T18:34:27.945Z"
   },
   {
    "duration": 9,
    "start_time": "2024-05-02T18:34:27.967Z"
   },
   {
    "duration": 11,
    "start_time": "2024-05-02T18:34:27.978Z"
   },
   {
    "duration": 6,
    "start_time": "2024-05-02T18:34:27.997Z"
   },
   {
    "duration": 4,
    "start_time": "2024-05-02T18:34:28.004Z"
   },
   {
    "duration": 1827,
    "start_time": "2024-05-02T18:34:28.009Z"
   },
   {
    "duration": 5,
    "start_time": "2024-05-02T18:34:29.837Z"
   },
   {
    "duration": 172,
    "start_time": "2024-05-02T18:34:29.843Z"
   },
   {
    "duration": 5,
    "start_time": "2024-05-02T18:34:30.016Z"
   },
   {
    "duration": 1102,
    "start_time": "2024-05-02T18:34:30.022Z"
   },
   {
    "duration": 4,
    "start_time": "2024-05-02T18:34:31.126Z"
   },
   {
    "duration": 230,
    "start_time": "2024-05-02T18:34:31.131Z"
   },
   {
    "duration": 5,
    "start_time": "2024-05-02T18:34:31.362Z"
   },
   {
    "duration": 892,
    "start_time": "2024-05-02T18:41:52.521Z"
   },
   {
    "duration": 952,
    "start_time": "2024-05-02T18:51:02.260Z"
   },
   {
    "duration": 1941,
    "start_time": "2024-05-02T18:51:55.283Z"
   },
   {
    "duration": 66,
    "start_time": "2024-05-02T18:56:49.549Z"
   },
   {
    "duration": 127,
    "start_time": "2024-05-02T19:20:26.681Z"
   },
   {
    "duration": 9,
    "start_time": "2024-05-02T19:24:09.990Z"
   },
   {
    "duration": 10,
    "start_time": "2024-05-02T19:25:05.568Z"
   },
   {
    "duration": 104,
    "start_time": "2024-05-02T19:27:22.530Z"
   },
   {
    "duration": 11,
    "start_time": "2024-05-02T19:28:18.960Z"
   },
   {
    "duration": 3,
    "start_time": "2024-05-02T19:39:31.368Z"
   },
   {
    "duration": 18,
    "start_time": "2024-05-02T19:39:39.405Z"
   },
   {
    "duration": 3,
    "start_time": "2024-05-02T19:40:15.616Z"
   },
   {
    "duration": 71,
    "start_time": "2024-05-02T20:07:00.768Z"
   },
   {
    "duration": 86,
    "start_time": "2024-05-02T20:07:18.496Z"
   },
   {
    "duration": 219,
    "start_time": "2024-05-02T20:07:33.593Z"
   },
   {
    "duration": 67,
    "start_time": "2024-05-02T20:08:49.371Z"
   },
   {
    "duration": 387,
    "start_time": "2024-05-02T20:09:00.347Z"
   },
   {
    "duration": 124,
    "start_time": "2024-05-02T20:09:30.047Z"
   },
   {
    "duration": 81,
    "start_time": "2024-05-02T20:12:56.859Z"
   },
   {
    "duration": 4,
    "start_time": "2024-05-02T20:16:51.056Z"
   },
   {
    "duration": 170,
    "start_time": "2024-05-02T20:16:55.156Z"
   },
   {
    "duration": 409,
    "start_time": "2024-05-02T20:17:05.097Z"
   },
   {
    "duration": 172,
    "start_time": "2024-05-02T20:21:34.254Z"
   },
   {
    "duration": 219,
    "start_time": "2024-05-02T20:21:49.337Z"
   },
   {
    "duration": 229,
    "start_time": "2024-05-02T20:23:23.205Z"
   },
   {
    "duration": 237,
    "start_time": "2024-05-02T20:23:35.298Z"
   },
   {
    "duration": 233,
    "start_time": "2024-05-02T20:23:41.394Z"
   },
   {
    "duration": 232,
    "start_time": "2024-05-02T20:23:50.805Z"
   },
   {
    "duration": 231,
    "start_time": "2024-05-02T20:24:03.158Z"
   },
   {
    "duration": 235,
    "start_time": "2024-05-02T20:24:21.799Z"
   },
   {
    "duration": 230,
    "start_time": "2024-05-02T20:25:33.414Z"
   },
   {
    "duration": 310,
    "start_time": "2024-05-02T20:44:26.503Z"
   },
   {
    "duration": 124,
    "start_time": "2024-05-02T20:44:43.531Z"
   },
   {
    "duration": 7,
    "start_time": "2024-05-02T20:48:58.774Z"
   },
   {
    "duration": 8,
    "start_time": "2024-05-02T20:49:08.821Z"
   },
   {
    "duration": 7,
    "start_time": "2024-05-02T20:50:06.123Z"
   },
   {
    "duration": 4,
    "start_time": "2024-05-02T20:51:17.044Z"
   },
   {
    "duration": 102,
    "start_time": "2024-05-02T20:52:30.966Z"
   },
   {
    "duration": 10,
    "start_time": "2024-05-02T20:52:55.411Z"
   },
   {
    "duration": 130,
    "start_time": "2024-05-02T20:53:39.094Z"
   },
   {
    "duration": 14,
    "start_time": "2024-05-02T20:56:02.707Z"
   },
   {
    "duration": 14,
    "start_time": "2024-05-02T20:56:27.489Z"
   },
   {
    "duration": 122,
    "start_time": "2024-05-02T20:56:49.419Z"
   },
   {
    "duration": 11,
    "start_time": "2024-05-02T20:57:36.610Z"
   },
   {
    "duration": 119,
    "start_time": "2024-05-02T20:57:48.158Z"
   },
   {
    "duration": 6,
    "start_time": "2024-05-02T20:58:48.740Z"
   },
   {
    "duration": 5,
    "start_time": "2024-05-02T20:59:03.814Z"
   },
   {
    "duration": 127,
    "start_time": "2024-05-02T21:09:17.144Z"
   },
   {
    "duration": 213,
    "start_time": "2024-05-02T21:15:11.157Z"
   },
   {
    "duration": 200,
    "start_time": "2024-05-02T21:15:39.923Z"
   },
   {
    "duration": 216,
    "start_time": "2024-05-02T21:15:54.800Z"
   },
   {
    "duration": 6,
    "start_time": "2024-05-02T21:21:52.472Z"
   },
   {
    "duration": 5,
    "start_time": "2024-05-02T21:23:09.871Z"
   },
   {
    "duration": 4,
    "start_time": "2024-05-02T21:23:11.208Z"
   },
   {
    "duration": 5,
    "start_time": "2024-05-02T21:23:30.548Z"
   },
   {
    "duration": 4,
    "start_time": "2024-05-02T21:23:31.187Z"
   },
   {
    "duration": 5,
    "start_time": "2024-05-02T21:23:38.663Z"
   },
   {
    "duration": 4,
    "start_time": "2024-05-02T21:23:39.198Z"
   },
   {
    "duration": 13,
    "start_time": "2024-05-02T21:24:00.969Z"
   },
   {
    "duration": 14,
    "start_time": "2024-05-02T21:25:30.601Z"
   },
   {
    "duration": 13,
    "start_time": "2024-05-02T21:27:17.086Z"
   },
   {
    "duration": 13,
    "start_time": "2024-05-02T21:28:02.877Z"
   },
   {
    "duration": 6,
    "start_time": "2024-05-02T21:28:32.196Z"
   },
   {
    "duration": 5,
    "start_time": "2024-05-02T21:30:47.632Z"
   },
   {
    "duration": 961,
    "start_time": "2024-05-02T21:36:56.971Z"
   },
   {
    "duration": 62,
    "start_time": "2024-05-02T21:36:57.934Z"
   },
   {
    "duration": 9,
    "start_time": "2024-05-02T21:36:57.997Z"
   },
   {
    "duration": 6,
    "start_time": "2024-05-02T21:36:58.007Z"
   },
   {
    "duration": 11,
    "start_time": "2024-05-02T21:36:58.014Z"
   },
   {
    "duration": 13,
    "start_time": "2024-05-02T21:36:58.026Z"
   },
   {
    "duration": 8,
    "start_time": "2024-05-02T21:36:58.040Z"
   },
   {
    "duration": 5,
    "start_time": "2024-05-02T21:36:58.049Z"
   },
   {
    "duration": 22,
    "start_time": "2024-05-02T21:36:58.055Z"
   },
   {
    "duration": 8,
    "start_time": "2024-05-02T21:36:58.079Z"
   },
   {
    "duration": 4,
    "start_time": "2024-05-02T21:36:58.088Z"
   },
   {
    "duration": 10,
    "start_time": "2024-05-02T21:36:58.093Z"
   },
   {
    "duration": 3,
    "start_time": "2024-05-02T21:36:58.104Z"
   },
   {
    "duration": 4,
    "start_time": "2024-05-02T21:36:58.108Z"
   },
   {
    "duration": 5,
    "start_time": "2024-05-02T21:36:58.113Z"
   },
   {
    "duration": 4,
    "start_time": "2024-05-02T21:36:58.119Z"
   },
   {
    "duration": 3,
    "start_time": "2024-05-02T21:36:58.124Z"
   },
   {
    "duration": 6,
    "start_time": "2024-05-02T21:36:58.129Z"
   },
   {
    "duration": 7,
    "start_time": "2024-05-02T21:36:58.136Z"
   },
   {
    "duration": 5,
    "start_time": "2024-05-02T21:36:58.144Z"
   },
   {
    "duration": 35,
    "start_time": "2024-05-02T21:36:58.150Z"
   },
   {
    "duration": 134,
    "start_time": "2024-05-02T21:36:58.186Z"
   },
   {
    "duration": 5,
    "start_time": "2024-05-02T21:36:58.321Z"
   },
   {
    "duration": 78,
    "start_time": "2024-05-02T21:36:58.327Z"
   },
   {
    "duration": 6,
    "start_time": "2024-05-02T21:36:58.406Z"
   },
   {
    "duration": 118,
    "start_time": "2024-05-02T21:36:58.413Z"
   },
   {
    "duration": 4,
    "start_time": "2024-05-02T21:36:58.532Z"
   },
   {
    "duration": 16,
    "start_time": "2024-05-02T21:36:58.539Z"
   },
   {
    "duration": 147,
    "start_time": "2024-05-02T21:36:58.556Z"
   },
   {
    "duration": 6,
    "start_time": "2024-05-02T21:36:58.705Z"
   },
   {
    "duration": 129,
    "start_time": "2024-05-02T21:36:58.712Z"
   },
   {
    "duration": 12,
    "start_time": "2024-05-02T21:36:58.842Z"
   },
   {
    "duration": 3,
    "start_time": "2024-05-02T21:36:58.855Z"
   },
   {
    "duration": 7,
    "start_time": "2024-05-02T21:36:58.859Z"
   },
   {
    "duration": 18,
    "start_time": "2024-05-02T21:36:58.867Z"
   },
   {
    "duration": 14,
    "start_time": "2024-05-02T21:36:58.886Z"
   },
   {
    "duration": 2,
    "start_time": "2024-05-02T21:36:58.901Z"
   },
   {
    "duration": 14,
    "start_time": "2024-05-02T21:36:58.904Z"
   },
   {
    "duration": 7,
    "start_time": "2024-05-02T21:36:58.920Z"
   },
   {
    "duration": 10,
    "start_time": "2024-05-02T21:36:58.928Z"
   },
   {
    "duration": 5,
    "start_time": "2024-05-02T21:36:58.940Z"
   },
   {
    "duration": 11,
    "start_time": "2024-05-02T21:36:58.946Z"
   },
   {
    "duration": 29,
    "start_time": "2024-05-02T21:36:58.958Z"
   },
   {
    "duration": 10,
    "start_time": "2024-05-02T21:36:58.988Z"
   },
   {
    "duration": 231,
    "start_time": "2024-05-02T21:36:58.999Z"
   },
   {
    "duration": 218,
    "start_time": "2024-05-02T21:36:59.232Z"
   },
   {
    "duration": 6,
    "start_time": "2024-05-02T21:36:59.452Z"
   },
   {
    "duration": 6,
    "start_time": "2024-05-02T21:36:59.460Z"
   },
   {
    "duration": 864,
    "start_time": "2024-05-02T21:36:59.467Z"
   },
   {
    "duration": 3,
    "start_time": "2024-05-02T21:37:00.333Z"
   },
   {
    "duration": 50,
    "start_time": "2024-05-02T21:37:00.337Z"
   },
   {
    "duration": 52,
    "start_time": "2024-05-02T21:37:00.389Z"
   },
   {
    "duration": 44,
    "start_time": "2024-05-02T21:37:00.442Z"
   },
   {
    "duration": 168,
    "start_time": "2024-05-02T21:37:00.488Z"
   },
   {
    "duration": 14,
    "start_time": "2024-05-02T21:37:00.657Z"
   },
   {
    "duration": 118,
    "start_time": "2024-05-02T21:37:00.672Z"
   },
   {
    "duration": 104,
    "start_time": "2024-05-02T21:37:00.792Z"
   },
   {
    "duration": 70,
    "start_time": "2024-05-02T21:37:00.897Z"
   },
   {
    "duration": 27,
    "start_time": "2024-05-02T21:37:00.968Z"
   },
   {
    "duration": 51,
    "start_time": "2024-05-02T21:37:00.996Z"
   },
   {
    "duration": 26,
    "start_time": "2024-05-02T21:37:01.049Z"
   },
   {
    "duration": 1721,
    "start_time": "2024-05-02T21:37:01.076Z"
   },
   {
    "duration": 4,
    "start_time": "2024-05-02T21:37:02.799Z"
   },
   {
    "duration": 144,
    "start_time": "2024-05-02T21:37:02.804Z"
   },
   {
    "duration": 4,
    "start_time": "2024-05-02T21:37:02.950Z"
   },
   {
    "duration": 961,
    "start_time": "2024-05-02T21:37:02.955Z"
   },
   {
    "duration": 4,
    "start_time": "2024-05-02T21:37:03.917Z"
   },
   {
    "duration": 820,
    "start_time": "2024-05-02T21:37:03.923Z"
   },
   {
    "duration": 137,
    "start_time": "2024-05-02T21:37:04.744Z"
   },
   {
    "duration": 4,
    "start_time": "2024-05-02T21:37:04.884Z"
   },
   {
    "duration": 5,
    "start_time": "2024-05-02T21:37:51.069Z"
   },
   {
    "duration": 1714,
    "start_time": "2024-05-02T21:37:52.210Z"
   },
   {
    "duration": 392,
    "start_time": "2024-05-02T21:38:32.060Z"
   },
   {
    "duration": 1827,
    "start_time": "2024-05-02T21:38:44.413Z"
   },
   {
    "duration": 1793,
    "start_time": "2024-05-02T21:39:00.536Z"
   },
   {
    "duration": 1887,
    "start_time": "2024-05-02T21:39:09.357Z"
   },
   {
    "duration": 187,
    "start_time": "2024-05-02T21:40:14.329Z"
   },
   {
    "duration": 199,
    "start_time": "2024-05-02T21:41:17.787Z"
   },
   {
    "duration": 195,
    "start_time": "2024-05-02T21:41:29.511Z"
   },
   {
    "duration": 49,
    "start_time": "2024-05-03T19:29:56.533Z"
   },
   {
    "duration": 1334,
    "start_time": "2024-05-03T19:30:10.110Z"
   },
   {
    "duration": 295,
    "start_time": "2024-05-03T19:30:11.446Z"
   },
   {
    "duration": 11,
    "start_time": "2024-05-03T19:30:11.743Z"
   },
   {
    "duration": 7,
    "start_time": "2024-05-03T19:30:11.756Z"
   },
   {
    "duration": 27,
    "start_time": "2024-05-03T19:30:11.765Z"
   },
   {
    "duration": 23,
    "start_time": "2024-05-03T19:30:11.793Z"
   },
   {
    "duration": 15,
    "start_time": "2024-05-03T19:30:11.818Z"
   },
   {
    "duration": 6,
    "start_time": "2024-05-03T19:30:11.835Z"
   },
   {
    "duration": 30,
    "start_time": "2024-05-03T19:30:11.842Z"
   },
   {
    "duration": 10,
    "start_time": "2024-05-03T19:30:11.874Z"
   },
   {
    "duration": 5,
    "start_time": "2024-05-03T19:30:11.885Z"
   },
   {
    "duration": 22,
    "start_time": "2024-05-03T19:30:11.892Z"
   },
   {
    "duration": 5,
    "start_time": "2024-05-03T19:30:11.916Z"
   },
   {
    "duration": 6,
    "start_time": "2024-05-03T19:30:11.924Z"
   },
   {
    "duration": 18,
    "start_time": "2024-05-03T19:30:11.932Z"
   },
   {
    "duration": 6,
    "start_time": "2024-05-03T19:30:11.951Z"
   },
   {
    "duration": 23,
    "start_time": "2024-05-03T19:30:11.959Z"
   },
   {
    "duration": 8,
    "start_time": "2024-05-03T19:30:11.983Z"
   },
   {
    "duration": 9,
    "start_time": "2024-05-03T19:30:11.992Z"
   },
   {
    "duration": 6,
    "start_time": "2024-05-03T19:30:12.003Z"
   },
   {
    "duration": 4,
    "start_time": "2024-05-03T19:30:12.011Z"
   },
   {
    "duration": 191,
    "start_time": "2024-05-03T19:30:12.017Z"
   },
   {
    "duration": 5,
    "start_time": "2024-05-03T19:30:12.210Z"
   },
   {
    "duration": 106,
    "start_time": "2024-05-03T19:30:12.217Z"
   },
   {
    "duration": 7,
    "start_time": "2024-05-03T19:30:12.325Z"
   },
   {
    "duration": 154,
    "start_time": "2024-05-03T19:30:12.333Z"
   },
   {
    "duration": 5,
    "start_time": "2024-05-03T19:30:12.489Z"
   },
   {
    "duration": 14,
    "start_time": "2024-05-03T19:30:12.495Z"
   },
   {
    "duration": 193,
    "start_time": "2024-05-03T19:30:12.510Z"
   },
   {
    "duration": 8,
    "start_time": "2024-05-03T19:30:12.704Z"
   },
   {
    "duration": 156,
    "start_time": "2024-05-03T19:30:12.713Z"
   },
   {
    "duration": 16,
    "start_time": "2024-05-03T19:30:12.871Z"
   },
   {
    "duration": 7,
    "start_time": "2024-05-03T19:30:12.889Z"
   },
   {
    "duration": 17,
    "start_time": "2024-05-03T19:30:12.898Z"
   },
   {
    "duration": 11,
    "start_time": "2024-05-03T19:30:12.917Z"
   },
   {
    "duration": 17,
    "start_time": "2024-05-03T19:30:12.929Z"
   },
   {
    "duration": 3,
    "start_time": "2024-05-03T19:30:12.948Z"
   },
   {
    "duration": 31,
    "start_time": "2024-05-03T19:30:12.952Z"
   },
   {
    "duration": 8,
    "start_time": "2024-05-03T19:30:12.984Z"
   },
   {
    "duration": 15,
    "start_time": "2024-05-03T19:30:12.993Z"
   },
   {
    "duration": 7,
    "start_time": "2024-05-03T19:30:13.012Z"
   },
   {
    "duration": 30,
    "start_time": "2024-05-03T19:30:13.020Z"
   },
   {
    "duration": 11,
    "start_time": "2024-05-03T19:30:13.051Z"
   },
   {
    "duration": 13,
    "start_time": "2024-05-03T19:30:13.064Z"
   },
   {
    "duration": 315,
    "start_time": "2024-05-03T19:30:13.078Z"
   },
   {
    "duration": 242,
    "start_time": "2024-05-03T19:30:13.395Z"
   },
   {
    "duration": 7,
    "start_time": "2024-05-03T19:30:13.638Z"
   },
   {
    "duration": 8,
    "start_time": "2024-05-03T19:30:13.646Z"
   },
   {
    "duration": 841,
    "start_time": "2024-05-03T19:30:13.656Z"
   },
   {
    "duration": 4,
    "start_time": "2024-05-03T19:30:14.498Z"
   },
   {
    "duration": 22,
    "start_time": "2024-05-03T19:30:14.503Z"
   },
   {
    "duration": 23,
    "start_time": "2024-05-03T19:30:14.526Z"
   },
   {
    "duration": 9,
    "start_time": "2024-05-03T19:30:14.550Z"
   },
   {
    "duration": 204,
    "start_time": "2024-05-03T19:30:14.560Z"
   },
   {
    "duration": 17,
    "start_time": "2024-05-03T19:30:14.766Z"
   },
   {
    "duration": 6,
    "start_time": "2024-05-03T19:30:14.784Z"
   },
   {
    "duration": 8,
    "start_time": "2024-05-03T19:30:14.791Z"
   },
   {
    "duration": 7,
    "start_time": "2024-05-03T19:30:14.800Z"
   },
   {
    "duration": 14,
    "start_time": "2024-05-03T19:30:14.808Z"
   },
   {
    "duration": 24,
    "start_time": "2024-05-03T19:30:14.823Z"
   },
   {
    "duration": 4,
    "start_time": "2024-05-03T19:30:14.848Z"
   },
   {
    "duration": 2260,
    "start_time": "2024-05-03T19:30:14.853Z"
   },
   {
    "duration": 6,
    "start_time": "2024-05-03T19:30:17.115Z"
   },
   {
    "duration": 168,
    "start_time": "2024-05-03T19:30:17.123Z"
   },
   {
    "duration": 5,
    "start_time": "2024-05-03T19:30:17.293Z"
   },
   {
    "duration": 1301,
    "start_time": "2024-05-03T19:30:17.299Z"
   },
   {
    "duration": 4,
    "start_time": "2024-05-03T19:30:18.602Z"
   },
   {
    "duration": 1110,
    "start_time": "2024-05-03T19:30:18.608Z"
   },
   {
    "duration": 157,
    "start_time": "2024-05-03T19:30:19.720Z"
   },
   {
    "duration": 6,
    "start_time": "2024-05-03T19:30:19.879Z"
   },
   {
    "duration": 5,
    "start_time": "2024-05-03T19:30:27.784Z"
   },
   {
    "duration": 6,
    "start_time": "2024-05-03T19:30:33.959Z"
   },
   {
    "duration": 6,
    "start_time": "2024-05-03T19:30:38.817Z"
   },
   {
    "duration": 2236,
    "start_time": "2024-05-03T19:31:02.867Z"
   },
   {
    "duration": 2579,
    "start_time": "2024-05-03T19:31:09.103Z"
   },
   {
    "duration": 6,
    "start_time": "2024-05-03T19:31:16.782Z"
   },
   {
    "duration": 147,
    "start_time": "2024-05-03T19:31:32.008Z"
   },
   {
    "duration": 5,
    "start_time": "2024-05-03T19:31:37.174Z"
   },
   {
    "duration": 5,
    "start_time": "2024-05-03T19:31:46.446Z"
   },
   {
    "duration": 5,
    "start_time": "2024-05-03T19:32:21.898Z"
   },
   {
    "duration": 1248,
    "start_time": "2024-05-03T19:33:44.786Z"
   },
   {
    "duration": 6,
    "start_time": "2024-05-03T19:35:59.136Z"
   },
   {
    "duration": 5,
    "start_time": "2024-05-03T19:36:05.028Z"
   },
   {
    "duration": 175,
    "start_time": "2024-05-03T19:36:09.617Z"
   },
   {
    "duration": 5,
    "start_time": "2024-05-03T19:36:14.984Z"
   },
   {
    "duration": 6,
    "start_time": "2024-05-03T19:37:00.354Z"
   }
  ],
  "kernelspec": {
   "display_name": "Python 3 (ipykernel)",
   "language": "python",
   "name": "python3"
  },
  "language_info": {
   "codemirror_mode": {
    "name": "ipython",
    "version": 3
   },
   "file_extension": ".py",
   "mimetype": "text/x-python",
   "name": "python",
   "nbconvert_exporter": "python",
   "pygments_lexer": "ipython3",
   "version": "3.11.7"
  },
  "toc": {
   "base_numbering": 1,
   "nav_menu": {},
   "number_sections": true,
   "sideBar": true,
   "skip_h1_title": true,
   "title_cell": "Table of Contents",
   "title_sidebar": "Contents",
   "toc_cell": false,
   "toc_position": {},
   "toc_section_display": true,
   "toc_window_display": false
  }
 },
 "nbformat": 4,
 "nbformat_minor": 5
}
